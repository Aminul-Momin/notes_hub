{
 "cells": [
  {
   "cell_type": "markdown",
   "id": "69f4e7ab",
   "metadata": {
    "toc": true
   },
   "source": [
    "<h1>Table of Contents<span class=\"tocSkip\"></span></h1>\n",
    "<div class=\"toc\"><ul class=\"toc-item\"><li><span><a href=\"#time:\" data-toc-modified-id=\"time:-1\">time:</a></span></li><li><span><a href=\"#datetime\" data-toc-modified-id=\"datetime-2\"><a href=\"https://docs.python.org/3/library/datetime.html#strftime-and-strptime-format-codes\" rel=\"nofollow\" target=\"_blank\">datetime</a></a></span><ul class=\"toc-item\"><li><ul class=\"toc-item\"><li><span><a href=\"#datetime.date\" data-toc-modified-id=\"datetime.date-2.0.1\"><a href=\"https://docs.python.org/3/library/datetime.html#date-objects\" rel=\"nofollow\" target=\"_blank\"><code>datetime.date</code></a></a></span></li><li><span><a href=\"#-datetime.time\" data-toc-modified-id=\"-datetime.time-2.0.2\"><a href=\"https://docs.python.org/3/library/datetime.html#time-objects\" rel=\"nofollow\" target=\"_blank\"> <code>datetime.time</code></a></a></span></li><li><span><a href=\"#datetime.datetime\" data-toc-modified-id=\"datetime.datetime-2.0.3\"><a href=\"https://docs.python.org/3/library/datetime.html#datetime-objects\" rel=\"nofollow\" target=\"_blank\"><code>datetime.datetime</code></a></a></span></li><li><span><a href=\"#datetime.timedelta\" data-toc-modified-id=\"datetime.timedelta-2.0.4\"><a href=\"https://docs.python.org/3/library/datetime.html#timedelta-objects\" rel=\"nofollow\" target=\"_blank\"><code>datetime.timedelta</code></a></a></span></li><li><span><a href=\"#str-to-date-and-date-to-str\" data-toc-modified-id=\"str-to-date-and-date-to-str-2.0.5\"><code>str</code> to <code>date</code> and <code>date</code> to <code>str</code></a></span></li></ul></li></ul></li><li><span><a href=\"#os:\" data-toc-modified-id=\"os:-3\"><a href=\"https://docs.python.org/3.8/library/os.html\" rel=\"nofollow\" target=\"_blank\">os</a>:</a></span><ul class=\"toc-item\"><li><ul class=\"toc-item\"><li><span><a href=\"#os.path:\" data-toc-modified-id=\"os.path:-3.0.1\">os.path:</a></span></li><li><span><a href=\"#Metadata-of-File:\" data-toc-modified-id=\"Metadata-of-File:-3.0.2\">Metadata of File:</a></span></li></ul></li></ul></li><li><span><a href=\"#pathlib:\" data-toc-modified-id=\"pathlib:-4\">pathlib:</a></span></li><li><span><a href=\"#shutil\" data-toc-modified-id=\"shutil-5\"><a href=\"https://docs.python.org/3/library/shutil.html\" rel=\"nofollow\" target=\"_blank\">shutil</a></a></span></li><li><span><a href=\"#glob:\" data-toc-modified-id=\"glob:-6\"><a href=\"https://docs.python.org/3.8/library/glob.html\" rel=\"nofollow\" target=\"_blank\">glob</a>:</a></span></li><li><span><a href=\"#sys:\" data-toc-modified-id=\"sys:-7\"><a href=\"https://docs.python.org/3.8/library/sys.html\" rel=\"nofollow\" target=\"_blank\">sys</a>:</a></span></li><li><span><a href=\"#functools:\" data-toc-modified-id=\"functools:-8\">functools:</a></span></li><li><span><a href=\"#itertools:\" data-toc-modified-id=\"itertools:-9\">itertools:</a></span><ul class=\"toc-item\"><li><ul class=\"toc-item\"><li><span><a href=\"#itertools.accumulate():\" data-toc-modified-id=\"itertools.accumulate():-9.0.1\"><code>itertools.accumulate()</code>:</a></span></li><li><span><a href=\"#itertools.chain():\" data-toc-modified-id=\"itertools.chain():-9.0.2\"><code>itertools.chain()</code>:</a></span></li><li><span><a href=\"#itertools.combinations():\" data-toc-modified-id=\"itertools.combinations():-9.0.3\"><code>itertools.combinations()</code>:</a></span></li><li><span><a href=\"#itertools.combinations_with_replacement():\" data-toc-modified-id=\"itertools.combinations_with_replacement():-9.0.4\"><code>itertools.combinations_with_replacement()</code>:</a></span></li><li><span><a href=\"#itertools.compress():\" data-toc-modified-id=\"itertools.compress():-9.0.5\"><code>itertools.compress()</code>:</a></span></li><li><span><a href=\"#itertools.count():\" data-toc-modified-id=\"itertools.count():-9.0.6\"><code>itertools.count()</code>:</a></span></li><li><span><a href=\"#itertools.cycle():\" data-toc-modified-id=\"itertools.cycle():-9.0.7\"><code>itertools.cycle()</code>:</a></span></li><li><span><a href=\"#itertools.dropwhile():\" data-toc-modified-id=\"itertools.dropwhile():-9.0.8\"><code>itertools.dropwhile()</code>:</a></span></li><li><span><a href=\"#itertools.groupby():\" data-toc-modified-id=\"itertools.groupby():-9.0.9\"><code>itertools.groupby()</code>:</a></span></li><li><span><a href=\"#itertools.slice():\" data-toc-modified-id=\"itertools.slice():-9.0.10\"><code>itertools.slice()</code>:</a></span></li><li><span><a href=\"#itertools.permutations():\" data-toc-modified-id=\"itertools.permutations():-9.0.11\"><code>itertools.permutations()</code>:</a></span></li><li><span><a href=\"#itertools.product():\" data-toc-modified-id=\"itertools.product():-9.0.12\"><code>itertools.product()</code>:</a></span></li></ul></li></ul></li><li><span><a href=\"#setuptools:\" data-toc-modified-id=\"setuptools:-10\">setuptools:</a></span></li><li><span><a href=\"#random:\" data-toc-modified-id=\"random:-11\">random:</a></span></li><li><span><a href=\"#PIL:\" data-toc-modified-id=\"PIL:-12\">PIL:</a></span></li><li><span><a href=\"#json-RealPython:-Working-With-JSON-Data-in-Python\" data-toc-modified-id=\"json-RealPython:-Working-With-JSON-Data-in-Python-13\">json <a href=\"https://realpython.com/python-json/\" rel=\"nofollow\" target=\"_blank\">RealPython: Working With JSON Data in Python</a></a></span></li><li><span><a href=\"#pickle\" data-toc-modified-id=\"pickle-14\">pickle</a></span></li><li><span><a href=\"#requests:-REST-APIs\" data-toc-modified-id=\"requests:-REST-APIs-15\">requests: <a href=\"https://realpython.com/api-integration-in-python/\" rel=\"nofollow\" target=\"_blank\">REST APIs</a></a></span><ul class=\"toc-item\"><li><ul class=\"toc-item\"><li><span><a href=\"#Corey:-Python-Requests-Tutorial\" data-toc-modified-id=\"Corey:-Python-Requests-Tutorial-15.0.1\"><a href=\"https://www.youtube.com/watch?v=tb8gHvYlCFs&amp;t=827s\" rel=\"nofollow\" target=\"_blank\">Corey:-Python Requests Tutorial</a></a></span></li></ul></li></ul></li><li><span><a href=\"#argparse\" data-toc-modified-id=\"argparse-16\">argparse</a></span></li><li><span><a href=\"#re\" data-toc-modified-id=\"re-17\">re</a></span><ul class=\"toc-item\"><li><ul class=\"toc-item\"><li><span><a href=\"#Reference-for-RegEx\" data-toc-modified-id=\"Reference-for-RegEx-17.0.1\">Reference for RegEx</a></span></li><li><span><a href=\"#RegEx-in-Python\" data-toc-modified-id=\"RegEx-in-Python-17.0.2\">RegEx in Python</a></span></li></ul></li></ul></li><li><span><a href=\"#typing:\" data-toc-modified-id=\"typing:-18\">typing:</a></span></li><li><span><a href=\"#pytest\" data-toc-modified-id=\"pytest-19\">pytest</a></span></li><li><span><a href=\"#isort\" data-toc-modified-id=\"isort-20\">isort</a></span></li><li><span><a href=\"#SQL-in-Python:\" data-toc-modified-id=\"SQL-in-Python:-21\">SQL in Python:</a></span><ul class=\"toc-item\"><li><span><a href=\"#Read-and-Write-to-SQL-Query-or-Database-Table\" data-toc-modified-id=\"Read-and-Write-to-SQL-Query-or-Database-Table-21.1\">Read and Write to SQL Query or Database Table</a></span></li></ul></li><li><span><a href=\"#Excel-in-Python:\" data-toc-modified-id=\"Excel-in-Python:-22\">Excel in Python:</a></span><ul class=\"toc-item\"><li><span><a href=\"#Read-multiple-sheets-from-the-same-file\" data-toc-modified-id=\"Read-multiple-sheets-from-the-same-file-22.1\">Read multiple sheets from the same file</a></span></li><li><span><a href=\"#Read-and-Write-to-Excel\" data-toc-modified-id=\"Read-and-Write-to-Excel-22.2\">Read and Write to Excel</a></span></li></ul></li></ul></div>"
   ]
  },
  {
   "cell_type": "code",
   "execution_count": 2,
   "id": "5a476f91",
   "metadata": {},
   "outputs": [],
   "source": [
    "import random\n",
    "import time"
   ]
  },
  {
   "cell_type": "markdown",
   "id": "64e68156",
   "metadata": {},
   "source": [
    "# Important Python Packages"
   ]
  },
  {
   "cell_type": "markdown",
   "id": "296d191f",
   "metadata": {
    "heading_collapsed": true
   },
   "source": [
    "## time:"
   ]
  },
  {
   "cell_type": "code",
   "execution_count": 5,
   "id": "3abf2539",
   "metadata": {
    "hidden": true
   },
   "outputs": [],
   "source": [
    "# dir(time)"
   ]
  },
  {
   "cell_type": "markdown",
   "id": "453b48ac",
   "metadata": {
    "hidden": true
   },
   "source": [
    "`altzone()`\n",
    "`asctime()`\n",
    "`ctime()`\n",
    "`daylight()`\n",
    "`get_clock_info()`\n",
    "`gmtime()`\n",
    "`localtime()`\n",
    "`mktime()`\n",
    "`monotonic()`\n",
    "`monotonic_ns()`\n",
    "`perf_counter()`\n",
    "`perf_counter_ns()`\n",
    "`process_time()`\n",
    "`process_time_ns()`\n",
    "`sleep()`\n",
    "`strftime()`\n",
    "`strptime()`\n",
    "`struct_time()`\n",
    "`time()`\n",
    "`time_ns()`\n",
    "`timezone()`\n",
    "`tzname()`\n",
    "`tzset()`"
   ]
  },
  {
   "cell_type": "code",
   "execution_count": 3,
   "id": "c6d50bc3",
   "metadata": {
    "hidden": true
   },
   "outputs": [
    {
     "name": "stdout",
     "output_type": "stream",
     "text": [
      "Help on built-in function sleep in module time:\n",
      "\n",
      "sleep(...)\n",
      "    sleep(seconds)\n",
      "    \n",
      "    Delay execution for a given number of seconds.  The argument may be\n",
      "    a floating point number for subsecond precision.\n",
      "\n"
     ]
    }
   ],
   "source": [
    "help(time.sleep)"
   ]
  },
  {
   "cell_type": "code",
   "execution_count": null,
   "id": "ca0ea997",
   "metadata": {
    "hidden": true
   },
   "outputs": [],
   "source": []
  },
  {
   "cell_type": "markdown",
   "id": "7d90b47f",
   "metadata": {
    "heading_collapsed": true
   },
   "source": [
    "## [datetime](https://docs.python.org/3/library/datetime.html#strftime-and-strptime-format-codes)"
   ]
  },
  {
   "cell_type": "markdown",
   "id": "741c0a89",
   "metadata": {
    "hidden": true
   },
   "source": [
    "- Date and time objects may be categorized as “aware” or “naive” depending on whether or not they include timezone information.\n",
    "- The distinction between aware and naive doesn’t apply to timedelta objects.\n",
    "- UTC (Cordinated Universal Time)\n",
    "- ISO (International Organization of Standerization)"
   ]
  },
  {
   "cell_type": "markdown",
   "id": "1255d319",
   "metadata": {
    "hidden": true
   },
   "source": [
    "- Available Types\n",
    "\n",
    "  - `class datetime.date`:\n",
    "An idealized naive date, assuming the current Gregorian calendar always was, and always will be, in effect. Attributes: year, month, and day.\n",
    "\n",
    "  - `class datetime.time`:\n",
    "An idealized time, independent of any particular day, assuming that every day has exactly 24*60*60 seconds. (There is no notion of “leap seconds” here.) Attributes: hour, minute, second, microsecond, and tzinfo.\n",
    "\n",
    "  - `class datetime.datetime`:\n",
    "A combination of a date and a time. Attributes: year, month, day, hour, minute, second, microsecond, and tzinfo.\n",
    "\n",
    "  - `class datetime.timedelta`:\n",
    "A duration expressing the difference between two date, time, or datetime instances to microsecond resolution.\n",
    "\n",
    "  - `class datetime.tzinfo`:\n",
    "An abstract base class for time zone information objects. These are used by the datetime and time classes to provide a customizable notion of time adjustment (for example, to account for time zone and/or daylight saving time).\n",
    "\n",
    "  - `class datetime.timezone`:\n",
    "A class that implements the tzinfo abstract base class as a fixed offset from the UTC."
   ]
  },
  {
   "cell_type": "markdown",
   "id": "6d07d973",
   "metadata": {
    "hidden": true
   },
   "source": [
    "- [Corey: Datetime Module - How to work with Dates, Times, Timedeltas, and Timezones](https://www.youtube.com/watch?v=eirjjyP2qcQ&t=1s)\n",
    "- [Corey: Pandas Tutorial (Part 10): Working with Dates and Time Series Data](https://www.youtube.com/watch?v=UFuo7EHI8zc)"
   ]
  },
  {
   "cell_type": "code",
   "execution_count": 5,
   "id": "2ae7b0dd",
   "metadata": {
    "hidden": true
   },
   "outputs": [],
   "source": [
    "import datetime\n",
    "# import pytz"
   ]
  },
  {
   "cell_type": "markdown",
   "id": "f742c347",
   "metadata": {
    "heading_collapsed": true,
    "hidden": true
   },
   "source": [
    "#### [`datetime.date`](https://docs.python.org/3/library/datetime.html#date-objects)"
   ]
  },
  {
   "cell_type": "code",
   "execution_count": 10,
   "id": "1fafc298",
   "metadata": {
    "hidden": true
   },
   "outputs": [],
   "source": [
    "# Naive Date\n",
    "# d = datetime.date(2001, 9, 11)"
   ]
  },
  {
   "cell_type": "code",
   "execution_count": 11,
   "id": "55eec1fe",
   "metadata": {
    "hidden": true
   },
   "outputs": [],
   "source": [
    "tday = datetime.date.today()"
   ]
  },
  {
   "cell_type": "code",
   "execution_count": 16,
   "id": "a980ad04",
   "metadata": {
    "hidden": true
   },
   "outputs": [
    {
     "data": {
      "text/plain": [
       "5"
      ]
     },
     "execution_count": 16,
     "metadata": {},
     "output_type": "execute_result"
    }
   ],
   "source": [
    "tday.weekday()     # Monday is 0 and Sunday is 6"
   ]
  },
  {
   "cell_type": "code",
   "execution_count": 18,
   "id": "ae4f993f",
   "metadata": {
    "hidden": true
   },
   "outputs": [
    {
     "data": {
      "text/plain": [
       "6"
      ]
     },
     "execution_count": 18,
     "metadata": {},
     "output_type": "execute_result"
    }
   ],
   "source": [
    "tday.isoweekday()  # Monday is 1 and Sunday is 7"
   ]
  },
  {
   "cell_type": "markdown",
   "id": "c46a93a6",
   "metadata": {
    "heading_collapsed": true,
    "hidden": true
   },
   "source": [
    "#### [ `datetime.time`](https://docs.python.org/3/library/datetime.html#time-objects)"
   ]
  },
  {
   "cell_type": "code",
   "execution_count": null,
   "id": "14f36424",
   "metadata": {
    "hidden": true
   },
   "outputs": [],
   "source": [
    "t = datetime.time(9, 30, 45, 100000)"
   ]
  },
  {
   "cell_type": "markdown",
   "id": "4d9f208d",
   "metadata": {
    "heading_collapsed": true,
    "hidden": true
   },
   "source": [
    "#### [`datetime.datetime`](https://docs.python.org/3/library/datetime.html#datetime-objects)"
   ]
  },
  {
   "cell_type": "code",
   "execution_count": null,
   "id": "9fd3cb4c",
   "metadata": {
    "hidden": true
   },
   "outputs": [],
   "source": [
    "# dt = datetime.datetime.today()\n",
    "# dtnow = datetime.datetime.now()\n",
    "# print(dir(datetime.datetime))\n",
    "# print(dt)\n",
    "# print(dtnow)\n",
    "\n",
    "dt = datetime.datetime(2016, 7, 24, 12, 30, 45, tzinfo=pytz.UTC)\n",
    "# print(dir(dt))\n",
    "\n",
    "dt_utcnow = datetime.datetime.now(tz=pytz.UTC)\n",
    "# print(dt_utcnow)\n",
    "\n",
    "dt_utcnow2 = datetime.datetime.utcnow().replace(tzinfo=pytz.UTC)\n",
    "# print(dt_utcnow2)\n",
    "\n",
    "# dt_mtn = dt_utcnow.astimezone(pytz.timezone('US/Mountain'))\n",
    "# print(dt_mtn)\n",
    "\n",
    "dt_mtn = datetime.datetime.now()\n",
    "\n",
    "mtn_tz = pytz.timezone('US/Mountain')\n",
    "dt_mtn = mtn_tz.localize(dt_mtn)\n",
    "\n",
    "# print(dt_mtn)\n",
    "\n",
    "dt_east = dt_mtn.astimezone(pytz.timezone('US/Eastern'))\n",
    "# print(dt_east)"
   ]
  },
  {
   "cell_type": "markdown",
   "id": "2f3cca61",
   "metadata": {
    "heading_collapsed": true,
    "hidden": true
   },
   "source": [
    "#### [`datetime.timedelta`](https://docs.python.org/3/library/datetime.html#timedelta-objects)"
   ]
  },
  {
   "cell_type": "code",
   "execution_count": 19,
   "id": "ea6e3f98",
   "metadata": {
    "hidden": true
   },
   "outputs": [
    {
     "data": {
      "text/plain": [
       "datetime.timedelta(0)"
      ]
     },
     "execution_count": 19,
     "metadata": {},
     "output_type": "execute_result"
    }
   ],
   "source": [
    "datetime.timedelta(days=0, seconds=0, microseconds=0, milliseconds=0, minutes=0, hours=0, weeks=0)"
   ]
  },
  {
   "cell_type": "code",
   "execution_count": null,
   "id": "3272f7d3",
   "metadata": {
    "hidden": true
   },
   "outputs": [],
   "source": [
    "tdelta = datetime.timedelta(hours=12)\n",
    "\n",
    "# print(tday + tdelta)\n",
    "\n",
    "# date2 = date1 + timedelta\n",
    "# timedelta = date1 + date2\n",
    "\n",
    "bday = datetime.date(2016, 9, 24)\n",
    "\n",
    "till_bday = bday - tday\n",
    "\n",
    "# print(till_bday.days)"
   ]
  },
  {
   "cell_type": "markdown",
   "id": "b63e170a",
   "metadata": {
    "hidden": true
   },
   "source": [
    "#### `str` to `date` and `date` to `str`"
   ]
  },
  {
   "cell_type": "markdown",
   "id": "9b6e2895",
   "metadata": {
    "hidden": true
   },
   "source": [
    "- [`strftime()` and `strptime()` Format Codes](https://docs.python.org/3/library/datetime.html#strftime-and-strptime-format-codes)"
   ]
  },
  {
   "cell_type": "code",
   "execution_count": 8,
   "id": "e036738d",
   "metadata": {
    "hidden": true
   },
   "outputs": [
    {
     "data": {
      "text/plain": [
       "'November 24, 2022'"
      ]
     },
     "execution_count": 8,
     "metadata": {},
     "output_type": "execute_result"
    }
   ],
   "source": [
    "dt_mtn = datetime.datetime.now()\n",
    "dt_mtn.strftime('%B %d, %Y')"
   ]
  },
  {
   "cell_type": "code",
   "execution_count": 7,
   "id": "cf7c3367",
   "metadata": {
    "hidden": true
   },
   "outputs": [
    {
     "data": {
      "text/plain": [
       "datetime.datetime(2016, 7, 24, 0, 0)"
      ]
     },
     "execution_count": 7,
     "metadata": {},
     "output_type": "execute_result"
    }
   ],
   "source": [
    "dt_str = 'July 24, 2016'\n",
    "dt = datetime.datetime.strptime(dt_str, '%B %d, %Y'); dt"
   ]
  },
  {
   "cell_type": "code",
   "execution_count": 26,
   "id": "32cfab7e",
   "metadata": {
    "hidden": true
   },
   "outputs": [
    {
     "data": {
      "text/plain": [
       "'July 24, 2016'"
      ]
     },
     "execution_count": 26,
     "metadata": {},
     "output_type": "execute_result"
    }
   ],
   "source": [
    "datetime.datetime.strftime(dt, '%B %d, %Y')      # Datetime to String"
   ]
  },
  {
   "cell_type": "code",
   "execution_count": null,
   "id": "22102010",
   "metadata": {
    "hidden": true
   },
   "outputs": [],
   "source": []
  },
  {
   "cell_type": "markdown",
   "id": "fba89bf0",
   "metadata": {
    "heading_collapsed": true
   },
   "source": [
    "## [os](https://docs.python.org/3.8/library/os.html):"
   ]
  },
  {
   "cell_type": "markdown",
   "id": "471b779c",
   "metadata": {
    "hidden": true
   },
   "source": [
    "- all functions from posix or nt, e.g. unlink, stat, etc.\n",
    "- `os.path` is either posixpath or ntpath\n",
    "- `os.name` is either `'posix'` or `'nt'`\n",
    "- `os.curdir` is a string representing the current directory (always `'.'`)\n",
    "- `os.pardir` is a string representing the parent directory (always `'..'`)\n",
    "- `os.sep` is the (or a most common) pathname separator (`'/'` or `'\\\\'`)\n",
    "- `os.extsep` is the extension separator (always `'.'`)\n",
    "- `os.altsep` is the alternate pathname separator (`None` or `'/'`)\n",
    "- `os.pathsep` is the component separator used in `$PATH` etc\n",
    "- `os.linesep` is the line separator in text files (`'\\r'` or `'\\n'` or `'\\r\\n'`)\n",
    "- `os.defpath` is the default search path for executables\n",
    "- `os.devnull` is the file path of the null device (`'/dev/null'`, etc.)"
   ]
  },
  {
   "cell_type": "code",
   "execution_count": 2,
   "id": "956f6ee6",
   "metadata": {
    "hidden": true
   },
   "outputs": [],
   "source": [
    "import os"
   ]
  },
  {
   "cell_type": "code",
   "execution_count": 2,
   "id": "0cf6102f",
   "metadata": {
    "hidden": true,
    "scrolled": true
   },
   "outputs": [],
   "source": [
    "# help(os)"
   ]
  },
  {
   "cell_type": "code",
   "execution_count": 3,
   "id": "e2a5ce00",
   "metadata": {
    "hidden": true
   },
   "outputs": [
    {
     "data": {
      "text/plain": [
       "<function posix.listdir(path=None)>"
      ]
     },
     "execution_count": 3,
     "metadata": {},
     "output_type": "execute_result"
    }
   ],
   "source": [
    "os.listdir"
   ]
  },
  {
   "cell_type": "code",
   "execution_count": 4,
   "id": "e7ef8eae",
   "metadata": {
    "collapsed": true,
    "hidden": true
   },
   "outputs": [
    {
     "ename": "TypeError",
     "evalue": "exists() missing 1 required positional argument: 'path'",
     "output_type": "error",
     "traceback": [
      "\u001b[0;31m-------------------------------------------------------\u001b[0m",
      "\u001b[0;31mTypeError\u001b[0m             Traceback (most recent call last)",
      "\u001b[0;32m<ipython-input-4-89f425040687>\u001b[0m in \u001b[0;36m<module>\u001b[0;34m\u001b[0m\n\u001b[0;32m----> 1\u001b[0;31m \u001b[0mos\u001b[0m\u001b[0;34m.\u001b[0m\u001b[0mpath\u001b[0m\u001b[0;34m.\u001b[0m\u001b[0mexists\u001b[0m\u001b[0;34m(\u001b[0m\u001b[0;34m)\u001b[0m      \u001b[0;31m## Returns True if path or directory does exists.\u001b[0m\u001b[0;34m\u001b[0m\u001b[0;34m\u001b[0m\u001b[0m\n\u001b[0m\u001b[1;32m      2\u001b[0m \u001b[0mos\u001b[0m\u001b[0;34m.\u001b[0m\u001b[0mpath\u001b[0m\u001b[0;34m.\u001b[0m\u001b[0misfile\u001b[0m\u001b[0;34m(\u001b[0m\u001b[0;34m)\u001b[0m      \u001b[0;31m## Returns True if path is File.\u001b[0m\u001b[0;34m\u001b[0m\u001b[0;34m\u001b[0m\u001b[0m\n\u001b[1;32m      3\u001b[0m \u001b[0mos\u001b[0m\u001b[0;34m.\u001b[0m\u001b[0mpath\u001b[0m\u001b[0;34m.\u001b[0m\u001b[0misdir\u001b[0m\u001b[0;34m(\u001b[0m\u001b[0;34m)\u001b[0m       \u001b[0;31m## Returns True if path is Directory.\u001b[0m\u001b[0;34m\u001b[0m\u001b[0;34m\u001b[0m\u001b[0m\n",
      "\u001b[0;31mTypeError\u001b[0m: exists() missing 1 required positional argument: 'path'"
     ]
    }
   ],
   "source": [
    "os.path.exists()      ## Returns True if path or directory does exists.\n",
    "os.path.isfile()      ## Returns True if path is File.\n",
    "os.path.isdir()       ## Returns True if path is Directory."
   ]
  },
  {
   "cell_type": "code",
   "execution_count": 5,
   "id": "e622b009",
   "metadata": {
    "hidden": true
   },
   "outputs": [],
   "source": [
    "# help(os.path)"
   ]
  },
  {
   "cell_type": "code",
   "execution_count": 6,
   "id": "adfd42ae",
   "metadata": {
    "hidden": true
   },
   "outputs": [
    {
     "name": "stdout",
     "output_type": "stream",
     "text": [
      "/bin:/usr/bin\n",
      "/dev/null\n"
     ]
    }
   ],
   "source": [
    "print(os.defpath, os.devnull, sep='\\n')"
   ]
  },
  {
   "cell_type": "markdown",
   "id": "8ca5a35a",
   "metadata": {
    "hidden": true
   },
   "source": [
    "#### os.path:\n",
    "\n",
    "Functions and Attributes defined in this packages are shown below."
   ]
  },
  {
   "cell_type": "markdown",
   "id": "1428bcdb",
   "metadata": {
    "hidden": true
   },
   "source": [
    "**Functions:**\n",
    "\n",
    "`abspath(path)` `basename(p)` `commonpath(paths)` `commonprefix(m)` `dirname(p)` `exists(path)` `expanduser(path)` `expandvars(path)` `getatime(filename)` `getctime(filename)` `getmtime(filename)` `getsize(filename)` `isabs(s)` `isdir(s)` `isfile(path)` `islink(path)` `ismount(path)` `join(a, *p)` `lexists(path)` `normcase(s)` `normpath(path)` `realpath(filename)` `relpath(path, start=None)` `samefile(f1, f2)` `sameopenfile(fp1, fp2)` `samestat(s1, s2)` `split(p)` `splitdrive(p)` `splitext(p)`\n",
    "\n",
    "**Attributes:**\n",
    "\n",
    "`altsep = None` `curdir = '.'` `defpath = '/bin:/usr/bin'` `devnull = '/dev/null'` `extsep = '.'` `pardir = '..'` `pathsep = ':'` `sep = '/'` `supports_unicode_filenames = True` "
   ]
  },
  {
   "cell_type": "code",
   "execution_count": 10,
   "id": "69c04659",
   "metadata": {
    "hidden": true
   },
   "outputs": [],
   "source": [
    "# help(os.path)"
   ]
  },
  {
   "cell_type": "code",
   "execution_count": 60,
   "id": "09194e1e",
   "metadata": {
    "hidden": true
   },
   "outputs": [],
   "source": [
    "??os.path.join"
   ]
  },
  {
   "cell_type": "code",
   "execution_count": 7,
   "id": "bb1c0b5e",
   "metadata": {
    "hidden": true
   },
   "outputs": [],
   "source": [
    "data_path = '/Users/a.momin/Data/concrete_data/train/negative'\n",
    "data_path2 = '/Users/a.momin/Data'"
   ]
  },
  {
   "cell_type": "code",
   "execution_count": 11,
   "id": "8368d160",
   "metadata": {
    "hidden": true
   },
   "outputs": [],
   "source": [
    "dir_content = os.listdir(data_path2); # dir_content"
   ]
  },
  {
   "cell_type": "code",
   "execution_count": 9,
   "id": "7fcb3aca",
   "metadata": {
    "hidden": true,
    "scrolled": true
   },
   "outputs": [
    {
     "data": {
      "text/plain": [
       "<posix.ScandirIterator at 0x1056efea0>"
      ]
     },
     "execution_count": 9,
     "metadata": {},
     "output_type": "execute_result"
    }
   ],
   "source": [
    "dir_iter = os.scandir(data_path2); dir_iter\n",
    "# list(dir_iter)[0:5]"
   ]
  },
  {
   "cell_type": "code",
   "execution_count": null,
   "id": "de71f6c1",
   "metadata": {
    "hidden": true
   },
   "outputs": [],
   "source": []
  },
  {
   "cell_type": "code",
   "execution_count": 67,
   "id": "6316c7df",
   "metadata": {
    "hidden": true
   },
   "outputs": [
    {
     "data": {
      "text/plain": [
       "<DirEntry 'bulldozers'>"
      ]
     },
     "execution_count": 67,
     "metadata": {},
     "output_type": "execute_result"
    }
   ],
   "source": [
    "content1 = next(dir_iter); content1"
   ]
  },
  {
   "cell_type": "code",
   "execution_count": 68,
   "id": "b691a6f2",
   "metadata": {
    "hidden": true
   },
   "outputs": [
    {
     "data": {
      "text/plain": [
       "'bulldozers'"
      ]
     },
     "execution_count": 68,
     "metadata": {},
     "output_type": "execute_result"
    }
   ],
   "source": [
    "content1.name"
   ]
  },
  {
   "cell_type": "code",
   "execution_count": 69,
   "id": "347a3a23",
   "metadata": {
    "hidden": true
   },
   "outputs": [
    {
     "data": {
      "text/plain": [
       "True"
      ]
     },
     "execution_count": 69,
     "metadata": {},
     "output_type": "execute_result"
    }
   ],
   "source": [
    "content1.is_dir()"
   ]
  },
  {
   "cell_type": "code",
   "execution_count": 70,
   "id": "485a2a50",
   "metadata": {
    "hidden": true
   },
   "outputs": [
    {
     "data": {
      "text/plain": [
       "False"
      ]
     },
     "execution_count": 70,
     "metadata": {},
     "output_type": "execute_result"
    }
   ],
   "source": [
    "content1.is_file()"
   ]
  },
  {
   "cell_type": "code",
   "execution_count": null,
   "id": "7f53a9a4",
   "metadata": {
    "hidden": true
   },
   "outputs": [],
   "source": []
  },
  {
   "cell_type": "code",
   "execution_count": 71,
   "id": "28e5a944",
   "metadata": {
    "hidden": true
   },
   "outputs": [
    {
     "data": {
      "text/plain": [
       "('/Users/a.momin/Data/bulldozers', '')"
      ]
     },
     "execution_count": 71,
     "metadata": {},
     "output_type": "execute_result"
    }
   ],
   "source": [
    "os.path.splitext(content1)"
   ]
  },
  {
   "cell_type": "code",
   "execution_count": 72,
   "id": "04805395",
   "metadata": {
    "hidden": true
   },
   "outputs": [
    {
     "data": {
      "text/plain": [
       "('Hellow is it me', '.mp3')"
      ]
     },
     "execution_count": 72,
     "metadata": {},
     "output_type": "execute_result"
    }
   ],
   "source": [
    "os.path.splitext('Hellow is it me.mp3')"
   ]
  },
  {
   "cell_type": "code",
   "execution_count": 73,
   "id": "d79a95e7",
   "metadata": {
    "hidden": true
   },
   "outputs": [
    {
     "data": {
      "text/plain": [
       "'nbs'"
      ]
     },
     "execution_count": 73,
     "metadata": {},
     "output_type": "execute_result"
    }
   ],
   "source": [
    "bs_nm = os.path.basename(os.getcwd()); bs_nm"
   ]
  },
  {
   "cell_type": "code",
   "execution_count": 74,
   "id": "283adb79",
   "metadata": {
    "hidden": true,
    "scrolled": true
   },
   "outputs": [],
   "source": [
    "# dir_iter_items = [item for item in dir_iter]; dir_iter_items"
   ]
  },
  {
   "cell_type": "code",
   "execution_count": 75,
   "id": "c0a1f25e",
   "metadata": {
    "hidden": true
   },
   "outputs": [],
   "source": [
    "# list(os.walk(os.getcwd()))"
   ]
  },
  {
   "cell_type": "code",
   "execution_count": 76,
   "id": "85af43bf",
   "metadata": {
    "hidden": true
   },
   "outputs": [],
   "source": [
    "import os\n",
    "\n",
    "for root, dirs, files in os.walk(os.getcwd()):\n",
    "    for filename in files:\n",
    "        filepath = root + os.sep + filename\n",
    "\n",
    "        if filepath.endswith((\".jpg\",\".png\", '.pdf')):\n",
    "            continue\n",
    "            print(filepath)"
   ]
  },
  {
   "cell_type": "code",
   "execution_count": 12,
   "id": "f43f2431",
   "metadata": {
    "hidden": true
   },
   "outputs": [
    {
     "data": {
      "text/plain": [
       "'/Users/a.momin/gd/Software_Development/Machine_Learning/notes_ds/nbs'"
      ]
     },
     "execution_count": 12,
     "metadata": {},
     "output_type": "execute_result"
    }
   ],
   "source": [
    "os.path.abspath(\".\")"
   ]
  },
  {
   "cell_type": "code",
   "execution_count": 78,
   "id": "0fb0ee40",
   "metadata": {
    "hidden": true
   },
   "outputs": [
    {
     "data": {
      "text/plain": [
       "'/Users/a.momin/GoogleDrive/gd/Software_Development/Machine_Learning/notes_ds'"
      ]
     },
     "execution_count": 78,
     "metadata": {},
     "output_type": "execute_result"
    }
   ],
   "source": [
    "par_path = os.path.abspath(os.path.join(os.pardir)); par_path"
   ]
  },
  {
   "cell_type": "code",
   "execution_count": 14,
   "id": "37e734c9",
   "metadata": {
    "hidden": true
   },
   "outputs": [
    {
     "data": {
      "text/plain": [
       "'..'"
      ]
     },
     "execution_count": 14,
     "metadata": {},
     "output_type": "execute_result"
    }
   ],
   "source": [
    "os.pardir"
   ]
  },
  {
   "cell_type": "code",
   "execution_count": 15,
   "id": "94408fef",
   "metadata": {
    "hidden": true
   },
   "outputs": [
    {
     "data": {
      "text/plain": [
       "'/Users/a.momin/gd/Software_Development/Machine_Learning/notes_ds'"
      ]
     },
     "execution_count": 15,
     "metadata": {},
     "output_type": "execute_result"
    }
   ],
   "source": [
    "os.path.abspath(os.pardir)"
   ]
  },
  {
   "cell_type": "code",
   "execution_count": 13,
   "id": "12a79b83",
   "metadata": {
    "hidden": true
   },
   "outputs": [
    {
     "data": {
      "text/plain": [
       "'/Users/a.momin/gd/Software_Development/Machine_Learning/notes_ds/this_path'"
      ]
     },
     "execution_count": 13,
     "metadata": {},
     "output_type": "execute_result"
    }
   ],
   "source": [
    "os.path.join(os.path.abspath(os.pardir), 'this_path')"
   ]
  },
  {
   "cell_type": "code",
   "execution_count": 80,
   "id": "c463ead0",
   "metadata": {
    "hidden": true
   },
   "outputs": [
    {
     "data": {
      "text/plain": [
       "'/Users/a.momin/GoogleDrive/gd/Software_Development/Machine_Learning/notes_ds/this'"
      ]
     },
     "execution_count": 80,
     "metadata": {},
     "output_type": "execute_result"
    }
   ],
   "source": [
    "os.path.abspath(os.path.join(os.pardir, 'this'))"
   ]
  },
  {
   "cell_type": "code",
   "execution_count": 81,
   "id": "ed925f19",
   "metadata": {
    "hidden": true
   },
   "outputs": [
    {
     "data": {
      "text/plain": [
       "'/Users/a.momin/GoogleDrive/gd/Software_Development/Machine_Learning/notes_ds'"
      ]
     },
     "execution_count": 81,
     "metadata": {},
     "output_type": "execute_result"
    }
   ],
   "source": [
    "os.path.abspath(os.path.join(os.pardir))"
   ]
  },
  {
   "cell_type": "code",
   "execution_count": 82,
   "id": "ff46e2e7",
   "metadata": {
    "hidden": true
   },
   "outputs": [
    {
     "data": {
      "text/plain": [
       "'../this'"
      ]
     },
     "execution_count": 82,
     "metadata": {},
     "output_type": "execute_result"
    }
   ],
   "source": [
    "os.path.join(os.pardir, 'this')"
   ]
  },
  {
   "cell_type": "code",
   "execution_count": 83,
   "id": "bae95208",
   "metadata": {
    "hidden": true
   },
   "outputs": [],
   "source": [
    "\n",
    "os.mkdir(os.path.join(os.getcwd(), 'TEST_TO_CREATE_DIR_BY_OS_MKDIR'))\n",
    "\n",
    "# remove only empty dir\n",
    "os.rmdir(os.path.join(os.getcwd(), 'TEST_TO_CREATE_DIR_BY_OS_MKDIR'))"
   ]
  },
  {
   "cell_type": "code",
   "execution_count": null,
   "id": "748b8beb",
   "metadata": {
    "hidden": true
   },
   "outputs": [],
   "source": [
    "isDirectory = os.path.isdir(fpath)\n",
    "isFile = os.path.isfile(fpath)"
   ]
  },
  {
   "cell_type": "code",
   "execution_count": null,
   "id": "97eda9a8",
   "metadata": {
    "hidden": true,
    "scrolled": true
   },
   "outputs": [],
   "source": [
    "# os.remove('file.txt')"
   ]
  },
  {
   "cell_type": "code",
   "execution_count": null,
   "id": "78568492",
   "metadata": {
    "hidden": true
   },
   "outputs": [],
   "source": [
    "# shutil.move('dir1/file.txt', 'dir2/file.txt')"
   ]
  },
  {
   "cell_type": "code",
   "execution_count": null,
   "id": "0938da64",
   "metadata": {
    "hidden": true
   },
   "outputs": [],
   "source": []
  },
  {
   "cell_type": "code",
   "execution_count": 3,
   "id": "3d7ed133",
   "metadata": {
    "hidden": true
   },
   "outputs": [
    {
     "name": "stdout",
     "output_type": "stream",
     "text": [
      "03.07-Merge-and-Join.ipynb\r\n",
      "Gradient_Descent.ipynb\r\n",
      "ML_technique.ipynb\r\n",
      "book_equations-Copy1.ipynb\r\n",
      "context_manager.ipynb\r\n",
      "differential_calculus.ipynb\r\n",
      "display_info.log\r\n",
      "ensemble_methods.ipynb\r\n",
      "ipywidgets_intro.ipynb\r\n",
      "jptr_tutorial_cell_magic.ipynb\r\n",
      "kgl_rec_sys.ipynb\r\n",
      "linear_algebra.ipynb\r\n",
      "logging.ipynb\r\n",
      "logistic_regression.ipynb\r\n",
      "media_file_metadata.ipynb\r\n",
      "naive-bayes-classifier-in-python.ipynb\r\n",
      "nlp_notes.ipynb\r\n",
      "nt_epp.ipynb\r\n",
      "nt_ml.ipynb\r\n",
      "nt_nlp.ipynb\r\n",
      "nt_np.ipynb\r\n",
      "nt_pd.ipynb\r\n",
      "nt_plt.ipynb\r\n",
      "nt_python_packages.ipynb\r\n",
      "nt_spark.ipynb\r\n",
      "nt_tf.ipynb\r\n",
      "nt_torch.ipynb\r\n",
      "nt_torch_dl.ipynb\r\n",
      "num_comp.ipynb\r\n",
      "optimizatimizations.ipynb\r\n",
      "recommendation_system.ipynb\r\n",
      "sklearn_tutorial_UnsupervisedLearning.ipynb\r\n",
      "statistics.ipynb\r\n",
      "svm.ipynb\r\n"
     ]
    }
   ],
   "source": [
    "!ls ."
   ]
  },
  {
   "cell_type": "markdown",
   "id": "2aac5a7a",
   "metadata": {
    "hidden": true
   },
   "source": [
    "#### Metadata of File:"
   ]
  },
  {
   "cell_type": "code",
   "execution_count": 16,
   "id": "5d2dc607",
   "metadata": {
    "hidden": true
   },
   "outputs": [],
   "source": [
    "# help(os.stat('./03.07-Merge-and-Join.ipynb'))"
   ]
  },
  {
   "cell_type": "code",
   "execution_count": 17,
   "id": "d504eda7",
   "metadata": {
    "hidden": true,
    "scrolled": true
   },
   "outputs": [],
   "source": [
    "# help(os.stat)"
   ]
  },
  {
   "cell_type": "code",
   "execution_count": 9,
   "id": "f02ee18f",
   "metadata": {
    "hidden": true
   },
   "outputs": [],
   "source": [
    "!touch test_file_creation.txt"
   ]
  },
  {
   "cell_type": "code",
   "execution_count": 15,
   "id": "173e7b80",
   "metadata": {
    "hidden": true
   },
   "outputs": [
    {
     "name": "stdout",
     "output_type": "stream",
     "text": [
      "2022-07-28 22:59:13.932658\n",
      "0\n"
     ]
    }
   ],
   "source": [
    "import os\n",
    "import datetime\n",
    "\n",
    "# Path to the file\n",
    "path = r\"./test_file_creation.txt\"\n",
    "\n",
    "# get file creation time on mac\n",
    "stat = os.stat(path)\n",
    "c_timestamp = stat.st_birthtime\n",
    "c_size = stat.st_size\n",
    "c_time = datetime.datetime.fromtimestamp(c_timestamp)\n",
    "print(c_time, c_size, sep='\\n')"
   ]
  },
  {
   "cell_type": "code",
   "execution_count": null,
   "id": "c46a9a03",
   "metadata": {
    "hidden": true
   },
   "outputs": [],
   "source": []
  },
  {
   "cell_type": "code",
   "execution_count": 18,
   "id": "e3f71bd2",
   "metadata": {
    "hidden": true
   },
   "outputs": [
    {
     "name": "stdout",
     "output_type": "stream",
     "text": [
      "2022-07-28 22:59:13.932658\n",
      "2022-07-28 22:59:13.932658\n"
     ]
    }
   ],
   "source": [
    "import datetime\n",
    "import pathlib\n",
    "\n",
    "# create a file path\n",
    "f_name = pathlib.Path(r\"./test_file_creation.txt\")\n",
    "\n",
    "# get modification time\n",
    "m_timestamp = f_name.stat().st_mtime\n",
    "\n",
    "# convert ti to dd-mm-yyyy hh:mm:ss\n",
    "m_time = datetime.datetime.fromtimestamp(m_timestamp)\n",
    "print(m_time)\n",
    "\n",
    "# get creation time on windows\n",
    "c_timestamp = f_name.stat().st_ctime\n",
    "c_time = datetime.datetime.fromtimestamp(c_timestamp)\n",
    "print(c_time)"
   ]
  },
  {
   "cell_type": "code",
   "execution_count": null,
   "id": "e6460022",
   "metadata": {
    "hidden": true
   },
   "outputs": [],
   "source": []
  },
  {
   "cell_type": "code",
   "execution_count": null,
   "id": "142129bb",
   "metadata": {
    "hidden": true
   },
   "outputs": [],
   "source": []
  },
  {
   "cell_type": "markdown",
   "id": "7b98e895",
   "metadata": {
    "heading_collapsed": true
   },
   "source": [
    "## pathlib:"
   ]
  },
  {
   "cell_type": "markdown",
   "id": "01582e74",
   "metadata": {
    "hidden": true
   },
   "source": [
    "[Object-oriented filesystem paths](https://docs.python.org/3/library/pathlib.html#module-pathlib)"
   ]
  },
  {
   "cell_type": "code",
   "execution_count": 26,
   "id": "a9f672e3",
   "metadata": {
    "hidden": true
   },
   "outputs": [],
   "source": [
    "import pathlib\n",
    "from pathlib import Path\n",
    "import os"
   ]
  },
  {
   "cell_type": "code",
   "execution_count": 7,
   "id": "2d5d9e94",
   "metadata": {
    "hidden": true
   },
   "outputs": [],
   "source": [
    "# help(pathlib)"
   ]
  },
  {
   "cell_type": "code",
   "execution_count": 43,
   "id": "a52f4f38",
   "metadata": {
    "hidden": true
   },
   "outputs": [],
   "source": [
    "# help(pathlib.PosixPath)"
   ]
  },
  {
   "cell_type": "code",
   "execution_count": 41,
   "id": "a024b3cb",
   "metadata": {
    "hidden": true
   },
   "outputs": [],
   "source": [
    "# help(Path)"
   ]
  },
  {
   "cell_type": "markdown",
   "id": "807779c5",
   "metadata": {
    "hidden": true
   },
   "source": [
    "**Path(PurePath):**\n",
    "\n",
    "`absolute()` → Return an absolute version of this path. This function works\n",
    "even if the path doesn't point to anything. No normalization is done, i.e. all '.' and '..' will be kept along. Use resolve() to get the canonical path to a file.\n",
    "\n",
    "`chmod(mode)` → Change the permissions of the path, like os.chmod().\n",
    "\n",
    "`exists()` → Whether this path exists.\n",
    "\n",
    "`glob(pattern)` → Iterate over this subtree and yield all existing files (of any kind, including directories) matching the given relative pattern.\n",
    "\n",
    "`group()` → Return the group name of the file gid.\n",
    "\n",
    "`is_dir()` → Whether this path is a directory.\n",
    "\n",
    "`is_file()` → Whether this path is a regular file (also True for symlinks pointing to regular files).\n",
    "\n",
    "`is_mount()` → Check if this path is a POSIX mount point\n",
    "\n",
    "`is_socket()` → Whether this path is a socket.\n",
    "\n",
    "`is_symlink()` → Whether this path is a symbolic link.\n",
    "\n",
    "`iterdir()` → Iterate over the files in this directory. Does not yield any result for the special paths '.' and '..'.\n",
    "\n",
    "`lchmod(mode)` → Like chmod(), except if the path points to a symlink, the symlink's permissions are changed, rather than its target's.\n",
    "\n",
    "`link_to(target)` → Make the target path a hard link pointing to this path. Note this function does not make this path a hard link to _target_, despite the implication of the function and argument names. The order of arguments (target, link) is the reverse of Path.symlink_to, but matches that of os.link.\n",
    "\n",
    "`mkdir(mode=511, parents=False, exist_ok=False)` → Create a new directory at this given path.\n",
    "\n",
    "`open(mode='r', buffering=-1, encoding=None, errors=None, newline=None)` → Open the file pointed by this path and return a file object, as the built-in open() function does.\n",
    "\n",
    "`owner()` → Return the login name of the file owner.\n",
    "\n",
    "`rename(target)` → Rename this path to the target path. The target path may be absolute or relative. Relative paths are interpreted relative to the current working, _not_ the directory of the Path object. Returns the new Path instance pointing to the target path.\n",
    "\n",
    "`replace(target)` → Rename this path to the target path, overwriting if that path exists. The target path may be absolute or relative. Relative paths are interpreted relative to the current working directory, _not_ the directory of the Path object. Returns the new Path instance pointing to the target path.\n",
    "\n",
    "`resolve(strict=False)` → Make the path absolute, resolving all symlinks on the way and also\n",
    "normalizing it (for example turning slashes into backslashes under\n",
    "Windows).\n",
    "\n",
    "`rglob(pattern)` → Recursively yield all existing files (of any kind, including directories) matching the given relative pattern, anywhere in this subtree.\n",
    "\n",
    "`rmdir()` → Remove this directory. The directory must be empty.\n",
    "\n",
    "`symlink_to(target, target_is_directory=False)` → Make this path a symlink pointing to the target path. Note the order of arguments (link, target) is the reverse of os.symlink.\n",
    "\n",
    "`unlink(missing_ok=False)` → Remove this file or link.\n",
    "If the path is a directory, use rmdir() instead.\n"
   ]
  },
  {
   "cell_type": "code",
   "execution_count": 34,
   "id": "4dc44561",
   "metadata": {
    "hidden": true
   },
   "outputs": [],
   "source": [
    "# help(os.path)"
   ]
  },
  {
   "cell_type": "code",
   "execution_count": null,
   "id": "8ea5b79a",
   "metadata": {
    "hidden": true
   },
   "outputs": [],
   "source": []
  },
  {
   "cell_type": "code",
   "execution_count": null,
   "id": "390436c8",
   "metadata": {
    "hidden": true
   },
   "outputs": [],
   "source": []
  },
  {
   "cell_type": "code",
   "execution_count": null,
   "id": "3337a191",
   "metadata": {
    "hidden": true
   },
   "outputs": [],
   "source": [
    "paths = Path('/Users/a.momin/Desktop/mix_songs/').glob('**/*.mp3')\n",
    "\n",
    "# print(list(paths))\n",
    "# help(list(paths)[0])\n",
    "for path in paths:\n",
    "    # because path is object not string\n",
    "    path_in_str = str(path)\n",
    "    # Do thing with the path\n",
    "    # print(path_in_str)"
   ]
  },
  {
   "cell_type": "code",
   "execution_count": 103,
   "id": "ccca36e1",
   "metadata": {
    "hidden": true
   },
   "outputs": [],
   "source": [
    "path = Path('/Users/a.momin/Data/')\n"
   ]
  },
  {
   "cell_type": "markdown",
   "id": "f6df0b5b",
   "metadata": {
    "heading_collapsed": true
   },
   "source": [
    "## [shutil](https://docs.python.org/3/library/shutil.html)"
   ]
  },
  {
   "cell_type": "code",
   "execution_count": 25,
   "id": "b4ecebde",
   "metadata": {
    "hidden": true
   },
   "outputs": [],
   "source": [
    "import shutil"
   ]
  },
  {
   "cell_type": "code",
   "execution_count": null,
   "id": "8605da59",
   "metadata": {
    "hidden": true
   },
   "outputs": [],
   "source": []
  },
  {
   "cell_type": "code",
   "execution_count": null,
   "id": "c3719fa7",
   "metadata": {
    "hidden": true
   },
   "outputs": [],
   "source": []
  },
  {
   "cell_type": "markdown",
   "id": "d117af18",
   "metadata": {
    "heading_collapsed": true
   },
   "source": [
    "## [glob](https://docs.python.org/3.8/library/glob.html):"
   ]
  },
  {
   "cell_type": "markdown",
   "id": "ceb7299e",
   "metadata": {
    "hidden": true
   },
   "source": [
    "- The glob module finds all the pathnames matching a specified pattern **according to the rules used by the Unix shell**, although results are returned in arbitrary order. \n",
    "- No tilde expansion is done, but `*`, `?`, and character ranges expressed with `[]` will be correctly matched\n",
    "- For a literal match, wrap the meta-characters in brackets. For example, `'[?]'` matches the character `?`"
   ]
  },
  {
   "cell_type": "code",
   "execution_count": 7,
   "id": "c559df4f",
   "metadata": {
    "hidden": true
   },
   "outputs": [],
   "source": [
    "import glob"
   ]
  },
  {
   "cell_type": "code",
   "execution_count": 8,
   "id": "72a0e16f",
   "metadata": {
    "hidden": true
   },
   "outputs": [],
   "source": [
    "# help(glob)\n",
    "# dir(glob)"
   ]
  },
  {
   "cell_type": "code",
   "execution_count": 9,
   "id": "3a098666",
   "metadata": {
    "hidden": true
   },
   "outputs": [
    {
     "data": {
      "text/plain": [
       "[]"
      ]
     },
     "execution_count": 9,
     "metadata": {},
     "output_type": "execute_result"
    }
   ],
   "source": [
    "glob.glob('./**/*.png')"
   ]
  },
  {
   "cell_type": "code",
   "execution_count": 11,
   "id": "81cc7453",
   "metadata": {
    "hidden": true
   },
   "outputs": [
    {
     "name": "stdout",
     "output_type": "stream",
     "text": [
      "/Users/a.momin/Desktop/airflow_concepts.png\n"
     ]
    }
   ],
   "source": [
    "# Print png images in folder User/a.momin/Desktop/\n",
    "for filepath in glob.iglob(r'/Users/a.momin/Desktop/*.png'):\n",
    "    print(filepath)"
   ]
  },
  {
   "cell_type": "code",
   "execution_count": 12,
   "id": "9f10849d",
   "metadata": {
    "hidden": true
   },
   "outputs": [
    {
     "name": "stdout",
     "output_type": "stream",
     "text": [
      "/Users/a.momin/Desktop/modis-paycheck01.pdf\n"
     ]
    }
   ],
   "source": [
    "# Print pdf files in folder User/a.momin/Desktop/\n",
    "for filepath in glob.iglob(r'/Users/a.momin/Desktop/*.pdf'):\n",
    "    print(filepath)\n",
    "    "
   ]
  },
  {
   "cell_type": "code",
   "execution_count": 13,
   "id": "91857363",
   "metadata": {
    "hidden": true
   },
   "outputs": [
    {
     "name": "stdout",
     "output_type": "stream",
     "text": [
      "/Users/a.momin/Desktop/airflow_concepts.png\n"
     ]
    }
   ],
   "source": [
    "# Recursively print png images in folder User/a.momin/Desktop/\n",
    "for filepath in glob.iglob(r'/Users/a.momin/Desktop/*.png', recursive=True):\n",
    "    print(filepath)"
   ]
  },
  {
   "cell_type": "code",
   "execution_count": 14,
   "id": "e56cfb99",
   "metadata": {
    "hidden": true
   },
   "outputs": [
    {
     "name": "stdout",
     "output_type": "stream",
     "text": [
      "/Users/a.momin/Desktop/modis-paycheck01.pdf\n"
     ]
    }
   ],
   "source": [
    "# Recursively print pdf files in folder C:\\Users\\admin\\\n",
    "for filepath in glob.iglob('/Users/a.momin/Desktop/*.pdf', recursive=True):\n",
    "    print(filepath)"
   ]
  },
  {
   "cell_type": "code",
   "execution_count": 15,
   "id": "39e305ed",
   "metadata": {
    "hidden": true
   },
   "outputs": [],
   "source": [
    "from pathlib import Path"
   ]
  },
  {
   "cell_type": "code",
   "execution_count": 18,
   "id": "dfb97264",
   "metadata": {
    "hidden": true
   },
   "outputs": [],
   "source": [
    "paths = Path('/Users/a.momin/GoogleDrive/gd/Software_Development/').glob('**/[0-9]*.pdf')"
   ]
  },
  {
   "cell_type": "code",
   "execution_count": 19,
   "id": "62b0f5b5",
   "metadata": {
    "hidden": true
   },
   "outputs": [
    {
     "data": {
      "text/plain": [
       "generator"
      ]
     },
     "execution_count": 19,
     "metadata": {},
     "output_type": "execute_result"
    }
   ],
   "source": [
    "type(paths)"
   ]
  },
  {
   "cell_type": "code",
   "execution_count": 22,
   "id": "00c4bd61",
   "metadata": {
    "hidden": true
   },
   "outputs": [],
   "source": [
    "# print(list(paths)[0:5])"
   ]
  },
  {
   "cell_type": "code",
   "execution_count": 23,
   "id": "1df6da1f",
   "metadata": {
    "hidden": true
   },
   "outputs": [],
   "source": [
    "for path in paths:\n",
    "    # because path is object not string\n",
    "    path_in_str = str(path)\n",
    "    print(path_in_str, '\\n')"
   ]
  },
  {
   "cell_type": "code",
   "execution_count": null,
   "id": "572991bb",
   "metadata": {
    "hidden": true
   },
   "outputs": [],
   "source": []
  },
  {
   "cell_type": "markdown",
   "id": "ac994799",
   "metadata": {
    "heading_collapsed": true
   },
   "source": [
    "## [sys](https://docs.python.org/3.8/library/sys.html):"
   ]
  },
  {
   "cell_type": "markdown",
   "id": "fca4dd46",
   "metadata": {
    "hidden": true
   },
   "source": [
    "[System-specific parameters and functions](https://docs.python.org/3/library/sys.html#module-sys)"
   ]
  },
  {
   "cell_type": "code",
   "execution_count": 7,
   "id": "de4ff47f",
   "metadata": {
    "hidden": true
   },
   "outputs": [],
   "source": [
    "import sys"
   ]
  },
  {
   "cell_type": "code",
   "execution_count": 24,
   "id": "54b6d631",
   "metadata": {
    "hidden": true
   },
   "outputs": [],
   "source": [
    "# help(sys)"
   ]
  },
  {
   "cell_type": "code",
   "execution_count": null,
   "id": "2e30207d",
   "metadata": {
    "hidden": true
   },
   "outputs": [],
   "source": []
  },
  {
   "cell_type": "code",
   "execution_count": null,
   "id": "52ea3aa0",
   "metadata": {
    "hidden": true
   },
   "outputs": [],
   "source": []
  },
  {
   "cell_type": "markdown",
   "id": "79c5a13e",
   "metadata": {
    "heading_collapsed": true
   },
   "source": [
    "## functools:"
   ]
  },
  {
   "cell_type": "markdown",
   "id": "fefafda6",
   "metadata": {
    "hidden": true
   },
   "source": [
    "[Higher-order functions and operations on callable objects](https://docs.python.org/3/library/functools.html#module-functools)"
   ]
  },
  {
   "cell_type": "code",
   "execution_count": null,
   "id": "9cdad358",
   "metadata": {
    "hidden": true
   },
   "outputs": [],
   "source": [
    "from functools import *"
   ]
  },
  {
   "cell_type": "code",
   "execution_count": 83,
   "id": "3e9109c7",
   "metadata": {
    "hidden": true
   },
   "outputs": [],
   "source": [
    "# dir(functools)"
   ]
  },
  {
   "cell_type": "code",
   "execution_count": 82,
   "id": "536d31b0",
   "metadata": {
    "hidden": true
   },
   "outputs": [],
   "source": [
    "# help(functools)"
   ]
  },
  {
   "cell_type": "markdown",
   "id": "4b269a5f",
   "metadata": {
    "hidden": true
   },
   "source": [
    "\n",
    "`functools.cached_property(...)`,\n",
    "`functools.cmp_to_key(...)`,\n",
    "`functools.get_cache_token(...)`,\n",
    "`functools.lru_cache(...)`,\n",
    "`functools.namedtuple(...)`,\n",
    "`functools.partial(...)`,\n",
    "`functools.partialmethod(...)`,\n",
    "`functools.recursive_repr(...)`,\n",
    "`functools.reduce(...)`,\n",
    "`functools.singledispatch(...)`,\n",
    "`functools.singledispatchmethod(...)`,\n",
    "`functools.total_ordering(...)`,\n",
    "`functools.update_wrapper(...)`,\n",
    "`functools.wraps(...)`"
   ]
  },
  {
   "cell_type": "code",
   "execution_count": null,
   "id": "5bb90d80",
   "metadata": {
    "hidden": true
   },
   "outputs": [],
   "source": []
  },
  {
   "cell_type": "code",
   "execution_count": null,
   "id": "854c9140",
   "metadata": {
    "hidden": true
   },
   "outputs": [],
   "source": []
  },
  {
   "cell_type": "code",
   "execution_count": null,
   "id": "293c5090",
   "metadata": {
    "hidden": true
   },
   "outputs": [],
   "source": []
  },
  {
   "cell_type": "markdown",
   "id": "7a082898",
   "metadata": {
    "heading_collapsed": true
   },
   "source": [
    "## itertools:"
   ]
  },
  {
   "cell_type": "code",
   "execution_count": 4,
   "id": "b708bad0",
   "metadata": {
    "hidden": true
   },
   "outputs": [],
   "source": [
    "from itertools import *\n",
    "import itertools as it"
   ]
  },
  {
   "cell_type": "markdown",
   "id": "0ca78bb4",
   "metadata": {
    "hidden": true
   },
   "source": [
    "[Functions creating iterators for efficient looping](https://docs.python.org/3/library/itertools.html#module-itertools)"
   ]
  },
  {
   "cell_type": "markdown",
   "id": "eaa40d63",
   "metadata": {
    "hidden": true
   },
   "source": [
    "`itertools.accumulate()`\n",
    "`itertools.chain()`\n",
    "`itertools.combinations()`\n",
    "`itertools.combinations_with_replacement()`\n",
    "`itertools.compress()`\n",
    "`itertools.count()`\n",
    "`itertools.cycle()`\n",
    "`itertools.dropwhile()`\n",
    "`itertools.filterfalse()`\n",
    "`itertools.groupby()`\n",
    "`itertools.islice()`\n",
    "`itertools.permutations()`\n",
    "`itertools.product()`\n",
    "`itertools.repeat()`\n",
    "`itertools.starmap()`\n",
    "`itertools.takewhile()`\n",
    "`itertools.tee()`\n",
    "`itertools.zip_longest()`"
   ]
  },
  {
   "cell_type": "markdown",
   "id": "de45a4e4",
   "metadata": {
    "hidden": true
   },
   "source": [
    "- [Corey: Itertools Module - Iterator Functions for Efficient Looping](https://www.youtube.com/watch?v=Qu3dThVy6KQ&list=RDCMUCCezIgC97PvUuR4_gbFUs5g&index=10)"
   ]
  },
  {
   "cell_type": "markdown",
   "id": "faa02672",
   "metadata": {
    "heading_collapsed": true,
    "hidden": true
   },
   "source": [
    "#### `itertools.accumulate()`:"
   ]
  },
  {
   "cell_type": "code",
   "execution_count": 6,
   "id": "d824b827",
   "metadata": {
    "hidden": true
   },
   "outputs": [],
   "source": [
    "# help(accumulate)"
   ]
  },
  {
   "cell_type": "code",
   "execution_count": 7,
   "id": "1bbbed3c",
   "metadata": {
    "hidden": true
   },
   "outputs": [],
   "source": [
    "# dir(it)"
   ]
  },
  {
   "cell_type": "code",
   "execution_count": 8,
   "id": "c914131f",
   "metadata": {
    "hidden": true,
    "scrolled": true
   },
   "outputs": [
    {
     "data": {
      "text/plain": [
       "[0, 1, 2, 3, 4]"
      ]
     },
     "execution_count": 8,
     "metadata": {},
     "output_type": "execute_result"
    }
   ],
   "source": [
    "A = [*range(5)]; A"
   ]
  },
  {
   "cell_type": "code",
   "execution_count": 9,
   "id": "7d18d9c8",
   "metadata": {
    "hidden": true
   },
   "outputs": [
    {
     "data": {
      "text/plain": [
       "<itertools.accumulate at 0x1069b6600>"
      ]
     },
     "execution_count": 9,
     "metadata": {},
     "output_type": "execute_result"
    }
   ],
   "source": [
    "acc = accumulate(A, initial=10); acc"
   ]
  },
  {
   "cell_type": "code",
   "execution_count": 10,
   "id": "1c06c0ff",
   "metadata": {
    "hidden": true
   },
   "outputs": [
    {
     "data": {
      "text/plain": [
       "[10, 10, 11, 13, 16, 20]"
      ]
     },
     "execution_count": 10,
     "metadata": {},
     "output_type": "execute_result"
    }
   ],
   "source": [
    "L = [*acc]; L"
   ]
  },
  {
   "cell_type": "code",
   "execution_count": 105,
   "id": "306183d2",
   "metadata": {
    "hidden": true
   },
   "outputs": [
    {
     "data": {
      "text/plain": [
       "[50, 50, 51, 53, 56, 60]"
      ]
     },
     "execution_count": 105,
     "metadata": {},
     "output_type": "execute_result"
    }
   ],
   "source": [
    "[*accumulate(range(5), initial=50)]"
   ]
  },
  {
   "cell_type": "markdown",
   "id": "81c3a163",
   "metadata": {
    "heading_collapsed": true,
    "hidden": true
   },
   "source": [
    "#### `itertools.chain()`:"
   ]
  },
  {
   "cell_type": "code",
   "execution_count": null,
   "id": "b2b1aa23",
   "metadata": {
    "hidden": true
   },
   "outputs": [],
   "source": [
    "chain()"
   ]
  },
  {
   "cell_type": "markdown",
   "id": "98b8631d",
   "metadata": {
    "heading_collapsed": true,
    "hidden": true
   },
   "source": [
    "#### `itertools.combinations()`:"
   ]
  },
  {
   "cell_type": "code",
   "execution_count": 121,
   "id": "37060842",
   "metadata": {
    "hidden": true
   },
   "outputs": [],
   "source": [
    "# help(combinations)"
   ]
  },
  {
   "cell_type": "code",
   "execution_count": 97,
   "id": "3f237b57",
   "metadata": {
    "hidden": true
   },
   "outputs": [
    {
     "data": {
      "text/plain": [
       "[('S', 'H', 'A'), ('S', 'H', 'H'), ('S', 'A', 'H'), ('H', 'A', 'H')]"
      ]
     },
     "execution_count": 97,
     "metadata": {},
     "output_type": "execute_result"
    }
   ],
   "source": [
    "[*combinations(list('SHAH'), 3)]"
   ]
  },
  {
   "cell_type": "markdown",
   "id": "7b6ba595",
   "metadata": {
    "heading_collapsed": true,
    "hidden": true
   },
   "source": [
    "#### `itertools.combinations_with_replacement()`:"
   ]
  },
  {
   "cell_type": "code",
   "execution_count": null,
   "id": "0f108784",
   "metadata": {
    "hidden": true
   },
   "outputs": [],
   "source": [
    "combinations_with_replacement()"
   ]
  },
  {
   "cell_type": "markdown",
   "id": "b0c6963b",
   "metadata": {
    "heading_collapsed": true,
    "hidden": true
   },
   "source": [
    "#### `itertools.compress()`:"
   ]
  },
  {
   "cell_type": "code",
   "execution_count": null,
   "id": "1c709603",
   "metadata": {
    "hidden": true
   },
   "outputs": [],
   "source": [
    "compress()"
   ]
  },
  {
   "cell_type": "code",
   "execution_count": 119,
   "id": "b1e97c2b",
   "metadata": {
    "hidden": true
   },
   "outputs": [],
   "source": [
    "# help(count)"
   ]
  },
  {
   "cell_type": "markdown",
   "id": "245cbfc7",
   "metadata": {
    "heading_collapsed": true,
    "hidden": true
   },
   "source": [
    "#### `itertools.count()`:"
   ]
  },
  {
   "cell_type": "code",
   "execution_count": null,
   "id": "23b8fc42",
   "metadata": {
    "hidden": true
   },
   "outputs": [],
   "source": [
    "count()"
   ]
  },
  {
   "cell_type": "markdown",
   "id": "835800b4",
   "metadata": {
    "heading_collapsed": true,
    "hidden": true
   },
   "source": [
    "#### `itertools.cycle()`:"
   ]
  },
  {
   "cell_type": "code",
   "execution_count": null,
   "id": "35631d8f",
   "metadata": {
    "hidden": true
   },
   "outputs": [],
   "source": [
    "cycle()"
   ]
  },
  {
   "cell_type": "markdown",
   "id": "7b141766",
   "metadata": {
    "heading_collapsed": true,
    "hidden": true
   },
   "source": [
    "#### `itertools.dropwhile()`:"
   ]
  },
  {
   "cell_type": "code",
   "execution_count": null,
   "id": "32172427",
   "metadata": {
    "hidden": true
   },
   "outputs": [],
   "source": [
    "dropwhile()"
   ]
  },
  {
   "cell_type": "code",
   "execution_count": null,
   "id": "f71cc880",
   "metadata": {
    "hidden": true
   },
   "outputs": [],
   "source": [
    "filterfalse()"
   ]
  },
  {
   "cell_type": "markdown",
   "id": "e139cc25",
   "metadata": {
    "heading_collapsed": true,
    "hidden": true
   },
   "source": [
    "#### `itertools.groupby()`:"
   ]
  },
  {
   "cell_type": "code",
   "execution_count": null,
   "id": "183a996e",
   "metadata": {
    "hidden": true
   },
   "outputs": [],
   "source": [
    "groupby()"
   ]
  },
  {
   "cell_type": "markdown",
   "id": "a4f888c3",
   "metadata": {
    "heading_collapsed": true,
    "hidden": true
   },
   "source": [
    "#### `itertools.slice()`:"
   ]
  },
  {
   "cell_type": "code",
   "execution_count": null,
   "id": "9f9ca73f",
   "metadata": {
    "hidden": true
   },
   "outputs": [],
   "source": [
    "islice()"
   ]
  },
  {
   "cell_type": "markdown",
   "id": "11961b18",
   "metadata": {
    "heading_collapsed": true,
    "hidden": true
   },
   "source": [
    "#### `itertools.permutations()`:"
   ]
  },
  {
   "cell_type": "code",
   "execution_count": 118,
   "id": "ca195ab1",
   "metadata": {
    "hidden": true
   },
   "outputs": [],
   "source": [
    "# help(permutations)"
   ]
  },
  {
   "cell_type": "code",
   "execution_count": 111,
   "id": "d9891066",
   "metadata": {
    "hidden": true
   },
   "outputs": [
    {
     "data": {
      "text/plain": [
       "[('E', 'A', 'T'),\n",
       " ('E', 'T', 'A'),\n",
       " ('A', 'E', 'T'),\n",
       " ('A', 'T', 'E'),\n",
       " ('T', 'E', 'A'),\n",
       " ('T', 'A', 'E')]"
      ]
     },
     "execution_count": 111,
     "metadata": {},
     "output_type": "execute_result"
    }
   ],
   "source": [
    "[*permutations(list(\"EAT\"))]"
   ]
  },
  {
   "cell_type": "markdown",
   "id": "d90d93dc",
   "metadata": {
    "heading_collapsed": true,
    "hidden": true
   },
   "source": [
    "#### `itertools.product()`:"
   ]
  },
  {
   "cell_type": "code",
   "execution_count": 117,
   "id": "19ed118c",
   "metadata": {
    "hidden": true
   },
   "outputs": [],
   "source": [
    "# help(product)"
   ]
  },
  {
   "cell_type": "code",
   "execution_count": 115,
   "id": "71a845c2",
   "metadata": {
    "hidden": true
   },
   "outputs": [
    {
     "data": {
      "text/plain": [
       "[('S', '1'),\n",
       " ('S', '2'),\n",
       " ('S', '3'),\n",
       " ('S', '4'),\n",
       " ('H', '1'),\n",
       " ('H', '2'),\n",
       " ('H', '3'),\n",
       " ('H', '4'),\n",
       " ('A', '1'),\n",
       " ('A', '2'),\n",
       " ('A', '3'),\n",
       " ('A', '4'),\n",
       " ('H', '1'),\n",
       " ('H', '2'),\n",
       " ('H', '3'),\n",
       " ('H', '4')]"
      ]
     },
     "execution_count": 115,
     "metadata": {},
     "output_type": "execute_result"
    }
   ],
   "source": [
    "[*product(list(\"SHAH\"), \"1234\")]"
   ]
  },
  {
   "cell_type": "code",
   "execution_count": null,
   "id": "8d29d483",
   "metadata": {
    "hidden": true
   },
   "outputs": [],
   "source": [
    "repeat()"
   ]
  },
  {
   "cell_type": "code",
   "execution_count": null,
   "id": "8aa11f69",
   "metadata": {
    "hidden": true
   },
   "outputs": [],
   "source": [
    "starmap()"
   ]
  },
  {
   "cell_type": "code",
   "execution_count": null,
   "id": "6ef28210",
   "metadata": {
    "hidden": true
   },
   "outputs": [],
   "source": [
    "takewhile()"
   ]
  },
  {
   "cell_type": "code",
   "execution_count": 116,
   "id": "36cbc79d",
   "metadata": {
    "hidden": true
   },
   "outputs": [
    {
     "name": "stdout",
     "output_type": "stream",
     "text": [
      "Help on built-in function tee in module itertools:\n",
      "\n",
      "tee(iterable, n=2, /)\n",
      "    Returns a tuple of n independent iterators.\n",
      "\n"
     ]
    }
   ],
   "source": [
    "help(tee)"
   ]
  },
  {
   "cell_type": "code",
   "execution_count": null,
   "id": "e841558f",
   "metadata": {
    "hidden": true
   },
   "outputs": [],
   "source": [
    "tee()"
   ]
  },
  {
   "cell_type": "code",
   "execution_count": null,
   "id": "c7b5b07d",
   "metadata": {
    "hidden": true
   },
   "outputs": [],
   "source": [
    "zip_longest()"
   ]
  },
  {
   "cell_type": "code",
   "execution_count": null,
   "id": "a4d07f42",
   "metadata": {
    "hidden": true
   },
   "outputs": [],
   "source": []
  },
  {
   "cell_type": "code",
   "execution_count": null,
   "id": "074ce6d2",
   "metadata": {
    "hidden": true
   },
   "outputs": [],
   "source": []
  },
  {
   "cell_type": "code",
   "execution_count": null,
   "id": "0602dd9d",
   "metadata": {
    "hidden": true
   },
   "outputs": [],
   "source": [
    "L = [randrange(-5,5) for _ in range(10)]; L"
   ]
  },
  {
   "cell_type": "code",
   "execution_count": null,
   "id": "20774f09",
   "metadata": {
    "hidden": true
   },
   "outputs": [],
   "source": [
    "# help(itertools.groupby)"
   ]
  },
  {
   "cell_type": "code",
   "execution_count": null,
   "id": "9659dc81",
   "metadata": {
    "hidden": true
   },
   "outputs": [],
   "source": [
    "[*groupby(L)]"
   ]
  },
  {
   "cell_type": "code",
   "execution_count": null,
   "id": "2e71a1cd",
   "metadata": {
    "hidden": true
   },
   "outputs": [],
   "source": [
    "L = sorted(L)"
   ]
  },
  {
   "cell_type": "code",
   "execution_count": null,
   "id": "37dfd760",
   "metadata": {
    "hidden": true
   },
   "outputs": [],
   "source": [
    "[*groupby(L)]"
   ]
  },
  {
   "cell_type": "markdown",
   "id": "82110a93",
   "metadata": {
    "heading_collapsed": true
   },
   "source": [
    "## setuptools:"
   ]
  },
  {
   "cell_type": "code",
   "execution_count": 88,
   "id": "2c3ef9b5",
   "metadata": {
    "hidden": true
   },
   "outputs": [],
   "source": [
    "import setuptools"
   ]
  },
  {
   "cell_type": "code",
   "execution_count": 123,
   "id": "8066e094",
   "metadata": {
    "hidden": true
   },
   "outputs": [],
   "source": [
    "# dir(setuptools)"
   ]
  },
  {
   "cell_type": "code",
   "execution_count": null,
   "id": "9b3dc5bb",
   "metadata": {
    "hidden": true
   },
   "outputs": [],
   "source": []
  },
  {
   "cell_type": "code",
   "execution_count": null,
   "id": "1fc6d379",
   "metadata": {
    "hidden": true
   },
   "outputs": [],
   "source": []
  },
  {
   "cell_type": "code",
   "execution_count": null,
   "id": "84ddb6cd",
   "metadata": {
    "hidden": true
   },
   "outputs": [],
   "source": []
  },
  {
   "cell_type": "code",
   "execution_count": null,
   "id": "f21ea870",
   "metadata": {
    "hidden": true
   },
   "outputs": [],
   "source": []
  },
  {
   "cell_type": "markdown",
   "id": "776c860e",
   "metadata": {
    "heading_collapsed": true
   },
   "source": [
    "## random:"
   ]
  },
  {
   "cell_type": "code",
   "execution_count": 3,
   "id": "c49e9dbb",
   "metadata": {
    "hidden": true
   },
   "outputs": [],
   "source": [
    "import random"
   ]
  },
  {
   "cell_type": "markdown",
   "id": "202a77b7",
   "metadata": {
    "hidden": true
   },
   "source": [
    "`betavariate(...)`, `choice(...)`, `choices(...)`, `expovariate(...)`, `gammavariate(...)`, `gauss(...)`, `getrandbits(...)`, `getstate(...)`, `lognormvariate(...)`, `normalvariate(...)`, `paretovariate(...)`, `randint(...)`, `random(...)`, `randrange(...)`, `sample(...)`, `seed(...)`, `setstate(...)`, `shuffle(...)`, `triangular(...)`, `uniform(...)`, `vonmisesvariate(...)`, `weibullvariate(...)`, "
   ]
  },
  {
   "cell_type": "code",
   "execution_count": 5,
   "id": "1d961857",
   "metadata": {
    "hidden": true
   },
   "outputs": [
    {
     "name": "stdout",
     "output_type": "stream",
     "text": [
      "Help on module random:\n",
      "\n",
      "NAME\n",
      "    random - Random variable generators.\n",
      "\n",
      "MODULE REFERENCE\n",
      "    https://docs.python.org/3.8/library/random\n",
      "    \n",
      "    The following documentation is automatically generated from the Python\n",
      "    source files.  It may be incomplete, incorrect or include features that\n",
      "    are considered implementation detail and may vary between Python\n",
      "    implementations.  When in doubt, consult the module reference at the\n",
      "    location listed above.\n",
      "\n",
      "DESCRIPTION\n",
      "        integers\n",
      "        --------\n",
      "               uniform within range\n",
      "    \n",
      "        sequences\n",
      "        ---------\n",
      "               pick random element\n",
      "               pick random sample\n",
      "               pick weighted random sample\n",
      "               generate random permutation\n",
      "    \n",
      "        distributions on the real line:\n",
      "        ------------------------------\n",
      "               uniform\n",
      "               triangular\n",
      "               normal (Gaussian)\n",
      "               lognormal\n",
      "               negative exponential\n",
      "               gamma\n",
      "               beta\n",
      "               pareto\n",
      "               Weibull\n",
      "    \n",
      "        distributions on the circle (angles 0 to 2pi)\n",
      "        ---------------------------------------------\n",
      "               circular uniform\n",
      "               von Mises\n",
      "    \n",
      "    General notes on the underlying Mersenne Twister core generator:\n",
      "    \n",
      "    * The period is 2**19937-1.\n",
      "    * It is one of the most extensively tested generators in existence.\n",
      "    * The random() method is implemented in C, executes in a single Python step,\n",
      "      and is, therefore, threadsafe.\n",
      "\n",
      "CLASSES\n",
      "    _random.Random(builtins.object)\n",
      "        Random\n",
      "            SystemRandom\n",
      "    \n",
      "    class Random(_random.Random)\n",
      "     |  Random(x=None)\n",
      "     |  \n",
      "     |  Random number generator base class used by bound module functions.\n",
      "     |  \n",
      "     |  Used to instantiate instances of Random to get generators that don't\n",
      "     |  share state.\n",
      "     |  \n",
      "     |  Class Random can also be subclassed if you want to use a different basic\n",
      "     |  generator of your own devising: in that case, override the following\n",
      "     |  methods:  random(), seed(), getstate(), and setstate().\n",
      "     |  Optionally, implement a getrandbits() method so that randrange()\n",
      "     |  can cover arbitrarily large ranges.\n",
      "     |  \n",
      "     |  Method resolution order:\n",
      "     |      Random\n",
      "     |      _random.Random\n",
      "     |      builtins.object\n",
      "     |  \n",
      "     |  Methods defined here:\n",
      "     |  \n",
      "     |  __getstate__(self)\n",
      "     |      # Issue 17489: Since __reduce__ was defined to fix #759889 this is no\n",
      "     |      # longer called; we leave it here because it has been here since random was\n",
      "     |      # rewritten back in 2001 and why risk breaking something.\n",
      "     |  \n",
      "     |  __init__(self, x=None)\n",
      "     |      Initialize an instance.\n",
      "     |      \n",
      "     |      Optional argument x controls seeding, as for Random.seed().\n",
      "     |  \n",
      "     |  __reduce__(self)\n",
      "     |      Helper for pickle.\n",
      "     |  \n",
      "     |  __setstate__(self, state)\n",
      "     |  \n",
      "     |  betavariate(self, alpha, beta)\n",
      "     |      Beta distribution.\n",
      "     |      \n",
      "     |      Conditions on the parameters are alpha > 0 and beta > 0.\n",
      "     |      Returned values range between 0 and 1.\n",
      "     |  \n",
      "     |  choice(self, seq)\n",
      "     |      Choose a random element from a non-empty sequence.\n",
      "     |  \n",
      "     |  choices(self, population, weights=None, *, cum_weights=None, k=1)\n",
      "     |      Return a k sized list of population elements chosen with replacement.\n",
      "     |      \n",
      "     |      If the relative weights or cumulative weights are not specified,\n",
      "     |      the selections are made with equal probability.\n",
      "     |  \n",
      "     |  expovariate(self, lambd)\n",
      "     |      Exponential distribution.\n",
      "     |      \n",
      "     |      lambd is 1.0 divided by the desired mean.  It should be\n",
      "     |      nonzero.  (The parameter would be called \"lambda\", but that is\n",
      "     |      a reserved word in Python.)  Returned values range from 0 to\n",
      "     |      positive infinity if lambd is positive, and from negative\n",
      "     |      infinity to 0 if lambd is negative.\n",
      "     |  \n",
      "     |  gammavariate(self, alpha, beta)\n",
      "     |      Gamma distribution.  Not the gamma function!\n",
      "     |      \n",
      "     |      Conditions on the parameters are alpha > 0 and beta > 0.\n",
      "     |      \n",
      "     |      The probability distribution function is:\n",
      "     |      \n",
      "     |                  x ** (alpha - 1) * math.exp(-x / beta)\n",
      "     |        pdf(x) =  --------------------------------------\n",
      "     |                    math.gamma(alpha) * beta ** alpha\n",
      "     |  \n",
      "     |  gauss(self, mu, sigma)\n",
      "     |      Gaussian distribution.\n",
      "     |      \n",
      "     |      mu is the mean, and sigma is the standard deviation.  This is\n",
      "     |      slightly faster than the normalvariate() function.\n",
      "     |      \n",
      "     |      Not thread-safe without a lock around calls.\n",
      "     |  \n",
      "     |  getstate(self)\n",
      "     |      Return internal state; can be passed to setstate() later.\n",
      "     |  \n",
      "     |  lognormvariate(self, mu, sigma)\n",
      "     |      Log normal distribution.\n",
      "     |      \n",
      "     |      If you take the natural logarithm of this distribution, you'll get a\n",
      "     |      normal distribution with mean mu and standard deviation sigma.\n",
      "     |      mu can have any value, and sigma must be greater than zero.\n",
      "     |  \n",
      "     |  normalvariate(self, mu, sigma)\n",
      "     |      Normal distribution.\n",
      "     |      \n",
      "     |      mu is the mean, and sigma is the standard deviation.\n",
      "     |  \n",
      "     |  paretovariate(self, alpha)\n",
      "     |      Pareto distribution.  alpha is the shape parameter.\n",
      "     |  \n",
      "     |  randint(self, a, b)\n",
      "     |      Return random integer in range [a, b], including both end points.\n",
      "     |  \n",
      "     |  randrange(self, start, stop=None, step=1, _int=<class 'int'>)\n",
      "     |      Choose a random item from range(start, stop[, step]).\n",
      "     |      \n",
      "     |      This fixes the problem with randint() which includes the\n",
      "     |      endpoint; in Python this is usually not what you want.\n",
      "     |  \n",
      "     |  sample(self, population, k)\n",
      "     |      Chooses k unique random elements from a population sequence or set.\n",
      "     |      \n",
      "     |      Returns a new list containing elements from the population while\n",
      "     |      leaving the original population unchanged.  The resulting list is\n",
      "     |      in selection order so that all sub-slices will also be valid random\n",
      "     |      samples.  This allows raffle winners (the sample) to be partitioned\n",
      "     |      into grand prize and second place winners (the subslices).\n",
      "     |      \n",
      "     |      Members of the population need not be hashable or unique.  If the\n",
      "     |      population contains repeats, then each occurrence is a possible\n",
      "     |      selection in the sample.\n",
      "     |      \n",
      "     |      To choose a sample in a range of integers, use range as an argument.\n",
      "     |      This is especially fast and space efficient for sampling from a\n",
      "     |      large population:   sample(range(10000000), 60)\n",
      "     |  \n",
      "     |  seed(self, a=None, version=2)\n",
      "     |      Initialize internal state from hashable object.\n",
      "     |      \n",
      "     |      None or no argument seeds from current time or from an operating\n",
      "     |      system specific randomness source if available.\n",
      "     |      \n",
      "     |      If *a* is an int, all bits are used.\n",
      "     |      \n",
      "     |      For version 2 (the default), all of the bits are used if *a* is a str,\n",
      "     |      bytes, or bytearray.  For version 1 (provided for reproducing random\n",
      "     |      sequences from older versions of Python), the algorithm for str and\n",
      "     |      bytes generates a narrower range of seeds.\n",
      "     |  \n",
      "     |  setstate(self, state)\n",
      "     |      Restore internal state from object returned by getstate().\n",
      "     |  \n",
      "     |  shuffle(self, x, random=None)\n",
      "     |      Shuffle list x in place, and return None.\n",
      "     |      \n",
      "     |      Optional argument random is a 0-argument function returning a\n",
      "     |      random float in [0.0, 1.0); if it is the default None, the\n",
      "     |      standard random.random will be used.\n",
      "     |  \n",
      "     |  triangular(self, low=0.0, high=1.0, mode=None)\n",
      "     |      Triangular distribution.\n",
      "     |      \n",
      "     |      Continuous distribution bounded by given lower and upper limits,\n",
      "     |      and having a given mode value in-between.\n",
      "     |      \n",
      "     |      http://en.wikipedia.org/wiki/Triangular_distribution\n",
      "     |  \n",
      "     |  uniform(self, a, b)\n",
      "     |      Get a random number in the range [a, b) or [a, b] depending on rounding.\n",
      "     |  \n",
      "     |  vonmisesvariate(self, mu, kappa)\n",
      "     |      Circular data distribution.\n",
      "     |      \n",
      "     |      mu is the mean angle, expressed in radians between 0 and 2*pi, and\n",
      "     |      kappa is the concentration parameter, which must be greater than or\n",
      "     |      equal to zero.  If kappa is equal to zero, this distribution reduces\n",
      "     |      to a uniform random angle over the range 0 to 2*pi.\n",
      "     |  \n",
      "     |  weibullvariate(self, alpha, beta)\n",
      "     |      Weibull distribution.\n",
      "     |      \n",
      "     |      alpha is the scale parameter and beta is the shape parameter.\n",
      "     |  \n",
      "     |  ----------------------------------------------------------------------\n",
      "     |  Class methods defined here:\n",
      "     |  \n",
      "     |  __init_subclass__(**kwargs) from builtins.type\n",
      "     |      Control how subclasses generate random integers.\n",
      "     |      \n",
      "     |      The algorithm a subclass can use depends on the random() and/or\n",
      "     |      getrandbits() implementation available to it and determines\n",
      "     |      whether it can generate random integers from arbitrarily large\n",
      "     |      ranges.\n",
      "     |  \n",
      "     |  ----------------------------------------------------------------------\n",
      "     |  Data descriptors defined here:\n",
      "     |  \n",
      "     |  __dict__\n",
      "     |      dictionary for instance variables (if defined)\n",
      "     |  \n",
      "     |  __weakref__\n",
      "     |      list of weak references to the object (if defined)\n",
      "     |  \n",
      "     |  ----------------------------------------------------------------------\n",
      "     |  Data and other attributes defined here:\n",
      "     |  \n",
      "     |  VERSION = 3\n",
      "     |  \n",
      "     |  ----------------------------------------------------------------------\n",
      "     |  Methods inherited from _random.Random:\n",
      "     |  \n",
      "     |  __getattribute__(self, name, /)\n",
      "     |      Return getattr(self, name).\n",
      "     |  \n",
      "     |  getrandbits(self, k, /)\n",
      "     |      getrandbits(k) -> x.  Generates an int with k random bits.\n",
      "     |  \n",
      "     |  random(self, /)\n",
      "     |      random() -> x in the interval [0, 1).\n",
      "     |  \n",
      "     |  ----------------------------------------------------------------------\n",
      "     |  Static methods inherited from _random.Random:\n",
      "     |  \n",
      "     |  __new__(*args, **kwargs) from builtins.type\n",
      "     |      Create and return a new object.  See help(type) for accurate signature.\n",
      "    \n",
      "    class SystemRandom(Random)\n",
      "     |  SystemRandom(x=None)\n",
      "     |  \n",
      "     |  Alternate random number generator using sources provided\n",
      "     |  by the operating system (such as /dev/urandom on Unix or\n",
      "     |  CryptGenRandom on Windows).\n",
      "     |  \n",
      "     |   Not available on all systems (see os.urandom() for details).\n",
      "     |  \n",
      "     |  Method resolution order:\n",
      "     |      SystemRandom\n",
      "     |      Random\n",
      "     |      _random.Random\n",
      "     |      builtins.object\n",
      "     |  \n",
      "     |  Methods defined here:\n",
      "     |  \n",
      "     |  getrandbits(self, k)\n",
      "     |      getrandbits(k) -> x.  Generates an int with k random bits.\n",
      "     |  \n",
      "     |  getstate = _notimplemented(self, *args, **kwds)\n",
      "     |  \n",
      "     |  random(self)\n",
      "     |      Get the next random number in the range [0.0, 1.0).\n",
      "     |  \n",
      "     |  seed(self, *args, **kwds)\n",
      "     |      Stub method.  Not used for a system random number generator.\n",
      "     |  \n",
      "     |  setstate = _notimplemented(self, *args, **kwds)\n",
      "     |  \n",
      "     |  ----------------------------------------------------------------------\n",
      "     |  Methods inherited from Random:\n",
      "     |  \n",
      "     |  __getstate__(self)\n",
      "     |      # Issue 17489: Since __reduce__ was defined to fix #759889 this is no\n",
      "     |      # longer called; we leave it here because it has been here since random was\n",
      "     |      # rewritten back in 2001 and why risk breaking something.\n",
      "     |  \n",
      "     |  __init__(self, x=None)\n",
      "     |      Initialize an instance.\n",
      "     |      \n",
      "     |      Optional argument x controls seeding, as for Random.seed().\n",
      "     |  \n",
      "     |  __reduce__(self)\n",
      "     |      Helper for pickle.\n",
      "     |  \n",
      "     |  __setstate__(self, state)\n",
      "     |  \n",
      "     |  betavariate(self, alpha, beta)\n",
      "     |      Beta distribution.\n",
      "     |      \n",
      "     |      Conditions on the parameters are alpha > 0 and beta > 0.\n",
      "     |      Returned values range between 0 and 1.\n",
      "     |  \n",
      "     |  choice(self, seq)\n",
      "     |      Choose a random element from a non-empty sequence.\n",
      "     |  \n",
      "     |  choices(self, population, weights=None, *, cum_weights=None, k=1)\n",
      "     |      Return a k sized list of population elements chosen with replacement.\n",
      "     |      \n",
      "     |      If the relative weights or cumulative weights are not specified,\n",
      "     |      the selections are made with equal probability.\n",
      "     |  \n",
      "     |  expovariate(self, lambd)\n",
      "     |      Exponential distribution.\n",
      "     |      \n",
      "     |      lambd is 1.0 divided by the desired mean.  It should be\n",
      "     |      nonzero.  (The parameter would be called \"lambda\", but that is\n",
      "     |      a reserved word in Python.)  Returned values range from 0 to\n",
      "     |      positive infinity if lambd is positive, and from negative\n",
      "     |      infinity to 0 if lambd is negative.\n",
      "     |  \n",
      "     |  gammavariate(self, alpha, beta)\n",
      "     |      Gamma distribution.  Not the gamma function!\n",
      "     |      \n",
      "     |      Conditions on the parameters are alpha > 0 and beta > 0.\n",
      "     |      \n",
      "     |      The probability distribution function is:\n",
      "     |      \n",
      "     |                  x ** (alpha - 1) * math.exp(-x / beta)\n",
      "     |        pdf(x) =  --------------------------------------\n",
      "     |                    math.gamma(alpha) * beta ** alpha\n",
      "     |  \n",
      "     |  gauss(self, mu, sigma)\n",
      "     |      Gaussian distribution.\n",
      "     |      \n",
      "     |      mu is the mean, and sigma is the standard deviation.  This is\n",
      "     |      slightly faster than the normalvariate() function.\n",
      "     |      \n",
      "     |      Not thread-safe without a lock around calls.\n",
      "     |  \n",
      "     |  lognormvariate(self, mu, sigma)\n",
      "     |      Log normal distribution.\n",
      "     |      \n",
      "     |      If you take the natural logarithm of this distribution, you'll get a\n",
      "     |      normal distribution with mean mu and standard deviation sigma.\n",
      "     |      mu can have any value, and sigma must be greater than zero.\n",
      "     |  \n",
      "     |  normalvariate(self, mu, sigma)\n",
      "     |      Normal distribution.\n",
      "     |      \n",
      "     |      mu is the mean, and sigma is the standard deviation.\n",
      "     |  \n",
      "     |  paretovariate(self, alpha)\n",
      "     |      Pareto distribution.  alpha is the shape parameter.\n",
      "     |  \n",
      "     |  randint(self, a, b)\n",
      "     |      Return random integer in range [a, b], including both end points.\n",
      "     |  \n",
      "     |  randrange(self, start, stop=None, step=1, _int=<class 'int'>)\n",
      "     |      Choose a random item from range(start, stop[, step]).\n",
      "     |      \n",
      "     |      This fixes the problem with randint() which includes the\n",
      "     |      endpoint; in Python this is usually not what you want.\n",
      "     |  \n",
      "     |  sample(self, population, k)\n",
      "     |      Chooses k unique random elements from a population sequence or set.\n",
      "     |      \n",
      "     |      Returns a new list containing elements from the population while\n",
      "     |      leaving the original population unchanged.  The resulting list is\n",
      "     |      in selection order so that all sub-slices will also be valid random\n",
      "     |      samples.  This allows raffle winners (the sample) to be partitioned\n",
      "     |      into grand prize and second place winners (the subslices).\n",
      "     |      \n",
      "     |      Members of the population need not be hashable or unique.  If the\n",
      "     |      population contains repeats, then each occurrence is a possible\n",
      "     |      selection in the sample.\n",
      "     |      \n",
      "     |      To choose a sample in a range of integers, use range as an argument.\n",
      "     |      This is especially fast and space efficient for sampling from a\n",
      "     |      large population:   sample(range(10000000), 60)\n",
      "     |  \n",
      "     |  shuffle(self, x, random=None)\n",
      "     |      Shuffle list x in place, and return None.\n",
      "     |      \n",
      "     |      Optional argument random is a 0-argument function returning a\n",
      "     |      random float in [0.0, 1.0); if it is the default None, the\n",
      "     |      standard random.random will be used.\n",
      "     |  \n",
      "     |  triangular(self, low=0.0, high=1.0, mode=None)\n",
      "     |      Triangular distribution.\n",
      "     |      \n",
      "     |      Continuous distribution bounded by given lower and upper limits,\n",
      "     |      and having a given mode value in-between.\n",
      "     |      \n",
      "     |      http://en.wikipedia.org/wiki/Triangular_distribution\n",
      "     |  \n",
      "     |  uniform(self, a, b)\n",
      "     |      Get a random number in the range [a, b) or [a, b] depending on rounding.\n",
      "     |  \n",
      "     |  vonmisesvariate(self, mu, kappa)\n",
      "     |      Circular data distribution.\n",
      "     |      \n",
      "     |      mu is the mean angle, expressed in radians between 0 and 2*pi, and\n",
      "     |      kappa is the concentration parameter, which must be greater than or\n",
      "     |      equal to zero.  If kappa is equal to zero, this distribution reduces\n",
      "     |      to a uniform random angle over the range 0 to 2*pi.\n",
      "     |  \n",
      "     |  weibullvariate(self, alpha, beta)\n",
      "     |      Weibull distribution.\n",
      "     |      \n",
      "     |      alpha is the scale parameter and beta is the shape parameter.\n",
      "     |  \n",
      "     |  ----------------------------------------------------------------------\n",
      "     |  Class methods inherited from Random:\n",
      "     |  \n",
      "     |  __init_subclass__(**kwargs) from builtins.type\n",
      "     |      Control how subclasses generate random integers.\n",
      "     |      \n",
      "     |      The algorithm a subclass can use depends on the random() and/or\n",
      "     |      getrandbits() implementation available to it and determines\n",
      "     |      whether it can generate random integers from arbitrarily large\n",
      "     |      ranges.\n",
      "     |  \n",
      "     |  ----------------------------------------------------------------------\n",
      "     |  Data descriptors inherited from Random:\n",
      "     |  \n",
      "     |  __dict__\n",
      "     |      dictionary for instance variables (if defined)\n",
      "     |  \n",
      "     |  __weakref__\n",
      "     |      list of weak references to the object (if defined)\n",
      "     |  \n",
      "     |  ----------------------------------------------------------------------\n",
      "     |  Data and other attributes inherited from Random:\n",
      "     |  \n",
      "     |  VERSION = 3\n",
      "     |  \n",
      "     |  ----------------------------------------------------------------------\n",
      "     |  Methods inherited from _random.Random:\n",
      "     |  \n",
      "     |  __getattribute__(self, name, /)\n",
      "     |      Return getattr(self, name).\n",
      "     |  \n",
      "     |  ----------------------------------------------------------------------\n",
      "     |  Static methods inherited from _random.Random:\n",
      "     |  \n",
      "     |  __new__(*args, **kwargs) from builtins.type\n",
      "     |      Create and return a new object.  See help(type) for accurate signature.\n",
      "\n",
      "FUNCTIONS\n",
      "    betavariate(alpha, beta) method of Random instance\n",
      "        Beta distribution.\n",
      "        \n",
      "        Conditions on the parameters are alpha > 0 and beta > 0.\n",
      "        Returned values range between 0 and 1.\n",
      "    \n",
      "    choice(seq) method of Random instance\n",
      "        Choose a random element from a non-empty sequence.\n",
      "    \n",
      "    choices(population, weights=None, *, cum_weights=None, k=1) method of Random instance\n",
      "        Return a k sized list of population elements chosen with replacement.\n",
      "        \n",
      "        If the relative weights or cumulative weights are not specified,\n",
      "        the selections are made with equal probability.\n",
      "    \n",
      "    expovariate(lambd) method of Random instance\n",
      "        Exponential distribution.\n",
      "        \n",
      "        lambd is 1.0 divided by the desired mean.  It should be\n",
      "        nonzero.  (The parameter would be called \"lambda\", but that is\n",
      "        a reserved word in Python.)  Returned values range from 0 to\n",
      "        positive infinity if lambd is positive, and from negative\n",
      "        infinity to 0 if lambd is negative.\n",
      "    \n",
      "    gammavariate(alpha, beta) method of Random instance\n",
      "        Gamma distribution.  Not the gamma function!\n",
      "        \n",
      "        Conditions on the parameters are alpha > 0 and beta > 0.\n",
      "        \n",
      "        The probability distribution function is:\n",
      "        \n",
      "                    x ** (alpha - 1) * math.exp(-x / beta)\n",
      "          pdf(x) =  --------------------------------------\n",
      "                      math.gamma(alpha) * beta ** alpha\n",
      "    \n",
      "    gauss(mu, sigma) method of Random instance\n",
      "        Gaussian distribution.\n",
      "        \n",
      "        mu is the mean, and sigma is the standard deviation.  This is\n",
      "        slightly faster than the normalvariate() function.\n",
      "        \n",
      "        Not thread-safe without a lock around calls.\n",
      "    \n",
      "    getrandbits(k, /) method of Random instance\n",
      "        getrandbits(k) -> x.  Generates an int with k random bits.\n",
      "    \n",
      "    getstate() method of Random instance\n",
      "        Return internal state; can be passed to setstate() later.\n",
      "    \n",
      "    lognormvariate(mu, sigma) method of Random instance\n",
      "        Log normal distribution.\n",
      "        \n",
      "        If you take the natural logarithm of this distribution, you'll get a\n",
      "        normal distribution with mean mu and standard deviation sigma.\n",
      "        mu can have any value, and sigma must be greater than zero.\n",
      "    \n",
      "    normalvariate(mu, sigma) method of Random instance\n",
      "        Normal distribution.\n",
      "        \n",
      "        mu is the mean, and sigma is the standard deviation.\n",
      "    \n",
      "    paretovariate(alpha) method of Random instance\n",
      "        Pareto distribution.  alpha is the shape parameter.\n",
      "    \n",
      "    randint(a, b) method of Random instance\n",
      "        Return random integer in range [a, b], including both end points.\n",
      "    \n",
      "    random() method of Random instance\n",
      "        random() -> x in the interval [0, 1).\n",
      "    \n",
      "    randrange(start, stop=None, step=1, _int=<class 'int'>) method of Random instance\n",
      "        Choose a random item from range(start, stop[, step]).\n",
      "        \n",
      "        This fixes the problem with randint() which includes the\n",
      "        endpoint; in Python this is usually not what you want.\n",
      "    \n",
      "    sample(population, k) method of Random instance\n",
      "        Chooses k unique random elements from a population sequence or set.\n",
      "        \n",
      "        Returns a new list containing elements from the population while\n",
      "        leaving the original population unchanged.  The resulting list is\n",
      "        in selection order so that all sub-slices will also be valid random\n",
      "        samples.  This allows raffle winners (the sample) to be partitioned\n",
      "        into grand prize and second place winners (the subslices).\n",
      "        \n",
      "        Members of the population need not be hashable or unique.  If the\n",
      "        population contains repeats, then each occurrence is a possible\n",
      "        selection in the sample.\n",
      "        \n",
      "        To choose a sample in a range of integers, use range as an argument.\n",
      "        This is especially fast and space efficient for sampling from a\n",
      "        large population:   sample(range(10000000), 60)\n",
      "    \n",
      "    seed(a=None, version=2) method of Random instance\n",
      "        Initialize internal state from hashable object.\n",
      "        \n",
      "        None or no argument seeds from current time or from an operating\n",
      "        system specific randomness source if available.\n",
      "        \n",
      "        If *a* is an int, all bits are used.\n",
      "        \n",
      "        For version 2 (the default), all of the bits are used if *a* is a str,\n",
      "        bytes, or bytearray.  For version 1 (provided for reproducing random\n",
      "        sequences from older versions of Python), the algorithm for str and\n",
      "        bytes generates a narrower range of seeds.\n",
      "    \n",
      "    setstate(state) method of Random instance\n",
      "        Restore internal state from object returned by getstate().\n",
      "    \n",
      "    shuffle(x, random=None) method of Random instance\n",
      "        Shuffle list x in place, and return None.\n",
      "        \n",
      "        Optional argument random is a 0-argument function returning a\n",
      "        random float in [0.0, 1.0); if it is the default None, the\n",
      "        standard random.random will be used.\n",
      "    \n",
      "    triangular(low=0.0, high=1.0, mode=None) method of Random instance\n",
      "        Triangular distribution.\n",
      "        \n",
      "        Continuous distribution bounded by given lower and upper limits,\n",
      "        and having a given mode value in-between.\n",
      "        \n",
      "        http://en.wikipedia.org/wiki/Triangular_distribution\n",
      "    \n",
      "    uniform(a, b) method of Random instance\n",
      "        Get a random number in the range [a, b) or [a, b] depending on rounding.\n",
      "    \n",
      "    vonmisesvariate(mu, kappa) method of Random instance\n",
      "        Circular data distribution.\n",
      "        \n",
      "        mu is the mean angle, expressed in radians between 0 and 2*pi, and\n",
      "        kappa is the concentration parameter, which must be greater than or\n",
      "        equal to zero.  If kappa is equal to zero, this distribution reduces\n",
      "        to a uniform random angle over the range 0 to 2*pi.\n",
      "    \n",
      "    weibullvariate(alpha, beta) method of Random instance\n",
      "        Weibull distribution.\n",
      "        \n",
      "        alpha is the scale parameter and beta is the shape parameter.\n",
      "\n",
      "DATA\n",
      "    __all__ = ['Random', 'seed', 'random', 'uniform', 'randint', 'choice',...\n",
      "\n",
      "FILE\n",
      "    /Users/a.momin/opt/anaconda3/envs/fastai/lib/python3.8/random.py\n",
      "\n",
      "\n"
     ]
    }
   ],
   "source": [
    "help(random)"
   ]
  },
  {
   "cell_type": "code",
   "execution_count": null,
   "id": "41bbb250",
   "metadata": {
    "hidden": true
   },
   "outputs": [],
   "source": [
    "from random import random, randint, randrange, choice, choices, shuffle, sample"
   ]
  },
  {
   "cell_type": "code",
   "execution_count": null,
   "id": "d256ebc3",
   "metadata": {
    "hidden": true
   },
   "outputs": [],
   "source": [
    "L = [*range(10)]"
   ]
  },
  {
   "cell_type": "code",
   "execution_count": null,
   "id": "d7274e65",
   "metadata": {
    "hidden": true
   },
   "outputs": [],
   "source": [
    "shuffle(L) ## Inplace shuffling\n",
    "L"
   ]
  },
  {
   "cell_type": "code",
   "execution_count": null,
   "id": "be2405d2",
   "metadata": {
    "hidden": true
   },
   "outputs": [],
   "source": [
    "choice(L)"
   ]
  },
  {
   "cell_type": "code",
   "execution_count": null,
   "id": "086e0320",
   "metadata": {
    "hidden": true
   },
   "outputs": [],
   "source": [
    "choices(L,k=2)"
   ]
  },
  {
   "cell_type": "code",
   "execution_count": null,
   "id": "4cabac6c",
   "metadata": {
    "hidden": true
   },
   "outputs": [],
   "source": [
    "randrange(-5,5)\n",
    "randrange(2)"
   ]
  },
  {
   "cell_type": "code",
   "execution_count": null,
   "id": "71602ca4",
   "metadata": {
    "hidden": true
   },
   "outputs": [],
   "source": [
    "randint(-5,5)\n",
    "# randint(5)"
   ]
  },
  {
   "cell_type": "markdown",
   "id": "658b98d2",
   "metadata": {
    "heading_collapsed": true
   },
   "source": [
    "## PIL:"
   ]
  },
  {
   "cell_type": "code",
   "execution_count": 3,
   "id": "d860d857",
   "metadata": {
    "hidden": true
   },
   "outputs": [],
   "source": [
    "from PIL import Image\n",
    "from matplotlib import pyplot as plt\n",
    "import PIL"
   ]
  },
  {
   "cell_type": "code",
   "execution_count": 4,
   "id": "dc5129ca",
   "metadata": {
    "hidden": true
   },
   "outputs": [],
   "source": [
    "# help(Image)"
   ]
  },
  {
   "cell_type": "code",
   "execution_count": 5,
   "id": "19abd9a1",
   "metadata": {
    "hidden": true
   },
   "outputs": [],
   "source": [
    "# !ls /Users/a.momin/Data/"
   ]
  },
  {
   "cell_type": "code",
   "execution_count": 9,
   "id": "d855ab9b",
   "metadata": {
    "hidden": true
   },
   "outputs": [],
   "source": [
    "image_path = '/Users/a.momin/Data/bird.jpg'"
   ]
  },
  {
   "cell_type": "code",
   "execution_count": 14,
   "id": "dfe2fe49",
   "metadata": {
    "hidden": true
   },
   "outputs": [
    {
     "data": {
      "text/plain": [
       "(1440, 1920, 3)"
      ]
     },
     "execution_count": 14,
     "metadata": {},
     "output_type": "execute_result"
    }
   ],
   "source": [
    "image_data = plt.imread(image_path); image_data.shape"
   ]
  },
  {
   "cell_type": "code",
   "execution_count": 15,
   "id": "71331f6d",
   "metadata": {
    "hidden": true
   },
   "outputs": [
    {
     "data": {
      "image/png": "[encoded data removed]",
      "text/plain": [
       "<Figure size 432x288 with 1 Axes>"
      ]
     },
     "metadata": {
      "needs_background": "light"
     },
     "output_type": "display_data"
    }
   ],
   "source": [
    "plt.imshow(image_data);"
   ]
  },
  {
   "cell_type": "code",
   "execution_count": 17,
   "id": "a9a23950",
   "metadata": {
    "hidden": true
   },
   "outputs": [
    {
     "data": {
      "image/png": "[encoded data removed]",
      "text/plain": [
       "<Figure size 432x288 with 1 Axes>"
      ]
     },
     "metadata": {
      "needs_background": "light"
     },
     "output_type": "display_data"
    }
   ],
   "source": [
    "image_A = Image.open(flower)\n",
    "plt.imshow(image_A);"
   ]
  },
  {
   "cell_type": "code",
   "execution_count": null,
   "id": "2364bde9",
   "metadata": {
    "hidden": true
   },
   "outputs": [],
   "source": []
  },
  {
   "cell_type": "code",
   "execution_count": null,
   "id": "58c67172",
   "metadata": {
    "hidden": true
   },
   "outputs": [],
   "source": []
  },
  {
   "cell_type": "markdown",
   "id": "3732ad7c",
   "metadata": {
    "heading_collapsed": true
   },
   "source": [
    "## json [RealPython: Working With JSON Data in Python](https://realpython.com/python-json/)"
   ]
  },
  {
   "cell_type": "markdown",
   "id": "395e7cfc",
   "metadata": {
    "hidden": true
   },
   "source": []
  },
  {
   "cell_type": "code",
   "execution_count": 1,
   "id": "9cb6871c",
   "metadata": {
    "hidden": true
   },
   "outputs": [],
   "source": [
    "import json"
   ]
  },
  {
   "cell_type": "code",
   "execution_count": 27,
   "id": "83b684c8",
   "metadata": {
    "hidden": true
   },
   "outputs": [],
   "source": [
    "# help(json)"
   ]
  },
  {
   "cell_type": "code",
   "execution_count": 21,
   "id": "1e376aa8",
   "metadata": {
    "hidden": true
   },
   "outputs": [],
   "source": [
    "# help(json.dump)"
   ]
  },
  {
   "cell_type": "markdown",
   "id": "2eff87b9",
   "metadata": {
    "hidden": true
   },
   "source": [
    "`codecs(...)`, `decoder(...)`, `detect_encoding(...)`, `dump(...)`, `dumps(...)`, `encoder(...)`, `load(...)`, `loads(...)`, `scanner(...)`, "
   ]
  },
  {
   "cell_type": "code",
   "execution_count": 11,
   "id": "0bdb7347",
   "metadata": {
    "hidden": true
   },
   "outputs": [],
   "source": [
    "# help(json.load)"
   ]
  },
  {
   "cell_type": "markdown",
   "id": "e2f10f7d",
   "metadata": {
    "heading_collapsed": true
   },
   "source": [
    "## pickle \n",
    "[RealPython: How to Persist Objects in Python](https://realpython.com/python-pickle-module/)"
   ]
  },
  {
   "cell_type": "code",
   "execution_count": null,
   "id": "1a839902",
   "metadata": {
    "hidden": true
   },
   "outputs": [],
   "source": []
  },
  {
   "cell_type": "markdown",
   "id": "23e06c03",
   "metadata": {
    "hidden": true
   },
   "source": [
    "- [Python object serialization](https://docs.python.org/3/library/pickle.html#module-pickle)\n",
    "- [RealPython: The Python pickle Module](https://realpython.com/python-pickle-module/#toc)"
   ]
  },
  {
   "cell_type": "code",
   "execution_count": 1,
   "id": "c24f0885",
   "metadata": {
    "hidden": true
   },
   "outputs": [],
   "source": [
    "import pickle"
   ]
  },
  {
   "cell_type": "code",
   "execution_count": 1,
   "id": "4bfe2794",
   "metadata": {
    "hidden": true
   },
   "outputs": [],
   "source": [
    "# dir(pickle)"
   ]
  },
  {
   "cell_type": "code",
   "execution_count": 2,
   "id": "c4470924",
   "metadata": {
    "hidden": true
   },
   "outputs": [],
   "source": [
    "# help(pickle.dumps)"
   ]
  },
  {
   "cell_type": "markdown",
   "id": "50ac9380",
   "metadata": {
    "heading_collapsed": true
   },
   "source": [
    "## requests: [REST APIs](https://realpython.com/api-integration-in-python/)"
   ]
  },
  {
   "cell_type": "markdown",
   "id": "889951d7",
   "metadata": {
    "heading_collapsed": true,
    "hidden": true
   },
   "source": [
    "#### [Corey:-Python Requests Tutorial](https://www.youtube.com/watch?v=tb8gHvYlCFs&t=827s)"
   ]
  },
  {
   "cell_type": "code",
   "execution_count": 6,
   "id": "8cb946a1",
   "metadata": {
    "hidden": true
   },
   "outputs": [],
   "source": [
    "import requests\n",
    "from urllib.request import Request, urlopen\n"
   ]
  },
  {
   "cell_type": "code",
   "execution_count": 20,
   "id": "36708fd8",
   "metadata": {
    "hidden": true
   },
   "outputs": [
    {
     "name": "stdout",
     "output_type": "stream",
     "text": [
      "{\n",
      "  \"args\": {\n",
      "    \"HonestyIsTheBestPolicy\": \"\"\n",
      "  }, \n",
      "  \"headers\": {\n",
      "    \"Accept\": \"*/*\", \n",
      "    \"Accept-Encoding\": \"gzip, deflate\", \n",
      "    \"Host\": \"httpbin.org\", \n",
      "    \"User-Agent\": \"python-requests/2.28.1\", \n",
      "    \"X-Amzn-Trace-Id\": \"Root=1-63a12364-599a82437bfeedb949b93d05\"\n",
      "  }, \n",
      "  \"origin\": \"24.193.108.116\", \n",
      "  \"url\": \"https://httpbin.org/get?HonestyIsTheBestPolicy\"\n",
      "}\n",
      "\n",
      "\n",
      "{'Date': 'Tue, 20 Dec 2022 02:52:20 GMT', 'Content-Type': 'application/json', 'Content-Length': '367', 'Connection': 'keep-alive', 'Server': 'gunicorn/19.9.0', 'Access-Control-Allow-Origin': '*', 'Access-Control-Allow-Credentials': 'true'}\n",
      "\n",
      "https://httpbin.org/get?HonestyIsTheBestPolicy\n"
     ]
    }
   ],
   "source": [
    "payload = {'page':2, 'count':25}\n",
    "res = requests.get('https://httpbin.org/get', params='HonestyIsTheBestPolicy')\n",
    "print(res.text, res.headers, res.url, sep='\\n\\n')"
   ]
  },
  {
   "cell_type": "code",
   "execution_count": 17,
   "id": "158bfa92",
   "metadata": {
    "hidden": true
   },
   "outputs": [],
   "source": [
    "payload = {'username': 'Shah', 'password': 'testing'}\n",
    "res = requests.post('https://httpbin.org/post', data=payload)\n",
    "res_dict = res.json()\n",
    "# print(res.text, res.headers, res.url, sep='\\n\\n')"
   ]
  },
  {
   "cell_type": "code",
   "execution_count": 18,
   "id": "66989d34",
   "metadata": {
    "hidden": true
   },
   "outputs": [
    {
     "name": "stdout",
     "output_type": "stream",
     "text": [
      "{\n",
      "  \"authenticated\": true, \n",
      "  \"user\": \"Shah\"\n",
      "}\n",
      "\n"
     ]
    }
   ],
   "source": [
    "res = requests.get('https://httpbin.org/basic-auth/Shah/testing', auth=('Shah','testing'))\n",
    "print(res.text)"
   ]
  },
  {
   "cell_type": "code",
   "execution_count": 23,
   "id": "ab56fb3b",
   "metadata": {
    "hidden": true
   },
   "outputs": [
    {
     "name": "stdout",
     "output_type": "stream",
     "text": [
      "{\n",
      "  \"args\": {}, \n",
      "  \"data\": \"\", \n",
      "  \"files\": {}, \n",
      "  \"form\": {}, \n",
      "  \"headers\": {\n",
      "    \"Accept\": \"*/*\", \n",
      "    \"Accept-Encoding\": \"gzip, deflate\", \n",
      "    \"Host\": \"httpbin.org\", \n",
      "    \"User-Agent\": \"python-requests/2.28.1\", \n",
      "    \"X-Amzn-Trace-Id\": \"Root=1-63a0add1-6ff199cc1ec9f3fd2abc0974\"\n",
      "  }, \n",
      "  \"origin\": \"24.193.108.116\", \n",
      "  \"url\": \"http://httpbin.org/delay/5\"\n",
      "}\n",
      "\n"
     ]
    }
   ],
   "source": [
    "res = requests.get('http://httpbin.org/delay/5')\n",
    "print(res.text)"
   ]
  },
  {
   "cell_type": "code",
   "execution_count": 5,
   "id": "a4fdc4c6",
   "metadata": {
    "hidden": true
   },
   "outputs": [
    {
     "name": "stdout",
     "output_type": "stream",
     "text": [
      "<Response [404]>\n"
     ]
    }
   ],
   "source": [
    "res = requests.get('http://httpbin.org/anythin')\n",
    "print(res) # Expected Results"
   ]
  },
  {
   "cell_type": "code",
   "execution_count": 1,
   "id": "ffd81e87",
   "metadata": {
    "hidden": true
   },
   "outputs": [],
   "source": [
    "# res = requests.get('http://httpbin.org/delay/3', timeout=1)\n",
    "# print(res) # Expected Results"
   ]
  },
  {
   "cell_type": "code",
   "execution_count": null,
   "id": "595276e0",
   "metadata": {
    "hidden": true
   },
   "outputs": [],
   "source": []
  },
  {
   "cell_type": "markdown",
   "id": "fb808cde",
   "metadata": {
    "heading_collapsed": true
   },
   "source": [
    "## argparse"
   ]
  },
  {
   "cell_type": "markdown",
   "id": "c5ef897e",
   "metadata": {
    "hidden": true
   },
   "source": [
    "[argparse](https://docs.python.org/3/library/argparse.html#module-argparse) || [Argparse Tutorial](https://docs.python.org/3/howto/argparse.html)"
   ]
  },
  {
   "cell_type": "code",
   "execution_count": null,
   "id": "7c991710",
   "metadata": {
    "hidden": true
   },
   "outputs": [],
   "source": []
  },
  {
   "cell_type": "code",
   "execution_count": null,
   "id": "55186b13",
   "metadata": {
    "hidden": true
   },
   "outputs": [],
   "source": []
  },
  {
   "cell_type": "code",
   "execution_count": null,
   "id": "3f6d75c3",
   "metadata": {
    "hidden": true
   },
   "outputs": [],
   "source": []
  },
  {
   "cell_type": "markdown",
   "id": "5cef627f",
   "metadata": {
    "heading_collapsed": true
   },
   "source": [
    "## re"
   ]
  },
  {
   "cell_type": "code",
   "execution_count": 2,
   "id": "f359369a",
   "metadata": {
    "hidden": true
   },
   "outputs": [],
   "source": [
    "import re"
   ]
  },
  {
   "cell_type": "markdown",
   "id": "df52a0e3",
   "metadata": {
    "hidden": true
   },
   "source": [
    "[Regular Expression HOWTO](https://docs.python.org/3/howto/regex.html) || [re](https://docs.python.org/3/library/re.html#module-re)"
   ]
  },
  {
   "cell_type": "code",
   "execution_count": 3,
   "id": "75691e84",
   "metadata": {
    "hidden": true
   },
   "outputs": [],
   "source": [
    "import re"
   ]
  },
  {
   "cell_type": "code",
   "execution_count": 39,
   "id": "990b0da9",
   "metadata": {
    "hidden": true
   },
   "outputs": [],
   "source": [
    "# help(re)"
   ]
  },
  {
   "cell_type": "markdown",
   "id": "65004691",
   "metadata": {
    "hidden": true
   },
   "source": [
    "<b style=\"color: tomato\">Regular Expression Resouces:</b>\n",
    "- [Tutorialspoint](https://www.tutorialspoint.com/python/python_reg_expressions.htm)\n",
    "- [W3School.com](https://www.w3schools.com/python/python_regex.asp)\n",
    "- [regexr](https://regexr.com/)"
   ]
  },
  {
   "cell_type": "markdown",
   "id": "06dba759",
   "metadata": {
    "hidden": true
   },
   "source": [
    "#### Reference for RegEx"
   ]
  },
  {
   "cell_type": "markdown",
   "id": "deb575a3",
   "metadata": {
    "hidden": true
   },
   "source": [
    "- [How to Match Any Pattern of Text by Corey Schafer](https://www.youtube.com/watch?v=sa-TUpSx1JA&t=1145s)\n",
    "- [How to Write and Match Regular Expressions (Regex) by Corey Schafer](https://www.youtube.com/watch?v=K8L6KVGG-7o)\n"
   ]
  },
  {
   "cell_type": "markdown",
   "id": "279de4c5",
   "metadata": {
    "hidden": true
   },
   "source": [
    "|Special Sequences| Meaning |\n",
    "|----------|----------|\n",
    "| `.`  |Any Character Except New Line|\n",
    "| `\\d` | Digit `(0-9)` |\n",
    "| `\\D` | Not a Digit `(0-9)` |\n",
    "| `\\w` | Word Character `(a-z, A-Z, 0-9, _)` |\n",
    "| `\\W` | Not a Word Character |\n",
    "| `\\s` | Whitespace (space, tab, newline) |\n",
    "| `\\S` | Not Whitespace (space, tab, newline) |"
   ]
  },
  {
   "cell_type": "markdown",
   "id": "8d350282",
   "metadata": {
    "hidden": true
   },
   "source": [
    "|Anchore| Meaning |\n",
    "|----------|----------|\n",
    "|`\\b` | Word Boundary |\n",
    "|`\\B` | Not a Word Boundary |\n",
    "|`^` | Beginning of a String |\n",
    "|`$` | End of a String |"
   ]
  },
  {
   "cell_type": "markdown",
   "id": "f7fdf762",
   "metadata": {
    "hidden": true
   },
   "source": [
    "|Characterset| Meaning |\n",
    "|----------|----------|\n",
    "|`[]`   | Matches Characters in brackets |\n",
    "|`[^ ]` | Matches Characters NOT in brackets |\n",
    "|`|`    | Either Or |\n",
    "|`( )`  | Group |"
   ]
  },
  {
   "cell_type": "markdown",
   "id": "53a80eb7",
   "metadata": {
    "hidden": true
   },
   "source": [
    "|Quantifiers| Meaning |\n",
    "|----------|----------|\n",
    "|`*`       |0 or More |\n",
    "|`+`       |1 or More |\n",
    "|`?`       |0 or One |\n",
    "|`{3}`     |Exact Number |\n",
    "|`{3,4}`   |Range of Numbers `(Min, Max)` |\n",
    "    "
   ]
  },
  {
   "cell_type": "markdown",
   "id": "1e53824c",
   "metadata": {
    "hidden": true
   },
   "source": [
    "Example:\n",
    "\n",
    "- `[a-zA-Z0-9_.+-]+@[a-zA-Z0-9-]+\\.[a-zA-Z0-9-.]+`"
   ]
  },
  {
   "cell_type": "markdown",
   "id": "c58a8e38",
   "metadata": {
    "hidden": true
   },
   "source": [
    "#### RegEx in Python"
   ]
  },
  {
   "cell_type": "code",
   "execution_count": null,
   "id": "365a1aa5",
   "metadata": {
    "hidden": true
   },
   "outputs": [],
   "source": [
    "states = ['Alabama', 'Alaska', 'Arizona', 'Arkansas', 'California', 'Colorado',\n",
    "          'Connecticut', 'Delaware', 'Florida', 'Georgia', 'Hawaii', 'Idaho',\n",
    "          'Illinois', 'Indiana', 'Iowa', 'Kansas', 'Kentucky', 'Louisiana',\n",
    "          'Maine', 'Maryland', 'Massachusetts', 'Michigan', 'Minnesota',\n",
    "          'Mississippi', 'Missouri', 'Montana', 'Nebraska', 'Nevada',\n",
    "          'New Hampshire', 'New Jersey', 'New Mexico', 'New York',\n",
    "          'North Carolina', 'North Dakota', 'Ohio', 'Oklahoma', 'Oregon',\n",
    "          'Pennsylvania', 'Rhode Island', 'South Carolina', 'South Dakota',\n",
    "          'Tennessee', 'Texas', 'Utah', 'Vermont', 'Virginia', 'Washington',\n",
    "          'West Virginia', 'Wisconsin', 'Wyoming']\n",
    "\n",
    "vowels = list('aeiou')"
   ]
  },
  {
   "cell_type": "code",
   "execution_count": 6,
   "id": "23e02116",
   "metadata": {
    "hidden": true
   },
   "outputs": [],
   "source": [
    "text_to_search = '''\n",
    "    abcdefghijklmnopqurtuvwxyz\n",
    "    ABCDEFGHIJKLMNOPQRSTUVWXYZ\n",
    "    1234567890\n",
    "    Ha HaHa\n",
    "    MetaCharacters (Need to be escaped):\n",
    "    . ^ $ * + ? { } [ ] \\ | ( )\n",
    "    coreyms.com\n",
    "    321-555-4321\n",
    "    123.555.1234\n",
    "    123*555*1234\n",
    "    800--555--1234\n",
    "    900-555-1234\n",
    "    Mr. Schafer\n",
    "    Mr Smith\n",
    "    Ms Davis\n",
    "    Mrs. Robinson\n",
    "    Mr. T\n",
    "'''\n",
    "\n",
    "sentence = 'Start a sentence and then bring it to an end'"
   ]
  },
  {
   "cell_type": "code",
   "execution_count": 9,
   "id": "4ecd7bf5",
   "metadata": {
    "hidden": true
   },
   "outputs": [],
   "source": [
    "pattern = re.compile(r'\\d{3}[.-]\\d{3}[.-]\\d{4}')\n",
    "matches = pattern.finditer(text_to_search)"
   ]
  },
  {
   "cell_type": "code",
   "execution_count": 10,
   "id": "f2bd1251",
   "metadata": {
    "hidden": true
   },
   "outputs": [
    {
     "name": "stdout",
     "output_type": "stream",
     "text": [
      "<re.Match object; span=(183, 195), match='321-555-4321'>\n",
      "<re.Match object; span=(200, 212), match='123.555.1234'>\n",
      "<re.Match object; span=(253, 265), match='900-555-1234'>\n"
     ]
    }
   ],
   "source": [
    "for match in matches: print(match)"
   ]
  },
  {
   "cell_type": "code",
   "execution_count": 11,
   "id": "60b8f002",
   "metadata": {
    "hidden": true
   },
   "outputs": [
    {
     "name": "stdout",
     "output_type": "stream",
     "text": [
      "<re.Match object; span=(270, 281), match='Mr. Schafer'>\n",
      "<re.Match object; span=(286, 294), match='Mr Smith'>\n",
      "<re.Match object; span=(330, 335), match='Mr. T'>\n"
     ]
    }
   ],
   "source": [
    "pattern = re.compile(r'Mr\\.? [A-Z]\\w*')\n",
    "matches = pattern.finditer(text_to_search)\n",
    "for match in matches: print(match)"
   ]
  },
  {
   "cell_type": "code",
   "execution_count": null,
   "id": "e56ba154",
   "metadata": {
    "hidden": true
   },
   "outputs": [],
   "source": []
  },
  {
   "cell_type": "code",
   "execution_count": 12,
   "id": "e90cf009",
   "metadata": {
    "hidden": true
   },
   "outputs": [
    {
     "name": "stdout",
     "output_type": "stream",
     "text": [
      "<re.Match object; span=(1, 24), match='CoreyMSchafer@gmail.com'>\n",
      "<re.Match object; span=(25, 53), match='corey.schafer@university.edu'>\n",
      "<re.Match object; span=(54, 83), match='corey-321-schafer@my-work.net'>\n",
      "<re.Match object; span=(84, 106), match='shah...Momin@gmail.com'>\n"
     ]
    }
   ],
   "source": [
    "emails = '''\n",
    "CoreyMSchafer@gmail.com\n",
    "corey.schafer@university.edu\n",
    "corey-321-schafer@my-work.net\n",
    "shah...Momin@gmail.com\n",
    "'''\n",
    "\n",
    "pattern = re.compile(r'[a-zA-Z0-9_.+-]+@[a-zA-Z0-9-]+\\.[a-zA-Z0-9-.]+')\n",
    "matches = pattern.finditer(emails)\n",
    "for match in matches: print(match)"
   ]
  },
  {
   "cell_type": "markdown",
   "id": "e9e8388b",
   "metadata": {
    "heading_collapsed": true
   },
   "source": [
    "## typing:"
   ]
  },
  {
   "cell_type": "code",
   "execution_count": 20,
   "id": "d3b609c3",
   "metadata": {
    "hidden": true
   },
   "outputs": [],
   "source": [
    "import typing"
   ]
  },
  {
   "cell_type": "code",
   "execution_count": 22,
   "id": "4b48eb71",
   "metadata": {
    "hidden": true
   },
   "outputs": [],
   "source": [
    "# help(typing)"
   ]
  },
  {
   "cell_type": "code",
   "execution_count": 24,
   "id": "1a46db1a",
   "metadata": {
    "hidden": true
   },
   "outputs": [],
   "source": [
    "# dir(typing)"
   ]
  },
  {
   "cell_type": "markdown",
   "id": "3cd77a39",
   "metadata": {
    "heading_collapsed": true
   },
   "source": [
    "## pytest"
   ]
  },
  {
   "cell_type": "markdown",
   "id": "b347eddb",
   "metadata": {
    "hidden": true
   },
   "source": [
    "- [Advanced testing with Pytest](https://learn.microsoft.com/en-us/training/modules/python-advanced-pytest/)"
   ]
  },
  {
   "cell_type": "markdown",
   "id": "e503ab23",
   "metadata": {
    "heading_collapsed": true
   },
   "source": [
    "## isort"
   ]
  },
  {
   "cell_type": "markdown",
   "id": "281d881c",
   "metadata": {
    "hidden": true
   },
   "source": [
    "`isort` is a Python utility / library to sort imports alphabetically, and automatically separated into sections and by type. It provides a command line utility, Python library and plugins for various editors to quickly sort all your imports. It requires Python 3.7+ to run but supports formatting Python 2 code too."
   ]
  },
  {
   "cell_type": "code",
   "execution_count": null,
   "id": "425c58c4",
   "metadata": {
    "hidden": true
   },
   "outputs": [],
   "source": []
  },
  {
   "cell_type": "markdown",
   "id": "e6d857ca",
   "metadata": {
    "heading_collapsed": true
   },
   "source": [
    "## SQL in Python:"
   ]
  },
  {
   "cell_type": "markdown",
   "id": "346f92d2",
   "metadata": {
    "hidden": true
   },
   "source": [
    "- [Connecting to MySQL Using Connector/Python](https://dev.mysql.com/doc/connector-python/en/connector-python-example-connecting.html)"
   ]
  },
  {
   "cell_type": "code",
   "execution_count": null,
   "id": "d83f0d64",
   "metadata": {
    "hidden": true
   },
   "outputs": [],
   "source": [
    "from sqlalchemy import create_engine"
   ]
  },
  {
   "cell_type": "code",
   "execution_count": null,
   "id": "3eb6e76e",
   "metadata": {
    "hidden": true
   },
   "outputs": [],
   "source": [
    "import mysql.connector"
   ]
  },
  {
   "cell_type": "code",
   "execution_count": null,
   "id": "dcbb9860",
   "metadata": {
    "hidden": true
   },
   "outputs": [],
   "source": [
    "config = {\n",
    "    'user': 'root',\n",
    "    'password': 'AMs#1300',\n",
    "    'host': 'localhost',\n",
    "    'database': 'mysql',\n",
    "    'raise_on_warnings': True\n",
    "}\n",
    "\n",
    "cnx = mysql.connector.connect(**config)\n",
    "\n",
    "cnx.close()"
   ]
  },
  {
   "cell_type": "code",
   "execution_count": null,
   "id": "732cb33d",
   "metadata": {
    "hidden": true
   },
   "outputs": [],
   "source": []
  },
  {
   "cell_type": "markdown",
   "id": "5d2a6e99",
   "metadata": {
    "hidden": true
   },
   "source": [
    "### Read and Write to SQL Query or Database Table"
   ]
  },
  {
   "cell_type": "markdown",
   "id": "150947cc",
   "metadata": {
    "hidden": true
   },
   "source": [
    "- `read_sql()`is a convenience wrapper around `read_sql_table()` and `read_sql_query()`"
   ]
  },
  {
   "cell_type": "code",
   "execution_count": null,
   "id": "3daaff20",
   "metadata": {
    "hidden": true
   },
   "outputs": [],
   "source": [
    "engine = create_engine('sqlite:///:memory:')\n",
    "pd.read_sql(SELECT * FROM my_table;, engine)\n",
    "pd.read_sql_table('my_table', engine)\n",
    "pd.read_sql_query(SELECT * FROM my_table;', engine)\n",
    "df.to_sql('myDf', engine)"
   ]
  },
  {
   "cell_type": "code",
   "execution_count": null,
   "id": "69830bf1",
   "metadata": {
    "hidden": true
   },
   "outputs": [],
   "source": []
  },
  {
   "cell_type": "code",
   "execution_count": null,
   "id": "1d4a510f",
   "metadata": {
    "hidden": true
   },
   "outputs": [],
   "source": []
  },
  {
   "cell_type": "markdown",
   "id": "5e43785f",
   "metadata": {},
   "source": [
    "## Excel in Python:"
   ]
  },
  {
   "cell_type": "code",
   "execution_count": null,
   "id": "6e464b62",
   "metadata": {},
   "outputs": [],
   "source": [
    "import datetime\n",
    "# from openpyxl import Workbook\n",
    "import os\n",
    "import openpyxl  # this module needed to be downloaded"
   ]
  },
  {
   "cell_type": "code",
   "execution_count": null,
   "id": "5a0e56bd",
   "metadata": {},
   "outputs": [],
   "source": [
    "wb = openpyxl.load_workbook('./data/mpdb.xlsx')\n",
    "shts = wb.get_sheet_names()\n",
    "print(shts)\n",
    "sheet1 = wb.get_sheet_by_name('EducationCites')\n",
    "print(sheet1)\n",
    "\n",
    "\n",
    "wb = openpyxl.Workbook()\n",
    "\n",
    "# grab the active worksheet\n",
    "ws = wb.active\n",
    "\n",
    "# Data can be assigned directly to cells\n",
    "ws['A1'] = 42\n",
    "\n",
    "# Rows can also be appended\n",
    "ws.append([1, 2, 3])\n",
    "\n",
    "# Python types will automatically be converted\n",
    "ws['A2'] = datetime.datetime.now()\n",
    "\n",
    "# Save the file\n",
    "wb.save(\"sample.xlsx\")"
   ]
  },
  {
   "cell_type": "markdown",
   "id": "4d8d568d",
   "metadata": {},
   "source": [
    "### Read multiple sheets from the same file"
   ]
  },
  {
   "cell_type": "code",
   "execution_count": null,
   "id": "44ac535a",
   "metadata": {},
   "outputs": [],
   "source": [
    "xlsx = pd.ExcelFile('file.xls')\n",
    "df = pd.read_excel(xlsx,  'Sheet1')"
   ]
  },
  {
   "cell_type": "markdown",
   "id": "c63fdfd2",
   "metadata": {},
   "source": [
    "### Read and Write to Excel"
   ]
  },
  {
   "cell_type": "code",
   "execution_count": null,
   "id": "c6c9673a",
   "metadata": {},
   "outputs": [],
   "source": [
    "pd.read_excel('file.xlsx')\n",
    "df.to_excel('dir/myDataFrame.xlsx',  sheet_name='Sheet1')"
   ]
  },
  {
   "cell_type": "code",
   "execution_count": null,
   "id": "136b59d6",
   "metadata": {},
   "outputs": [],
   "source": [
    "df.to_excel('pandas_to_excel.xlsx', sheet_name='new_sheet_name')"
   ]
  },
  {
   "cell_type": "code",
   "execution_count": null,
   "id": "7efbeb77",
   "metadata": {
    "id": "IRgvJ16EPKAG"
   },
   "outputs": [],
   "source": [
    "path = 'pandas_to_excel.xlsx'\n",
    "\n",
    "with pd.ExcelWriter(path) as writer:\n",
    "    writer.book = openpyxl.load_workbook(path)\n",
    "    df.to_excel(writer, sheet_name='new_sheet1')\n",
    "    df2.to_excel(writer, sheet_name='new_sheet2')"
   ]
  },
  {
   "cell_type": "code",
   "execution_count": null,
   "id": "6eda25c9",
   "metadata": {},
   "outputs": [],
   "source": []
  },
  {
   "cell_type": "code",
   "execution_count": null,
   "id": "81effde6",
   "metadata": {},
   "outputs": [],
   "source": []
  },
  {
   "cell_type": "markdown",
   "id": "56495784",
   "metadata": {
    "heading_collapsed": true
   },
   "source": [
    "# [Google Sheet with Python](https://developers.google.com/sheets/api/quickstart/python):"
   ]
  },
  {
   "cell_type": "markdown",
   "id": "132f0134",
   "metadata": {
    "hidden": true
   },
   "source": [
    "- [Google Sheets API Tutorial - 2019](https://www.youtube.com/watch?v=cnPlKLEGR7E)\n",
    "- [Google Sheets - Python API, Read & Write Data](https://www.youtube.com/watch?v=4ssigWmExak)"
   ]
  },
  {
   "cell_type": "code",
   "execution_count": null,
   "id": "387b4d27",
   "metadata": {
    "hidden": true
   },
   "outputs": [],
   "source": [
    "# import gspread\n",
    "# from oauth2client.service_account import ServiceAccountCredentials\n",
    "# from pprint import pprint"
   ]
  },
  {
   "cell_type": "code",
   "execution_count": null,
   "id": "03c624cf",
   "metadata": {
    "hidden": true
   },
   "outputs": [],
   "source": [
    "scope = [\"https://spreadsheets.google.com/feeds\",'https://www.googleapis.com/auth/spreadsheets',\"https://www.googleapis.com/auth/drive.file\",\"https://www.googleapis.com/auth/drive\"]\n",
    "\n",
    "creds = ServiceAccountCredentials.from_json_keyfile_name(\"creds.json\", scope)\n",
    "\n",
    "client = gspread.authorize(creds)\n",
    "\n",
    "sheet = client.open(\"tutorial\").sheet1  # Open the spreadhseet\n",
    "\n",
    "data = sheet.get_all_records()          # Get a list of all records\n",
    "\n",
    "row = sheet.row_values(3)               # Get a specific row\n",
    "col = sheet.col_values(3)               # Get a specific column\n",
    "cell = sheet.cell(1,2).value            # Get the value of a specific cell\n",
    "\n",
    "insertRow = [\"hello\", 5, \"red\", \"blue\"]\n",
    "sheet.add_rows(insertRow, 4)            # Insert the list as a row at index 4\n",
    "\n",
    "sheet.update_cell(2,2, \"CHANGED\")       # Update one cell\n",
    "\n",
    "numRows = sheet.row_count               # Get the number of rows in the sheet"
   ]
  },
  {
   "cell_type": "code",
   "execution_count": null,
   "id": "9e3d048b",
   "metadata": {
    "hidden": true
   },
   "outputs": [],
   "source": []
  },
  {
   "cell_type": "code",
   "execution_count": null,
   "id": "c57b5291",
   "metadata": {
    "hidden": true
   },
   "outputs": [],
   "source": [
    "from googleapiclient.discovery import build\n",
    "from google.oauth2 import service_account\n",
    "\n",
    "SCOPES = ['https://www.googleapis.com/auth/spreadsheets']\n",
    "SERVICE_ACCOUNT_FILE = '/Users/a.momin/Data/google_sheet_processing_key.json'\n",
    "\n",
    "creds = service_account.Credentials.from_service_account_file(\n",
    "        SERVICE_ACCOUNT_FILE, scopes=SCOPES)\n",
    "\n",
    "\n",
    "\n",
    "\n",
    "# If modifying these scopes, delete the file token.pickle.\n",
    "SCOPES = ['https://www.googleapis.com/auth/spreadsheets']\n",
    "\n",
    "# The ID and range of a sample spreadsheet.\n",
    "SAMPLE_SPREADSHEET_ID = '14vicD-Y-0zy2pVkjdHBLwIg-UOskL1mW9IXaD_AUcI8'\n",
    "\n",
    "\n",
    "service = build('sheets', 'v4', credentials=creds)\n",
    "\n",
    "sheet = service.spreadsheets()\n",
    "result = sheet.values().get(\n",
    "    spreadsheetId=SAMPLE_SPREADSHEET_ID,\n",
    "    range='SocialMedia!A1:C18').execute()\n",
    "\n",
    "values = result.get('values', [])\n",
    "# print(values)"
   ]
  },
  {
   "cell_type": "code",
   "execution_count": null,
   "id": "d0cf3159",
   "metadata": {
    "hidden": true
   },
   "outputs": [],
   "source": [
    "L = [['Shah', 'Farzana', 'Momin']]"
   ]
  },
  {
   "cell_type": "code",
   "execution_count": null,
   "id": "cba64bcf",
   "metadata": {
    "hidden": true
   },
   "outputs": [],
   "source": [
    "request = sheet.values().update(\n",
    "    spreadsheetId=SAMPLE_SPREADSHEET_ID, \n",
    "    range='gsheet_proc!B5', \n",
    "    valueInputOption='USER_ENTERED', \n",
    "    body={'values': L}\n",
    ").execute()"
   ]
  },
  {
   "cell_type": "code",
   "execution_count": null,
   "id": "5dbb7b22",
   "metadata": {
    "hidden": true
   },
   "outputs": [],
   "source": []
  },
  {
   "cell_type": "code",
   "execution_count": null,
   "id": "aad6a0a9",
   "metadata": {
    "hidden": true
   },
   "outputs": [],
   "source": []
  },
  {
   "cell_type": "code",
   "execution_count": null,
   "id": "d8d299ed",
   "metadata": {
    "hidden": true
   },
   "outputs": [],
   "source": []
  }
 ],
 "metadata": {
  "kernelspec": {
   "display_name": "Python 3 (ipykernel)",
   "language": "python",
   "name": "python3"
  },
  "language_info": {
   "codemirror_mode": {
    "name": "ipython",
    "version": 3
   },
   "file_extension": ".py",
   "mimetype": "text/x-python",
   "name": "python",
   "nbconvert_exporter": "python",
   "pygments_lexer": "ipython3",
   "version": "3.9.13"
  },
  "toc": {
   "base_numbering": 1,
   "nav_menu": {},
   "number_sections": false,
   "sideBar": true,
   "skip_h1_title": true,
   "title_cell": "Table of Contents",
   "title_sidebar": "Contents",
   "toc_cell": true,
   "toc_position": {},
   "toc_section_display": true,
   "toc_window_display": false
  }
 },
 "nbformat": 4,
 "nbformat_minor": 5
}
