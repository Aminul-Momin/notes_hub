{
 "cells": [
  {
   "cell_type": "markdown",
   "metadata": {
    "toc": true
   },
   "source": [
    "<h1>Table of Contents<span class=\"tocSkip\"></span></h1>\n",
    "<div class=\"toc\"><ul class=\"toc-item\"><li><span><a href=\"#Mutagen\" data-toc-modified-id=\"Mutagen-1\">Mutagen</a></span></li><li><span><a href=\"#EyeD3:\" data-toc-modified-id=\"EyeD3:-2\">EyeD3:</a></span></li><li><span><a href=\"#TinyTag:\" data-toc-modified-id=\"TinyTag:-3\">TinyTag:</a></span></li><li><span><a href=\"#Image\" data-toc-modified-id=\"Image-4\">Image</a></span></li><li><span><a href=\"#Convert-.wma-to-.mp3-using-ffmpeg\" data-toc-modified-id=\"Convert-.wma-to-.mp3-using-ffmpeg-5\">Convert <code>.wma</code> to <code>.mp3</code> using ffmpeg</a></span></li></ul></div>"
   ]
  },
  {
   "cell_type": "code",
   "execution_count": null,
   "metadata": {},
   "outputs": [],
   "source": []
  },
  {
   "cell_type": "code",
   "execution_count": 1,
   "metadata": {},
   "outputs": [],
   "source": [
    "import sys\n",
    "import os\n",
    "import re\n",
    "import shutil\n",
    "\n",
    "import PIL.Image as Image\n",
    "from tinytag import TinyTag\n",
    "import mutagen\n",
    "# import eyeD3"
   ]
  },
  {
   "cell_type": "markdown",
   "metadata": {},
   "source": [
    "- [How to read media file metadata in python](https://www.youtube.com/watch?v=OoSVzK0sp3s)\n",
    "- [Extracting Metadata From Images and Audio Files with Python](https://www.youtube.com/watch?v=zX81jd569c4)\n",
    "- [Automate YouTube To MP3 With Python (Beginner Tutorial)](https://www.youtube.com/watch?v=FsNPdhWmil4)\n",
    "- [FFMPEG Python - Convert Audio Files to MP3 SUPER FAST](https://www.youtube.com/watch?v=_PMpxfhqNxQ)\n",
    "\n",
    "- [How To Add Metadata And Embedd Image In MP3 using itune](https://www.youtube.com/watch?v=dUkWZPN5Hwg&t=231s)"
   ]
  },
  {
   "cell_type": "markdown",
   "metadata": {},
   "source": [
    "- [ffmpeg](https://ffmpeg.org/documentation.html)\n",
    "- [exiftool](https://exiftool.org/exiftool_pod.html)\n",
    "- [mutagen](https://mutagen.readthedocs.io/en/latest/)\n",
    "- [tinytag]()\n",
    "- [eyeD3](https://eyed3.readthedocs.io/en/latest/)"
   ]
  },
  {
   "cell_type": "code",
   "execution_count": 1,
   "metadata": {},
   "outputs": [],
   "source": [
    "import re"
   ]
  },
  {
   "cell_type": "code",
   "execution_count": null,
   "metadata": {},
   "outputs": [],
   "source": []
  },
  {
   "cell_type": "code",
   "execution_count": null,
   "metadata": {},
   "outputs": [],
   "source": []
  },
  {
   "cell_type": "code",
   "execution_count": 331,
   "metadata": {},
   "outputs": [],
   "source": [
    "mf1 = '/Users/a.momin/Data/O_Bhubon_Majhi.mp3'"
   ]
  },
  {
   "cell_type": "code",
   "execution_count": 332,
   "metadata": {},
   "outputs": [],
   "source": [
    "my_mp3_path = \"/Users/a.momin/Data/Aye_Mere.mp3\""
   ]
  },
  {
   "cell_type": "code",
   "execution_count": 333,
   "metadata": {},
   "outputs": [],
   "source": [
    "# ! cp /Users/a.momin/Desktop/Songs/Band-Feedback/O\\ Bhubon\\ Majhi.mp3 /Users/a.momin/Data/O_Bhubon_Majhi.mp3"
   ]
  },
  {
   "cell_type": "markdown",
   "metadata": {
    "heading_collapsed": true
   },
   "source": [
    "## Mutagen"
   ]
  },
  {
   "cell_type": "code",
   "execution_count": 334,
   "metadata": {
    "hidden": true
   },
   "outputs": [],
   "source": [
    "from mutagen.mp3 import MP3\n",
    "from mutagen.easyid3 import EasyID3"
   ]
  },
  {
   "cell_type": "code",
   "execution_count": 335,
   "metadata": {
    "hidden": true
   },
   "outputs": [],
   "source": [
    "# help(EasyID3)"
   ]
  },
  {
   "cell_type": "code",
   "execution_count": 336,
   "metadata": {
    "hidden": true
   },
   "outputs": [],
   "source": [
    "D = {\"album\": \"Best of Amir Khan\", \"albumartist\": \"Unknown\", \"artist\": \"Aye Mere Humsafar\"}"
   ]
  },
  {
   "cell_type": "code",
   "execution_count": 337,
   "metadata": {
    "hidden": true
   },
   "outputs": [
    {
     "ename": "TypeError",
     "evalue": "'Example Title' not a Frame instance",
     "output_type": "error",
     "traceback": [
      "\u001b[0;31m-------------------------------------------------------\u001b[0m",
      "\u001b[0;31mTypeError\u001b[0m             Traceback (most recent call last)",
      "\u001b[0;32m<ipython-input-337-2f114564591f>\u001b[0m in \u001b[0;36m<module>\u001b[0;34m\u001b[0m\n\u001b[1;32m      4\u001b[0m \u001b[0maudio\u001b[0m\u001b[0;34m.\u001b[0m\u001b[0mdelete\u001b[0m\u001b[0;34m(\u001b[0m\u001b[0;34m)\u001b[0m\u001b[0;34m\u001b[0m\u001b[0;34m\u001b[0m\u001b[0m\n\u001b[1;32m      5\u001b[0m \u001b[0;34m\u001b[0m\u001b[0m\n\u001b[0;32m----> 6\u001b[0;31m \u001b[0maudio\u001b[0m\u001b[0;34m[\u001b[0m\u001b[0;34m'title'\u001b[0m\u001b[0;34m]\u001b[0m \u001b[0;34m=\u001b[0m \u001b[0;34mu\"Example Title\"\u001b[0m\u001b[0;34m\u001b[0m\u001b[0;34m\u001b[0m\u001b[0m\n\u001b[0m\u001b[1;32m      7\u001b[0m \u001b[0;31m# audio['album'] = u\"Band-Mix\"\u001b[0m\u001b[0;34m\u001b[0m\u001b[0;34m\u001b[0m\u001b[0;34m\u001b[0m\u001b[0m\n\u001b[1;32m      8\u001b[0m \u001b[0;31m# audio.clear()\u001b[0m\u001b[0;34m\u001b[0m\u001b[0;34m\u001b[0m\u001b[0;34m\u001b[0m\u001b[0m\n",
      "\u001b[0;32m~/opt/anaconda3/envs/fastai/lib/python3.8/site-packages/mutagen/_file.py\u001b[0m in \u001b[0;36m__setitem__\u001b[0;34m(self, key, value)\u001b[0m\n\u001b[1;32m     72\u001b[0m         \u001b[0;32mif\u001b[0m \u001b[0mself\u001b[0m\u001b[0;34m.\u001b[0m\u001b[0mtags\u001b[0m \u001b[0;32mis\u001b[0m \u001b[0;32mNone\u001b[0m\u001b[0;34m:\u001b[0m\u001b[0;34m\u001b[0m\u001b[0;34m\u001b[0m\u001b[0m\n\u001b[1;32m     73\u001b[0m             \u001b[0mself\u001b[0m\u001b[0;34m.\u001b[0m\u001b[0madd_tags\u001b[0m\u001b[0;34m(\u001b[0m\u001b[0;34m)\u001b[0m\u001b[0;34m\u001b[0m\u001b[0;34m\u001b[0m\u001b[0m\n\u001b[0;32m---> 74\u001b[0;31m         \u001b[0mself\u001b[0m\u001b[0;34m.\u001b[0m\u001b[0mtags\u001b[0m\u001b[0;34m[\u001b[0m\u001b[0mkey\u001b[0m\u001b[0;34m]\u001b[0m \u001b[0;34m=\u001b[0m \u001b[0mvalue\u001b[0m\u001b[0;34m\u001b[0m\u001b[0;34m\u001b[0m\u001b[0m\n\u001b[0m\u001b[1;32m     75\u001b[0m \u001b[0;34m\u001b[0m\u001b[0m\n\u001b[1;32m     76\u001b[0m     \u001b[0;32mdef\u001b[0m \u001b[0m__delitem__\u001b[0m\u001b[0;34m(\u001b[0m\u001b[0mself\u001b[0m\u001b[0;34m,\u001b[0m \u001b[0mkey\u001b[0m\u001b[0;34m)\u001b[0m\u001b[0;34m:\u001b[0m\u001b[0;34m\u001b[0m\u001b[0;34m\u001b[0m\u001b[0m\n",
      "\u001b[0;32m~/opt/anaconda3/envs/fastai/lib/python3.8/site-packages/mutagen/id3/_tags.py\u001b[0m in \u001b[0;36m__setitem__\u001b[0;34m(self, key, tag)\u001b[0m\n\u001b[1;32m    337\u001b[0m     \u001b[0;32mdef\u001b[0m \u001b[0m__setitem__\u001b[0m\u001b[0;34m(\u001b[0m\u001b[0mself\u001b[0m\u001b[0;34m,\u001b[0m \u001b[0mkey\u001b[0m\u001b[0;34m,\u001b[0m \u001b[0mtag\u001b[0m\u001b[0;34m)\u001b[0m\u001b[0;34m:\u001b[0m\u001b[0;34m\u001b[0m\u001b[0;34m\u001b[0m\u001b[0m\n\u001b[1;32m    338\u001b[0m         \u001b[0;32mif\u001b[0m \u001b[0;32mnot\u001b[0m \u001b[0misinstance\u001b[0m\u001b[0;34m(\u001b[0m\u001b[0mtag\u001b[0m\u001b[0;34m,\u001b[0m \u001b[0mFrame\u001b[0m\u001b[0;34m)\u001b[0m\u001b[0;34m:\u001b[0m\u001b[0;34m\u001b[0m\u001b[0;34m\u001b[0m\u001b[0m\n\u001b[0;32m--> 339\u001b[0;31m             \u001b[0;32mraise\u001b[0m \u001b[0mTypeError\u001b[0m\u001b[0;34m(\u001b[0m\u001b[0;34m\"%r not a Frame instance\"\u001b[0m \u001b[0;34m%\u001b[0m \u001b[0mtag\u001b[0m\u001b[0;34m)\u001b[0m\u001b[0;34m\u001b[0m\u001b[0;34m\u001b[0m\u001b[0m\n\u001b[0m\u001b[1;32m    340\u001b[0m         \u001b[0msuper\u001b[0m\u001b[0;34m(\u001b[0m\u001b[0mID3Tags\u001b[0m\u001b[0;34m,\u001b[0m \u001b[0mself\u001b[0m\u001b[0;34m)\u001b[0m\u001b[0;34m.\u001b[0m\u001b[0m__setitem__\u001b[0m\u001b[0;34m(\u001b[0m\u001b[0mkey\u001b[0m\u001b[0;34m,\u001b[0m \u001b[0mtag\u001b[0m\u001b[0;34m)\u001b[0m\u001b[0;34m\u001b[0m\u001b[0;34m\u001b[0m\u001b[0m\n\u001b[1;32m    341\u001b[0m \u001b[0;34m\u001b[0m\u001b[0m\n",
      "\u001b[0;31mTypeError\u001b[0m: 'Example Title' not a Frame instance"
     ]
    }
   ],
   "source": [
    "try: audio = EasyID3(mf1)\n",
    "except: audio = MP3(mf1)\n",
    "\n",
    "audio.delete()\n",
    "\n",
    "audio['title'] = u\"Example Title\"\n",
    "# audio['album'] = u\"Band-Mix\"\n",
    "# audio.clear()\n",
    "# audio['album'] = u\"Best of Amir Khan\"\n",
    "\n",
    "# audio['title'] = \"001 Tomer_ Chithi_\"\n",
    "\n",
    "# audio.save()"
   ]
  },
  {
   "cell_type": "code",
   "execution_count": 29,
   "metadata": {
    "hidden": true
   },
   "outputs": [
    {
     "name": "stdout",
     "output_type": "stream",
     "text": [
      "{'composer': ['ME'], 'title': ['Shagorer Oi Prantore'], 'artist': ['Souls']}\n"
     ]
    }
   ],
   "source": [
    "print(audio)"
   ]
  },
  {
   "cell_type": "code",
   "execution_count": 9,
   "metadata": {
    "hidden": true
   },
   "outputs": [],
   "source": [
    "def _new_tag_content(tg_content):\n",
    "    tg_content = tg_content[0].strip().rstrip() if tg_content and len(tg_content) == 1 else 'UNKNOWN'\n",
    "    tg_content = tg_content.replace(' ', '_')\n",
    "    tg_content = list(map(lambda x: x.tg_content(), re.split(\"_|;\",tg_content)))\n",
    "    if tg_content[0].isdecimal(): tg_content = tg_content[1:]    \n",
    "    new_tg_content = ' '.join(tg_content)\n",
    "    return new_tg_content"
   ]
  },
  {
   "cell_type": "code",
   "execution_count": 10,
   "metadata": {
    "hidden": true
   },
   "outputs": [],
   "source": [
    "def update_tags(music_path):\n",
    "    audio = EasyID3(music_path)    \n",
    "    \n",
    "    for tg, content in audio.items():\n",
    "        audio[tg] = _new_tag_content(content)\n",
    "        # audio.save()\n",
    "        # audio.clear()\n",
    "        # audio.delete()"
   ]
  },
  {
   "cell_type": "code",
   "execution_count": null,
   "metadata": {
    "hidden": true
   },
   "outputs": [],
   "source": []
  },
  {
   "cell_type": "code",
   "execution_count": 23,
   "metadata": {
    "hidden": true
   },
   "outputs": [],
   "source": [
    "# help(MP3)"
   ]
  },
  {
   "cell_type": "code",
   "execution_count": 285,
   "metadata": {
    "hidden": true
   },
   "outputs": [
    {
     "data": {
      "text/plain": [
       "{'album': ['Band-Mix'], 'title': ['O_Bhubon_Majhi'], 'artist': ['Maksud', 'Feedbak']}"
      ]
     },
     "execution_count": 285,
     "metadata": {},
     "output_type": "execute_result"
    }
   ],
   "source": [
    "mp = MP3('/Users/a.momin/Data/O_Bhubon_Majhi.mp3', ID3=EasyID3)\n",
    "# mp.add_tag()\n",
    "# mp.delete()\n",
    "mp.add_tags(ID3=EasyID3)\n",
    "\n",
    "mp['artist'] = ['Maksud', 'Feedbak']\n",
    "mp['album'] = 'Band-Mix'\n",
    "mp['title'] = 'O_Bhubon_Majhi'\n",
    "mp.save()\n",
    "mp.tags"
   ]
  },
  {
   "cell_type": "code",
   "execution_count": 283,
   "metadata": {
    "hidden": true
   },
   "outputs": [
    {
     "data": {
      "text/plain": [
       "'MPEG 1 layer 2, 128000 bps (CBR?), 44100 Hz, 2 chn, 341.37 seconds (audio/mp2)\\nalbum=Band-Mix\\nartist=Maksud\\nartist=Feedbak\\ntitle=O_Bhubon_Majhi'"
      ]
     },
     "execution_count": 283,
     "metadata": {},
     "output_type": "execute_result"
    }
   ],
   "source": [
    "mp.pprint()"
   ]
  },
  {
   "cell_type": "code",
   "execution_count": null,
   "metadata": {
    "hidden": true
   },
   "outputs": [],
   "source": []
  },
  {
   "cell_type": "code",
   "execution_count": null,
   "metadata": {
    "hidden": true
   },
   "outputs": [],
   "source": []
  },
  {
   "cell_type": "code",
   "execution_count": 144,
   "metadata": {
    "hidden": true,
    "scrolled": true
   },
   "outputs": [],
   "source": [
    "for tg, content in mp.items():\n",
    "    print(tg)"
   ]
  },
  {
   "cell_type": "code",
   "execution_count": 194,
   "metadata": {
    "hidden": true
   },
   "outputs": [],
   "source": [
    "# help(ID3)"
   ]
  },
  {
   "cell_type": "code",
   "execution_count": 313,
   "metadata": {
    "hidden": true
   },
   "outputs": [],
   "source": [
    "mp31 = EasyID3('/Users/a.momin/Data/O_Bhubon_Majhi.mp3')"
   ]
  },
  {
   "cell_type": "code",
   "execution_count": 314,
   "metadata": {
    "hidden": true
   },
   "outputs": [],
   "source": [
    "# EasyID3.valid_keys.keys()"
   ]
  },
  {
   "cell_type": "code",
   "execution_count": 315,
   "metadata": {
    "hidden": true
   },
   "outputs": [
    {
     "name": "stdout",
     "output_type": "stream",
     "text": [
      "album ['Band-Mix']\n",
      "title ['O_Bhubon_Majhi']\n",
      "artist ['Maksud', 'Feedbak']\n"
     ]
    }
   ],
   "source": [
    "for tg, content in mp31.items():\n",
    "    print(tg, content)"
   ]
  },
  {
   "cell_type": "code",
   "execution_count": 316,
   "metadata": {
    "hidden": true
   },
   "outputs": [],
   "source": [
    "from mutagen.id3 import ID3\n"
   ]
  },
  {
   "cell_type": "code",
   "execution_count": 317,
   "metadata": {
    "hidden": true
   },
   "outputs": [],
   "source": [
    "# mp31 = ID3(mp31)\n",
    "mp31.delete()"
   ]
  },
  {
   "cell_type": "code",
   "execution_count": 318,
   "metadata": {
    "hidden": true
   },
   "outputs": [],
   "source": [
    "for tg, content in mp31.items():\n",
    "    print(tg, content)"
   ]
  },
  {
   "cell_type": "code",
   "execution_count": null,
   "metadata": {
    "hidden": true
   },
   "outputs": [],
   "source": []
  },
  {
   "cell_type": "code",
   "execution_count": null,
   "metadata": {
    "hidden": true
   },
   "outputs": [],
   "source": []
  },
  {
   "cell_type": "code",
   "execution_count": 26,
   "metadata": {
    "hidden": true
   },
   "outputs": [],
   "source": []
  },
  {
   "cell_type": "markdown",
   "metadata": {
    "heading_collapsed": true
   },
   "source": [
    "## EyeD3:"
   ]
  },
  {
   "cell_type": "code",
   "execution_count": 26,
   "metadata": {
    "hidden": true
   },
   "outputs": [],
   "source": [
    "import eyed3\n",
    "from eyed3.mp3 import *"
   ]
  },
  {
   "cell_type": "code",
   "execution_count": 35,
   "metadata": {
    "hidden": true
   },
   "outputs": [],
   "source": [
    "song_tg = {\"album\": \"Best of Amir Khan\", \"albumartist\": None, \"artist\": \"Aye Mere Humsafar Full Video Song\", \"audio_offset\": 1251, \"bitrate\": 192, \"channels\": 2, \"comment\": None, \"composer\": None, \"disc\": None, \"disc_total\": None, \"duration\": 313.31984861611414, \"filesize\": 7516992, \"genre\": None, \"samplerate\": 44100, \"title\": \"Qayamat Se Qayamat Tak | Aamir Khan, Juhi Chawla\", \"track\": None, \"track_total\": None, \"year\": None}"
   ]
  },
  {
   "cell_type": "code",
   "execution_count": 37,
   "metadata": {
    "hidden": true
   },
   "outputs": [],
   "source": [
    "audiofile = eyed3.load(\"/Users/a.momin/Data/Aye_Mere.mp3\")\n",
    "# audiofile.tag.artist = \"Token Entry\"\n",
    "# audiofile.tag.album = \"Free For All Comp LP\"\n",
    "# audiofile.tag.album_artist = \"Various Artists\"\n",
    "# audiofile.tag.title = \"The Edge\"\n",
    "# audiofile.tag.track_num = 3\n",
    "\n",
    "# for tg in song_tg.keys():\n",
    "#     print(tg, ':', audiofile.tag.tg)"
   ]
  },
  {
   "cell_type": "code",
   "execution_count": 38,
   "metadata": {
    "hidden": true
   },
   "outputs": [],
   "source": [
    "# help(eyed3.id3)"
   ]
  },
  {
   "cell_type": "code",
   "execution_count": 68,
   "metadata": {
    "hidden": true
   },
   "outputs": [],
   "source": [
    "# tag = eyed3.Tag()\n",
    "# tag.link(\"/Users/a.momin/Data/Aye_Mere.mp3\")\n",
    "\n",
    "# for frame in tag.frames:\n",
    "#     print(frame)"
   ]
  },
  {
   "cell_type": "code",
   "execution_count": 28,
   "metadata": {
    "hidden": true
   },
   "outputs": [],
   "source": [
    "mp31_d3 = Mp3AudioFile(mf1)"
   ]
  },
  {
   "cell_type": "code",
   "execution_count": 30,
   "metadata": {
    "hidden": true
   },
   "outputs": [
    {
     "data": {
      "text/plain": [
       "<eyed3.mp3.Mp3AudioInfo at 0x112dbafa0>"
      ]
     },
     "execution_count": 30,
     "metadata": {},
     "output_type": "execute_result"
    }
   ],
   "source": [
    "mp31_d3.info"
   ]
  },
  {
   "cell_type": "code",
   "execution_count": null,
   "metadata": {
    "hidden": true
   },
   "outputs": [],
   "source": []
  },
  {
   "cell_type": "markdown",
   "metadata": {
    "heading_collapsed": true
   },
   "source": [
    "## TinyTag:"
   ]
  },
  {
   "cell_type": "code",
   "execution_count": 19,
   "metadata": {
    "hidden": true
   },
   "outputs": [],
   "source": [
    "from tinytag import TinyTag, TinyTagException\n"
   ]
  },
  {
   "cell_type": "code",
   "execution_count": 18,
   "metadata": {
    "hidden": true
   },
   "outputs": [],
   "source": [
    "tg = TinyTag.get(mf1)"
   ]
  },
  {
   "cell_type": "code",
   "execution_count": 21,
   "metadata": {
    "hidden": true
   },
   "outputs": [
    {
     "name": "stdout",
     "output_type": "stream",
     "text": [
      "{\"album\": null, \"albumartist\": null, \"artist\": \"Aye Mere Humsafar Full Video Song\", \"audio_offset\": 1251, \"bitrate\": 192, \"channels\": 2, \"comment\": null, \"composer\": null, \"disc\": null, \"disc_total\": null, \"duration\": 313.31984861611414, \"filesize\": 7516992, \"genre\": null, \"samplerate\": 44100, \"title\": \"Qayamat Se Qayamat Tak | Aamir Khan, Juhi Chawla\", \"track\": null, \"track_total\": null, \"year\": null}\n"
     ]
    }
   ],
   "source": [
    "print(tg)"
   ]
  },
  {
   "cell_type": "code",
   "execution_count": null,
   "metadata": {
    "hidden": true
   },
   "outputs": [],
   "source": [
    "song_tg = {\"album\": \"Best of Amir Khan\", \"albumartist\": null, \"artist\": \"Aye Mere Humsafar Full Video Song\", \"audio_offset\": 1251, \"bitrate\": 192, \"channels\": 2, \"comment\": null, \"composer\": null, \"disc\": null, \"disc_total\": null, \"duration\": 313.31984861611414, \"filesize\": 7516992, \"genre\": null, \"samplerate\": 44100, \"title\": \"Qayamat Se Qayamat Tak | Aamir Khan, Juhi Chawla\", \"track\": null, \"track_total\": null, \"year\": null}"
   ]
  },
  {
   "cell_type": "code",
   "execution_count": 21,
   "metadata": {
    "hidden": true
   },
   "outputs": [
    {
     "name": "stdout",
     "output_type": "stream",
     "text": [
      "Start\n",
      " - 1 Nijum  Rater\n",
      "khalid Hassan  - Nila Tumi\n",
      "Asif - Bissas  Banghe  Dibe\n",
      "Asif - Balobasha Manea\n",
      "Jewel - Se-diner Ake\n",
      " - Akedin Ghum\n",
      "Aghun - Amar Shopno Gulo\n",
      " - Shuchona\n",
      " - Bedonar Shob-tuku\n",
      "Jewel - \n",
      " - Shurjer Moto\n"
     ]
    }
   ],
   "source": [
    "def main():\n",
    "    print(\"Start\")\n",
    " \n",
    "    tracks = []\n",
    " \n",
    "    for root, dirs, files, in os.walk(\"/Users/a.momin/Desktop/Songs/Band-Mix-02/\"):\n",
    "        for name in files:\n",
    "            if name.endswith((\".mp3\",\".m4a\",\".flac\",\".alac\")):\n",
    "                tracks.append(name)\n",
    "                try:\n",
    "                    temp_track = TinyTag.get(root + \"/\" + name)\n",
    "                    print(temp_track.artist, \"-\", temp_track.title)\n",
    "                except TinyTagException:\n",
    "                    print(\"Error\")\n",
    " \n",
    "main()"
   ]
  },
  {
   "cell_type": "code",
   "execution_count": null,
   "metadata": {
    "hidden": true
   },
   "outputs": [],
   "source": []
  },
  {
   "cell_type": "code",
   "execution_count": null,
   "metadata": {
    "hidden": true
   },
   "outputs": [],
   "source": []
  },
  {
   "cell_type": "code",
   "execution_count": null,
   "metadata": {
    "hidden": true
   },
   "outputs": [],
   "source": []
  },
  {
   "cell_type": "markdown",
   "metadata": {
    "heading_collapsed": true
   },
   "source": [
    "## Image"
   ]
  },
  {
   "cell_type": "code",
   "execution_count": null,
   "metadata": {
    "hidden": true
   },
   "outputs": [],
   "source": []
  },
  {
   "cell_type": "code",
   "execution_count": 8,
   "metadata": {
    "hidden": true
   },
   "outputs": [],
   "source": [
    "img1 = Image.open('/Users/a.momin/Data/bird.jpg')"
   ]
  },
  {
   "cell_type": "code",
   "execution_count": 24,
   "metadata": {
    "hidden": true
   },
   "outputs": [],
   "source": [
    "img1.show()"
   ]
  },
  {
   "cell_type": "code",
   "execution_count": 22,
   "metadata": {
    "hidden": true
   },
   "outputs": [],
   "source": [
    "# dir(img1)"
   ]
  },
  {
   "cell_type": "code",
   "execution_count": 25,
   "metadata": {
    "hidden": true
   },
   "outputs": [],
   "source": [
    "meta_data = img1._getexif()"
   ]
  },
  {
   "cell_type": "code",
   "execution_count": 26,
   "metadata": {
    "hidden": true
   },
   "outputs": [
    {
     "name": "stdout",
     "output_type": "stream",
     "text": [
      "None\n"
     ]
    }
   ],
   "source": [
    "print(meta_data)"
   ]
  },
  {
   "cell_type": "code",
   "execution_count": 28,
   "metadata": {
    "hidden": true,
    "scrolled": true
   },
   "outputs": [
    {
     "ename": "AttributeError",
     "evalue": "'JpegImageFile' object has no attribute 'name'",
     "output_type": "error",
     "traceback": [
      "\u001b[0;31m---------------------------------------------------------------------------\u001b[0m",
      "\u001b[0;31mAttributeError\u001b[0m                            Traceback (most recent call last)",
      "\u001b[0;32m<ipython-input-28-ef88c9ab51da>\u001b[0m in \u001b[0;36m<module>\u001b[0;34m\u001b[0m\n\u001b[0;32m----> 1\u001b[0;31m \u001b[0mimg1\u001b[0m\u001b[0;34m.\u001b[0m\u001b[0mname\u001b[0m\u001b[0;34m\u001b[0m\u001b[0;34m\u001b[0m\u001b[0m\n\u001b[0m",
      "\u001b[0;31mAttributeError\u001b[0m: 'JpegImageFile' object has no attribute 'name'"
     ]
    }
   ],
   "source": [
    "img1.name"
   ]
  },
  {
   "cell_type": "markdown",
   "metadata": {},
   "source": [
    "## Convert `.wma` to `.mp3` using ffmpeg"
   ]
  },
  {
   "cell_type": "markdown",
   "metadata": {},
   "source": [
    "- [FFMPEG Python - Convert Audio Files to MP3 SUPER FAST](https://www.youtube.com/watch?v=_PMpxfhqNxQ)\n",
    "- [FFMPEG Introduction & Examples](https://www.youtube.com/watch?v=BiMP_hN8f6s)"
   ]
  },
  {
   "cell_type": "markdown",
   "metadata": {},
   "source": [
    "- Run `wma_to_mp3.py` as shown below from the directory which contains your `.wma` files needed to convet.\n",
    "\n",
    "- `wma_to_mp3.py`, `ffmpeg` and following dependencyies are saved in `/usr/local/bin`:\n",
    "    - ffpeg\n",
    "    - ffplay\n",
    "    - ffprob\n",
    "\n",
    "- $ cd myMusicFolder\n",
    "\n",
    "- `$ wma_to_mp3.py` => convert all the .wma files into .mp3 recursively."
   ]
  },
  {
   "cell_type": "code",
   "execution_count": 14,
   "metadata": {
    "code_folding": [
     0
    ]
   },
   "outputs": [],
   "source": [
    "def rename(dir_path):\n",
    "    ''' It takes a path of a directory and updates the heading of each mp3 file \n",
    "    in the specified directory and it's sub-directories recursively. It does \n",
    "    not mutate any other type of contents in the directories except mp3 files.\n",
    "    \n",
    "    Args:\n",
    "        dir_path: the path of directory of which mp3 file to be renamed\n",
    "    '''\n",
    "    symbols = ('_', '', ' ', ';', ',')\n",
    "    for item in os.scandir(dir_path):\n",
    "\n",
    "        if item.is_file() and item.name.endswith(('.mp3','.MP3')):\n",
    "            nf = item.name.replace(' ', '_')\n",
    "            nf = list(map(lambda x: x.title(), re.split(\"_|;\", nf)))\n",
    "            \n",
    "            updated = []\n",
    "            for itm in nf:\n",
    "                if itm not in symbols: updated.append(itm)\n",
    "            \n",
    "            if updated[0].isdecimal(): updated = updated[1:]\n",
    "            updated[-1] = updated[-1][:-4] + '.mp3'\n",
    "            \n",
    "            new_file_name = ' '.join(updated)\n",
    "                \n",
    "            os.rename(dir_path+item.name, dir_path+new_file_name)\n",
    "        \n",
    "        elif item.is_dir(): \n",
    "            print(f'processing {dir_path+item.name}')\n",
    "            rename(dir_path+item.name+'/')"
   ]
  },
  {
   "cell_type": "code",
   "execution_count": 16,
   "metadata": {
    "code_folding": []
   },
   "outputs": [],
   "source": [
    "PATH = '/Users/a.momin/Desktop/mix_songs/'"
   ]
  },
  {
   "cell_type": "code",
   "execution_count": 17,
   "metadata": {
    "code_folding": []
   },
   "outputs": [],
   "source": [
    "def music_dirs(dir_path):\n",
    "    FOLDERS = []\n",
    "    \n",
    "    for root, dirs, files in os.walk(dir_path):\n",
    "        source_audio_filenames = []\n",
    "\n",
    "        for file in files:\n",
    "            if file.endswith(('.mp3', '.wma')):\n",
    "                source_audio_filenames.append((root, file))\n",
    "\n",
    "        FOLDERS.append((root, source_audio_filenames))\n",
    "    return FOLDERS"
   ]
  },
  {
   "cell_type": "code",
   "execution_count": 18,
   "metadata": {},
   "outputs": [
    {
     "name": "stdout",
     "output_type": "stream",
     "text": [
      ". ['.ipynb_checkpoints'] ['optimizatimizations.ipynb', 'nt_np.ipynb', 'nlp_notes.ipynb', 'display_info.log', 'media_file_metadata.ipynb', 'sklearn_tutorial_UnsupervisedLearning.ipynb', 'nt_torch_dl.ipynb', 'ipywidgets_intro.ipynb', 'num_comp.ipynb', 'ensemble_methods.ipynb', 'nt_tf.ipynb', 'context_manager.ipynb', 'logistic_regression.ipynb', 'ML_technique.ipynb', 'recommendation_system.ipynb', 'nt_plt.ipynb', 'nt_python_packages.ipynb', 'naive-bayes-classifier-in-python.ipynb', 'book_equations-Copy1.ipynb', 'nt_spark.ipynb', 'Gradient_Descent.ipynb', 'kgl_rec_sys.ipynb', 'statistics.ipynb', '03.07-Merge-and-Join.ipynb', 'nt_ml.ipynb', 'logging.ipynb', 'nt_pd.ipynb', 'jptr_tutorial_cell_magic.ipynb', 'nt_epp.ipynb', 'differential_calculus.ipynb', 'nt_torch.ipynb', 'linear_algebra.ipynb', 'svm.ipynb', 'nt_nlp.ipynb']\n",
      "************\n",
      "./.ipynb_checkpoints [] ['Gradient_Descent-checkpoint.ipynb', 'nt_ml-checkpoint (1).ipynb', 'svm-checkpoint.ipynb', 'context_manager-checkpoint.ipynb', 'nt_pd-checkpoint.ipynb', 'nt_torch_dl-checkpoint.ipynb', 'nt_epp-checkpoint (1).ipynb', 'nt_np-checkpoint.ipynb', 'svm-checkpoint (1).ipynb', 'nt_nlp-checkpoint.ipynb', 'logging-checkpoint.ipynb', 'naive-bayes-classifier-in-python-checkpoint.ipynb', 'Gradient_Descent-checkpoint (1).ipynb', 'statistics-checkpoint.ipynb', 'nt_epp-checkpoint.ipynb', 'num_comp-checkpoint.ipynb', 'ensemble_methods-checkpoint.ipynb', 'ML_technique-checkpoint.ipynb', 'sklearn_tutorial_UnsupervisedLearning-checkpoint.ipynb', 'logistic_regression-checkpoint.ipynb', 'nt_torch-checkpoint.ipynb', 'nt_spark-checkpoint.ipynb', '03.07-Merge-and-Join-checkpoint.ipynb', 'optimizatimizations-checkpoint.ipynb', 'ipywidgets_intro-checkpoint.ipynb', 'nt_plt-checkpoint.ipynb', 'statistics-checkpoint (1).ipynb', 'book_equations-Copy1-checkpoint.ipynb', 'kgl_rec_sys-checkpoint.ipynb', 'jptr_tutorial_cell_magic-checkpoint.ipynb', 'media_file_metadata-checkpoint.ipynb', 'nt_pd-checkpoint (1).ipynb', 'nt_ml-checkpoint.ipynb', 'recommendation_system-checkpoint.ipynb', 'linear_algebra-checkpoint.ipynb', 'nt_python_packages-checkpoint.ipynb']\n",
      "************\n"
     ]
    }
   ],
   "source": [
    "for root, dirs, files in os.walk('.'):\n",
    "    print(root, dirs, files)\n",
    "    print('************')"
   ]
  },
  {
   "cell_type": "code",
   "execution_count": 19,
   "metadata": {
    "code_folding": []
   },
   "outputs": [],
   "source": [
    "folders = music_dirs(PATH)"
   ]
  },
  {
   "cell_type": "code",
   "execution_count": 21,
   "metadata": {},
   "outputs": [
    {
     "name": "stdout",
     "output_type": "stream",
     "text": [
      "[]\n"
     ]
    }
   ],
   "source": [
    "print(folders)"
   ]
  },
  {
   "cell_type": "code",
   "execution_count": 28,
   "metadata": {
    "code_folding": []
   },
   "outputs": [],
   "source": [
    "def _update_tags_per_file(dir_path,file_name):\n",
    "    try:\n",
    "        tag = EasyID3(dir_path+'/'+file_name)\n",
    "    except:\n",
    "        tag = MP3(dir_path+'/'+file_name, ID3=EasyID3) \n",
    "        \n",
    "    try: artist = tag['artist']\n",
    "    except: artist = u\"Unknown\"\n",
    "    \n",
    "    tag.delete()    \n",
    "    \n",
    "    tag['artist'] = artist\n",
    "    tag['genre'] = ''\n",
    "    tag['title'] = file_name[:-4]\n",
    "    tag['date'] = '2021'\n",
    "    tag['album'] = os.path.basename(dir_path)\n",
    "    tag['tracknumber'] = ''\n",
    "    \n",
    "    tag.save(v2_version=3)"
   ]
  },
  {
   "cell_type": "code",
   "execution_count": 29,
   "metadata": {
    "code_folding": []
   },
   "outputs": [],
   "source": [
    "def updates_tags(folders):\n",
    "    for fldr, items in folders:\n",
    "        for dir_path, item in items:\n",
    "             _update_tags_per_file(dir_path,item)"
   ]
  },
  {
   "cell_type": "code",
   "execution_count": 31,
   "metadata": {},
   "outputs": [
    {
     "name": "stdout",
     "output_type": "stream",
     "text": [
      "processing /Users/a.momin/Desktop/mix_songs/Shei Maieati\n",
      "processing /Users/a.momin/Desktop/mix_songs/New Folder # 1\n",
      "processing /Users/a.momin/Desktop/mix_songs/Nilanjona\n",
      "processing /Users/a.momin/Desktop/mix_songs/Nilanjona/New Folder#1\n",
      "processing /Users/a.momin/Desktop/mix_songs/Souls _ Others\n",
      "processing /Users/a.momin/Desktop/mix_songs/Feedback\n",
      "processing /Users/a.momin/Desktop/mix_songs/New Folder # 2\n",
      "processing /Users/a.momin/Desktop/mix_songs/New Folder # 3\n"
     ]
    }
   ],
   "source": [
    "# rename(PATH)"
   ]
  },
  {
   "cell_type": "code",
   "execution_count": 295,
   "metadata": {},
   "outputs": [],
   "source": [
    "# updates_tags(folders)"
   ]
  },
  {
   "cell_type": "code",
   "execution_count": null,
   "metadata": {
    "code_folding": []
   },
   "outputs": [],
   "source": [
    "\n",
    "'''convert a range of different audio files to mp3 files\n",
    "using multiple parallel processes'''\n",
    "\n",
    "import os\n",
    "import sys\n",
    "import subprocess\n",
    "from multiprocessing.pool import ThreadPool\n",
    "from multiprocessing import cpu_count\n",
    "import time\n",
    "import datetime\n",
    "import shutil\n",
    "\n",
    "\n",
    "def remove_wmas(folders):\n",
    "    for fldr, files in folders:\n",
    "        sub_fldr = os.path.basename(fldr) + \"-\" + FOLDER_NAME\n",
    "\n",
    "        wmas = os.listdir(fldr)\n",
    "        for song in wmas:\n",
    "            if song.endswith('.wma'):\n",
    "                # print(fldr+song)\n",
    "                os.remove(fldr+'/'+song)\n",
    "\n",
    "        for root_path, filename in files:\n",
    "            new_filename = os.path.splitext(filename)[0] + \".mp3\"\n",
    "            new_path = os.path.join(\n",
    "                root_path,\n",
    "                os.path.basename(root_path) + \"-\" + FOLDER_NAME,\n",
    "                new_filename)\n",
    "\n",
    "            old_path = os.path.join(root_path, new_filename)\n",
    "            shutil.move(new_path, old_path)\n",
    "\n",
    "        os.rmdir(os.path.join(root_path, sub_fldr))\n",
    "\n",
    "def converttomp3(task: tuple):\n",
    "    '''Start up a new ffmpeg subprocess transcode the given audio file\n",
    "    and save the newly transcoded file to a directory within the same\n",
    "    directory of the original audio.\n",
    "    \n",
    "    Args:\n",
    "    ----\n",
    "        task: tuple of length 2. task[0] is path of folder which contains task[1], \n",
    "              the name of music file to be converted.\n",
    "    \n",
    "    '''\n",
    "\n",
    "    root_path = task[0]  # path of folder which contains the music file.\n",
    "    filename = task[1]  # the name of music file to be converted.\n",
    "    full_path = os.path.join(root_path, filename) # full path of music file to be converted.\n",
    "    new_filename = os.path.splitext(filename)[0] + \".mp3\"\n",
    "\n",
    "    new_path = os.path.join(\n",
    "        root_path,\n",
    "        os.path.basename(root_path) + \"-\" + FOLDER_NAME,\n",
    "        new_filename\n",
    "    )  # The path at which the converted file will be saved\n",
    "\n",
    "    completed = subprocess.run([\"ffmpeg\",\n",
    "                                \"-loglevel\",\n",
    "                                \"quiet\",\n",
    "                                \"-hide_banner\",\n",
    "                                \"-y\",\n",
    "                                \"-i\",\n",
    "                                full_path,\n",
    "                                \"-write_id3v1\",\n",
    "                                \"1\",\n",
    "                                \"-id3v2_version\",\n",
    "                                \"3\",\n",
    "                                \"-codec:a\",\n",
    "                                \"libmp3lame\",\n",
    "                                \"-q:a\",\n",
    "                                \"3\",\n",
    "                                new_path],\n",
    "                               stderr=subprocess.DEVNULL,\n",
    "                               stdout=subprocess.DEVNULL,\n",
    "                               stdin=subprocess.PIPE)\n",
    "\n",
    "    # If you don't provide stdin pipe, ffmpeg will not exit gracefully\n",
    "    # when running multiple instances and will require you to reset your\n",
    "    # terminal once this script finishes executing\n",
    "    # Remove the original files once they have been transcoded\n",
    "    # if completed.returncode == 0:\n",
    "    #subprocess.call([\"rm\", full_path]) # remove the original file once transcoded\n",
    "\n",
    "    print(f\"'{new_path}' - return code {completed.returncode}\")\n",
    "    if completed.returncode != 0:\n",
    "        completed.timestamp = datetime.datetime.now().ctime()\n",
    "    return completed\n",
    "\n",
    "\n",
    "if __name__ == \"__main__\":\n",
    "    FOLDERS = []\n",
    "    FOLDER_NAME = \"MP3s\"\n",
    "    AUDIO_FILE_TYPES = (\"wma\",\"flac\",\"aac\",\"aiff\",\"m4a\",\"ogg\",\"opus\",\"raw\",\"wav\",\"webm\")\n",
    "    STARTTIME = time.time()\n",
    "    # get all of the source audio filenames\n",
    "    for root, dirs, files in os.walk(os.getcwd()):\n",
    "        source_audio_filenames = []\n",
    "\n",
    "        for file in files:\n",
    "            if file.endswith(AUDIO_FILE_TYPES):\n",
    "                source_audio_filenames.append((root, file))\n",
    "\n",
    "        FOLDERS.append((root, source_audio_filenames))\n",
    "\n",
    "    with ThreadPool(cpu_count())as p:\n",
    "        PROCESSES = []\n",
    "\n",
    "        for Folder in FOLDERS:\n",
    "            try:\n",
    "                #Stop directories being created within the output directories\n",
    "                if FOLDER_NAME in Folder[0]:\n",
    "                    continue\n",
    "                NewFolderName = os.path.basename(Folder[0]) + \"-\" + FOLDER_NAME\n",
    "                os.mkdir(os.path.join(Folder[0], NewFolderName))\n",
    "            except FileExistsError:\n",
    "                pass\n",
    "            PROCESSES += Folder[1]\n",
    "\n",
    "        print(f\"Transcoding {len(PROCESSES)} Audio files\")\n",
    "        JOBS = p.map(converttomp3, PROCESSES)\n",
    "        FAILED_JOBS = []\n",
    "\n",
    "        for job in JOBS:\n",
    "            if job.returncode != 0:\n",
    "                FAILED_JOBS.append(job)\n",
    "        MESSAGE = (f\"Transcode Finished! \\r {len(PROCESSES)-len(FAILED_JOBS)}/{len(PROCESSES)} \"\n",
    "                   f\"Audio files transcoded in \\r{time.time() - STARTTIME:.4f} seconds\")\n",
    "        try:\n",
    "            subprocess.run([\"notify-send\", \"--urgency=low\", MESSAGE])\n",
    "        except FileNotFoundError:\n",
    "            pass\n",
    "\n",
    "        if len(FAILED_JOBS) > 0:\n",
    "            with open(\"nautilus-transcode.log\", 'a+') as f:\n",
    "                for failedJob in FAILED_JOBS:\n",
    "                    f.write(f\"{failedJob.timestamp} args:{failedJob.args}\"\n",
    "                            f\"return code:{failedJob.returncode}\\n\")\n",
    "    print(\"Convertion is Done\")\n",
    "    print('Removing old files and newly created folders ... ')\n",
    "    remove_wmas(FOLDERS)\n",
    "    sys.exit(0)\n"
   ]
  },
  {
   "cell_type": "markdown",
   "metadata": {},
   "source": [
    "<b style='color:red'> Click Here to see the original Code</b>\n",
    "<!--\n",
    "#!/usr/bin/env python3\n",
    "\n",
    "'''convert a range of different audio files to mp3 files\n",
    "using multiple parallel processes'''\n",
    "\n",
    "import os\n",
    "import sys\n",
    "import subprocess\n",
    "from multiprocessing.pool import ThreadPool\n",
    "from multiprocessing import cpu_count\n",
    "import time\n",
    "import datetime\n",
    "\n",
    "def converttomp3(task):\n",
    "    '''Start up a new ffmpeg subprocess transcode the given audio file\n",
    "    and save the newly transcoded file to a directory within the same\n",
    "    directory of the original audio '''\n",
    "    root_path = task[0]\n",
    "    filename = task[1]\n",
    "    full_path = os.path.join(root_path, filename)\n",
    "    new_filename = os.path.splitext(filename)[0] +\".mp3\"\n",
    "    new_path = os.path.join(root_path,\n",
    "                            os.path.basename(root_path) + \"-\" + FOLDER_NAME,\n",
    "                            new_filename)\n",
    "\n",
    "    completed = subprocess.run([\"ffmpeg\",\n",
    "                                \"-loglevel\",\n",
    "                                \"quiet\",\n",
    "                                \"-hide_banner\",\n",
    "                                \"-y\",\n",
    "                                \"-i\",\n",
    "                                full_path,\n",
    "                                \"-write_id3v1\",\n",
    "                                \"1\",\n",
    "                                \"-id3v2_version\",\n",
    "                                \"3\",\n",
    "                                \"-codec:a\",\n",
    "                                \"libmp3lame\",\n",
    "                                \"-q:a\",\n",
    "                                \"3\",\n",
    "                                new_path],\n",
    "                               stderr=subprocess.DEVNULL,\n",
    "                               stdout=subprocess.DEVNULL,\n",
    "                               stdin=subprocess.PIPE)\n",
    "    #If you don't provide stdin pipe, ffmpeg will not exit gracefully\n",
    "    #when running multiple instances and will require you to reset your\n",
    "    # terminal once this script finishes executing\n",
    "    #Remove the original files once they have been transcoded\n",
    "    #if completed.returncode == 0:\n",
    "        #subprocess.call([\"rm\", full_path]) # remove the original file once transcoded\n",
    "    print(f\"'{new_path}' - return code {completed.returncode}\")\n",
    "    if completed.returncode != 0:\n",
    "        completed.timestamp = datetime.datetime.now().ctime()\n",
    "    return completed\n",
    "\n",
    "if __name__ == \"__main__\":\n",
    "    FOLDERS = []\n",
    "    FOLDER_NAME = \"MP3s\"\n",
    "    AUDIO_FILE_TYPES = (\"flac\",\n",
    "                        \"aac\",\n",
    "                        \"aiff\",\n",
    "                        \"m4a\",\n",
    "                        \"ogg\",\n",
    "                        \"opus\",\n",
    "                        \"raw\",\n",
    "                        \"wav\",\n",
    "                        \"wma\",\n",
    "                        \"webm\")\n",
    "    STARTTIME = time.time()\n",
    "    #get all of the source audio filenames\n",
    "    for root, dirs, files in os.walk(os.getcwd()):\n",
    "        source_audio_filenames = []\n",
    "        for file in files:\n",
    "            if file.endswith(AUDIO_FILE_TYPES):\n",
    "                source_audio_filenames.append((root, file))\n",
    "        FOLDERS.append((root, source_audio_filenames))\n",
    "\n",
    "    with ThreadPool(cpu_count())as p:\n",
    "        PROCESSES = []\n",
    "        for Folder in FOLDERS:\n",
    "            try:\n",
    "                #Stop directories being created within the output directories\n",
    "                if FOLDER_NAME in Folder[0]:\n",
    "                    continue\n",
    "                NewFolderName = os.path.basename(Folder[0]) + \"-\" + FOLDER_NAME\n",
    "                os.mkdir(os.path.join(Folder[0], NewFolderName))\n",
    "            except FileExistsError:\n",
    "                pass\n",
    "            PROCESSES += Folder[1]\n",
    "        print(f\"Transcoding {len(PROCESSES)} Audio files\")\n",
    "        JOBS = p.map(converttomp3, PROCESSES)\n",
    "        FAILED_JOBS = []\n",
    "        for job in JOBS:\n",
    "            if job.returncode != 0:\n",
    "                FAILED_JOBS.append(job)\n",
    "        MESSAGE = (f\"Transcode Finished! \\r {len(PROCESSES)-len(FAILED_JOBS)}/{len(PROCESSES)} \"\n",
    "                   f\"Audio files transcoded in \\r{time.time() - STARTTIME:.4f} seconds\")\n",
    "        try:\n",
    "            subprocess.run([\"notify-send\", \"--urgency=low\", MESSAGE])\n",
    "        except FileNotFoundError:\n",
    "            pass\n",
    "        \n",
    "        if len(FAILED_JOBS) > 0:       \n",
    "            with open(\"nautilus-transcode.log\", 'a+') as f:\n",
    "                for failedJob in FAILED_JOBS:\n",
    "                    f.write(f\"{failedJob.timestamp} args:{failedJob.args}\"\n",
    "                            f\"return code:{failedJob.returncode}\\n\")\n",
    "    print(\"Done\")\n",
    "    sys.exit(0)\n",
    "-->"
   ]
  },
  {
   "cell_type": "code",
   "execution_count": null,
   "metadata": {},
   "outputs": [],
   "source": []
  },
  {
   "cell_type": "code",
   "execution_count": null,
   "metadata": {},
   "outputs": [],
   "source": []
  },
  {
   "cell_type": "code",
   "execution_count": null,
   "metadata": {},
   "outputs": [],
   "source": []
  },
  {
   "cell_type": "code",
   "execution_count": null,
   "metadata": {},
   "outputs": [],
   "source": []
  },
  {
   "cell_type": "code",
   "execution_count": null,
   "metadata": {},
   "outputs": [],
   "source": []
  }
 ],
 "metadata": {
  "kernelspec": {
   "display_name": "Python 3 (ipykernel)",
   "language": "python",
   "name": "python3"
  },
  "language_info": {
   "codemirror_mode": {
    "name": "ipython",
    "version": 3
   },
   "file_extension": ".py",
   "mimetype": "text/x-python",
   "name": "python",
   "nbconvert_exporter": "python",
   "pygments_lexer": "ipython3",
   "version": "3.10.9"
  },
  "toc": {
   "base_numbering": 1,
   "nav_menu": {},
   "number_sections": false,
   "sideBar": true,
   "skip_h1_title": true,
   "title_cell": "Table of Contents",
   "title_sidebar": "Contents",
   "toc_cell": true,
   "toc_position": {},
   "toc_section_display": true,
   "toc_window_display": false
  }
 },
 "nbformat": 4,
 "nbformat_minor": 4
}
