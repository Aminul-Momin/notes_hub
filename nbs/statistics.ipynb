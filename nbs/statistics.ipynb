{
 "cells": [
  {
   "cell_type": "markdown",
   "id": "094551ef",
   "metadata": {
    "toc": true
   },
   "source": [
    "<h1>Table of Contents<span class=\"tocSkip\"></span></h1>\n",
    "<div class=\"toc\"><ul class=\"toc-item\"><li><span><a href=\"#Helper-Functions:\" data-toc-modified-id=\"Helper-Functions:-1\">Helper Functions:</a></span></li><li><span><a href=\"#Datasets:\" data-toc-modified-id=\"Datasets:-2\">Datasets:</a></span></li><li><span><a href=\"#Theories-of-Statistics\" data-toc-modified-id=\"Theories-of-Statistics-3\">Theories of Statistics</a></span><ul class=\"toc-item\"><li><span><a href=\"#Terminology\" data-toc-modified-id=\"Terminology-3.1\">Terminology</a></span></li><li><span><a href=\"#Law-of-Large-Number\" data-toc-modified-id=\"Law-of-Large-Number-3.2\">Law of Large Number</a></span></li><li><span><a href=\"#Regression-to-the-Mean:\" data-toc-modified-id=\"Regression-to-the-Mean:-3.3\">Regression to the Mean:</a></span></li><li><span><a href=\"#Confidence-Levels-and-Intervals-:\" data-toc-modified-id=\"Confidence-Levels-and-Intervals-:-3.4\">Confidence Levels and Intervals :</a></span></li><li><span><a href=\"#Empirical-Rule:\" data-toc-modified-id=\"Empirical-Rule:-3.5\">Empirical Rule:</a></span></li><li><span><a href=\"#Stratified-Sampling-:\" data-toc-modified-id=\"Stratified-Sampling-:-3.6\">Stratified Sampling :</a></span></li><li><span><a href=\"#Central-Limit-Therom-(Given-suficiently-large-sample):\" data-toc-modified-id=\"Central-Limit-Therom-(Given-suficiently-large-sample):-3.7\">Central Limit Therom (Given suficiently large sample):</a></span><ul class=\"toc-item\"><li><span><a href=\"#Verify-the-Central-Limit-Theorem-with-rolling-dice.\" data-toc-modified-id=\"Verify-the-Central-Limit-Theorem-with-rolling-dice.-3.7.1\">Verify the Central Limit Theorem with rolling dice.</a></span></li></ul></li><li><span><a href=\"#Covariance:\" data-toc-modified-id=\"Covariance:-3.8\"><a href=\"https://en.wikipedia.org/wiki/Covariance\" target=\"_blank\">Covariance</a>:</a></span></li><li><span><a href=\"#Correlation:\" data-toc-modified-id=\"Correlation:-3.9\">Correlation:</a></span><ul class=\"toc-item\"><li><span><a href=\"#Pearson-Correlation\" data-toc-modified-id=\"Pearson-Correlation-3.9.1\"><a href=\"https://en.wikipedia.org/wiki/Pearson_correlation_coefficient\" target=\"_blank\">Pearson Correlation</a></a></span></li><li><span><a href=\"#Spearsman-Correlation:\" data-toc-modified-id=\"Spearsman-Correlation:-3.9.2\"><a href=\"https://en.wikipedia.org/wiki/Spearman%27s_rank_correlation_coefficient\" target=\"_blank\">Spearsman Correlation</a>:</a></span></li></ul></li></ul></li><li><span><a href=\"#Population-Distribution\" data-toc-modified-id=\"Population-Distribution-4\">Population Distribution</a></span></li><li><span><a href=\"#Sampling-Distribution-to-Normal-Distribution\" data-toc-modified-id=\"Sampling-Distribution-to-Normal-Distribution-5\">Sampling Distribution to Normal Distribution</a></span></li><li><span><a href=\"#Normal-Distribution\" data-toc-modified-id=\"Normal-Distribution-6\">Normal Distribution</a></span></li><li><span><a href=\"#Standard-Normal-Distribution\" data-toc-modified-id=\"Standard-Normal-Distribution-7\">Standard Normal Distribution</a></span></li></ul></div>"
   ]
  },
  {
   "cell_type": "code",
   "execution_count": 6,
   "id": "154c3937",
   "metadata": {},
   "outputs": [],
   "source": [
    "import random\n",
    "from typing import Union, Tuple\n",
    "\n",
    "import pandas as pd\n",
    "import numpy as np\n",
    "import matplotlib.pyplot as plt\n",
    "import seaborn as sns\n",
    "import scipy\n",
    "import scipy.stats as stats\n",
    "import scipy.integrate\n",
    "\n",
    "plt.style.use('seaborn')"
   ]
  },
  {
   "cell_type": "code",
   "execution_count": 7,
   "id": "dd9c3468",
   "metadata": {},
   "outputs": [],
   "source": [
    "%load_ext autoreload\n",
    "%autoreload 2\n",
    "\n",
    "%matplotlib inline"
   ]
  },
  {
   "cell_type": "code",
   "execution_count": 8,
   "id": "8209e088",
   "metadata": {},
   "outputs": [],
   "source": [
    "pd.options.mode.use_inf_as_na = True"
   ]
  },
  {
   "cell_type": "markdown",
   "id": "e6c0568c",
   "metadata": {},
   "source": [
    "- [Statistics with Statology](https://www.statology.org/tutorials/)\n",
    "- [Youtibe: zedstatistics](https://www.youtube.com/c/zedstatistics/playlists)"
   ]
  },
  {
   "cell_type": "markdown",
   "id": "32f26378",
   "metadata": {
    "heading_collapsed": true
   },
   "source": [
    "## Helper Functions:"
   ]
  },
  {
   "cell_type": "code",
   "execution_count": 21,
   "id": "fe065e70",
   "metadata": {
    "code_folding": [
     0
    ],
    "hidden": true
   },
   "outputs": [],
   "source": [
    "def plot_dist(data: Union[np.array, pd.Series], rel_freq=True, title=None, ax=None, bs=100):\n",
    "    \"\"\"\n",
    "    Plot the distributions of given data.\n",
    "    \"\"\"\n",
    "    w = [1/data.size]*data.size if rel_freq else None\n",
    "    y_label = 'Relative Frequency' if rel_freq else 'Absolute Frequency'\n",
    "    title = 'Distribution of Data' if not title else title\n",
    "    \n",
    "    if ax: \n",
    "        ax.hist(data, bins=bs, weights=w, ec='black')\n",
    "        ax.set_xlabel('X', size='xx-large', c='red')\n",
    "        ax.set_ylabel(y_label, c='red', fontsize=15)\n",
    "        ax.set_title(title, c='red', fontsize=20)\n",
    "    else: \n",
    "        plt.hist(data, bins=bs, weights=w, ec='black')\n",
    "        plt.xlabel('X', size='xx-large', c='red')\n",
    "        plt.ylabel(y_label, c='red', fontsize=15)\n",
    "        plt.title(title, c='red', fontsize=20)"
   ]
  },
  {
   "cell_type": "code",
   "execution_count": 22,
   "id": "fbee19da",
   "metadata": {
    "code_folding": [
     1
    ],
    "hidden": true
   },
   "outputs": [],
   "source": [
    "def get_mean_std(smpl) -> Tuple[int, int]:\n",
    "    \"\"\"\n",
    "    Computes the mean and std of the finite sample or population.\n",
    "    \n",
    "    Args:\n",
    "    ----\n",
    "        smpl (list): a collection of samples\n",
    "    \n",
    "    Return:\n",
    "    ------\n",
    "        mean (float): mean of the given sample\n",
    "        std (float): standard deviation of the given sample\n",
    "    \"\"\"\n",
    "    mean = sum(smpl)/float(len(smpl))\n",
    "    tot = 0.0\n",
    "    for x in smpl: tot += (x - mean)**2\n",
    "    std = (tot/len(smpl))**0.5\n",
    "    return mean, std"
   ]
  },
  {
   "cell_type": "code",
   "execution_count": 23,
   "id": "0b1b6197",
   "metadata": {
    "code_folding": [],
    "hidden": true
   },
   "outputs": [],
   "source": [
    "def gaussian(x: float, mu: float, sigma: float) -> float:\n",
    "    constand = (1.0/(sigma*((2*np.pi)**0.5)))\n",
    "    expomential = np.e**-(((x-mu)**2)/(2*sigma**2))\n",
    "    return constand*expomential"
   ]
  },
  {
   "cell_type": "code",
   "execution_count": 24,
   "id": "eaced92b",
   "metadata": {
    "code_folding": [
     0
    ],
    "hidden": true
   },
   "outputs": [
    {
     "name": "stdout",
     "output_type": "stream",
     "text": [
      "10000\n",
      "Min: -361.2829530098119 ; Max: 350.63480709338023\n",
      "Fraction within ~200 of mean = 0.8495999999999972\n"
     ]
    },
    {
     "data": {
      "image/png": "[encoded data removed]",
      "text/plain": [
       "<Figure size 432x288 with 1 Axes>"
      ]
     },
     "metadata": {
      "needs_background": "light"
     },
     "output_type": "display_data"
    }
   ],
   "source": [
    "def gaussian_distributions():\n",
    "    random.seed(1)\n",
    "    numSamples = 10000\n",
    "    dist = [random.gauss(0, 100) for i in range(numSamples)]\n",
    "    weights = [1/numSamples]*len(dist)\n",
    "    v = plt.hist(dist, bins=100, weights=weights, ec='black')\n",
    "    print(len(dist))\n",
    "    # print(v)\n",
    "    # print(v[0])\n",
    "    print('Min:', min(*dist), ';','Max:', max(dist))\n",
    "    print('Fraction within ~200 of mean =', sum(v[0][30:70]))\n",
    "    plt.xlabel('X', size='xx-large', c='red')\n",
    "    plt.ylabel('Relative Frequency', c='red', fontsize=20)\n",
    "    plt.title('Gaussian Distributions', c='red', fontsize=25)\n",
    "    plt.show()\n",
    "\n",
    "gaussian_distributions()"
   ]
  },
  {
   "cell_type": "code",
   "execution_count": 25,
   "id": "606f211d",
   "metadata": {
    "code_folding": [
     0
    ],
    "hidden": true
   },
   "outputs": [
    {
     "data": {
      "image/png": "[encoded data removed]",
      "text/plain": [
       "<Figure size 432x288 with 1 Axes>"
      ]
     },
     "metadata": {
      "needs_background": "light"
     },
     "output_type": "display_data"
    }
   ],
   "source": [
    "def _printGaussian(mu=0, sigma=1) -> None:\n",
    "    \"\"\"Plot the gaussian function (Normal Distributaion) of given mu and sigma.\"\"\"\n",
    "    xVals, yVals = [], []\n",
    "    y1, y2 = [], []\n",
    "    x = -4\n",
    "    while x <= 4:\n",
    "        xVals.append(x)\n",
    "        yVals.append(gaussian(x, mu, sigma))\n",
    "        y1.append(gaussian(x, 1, 1))\n",
    "        y2.append(gaussian(x, -1, 0.5))\n",
    "        x += 0.05\n",
    "    # plot x and y using star  markers with dashed linestyle\n",
    "    plt.plot(xVals, yVals, 'r',lw=4, label='N. Dist, mu = ' + str(mu) + ', sigma = ' + str(sigma)) \n",
    "    plt.plot(xVals, y1, 'g--', label='N. Dist, mu = 1, sigma = 2')\n",
    "    plt.plot(xVals, y2, 'b--', label='N. Dist, mu = -1, sigma = 0.5')\n",
    "    plt.title('Normal Distribution', c='r', fontsize=25)\n",
    "    plt.xlabel('X', c='r', size='xx-large')\n",
    "    plt.ylabel('Density', c='r', fontsize=20)\n",
    "    # plt.axvline(0, ymax='0.6', c='navy')\n",
    "    plt.legend()\n",
    "    plt.show()\n",
    "\n",
    "_printGaussian()"
   ]
  },
  {
   "cell_type": "code",
   "execution_count": 9,
   "id": "20a24924",
   "metadata": {
    "code_folding": [
     0
    ],
    "hidden": true
   },
   "outputs": [
    {
     "name": "stdout",
     "output_type": "stream",
     "text": [
      "For mu = -3 and sigma = 8 :\n",
      "\tFraction within 1 std = 0.6827\n",
      "\tFraction within 1.96 std = 0.95\n",
      "\tFraction within 3 std = 0.9973\n",
      "For mu = -4 and sigma = 2 :\n",
      "\tFraction within 1 std = 0.6827\n",
      "\tFraction within 1.96 std = 0.95\n",
      "\tFraction within 3 std = 0.9973\n",
      "For mu = -8 and sigma = 5 :\n",
      "\tFraction within 1 std = 0.6827\n",
      "\tFraction within 1.96 std = 0.95\n",
      "\tFraction within 3 std = 0.9973\n"
     ]
    }
   ],
   "source": [
    "def checkEmpirical(numTrials) -> None:\n",
    "    for t in range(numTrials):\n",
    "        mu = random.randint(-10, 10)\n",
    "        sigma = random.randint(1, 10)\n",
    "        print('For mu =', mu, 'and sigma =', sigma, ':')\n",
    "        for numStd in (1, 1.96, 3):\n",
    "            area = scipy.integrate.quad(gaussian, mu-numStd*sigma, mu+numStd*sigma, (mu, sigma))[0]\n",
    "            print('\\tFraction within', numStd, 'std =', round(area, 4))\n",
    "        \n",
    "checkEmpirical(3)"
   ]
  },
  {
   "cell_type": "markdown",
   "id": "ff693088",
   "metadata": {
    "heading_collapsed": true
   },
   "source": [
    "## Datasets:"
   ]
  },
  {
   "cell_type": "code",
   "execution_count": 31,
   "id": "08ebf609",
   "metadata": {
    "hidden": true
   },
   "outputs": [],
   "source": [
    "klout = pd.read_csv('~/Data/klout_scores.csv')\n",
    "klout.columns=['Scores']"
   ]
  },
  {
   "cell_type": "code",
   "execution_count": 32,
   "id": "a9c0394c",
   "metadata": {
    "hidden": true
   },
   "outputs": [
    {
     "data": {
      "text/plain": [
       "0    10.0\n",
       "dtype: float64"
      ]
     },
     "execution_count": 32,
     "metadata": {},
     "output_type": "execute_result"
    }
   ],
   "source": [
    "klout.Scores.mode()"
   ]
  },
  {
   "cell_type": "code",
   "execution_count": 33,
   "id": "22f6dc0b",
   "metadata": {
    "hidden": true,
    "scrolled": true
   },
   "outputs": [],
   "source": [
    "stat = klout.describe()"
   ]
  },
  {
   "cell_type": "code",
   "execution_count": 34,
   "id": "26ccb90b",
   "metadata": {
    "hidden": true
   },
   "outputs": [
    {
     "data": {
      "image/png": "[encoded data removed]",
      "text/plain": [
       "<Figure size 432x288 with 1 Axes>"
      ]
     },
     "metadata": {
      "needs_background": "light"
     },
     "output_type": "display_data"
    }
   ],
   "source": [
    "plot_dist(klout.Scores)"
   ]
  },
  {
   "cell_type": "code",
   "execution_count": 35,
   "id": "7b4382e5",
   "metadata": {
    "hidden": true
   },
   "outputs": [],
   "source": [
    "z_scores = stats.zscore(klout)"
   ]
  },
  {
   "cell_type": "code",
   "execution_count": 36,
   "id": "2f80d04c",
   "metadata": {
    "hidden": true
   },
   "outputs": [
    {
     "data": {
      "image/png": "[encoded data removed]",
      "text/plain": [
       "<Figure size 432x288 with 1 Axes>"
      ]
     },
     "metadata": {
      "needs_background": "light"
     },
     "output_type": "display_data"
    }
   ],
   "source": [
    "plot_dist(z_scores)"
   ]
  },
  {
   "cell_type": "code",
   "execution_count": null,
   "id": "2c2e5da2",
   "metadata": {
    "hidden": true
   },
   "outputs": [],
   "source": []
  },
  {
   "cell_type": "code",
   "execution_count": null,
   "id": "0d944ab8",
   "metadata": {
    "hidden": true
   },
   "outputs": [],
   "source": []
  },
  {
   "cell_type": "markdown",
   "id": "0afc9c80",
   "metadata": {},
   "source": [
    "## Theories of Statistics"
   ]
  },
  {
   "cell_type": "markdown",
   "id": "29e8a5de",
   "metadata": {
    "heading_collapsed": true
   },
   "source": [
    "### Terminology"
   ]
  },
  {
   "cell_type": "markdown",
   "id": "9ee46e7d",
   "metadata": {
    "hidden": true
   },
   "source": [
    "- <font color='tomato'>Population:</font> the entire group of interest\n",
    "- <font color='tomato'>Sample:</font> subset of the population\n",
    "- <font color='tomato'>Bootstrap:</font> Sampling with replacement\n",
    "- <font color='tomato'>Parameter:</font> a number that describes the population, typically unknown\n",
    "- <font color='tomato'>Statistic:</font> a number that is computed from a sample\n",
    "- <font color='tomato'>Sampling variability:</font> the statistics of different samples of a population will differ somewhat\n",
    "- Sample skewness + fundamental randomness\n",
    "- <font color='tomato'>Sampling distribution</font> is the distribution of a statistic across an infinite number of samples"
   ]
  },
  {
   "cell_type": "markdown",
   "id": "3d0957ea",
   "metadata": {},
   "source": [
    "### Law of Large Number\n",
    "\n",
    "The law of large numbers (LLN) is a theorem that describes the result of performing the same experiment a large number of times. According to the law, the average of the results obtained from a large number of trials should be close to the expected value and will tend to become closer to the expected value as more trials are performed"
   ]
  },
  {
   "cell_type": "markdown",
   "id": "28914e77",
   "metadata": {
    "heading_collapsed": true
   },
   "source": [
    "### Regression to the Mean:\n",
    "\n",
    "- Following an extreme random event, the next random event is likely to be less extreme\n",
    "- If you spin a fair roulette wheel 10 times and get 100% reds, that is an extreme event (probability = 1/1024)\n",
    "- It is likely that in the next 10 spins, you will get fewer than 10 reds\n",
    "    - But the expected number is only 5\n",
    "- So, if you look at the average of the 20 spins, it will be\n",
    "closer to the expected mean of 50% reds than to the 100% of the first 10 spins "
   ]
  },
  {
   "cell_type": "markdown",
   "id": "f46d786a",
   "metadata": {
    "heading_collapsed": true
   },
   "source": [
    "### Confidence Levels and Intervals :\n",
    "\n",
    "- Instead of estimating an unknown parameter by a single value (e.g., the mean of a set of trials), a confidence interval provides a range that is likely to contain the unknown value and a confidence that the unknown value lays within that range."
   ]
  },
  {
   "cell_type": "markdown",
   "id": "9d6ab1e0",
   "metadata": {
    "heading_collapsed": true
   },
   "source": [
    "### Empirical Rule:\n",
    "\n",
    "- Under the assumptions below\n",
    "    - ~68% of data within one standard deviation of mean\n",
    "    - ~95% of data within 1.96 standard deviations of mean\n",
    "    - ~99.7% of data within 3 standard deviations of mean\n",
    "- Assumption Underlying Empirical Rule\n",
    "    - The Mean estimation error is zero\n",
    "    - The distribution of the error in estimation is Normal (Gaussian)"
   ]
  },
  {
   "cell_type": "markdown",
   "id": "7ff20dc7",
   "metadata": {
    "hidden": true
   },
   "source": [
    "- **Verify the Empirical Rule**"
   ]
  },
  {
   "cell_type": "code",
   "execution_count": 16,
   "id": "a612fd0b",
   "metadata": {
    "code_folding": [
     0
    ],
    "hidden": true
   },
   "outputs": [
    {
     "name": "stdout",
     "output_type": "stream",
     "text": [
      "For mu = -7 and sigma = 4 :\n",
      "\tFraction within 1 std = 0.6827\n",
      "\tFraction within 1.96 std = 0.95\n",
      "\tFraction within 3 std = 0.9973\n",
      "For mu = -6 and sigma = 5 :\n",
      "\tFraction within 1 std = 0.6827\n",
      "\tFraction within 1.96 std = 0.95\n",
      "\tFraction within 3 std = 0.9973\n",
      "For mu = -6 and sigma = 6 :\n",
      "\tFraction within 1 std = 0.6827\n",
      "\tFraction within 1.96 std = 0.95\n",
      "\tFraction within 3 std = 0.9973\n"
     ]
    }
   ],
   "source": [
    "def verify_empirical(numTrials) -> None:\n",
    "    for t in range(numTrials):\n",
    "        mu = random.randint(-10, 10)\n",
    "        sigma = random.randint(1, 10)\n",
    "        print('For mu =', mu, 'and sigma =', sigma, ':')\n",
    "        for numStd in (1, 1.96, 3):\n",
    "            area = scipy.integrate.quad(gaussian, mu-numStd*sigma, mu+numStd*sigma, (mu, sigma))[0]\n",
    "            print('\\tFraction within', numStd, 'std =', round(area, 4))\n",
    "        \n",
    "verify_empirical(3)\n"
   ]
  },
  {
   "cell_type": "markdown",
   "id": "f1939348",
   "metadata": {
    "heading_collapsed": true
   },
   "source": [
    "### Stratified Sampling :\n",
    "\n",
    "- When there are small subgroups that should be represented\n",
    "- When it is important that subgroups be represented proportionally to their size in the population\n",
    "- Can be used to reduced the needed size of sample\n",
    "    - Variability of subgroups less than of entire population\n",
    "- Requires care to do properly"
   ]
  },
  {
   "cell_type": "markdown",
   "id": "13272975",
   "metadata": {
    "heading_collapsed": true
   },
   "source": [
    "### Central Limit Therom (Given suficiently large sample):\n",
    "1. Means of the samples in a set of samples (the sample means) will be approximately normally distributated. In other word, the distribution of the sample means will be normally distributed.\n",
    "2. This Normal Distribution will have a mean close to the mean of the population.\n",
    "3. The variance of the sample means will be close to the variance of the population divided by the sample size."
   ]
  },
  {
   "cell_type": "markdown",
   "id": "a804b9d7",
   "metadata": {
    "heading_collapsed": true,
    "hidden": true
   },
   "source": [
    "#### Verify the Central Limit Theorem with rolling dice."
   ]
  },
  {
   "cell_type": "code",
   "execution_count": 17,
   "id": "0eb63763",
   "metadata": {
    "hidden": true
   },
   "outputs": [
    {
     "name": "stdout",
     "output_type": "stream",
     "text": [
      "Mean of rolling 1 die = 2.500974465250092, Std = 1.443626605702022\n",
      "Mean of rolling 50 dice = 2.498785871742738, Std = 0.20503035921081245\n"
     ]
    },
    {
     "data": {
      "image/png": "[encoded data removed]",
      "text/plain": [
       "<Figure size 432x288 with 1 Axes>"
      ]
     },
     "metadata": {
      "needs_background": "light"
     },
     "output_type": "display_data"
    }
   ],
   "source": [
    "def plotMeansDieRolls(numDice, numRolls, numBins, legend, color, xtks=False) -> tuple:\n",
    "    \"\"\"\n",
    "    Plots frequencies of the means of a simulation performed with specified metrics\n",
    "    \n",
    "    Args:\n",
    "    ----\n",
    "        num_dice (int): the sample size.\n",
    "        num_rolls (int): the number of samples.\n",
    "    \n",
    "    Returns:\n",
    "    -------\n",
    "        mean (float): the mean of the simulation\n",
    "        std (float): standard deviation of the simulations.\n",
    "    \"\"\"\n",
    "    means = []; num_semple = numRolls//numDice; sample_size = numDice\n",
    "    \n",
    "    for i in range(num_semple):  # trials = numRolls//numDice\n",
    "        vals = 0\n",
    "        for j in range(numDice): vals += 5*random.random()\n",
    "        means.append(vals/float(sample_size))\n",
    "    \n",
    "    low, high = min(means), max(means)\n",
    "    bins = np.linspace(low, high, numBins)\n",
    "    plt.hist(means, bins=bins, color=color, label=legend, weights=[1/len(means)]*len(means), ec='black')\n",
    "    \n",
    "    if xtks: plt.xticks(bins, rotation='45')\n",
    "    \n",
    "    return get_mean_std(means)\n",
    "\n",
    "\n",
    "def test_CLT_die_roll():\n",
    "    mean, std = plotMeansDieRolls(1, 1000000, 19, 'Mean of sample-size 1 (1 die)', 'b', True)\n",
    "    print('Mean of rolling 1 die =', str(mean) + ',', 'Std =', std)\n",
    "    mean, std = plotMeansDieRolls(50, 1000000, 19, 'Mean of sample-size 50 (50 dice)', 'r')\n",
    "    print('Mean of rolling 50 dice =', str(mean) + ',', 'Std =', std)\n",
    "    plt.title('Rolling Continuous Dice', c='r', fontsize=25)\n",
    "    plt.xlabel('Means', c='Red', fontsize=20)\n",
    "    plt.ylabel('Probability', c='Red', size='xx-large')\n",
    "    plt.legend()\n",
    "    plt.axvline(mean, ymax=0.98, c='Blue')\n",
    "    plt.tight_layout()\n",
    "    plt.show()\n",
    "\n",
    "test_CLT_die_roll()"
   ]
  },
  {
   "cell_type": "code",
   "execution_count": 18,
   "id": "e9000355",
   "metadata": {
    "hidden": true
   },
   "outputs": [
    {
     "name": "stdout",
     "output_type": "stream",
     "text": [
      "Mean of rolling 50 dice = 2.499594797519442, Std = 0.2032237960930431\n"
     ]
    },
    {
     "data": {
      "image/png": "[encoded data removed]",
      "text/plain": [
       "<Figure size 432x288 with 1 Axes>"
      ]
     },
     "metadata": {
      "needs_background": "light"
     },
     "output_type": "display_data"
    }
   ],
   "source": [
    "def analyze_die_rolls_dist():\n",
    "    mean, std = plotMeansDieRolls(50, 1000000, 20, 'Mean of 50 dice', 'r', True)\n",
    "    print('Mean of rolling 50 dice =', str(mean) + ',', 'Std =', std)\n",
    "    plt.title('Rolling Continuous Dice', size='xx-large', c='r', fontsize=25)\n",
    "    plt.xlabel('Means', size='xx-large', c='r')\n",
    "    plt.ylabel('Probability', fontsize=20, c='r')\n",
    "    plt.legend()\n",
    "    plt.axvline(mean, ymax=0.98, c='Blue')\n",
    "    plt.tight_layout()\n",
    "    plt.show()\n",
    "\n",
    "analyze_die_rolls_dist()"
   ]
  },
  {
   "cell_type": "code",
   "execution_count": null,
   "id": "7d285958",
   "metadata": {
    "hidden": true
   },
   "outputs": [],
   "source": []
  },
  {
   "cell_type": "code",
   "execution_count": null,
   "id": "41bc2613",
   "metadata": {
    "hidden": true
   },
   "outputs": [],
   "source": []
  },
  {
   "cell_type": "markdown",
   "id": "4269f4cc",
   "metadata": {
    "heading_collapsed": true
   },
   "source": [
    "### [Covariance](https://en.wikipedia.org/wiki/Covariance):"
   ]
  },
  {
   "cell_type": "markdown",
   "id": "2c658046",
   "metadata": {
    "hidden": true
   },
   "source": [
    "* Coveriance of X & Y:\n",
    "    - **X is a Random Variable (a feature vector; $X \\in R^m$)**\n",
    "    - **Y is also a Random Variable (another feature vector; $Y \\in R^m$)**\n",
    "    - $cov(X, Y) = E[(X - E[X]) \\cdot (Y - E[Y])] = E[X Y] - E[X] \\cdot E[Y] = E[X \\cdot Y] - \\mu_X \\cdot \\mu_Y$\n",
    "> $X \\cdot Y \\ne X^{T} Y $;    it's elementwise multiplication\n",
    "    - $cov(X, Y) \\in [- \\sigma_X \\sigma_Y, \\sigma_X \\sigma_Y]$"
   ]
  },
  {
   "cell_type": "markdown",
   "id": "973bfa97",
   "metadata": {
    "hidden": true
   },
   "source": [
    "* [Covariance Matrix](https://en.wikipedia.org/wiki/Covariance_matrix):\n",
    "    - **X is a Matrix** (a group of Random Variables; $X \\in R^{m x n}$)\n",
    "        - Each column of **X** is a feature vector.\n",
    "\n",
    "$\\operatorname{K}_{\\mathbf{X}\\mathbf{X}} \n",
    "= \\begin{bmatrix}\n",
    "\\mathrm{E}[(X_1 - \\operatorname{E}[X_1])(X_1 - \\operatorname{E}[X_1])] & \\mathrm{E}[(X_1 - \\operatorname{E}[X_1])(X_2 - \\operatorname{E}[X_2])] & \\cdots & \\mathrm{E}[(X_1 - \\operatorname{E}[X_1])(X_n - \\operatorname{E}[X_n])] \\\\ \\\\\n",
    " \\mathrm{E}[(X_2 - \\operatorname{E}[X_2])(X_1 - \\operatorname{E}[X_1])] & \\mathrm{E}[(X_2 - \\operatorname{E}[X_2])(X_2 - \\operatorname{E}[X_2])] & \\cdots & \\mathrm{E}[(X_2 - \\operatorname{E}[X_2])(X_n - \\operatorname{E}[X_n])] \\\\ \\\\\n",
    " \\vdots & \\vdots & \\ddots & \\vdots \\\\ \\\\\n",
    " \\mathrm{E}[(X_n - \\operatorname{E}[X_n])(X_1 - \\operatorname{E}[X_1])] & \\mathrm{E}[(X_n - \\operatorname{E}[X_n])(X_2 - \\operatorname{E}[X_2])] & \\cdots & \\mathrm{E}[(X_n - \\operatorname{E}[X_n])(X_n - \\operatorname{E}[X_n])]\n",
    "\\end{bmatrix}$"
   ]
  },
  {
   "cell_type": "markdown",
   "id": "9095fed1",
   "metadata": {
    "hidden": true
   },
   "source": [
    "- $\n",
    "\\operatorname{K}_{\\mathbf{X}\\mathbf{X}} \n",
    "    = \\operatorname{cov}[\\mathbf{X},\\mathbf{X}] \n",
    "    = \\operatorname{E}[(\\mathbf{X}-\\mathbf{\\mu_X})(\\mathbf{X}-\\mathbf{\\mu_X})^{\\rm T}]\n",
    "    = \\operatorname{E}[\\mathbf{X} \\mathbf{X}^T] - \\mathbf{\\mu_X} \\mathbf{\\mu_X}^T\n",
    "$\n",
    "\n",
    "- $\n",
    "\\operatorname{E}[\\mathbf{X} \\mathbf{X}^T] \n",
    "    = \\frac{1}{m} \\cdot \\sum\\limits_{i=1}^m \\mathbf{x}^i  {\\mathbf{x}^i}^T\n",
    "    \\ne \\frac{1}{m} \\cdot \\left[ \\mathbf{X} \\mathbf{X}^T \\right] \\quad where, \\quad\n",
    "    \\begin{cases}\n",
    "        \\mathbf{X} \\in R^{m x n} \\\\\n",
    "        \\mathbf{x} \\in R^n\n",
    "    \\end{cases}\n",
    "$"
   ]
  },
  {
   "cell_type": "markdown",
   "id": "c01178e1",
   "metadata": {
    "hidden": true
   },
   "source": [
    "- Python Implementation:\n",
    "    - $\\operatorname{K}_{\\mathbf{X}\\mathbf{X}} \n",
    "    = \\frac{1}{m} \\cdot (\\mathbf{X}-\\mathbf{\\mu_X})^{\\rm T}(\\mathbf{X}-\\mathbf{\\mu_X})$\n",
    "        - $\\mathbf{X} \\in R^{m x n}$ \n",
    "        - $(\\mathbf{X}-\\mathbf{\\mu_X})^{\\rm T} \\in R^{n x m}$\n",
    "        - $\\mu_X \\in R^n$"
   ]
  },
  {
   "cell_type": "markdown",
   "id": "558ed943",
   "metadata": {
    "hidden": true
   },
   "source": [
    "- $\\operatorname{K}_{\\mathbf{X}\\mathbf{X}}$ is a **Symetric Matrix**; $\\operatorname{K}_{\\mathbf{X}\\mathbf{X}} \\in R^{n x n}$\n",
    "- $\\operatorname{K}_{\\mathbf{X}\\mathbf{X}}$ is a **Positive Semi-definite Matrix**\n",
    "- The matrix $\\operatorname{K}_{\\mathbf{X}\\mathbf{X}}$ is also often called the **variance-covariance matrix**, since the diagonal terms are in fact variances of $n^{th}$ feature."
   ]
  },
  {
   "cell_type": "code",
   "execution_count": null,
   "id": "fb0f874e",
   "metadata": {
    "hidden": true
   },
   "outputs": [],
   "source": []
  },
  {
   "cell_type": "markdown",
   "id": "5b4a0c12",
   "metadata": {
    "heading_collapsed": true
   },
   "source": [
    "### Correlation:"
   ]
  },
  {
   "cell_type": "markdown",
   "id": "ffa48fcc",
   "metadata": {
    "hidden": true
   },
   "source": [
    "#### [Pearson Correlation](https://en.wikipedia.org/wiki/Pearson_correlation_coefficient)"
   ]
  },
  {
   "cell_type": "markdown",
   "id": "4b103d40",
   "metadata": {
    "hidden": true
   },
   "source": [
    "**Pearson's Correlation Coefficient:**\n",
    "   - $corr(X) \\in [- 1, 1]$ \n",
    "   - Standarized version of $cov(X,Y)$ ( Standarization is obtained dividing $cov(X,Y)$ by $\\sigma_X \\sigma_Y$)\n",
    "   - X is a column (a Random Variable)\n",
    "   - Y is also a column (another Random Variable)"
   ]
  },
  {
   "cell_type": "markdown",
   "id": "b37fea5b",
   "metadata": {
    "hidden": true
   },
   "source": [
    "**For Population**\n",
    "\n",
    "\\begin{split}\n",
    "\\Large\\rho_{X,Y} \n",
    "&= \\frac{\\operatorname{cov}(X,Y)}{\\sigma_X \\sigma_Y} \\\\\n",
    "&= \\frac{\\mathbb{E}[(X-\\mu_X)(Y-\\mu_Y)]} {\\sigma_X\\sigma_Y} \\\\\n",
    "&= \\frac{\\mathbb{E}[(X-\\mathbb{E}[X]) \\cdot (Y-\\mathbb{E}[Y])]}{\\sqrt{\\mathbb{E}[\\,X^2\\,]-\\left(\\mathbb{E}[\\,X\\,] \\right)^2} ~ \\sqrt{\\mathbb{E}[\\,Y^2\\,]- \\left(\\mathbb{E}[\\,Y\\,] \\right)^2}} \\\\\n",
    "&= \\frac{\\mathbb{E}[\\,X\\,Y\\,]-\\mathbb{E}[\\,X\\,]\\mathbb{E}[\\,Y\\,]}{\\sqrt{\\mathbb{E}[\\,X^2\\,]-\\left(\\mathbb{E}[\\,X\\,] \\right)^2} ~ \\sqrt{\\mathbb{E}[\\,Y^2\\,]- \\left(\\mathbb{E}[\\,Y\\,] \\right)^2}}\n",
    "\\end{split}"
   ]
  },
  {
   "cell_type": "markdown",
   "id": "05ba8f86",
   "metadata": {
    "hidden": true
   },
   "source": [
    "**For Sample**\n",
    "\n",
    "\\begin{split}\n",
    "    \\Large r_{xy} \n",
    "    &=\\frac{\\sum ^n _{i=1}(x_i - \\bar{x})(y_i - \\bar{y})}{\\sqrt{\\sum ^n _{i=1}(x_i - \\bar{x})^2} \\sqrt{\\sum ^n _{i=1}(y_i - \\bar{y})^2}} \\\\\n",
    "    &= \\frac{n\\sum x_i y_i - \\sum x_i\\sum y_i}{\\sqrt{n\\sum x_i^2-\\left(\\sum x_i\\right)^2}~\\sqrt{n\\sum y_i^2-\\left(\\sum y_i\\right)^2}} \\\\\n",
    "    &= \\frac{\\sum x_i y_i-n\\bar{x}\\bar{y}}{\\sqrt{\\sum x_i^2-n\\bar{x}^2}~\\sqrt{\\sum y_i^2-n\\bar{y}^2}}\n",
    "\\end{split}"
   ]
  },
  {
   "cell_type": "markdown",
   "id": "6658eaef",
   "metadata": {
    "hidden": true
   },
   "source": [
    "**Pearson's Correlation Matrix:**\n",
    "   - X is a Matrix (a group of Random Variables)"
   ]
  },
  {
   "cell_type": "markdown",
   "id": "0120bf8f",
   "metadata": {
    "hidden": true
   },
   "source": [
    "$\\Large \\operatorname{corr}(\\mathbf{X})\n",
    "= \\begin{bmatrix}\n",
    " 1 & \\frac{\\operatorname{E}[(X_1 - \\mu_1)(X_2 - \\mu_2)]}{\\sigma(X_1)\\sigma(X_2)} & \\cdots & \\frac{\\operatorname{E}[(X_1 - \\mu_1)(X_n - \\mu_n)]}{\\sigma(X_1)\\sigma(X_n)} \\\\ \\\\\n",
    " \\frac{\\operatorname{E}[(X_2 - \\mu_2)(X_1 - \\mu_1)]}{\\sigma(X_2)\\sigma(X_1)} & 1 & \\cdots & \\frac{\\operatorname{E}[(X_2 - \\mu_2)(X_n - \\mu_n)]}{\\sigma(X_2)\\sigma(X_n)} \\\\ \\\\\n",
    " \\vdots & \\vdots & \\ddots & \\vdots \\\\ \\\\\n",
    " \\frac{\\operatorname{E}[(X_n - \\mu_n)(X_1 - \\mu_1)]}{\\sigma(X_n)\\sigma(X_1)} & \\frac{\\operatorname{E}[(X_n - \\mu_n)(X_2 - \\mu_2)]}{\\sigma(X_n)\\sigma(X_2)} & \\cdots & 1\n",
    "\\end{bmatrix}$"
   ]
  },
  {
   "cell_type": "markdown",
   "id": "d9335bd9",
   "metadata": {
    "hidden": true
   },
   "source": [
    "- The correlation matrix can be seen as the covariance matrix of the **standardized variable** $\\frac{X_i}{\\sigma(X_i)}$ for $i = 1, \\dots, n$\n",
    "\n",
    "- Each element on the principal diagonal of a correlation matrix is the correlation of a random variable with itself, which always equals 1. Each off-diagonal element is between −1 and +1 inclusive."
   ]
  },
  {
   "cell_type": "markdown",
   "id": "6e2d4e3f",
   "metadata": {
    "heading_collapsed": true,
    "hidden": true
   },
   "source": [
    "#### [Spearsman Correlation](https://en.wikipedia.org/wiki/Spearman%27s_rank_correlation_coefficient):"
   ]
  },
  {
   "cell_type": "markdown",
   "id": "4cd3f9b2",
   "metadata": {
    "hidden": true
   },
   "source": [
    "- The Spearman correlation coefficient is defined as the **Pearson correlation coefficient** between the rank variables."
   ]
  },
  {
   "cell_type": "markdown",
   "id": "1f9941e8",
   "metadata": {
    "hidden": true
   },
   "source": [
    "- For a sample of size `n`, the `n` raw scores $X_i, Y_i$ are converted to ranks $\\operatorname{R}({X_i}), \\operatorname{R}({Y_i})$, and $r_s$ is computed as\n",
    "\n",
    ">$\\Large r_s =\n",
    " \\rho_{\\operatorname{R}(X),\\operatorname{R}(Y)} =\n",
    " \\frac{\\operatorname{cov}(\\operatorname{R}(X), \\operatorname{R}(Y))}\n",
    "      {\\sigma_{\\operatorname{R}(X)} \\sigma_{\\operatorname{R}(Y)}}$"
   ]
  },
  {
   "cell_type": "markdown",
   "id": "95bea0d9",
   "metadata": {
    "hidden": true
   },
   "source": [
    "where,\n",
    "\n",
    "- $\\rho$ denotes the usual Pearson correlation coefficient, but applied to the rank variables\n",
    "- $\\operatorname{cov}(\\operatorname{R}(X), \\operatorname{R}(Y))$ is the covariance of the rank variables\n",
    "- $\\sigma_{\\operatorname{R}(X)}$ and $\\sigma_{\\operatorname{R}(Y)}$ are the standard deviations of the rank variables.\n",
    "- Only if all `n` ranks are **distinct integers**, it can be computed using the popular formula\n",
    "\n",
    ">$\\Large r_s = 1 - \\frac{6 \\sum d_i^2}{n(n^2 - 1)}$\n",
    "\n",
    ">where,\n",
    ">- $d_i = \\operatorname{R}(X_i) - \\operatorname{R}(Y_i)$ is the difference between the two ranks of each observation,\n",
    ">- `n` is the number of observations."
   ]
  },
  {
   "cell_type": "markdown",
   "id": "c085dddf",
   "metadata": {
    "heading_collapsed": true,
    "hidden": true
   },
   "source": [
    "##### [Example](https://en.wikipedia.org/wiki/Spearman%27s_rank_correlation_coefficient#Example)"
   ]
  },
  {
   "cell_type": "code",
   "execution_count": 19,
   "id": "324ed233",
   "metadata": {
    "hidden": true
   },
   "outputs": [
    {
     "data": {
      "text/html": [
       "<div>\n",
       "<style scoped>\n",
       "    .dataframe tbody tr th:only-of-type {\n",
       "        vertical-align: middle;\n",
       "    }\n",
       "\n",
       "    .dataframe tbody tr th {\n",
       "        vertical-align: top;\n",
       "    }\n",
       "\n",
       "    .dataframe thead th {\n",
       "        text-align: right;\n",
       "    }\n",
       "</style>\n",
       "<table border=\"1\" class=\"dataframe\">\n",
       "  <thead>\n",
       "    <tr style=\"text-align: right;\">\n",
       "      <th></th>\n",
       "      <th>X1</th>\n",
       "      <th>X2</th>\n",
       "    </tr>\n",
       "  </thead>\n",
       "  <tbody>\n",
       "    <tr>\n",
       "      <th>0</th>\n",
       "      <td>7</td>\n",
       "      <td>106</td>\n",
       "    </tr>\n",
       "    <tr>\n",
       "      <th>1</th>\n",
       "      <td>27</td>\n",
       "      <td>100</td>\n",
       "    </tr>\n",
       "    <tr>\n",
       "      <th>2</th>\n",
       "      <td>2</td>\n",
       "      <td>86</td>\n",
       "    </tr>\n",
       "    <tr>\n",
       "      <th>3</th>\n",
       "      <td>50</td>\n",
       "      <td>101</td>\n",
       "    </tr>\n",
       "    <tr>\n",
       "      <th>4</th>\n",
       "      <td>28</td>\n",
       "      <td>99</td>\n",
       "    </tr>\n",
       "    <tr>\n",
       "      <th>5</th>\n",
       "      <td>29</td>\n",
       "      <td>103</td>\n",
       "    </tr>\n",
       "    <tr>\n",
       "      <th>6</th>\n",
       "      <td>20</td>\n",
       "      <td>97</td>\n",
       "    </tr>\n",
       "    <tr>\n",
       "      <th>7</th>\n",
       "      <td>12</td>\n",
       "      <td>113</td>\n",
       "    </tr>\n",
       "    <tr>\n",
       "      <th>8</th>\n",
       "      <td>6</td>\n",
       "      <td>112</td>\n",
       "    </tr>\n",
       "    <tr>\n",
       "      <th>9</th>\n",
       "      <td>17</td>\n",
       "      <td>110</td>\n",
       "    </tr>\n",
       "  </tbody>\n",
       "</table>\n",
       "</div>"
      ],
      "text/plain": [
       "   X1   X2\n",
       "0   7  106\n",
       "1  27  100\n",
       "2   2   86\n",
       "3  50  101\n",
       "4  28   99\n",
       "5  29  103\n",
       "6  20   97\n",
       "7  12  113\n",
       "8   6  112\n",
       "9  17  110"
      ]
     },
     "execution_count": 19,
     "metadata": {},
     "output_type": "execute_result"
    }
   ],
   "source": [
    "X = pd.DataFrame(np.array([[7, 27, 2, 50, 28, 29, 20, 12, 6, 17],\n",
    "                           [106, 100, 86, 101, 99, 103, 97, 113, 112, 110]]).T, columns=['X1','X2'])\n",
    "\n",
    "X"
   ]
  },
  {
   "cell_type": "code",
   "execution_count": 20,
   "id": "0747ed5f",
   "metadata": {
    "hidden": true
   },
   "outputs": [
    {
     "data": {
      "text/html": [
       "<div>\n",
       "<style scoped>\n",
       "    .dataframe tbody tr th:only-of-type {\n",
       "        vertical-align: middle;\n",
       "    }\n",
       "\n",
       "    .dataframe tbody tr th {\n",
       "        vertical-align: top;\n",
       "    }\n",
       "\n",
       "    .dataframe thead th {\n",
       "        text-align: right;\n",
       "    }\n",
       "</style>\n",
       "<table border=\"1\" class=\"dataframe\">\n",
       "  <thead>\n",
       "    <tr style=\"text-align: right;\">\n",
       "      <th></th>\n",
       "      <th>X1</th>\n",
       "      <th>X2</th>\n",
       "    </tr>\n",
       "  </thead>\n",
       "  <tbody>\n",
       "    <tr>\n",
       "      <th>0</th>\n",
       "      <td>3.0</td>\n",
       "      <td>7.0</td>\n",
       "    </tr>\n",
       "    <tr>\n",
       "      <th>1</th>\n",
       "      <td>7.0</td>\n",
       "      <td>4.0</td>\n",
       "    </tr>\n",
       "    <tr>\n",
       "      <th>2</th>\n",
       "      <td>1.0</td>\n",
       "      <td>1.0</td>\n",
       "    </tr>\n",
       "    <tr>\n",
       "      <th>3</th>\n",
       "      <td>10.0</td>\n",
       "      <td>5.0</td>\n",
       "    </tr>\n",
       "    <tr>\n",
       "      <th>4</th>\n",
       "      <td>8.0</td>\n",
       "      <td>3.0</td>\n",
       "    </tr>\n",
       "    <tr>\n",
       "      <th>5</th>\n",
       "      <td>9.0</td>\n",
       "      <td>6.0</td>\n",
       "    </tr>\n",
       "    <tr>\n",
       "      <th>6</th>\n",
       "      <td>6.0</td>\n",
       "      <td>2.0</td>\n",
       "    </tr>\n",
       "    <tr>\n",
       "      <th>7</th>\n",
       "      <td>4.0</td>\n",
       "      <td>10.0</td>\n",
       "    </tr>\n",
       "    <tr>\n",
       "      <th>8</th>\n",
       "      <td>2.0</td>\n",
       "      <td>9.0</td>\n",
       "    </tr>\n",
       "    <tr>\n",
       "      <th>9</th>\n",
       "      <td>5.0</td>\n",
       "      <td>8.0</td>\n",
       "    </tr>\n",
       "  </tbody>\n",
       "</table>\n",
       "</div>"
      ],
      "text/plain": [
       "     X1    X2\n",
       "0   3.0   7.0\n",
       "1   7.0   4.0\n",
       "2   1.0   1.0\n",
       "3  10.0   5.0\n",
       "4   8.0   3.0\n",
       "5   9.0   6.0\n",
       "6   6.0   2.0\n",
       "7   4.0  10.0\n",
       "8   2.0   9.0\n",
       "9   5.0   8.0"
      ]
     },
     "execution_count": 20,
     "metadata": {},
     "output_type": "execute_result"
    }
   ],
   "source": [
    "X_rank = X.rank(); X_rank"
   ]
  },
  {
   "cell_type": "code",
   "execution_count": 21,
   "id": "cb0d3b64",
   "metadata": {
    "hidden": true
   },
   "outputs": [
    {
     "data": {
      "text/html": [
       "<div>\n",
       "<style scoped>\n",
       "    .dataframe tbody tr th:only-of-type {\n",
       "        vertical-align: middle;\n",
       "    }\n",
       "\n",
       "    .dataframe tbody tr th {\n",
       "        vertical-align: top;\n",
       "    }\n",
       "\n",
       "    .dataframe thead th {\n",
       "        text-align: right;\n",
       "    }\n",
       "</style>\n",
       "<table border=\"1\" class=\"dataframe\">\n",
       "  <thead>\n",
       "    <tr style=\"text-align: right;\">\n",
       "      <th></th>\n",
       "      <th>X1</th>\n",
       "      <th>X2</th>\n",
       "    </tr>\n",
       "  </thead>\n",
       "  <tbody>\n",
       "    <tr>\n",
       "      <th>X1</th>\n",
       "      <td>1.000000</td>\n",
       "      <td>-0.175758</td>\n",
       "    </tr>\n",
       "    <tr>\n",
       "      <th>X2</th>\n",
       "      <td>-0.175758</td>\n",
       "      <td>1.000000</td>\n",
       "    </tr>\n",
       "  </tbody>\n",
       "</table>\n",
       "</div>"
      ],
      "text/plain": [
       "          X1        X2\n",
       "X1  1.000000 -0.175758\n",
       "X2 -0.175758  1.000000"
      ]
     },
     "execution_count": 21,
     "metadata": {},
     "output_type": "execute_result"
    }
   ],
   "source": [
    "X_rank.corr()"
   ]
  },
  {
   "cell_type": "code",
   "execution_count": 22,
   "id": "1f433b77",
   "metadata": {
    "hidden": true
   },
   "outputs": [
    {
     "data": {
      "text/plain": [
       "SpearmanrResult(correlation=-0.17575757575757575, pvalue=0.6271883447764844)"
      ]
     },
     "execution_count": 22,
     "metadata": {},
     "output_type": "execute_result"
    }
   ],
   "source": [
    "scipy.stats.spearmanr(X)"
   ]
  },
  {
   "cell_type": "code",
   "execution_count": null,
   "id": "2483203a",
   "metadata": {
    "hidden": true
   },
   "outputs": [],
   "source": []
  },
  {
   "cell_type": "code",
   "execution_count": 23,
   "id": "a6b1911a",
   "metadata": {
    "hidden": true
   },
   "outputs": [],
   "source": [
    "X_df = X[['X1', 'X2']]"
   ]
  },
  {
   "cell_type": "code",
   "execution_count": 24,
   "id": "04ffd599",
   "metadata": {
    "hidden": true
   },
   "outputs": [
    {
     "data": {
      "text/html": [
       "<div>\n",
       "<style scoped>\n",
       "    .dataframe tbody tr th:only-of-type {\n",
       "        vertical-align: middle;\n",
       "    }\n",
       "\n",
       "    .dataframe tbody tr th {\n",
       "        vertical-align: top;\n",
       "    }\n",
       "\n",
       "    .dataframe thead th {\n",
       "        text-align: right;\n",
       "    }\n",
       "</style>\n",
       "<table border=\"1\" class=\"dataframe\">\n",
       "  <thead>\n",
       "    <tr style=\"text-align: right;\">\n",
       "      <th></th>\n",
       "      <th>X1</th>\n",
       "      <th>X2</th>\n",
       "    </tr>\n",
       "  </thead>\n",
       "  <tbody>\n",
       "    <tr>\n",
       "      <th>0</th>\n",
       "      <td>7</td>\n",
       "      <td>106</td>\n",
       "    </tr>\n",
       "    <tr>\n",
       "      <th>1</th>\n",
       "      <td>27</td>\n",
       "      <td>100</td>\n",
       "    </tr>\n",
       "    <tr>\n",
       "      <th>2</th>\n",
       "      <td>2</td>\n",
       "      <td>86</td>\n",
       "    </tr>\n",
       "    <tr>\n",
       "      <th>3</th>\n",
       "      <td>50</td>\n",
       "      <td>101</td>\n",
       "    </tr>\n",
       "    <tr>\n",
       "      <th>4</th>\n",
       "      <td>28</td>\n",
       "      <td>99</td>\n",
       "    </tr>\n",
       "    <tr>\n",
       "      <th>5</th>\n",
       "      <td>29</td>\n",
       "      <td>103</td>\n",
       "    </tr>\n",
       "    <tr>\n",
       "      <th>6</th>\n",
       "      <td>20</td>\n",
       "      <td>97</td>\n",
       "    </tr>\n",
       "    <tr>\n",
       "      <th>7</th>\n",
       "      <td>12</td>\n",
       "      <td>113</td>\n",
       "    </tr>\n",
       "    <tr>\n",
       "      <th>8</th>\n",
       "      <td>6</td>\n",
       "      <td>112</td>\n",
       "    </tr>\n",
       "    <tr>\n",
       "      <th>9</th>\n",
       "      <td>17</td>\n",
       "      <td>110</td>\n",
       "    </tr>\n",
       "  </tbody>\n",
       "</table>\n",
       "</div>"
      ],
      "text/plain": [
       "   X1   X2\n",
       "0   7  106\n",
       "1  27  100\n",
       "2   2   86\n",
       "3  50  101\n",
       "4  28   99\n",
       "5  29  103\n",
       "6  20   97\n",
       "7  12  113\n",
       "8   6  112\n",
       "9  17  110"
      ]
     },
     "execution_count": 24,
     "metadata": {},
     "output_type": "execute_result"
    }
   ],
   "source": [
    " X_df.columns = ['X1', 'X2']; X_df"
   ]
  },
  {
   "cell_type": "code",
   "execution_count": 25,
   "id": "fafecc27",
   "metadata": {
    "hidden": true
   },
   "outputs": [
    {
     "data": {
      "text/html": [
       "<div>\n",
       "<style scoped>\n",
       "    .dataframe tbody tr th:only-of-type {\n",
       "        vertical-align: middle;\n",
       "    }\n",
       "\n",
       "    .dataframe tbody tr th {\n",
       "        vertical-align: top;\n",
       "    }\n",
       "\n",
       "    .dataframe thead th {\n",
       "        text-align: right;\n",
       "    }\n",
       "</style>\n",
       "<table border=\"1\" class=\"dataframe\">\n",
       "  <thead>\n",
       "    <tr style=\"text-align: right;\">\n",
       "      <th></th>\n",
       "      <th>X1</th>\n",
       "      <th>X2</th>\n",
       "      <th>R(X1)</th>\n",
       "      <th>R(X2)</th>\n",
       "    </tr>\n",
       "  </thead>\n",
       "  <tbody>\n",
       "    <tr>\n",
       "      <th>0</th>\n",
       "      <td>7</td>\n",
       "      <td>106</td>\n",
       "      <td>3.0</td>\n",
       "      <td>7.0</td>\n",
       "    </tr>\n",
       "    <tr>\n",
       "      <th>1</th>\n",
       "      <td>27</td>\n",
       "      <td>100</td>\n",
       "      <td>7.0</td>\n",
       "      <td>4.0</td>\n",
       "    </tr>\n",
       "    <tr>\n",
       "      <th>2</th>\n",
       "      <td>2</td>\n",
       "      <td>86</td>\n",
       "      <td>1.0</td>\n",
       "      <td>1.0</td>\n",
       "    </tr>\n",
       "    <tr>\n",
       "      <th>3</th>\n",
       "      <td>50</td>\n",
       "      <td>101</td>\n",
       "      <td>10.0</td>\n",
       "      <td>5.0</td>\n",
       "    </tr>\n",
       "    <tr>\n",
       "      <th>4</th>\n",
       "      <td>28</td>\n",
       "      <td>99</td>\n",
       "      <td>8.0</td>\n",
       "      <td>3.0</td>\n",
       "    </tr>\n",
       "    <tr>\n",
       "      <th>5</th>\n",
       "      <td>29</td>\n",
       "      <td>103</td>\n",
       "      <td>9.0</td>\n",
       "      <td>6.0</td>\n",
       "    </tr>\n",
       "    <tr>\n",
       "      <th>6</th>\n",
       "      <td>20</td>\n",
       "      <td>97</td>\n",
       "      <td>6.0</td>\n",
       "      <td>2.0</td>\n",
       "    </tr>\n",
       "    <tr>\n",
       "      <th>7</th>\n",
       "      <td>12</td>\n",
       "      <td>113</td>\n",
       "      <td>4.0</td>\n",
       "      <td>10.0</td>\n",
       "    </tr>\n",
       "    <tr>\n",
       "      <th>8</th>\n",
       "      <td>6</td>\n",
       "      <td>112</td>\n",
       "      <td>2.0</td>\n",
       "      <td>9.0</td>\n",
       "    </tr>\n",
       "    <tr>\n",
       "      <th>9</th>\n",
       "      <td>17</td>\n",
       "      <td>110</td>\n",
       "      <td>5.0</td>\n",
       "      <td>8.0</td>\n",
       "    </tr>\n",
       "  </tbody>\n",
       "</table>\n",
       "</div>"
      ],
      "text/plain": [
       "   X1   X2  R(X1)  R(X2)\n",
       "0   7  106    3.0    7.0\n",
       "1  27  100    7.0    4.0\n",
       "2   2   86    1.0    1.0\n",
       "3  50  101   10.0    5.0\n",
       "4  28   99    8.0    3.0\n",
       "5  29  103    9.0    6.0\n",
       "6  20   97    6.0    2.0\n",
       "7  12  113    4.0   10.0\n",
       "8   6  112    2.0    9.0\n",
       "9  17  110    5.0    8.0"
      ]
     },
     "execution_count": 25,
     "metadata": {},
     "output_type": "execute_result"
    }
   ],
   "source": [
    "X_df['R(X1)'] = X_df['X1'].rank()\n",
    "X_df['R(X2)'] = X_df['X2'].rank()\n",
    "X_df"
   ]
  },
  {
   "cell_type": "code",
   "execution_count": 26,
   "id": "7371e132",
   "metadata": {
    "hidden": true,
    "scrolled": true
   },
   "outputs": [
    {
     "data": {
      "text/html": [
       "<div>\n",
       "<style scoped>\n",
       "    .dataframe tbody tr th:only-of-type {\n",
       "        vertical-align: middle;\n",
       "    }\n",
       "\n",
       "    .dataframe tbody tr th {\n",
       "        vertical-align: top;\n",
       "    }\n",
       "\n",
       "    .dataframe thead th {\n",
       "        text-align: right;\n",
       "    }\n",
       "</style>\n",
       "<table border=\"1\" class=\"dataframe\">\n",
       "  <thead>\n",
       "    <tr style=\"text-align: right;\">\n",
       "      <th></th>\n",
       "      <th>X1</th>\n",
       "      <th>X2</th>\n",
       "      <th>X3</th>\n",
       "      <th>X4</th>\n",
       "      <th>X5</th>\n",
       "    </tr>\n",
       "  </thead>\n",
       "  <tbody>\n",
       "    <tr>\n",
       "      <th>0</th>\n",
       "      <td>24</td>\n",
       "      <td>13</td>\n",
       "      <td>24</td>\n",
       "      <td>-20</td>\n",
       "      <td>-15</td>\n",
       "    </tr>\n",
       "    <tr>\n",
       "      <th>1</th>\n",
       "      <td>-8</td>\n",
       "      <td>12</td>\n",
       "      <td>-1</td>\n",
       "      <td>-5</td>\n",
       "      <td>31</td>\n",
       "    </tr>\n",
       "    <tr>\n",
       "      <th>2</th>\n",
       "      <td>46</td>\n",
       "      <td>39</td>\n",
       "      <td>22</td>\n",
       "      <td>40</td>\n",
       "      <td>-14</td>\n",
       "    </tr>\n",
       "    <tr>\n",
       "      <th>3</th>\n",
       "      <td>-16</td>\n",
       "      <td>11</td>\n",
       "      <td>30</td>\n",
       "      <td>-11</td>\n",
       "      <td>-4</td>\n",
       "    </tr>\n",
       "    <tr>\n",
       "      <th>4</th>\n",
       "      <td>2</td>\n",
       "      <td>35</td>\n",
       "      <td>43</td>\n",
       "      <td>-4</td>\n",
       "      <td>44</td>\n",
       "    </tr>\n",
       "    <tr>\n",
       "      <th>5</th>\n",
       "      <td>4</td>\n",
       "      <td>-14</td>\n",
       "      <td>42</td>\n",
       "      <td>46</td>\n",
       "      <td>-9</td>\n",
       "    </tr>\n",
       "    <tr>\n",
       "      <th>6</th>\n",
       "      <td>14</td>\n",
       "      <td>0</td>\n",
       "      <td>48</td>\n",
       "      <td>-12</td>\n",
       "      <td>34</td>\n",
       "    </tr>\n",
       "    <tr>\n",
       "      <th>7</th>\n",
       "      <td>12</td>\n",
       "      <td>16</td>\n",
       "      <td>48</td>\n",
       "      <td>20</td>\n",
       "      <td>24</td>\n",
       "    </tr>\n",
       "    <tr>\n",
       "      <th>8</th>\n",
       "      <td>38</td>\n",
       "      <td>19</td>\n",
       "      <td>35</td>\n",
       "      <td>10</td>\n",
       "      <td>43</td>\n",
       "    </tr>\n",
       "    <tr>\n",
       "      <th>9</th>\n",
       "      <td>39</td>\n",
       "      <td>33</td>\n",
       "      <td>5</td>\n",
       "      <td>-20</td>\n",
       "      <td>-13</td>\n",
       "    </tr>\n",
       "  </tbody>\n",
       "</table>\n",
       "</div>"
      ],
      "text/plain": [
       "   X1  X2  X3  X4  X5\n",
       "0  24  13  24 -20 -15\n",
       "1  -8  12  -1  -5  31\n",
       "2  46  39  22  40 -14\n",
       "3 -16  11  30 -11  -4\n",
       "4   2  35  43  -4  44\n",
       "5   4 -14  42  46  -9\n",
       "6  14   0  48 -12  34\n",
       "7  12  16  48  20  24\n",
       "8  38  19  35  10  43\n",
       "9  39  33   5 -20 -13"
      ]
     },
     "execution_count": 26,
     "metadata": {},
     "output_type": "execute_result"
    }
   ],
   "source": [
    "matrix = np.random.randint(-20, 50, (10, 5))\n",
    "m_df = pd.DataFrame(matrix)\n",
    "m_df.columns = ['X1', 'X2', 'X3', 'X4', 'X5']\n",
    "m_df"
   ]
  },
  {
   "cell_type": "code",
   "execution_count": 27,
   "id": "61c23bb2",
   "metadata": {
    "hidden": true,
    "scrolled": true
   },
   "outputs": [
    {
     "data": {
      "text/html": [
       "<div>\n",
       "<style scoped>\n",
       "    .dataframe tbody tr th:only-of-type {\n",
       "        vertical-align: middle;\n",
       "    }\n",
       "\n",
       "    .dataframe tbody tr th {\n",
       "        vertical-align: top;\n",
       "    }\n",
       "\n",
       "    .dataframe thead th {\n",
       "        text-align: right;\n",
       "    }\n",
       "</style>\n",
       "<table border=\"1\" class=\"dataframe\">\n",
       "  <thead>\n",
       "    <tr style=\"text-align: right;\">\n",
       "      <th></th>\n",
       "      <th>X1</th>\n",
       "      <th>X2</th>\n",
       "      <th>X3</th>\n",
       "      <th>X4</th>\n",
       "      <th>X5</th>\n",
       "    </tr>\n",
       "  </thead>\n",
       "  <tbody>\n",
       "    <tr>\n",
       "      <th>X1</th>\n",
       "      <td>1.000000</td>\n",
       "      <td>0.539394</td>\n",
       "      <td>-0.182372</td>\n",
       "      <td>-0.030395</td>\n",
       "      <td>-0.406061</td>\n",
       "    </tr>\n",
       "    <tr>\n",
       "      <th>X2</th>\n",
       "      <td>0.539394</td>\n",
       "      <td>1.000000</td>\n",
       "      <td>-0.249241</td>\n",
       "      <td>0.072949</td>\n",
       "      <td>-0.018182</td>\n",
       "    </tr>\n",
       "    <tr>\n",
       "      <th>X3</th>\n",
       "      <td>-0.182372</td>\n",
       "      <td>-0.249241</td>\n",
       "      <td>1.000000</td>\n",
       "      <td>0.280488</td>\n",
       "      <td>0.492403</td>\n",
       "    </tr>\n",
       "    <tr>\n",
       "      <th>X4</th>\n",
       "      <td>-0.030395</td>\n",
       "      <td>0.072949</td>\n",
       "      <td>0.280488</td>\n",
       "      <td>1.000000</td>\n",
       "      <td>0.139818</td>\n",
       "    </tr>\n",
       "    <tr>\n",
       "      <th>X5</th>\n",
       "      <td>-0.406061</td>\n",
       "      <td>-0.018182</td>\n",
       "      <td>0.492403</td>\n",
       "      <td>0.139818</td>\n",
       "      <td>1.000000</td>\n",
       "    </tr>\n",
       "  </tbody>\n",
       "</table>\n",
       "</div>"
      ],
      "text/plain": [
       "          X1        X2        X3        X4        X5\n",
       "X1  1.000000  0.539394 -0.182372 -0.030395 -0.406061\n",
       "X2  0.539394  1.000000 -0.249241  0.072949 -0.018182\n",
       "X3 -0.182372 -0.249241  1.000000  0.280488  0.492403\n",
       "X4 -0.030395  0.072949  0.280488  1.000000  0.139818\n",
       "X5 -0.406061 -0.018182  0.492403  0.139818  1.000000"
      ]
     },
     "execution_count": 27,
     "metadata": {},
     "output_type": "execute_result"
    }
   ],
   "source": [
    "corr_matrix = m_df.rank().corr(); corr_matrix"
   ]
  },
  {
   "cell_type": "code",
   "execution_count": 28,
   "id": "614fb7c1",
   "metadata": {
    "hidden": true
   },
   "outputs": [
    {
     "data": {
      "text/plain": [
       "array([[ 1.        ,  0.53939394, -0.18237166, -0.03039528, -0.40606061],\n",
       "       [ 0.53939394,  1.        , -0.24924127,  0.07294867, -0.01818182],\n",
       "       [-0.18237166, -0.24924127,  1.        ,  0.2804878 ,  0.49240349],\n",
       "       [-0.03039528,  0.07294867,  0.2804878 ,  1.        ,  0.13981828],\n",
       "       [-0.40606061, -0.01818182,  0.49240349,  0.13981828,  1.        ]])"
      ]
     },
     "execution_count": 28,
     "metadata": {},
     "output_type": "execute_result"
    }
   ],
   "source": [
    "scipy.stats.spearmanr(matrix).correlation"
   ]
  },
  {
   "cell_type": "code",
   "execution_count": null,
   "id": "3cd9598d",
   "metadata": {
    "hidden": true
   },
   "outputs": [],
   "source": []
  },
  {
   "cell_type": "markdown",
   "id": "8cf85fa5",
   "metadata": {
    "heading_collapsed": true
   },
   "source": [
    "## Population Distribution"
   ]
  },
  {
   "cell_type": "code",
   "execution_count": 37,
   "id": "3bd378f2",
   "metadata": {
    "hidden": true,
    "scrolled": false
   },
   "outputs": [
    {
     "data": {
      "image/png": "[encoded data removed]",
      "text/plain": [
       "<Figure size 1152x576 with 2 Axes>"
      ]
     },
     "metadata": {
      "needs_background": "light"
     },
     "output_type": "display_data"
    }
   ],
   "source": [
    "fig, axes = plt.subplots(1,2, figsize = (16,8),tight_layout=True)\n",
    "plot_dist(klout.Scores, rel_freq=False, title='Population Distribution', ax=axes[0], bs=200)\n",
    "plot_dist(klout.Scores, title='Population Distribution', ax=axes[1])"
   ]
  },
  {
   "cell_type": "code",
   "execution_count": 38,
   "id": "6685870e",
   "metadata": {
    "hidden": true
   },
   "outputs": [
    {
     "data": {
      "text/plain": [
       "<AxesSubplot:xlabel='Scores', ylabel='Density'>"
      ]
     },
     "execution_count": 38,
     "metadata": {},
     "output_type": "execute_result"
    },
    {
     "data": {
      "image/png": "[encoded data removed]",
      "text/plain": [
       "<Figure size 432x288 with 1 Axes>"
      ]
     },
     "metadata": {
      "needs_background": "light"
     },
     "output_type": "display_data"
    }
   ],
   "source": [
    "sns.kdeplot(data=klout.Scores)"
   ]
  },
  {
   "cell_type": "code",
   "execution_count": 39,
   "id": "0d65cb46",
   "metadata": {
    "hidden": true
   },
   "outputs": [],
   "source": [
    "stat.loc['median'] = klout.Scores.median()"
   ]
  },
  {
   "cell_type": "code",
   "execution_count": 40,
   "id": "2ea532c3",
   "metadata": {
    "hidden": true
   },
   "outputs": [],
   "source": [
    "stat.loc['mode'] = klout.Scores.mode().values"
   ]
  },
  {
   "cell_type": "code",
   "execution_count": 41,
   "id": "f782029a",
   "metadata": {
    "hidden": true
   },
   "outputs": [
    {
     "data": {
      "text/html": [
       "<div>\n",
       "<style scoped>\n",
       "    .dataframe tbody tr th:only-of-type {\n",
       "        vertical-align: middle;\n",
       "    }\n",
       "\n",
       "    .dataframe tbody tr th {\n",
       "        vertical-align: top;\n",
       "    }\n",
       "\n",
       "    .dataframe thead th {\n",
       "        text-align: right;\n",
       "    }\n",
       "</style>\n",
       "<table border=\"1\" class=\"dataframe\">\n",
       "  <thead>\n",
       "    <tr style=\"text-align: right;\">\n",
       "      <th></th>\n",
       "      <th>count</th>\n",
       "      <th>mean</th>\n",
       "      <th>std</th>\n",
       "      <th>min</th>\n",
       "      <th>25%</th>\n",
       "      <th>50%</th>\n",
       "      <th>75%</th>\n",
       "      <th>max</th>\n",
       "      <th>median</th>\n",
       "      <th>mode</th>\n",
       "    </tr>\n",
       "  </thead>\n",
       "  <tbody>\n",
       "    <tr>\n",
       "      <th>Scores</th>\n",
       "      <td>1047.0</td>\n",
       "      <td>37.731103</td>\n",
       "      <td>16.047238</td>\n",
       "      <td>10.0</td>\n",
       "      <td>23.171047</td>\n",
       "      <td>41.099965</td>\n",
       "      <td>50.290129</td>\n",
       "      <td>87.247529</td>\n",
       "      <td>41.099965</td>\n",
       "      <td>10.0</td>\n",
       "    </tr>\n",
       "  </tbody>\n",
       "</table>\n",
       "</div>"
      ],
      "text/plain": [
       "         count       mean        std   min        25%        50%        75%  \\\n",
       "Scores  1047.0  37.731103  16.047238  10.0  23.171047  41.099965  50.290129   \n",
       "\n",
       "              max     median  mode  \n",
       "Scores  87.247529  41.099965  10.0  "
      ]
     },
     "execution_count": 41,
     "metadata": {},
     "output_type": "execute_result"
    }
   ],
   "source": [
    "stat.T"
   ]
  },
  {
   "cell_type": "markdown",
   "id": "bebef594",
   "metadata": {
    "hidden": true
   },
   "source": [
    "- **Statistics of the given data is shown above**\n",
    "- **Note: The given population distribution is bimodal**\n",
    "- <font color=red> something is wrong with **mode** calculation !</font>"
   ]
  },
  {
   "cell_type": "markdown",
   "id": "96fc3752",
   "metadata": {
    "heading_collapsed": true
   },
   "source": [
    "## Sampling Distribution to Normal Distribution"
   ]
  },
  {
   "cell_type": "code",
   "execution_count": 42,
   "id": "e834ebdf",
   "metadata": {
    "code_folding": [
     0
    ],
    "hidden": true
   },
   "outputs": [],
   "source": [
    "def means_sem(dts, smpl_sz=100, num_smpl=1000, bootstrap=True):\n",
    "    \"\"\"Computes the means of samples and standard error of the computed means.\n",
    "    Args:\n",
    "        dts(np.array): Dataset with just one feature (one dimentional).\n",
    "        smpl_sz(int): Number of points to be collected for each sample - (Sample Size).\n",
    "        num_smpl(int): Number of total sample, each with size of `smpl_size.`\n",
    "        bootstrap(bool): Indication of sampling with replacement or not.\n",
    "    \n",
    "    Return:\n",
    "    ------\n",
    "        means (np.array): The collection of mean.\n",
    "        sem (float): The standard deviation of the computed means.    \n",
    "    \"\"\"\n",
    "    means = []\n",
    "    n = smpl_sz\n",
    "    \n",
    "    if bootstrap:\n",
    "        for i in range(num_smpl):\n",
    "            smpl = np.random.choice(dts, size=smpl_sz)\n",
    "            means.append(smpl.mean())\n",
    "    else:\n",
    "        for i in range(0, dts.size, n): means.append(dts[i: i+n].mean())\n",
    "        \n",
    "    sem = dts.std()/n**0.5\n",
    "    return np.array(means), sem"
   ]
  },
  {
   "cell_type": "code",
   "execution_count": 43,
   "id": "34506547",
   "metadata": {
    "hidden": true
   },
   "outputs": [],
   "source": [
    "means, sem = means_sem(klout.Scores.values, smpl_sz=50, num_smpl=50)"
   ]
  },
  {
   "cell_type": "code",
   "execution_count": 44,
   "id": "a66591ac",
   "metadata": {
    "hidden": true
   },
   "outputs": [
    {
     "data": {
      "image/png": "[encoded data removed]",
      "text/plain": [
       "<Figure size 432x288 with 1 Axes>"
      ]
     },
     "metadata": {
      "needs_background": "light"
     },
     "output_type": "display_data"
    }
   ],
   "source": [
    "plot_dist(means, rel_freq=False, title='Sampling Distribution')"
   ]
  },
  {
   "cell_type": "code",
   "execution_count": 45,
   "id": "e63c9d87",
   "metadata": {
    "hidden": true
   },
   "outputs": [],
   "source": [
    "means, sem = means_sem(klout.Scores.values, smpl_sz=50, num_smpl=100)"
   ]
  },
  {
   "cell_type": "code",
   "execution_count": 46,
   "id": "a6c96abe",
   "metadata": {
    "hidden": true,
    "scrolled": true
   },
   "outputs": [
    {
     "data": {
      "image/png": "[encoded data removed]",
      "text/plain": [
       "<Figure size 432x288 with 1 Axes>"
      ]
     },
     "metadata": {
      "needs_background": "light"
     },
     "output_type": "display_data"
    }
   ],
   "source": [
    "plot_dist(means, rel_freq=False, title='Sampling Distribution')"
   ]
  },
  {
   "cell_type": "code",
   "execution_count": 47,
   "id": "d136c956",
   "metadata": {
    "hidden": true
   },
   "outputs": [],
   "source": [
    "means, sem = means_sem(klout.Scores.values, smpl_sz=50, num_smpl=200)"
   ]
  },
  {
   "cell_type": "code",
   "execution_count": 48,
   "id": "fe1ec98b",
   "metadata": {
    "hidden": true
   },
   "outputs": [
    {
     "data": {
      "image/png": "[encoded data removed]",
      "text/plain": [
       "<Figure size 432x288 with 1 Axes>"
      ]
     },
     "metadata": {
      "needs_background": "light"
     },
     "output_type": "display_data"
    }
   ],
   "source": [
    "plot_dist(means, rel_freq=False, title='Sampling Distribution')"
   ]
  },
  {
   "cell_type": "markdown",
   "id": "c0f19b6d",
   "metadata": {
    "hidden": true
   },
   "source": [
    "- *Notes*: **Standard Eror of the Mean** (`sem`) is **standard deviation** of means."
   ]
  },
  {
   "cell_type": "code",
   "execution_count": 49,
   "id": "edbc828c",
   "metadata": {
    "hidden": true
   },
   "outputs": [],
   "source": [
    "means, sem = means_sem(klout.Scores.values, num_smpl=100_000)"
   ]
  },
  {
   "cell_type": "code",
   "execution_count": 50,
   "id": "f19275b0",
   "metadata": {
    "hidden": true,
    "scrolled": false
   },
   "outputs": [
    {
     "data": {
      "image/png": "[encoded data removed]",
      "text/plain": [
       "<Figure size 432x288 with 1 Axes>"
      ]
     },
     "metadata": {
      "needs_background": "light"
     },
     "output_type": "display_data"
    }
   ],
   "source": [
    "plot_dist(means, rel_freq=False, title='Normal Distribution')"
   ]
  },
  {
   "cell_type": "markdown",
   "id": "180c8b00",
   "metadata": {
    "heading_collapsed": true
   },
   "source": [
    "## Normal Distribution"
   ]
  },
  {
   "cell_type": "markdown",
   "id": "2880821b",
   "metadata": {
    "hidden": true
   },
   "source": [
    "- Also known as **Gaussian Distribution**\n",
    "- A function of **mean**, $\\mu$ and **std**, $\\sigma$\n",
    "    - $\\large {N(\\mu, \\sigma) = \\frac{1}{\\sigma \\sqrt{2\\pi}} \\cdot e^{-\\frac{(x-\\mu)^2}{2\\sigma^2}}}$"
   ]
  },
  {
   "cell_type": "code",
   "execution_count": 51,
   "id": "e734029c",
   "metadata": {
    "code_folding": [],
    "hidden": true
   },
   "outputs": [],
   "source": [
    "def gaussian(x: float, mu: float, sigma: float) -> float:\n",
    "    constand = (1.0/(sigma*((2*np.pi)**0.5)))\n",
    "    expomential = np.e**-(((x-mu)**2)/(2*sigma**2))\n",
    "    return constand*expomential"
   ]
  },
  {
   "cell_type": "code",
   "execution_count": 52,
   "id": "c348f782",
   "metadata": {
    "code_folding": [],
    "hidden": true
   },
   "outputs": [],
   "source": [
    "def printGaussian(mu=0, sigma=1) -> None:\n",
    "    \"\"\"Plot the gaussian function (Normal Distributaion) of given mu and sigma.\"\"\"\n",
    "    xVals, yVals = [], []\n",
    "    y1, y2 = [], []\n",
    "    x = -4\n",
    "    while x <= 4:\n",
    "        xVals.append(x)\n",
    "        yVals.append(gaussian(x, mu, sigma))\n",
    "        y1.append(gaussian(x, 1, 1))\n",
    "        y2.append(gaussian(x, -1, 0.5))\n",
    "        x += 0.05\n",
    "    # plot x and y using star  markers with dashed linestyle\n",
    "    plt.plot(xVals, yVals, 'r',lw=4, label='N. Dist, mu = ' + str(mu) + ', sigma = ' + str(sigma)) \n",
    "    plt.plot(xVals, y1, 'g--', label='N. Dist, mu = 1, sigma = 1')\n",
    "    plt.plot(xVals, y2, 'b--', label='N. Dist, mu = -1, sigma = 0.5')\n",
    "    plt.title('Normal Distribution', c='r', fontsize=25)\n",
    "    plt.xlabel('X', c='r', size='xx-large')\n",
    "    plt.ylabel('Density', c='r', fontsize=20)\n",
    "    # plt.axvline(0, ymax='0.6', c='navy')\n",
    "    plt.legend()\n",
    "    plt.show()"
   ]
  },
  {
   "cell_type": "code",
   "execution_count": 53,
   "id": "54e9d50d",
   "metadata": {
    "code_folding": [
     0
    ],
    "hidden": true
   },
   "outputs": [
    {
     "data": {
      "image/png": "[encoded data removed]",
      "text/plain": [
       "<Figure size 432x288 with 1 Axes>"
      ]
     },
     "metadata": {
      "needs_background": "light"
     },
     "output_type": "display_data"
    }
   ],
   "source": [
    "printGaussian()"
   ]
  },
  {
   "cell_type": "markdown",
   "id": "b3e2fcd3",
   "metadata": {
    "heading_collapsed": true
   },
   "source": [
    "## Standard Normal Distribution"
   ]
  },
  {
   "cell_type": "code",
   "execution_count": 60,
   "id": "33566e81",
   "metadata": {
    "hidden": true
   },
   "outputs": [],
   "source": [
    "mean_of_means = means.mean()\n",
    "population_std = klout.Scores.std()"
   ]
  },
  {
   "cell_type": "code",
   "execution_count": 61,
   "id": "c5a6a719",
   "metadata": {
    "hidden": true
   },
   "outputs": [],
   "source": [
    "standarized_means = (means-mean_of_means)/population_std"
   ]
  },
  {
   "cell_type": "code",
   "execution_count": 67,
   "id": "12c113b1",
   "metadata": {
    "hidden": true
   },
   "outputs": [
    {
     "data": {
      "image/png": "[encoded data removed]",
      "text/plain": [
       "<Figure size 432x288 with 1 Axes>"
      ]
     },
     "metadata": {
      "needs_background": "light"
     },
     "output_type": "display_data"
    }
   ],
   "source": [
    "plot_dist(standarized_means, title='Standard Normal Distribution of klout scores')"
   ]
  },
  {
   "cell_type": "code",
   "execution_count": 62,
   "id": "c9c0d5d1",
   "metadata": {
    "hidden": true
   },
   "outputs": [],
   "source": [
    "zscore_means = stats.zscore(means)"
   ]
  },
  {
   "cell_type": "code",
   "execution_count": 68,
   "id": "33c4f19a",
   "metadata": {
    "hidden": true
   },
   "outputs": [
    {
     "data": {
      "image/png": "[encoded data removed]",
      "text/plain": [
       "<Figure size 432x288 with 1 Axes>"
      ]
     },
     "metadata": {
      "needs_background": "light"
     },
     "output_type": "display_data"
    }
   ],
   "source": [
    "plot_dist(zscore_means, title='Standard Normal Distribution of klout scores')"
   ]
  },
  {
   "cell_type": "code",
   "execution_count": null,
   "id": "42aed118",
   "metadata": {
    "hidden": true
   },
   "outputs": [],
   "source": []
  },
  {
   "cell_type": "code",
   "execution_count": null,
   "id": "3dd86f02",
   "metadata": {
    "hidden": true
   },
   "outputs": [],
   "source": []
  }
 ],
 "metadata": {
  "kernelspec": {
   "display_name": "Python 3",
   "language": "python",
   "name": "python3"
  },
  "language_info": {
   "codemirror_mode": {
    "name": "ipython",
    "version": 3
   },
   "file_extension": ".py",
   "mimetype": "text/x-python",
   "name": "python",
   "nbconvert_exporter": "python",
   "pygments_lexer": "ipython3",
   "version": "3.8.2"
  },
  "toc": {
   "base_numbering": 1,
   "nav_menu": {},
   "number_sections": false,
   "sideBar": true,
   "skip_h1_title": true,
   "title_cell": "Table of Contents",
   "title_sidebar": "Contents",
   "toc_cell": true,
   "toc_position": {},
   "toc_section_display": true,
   "toc_window_display": false
  }
 },
 "nbformat": 4,
 "nbformat_minor": 5
}
