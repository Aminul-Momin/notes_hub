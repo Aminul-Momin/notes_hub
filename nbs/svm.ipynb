{
 "cells": [
  {
   "cell_type": "markdown",
   "id": "499e5adc",
   "metadata": {
    "toc": true
   },
   "source": [
    "<h1>Table of Contents<span class=\"tocSkip\"></span></h1>\n",
    "<div class=\"toc\"><ul class=\"toc-item\"><li><span><a href=\"#Mathematical-Equations:\" data-toc-modified-id=\"Mathematical-Equations:-1\">Mathematical Equations:</a></span></li><li><span><a href=\"#API-(sklearn.svm):\" data-toc-modified-id=\"API-(sklearn.svm):-2\">API (sklearn.svm):</a></span></li><li><span><a href=\"#Dataset:\" data-toc-modified-id=\"Dataset:-3\">Dataset:</a></span></li><li><span><a href=\"#Model:\" data-toc-modified-id=\"Model:-4\">Model:</a></span></li><li><span><a href=\"#Evaluation:\" data-toc-modified-id=\"Evaluation:-5\">Evaluation:</a></span></li></ul></div>"
   ]
  },
  {
   "cell_type": "code",
   "execution_count": 2,
   "id": "b42cebbb",
   "metadata": {},
   "outputs": [],
   "source": [
    "import string\n",
    "import numpy as np\n",
    "import matplotlib.pyplot as plt\n",
    "\n",
    "from sklearn import datasets as ds\n",
    "\n",
    "from sklearn import svm\n",
    "from sklearn.svm import SVC, LinearSVC\n",
    "from sklearn.linear_model import SGDClassifier\n",
    "from sklearn.feature_extraction.text import CountVectorizer\n",
    "\n",
    "import warnings\n",
    "\n",
    "\n",
    "plt.style.use('seaborn')\n",
    "np.set_printoptions(precision=3)\n",
    "\n",
    "warnings.filterwarnings('ignore')\n",
    "%matplotlib inline\n"
   ]
  },
  {
   "cell_type": "markdown",
   "id": "56b31763",
   "metadata": {},
   "source": [
    "##### Mathematical Equations:"
   ]
  },
  {
   "cell_type": "markdown",
   "id": "088f76ac",
   "metadata": {},
   "source": [
    "**Equation 5-1: Gaussian RBF**\n",
    "\n",
    "$\n",
    "{\\displaystyle \\phi_{\\gamma}(\\mathbf{x}, \\boldsymbol{\\ell})} \n",
    "= {\\displaystyle \\exp({\\displaystyle -\\gamma \\left\\| \\mathbf{x} - \\boldsymbol{\\ell} \\right\\|^2})}\n",
    "= \\displaystyle e^{\\displaystyle -\\gamma \\left\\| \\mathbf{x} - \\boldsymbol{\\ell} \\right\\|^2}\n",
    "= \\displaystyle e^{\\displaystyle -\\frac{\\left\\| \\mathbf{x^{(i)}} - \\mathbf{x^{(j)}} \\right\\|^2}{s^2}}\n",
    "$\n",
    "\n",
    "$\n",
    "\\displaystyle \\phi(\\mathbf{x^{(i)}}, \\mathbf{x^{(j)}})\n",
    "= \\displaystyle e^{\\displaystyle -\\frac{\\left\\| \\mathbf{x^{(i)}} - \\mathbf{x^{(j)}} \\right\\|^2}{s^2}}\n",
    "$"
   ]
  },
  {
   "cell_type": "markdown",
   "id": "dc009837",
   "metadata": {},
   "source": [
    "**Equation 5-2: Linear SVM classifier prediction**\n",
    "\n",
    "$\n",
    "\\hat{y} = \\begin{cases}\n",
    " 0 & \\text{if } \\mathbf{w}^T \\mathbf{x} + b < 0, \\\\\n",
    " 1 & \\text{if } \\mathbf{w}^T \\mathbf{x} + b \\geq 0\n",
    "\\end{cases}\n",
    "$"
   ]
  },
  {
   "cell_type": "markdown",
   "id": "5ba4a6d8",
   "metadata": {},
   "source": [
    "**Loss Function of Hard Margin Perceptron**\n",
    "\n",
    "\n",
    "\\begin{split}\n",
    "\\displaystyle L(\\mathbf{w}, b)\n",
    "&= \\begin{cases}\n",
    "        - \\left\\{1 - y^{(i)}(\\mathbf{w}^T \\mathbf{x}^{(i)} + b) \\right\\} \\quad & \\text{if} \\quad y^{(i)}(\\mathbf{w}^T \\mathbf{x}^{(i)} + b) \\lt 0; \\quad y^{(i)} \\in \\{1,-1\\}\\\\\n",
    "        0 \\quad & \\text{if} \\quad y^{(i)}(\\mathbf{w}^T \\mathbf{x}^{(i)} + b) \\ge 0; \\quad y^{(i)} \\in \\{1,-1\\}\n",
    "    \\end{cases} \\\\\n",
    "&= max\\left\\{0, 1 - y^{(i)}(\\mathbf{w}^T \\mathbf{x}^{(i)} + b) \\right\\}; \\quad y^{(i)} \\in \\{1,-1\\}\n",
    "\\end{split}"
   ]
  },
  {
   "cell_type": "markdown",
   "id": "4cd9f2a5",
   "metadata": {},
   "source": [
    "**Equation 5-3 (Primal): Linear SVM classifier objective**\n",
    "\n",
    "\n",
    "\\begin{split}\n",
    "&\\underset{\\mathbf{w}, b}{\\operatorname{minimize}}\\quad \\frac{{\\left\\| \\mathbf{w} \\right\\|}^2}{2} + \\sum_{i=1}^m max\\left\\{0, 1 - y^{(i)}(\\mathbf{w}^T \\mathbf{x}^{(i)} + b) \\right\\} \\\\\n",
    "&\\text{subject to} \\quad y^{(i)}(\\mathbf{w}^T \\mathbf{x}^{(i)} + b) \\ge 1 \\quad \\text{for } i = 1, 2, \\dots, m\n",
    "\\end{split}"
   ]
  },
  {
   "cell_type": "markdown",
   "id": "c7ef5349",
   "metadata": {},
   "source": [
    "**Equation 5-3 (Primal Lagrangian): Hard margin linear SVM classifier objective**\n",
    "\n",
    "\n",
    "\\begin{split}\n",
    "&\\underset{\\mathbf{w}, b}{\\operatorname{minimize}} \\quad \\frac{{\\left\\| \\mathbf{w} \\right\\|}^2}{2} -  \\sum_{i=1}^{m} \\alpha_i\\left[y^{(i)}(\\mathbf{w}^T \\mathbf{x}^{(i)} + b) - 1 \\right] \\\\\n",
    "&\\text{subject to} \\quad \\alpha_i \\ge 0 \\quad \\text{for } i = 1, 2, \\dots, m\n",
    "\\end{split}"
   ]
  },
  {
   "cell_type": "markdown",
   "id": "e013728f",
   "metadata": {},
   "source": [
    "From Lagrangian Primal (Hard margin linear SVM classifier objective),\n",
    "\n",
    "\\begin{equation} \\label{eq:1}\n",
    "\\begin{split}\n",
    "&\\underset{\\mathbf{w}, b}{\\operatorname{minimize}} \\quad \\frac{{\\left\\| \\mathbf{w} \\right\\|}^2}{2} -  \\sum_{i=1}^{m} \\alpha_i\\left[y^{(i)}(\\mathbf{w}^T \\mathbf{x}^{(i)} + b) - 1 \\right] \\\\\n",
    "&\\text{subject to} \\quad \\alpha_i \\ge 0 \\quad \\text{for } i = 1, 2, \\dots, m\n",
    "\\end{split}\n",
    "\\end{equation}\n",
    "\n",
    "First take derivatives of function in equation -\\ref{eq:1},\n",
    "\n",
    "\n",
    "\\begin{equation} \\label{eq:2}\n",
    "\\nabla_{\\mathbf{w}}\\mathcal{L}(\\mathbf{w}, b) \n",
    "= \\mathbf{w} - \\sum\\limits_{i=1}^{m}\\alpha^{(i)}y^{(i)}\\mathbf{x}^{(i)} \\\\\n",
    "\\end{equation}\n",
    "\n",
    "\\begin{equation}\\label{eq:3}\n",
    "\\dfrac{\\partial}{\\partial b}\\mathcal{L}(\\mathbf{w}, b) = - \\sum\\limits_{i=1}^{m}\\alpha^{(i)}y^{(i)}\n",
    "\\end{equation}\n",
    "\n",
    "We get $\\mathbf{w}$ by setting equation \\ref{eq:2} to zero as follows,\n",
    "\\begin{split}\n",
    "    & \\mathbf{w} - \\sum\\limits_{i=1}^{m}\\alpha^{(i)} y^{(i)}\\mathbf{x}^{(i)} = 0 \\\\\n",
    "    & \\mathbf{w} = \\sum_{i=1}^{m} \\alpha^{(i)} y^{(i)}\\mathbf{x}^{(i)}\n",
    "\\end{split}\n",
    "\n",
    "\n",
    "We get the following constrain by setting equation \\ref{eq:3} to zero,\n",
    "$$\n",
    "- \\sum\\limits_{i=1}^{m}\\alpha^{(i)}y^{(i)} = 0 \\\\\n",
    "\\sum\\limits_{i=1}^{m}\\alpha^{(i)}y^{(i)} = 0\n",
    "$$\n",
    "\n",
    "Now, from equation $\\ref{eq:1}$,\n",
    "\n",
    "\\begin{split}\n",
    "& \\frac{{\\left\\| \\mathbf{w} \\right\\|}^2}{2} -  \\sum_{i=1}^{m} \\alpha_i\\left[y^{(i)}(\\mathbf{w}^T \\mathbf{x}^{(i)} + b) - 1 \\right] \\\\\n",
    "&= \\frac{{\\left\\| \\mathbf{w} \\right\\|}^2}{2} - \\sum_{i=1}^{m} \\alpha_i y^{(i)} \\mathbf{x}^{(i)} \\mathbf{w}^T - \\sum_{i=1}^{m} \\alpha_i y^{(i)} b +  \\sum_{i=1}^{m} \\alpha_i \\\\\n",
    "&= \\frac{{\\left\\| \\mathbf{w} \\right\\|}^2}{2} - \\sum_{i=1}^{m} \\alpha_i y^{(i)} \\mathbf{x}^{(i)} \\cdot \\sum_{i=1}^{m}{\\hat{\\alpha}}^{(i)}y^{(i)}\\mathbf{x}^{(i)} - 0 \\cdot b +  \\sum_{i=1}^{m} \\alpha_i \\\\\n",
    "&= \\frac{{\\left\\| \\mathbf{w} \\right\\|}^2}{2} - {\\left\\| \\mathbf{w} \\right\\|}^2 +  \\sum_{i=1}^{m} \\alpha_i\n",
    "\\end{split}\n",
    "\n",
    "Hence, in Dual form, the optimization objective takes following form.\n",
    "\n",
    "$$\n",
    "\\begin{split}\n",
    "&\\underset{\\mathbf{\\alpha}}{\\operatorname{minimize}} \\quad\n",
    "\\sum\\limits_{i=1}^{m}{\\alpha^{(i)}} -\n",
    "\\dfrac{1}{2}\\sum\\limits_{i=1}^{m}{\n",
    "  \\sum\\limits_{j=1}^{m}{\n",
    "      \\alpha^{(i)} \\alpha^{(j)} y^{(i)} y^{(j)} {\\mathbf{x}^{(i)}}^T \\mathbf{x}^{(j)}\n",
    "  }\n",
    "} \\\\\n",
    "&\\text{subject to}\\quad \\sum_{i=1}^m \\alpha^{(i)} y^{(i)} = 0 , \\quad \\alpha^{(i)} \\ge 0 \\quad \\text{for }i = 1, 2, \\dots, m\n",
    "\\end{split}\n",
    "$$"
   ]
  },
  {
   "cell_type": "markdown",
   "id": "b8db5280",
   "metadata": {},
   "source": [
    "\n",
    "**(Dual): Hard margin linear SVM classifier objective**\n",
    "\n",
    "$$\n",
    "\\begin{split}\n",
    "&\\underset{\\mathbf{\\alpha}}{\\operatorname{minimize}} \\quad\n",
    "\\sum\\limits_{i=1}^{m}{\\alpha^{(i)}} -\n",
    "\\dfrac{1}{2}\\sum\\limits_{i=1}^{m}{\n",
    "  \\sum\\limits_{j=1}^{m}{\n",
    "      \\alpha^{(i)} \\alpha^{(j)} y^{(i)} y^{(j)} {\\mathbf{x}^{(i)}}^T \\mathbf{x}^{(j)}\n",
    "  }\n",
    "} \\\\\n",
    "&\\text{subject to}\\quad \\sum_{i=1}^m \\alpha^{(i)} y^{(i)} = 0 , \\quad \\alpha^{(i)} \\ge 0 \\quad \\text{for }i = 1, 2, \\dots, m\n",
    "\\end{split}\n",
    "$$"
   ]
  },
  {
   "cell_type": "markdown",
   "id": "6102d1a5",
   "metadata": {},
   "source": [
    "**Equation 5-7: From the dual solution to the primal solution**\n",
    "\n",
    "\\begin{split}\n",
    "&\\hat{\\mathbf{w}} = \\sum_{i=1}^{m}{\\hat{\\alpha}}^{(i)}y^{(i)}\\mathbf{x}^{(i)}\\\\\n",
    "&\\hat{b} = \\dfrac{1}{n_s}\\sum\\limits_{\\scriptstyle i=1 \\atop {\\scriptstyle {\\hat{\\alpha}}^{(i)} > 0}}^{m}{\\left(y^{(i)} - ({\\hat{\\mathbf{w}}}^T \\mathbf{x}^{(i)})\\right)}\n",
    "\\end{split}"
   ]
  },
  {
   "cell_type": "markdown",
   "id": "2c40e3f9",
   "metadata": {},
   "source": [
    "**Primal: Soft margin linear SVM classifier objective**\n",
    "\n",
    "$$\n",
    "\\begin{split}\n",
    "&\\underset{\\mathbf{w}, b, \\mathbf{\\zeta}}{\\operatorname{minimize}} \\quad {\\frac{{\\left\\| \\mathbf{w} \\right\\|}^2}{2} + C \\sum\\limits_{i=1}^m{\\zeta^{(i)}}}\\\\\n",
    "&\\text{subject to} \\quad y^{(i)}(\\mathbf{w}^T \\mathbf{x}^{(i)} + b) \\ge 1 - \\zeta^{(i)} \\quad \\text{and} \\quad \\zeta^{(i)} \\ge 0 \\quad \\text{for } i = 1, 2, \\dots, m\n",
    "\\end{split}\n",
    "$$\n",
    "\n",
    "\n",
    "\n",
    "**Dual: Soft margin linear SVM classifier objective**\n",
    "\n",
    "$$\n",
    "\\begin{split}\n",
    "&\\underset{\\mathbf{\\alpha}}{\\operatorname{minimize}} \\quad\n",
    "\\dfrac{1}{2}\\sum\\limits_{i=1}^{m}{\n",
    "  \\sum\\limits_{j=1}^{m}{\n",
    "      \\alpha^{(i)} \\alpha^{(j)} y^{(i)} y^{(j)} {\\mathbf{x}^{(i)}}^T \\mathbf{x}^{(j)}\n",
    "  }\n",
    "} - \\sum\\limits_{i=1}^{m}{\\alpha^{(i)}} \\\\\n",
    "&\\text{subject to}\\quad \\sum_{i=1}^m \\alpha^{(i)} y^{(i)} = 0 ; \\quad 0 \\le \\alpha^{(i)} \\le C \\quad \\text{for }i = 1, 2, \\dots, m\n",
    "\\end{split}\n",
    "$$"
   ]
  },
  {
   "cell_type": "markdown",
   "id": "8f646ed1",
   "metadata": {},
   "source": [
    "**Equation 5-8: Second-degree polynomial mapping**\n",
    "\n",
    "$$\n",
    "\\phi\\left(\\mathbf{x}\\right) = \\phi\\left( \\begin{pmatrix}\n",
    "  x_1 \\\\\n",
    "  x_2\n",
    "\\end{pmatrix} \\right) = \\begin{pmatrix}\n",
    "  {x_1}^2 \\\\\n",
    "  \\sqrt{2} \\, x_1 x_2 \\\\\n",
    "  {x_2}^2\n",
    "\\end{pmatrix}\n",
    "$$"
   ]
  },
  {
   "cell_type": "markdown",
   "id": "fe20f1d8",
   "metadata": {},
   "source": [
    "**Equation 5-9: Kernel trick for a $2^{nd}$-degree polynomial mapping**\n",
    "\n",
    "\n",
    "\\begin{split}\n",
    "\\phi(\\mathbf{a})^T \\phi(\\mathbf{b}) & \\quad = \n",
    "    \\begin{pmatrix}\n",
    "      {a_1}^2 \\\\\n",
    "      \\sqrt{2} \\, a_1 a_2 \\\\\n",
    "      {a_2}^2\n",
    "    \\end{pmatrix}^T \n",
    "    \\begin{pmatrix}\n",
    "      {b_1}^2 \\\\\n",
    "      \\sqrt{2} \\, b_1 b_2 \\\\\n",
    "      {b_2}^2\n",
    "    \\end{pmatrix} = \n",
    "    {a_1}^2 {b_1}^2 + 2 a_1 b_1 a_2 b_2 + {a_2}^2 {b_2}^2 \\\\\n",
    "     & \\quad = \\left( a_1 b_1 + a_2 b_2 \\right)^2 = \\left( \n",
    "    \\begin{pmatrix}\n",
    "      a_1 \\\\\n",
    "      a_2\n",
    "    \\end{pmatrix}^T \n",
    "    \\begin{pmatrix}\n",
    "        b_1 \\\\\n",
    "        b_2\n",
    "    \\end{pmatrix} \\right)^2 = \n",
    "    (\\mathbf{a}^T \\mathbf{b})^2\n",
    "\\end{split}\n",
    "\n",
    "\n",
    "**In the text about the kernel trick (page 162):**\n",
    "[...], then you can replace this dot product of transformed vectors simply by $ ({\\mathbf{x}^{(i)}}^T  \\mathbf{x}^{(j)})^2 $"
   ]
  },
  {
   "cell_type": "markdown",
   "id": "877aec26",
   "metadata": {},
   "source": [
    "**Equation 5-10: Common kernels**\n",
    "\n",
    "\\begin{split}\n",
    "\\text{Linear:}       & \\quad K(\\mathbf{a}, \\mathbf{b}) = \\mathbf{a}^T \\mathbf{b} \\\\\n",
    "\\text{Polynomial:}   & \\quad K(\\mathbf{a}, \\mathbf{b}) = \\left(\\gamma \\mathbf{a}^T \\mathbf{b} + r \\right)^d \\\\\n",
    "\\text{Gaussian RBF:} & \\quad K(\\mathbf{a}, \\mathbf{b}) = e^{{\\displaystyle -\\gamma \\left\\| \\mathbf{a} - \\mathbf{b} \\right\\|^2}} = e^{\\displaystyle - \\frac{\\left\\| \\mathbf{a} - \\mathbf{b} \\right\\|^2}{s}}\\\\\n",
    "\\text{Sigmoid:} & \\quad K(\\mathbf{a}, \\mathbf{b}) = \\tanh\\left(\\gamma \\mathbf{a}^T \\mathbf{b} + r\\right)\n",
    "\\end{split}"
   ]
  },
  {
   "cell_type": "markdown",
   "id": "9f6a7242",
   "metadata": {},
   "source": [
    "**Equation 5-11: Making predictions with a kernelized SVM**\n",
    "\n",
    "\n",
    "\\begin{split}\n",
    "h_{\\hat{\\mathbf{w}}, \\hat{b}} \\left(\\phi(\\mathbf{x}^{(n)})\\right) \n",
    "& = \\,\\hat{\\mathbf{w}}^T \\phi(\\mathbf{x}^{(n)}) + \\hat{b} \n",
    "  = \\left(\\sum_{i=1}^{m}{\\hat{\\alpha}}^{(i)}y^{(i)}\\phi(\\mathbf{x}^{(i)})\\right)^T \\phi(\\mathbf{x}^{(n)}) + \\hat{b}\\\\\n",
    "& = \\, \\sum_{i=1}^{m}{\\hat{\\alpha}}^{(i)}y^{(i)}\\left(\\phi(\\mathbf{x}^{(i)})^T \\phi(\\mathbf{x}^{(n)})\\right)  + \\hat{b}\\\\\n",
    " & = \\sum\\limits_{\\scriptstyle i=1 \\atop {\\scriptstyle {\\hat{\\alpha}}^{(i)} > 0}}^{m}{\\hat{\\alpha}}^{(i)}y^{(i)} K(\\mathbf{x}^{(i)}, \\mathbf{x}^{(n)}) + \\hat{b}\n",
    "\\end{split}"
   ]
  },
  {
   "cell_type": "markdown",
   "id": "94efcfe2",
   "metadata": {},
   "source": [
    "**Equation 5-12: Computing the bias term using the kernel trick**\n",
    "\\begin{split}\n",
    "\\hat{b} & = \\dfrac{1}{n_s}\\sum\\limits_{\\scriptstyle i=1 \\atop {\\scriptstyle {\\hat{\\alpha}}^{(i)} > 0}}^{m}{\\left(y^{(i)} - {\\hat{\\mathbf{w}}}^T \\phi(\\mathbf{x}^{(i)})\\right)} = \\dfrac{1}{n_s}\\sum\\limits_{\\scriptstyle i=1 \\atop {\\scriptstyle {\\hat{\\alpha}}^{(i)} > 0}}^{m}{\\left(y^{(i)} - {\n",
    " \\left(\\sum_{j=1}^{m}{\\hat{\\alpha}}^{(j)}y^{(j)}\\phi(\\mathbf{x}^{(j)})\\right)\n",
    " }^T \\phi(\\mathbf{x}^{(i)})\\right)}\\\\\n",
    " & = \\dfrac{1}{n_s}\\sum\\limits_{\\scriptstyle i=1 \\atop {\\scriptstyle {\\hat{\\alpha}}^{(i)} > 0}}^{m}{\\left(y^{(i)} -\n",
    "\\sum\\limits_{\\scriptstyle j=1 \\atop {\\scriptstyle {\\hat{\\alpha}}^{(j)} > 0}}^{m}{\n",
    "  {\\hat{\\alpha}}^{(j)} y^{(j)} K(\\mathbf{x}^{(i)},\\mathbf{x}^{(j)})\n",
    "}\n",
    "\\right)}\n",
    "\\end{split}"
   ]
  },
  {
   "cell_type": "code",
   "execution_count": null,
   "id": "cda62b37",
   "metadata": {},
   "outputs": [],
   "source": []
  },
  {
   "cell_type": "markdown",
   "id": "461cd0f0",
   "metadata": {
    "heading_collapsed": true
   },
   "source": [
    "##### API (sklearn.svm):"
   ]
  },
  {
   "cell_type": "markdown",
   "id": "c285798f",
   "metadata": {
    "hidden": true
   },
   "source": [
    "- Multiclass Implementation:\n",
    "    - svm.LinearSVC():\n",
    "        - One-Versus-Rest (`multi_class='ovr'`)\n",
    "        - multi-class SVM formulated by Crammer and Singer (`multi_class='crammer_singer'`)\n",
    "    - svm.SVC()"
   ]
  },
  {
   "cell_type": "markdown",
   "id": "7a973bf4",
   "metadata": {
    "hidden": true
   },
   "source": [
    "- [`sklearn.svm.SVC`](https://scikit-learn.org/stable/modules/generated/sklearn.svm.SVC.html#sklearn.svm.SVC)\n",
    "\n",
    "```python\n",
    "class sklearn.svm.SVC(*, C=1.0, kernel='rbf', degree=3, gamma='scale', coef0=0.0, shrinking=True, probability=False, tol=0.001, cache_size=200, class_weight=None, verbose=False, max_iter=- 1, decision_function_shape='ovr', break_ties=False, random_state=None)\n",
    "```\n",
    "\n",
    "- `C`: Regularization parameter. The strength of the regularization is inversely proportional to C. Must be strictly positive. The penalty is a squared l2 penalty.\n",
    "\n",
    "\n",
    "- `gamma` ({`‘scale’`, `‘auto’`}): Kernel coefficient for `‘rbf’`, `‘poly’` and `‘sigmoid’`.\n",
    "\n",
    "\n",
    "- `decision_function_shape` ({`'ovo'`, `'ovr'`}): Whether to return a one-vs-rest (`‘ovr’`) decision function of shape (n_samples, n_classes) as all other classifiers, or the original one-vs-one (`‘ovo’`) decision function of libsvm which has shape $\\left(\\text{n_sample}, \\frac{\\text{n_classes} \\cdot (\\text{n_classes} - 1)}{2}\\right)$. However, one-vs-one (`‘ovo’`) is always used as multi-class strategy. The parameter is ignored for binary classification.\n",
    "\n",
    "\n",
    "- `class_weight` ({dict, ‘balanced'}): Set the parameter C of class i to class_weight[i]*C for SVC. If not given, all classes are supposed to have weight one. The “balanced” mode uses the values of y to automatically adjust weights inversely proportional to class frequencies in the input data as n_samples / (n_classes * np.bincount(y)).\n",
    "\n",
    "\n",
    "- `degree=3`: Degree of the polynomial kernel function (`'poly'`). Ignored by all other kernels.\n",
    "\n",
    "\n",
    "- `kernel` ({`‘linear’`, `‘poly’`, `‘rbf’`, `‘sigmoid’`, `‘precomputed’`} or callable): Specifies the kernel type to be used in the algorithm. If none is given, ‘rbf’ will be used. If a callable is given it is used to pre-compute the kernel matrix from data matrices; that matrix should be an array of shape (`n_samples`, `n_samples`). The followings are the most common Kernel Functions available to be used.\n",
    "\n",
    "\\begin{split}\n",
    "\\text{Linear:}       & \\quad K(\\mathbf{a}, \\mathbf{b}) = \\mathbf{a}^T \\mathbf{b} \\\\\n",
    "\\text{Polynomial:}   & \\quad K(\\mathbf{a}, \\mathbf{b}) = \\left(\\gamma \\mathbf{a}^T \\mathbf{b} + r \\right)^d \\\\\n",
    "\\text{Gaussian RBF:} & \\quad K(\\mathbf{a}, \\mathbf{b}) = e^{{\\displaystyle -\\gamma \\left\\| \\mathbf{a} - \\mathbf{b} \\right\\|^2}} = e^{\\displaystyle - \\frac{\\left\\| \\mathbf{a} - \\mathbf{b} \\right\\|^2}{s}}\\\\\n",
    "\\text{Sigmoid:} & \\quad K(\\mathbf{a}, \\mathbf{b}) = \\tanh\\left(\\gamma \\mathbf{a}^T \\mathbf{b} + r\\right)\n",
    "\\end{split}\n"
   ]
  },
  {
   "cell_type": "markdown",
   "id": "f4fa917d",
   "metadata": {
    "hidden": true
   },
   "source": [
    "|Attributes|Methods|\n",
    "|----------|-------|\n",
    "|class_weight_ | decision_function(X)|parameter.| fit(X, y[, sample_weight])|\n",
    "|classes_ | get_params([deep])|\n",
    "|coef_ | predict(X)|\n",
    "|dual_coef_ | predict_log_proba(X)|\n",
    "|fit_status_ | predict_proba(X)|\n",
    "|intercept_ | score(X, y[, sample_weight])|\n",
    "|n_features_in_ | set_params(**params)|\n",
    "|feature_names_in_ ||\n",
    "|support_ ||\n",
    "|support_vectors_ || \n",
    "|n_support_ || \n",
    "|probA_ || \n",
    "|probB_ || \n",
    "|shape_fit_ || "
   ]
  },
  {
   "cell_type": "markdown",
   "id": "2ceef264",
   "metadata": {
    "hidden": true
   },
   "source": [
    "- [`sklearn.svm.LinearSVC`](https://scikit-learn.org/stable/modules/generated/sklearn.svm.LinearSVC.html#sklearn.svm.LinearSVC)\n",
    "\n",
    "```python\n",
    "class sklearn.svm.LinearSVC(penalty='l2', loss='squared_hinge', *, dual=True, tol=0.0001, C=1.0, multi_class='ovr', fit_intercept=True, intercept_scaling=1, class_weight=None, verbose=0, random_state=None, max_iter=1000)\n",
    "```\n",
    "\n",
    "- `multi_class` ({`‘ovr’`, `‘crammer_singer’`}, `default=’ovr’`): Determines the multi-class strategy if y contains more than two classes. `'ovr'` trains n_classes `one-vs-rest` classifiers, while `'crammer_singer'` optimizes a joint objective over all classes. While crammer_singer is interesting from a theoretical perspective as it is consistent, it is seldom used in practice as it rarely leads to better accuracy and is more expensive to compute. If `'crammer_singer'` is chosen, the options `loss`, `penalty` and `dual` will be ignored.\n",
    "\n",
    "- Unlike the dual form, this one does not involve inner products between samples, so the famous kernel trick cannot be applied. This is the form that is directly optimized by LinearSVC.\n",
    "\n",
    "\\begin{split}\n",
    "&\\underset{\\mathbf{w}, b}{\\operatorname{minimize}}\\quad \\frac{{\\left\\| \\mathbf{w} \\right\\|}^2}{2} + C \\sum_{i=1}^m max\\left\\{0, 1 - y^{(i)}(\\mathbf{w}^T \\mathbf{x}^{(i)} + b) \\right\\} \\\\\n",
    "&\\text{subject to} \\quad y^{(i)}(\\mathbf{w}^T \\mathbf{x}^{(i)} + b) \\ge 1 \\quad \\text{for } i = 1, 2, \\dots, m\n",
    "\\end{split}"
   ]
  },
  {
   "cell_type": "markdown",
   "id": "52198852",
   "metadata": {
    "hidden": true
   },
   "source": [
    "- [`sklearn.linear_model.SGDClassifier`](https://scikit-learn.org/stable/modules/generated/sklearn.linear_model.SGDClassifier.html#sklearn.linear_model.SGDClassifier)\n",
    "\n",
    "```python\n",
    "class sklearn.linear_model.SGDClassifier(loss='hinge', *, penalty='l2', alpha=0.0001, l1_ratio=0.15, fit_intercept=True, max_iter=1000, tol=0.001, shuffle=True, verbose=0, epsilon=0.1, n_jobs=None, random_state=None, learning_rate='optimal', eta0=0.0, power_t=0.5, early_stopping=False, validation_fraction=0.1, n_iter_no_change=5, class_weight=None, warm_start=False, average=False)\n",
    "```\n",
    "\n",
    "\n",
    "- `alpha=0.0001`: Constant that multiplies the regularization term. The higher the value, the stronger the regularization. Also used to compute the learning rate when set to `learning_rate` is set to `‘optimal’`.\n",
    "\n",
    "- `epsilon=0.1`: Epsilon in the epsilon-insensitive loss functions; only if loss is `‘huber’`, `‘epsilon_insensitive’`, or `‘squared_epsilon_insensitive’`."
   ]
  },
  {
   "cell_type": "markdown",
   "id": "d43725e5",
   "metadata": {
    "heading_collapsed": true
   },
   "source": [
    "##### Dataset:"
   ]
  },
  {
   "cell_type": "markdown",
   "id": "c90eb68b",
   "metadata": {
    "hidden": true
   },
   "source": [
    "- **Number of Instances**: 1797\n",
    "- **Number of Attributes**: 64\n",
    "- **Attribute Information**: 8x8 image of integer pixels in the range 0..16.\n",
    "- **Missing Attribute Values**: None"
   ]
  },
  {
   "cell_type": "code",
   "execution_count": 103,
   "id": "6269d61c",
   "metadata": {
    "hidden": true
   },
   "outputs": [],
   "source": [
    "digits = ds.load_digits()"
   ]
  },
  {
   "cell_type": "code",
   "execution_count": 104,
   "id": "f5f4720c",
   "metadata": {
    "hidden": true,
    "scrolled": true
   },
   "outputs": [],
   "source": [
    "# print(digits.DESCR)"
   ]
  },
  {
   "cell_type": "code",
   "execution_count": 105,
   "id": "b181504f",
   "metadata": {
    "hidden": true
   },
   "outputs": [
    {
     "data": {
      "image/png": "[encoded data removed]",
      "text/plain": [
       "<Figure size 720x216 with 4 Axes>"
      ]
     },
     "metadata": {},
     "output_type": "display_data"
    }
   ],
   "source": [
    "_, axes = plt.subplots(nrows=1, ncols=4, figsize=(10, 3))\n",
    "\n",
    "for ax, image, label in zip(axes, digits.images, digits.target):\n",
    "    ax.set_axis_off()\n",
    "    ax.imshow(image, cmap=plt.cm.gray_r, interpolation='nearest')\n",
    "    ax.set_title('Training: %i' %label)"
   ]
  },
  {
   "cell_type": "code",
   "execution_count": 106,
   "id": "f4abf954",
   "metadata": {
    "hidden": true
   },
   "outputs": [
    {
     "data": {
      "text/plain": [
       "(1797, 64)"
      ]
     },
     "execution_count": 106,
     "metadata": {},
     "output_type": "execute_result"
    }
   ],
   "source": [
    "# flatten the images\n",
    "n_samples = len(digits.images)\n",
    "data = digits.images.reshape((n_samples, -1))\n",
    "data.shape"
   ]
  },
  {
   "cell_type": "code",
   "execution_count": null,
   "id": "defdf8a1",
   "metadata": {
    "hidden": true
   },
   "outputs": [],
   "source": []
  },
  {
   "cell_type": "markdown",
   "id": "716b0e0b",
   "metadata": {
    "heading_collapsed": true
   },
   "source": [
    "##### Model:"
   ]
  },
  {
   "cell_type": "code",
   "execution_count": 154,
   "id": "064afc42",
   "metadata": {
    "hidden": true
   },
   "outputs": [],
   "source": [
    "# Split data into 50% train and 50% test subsets\n",
    "X_train, X_test, y_train, y_test = train_test_split(data, digits.target, test_size=0.5, shuffle=False)\n",
    "\n",
    "# Create a classifier: a support vector classifier\n",
    "clf = svm.SVC(gamma=0.001)\n",
    "\n",
    "# Learn the digits on the train subset\n",
    "clf.fit(X_train, y_train)\n",
    "\n",
    "# Predict the value of the digit on the test subset\n",
    "predicted = clf.predict(X_test)"
   ]
  },
  {
   "cell_type": "code",
   "execution_count": 155,
   "id": "9aa30d9d",
   "metadata": {
    "hidden": true
   },
   "outputs": [
    {
     "data": {
      "text/plain": [
       "array([8, 8, 4, 9, 0])"
      ]
     },
     "execution_count": 155,
     "metadata": {},
     "output_type": "execute_result"
    }
   ],
   "source": [
    "predicted[0:5]"
   ]
  },
  {
   "cell_type": "code",
   "execution_count": 156,
   "id": "cb690983",
   "metadata": {
    "hidden": true
   },
   "outputs": [
    {
     "data": {
      "image/png": "[encoded data removed]",
      "text/plain": [
       "<Figure size 720x216 with 4 Axes>"
      ]
     },
     "metadata": {},
     "output_type": "display_data"
    }
   ],
   "source": [
    "_, axes = plt.subplots(nrows=1, ncols=4, figsize=(10, 3))\n",
    "for ax, image, prediction in zip(axes, X_test, predicted):\n",
    "    ax.set_axis_off()\n",
    "    image = image.reshape(8, 8)\n",
    "    ax.imshow(image, cmap=plt.cm.gray_r, interpolation='nearest')\n",
    "    ax.set_title(f'Prediction: {prediction}')"
   ]
  },
  {
   "cell_type": "markdown",
   "id": "c5e16a43",
   "metadata": {
    "heading_collapsed": true
   },
   "source": [
    "##### Evaluation:"
   ]
  },
  {
   "cell_type": "code",
   "execution_count": null,
   "id": "9fc9b1f0",
   "metadata": {
    "hidden": true
   },
   "outputs": [],
   "source": []
  },
  {
   "cell_type": "code",
   "execution_count": 232,
   "id": "8f0c31c4",
   "metadata": {
    "hidden": true
   },
   "outputs": [],
   "source": [
    "# print(classification_report(y_test, predicted))"
   ]
  },
  {
   "cell_type": "code",
   "execution_count": 158,
   "id": "133ba5a2",
   "metadata": {
    "hidden": true
   },
   "outputs": [
    {
     "data": {
      "text/html": [
       "<div>\n",
       "<style scoped>\n",
       "    .dataframe tbody tr th:only-of-type {\n",
       "        vertical-align: middle;\n",
       "    }\n",
       "\n",
       "    .dataframe tbody tr th {\n",
       "        vertical-align: top;\n",
       "    }\n",
       "\n",
       "    .dataframe thead th {\n",
       "        text-align: right;\n",
       "    }\n",
       "</style>\n",
       "<table border=\"1\" class=\"dataframe\">\n",
       "  <thead>\n",
       "    <tr style=\"text-align: right;\">\n",
       "      <th></th>\n",
       "      <th>precision</th>\n",
       "      <th>recall</th>\n",
       "      <th>f1-score</th>\n",
       "      <th>support</th>\n",
       "    </tr>\n",
       "  </thead>\n",
       "  <tbody>\n",
       "    <tr>\n",
       "      <th>0</th>\n",
       "      <td>1.000000</td>\n",
       "      <td>0.988636</td>\n",
       "      <td>0.994286</td>\n",
       "      <td>88.000000</td>\n",
       "    </tr>\n",
       "    <tr>\n",
       "      <th>1</th>\n",
       "      <td>0.988764</td>\n",
       "      <td>0.967033</td>\n",
       "      <td>0.977778</td>\n",
       "      <td>91.000000</td>\n",
       "    </tr>\n",
       "    <tr>\n",
       "      <th>2</th>\n",
       "      <td>0.988372</td>\n",
       "      <td>0.988372</td>\n",
       "      <td>0.988372</td>\n",
       "      <td>86.000000</td>\n",
       "    </tr>\n",
       "    <tr>\n",
       "      <th>3</th>\n",
       "      <td>0.975309</td>\n",
       "      <td>0.868132</td>\n",
       "      <td>0.918605</td>\n",
       "      <td>91.000000</td>\n",
       "    </tr>\n",
       "    <tr>\n",
       "      <th>4</th>\n",
       "      <td>0.988764</td>\n",
       "      <td>0.956522</td>\n",
       "      <td>0.972376</td>\n",
       "      <td>92.000000</td>\n",
       "    </tr>\n",
       "    <tr>\n",
       "      <th>5</th>\n",
       "      <td>0.946237</td>\n",
       "      <td>0.967033</td>\n",
       "      <td>0.956522</td>\n",
       "      <td>91.000000</td>\n",
       "    </tr>\n",
       "    <tr>\n",
       "      <th>6</th>\n",
       "      <td>0.989011</td>\n",
       "      <td>0.989011</td>\n",
       "      <td>0.989011</td>\n",
       "      <td>91.000000</td>\n",
       "    </tr>\n",
       "    <tr>\n",
       "      <th>7</th>\n",
       "      <td>0.956522</td>\n",
       "      <td>0.988764</td>\n",
       "      <td>0.972376</td>\n",
       "      <td>89.000000</td>\n",
       "    </tr>\n",
       "    <tr>\n",
       "      <th>8</th>\n",
       "      <td>0.936170</td>\n",
       "      <td>1.000000</td>\n",
       "      <td>0.967033</td>\n",
       "      <td>88.000000</td>\n",
       "    </tr>\n",
       "    <tr>\n",
       "      <th>9</th>\n",
       "      <td>0.927835</td>\n",
       "      <td>0.978261</td>\n",
       "      <td>0.952381</td>\n",
       "      <td>92.000000</td>\n",
       "    </tr>\n",
       "    <tr>\n",
       "      <th>accuracy</th>\n",
       "      <td>0.968854</td>\n",
       "      <td>0.968854</td>\n",
       "      <td>0.968854</td>\n",
       "      <td>0.968854</td>\n",
       "    </tr>\n",
       "    <tr>\n",
       "      <th>macro avg</th>\n",
       "      <td>0.969698</td>\n",
       "      <td>0.969176</td>\n",
       "      <td>0.968874</td>\n",
       "      <td>899.000000</td>\n",
       "    </tr>\n",
       "    <tr>\n",
       "      <th>weighted avg</th>\n",
       "      <td>0.969609</td>\n",
       "      <td>0.968854</td>\n",
       "      <td>0.968664</td>\n",
       "      <td>899.000000</td>\n",
       "    </tr>\n",
       "  </tbody>\n",
       "</table>\n",
       "</div>"
      ],
      "text/plain": [
       "              precision    recall  f1-score     support\n",
       "0              1.000000  0.988636  0.994286   88.000000\n",
       "1              0.988764  0.967033  0.977778   91.000000\n",
       "2              0.988372  0.988372  0.988372   86.000000\n",
       "3              0.975309  0.868132  0.918605   91.000000\n",
       "4              0.988764  0.956522  0.972376   92.000000\n",
       "5              0.946237  0.967033  0.956522   91.000000\n",
       "6              0.989011  0.989011  0.989011   91.000000\n",
       "7              0.956522  0.988764  0.972376   89.000000\n",
       "8              0.936170  1.000000  0.967033   88.000000\n",
       "9              0.927835  0.978261  0.952381   92.000000\n",
       "accuracy       0.968854  0.968854  0.968854    0.968854\n",
       "macro avg      0.969698  0.969176  0.968874  899.000000\n",
       "weighted avg   0.969609  0.968854  0.968664  899.000000"
      ]
     },
     "execution_count": 158,
     "metadata": {},
     "output_type": "execute_result"
    }
   ],
   "source": [
    "pd.DataFrame(classification_report(y_test, predicted, output_dict=True)).T"
   ]
  },
  {
   "cell_type": "code",
   "execution_count": 160,
   "id": "d36a7951",
   "metadata": {
    "hidden": true
   },
   "outputs": [
    {
     "data": {
      "image/png": "[encoded data removed]",
      "text/plain": [
       "<Figure size 576x396 with 2 Axes>"
      ]
     },
     "metadata": {},
     "output_type": "display_data"
    }
   ],
   "source": [
    "disp = plot_confusion_matrix(clf, X_test, y_test)\n",
    "disp.figure_.suptitle(\"Confusion Matrix\")\n",
    "# print(disp.confusion_matrix)\n",
    "\n",
    "plt.show()"
   ]
  },
  {
   "cell_type": "code",
   "execution_count": 162,
   "id": "0be39e93",
   "metadata": {
    "hidden": true
   },
   "outputs": [],
   "source": [
    "# help(disp)"
   ]
  }
 ],
 "metadata": {
  "kernelspec": {
   "display_name": "Python 3",
   "language": "python",
   "name": "python3"
  },
  "language_info": {
   "codemirror_mode": {
    "name": "ipython",
    "version": 3
   },
   "file_extension": ".py",
   "mimetype": "text/x-python",
   "name": "python",
   "nbconvert_exporter": "python",
   "pygments_lexer": "ipython3",
   "version": "3.8.2"
  },
  "toc": {
   "base_numbering": 1,
   "nav_menu": {},
   "number_sections": false,
   "sideBar": true,
   "skip_h1_title": true,
   "title_cell": "Table of Contents",
   "title_sidebar": "Contents",
   "toc_cell": true,
   "toc_position": {},
   "toc_section_display": true,
   "toc_window_display": false
  }
 },
 "nbformat": 4,
 "nbformat_minor": 5
}
