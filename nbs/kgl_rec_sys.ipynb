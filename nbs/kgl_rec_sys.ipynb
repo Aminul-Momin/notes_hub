{
 "cells": [
  {
   "cell_type": "markdown",
   "metadata": {
    "toc": true
   },
   "source": [
    "<h1>Table of Contents<span class=\"tocSkip\"></span></h1>\n",
    "<div class=\"toc\"><ul class=\"toc-item\"><li><span><a href=\"#Datasets\" data-toc-modified-id=\"Datasets-1\">Datasets</a></span><ul class=\"toc-item\"><li><ul class=\"toc-item\"><li><span><a href=\"#Process-shared_articles.csv\" data-toc-modified-id=\"Process-shared_articles.csv-1.0.1\">Process <code>shared_articles.csv</code></a></span></li><li><span><a href=\"#Process-users_interactions.csv\" data-toc-modified-id=\"Process-users_interactions.csv-1.0.2\">Process <code>users_interactions.csv</code></a></span></li></ul></li></ul></li><li><span><a href=\"#Data-Preparation\" data-toc-modified-id=\"Data-Preparation-2\">Data Preparation</a></span><ul class=\"toc-item\"><li><span><a href=\"#Build-Profile-for-Each-User\" data-toc-modified-id=\"Build-Profile-for-Each-User-2.1\">Build Profile for Each User</a></span></li></ul></li><li><span><a href=\"#Develop-a-Content-Based-Recommendation-System\" data-toc-modified-id=\"Develop-a-Content-Based-Recommendation-System-3\">Develop a Content-Based Recommendation System</a></span></li><li><span><a href=\"#Matrix-Factorization\" data-toc-modified-id=\"Matrix-Factorization-4\">Matrix Factorization</a></span></li><li><span><a href=\"#Hybrid-Recommender\" data-toc-modified-id=\"Hybrid-Recommender-5\">Hybrid Recommender</a></span></li><li><span><a href=\"#Comparing-the-methods\" data-toc-modified-id=\"Comparing-the-methods-6\">Comparing the methods</a></span></li></ul></div>"
   ]
  },
  {
   "cell_type": "code",
   "execution_count": 3,
   "metadata": {
    "_cell_guid": "719f3966-e6fd-49c8-9f60-7bd741542450",
    "_uuid": "b61cd3125a7f8f991fc1bda85ae3cd26f74090ae",
    "id": "pVaRjAAoYwsZ"
   },
   "outputs": [],
   "source": [
    "import numpy as np\n",
    "import scipy\n",
    "import pandas as pd\n",
    "import math\n",
    "import random\n",
    "import sklearn\n",
    "# from nltk.corpus import stopwords\n",
    "from scipy.sparse import csr_matrix\n",
    "from sklearn.model_selection import train_test_split\n",
    "from sklearn.feature_extraction.text import TfidfVectorizer\n",
    "from sklearn.metrics.pairwise import cosine_similarity\n",
    "from scipy.sparse.linalg import svds\n",
    "from sklearn.preprocessing import MinMaxScaler\n",
    "import matplotlib.pyplot as plt\n",
    "import os"
   ]
  },
  {
   "cell_type": "code",
   "execution_count": 207,
   "metadata": {},
   "outputs": [],
   "source": [
    "DS_UTILS_PATH=os.environ.get('DS_UTILS')"
   ]
  },
  {
   "cell_type": "code",
   "execution_count": 208,
   "metadata": {},
   "outputs": [],
   "source": [
    "%run {DS_UTILS_PATH}"
   ]
  },
  {
   "cell_type": "code",
   "execution_count": 209,
   "metadata": {},
   "outputs": [],
   "source": [
    "import warnings\n",
    "warnings.filterwarnings('ignore')"
   ]
  },
  {
   "cell_type": "markdown",
   "metadata": {
    "_cell_guid": "989ca8ad-c205-4c89-95f5-0678f63e90c1",
    "_uuid": "9c02125458024687b9bc5e80309c0d73ad3bd822",
    "id": "qmSWTKDUYwsS"
   },
   "source": [
    "# Recommender Systems"
   ]
  },
  {
   "cell_type": "markdown",
   "metadata": {},
   "source": [
    "- [Lecture 41 — Overview of Recommender Systems | Stanford University](https://www.youtube.com/watch?v=1JRrCEgiyHM&list=PLLssT5z_DsK9JDLcT8T62VtzwyW9LNepV&index=41&t=84s)"
   ]
  },
  {
   "cell_type": "markdown",
   "metadata": {
    "_cell_guid": "e4fd4b09-74b8-4e31-a934-920bedb8dac6",
    "_uuid": "3f8d6760d36ba5a1ff7999831c6d893b2be6c94f",
    "id": "PAmqfzoNYwsX"
   },
   "source": [
    "This notebook is a practical introduction to the main [Recommender System](https://en.wikipedia.org/wiki/Recommender_system) (RecSys) techniques. The objective of a RecSys is to recommend relevant items for users, based on their preference. Preference and relevance are subjective, and they are generally inferred by items users have consumed previously.  \n",
    "The main families of methods for RecSys are:  \n",
    "- [**Collaborative Filtering**](https://en.wikipedia.org/wiki/Collaborative_filtering): This method makes automatic predictions (filtering) about the interests of a user by collecting preferences or taste information from many users (collaborating). The underlying assumption of the collaborative filtering approach is that if a person A has the same opinion as a person B on a set of items, A is more likely to have B's opinion for a given item than that of a randomly chosen person.   \n",
    "- [**Content-Based Filtering**](http://recommender-systems.org/content-based-filtering/): This method uses only information about the description and attributes of the items users has previously consumed to model user's preferences. In other words, these algorithms try to recommend items that are similar to those that a user liked in the past (or is examining in the present). In particular, various candidate items are compared with items previously rated by the user and the best-matching items are recommended.  \n",
    "- **Hybrid methods**:  Recent research has demonstrated that a hybrid approach, combining collaborative filtering and content-based filtering could be more effective than pure approaches in some cases. These methods can also be used to overcome some of the common problems in recommender systems such as cold start and the sparsity problem."
   ]
  },
  {
   "cell_type": "markdown",
   "metadata": {},
   "source": [
    "## Datasets"
   ]
  },
  {
   "cell_type": "markdown",
   "metadata": {
    "_cell_guid": "bd1c7313-f898-4d87-a281-b405ad2bb006",
    "_uuid": "23c5f6f635d1ede5e6fa2ebecb7b6a4ede99a50b",
    "id": "OW_5ccLxYwsY"
   },
   "source": [
    "In this notebook, we use a dataset we've shared on Kaggle Datasets: [Articles Sharing and Reading from CI&T Deskdrop](https://www.kaggle.com/gspmoreira/articles-sharing-reading-from-cit-deskdrop).  \n",
    "We will demonstrate how to implement **Collaborative Filtering**, **Content-Based Filtering** and **Hybrid methods** in Python, for the task of providing personalized recommendations to the users."
   ]
  },
  {
   "cell_type": "markdown",
   "metadata": {
    "_cell_guid": "3c48b62c-ad3b-4218-8fb2-2f0e86a16edc",
    "_uuid": "650c279eddc846a48274346e045cfb6e1f8895d5",
    "id": "pILO-4ZOYwsc"
   },
   "source": [
    "In this section, we load the [Deskdrop dataset](https://www.kaggle.com/gspmoreira/articles-sharing-reading-from-cit-deskdrop), which contains a real sample of 12 months logs (Mar. 2016 - Feb. 2017) from CI&T's Internal Communication platform (DeskDrop). It contains about `73k logged users interactions` on more than `3k public articles` shared in the platform.\n",
    "It is composed of two CSV files:  \n",
    "- **shared_articles.csv**\n",
    "- **users_interactions.csv**\n",
    "\n",
    "Take a look in this kernels for a better picture of the dataset: \n",
    "- Deskdrop datasets EDA \n",
    "- DeskDrop Articles Topic Modeling"
   ]
  },
  {
   "cell_type": "markdown",
   "metadata": {
    "_cell_guid": "c9ee29ff-1fee-4dc9-a3cb-e5301c17fded",
    "_uuid": "1e66e976d34d4e28f5a92241b0ea82a2a66363ea",
    "id": "b2tPqT9DYwsd"
   },
   "source": [
    "#### Process `shared_articles.csv`"
   ]
  },
  {
   "cell_type": "markdown",
   "metadata": {
    "_cell_guid": "f09d2247-a40c-4aaf-90ce-15a8721a3036",
    "_uuid": "e64f4fa8a4751274bd2d37a0f45d2d3d664d6c3e",
    "id": "ufCRu49eYwse"
   },
   "source": [
    "Contains information about the articles shared in the platform. Each article has its sharing date (timestamp), the original url, title, content in plain text, the article' lang (Portuguese: pt or English: en) and information about the user who shared the article (author).\n",
    "\n",
    "There are two possible event types at a given timestamp: \n",
    "- CONTENT SHARED: The article was shared in the platform and is available for users. \n",
    "- CONTENT REMOVED: The article was removed from the platform and not available for further recommendation.\n",
    "\n",
    "For the sake of simplicity, we only consider here the \"CONTENT SHARED\" event type, assuming (naively) that all articles were available during the whole one year period. For a more precise evaluation (and higher accuracy), only articles that were available at a given time should be recommended, but we let this exercice for you."
   ]
  },
  {
   "cell_type": "code",
   "execution_count": 4,
   "metadata": {},
   "outputs": [],
   "source": [
    "PATH=os.environ['DATA']"
   ]
  },
  {
   "cell_type": "code",
   "execution_count": 5,
   "metadata": {
    "_cell_guid": "e601f966-d03f-4edc-886f-ca3d511a8045",
    "_uuid": "569c301bd128f66f29b4d97c34171e4d1712015a",
    "colab": {
     "base_uri": "https://localhost:8080/",
     "height": 607
    },
    "id": "XZC6KkQOYwsf",
    "outputId": "3f5579d9-9777-48ad-967e-1339fb7eb8e8"
   },
   "outputs": [
    {
     "data": {
      "text/html": [
       "<div>\n",
       "<style scoped>\n",
       "    .dataframe tbody tr th:only-of-type {\n",
       "        vertical-align: middle;\n",
       "    }\n",
       "\n",
       "    .dataframe tbody tr th {\n",
       "        vertical-align: top;\n",
       "    }\n",
       "\n",
       "    .dataframe thead th {\n",
       "        text-align: right;\n",
       "    }\n",
       "</style>\n",
       "<table border=\"1\" class=\"dataframe\">\n",
       "  <thead>\n",
       "    <tr style=\"text-align: right;\">\n",
       "      <th></th>\n",
       "      <th>timestamp</th>\n",
       "      <th>eventType</th>\n",
       "      <th>contentId</th>\n",
       "      <th>authorPersonId</th>\n",
       "      <th>authorSessionId</th>\n",
       "      <th>authorUserAgent</th>\n",
       "      <th>authorRegion</th>\n",
       "      <th>authorCountry</th>\n",
       "      <th>contentType</th>\n",
       "      <th>url</th>\n",
       "      <th>title</th>\n",
       "      <th>text</th>\n",
       "      <th>lang</th>\n",
       "    </tr>\n",
       "  </thead>\n",
       "  <tbody>\n",
       "    <tr>\n",
       "      <th>1</th>\n",
       "      <td>1459193988</td>\n",
       "      <td>CONTENT SHARED</td>\n",
       "      <td>-4110354420726924665</td>\n",
       "      <td>4340306774493623681</td>\n",
       "      <td>8940341205206233829</td>\n",
       "      <td>NaN</td>\n",
       "      <td>NaN</td>\n",
       "      <td>NaN</td>\n",
       "      <td>HTML</td>\n",
       "      <td>http://www.nytimes.com/2016/03/28/business/dea...</td>\n",
       "      <td>Ethereum, a Virtual Currency, Enables Transact...</td>\n",
       "      <td>All of this work is still very early. The firs...</td>\n",
       "      <td>en</td>\n",
       "    </tr>\n",
       "    <tr>\n",
       "      <th>2</th>\n",
       "      <td>1459194146</td>\n",
       "      <td>CONTENT SHARED</td>\n",
       "      <td>-7292285110016212249</td>\n",
       "      <td>4340306774493623681</td>\n",
       "      <td>8940341205206233829</td>\n",
       "      <td>NaN</td>\n",
       "      <td>NaN</td>\n",
       "      <td>NaN</td>\n",
       "      <td>HTML</td>\n",
       "      <td>http://cointelegraph.com/news/bitcoin-future-w...</td>\n",
       "      <td>Bitcoin Future: When GBPcoin of Branson Wins O...</td>\n",
       "      <td>The alarm clock wakes me at 8:00 with stream o...</td>\n",
       "      <td>en</td>\n",
       "    </tr>\n",
       "    <tr>\n",
       "      <th>3</th>\n",
       "      <td>1459194474</td>\n",
       "      <td>CONTENT SHARED</td>\n",
       "      <td>-6151852268067518688</td>\n",
       "      <td>3891637997717104548</td>\n",
       "      <td>-1457532940883382585</td>\n",
       "      <td>NaN</td>\n",
       "      <td>NaN</td>\n",
       "      <td>NaN</td>\n",
       "      <td>HTML</td>\n",
       "      <td>https://cloudplatform.googleblog.com/2016/03/G...</td>\n",
       "      <td>Google Data Center 360° Tour</td>\n",
       "      <td>We're excited to share the Google Data Center ...</td>\n",
       "      <td>en</td>\n",
       "    </tr>\n",
       "  </tbody>\n",
       "</table>\n",
       "</div>"
      ],
      "text/plain": [
       "    timestamp       eventType            contentId       authorPersonId  \\\n",
       "1  1459193988  CONTENT SHARED -4110354420726924665  4340306774493623681   \n",
       "2  1459194146  CONTENT SHARED -7292285110016212249  4340306774493623681   \n",
       "3  1459194474  CONTENT SHARED -6151852268067518688  3891637997717104548   \n",
       "\n",
       "       authorSessionId authorUserAgent authorRegion authorCountry contentType  \\\n",
       "1  8940341205206233829             NaN          NaN           NaN        HTML   \n",
       "2  8940341205206233829             NaN          NaN           NaN        HTML   \n",
       "3 -1457532940883382585             NaN          NaN           NaN        HTML   \n",
       "\n",
       "                                                 url  \\\n",
       "1  http://www.nytimes.com/2016/03/28/business/dea...   \n",
       "2  http://cointelegraph.com/news/bitcoin-future-w...   \n",
       "3  https://cloudplatform.googleblog.com/2016/03/G...   \n",
       "\n",
       "                                               title  \\\n",
       "1  Ethereum, a Virtual Currency, Enables Transact...   \n",
       "2  Bitcoin Future: When GBPcoin of Branson Wins O...   \n",
       "3                       Google Data Center 360° Tour   \n",
       "\n",
       "                                                text lang  \n",
       "1  All of this work is still very early. The firs...   en  \n",
       "2  The alarm clock wakes me at 8:00 with stream o...   en  \n",
       "3  We're excited to share the Google Data Center ...   en  "
      ]
     },
     "execution_count": 5,
     "metadata": {},
     "output_type": "execute_result"
    }
   ],
   "source": [
    "articles_df = pd.read_csv(PATH+'/shared_articles.csv')\n",
    "articles_df = articles_df[articles_df['eventType'] == 'CONTENT SHARED']\n",
    "articles_df.head(3)"
   ]
  },
  {
   "cell_type": "code",
   "execution_count": 212,
   "metadata": {
    "colab": {
     "base_uri": "https://localhost:8080/"
    },
    "id": "NJ5cd_C3RLOM",
    "outputId": "1d9f9ec3-3379-49fe-8583-480c2b3b3d12"
   },
   "outputs": [
    {
     "data": {
      "text/plain": [
       "(3047, 13)"
      ]
     },
     "execution_count": 212,
     "metadata": {},
     "output_type": "execute_result"
    }
   ],
   "source": [
    "articles_df.shape"
   ]
  },
  {
   "cell_type": "code",
   "execution_count": 213,
   "metadata": {},
   "outputs": [],
   "source": [
    "# articles_df.text.iloc[0]"
   ]
  },
  {
   "cell_type": "markdown",
   "metadata": {
    "_cell_guid": "c9ee29ff-1fee-4dc9-a3cb-e5301c17fded",
    "_uuid": "1e66e976d34d4e28f5a92241b0ea82a2a66363ea",
    "id": "b2tPqT9DYwsd"
   },
   "source": [
    "#### Process `users_interactions.csv`"
   ]
  },
  {
   "cell_type": "markdown",
   "metadata": {
    "_cell_guid": "325b8db8-ef44-4b59-8138-2a59bd02d66e",
    "_uuid": "86694f1b80b04b8f9b961148fb265f355f202b26",
    "id": "s4EE024lYwsh"
   },
   "source": [
    "Contains logs of user interactions on shared articles. It can be joined to **articles_shared.csv** by **contentId** column.\n",
    "\n",
    "The eventType values are:  \n",
    "- **VIEW**: The user has opened the article. \n",
    "- **LIKE**: The user has liked the article. \n",
    "- **COMMENT CREATED**: The user created a comment in the article. \n",
    "- **FOLLOW**: The user chose to be notified on any new comment in the article. \n",
    "- **BOOKMARK**: The user has bookmarked the article for easy return in the future."
   ]
  },
  {
   "cell_type": "code",
   "execution_count": 214,
   "metadata": {
    "_cell_guid": "445d39ec-f6b0-4155-9f92-0a2540918bd1",
    "_uuid": "9829842326037e364de457f832deceae074d6164",
    "colab": {
     "base_uri": "https://localhost:8080/",
     "height": 205
    },
    "id": "r7HgWAtNYwsh",
    "outputId": "be290749-8065-4754-8405-c3cf915f1c71"
   },
   "outputs": [
    {
     "data": {
      "text/html": [
       "<div>\n",
       "<style scoped>\n",
       "    .dataframe tbody tr th:only-of-type {\n",
       "        vertical-align: middle;\n",
       "    }\n",
       "\n",
       "    .dataframe tbody tr th {\n",
       "        vertical-align: top;\n",
       "    }\n",
       "\n",
       "    .dataframe thead th {\n",
       "        text-align: right;\n",
       "    }\n",
       "</style>\n",
       "<table border=\"1\" class=\"dataframe\">\n",
       "  <thead>\n",
       "    <tr style=\"text-align: right;\">\n",
       "      <th></th>\n",
       "      <th>timestamp</th>\n",
       "      <th>eventType</th>\n",
       "      <th>contentId</th>\n",
       "      <th>personId</th>\n",
       "      <th>sessionId</th>\n",
       "      <th>userAgent</th>\n",
       "      <th>userRegion</th>\n",
       "      <th>userCountry</th>\n",
       "    </tr>\n",
       "  </thead>\n",
       "  <tbody>\n",
       "    <tr>\n",
       "      <th>0</th>\n",
       "      <td>1465413032</td>\n",
       "      <td>VIEW</td>\n",
       "      <td>-3499919498720038879</td>\n",
       "      <td>-8845298781299428018</td>\n",
       "      <td>1264196770339959068</td>\n",
       "      <td>NaN</td>\n",
       "      <td>NaN</td>\n",
       "      <td>NaN</td>\n",
       "    </tr>\n",
       "    <tr>\n",
       "      <th>1</th>\n",
       "      <td>1465412560</td>\n",
       "      <td>VIEW</td>\n",
       "      <td>8890720798209849691</td>\n",
       "      <td>-1032019229384696495</td>\n",
       "      <td>3621737643587579081</td>\n",
       "      <td>Mozilla/5.0 (Macintosh; Intel Mac OS X 10_11_2...</td>\n",
       "      <td>NY</td>\n",
       "      <td>US</td>\n",
       "    </tr>\n",
       "    <tr>\n",
       "      <th>2</th>\n",
       "      <td>1465416190</td>\n",
       "      <td>VIEW</td>\n",
       "      <td>310515487419366995</td>\n",
       "      <td>-1130272294246983140</td>\n",
       "      <td>2631864456530402479</td>\n",
       "      <td>NaN</td>\n",
       "      <td>NaN</td>\n",
       "      <td>NaN</td>\n",
       "    </tr>\n",
       "  </tbody>\n",
       "</table>\n",
       "</div>"
      ],
      "text/plain": [
       "    timestamp eventType            contentId             personId  \\\n",
       "0  1465413032      VIEW -3499919498720038879 -8845298781299428018   \n",
       "1  1465412560      VIEW  8890720798209849691 -1032019229384696495   \n",
       "2  1465416190      VIEW   310515487419366995 -1130272294246983140   \n",
       "\n",
       "             sessionId                                          userAgent  \\\n",
       "0  1264196770339959068                                                NaN   \n",
       "1  3621737643587579081  Mozilla/5.0 (Macintosh; Intel Mac OS X 10_11_2...   \n",
       "2  2631864456530402479                                                NaN   \n",
       "\n",
       "  userRegion userCountry  \n",
       "0        NaN         NaN  \n",
       "1         NY          US  \n",
       "2        NaN         NaN  "
      ]
     },
     "execution_count": 214,
     "metadata": {},
     "output_type": "execute_result"
    }
   ],
   "source": [
    "interactions_df = pd.read_csv(PATH+'/users_interactions.csv')\n",
    "interactions_df.head(3)"
   ]
  },
  {
   "cell_type": "code",
   "execution_count": 215,
   "metadata": {
    "colab": {
     "base_uri": "https://localhost:8080/"
    },
    "id": "-iflA2XyTWS2",
    "outputId": "eb52c343-303f-4d6f-ed37-122b13b50da9"
   },
   "outputs": [
    {
     "data": {
      "text/plain": [
       "(72312, 8)"
      ]
     },
     "execution_count": 215,
     "metadata": {},
     "output_type": "execute_result"
    }
   ],
   "source": [
    "interactions_df.shape"
   ]
  },
  {
   "cell_type": "code",
   "execution_count": 216,
   "metadata": {},
   "outputs": [
    {
     "data": {
      "text/plain": [
       "0"
      ]
     },
     "execution_count": 216,
     "metadata": {},
     "output_type": "execute_result"
    }
   ],
   "source": [
    "interactions_df.eventType.isnull().sum()"
   ]
  },
  {
   "cell_type": "markdown",
   "metadata": {
    "_cell_guid": "bad1a6c9-0258-4b89-85f9-bec89a523662",
    "_uuid": "84c2e91561d5de6afa7c45c173022193664c770e",
    "id": "hXUemWt7Ywsi"
   },
   "source": [
    "As there are different interactions types, we associate them with a weight or strength, assuming that, for example, a comment in an article indicates a higher interest of the user on the item than a like, or than a simple view."
   ]
  },
  {
   "cell_type": "code",
   "execution_count": 217,
   "metadata": {
    "_cell_guid": "3239c376-05b8-4a58-9afc-f6f57f67405f",
    "_uuid": "b06f8c0b082f0ad07bf773a5ad2fae33c1f7acc2",
    "id": "ajHbwjMWYwsi"
   },
   "outputs": [],
   "source": [
    "event_type_strength = {\n",
    "   'VIEW': 1.0,\n",
    "   'LIKE': 2.0, \n",
    "   'BOOKMARK': 2.5, \n",
    "   'FOLLOW': 3.0,\n",
    "   'COMMENT CREATED': 4.0,\n",
    "}"
   ]
  },
  {
   "cell_type": "code",
   "execution_count": 218,
   "metadata": {
    "_cell_guid": "3239c376-05b8-4a58-9afc-f6f57f67405f",
    "_uuid": "b06f8c0b082f0ad07bf773a5ad2fae33c1f7acc2",
    "id": "ajHbwjMWYwsi"
   },
   "outputs": [],
   "source": [
    "interactions_df['eventStrength'] = interactions_df['eventType'].apply(lambda x: event_type_strength[x])"
   ]
  },
  {
   "cell_type": "code",
   "execution_count": 219,
   "metadata": {},
   "outputs": [
    {
     "data": {
      "text/plain": [
       "timestamp          int64\n",
       "eventType         object\n",
       "contentId          int64\n",
       "personId           int64\n",
       "sessionId          int64\n",
       "userAgent         object\n",
       "userRegion        object\n",
       "userCountry       object\n",
       "eventStrength    float64\n",
       "dtype: object"
      ]
     },
     "execution_count": 219,
     "metadata": {},
     "output_type": "execute_result"
    }
   ],
   "source": [
    "interactions_df.dtypes"
   ]
  },
  {
   "cell_type": "code",
   "execution_count": 220,
   "metadata": {
    "scrolled": true
   },
   "outputs": [
    {
     "data": {
      "text/html": [
       "<div>\n",
       "<style scoped>\n",
       "    .dataframe tbody tr th:only-of-type {\n",
       "        vertical-align: middle;\n",
       "    }\n",
       "\n",
       "    .dataframe tbody tr th {\n",
       "        vertical-align: top;\n",
       "    }\n",
       "\n",
       "    .dataframe thead th {\n",
       "        text-align: right;\n",
       "    }\n",
       "</style>\n",
       "<table border=\"1\" class=\"dataframe\">\n",
       "  <thead>\n",
       "    <tr style=\"text-align: right;\">\n",
       "      <th></th>\n",
       "      <th>timestamp</th>\n",
       "      <th>eventType</th>\n",
       "      <th>contentId</th>\n",
       "      <th>personId</th>\n",
       "      <th>sessionId</th>\n",
       "      <th>userAgent</th>\n",
       "      <th>userRegion</th>\n",
       "      <th>userCountry</th>\n",
       "      <th>eventStrength</th>\n",
       "    </tr>\n",
       "  </thead>\n",
       "  <tbody>\n",
       "    <tr>\n",
       "      <th>72309</th>\n",
       "      <td>1485190072</td>\n",
       "      <td>VIEW</td>\n",
       "      <td>-1999468346928419252</td>\n",
       "      <td>-9196668942822132778</td>\n",
       "      <td>-8300596454915870873</td>\n",
       "      <td>Mozilla/5.0 (Windows NT 10.0; Win64; x64) Appl...</td>\n",
       "      <td>SP</td>\n",
       "      <td>BR</td>\n",
       "      <td>1.0</td>\n",
       "    </tr>\n",
       "    <tr>\n",
       "      <th>72310</th>\n",
       "      <td>1485190434</td>\n",
       "      <td>VIEW</td>\n",
       "      <td>-6590819806697898649</td>\n",
       "      <td>-9016528795238256703</td>\n",
       "      <td>8614469745607949425</td>\n",
       "      <td>Mozilla/5.0 (Macintosh; Intel Mac OS X 10_11_4...</td>\n",
       "      <td>MG</td>\n",
       "      <td>BR</td>\n",
       "      <td>1.0</td>\n",
       "    </tr>\n",
       "    <tr>\n",
       "      <th>72311</th>\n",
       "      <td>1485187988</td>\n",
       "      <td>VIEW</td>\n",
       "      <td>5669290109546991426</td>\n",
       "      <td>5713241217519616260</td>\n",
       "      <td>6704552481483665372</td>\n",
       "      <td>Mozilla/5.0 (Windows NT 10.0; WOW64) AppleWebK...</td>\n",
       "      <td>MG</td>\n",
       "      <td>BR</td>\n",
       "      <td>1.0</td>\n",
       "    </tr>\n",
       "  </tbody>\n",
       "</table>\n",
       "</div>"
      ],
      "text/plain": [
       "        timestamp eventType            contentId             personId  \\\n",
       "72309  1485190072      VIEW -1999468346928419252 -9196668942822132778   \n",
       "72310  1485190434      VIEW -6590819806697898649 -9016528795238256703   \n",
       "72311  1485187988      VIEW  5669290109546991426  5713241217519616260   \n",
       "\n",
       "                 sessionId                                          userAgent  \\\n",
       "72309 -8300596454915870873  Mozilla/5.0 (Windows NT 10.0; Win64; x64) Appl...   \n",
       "72310  8614469745607949425  Mozilla/5.0 (Macintosh; Intel Mac OS X 10_11_4...   \n",
       "72311  6704552481483665372  Mozilla/5.0 (Windows NT 10.0; WOW64) AppleWebK...   \n",
       "\n",
       "      userRegion userCountry  eventStrength  \n",
       "72309         SP          BR            1.0  \n",
       "72310         MG          BR            1.0  \n",
       "72311         MG          BR            1.0  "
      ]
     },
     "execution_count": 220,
     "metadata": {},
     "output_type": "execute_result"
    }
   ],
   "source": [
    "interactions_df.tail(3)"
   ]
  },
  {
   "cell_type": "code",
   "execution_count": 221,
   "metadata": {},
   "outputs": [
    {
     "data": {
      "text/plain": [
       "(72312, 9)"
      ]
     },
     "execution_count": 221,
     "metadata": {},
     "output_type": "execute_result"
    }
   ],
   "source": [
    "interactions_df.shape"
   ]
  },
  {
   "cell_type": "code",
   "execution_count": 222,
   "metadata": {},
   "outputs": [
    {
     "name": "stdout",
     "output_type": "stream",
     "text": [
      "<class 'pandas.core.frame.DataFrame'>\n",
      "RangeIndex: 72312 entries, 0 to 72311\n",
      "Data columns (total 9 columns):\n",
      " #   Column         Non-Null Count  Dtype  \n",
      "---  ------         --------------  -----  \n",
      " 0   timestamp      72312 non-null  int64  \n",
      " 1   eventType      72312 non-null  object \n",
      " 2   contentId      72312 non-null  int64  \n",
      " 3   personId       72312 non-null  int64  \n",
      " 4   sessionId      72312 non-null  int64  \n",
      " 5   userAgent      56918 non-null  object \n",
      " 6   userRegion     56907 non-null  object \n",
      " 7   userCountry    56918 non-null  object \n",
      " 8   eventStrength  72312 non-null  float64\n",
      "dtypes: float64(1), int64(4), object(4)\n",
      "memory usage: 5.0+ MB\n"
     ]
    }
   ],
   "source": [
    "interactions_df.info()"
   ]
  },
  {
   "cell_type": "markdown",
   "metadata": {
    "_cell_guid": "5c92aa80-2926-44db-b358-c4c32de806c4",
    "_uuid": "91100a395fdf4fb20df02c8d248072457c980b5d",
    "id": "Fu7ovAuJYwsj"
   },
   "source": [
    "Recommender systems have a problem known as ***user cold-start***, in which is hard do provide personalized recommendations for users with none or a very few number of consumed items, due to the lack of information to model their preferences.  \n",
    "For this reason, we are keeping in the dataset only users with at leas 5 interactions."
   ]
  },
  {
   "cell_type": "code",
   "execution_count": 223,
   "metadata": {
    "colab": {
     "base_uri": "https://localhost:8080/"
    },
    "id": "hYqSPumEVAR-",
    "outputId": "eeddc516-2f09-4603-a16d-f1e828e0ea78",
    "scrolled": true
   },
   "outputs": [
    {
     "data": {
      "text/plain": [
       "personId              contentId           \n",
       "-9223121837663643404  -8949113594875411859    1\n",
       "                      -8377626164558006982    1\n",
       "                      -8208801367848627943    1\n",
       "                      -8187220755213888616    1\n",
       "                      -7423191370472335463    8\n",
       "                                             ..\n",
       " 9210530975708218054   8477804012624580461    4\n",
       "                       8526042588044002101    1\n",
       "                       8856169137131817223    1\n",
       "                       8869347744613364434    1\n",
       "                       9209886322932807692    1\n",
       "Length: 40710, dtype: int64"
      ]
     },
     "execution_count": 223,
     "metadata": {},
     "output_type": "execute_result"
    }
   ],
   "source": [
    "gruped_srs = interactions_df.groupby(['personId', 'contentId']).size(); gruped_srs # type(srs) = pandas.core.series.Series"
   ]
  },
  {
   "cell_type": "code",
   "execution_count": 224,
   "metadata": {},
   "outputs": [
    {
     "data": {
      "text/plain": [
       "40710"
      ]
     },
     "execution_count": 224,
     "metadata": {},
     "output_type": "execute_result"
    }
   ],
   "source": [
    "gruped_srs.loc[:].size"
   ]
  },
  {
   "cell_type": "code",
   "execution_count": 225,
   "metadata": {},
   "outputs": [
    {
     "data": {
      "text/plain": [
       "contentId\n",
       "-1995591062742965408    2\n",
       "-969155230116728853     2\n",
       " 1796618361228441836    2\n",
       " 5162508842577612756    1\n",
       " 6852597772196653540    2\n",
       "dtype: int64"
      ]
     },
     "execution_count": 225,
     "metadata": {},
     "output_type": "execute_result"
    }
   ],
   "source": [
    "gruped_srs[-9212075797126931087]"
   ]
  },
  {
   "cell_type": "code",
   "execution_count": 226,
   "metadata": {},
   "outputs": [
    {
     "data": {
      "text/plain": [
       "43"
      ]
     },
     "execution_count": 226,
     "metadata": {},
     "output_type": "execute_result"
    }
   ],
   "source": [
    "gruped_srs.loc[-9223121837663643404].size"
   ]
  },
  {
   "cell_type": "code",
   "execution_count": 227,
   "metadata": {
    "colab": {
     "base_uri": "https://localhost:8080/"
    },
    "id": "APNKBsaOcQC4",
    "outputId": "c3e4530d-8ee9-424f-8310-e75b8446c93f"
   },
   "outputs": [
    {
     "data": {
      "text/plain": [
       "personId\n",
       "-9223121837663643404    43\n",
       "-9212075797126931087     5\n",
       "-9207251133131336884     7\n",
       "-9199575329909162940    11\n",
       "-9196668942822132778     7\n",
       "                        ..\n",
       " 9165571805999894845     5\n",
       " 9187866633451383747    17\n",
       " 9191849144618614467    12\n",
       " 9199170757466086545    14\n",
       " 9210530975708218054    63\n",
       "Length: 1895, dtype: int64"
      ]
     },
     "execution_count": 227,
     "metadata": {},
     "output_type": "execute_result"
    }
   ],
   "source": [
    "interactions_df.groupby(['personId', 'contentId']).size().groupby('personId').size()"
   ]
  },
  {
   "cell_type": "code",
   "execution_count": 228,
   "metadata": {
    "id": "DIsZOWUObLae"
   },
   "outputs": [
    {
     "data": {
      "text/plain": [
       "personId\n",
       "-9223121837663643404    43\n",
       "-9212075797126931087     5\n",
       "-9207251133131336884     7\n",
       "-9199575329909162940    11\n",
       "-9196668942822132778     7\n",
       "                        ..\n",
       " 9165571805999894845     5\n",
       " 9187866633451383747    17\n",
       " 9191849144618614467    12\n",
       " 9199170757466086545    14\n",
       " 9210530975708218054    63\n",
       "Length: 1895, dtype: int64"
      ]
     },
     "execution_count": 228,
     "metadata": {},
     "output_type": "execute_result"
    }
   ],
   "source": [
    "users_interactions_count_srs = interactions_df.groupby(['personId', 'contentId']).size().groupby('personId').size()\n",
    "users_interactions_count_srs"
   ]
  },
  {
   "cell_type": "code",
   "execution_count": 229,
   "metadata": {},
   "outputs": [
    {
     "data": {
      "text/plain": [
       "(pandas.core.series.Series, 1895)"
      ]
     },
     "execution_count": 229,
     "metadata": {},
     "output_type": "execute_result"
    }
   ],
   "source": [
    "type(users_interactions_count_srs), users_interactions_count_srs.size"
   ]
  },
  {
   "cell_type": "code",
   "execution_count": 230,
   "metadata": {},
   "outputs": [
    {
     "data": {
      "text/plain": [
       "5"
      ]
     },
     "execution_count": 230,
     "metadata": {},
     "output_type": "execute_result"
    }
   ],
   "source": [
    "users_interactions_count_srs[-9212075797126931087]"
   ]
  },
  {
   "cell_type": "code",
   "execution_count": 231,
   "metadata": {},
   "outputs": [
    {
     "data": {
      "text/plain": [
       "pandas.core.series.Series"
      ]
     },
     "execution_count": 231,
     "metadata": {},
     "output_type": "execute_result"
    }
   ],
   "source": [
    "type(users_interactions_count_srs[users_interactions_count_srs >= 5])"
   ]
  },
  {
   "cell_type": "code",
   "execution_count": 232,
   "metadata": {},
   "outputs": [
    {
     "data": {
      "text/html": [
       "<div>\n",
       "<style scoped>\n",
       "    .dataframe tbody tr th:only-of-type {\n",
       "        vertical-align: middle;\n",
       "    }\n",
       "\n",
       "    .dataframe tbody tr th {\n",
       "        vertical-align: top;\n",
       "    }\n",
       "\n",
       "    .dataframe thead th {\n",
       "        text-align: right;\n",
       "    }\n",
       "</style>\n",
       "<table border=\"1\" class=\"dataframe\">\n",
       "  <thead>\n",
       "    <tr style=\"text-align: right;\">\n",
       "      <th></th>\n",
       "      <th>personId</th>\n",
       "      <th>0</th>\n",
       "    </tr>\n",
       "  </thead>\n",
       "  <tbody>\n",
       "    <tr>\n",
       "      <th>0</th>\n",
       "      <td>-9223121837663643404</td>\n",
       "      <td>43</td>\n",
       "    </tr>\n",
       "    <tr>\n",
       "      <th>1</th>\n",
       "      <td>-9212075797126931087</td>\n",
       "      <td>5</td>\n",
       "    </tr>\n",
       "    <tr>\n",
       "      <th>2</th>\n",
       "      <td>-9207251133131336884</td>\n",
       "      <td>7</td>\n",
       "    </tr>\n",
       "    <tr>\n",
       "      <th>3</th>\n",
       "      <td>-9199575329909162940</td>\n",
       "      <td>11</td>\n",
       "    </tr>\n",
       "    <tr>\n",
       "      <th>4</th>\n",
       "      <td>-9196668942822132778</td>\n",
       "      <td>7</td>\n",
       "    </tr>\n",
       "    <tr>\n",
       "      <th>...</th>\n",
       "      <td>...</td>\n",
       "      <td>...</td>\n",
       "    </tr>\n",
       "    <tr>\n",
       "      <th>1135</th>\n",
       "      <td>9165571805999894845</td>\n",
       "      <td>5</td>\n",
       "    </tr>\n",
       "    <tr>\n",
       "      <th>1136</th>\n",
       "      <td>9187866633451383747</td>\n",
       "      <td>17</td>\n",
       "    </tr>\n",
       "    <tr>\n",
       "      <th>1137</th>\n",
       "      <td>9191849144618614467</td>\n",
       "      <td>12</td>\n",
       "    </tr>\n",
       "    <tr>\n",
       "      <th>1138</th>\n",
       "      <td>9199170757466086545</td>\n",
       "      <td>14</td>\n",
       "    </tr>\n",
       "    <tr>\n",
       "      <th>1139</th>\n",
       "      <td>9210530975708218054</td>\n",
       "      <td>63</td>\n",
       "    </tr>\n",
       "  </tbody>\n",
       "</table>\n",
       "<p>1140 rows × 2 columns</p>\n",
       "</div>"
      ],
      "text/plain": [
       "                 personId   0\n",
       "0    -9223121837663643404  43\n",
       "1    -9212075797126931087   5\n",
       "2    -9207251133131336884   7\n",
       "3    -9199575329909162940  11\n",
       "4    -9196668942822132778   7\n",
       "...                   ...  ..\n",
       "1135  9165571805999894845   5\n",
       "1136  9187866633451383747  17\n",
       "1137  9191849144618614467  12\n",
       "1138  9199170757466086545  14\n",
       "1139  9210530975708218054  63\n",
       "\n",
       "[1140 rows x 2 columns]"
      ]
     },
     "execution_count": 232,
     "metadata": {},
     "output_type": "execute_result"
    }
   ],
   "source": [
    "users_interactions_count_srs[users_interactions_count_srs >= 5].reset_index() # DataFrame Object"
   ]
  },
  {
   "cell_type": "code",
   "execution_count": 233,
   "metadata": {
    "_cell_guid": "bad1d8ea-9b67-4a47-80c5-87a5e55c4f38",
    "_uuid": "1698c88340183baa7f3ebb8c3b60eaa8e6ca708f",
    "colab": {
     "base_uri": "https://localhost:8080/"
    },
    "id": "P2JzchHUYwsj",
    "outputId": "9f05aead-44d5-4d07-8a35-8a7c835d916f"
   },
   "outputs": [],
   "source": [
    "# Select the users of five or more interactions\n",
    "selected_users = users_interactions_count_srs[users_interactions_count_srs >= 5].reset_index()[['personId']]"
   ]
  },
  {
   "cell_type": "code",
   "execution_count": 234,
   "metadata": {},
   "outputs": [
    {
     "data": {
      "text/html": [
       "<div>\n",
       "<style scoped>\n",
       "    .dataframe tbody tr th:only-of-type {\n",
       "        vertical-align: middle;\n",
       "    }\n",
       "\n",
       "    .dataframe tbody tr th {\n",
       "        vertical-align: top;\n",
       "    }\n",
       "\n",
       "    .dataframe thead th {\n",
       "        text-align: right;\n",
       "    }\n",
       "</style>\n",
       "<table border=\"1\" class=\"dataframe\">\n",
       "  <thead>\n",
       "    <tr style=\"text-align: right;\">\n",
       "      <th></th>\n",
       "      <th>personId</th>\n",
       "    </tr>\n",
       "  </thead>\n",
       "  <tbody>\n",
       "    <tr>\n",
       "      <th>0</th>\n",
       "      <td>-9223121837663643404</td>\n",
       "    </tr>\n",
       "    <tr>\n",
       "      <th>1</th>\n",
       "      <td>-9212075797126931087</td>\n",
       "    </tr>\n",
       "    <tr>\n",
       "      <th>2</th>\n",
       "      <td>-9207251133131336884</td>\n",
       "    </tr>\n",
       "    <tr>\n",
       "      <th>3</th>\n",
       "      <td>-9199575329909162940</td>\n",
       "    </tr>\n",
       "    <tr>\n",
       "      <th>4</th>\n",
       "      <td>-9196668942822132778</td>\n",
       "    </tr>\n",
       "    <tr>\n",
       "      <th>...</th>\n",
       "      <td>...</td>\n",
       "    </tr>\n",
       "    <tr>\n",
       "      <th>1135</th>\n",
       "      <td>9165571805999894845</td>\n",
       "    </tr>\n",
       "    <tr>\n",
       "      <th>1136</th>\n",
       "      <td>9187866633451383747</td>\n",
       "    </tr>\n",
       "    <tr>\n",
       "      <th>1137</th>\n",
       "      <td>9191849144618614467</td>\n",
       "    </tr>\n",
       "    <tr>\n",
       "      <th>1138</th>\n",
       "      <td>9199170757466086545</td>\n",
       "    </tr>\n",
       "    <tr>\n",
       "      <th>1139</th>\n",
       "      <td>9210530975708218054</td>\n",
       "    </tr>\n",
       "  </tbody>\n",
       "</table>\n",
       "<p>1140 rows × 1 columns</p>\n",
       "</div>"
      ],
      "text/plain": [
       "                 personId\n",
       "0    -9223121837663643404\n",
       "1    -9212075797126931087\n",
       "2    -9207251133131336884\n",
       "3    -9199575329909162940\n",
       "4    -9196668942822132778\n",
       "...                   ...\n",
       "1135  9165571805999894845\n",
       "1136  9187866633451383747\n",
       "1137  9191849144618614467\n",
       "1138  9199170757466086545\n",
       "1139  9210530975708218054\n",
       "\n",
       "[1140 rows x 1 columns]"
      ]
     },
     "execution_count": 234,
     "metadata": {},
     "output_type": "execute_result"
    }
   ],
   "source": [
    "selected_users"
   ]
  },
  {
   "cell_type": "code",
   "execution_count": 235,
   "metadata": {
    "_cell_guid": "bad1d8ea-9b67-4a47-80c5-87a5e55c4f38",
    "_uuid": "1698c88340183baa7f3ebb8c3b60eaa8e6ca708f",
    "colab": {
     "base_uri": "https://localhost:8080/"
    },
    "id": "P2JzchHUYwsj",
    "outputId": "9f05aead-44d5-4d07-8a35-8a7c835d916f"
   },
   "outputs": [
    {
     "data": {
      "text/plain": [
       "(1140, 1)"
      ]
     },
     "execution_count": 235,
     "metadata": {},
     "output_type": "execute_result"
    }
   ],
   "source": [
    "selected_users.shape"
   ]
  },
  {
   "cell_type": "code",
   "execution_count": 236,
   "metadata": {
    "colab": {
     "base_uri": "https://localhost:8080/",
     "height": 424
    },
    "id": "eMe6Qax2c6WB",
    "outputId": "b6d2846f-c73e-46ce-b55e-a3f8b8c85895"
   },
   "outputs": [
    {
     "data": {
      "text/html": [
       "<div>\n",
       "<style scoped>\n",
       "    .dataframe tbody tr th:only-of-type {\n",
       "        vertical-align: middle;\n",
       "    }\n",
       "\n",
       "    .dataframe tbody tr th {\n",
       "        vertical-align: top;\n",
       "    }\n",
       "\n",
       "    .dataframe thead th {\n",
       "        text-align: right;\n",
       "    }\n",
       "</style>\n",
       "<table border=\"1\" class=\"dataframe\">\n",
       "  <thead>\n",
       "    <tr style=\"text-align: right;\">\n",
       "      <th></th>\n",
       "      <th>personId</th>\n",
       "    </tr>\n",
       "  </thead>\n",
       "  <tbody>\n",
       "    <tr>\n",
       "      <th>0</th>\n",
       "      <td>-9223121837663643404</td>\n",
       "    </tr>\n",
       "    <tr>\n",
       "      <th>1</th>\n",
       "      <td>-9212075797126931087</td>\n",
       "    </tr>\n",
       "    <tr>\n",
       "      <th>2</th>\n",
       "      <td>-9207251133131336884</td>\n",
       "    </tr>\n",
       "    <tr>\n",
       "      <th>3</th>\n",
       "      <td>-9199575329909162940</td>\n",
       "    </tr>\n",
       "    <tr>\n",
       "      <th>4</th>\n",
       "      <td>-9196668942822132778</td>\n",
       "    </tr>\n",
       "    <tr>\n",
       "      <th>...</th>\n",
       "      <td>...</td>\n",
       "    </tr>\n",
       "    <tr>\n",
       "      <th>1135</th>\n",
       "      <td>9165571805999894845</td>\n",
       "    </tr>\n",
       "    <tr>\n",
       "      <th>1136</th>\n",
       "      <td>9187866633451383747</td>\n",
       "    </tr>\n",
       "    <tr>\n",
       "      <th>1137</th>\n",
       "      <td>9191849144618614467</td>\n",
       "    </tr>\n",
       "    <tr>\n",
       "      <th>1138</th>\n",
       "      <td>9199170757466086545</td>\n",
       "    </tr>\n",
       "    <tr>\n",
       "      <th>1139</th>\n",
       "      <td>9210530975708218054</td>\n",
       "    </tr>\n",
       "  </tbody>\n",
       "</table>\n",
       "<p>1140 rows × 1 columns</p>\n",
       "</div>"
      ],
      "text/plain": [
       "                 personId\n",
       "0    -9223121837663643404\n",
       "1    -9212075797126931087\n",
       "2    -9207251133131336884\n",
       "3    -9199575329909162940\n",
       "4    -9196668942822132778\n",
       "...                   ...\n",
       "1135  9165571805999894845\n",
       "1136  9187866633451383747\n",
       "1137  9191849144618614467\n",
       "1138  9199170757466086545\n",
       "1139  9210530975708218054\n",
       "\n",
       "[1140 rows x 1 columns]"
      ]
     },
     "execution_count": 236,
     "metadata": {},
     "output_type": "execute_result"
    }
   ],
   "source": [
    "# Users who interected with atleast 5 contents.\n",
    "selected_users"
   ]
  },
  {
   "cell_type": "code",
   "execution_count": 237,
   "metadata": {
    "_cell_guid": "4e79a418-a9d6-4e01-9f38-9b290a645626",
    "_uuid": "0f428a4c6e76f95de7ea328dc33c6539389ae5f0",
    "colab": {
     "base_uri": "https://localhost:8080/"
    },
    "id": "eHLs7SckYwsj",
    "outputId": "de928ddd-bed2-4ca8-aef2-159b68bee2e0"
   },
   "outputs": [
    {
     "data": {
      "text/plain": [
       "(72312, 9)"
      ]
     },
     "execution_count": 237,
     "metadata": {},
     "output_type": "execute_result"
    }
   ],
   "source": [
    "interactions_df.shape"
   ]
  },
  {
   "cell_type": "code",
   "execution_count": 238,
   "metadata": {
    "_cell_guid": "4e79a418-a9d6-4e01-9f38-9b290a645626",
    "_uuid": "0f428a4c6e76f95de7ea328dc33c6539389ae5f0",
    "colab": {
     "base_uri": "https://localhost:8080/"
    },
    "id": "eHLs7SckYwsj",
    "outputId": "de928ddd-bed2-4ca8-aef2-159b68bee2e0"
   },
   "outputs": [],
   "source": [
    "selected_interactions = interactions_df.merge(selected_users, how = 'right',)"
   ]
  },
  {
   "cell_type": "code",
   "execution_count": 239,
   "metadata": {
    "_cell_guid": "4e79a418-a9d6-4e01-9f38-9b290a645626",
    "_uuid": "0f428a4c6e76f95de7ea328dc33c6539389ae5f0",
    "colab": {
     "base_uri": "https://localhost:8080/"
    },
    "id": "eHLs7SckYwsj",
    "outputId": "de928ddd-bed2-4ca8-aef2-159b68bee2e0"
   },
   "outputs": [
    {
     "data": {
      "text/plain": [
       "(69868, 9)"
      ]
     },
     "execution_count": 239,
     "metadata": {},
     "output_type": "execute_result"
    }
   ],
   "source": [
    "selected_interactions.shape"
   ]
  },
  {
   "cell_type": "markdown",
   "metadata": {
    "_cell_guid": "b81f2aae-4672-4ae7-aee5-f2c8f49ed863",
    "_uuid": "db9ae42791a79461ff11a462d142eae3d6c23e88",
    "id": "CCiBEBenYwsk"
   },
   "source": [
    "In Deskdrop, users are allowed to view an article many times, and interact with them in different ways (eg. like or comment). Thus, to model the user interest on a given article, we aggregate all the interactions the user has performed in an item by a weighted sum of interaction type strength and apply a log transformation to smooth the distribution."
   ]
  },
  {
   "cell_type": "code",
   "execution_count": 240,
   "metadata": {
    "colab": {
     "base_uri": "https://localhost:8080/"
    },
    "id": "HzhNA7UgzRPk",
    "outputId": "6806fa76-95e2-46f3-e75d-77687079b8cd"
   },
   "outputs": [
    {
     "data": {
      "text/plain": [
       "personId              contentId           \n",
       "-9223121837663643404  -8949113594875411859    1.0\n",
       "                      -8377626164558006982    1.0\n",
       "                      -8208801367848627943    1.0\n",
       "                      -8187220755213888616    1.0\n",
       "                      -7423191370472335463    8.0\n",
       "                                             ... \n",
       " 9210530975708218054   8477804012624580461    8.5\n",
       "                       8526042588044002101    1.0\n",
       "                       8856169137131817223    1.0\n",
       "                       8869347744613364434    1.0\n",
       "                       9209886322932807692    1.0\n",
       "Name: eventStrength, Length: 39106, dtype: float64"
      ]
     },
     "execution_count": 240,
     "metadata": {},
     "output_type": "execute_result"
    }
   ],
   "source": [
    "selected_interactions.groupby(['personId', 'contentId'])['eventStrength'].sum()"
   ]
  },
  {
   "cell_type": "code",
   "execution_count": 241,
   "metadata": {
    "_cell_guid": "54c82dd1-1102-4f11-ac6a-7993f8e5e842",
    "_uuid": "dcd64b20b47cf2c365341303ff410626a801f7a6",
    "colab": {
     "base_uri": "https://localhost:8080/",
     "height": 380
    },
    "id": "BmIYOPmZYwsk",
    "outputId": "24b3a227-10b2-4e0f-9e51-90e40ec96aeb"
   },
   "outputs": [],
   "source": [
    "def smooth_user_preference(x):\n",
    "    return math.log(1+x, 2)"
   ]
  },
  {
   "cell_type": "code",
   "execution_count": 242,
   "metadata": {
    "_cell_guid": "54c82dd1-1102-4f11-ac6a-7993f8e5e842",
    "_uuid": "dcd64b20b47cf2c365341303ff410626a801f7a6",
    "colab": {
     "base_uri": "https://localhost:8080/",
     "height": 380
    },
    "id": "BmIYOPmZYwsk",
    "outputId": "24b3a227-10b2-4e0f-9e51-90e40ec96aeb"
   },
   "outputs": [],
   "source": [
    "ratings_srs = selected_interactions.groupby(['personId', 'contentId'])['eventStrength'].sum()"
   ]
  },
  {
   "cell_type": "code",
   "execution_count": 243,
   "metadata": {
    "_cell_guid": "54c82dd1-1102-4f11-ac6a-7993f8e5e842",
    "_uuid": "dcd64b20b47cf2c365341303ff410626a801f7a6",
    "colab": {
     "base_uri": "https://localhost:8080/",
     "height": 380
    },
    "id": "BmIYOPmZYwsk",
    "outputId": "24b3a227-10b2-4e0f-9e51-90e40ec96aeb"
   },
   "outputs": [],
   "source": [
    "ratings_df = ratings_srs.apply(smooth_user_preference).reset_index()"
   ]
  },
  {
   "cell_type": "code",
   "execution_count": 244,
   "metadata": {
    "_cell_guid": "54c82dd1-1102-4f11-ac6a-7993f8e5e842",
    "_uuid": "dcd64b20b47cf2c365341303ff410626a801f7a6",
    "colab": {
     "base_uri": "https://localhost:8080/",
     "height": 380
    },
    "id": "BmIYOPmZYwsk",
    "outputId": "24b3a227-10b2-4e0f-9e51-90e40ec96aeb"
   },
   "outputs": [
    {
     "data": {
      "text/plain": [
       "(39106, 3)"
      ]
     },
     "execution_count": 244,
     "metadata": {},
     "output_type": "execute_result"
    }
   ],
   "source": [
    "ratings_df.shape"
   ]
  },
  {
   "cell_type": "code",
   "execution_count": 245,
   "metadata": {
    "scrolled": false
   },
   "outputs": [
    {
     "data": {
      "text/html": [
       "<div>\n",
       "<style scoped>\n",
       "    .dataframe tbody tr th:only-of-type {\n",
       "        vertical-align: middle;\n",
       "    }\n",
       "\n",
       "    .dataframe tbody tr th {\n",
       "        vertical-align: top;\n",
       "    }\n",
       "\n",
       "    .dataframe thead th {\n",
       "        text-align: right;\n",
       "    }\n",
       "</style>\n",
       "<table border=\"1\" class=\"dataframe\">\n",
       "  <thead>\n",
       "    <tr style=\"text-align: right;\">\n",
       "      <th></th>\n",
       "      <th>personId</th>\n",
       "      <th>contentId</th>\n",
       "      <th>eventStrength</th>\n",
       "    </tr>\n",
       "  </thead>\n",
       "  <tbody>\n",
       "    <tr>\n",
       "      <th>0</th>\n",
       "      <td>-9223121837663643404</td>\n",
       "      <td>-8949113594875411859</td>\n",
       "      <td>1.000000</td>\n",
       "    </tr>\n",
       "    <tr>\n",
       "      <th>1</th>\n",
       "      <td>-9223121837663643404</td>\n",
       "      <td>-8377626164558006982</td>\n",
       "      <td>1.000000</td>\n",
       "    </tr>\n",
       "    <tr>\n",
       "      <th>2</th>\n",
       "      <td>-9223121837663643404</td>\n",
       "      <td>-8208801367848627943</td>\n",
       "      <td>1.000000</td>\n",
       "    </tr>\n",
       "    <tr>\n",
       "      <th>3</th>\n",
       "      <td>-9223121837663643404</td>\n",
       "      <td>-8187220755213888616</td>\n",
       "      <td>1.000000</td>\n",
       "    </tr>\n",
       "    <tr>\n",
       "      <th>4</th>\n",
       "      <td>-9223121837663643404</td>\n",
       "      <td>-7423191370472335463</td>\n",
       "      <td>3.169925</td>\n",
       "    </tr>\n",
       "    <tr>\n",
       "      <th>5</th>\n",
       "      <td>-9223121837663643404</td>\n",
       "      <td>-7331393944609614247</td>\n",
       "      <td>1.000000</td>\n",
       "    </tr>\n",
       "    <tr>\n",
       "      <th>6</th>\n",
       "      <td>-9223121837663643404</td>\n",
       "      <td>-6872546942144599345</td>\n",
       "      <td>1.000000</td>\n",
       "    </tr>\n",
       "    <tr>\n",
       "      <th>7</th>\n",
       "      <td>-9223121837663643404</td>\n",
       "      <td>-6728844082024523434</td>\n",
       "      <td>1.000000</td>\n",
       "    </tr>\n",
       "    <tr>\n",
       "      <th>8</th>\n",
       "      <td>-9223121837663643404</td>\n",
       "      <td>-6590819806697898649</td>\n",
       "      <td>1.000000</td>\n",
       "    </tr>\n",
       "    <tr>\n",
       "      <th>9</th>\n",
       "      <td>-9223121837663643404</td>\n",
       "      <td>-6558712014192834002</td>\n",
       "      <td>1.584963</td>\n",
       "    </tr>\n",
       "  </tbody>\n",
       "</table>\n",
       "</div>"
      ],
      "text/plain": [
       "              personId            contentId  eventStrength\n",
       "0 -9223121837663643404 -8949113594875411859       1.000000\n",
       "1 -9223121837663643404 -8377626164558006982       1.000000\n",
       "2 -9223121837663643404 -8208801367848627943       1.000000\n",
       "3 -9223121837663643404 -8187220755213888616       1.000000\n",
       "4 -9223121837663643404 -7423191370472335463       3.169925\n",
       "5 -9223121837663643404 -7331393944609614247       1.000000\n",
       "6 -9223121837663643404 -6872546942144599345       1.000000\n",
       "7 -9223121837663643404 -6728844082024523434       1.000000\n",
       "8 -9223121837663643404 -6590819806697898649       1.000000\n",
       "9 -9223121837663643404 -6558712014192834002       1.584963"
      ]
     },
     "execution_count": 245,
     "metadata": {},
     "output_type": "execute_result"
    }
   ],
   "source": [
    "ratings_df.head(10)"
   ]
  },
  {
   "cell_type": "code",
   "execution_count": 246,
   "metadata": {},
   "outputs": [],
   "source": [
    "interactions_full_df = ratings_df"
   ]
  },
  {
   "cell_type": "markdown",
   "metadata": {
    "_cell_guid": "7db22656-f1b2-4264-b74d-92ef7e03168e",
    "_uuid": "999dac17031a334be5a2245086e9c4655c5e8324",
    "heading_collapsed": true,
    "id": "wC2iUMD7Ywsk"
   },
   "source": [
    "# Evaluation"
   ]
  },
  {
   "cell_type": "markdown",
   "metadata": {
    "_cell_guid": "4c67fc79-fb30-4bb0-837d-a3097bf8b9b4",
    "_uuid": "7951a4fce829b66e1c96ef81fd33b12dac5eae0f",
    "hidden": true,
    "id": "owc-oPlWYwsl"
   },
   "source": [
    "Evaluation is important for machine learning projects, because it allows to compare objectivelly different algorithms and hyperparameter choices for models.  \n",
    "One key aspect of evaluation is to ensure that the trained model generalizes for data it was not trained on, using **Cross-validation** techniques. We are using here a simple cross-validation approach named **holdout**, in which a random data sample (20% in this case) are kept aside in the training process, and exclusively used for evaluation. All evaluation metrics reported here are computed using the **test set**.\n",
    "\n",
    "Ps. A more robust evaluation approach could be to split train and test sets by a reference date, where the train set is composed by all interactions before that date, and the test set are interactions after that date. For the sake of simplicity, we chose the first random approach for this notebook, but you may want to try the second approach to better simulate how the recsys would perform in production predicting \"future\" users interactions."
   ]
  },
  {
   "cell_type": "code",
   "execution_count": 247,
   "metadata": {
    "_cell_guid": "e594a5ef-255a-4d30-9ab2-7cebe12fe798",
    "_uuid": "babda61be5306281b34422dbded67675a0aab17d",
    "colab": {
     "base_uri": "https://localhost:8080/"
    },
    "hidden": true,
    "id": "tOut6fFHYwsl",
    "outputId": "d077595e-e2f4-4fa3-9acb-a6bb3314b60b"
   },
   "outputs": [],
   "source": [
    "ratings_trn_df, ratings_test_df = train_test_split(ratings_df,\n",
    "                                   stratify=interactions_full_df['personId'], \n",
    "                                   test_size=0.20,\n",
    "                                   random_state=42)"
   ]
  },
  {
   "cell_type": "markdown",
   "metadata": {
    "_cell_guid": "be788cfc-2733-4184-8dfb-24d789e3b7da",
    "_uuid": "9a1ce40c5b2b7f89c2e34a8fce1adbeb0cfabf46",
    "hidden": true,
    "id": "CU3sfeOiYwsl"
   },
   "source": [
    "In Recommender Systems, there are a set metrics commonly used for evaluation. We chose to work with **Top-N accuracy metrics**, which evaluates the accuracy of the top recommendations provided to a user, comparing to the items the user has actually interacted in test set.  \n",
    "This evaluation method works as follows:\n",
    "\n",
    "* For each user\n",
    "    * For each item the user has interacted in test set\n",
    "        * Sample 100 other items the user has never interacted.   \n",
    "        Ps. Here we naively assume those non interacted items are not relevant to the user, which might not be true, as the user may simply not be aware of those not interacted items. But let's keep this assumption.\n",
    "        * Ask the recommender model to produce a ranked list of recommended items, from a set composed one interacted item and the 100 non-interacted (\"non-relevant!) items\n",
    "        * Compute the Top-N accuracy metrics for this user and interacted item from the recommendations ranked list\n",
    "* Aggregate the global Top-N accuracy metrics"
   ]
  },
  {
   "cell_type": "markdown",
   "metadata": {
    "_cell_guid": "a6f711db-3848-42de-9cb1-8adbe9fffbbd",
    "_uuid": "cb9da9e9269f20d347c9a7d0320da02f5b5d9cda",
    "hidden": true,
    "id": "YTYdrIiiYwsl"
   },
   "source": [
    "The Top-N accuracy metric choosen was **Recall@N** which evaluates whether the interacted item is among the top N items (hit) in the ranked list of 101 recommendations for a user.  \n",
    "Ps. Other popular ranking metrics are **NDCG@N** and **MAP@N**, whose score calculation takes into account the position of the relevant item in the ranked list (max. value if relevant item is in the first position). You can find a reference to implement this metrics in this [post](http://fastml.com/evaluating-recommender-systems/)."
   ]
  },
  {
   "cell_type": "code",
   "execution_count": 248,
   "metadata": {
    "_cell_guid": "5f08b8ac-00c7-43db-89b6-4c6637f92ec5",
    "_uuid": "b97d86eb838b7dc3ce70ce2bc460b37f643fbcbb",
    "hidden": true,
    "id": "jL6YY1oFYwsm"
   },
   "outputs": [],
   "source": [
    "# Indexing by personId to speed up the searches during evaluation\n",
    "ratings_df_idx = ratings_df.set_index('personId')\n",
    "ratings_trn = ratings_trn_df.set_index('personId')\n",
    "ratings_test = ratings_test_df.set_index('personId')"
   ]
  },
  {
   "cell_type": "code",
   "execution_count": 249,
   "metadata": {
    "hidden": true
   },
   "outputs": [
    {
     "data": {
      "text/html": [
       "<div>\n",
       "<style scoped>\n",
       "    .dataframe tbody tr th:only-of-type {\n",
       "        vertical-align: middle;\n",
       "    }\n",
       "\n",
       "    .dataframe tbody tr th {\n",
       "        vertical-align: top;\n",
       "    }\n",
       "\n",
       "    .dataframe thead th {\n",
       "        text-align: right;\n",
       "    }\n",
       "</style>\n",
       "<table border=\"1\" class=\"dataframe\">\n",
       "  <thead>\n",
       "    <tr style=\"text-align: right;\">\n",
       "      <th></th>\n",
       "      <th>contentId</th>\n",
       "      <th>eventStrength</th>\n",
       "    </tr>\n",
       "    <tr>\n",
       "      <th>personId</th>\n",
       "      <th></th>\n",
       "      <th></th>\n",
       "    </tr>\n",
       "  </thead>\n",
       "  <tbody>\n",
       "    <tr>\n",
       "      <th>-9223121837663643404</th>\n",
       "      <td>-8949113594875411859</td>\n",
       "      <td>1.000000</td>\n",
       "    </tr>\n",
       "    <tr>\n",
       "      <th>-9223121837663643404</th>\n",
       "      <td>-8377626164558006982</td>\n",
       "      <td>1.000000</td>\n",
       "    </tr>\n",
       "    <tr>\n",
       "      <th>-9223121837663643404</th>\n",
       "      <td>-8208801367848627943</td>\n",
       "      <td>1.000000</td>\n",
       "    </tr>\n",
       "    <tr>\n",
       "      <th>-9223121837663643404</th>\n",
       "      <td>-8187220755213888616</td>\n",
       "      <td>1.000000</td>\n",
       "    </tr>\n",
       "    <tr>\n",
       "      <th>-9223121837663643404</th>\n",
       "      <td>-7423191370472335463</td>\n",
       "      <td>3.169925</td>\n",
       "    </tr>\n",
       "  </tbody>\n",
       "</table>\n",
       "</div>"
      ],
      "text/plain": [
       "                                contentId  eventStrength\n",
       "personId                                                \n",
       "-9223121837663643404 -8949113594875411859       1.000000\n",
       "-9223121837663643404 -8377626164558006982       1.000000\n",
       "-9223121837663643404 -8208801367848627943       1.000000\n",
       "-9223121837663643404 -8187220755213888616       1.000000\n",
       "-9223121837663643404 -7423191370472335463       3.169925"
      ]
     },
     "execution_count": 249,
     "metadata": {},
     "output_type": "execute_result"
    }
   ],
   "source": [
    "ratings_df_idx.head()"
   ]
  },
  {
   "cell_type": "code",
   "execution_count": 250,
   "metadata": {
    "colab": {
     "base_uri": "https://localhost:8080/"
    },
    "hidden": true,
    "id": "YMZb69GcsbuB",
    "outputId": "37ade224-506b-4438-f2ea-f5cffc4d86db"
   },
   "outputs": [
    {
     "data": {
      "text/plain": [
       "((31284, 2), (7822, 2))"
      ]
     },
     "execution_count": 250,
     "metadata": {},
     "output_type": "execute_result"
    }
   ],
   "source": [
    "ratings_trn.shape, ratings_test.shape"
   ]
  },
  {
   "cell_type": "code",
   "execution_count": 251,
   "metadata": {
    "hidden": true
   },
   "outputs": [
    {
     "data": {
      "text/html": [
       "<div>\n",
       "<style scoped>\n",
       "    .dataframe tbody tr th:only-of-type {\n",
       "        vertical-align: middle;\n",
       "    }\n",
       "\n",
       "    .dataframe tbody tr th {\n",
       "        vertical-align: top;\n",
       "    }\n",
       "\n",
       "    .dataframe thead th {\n",
       "        text-align: right;\n",
       "    }\n",
       "</style>\n",
       "<table border=\"1\" class=\"dataframe\">\n",
       "  <thead>\n",
       "    <tr style=\"text-align: right;\">\n",
       "      <th></th>\n",
       "      <th>contentId</th>\n",
       "      <th>eventStrength</th>\n",
       "    </tr>\n",
       "    <tr>\n",
       "      <th>personId</th>\n",
       "      <th></th>\n",
       "      <th></th>\n",
       "    </tr>\n",
       "  </thead>\n",
       "  <tbody>\n",
       "    <tr>\n",
       "      <th>-9223121837663643404</th>\n",
       "      <td>-730957269757756529</td>\n",
       "      <td>1.0</td>\n",
       "    </tr>\n",
       "    <tr>\n",
       "      <th>-9223121837663643404</th>\n",
       "      <td>-8377626164558006982</td>\n",
       "      <td>1.0</td>\n",
       "    </tr>\n",
       "    <tr>\n",
       "      <th>-9223121837663643404</th>\n",
       "      <td>5211673327552264703</td>\n",
       "      <td>1.0</td>\n",
       "    </tr>\n",
       "    <tr>\n",
       "      <th>-9223121837663643404</th>\n",
       "      <td>921770761777842242</td>\n",
       "      <td>1.0</td>\n",
       "    </tr>\n",
       "    <tr>\n",
       "      <th>-9223121837663643404</th>\n",
       "      <td>-3750879736572068916</td>\n",
       "      <td>1.0</td>\n",
       "    </tr>\n",
       "  </tbody>\n",
       "</table>\n",
       "</div>"
      ],
      "text/plain": [
       "                                contentId  eventStrength\n",
       "personId                                                \n",
       "-9223121837663643404  -730957269757756529            1.0\n",
       "-9223121837663643404 -8377626164558006982            1.0\n",
       "-9223121837663643404  5211673327552264703            1.0\n",
       "-9223121837663643404   921770761777842242            1.0\n",
       "-9223121837663643404 -3750879736572068916            1.0"
      ]
     },
     "execution_count": 251,
     "metadata": {},
     "output_type": "execute_result"
    }
   ],
   "source": [
    "ratings_trn.loc[-9223121837663643404][0: 5]"
   ]
  },
  {
   "cell_type": "code",
   "execution_count": null,
   "metadata": {
    "hidden": true
   },
   "outputs": [],
   "source": []
  },
  {
   "cell_type": "code",
   "execution_count": 252,
   "metadata": {
    "_cell_guid": "3ee4bdf5-fcde-418f-accc-c51421a71d75",
    "_uuid": "4c008550d5312b45c1786407cce587eaf19b565c",
    "hidden": true,
    "id": "r5eFiMSaYwsm"
   },
   "outputs": [],
   "source": [
    "def get_items_interacted(person_id, ratings_df):\n",
    "    # Get the user's data and merge in the content information.\n",
    "    interacted_items = ratings_df.loc[person_id]['contentId']\n",
    "    return set(interacted_items if type(interacted_items) == pd.Series else [interacted_items])"
   ]
  },
  {
   "cell_type": "code",
   "execution_count": 253,
   "metadata": {
    "_cell_guid": "0e0639e7-4041-473d-a090-cd0087ce92c3",
    "_uuid": "c9612b159a8d626fe986586230b829ce2e93aff7",
    "code_folding": [],
    "hidden": true,
    "id": "RfOqzkq2Ywsm"
   },
   "outputs": [],
   "source": [
    "# Top-N accuracy metrics consts\n",
    "NUM_NON_INTERACTED_ITEMS = 100\n",
    "\n",
    "class ModelEvaluator:\n",
    "\n",
    "    def get_not_interacted_items_sample(self, person_id, sample_size, seed=42):\n",
    "        interacted_items = get_items_interacted(person_id, ratings_df_idx)\n",
    "        all_items = set(articles_df['contentId'])\n",
    "        non_interacted_items = all_items - interacted_items\n",
    "\n",
    "        random.seed(seed)\n",
    "        non_interacted_items = random.sample(non_interacted_items, sample_size)\n",
    "        return set(non_interacted_items)\n",
    "\n",
    "    def _verify_hit_top_n(self, item_id, recommended_items, topn):\n",
    "            try:\n",
    "                index = next(i for i, c in enumerate(recommended_items) if c == item_id)\n",
    "            except:\n",
    "                index = -1\n",
    "            hit = int(index in range(0, topn))\n",
    "            return hit, index\n",
    "\n",
    "    def evaluate_model_for_user(self, model, person_id):\n",
    "        # Getting the items in test set\n",
    "        person_ratings_test = ratings_test.loc[person_id]\n",
    "        if type(person_ratings_test['contentId']) == pd.Series:\n",
    "            person_items = set(person_ratings_test['contentId'])\n",
    "        else:\n",
    "            person_items = set([int(person_ratings_test['contentId'])])  \n",
    "        \n",
    "        person_items_count = len(person_items) \n",
    "\n",
    "        # Getting a ranked recommendation list from a model for a given user\n",
    "        person_recs_df = model.recommend_items(\n",
    "            person_id, items_to_ignore=get_items_interacted(person_id, \n",
    "            ratings_trn), topn=10_000_000_000\n",
    "        )\n",
    "\n",
    "        hits_at_5_count = 0\n",
    "        hits_at_10_count = 0\n",
    "        \n",
    "        # For each item the user has interacted in test set\n",
    "        for item_id in person_items:\n",
    "            # Getting a random sample (100) items the user has not interacted \n",
    "            # (to represent items that are assumed to be no relevant to the user)\n",
    "            non_interacted_items_sample = self.get_not_interacted_items_sample(\n",
    "                person_id, sample_size=NUM_NON_INTERACTED_ITEMS, seed=item_id%(2**32)\n",
    "            )\n",
    "\n",
    "            # Combining the current interacted item with the 100 random items\n",
    "            items_to_filter_recs = non_interacted_items_sample.union(set([item_id]))\n",
    "\n",
    "            # Filtering only recommendations that are either the interacted item or from a random sample of 100 non-interacted items\n",
    "            valid_recs_df = person_recs_df[person_recs_df['contentId'].isin(items_to_filter_recs)]                    \n",
    "            valid_recs = valid_recs_df['contentId'].values\n",
    "            # Verifying if the current interacted item is among the Top-N recommended items\n",
    "            hit_at_5, index_at_5 = self._verify_hit_top_n(item_id, valid_recs, 5)\n",
    "            hits_at_5_count += hit_at_5\n",
    "            hit_at_10, index_at_10 = self._verify_hit_top_n(item_id, valid_recs, 10)\n",
    "            hits_at_10_count += hit_at_10\n",
    "\n",
    "        # Recall is the rate of the interacted items that are ranked among the Top-N recommended items, \n",
    "        # when mixed with a set of non-relevant items\n",
    "        recall_at_5 = hits_at_5_count / float(person_items_count)\n",
    "        recall_at_10 = hits_at_10_count / float(person_items_count)\n",
    "\n",
    "        person_metrics = {'hits@5_count'    : hits_at_5_count, \n",
    "                          'hits@10_count'   : hits_at_10_count, \n",
    "                          'interacted_count': person_items_count,\n",
    "                          'recall@5'        : recall_at_5,\n",
    "                          'recall@10'       : recall_at_10}\n",
    "        return person_metrics\n",
    "\n",
    "    def evaluate_model(self, model):\n",
    "        # print('Running evaluation for users')\n",
    "        people_metrics = []\n",
    "        for idx, person_id in enumerate(list(ratings_test.index.unique().values)):\n",
    "            #if idx % 100 == 0 and idx > 0:\n",
    "            #    print('%d users processed' % idx)\n",
    "            person_metrics = self.evaluate_model_for_user(model, person_id)  \n",
    "            person_metrics['_person_id'] = person_id\n",
    "            people_metrics.append(person_metrics)\n",
    "        print('%d users processed' % idx)\n",
    "\n",
    "        detailed_results_df = pd.DataFrame(people_metrics) \\\n",
    "                            .sort_values('interacted_count', ascending=False)\n",
    "        \n",
    "        global_recall_at_5 = detailed_results_df['hits@5_count'].sum() / float(detailed_results_df['interacted_count'].sum())\n",
    "        global_recall_at_10 = detailed_results_df['hits@10_count'].sum() / float(detailed_results_df['interacted_count'].sum())\n",
    "        \n",
    "        global_metrics = {'modelName': model.get_model_name(),\n",
    "                          'recall@5': global_recall_at_5,\n",
    "                          'recall@10': global_recall_at_10}    \n",
    "        return global_metrics, detailed_results_df  "
   ]
  },
  {
   "cell_type": "code",
   "execution_count": 254,
   "metadata": {
    "hidden": true,
    "id": "FmY8o_W32OSB"
   },
   "outputs": [],
   "source": [
    "model_evaluator = ModelEvaluator()  "
   ]
  },
  {
   "cell_type": "markdown",
   "metadata": {
    "_cell_guid": "2fac2a15-cc5c-4f31-8818-8065b0d2dc16",
    "_uuid": "59dd2131949c4d7e801114bffc11fb439c930b4c",
    "heading_collapsed": true,
    "id": "g7WVucKxYwsn"
   },
   "source": [
    "# Popularity model"
   ]
  },
  {
   "cell_type": "markdown",
   "metadata": {
    "_cell_guid": "4e6ee0fc-a695-4e0e-8548-321109f2a6fb",
    "_uuid": "a1af9bca32a056b9ea7e265531dfd52bad29c0b5",
    "hidden": true,
    "id": "rJs2emZDYwsn"
   },
   "source": [
    "A common (and usually hard-to-beat) baseline approach is the Popularity model. This model is not actually personalized - it simply recommends to a user the most popular items that the user has not previously consumed. As the popularity accounts for the \"wisdom of the crowds\", it usually provides good recommendations, generally interesting for most people.   \n",
    "Ps. The main objective of a recommender system is to leverage the long-tail items to the users with very specific interests, which goes far beyond this simple technique."
   ]
  },
  {
   "cell_type": "code",
   "execution_count": 255,
   "metadata": {
    "hidden": true
   },
   "outputs": [
    {
     "data": {
      "text/plain": [
       "contentId\n",
       "-9222795471790223670    15.089906\n",
       "-9216926795620865886    13.754888\n",
       "-9194572880052200111    24.767202\n",
       "-9192549002213406534    52.339850\n",
       "-9190737901804729417     6.643856\n",
       "                          ...    \n",
       " 9213260650272029784     8.584963\n",
       " 9215261273565326920    22.674053\n",
       " 9217155070834564627    11.044394\n",
       " 9220445660318725468    38.884171\n",
       " 9222265156747237864     5.000000\n",
       "Name: eventStrength, Length: 2984, dtype: float64"
      ]
     },
     "execution_count": 255,
     "metadata": {},
     "output_type": "execute_result"
    }
   ],
   "source": [
    "interactions_full_df.groupby('contentId')['eventStrength'].sum()"
   ]
  },
  {
   "cell_type": "code",
   "execution_count": 256,
   "metadata": {
    "_cell_guid": "9f525720-8c11-462c-82d8-764f36470e89",
    "_uuid": "c3e52a16c288e002c2e7e2e019139491bc01b782",
    "colab": {
     "base_uri": "https://localhost:8080/",
     "height": 363
    },
    "hidden": true,
    "id": "tqGcnIV7Ywsn",
    "outputId": "c0fddd71-0b80-40ae-b5b4-b5e0a5834f7f"
   },
   "outputs": [
    {
     "data": {
      "text/html": [
       "<div>\n",
       "<style scoped>\n",
       "    .dataframe tbody tr th:only-of-type {\n",
       "        vertical-align: middle;\n",
       "    }\n",
       "\n",
       "    .dataframe tbody tr th {\n",
       "        vertical-align: top;\n",
       "    }\n",
       "\n",
       "    .dataframe thead th {\n",
       "        text-align: right;\n",
       "    }\n",
       "</style>\n",
       "<table border=\"1\" class=\"dataframe\">\n",
       "  <thead>\n",
       "    <tr style=\"text-align: right;\">\n",
       "      <th></th>\n",
       "      <th>contentId</th>\n",
       "      <th>eventStrength</th>\n",
       "    </tr>\n",
       "  </thead>\n",
       "  <tbody>\n",
       "    <tr>\n",
       "      <th>0</th>\n",
       "      <td>-4029704725707465084</td>\n",
       "      <td>307.733799</td>\n",
       "    </tr>\n",
       "    <tr>\n",
       "      <th>1</th>\n",
       "      <td>-6783772548752091658</td>\n",
       "      <td>233.762157</td>\n",
       "    </tr>\n",
       "    <tr>\n",
       "      <th>2</th>\n",
       "      <td>-133139342397538859</td>\n",
       "      <td>228.024567</td>\n",
       "    </tr>\n",
       "    <tr>\n",
       "      <th>3</th>\n",
       "      <td>-8208801367848627943</td>\n",
       "      <td>197.107608</td>\n",
       "    </tr>\n",
       "    <tr>\n",
       "      <th>4</th>\n",
       "      <td>-6843047699859121724</td>\n",
       "      <td>193.825208</td>\n",
       "    </tr>\n",
       "    <tr>\n",
       "      <th>5</th>\n",
       "      <td>8224860111193157980</td>\n",
       "      <td>189.044680</td>\n",
       "    </tr>\n",
       "    <tr>\n",
       "      <th>6</th>\n",
       "      <td>-2358756719610361882</td>\n",
       "      <td>183.110951</td>\n",
       "    </tr>\n",
       "    <tr>\n",
       "      <th>7</th>\n",
       "      <td>2581138407738454418</td>\n",
       "      <td>180.282876</td>\n",
       "    </tr>\n",
       "    <tr>\n",
       "      <th>8</th>\n",
       "      <td>7507067965574797372</td>\n",
       "      <td>179.094002</td>\n",
       "    </tr>\n",
       "    <tr>\n",
       "      <th>9</th>\n",
       "      <td>1469580151036142903</td>\n",
       "      <td>170.548969</td>\n",
       "    </tr>\n",
       "  </tbody>\n",
       "</table>\n",
       "</div>"
      ],
      "text/plain": [
       "             contentId  eventStrength\n",
       "0 -4029704725707465084     307.733799\n",
       "1 -6783772548752091658     233.762157\n",
       "2  -133139342397538859     228.024567\n",
       "3 -8208801367848627943     197.107608\n",
       "4 -6843047699859121724     193.825208\n",
       "5  8224860111193157980     189.044680\n",
       "6 -2358756719610361882     183.110951\n",
       "7  2581138407738454418     180.282876\n",
       "8  7507067965574797372     179.094002\n",
       "9  1469580151036142903     170.548969"
      ]
     },
     "execution_count": 256,
     "metadata": {},
     "output_type": "execute_result"
    }
   ],
   "source": [
    "# Computes the most popular items\n",
    "item_popularity_df = interactions_full_df.groupby('contentId')['eventStrength'].sum().sort_values(ascending=False).reset_index()\n",
    "item_popularity_df.head(10)"
   ]
  },
  {
   "cell_type": "code",
   "execution_count": 257,
   "metadata": {
    "_cell_guid": "cdd99856-fae2-4d32-ab54-cb6cf4201503",
    "_uuid": "58a6d3de74a911a005bb8911f9c1374673d2b008",
    "code_folding": [],
    "hidden": true,
    "id": "CdpHPz13Ywso"
   },
   "outputs": [],
   "source": [
    "class PopularityRecommender:\n",
    "    \n",
    "    MODEL_NAME = 'Popularity'\n",
    "    \n",
    "    def __init__(self, popularity_df, items_df=None):\n",
    "        self.popularity_df = popularity_df\n",
    "        self.items_df = items_df\n",
    "        \n",
    "    def get_model_name(self):\n",
    "        return self.MODEL_NAME\n",
    "        \n",
    "    def recommend_items(self, user_id, items_to_ignore=[], topn=10, verbose=False):\n",
    "        # Recommend the more popular items that the user hasn't seen yet.\n",
    "        recommendations_df = self.popularity_df[~self.popularity_df['contentId'].isin(items_to_ignore)] \\\n",
    "                               .sort_values('eventStrength', ascending = False) \\\n",
    "                               .head(topn)\n",
    "\n",
    "        if verbose:\n",
    "            if self.items_df is None:\n",
    "                raise Exception('\"items_df\" is required in verbose mode')\n",
    "\n",
    "            recommendations_df = recommendations_df.merge(self.items_df, how = 'left', \n",
    "                                                          left_on = 'contentId', \n",
    "                                                          right_on = 'contentId')[['eventStrength', 'contentId', 'title', 'url', 'lang']]\n",
    "\n",
    "\n",
    "        return recommendations_df"
   ]
  },
  {
   "cell_type": "code",
   "execution_count": 258,
   "metadata": {
    "hidden": true,
    "id": "is8oyIsw2txq"
   },
   "outputs": [],
   "source": [
    "popularity_model = PopularityRecommender(item_popularity_df, articles_df)"
   ]
  },
  {
   "cell_type": "markdown",
   "metadata": {
    "_cell_guid": "b48e3738-fccc-492c-9419-c1ef3d67f888",
    "_uuid": "23f97cc1b45f8a9d0b51e031e892c240fe3948eb",
    "hidden": true,
    "id": "vRQg6sWfYwso"
   },
   "source": [
    "Here we perform the evaluation of the Popularity model, according to the method described above.  \n",
    "It achieved the **Recall@5** of **0.2417**, which means that about **24%** of interacted items in test set were ranked by Popularity model among the top-5 items (from lists with 100 random items). And **Recall@10** was even higher (**37%**), as expected.  \n",
    "It might be surprising to you that usually Popularity models could perform so well!"
   ]
  },
  {
   "cell_type": "code",
   "execution_count": 259,
   "metadata": {
    "_cell_guid": "f2bc6291-5728-465e-a45d-7e064f4b35c6",
    "_uuid": "d6a3d8ab0913ee85399fb0a948a3e4b01b173a56",
    "colab": {
     "base_uri": "https://localhost:8080/"
    },
    "hidden": true,
    "id": "LvTwyTYgYwso",
    "outputId": "9d71b7c2-2f2b-422c-90ed-e18f21fd3f5a"
   },
   "outputs": [
    {
     "name": "stdout",
     "output_type": "stream",
     "text": [
      "Evaluating Popularity recommendation model...\n",
      "1139 users processed\n"
     ]
    }
   ],
   "source": [
    "print('Evaluating Popularity recommendation model...')\n",
    "pop_global_metrics, pop_detailed_results_df = model_evaluator.evaluate_model(popularity_model)"
   ]
  },
  {
   "cell_type": "code",
   "execution_count": 260,
   "metadata": {
    "colab": {
     "base_uri": "https://localhost:8080/",
     "height": 415
    },
    "hidden": true,
    "id": "0zrqAT613DRw",
    "outputId": "cbf9367a-ca8e-4b66-d1ee-e4fbbe9e5d77"
   },
   "outputs": [
    {
     "name": "stdout",
     "output_type": "stream",
     "text": [
      "\n",
      "Global metrics:\n",
      "{'modelName': 'Popularity', 'recall@5': 0.2418818716440808, 'recall@10': 0.3725389925850166}\n"
     ]
    },
    {
     "data": {
      "text/html": [
       "<div>\n",
       "<style scoped>\n",
       "    .dataframe tbody tr th:only-of-type {\n",
       "        vertical-align: middle;\n",
       "    }\n",
       "\n",
       "    .dataframe tbody tr th {\n",
       "        vertical-align: top;\n",
       "    }\n",
       "\n",
       "    .dataframe thead th {\n",
       "        text-align: right;\n",
       "    }\n",
       "</style>\n",
       "<table border=\"1\" class=\"dataframe\">\n",
       "  <thead>\n",
       "    <tr style=\"text-align: right;\">\n",
       "      <th></th>\n",
       "      <th>hits@5_count</th>\n",
       "      <th>hits@10_count</th>\n",
       "      <th>interacted_count</th>\n",
       "      <th>recall@5</th>\n",
       "      <th>recall@10</th>\n",
       "      <th>_person_id</th>\n",
       "    </tr>\n",
       "  </thead>\n",
       "  <tbody>\n",
       "    <tr>\n",
       "      <th>76</th>\n",
       "      <td>28</td>\n",
       "      <td>50</td>\n",
       "      <td>192</td>\n",
       "      <td>0.145833</td>\n",
       "      <td>0.260417</td>\n",
       "      <td>3609194402293569455</td>\n",
       "    </tr>\n",
       "    <tr>\n",
       "      <th>17</th>\n",
       "      <td>12</td>\n",
       "      <td>25</td>\n",
       "      <td>134</td>\n",
       "      <td>0.089552</td>\n",
       "      <td>0.186567</td>\n",
       "      <td>-2626634673110551643</td>\n",
       "    </tr>\n",
       "    <tr>\n",
       "      <th>16</th>\n",
       "      <td>13</td>\n",
       "      <td>23</td>\n",
       "      <td>130</td>\n",
       "      <td>0.100000</td>\n",
       "      <td>0.176923</td>\n",
       "      <td>-1032019229384696495</td>\n",
       "    </tr>\n",
       "    <tr>\n",
       "      <th>10</th>\n",
       "      <td>5</td>\n",
       "      <td>9</td>\n",
       "      <td>117</td>\n",
       "      <td>0.042735</td>\n",
       "      <td>0.076923</td>\n",
       "      <td>-1443636648652872475</td>\n",
       "    </tr>\n",
       "    <tr>\n",
       "      <th>82</th>\n",
       "      <td>26</td>\n",
       "      <td>40</td>\n",
       "      <td>88</td>\n",
       "      <td>0.295455</td>\n",
       "      <td>0.454545</td>\n",
       "      <td>-2979881261169775358</td>\n",
       "    </tr>\n",
       "    <tr>\n",
       "      <th>161</th>\n",
       "      <td>12</td>\n",
       "      <td>18</td>\n",
       "      <td>80</td>\n",
       "      <td>0.150000</td>\n",
       "      <td>0.225000</td>\n",
       "      <td>-3596626804281480007</td>\n",
       "    </tr>\n",
       "    <tr>\n",
       "      <th>65</th>\n",
       "      <td>20</td>\n",
       "      <td>34</td>\n",
       "      <td>73</td>\n",
       "      <td>0.273973</td>\n",
       "      <td>0.465753</td>\n",
       "      <td>1116121227607581999</td>\n",
       "    </tr>\n",
       "    <tr>\n",
       "      <th>81</th>\n",
       "      <td>17</td>\n",
       "      <td>23</td>\n",
       "      <td>69</td>\n",
       "      <td>0.246377</td>\n",
       "      <td>0.333333</td>\n",
       "      <td>692689608292948411</td>\n",
       "    </tr>\n",
       "    <tr>\n",
       "      <th>106</th>\n",
       "      <td>14</td>\n",
       "      <td>18</td>\n",
       "      <td>69</td>\n",
       "      <td>0.202899</td>\n",
       "      <td>0.260870</td>\n",
       "      <td>-9016528795238256703</td>\n",
       "    </tr>\n",
       "    <tr>\n",
       "      <th>52</th>\n",
       "      <td>21</td>\n",
       "      <td>28</td>\n",
       "      <td>68</td>\n",
       "      <td>0.308824</td>\n",
       "      <td>0.411765</td>\n",
       "      <td>3636910968448833585</td>\n",
       "    </tr>\n",
       "  </tbody>\n",
       "</table>\n",
       "</div>"
      ],
      "text/plain": [
       "     hits@5_count  hits@10_count  interacted_count  recall@5  recall@10  \\\n",
       "76             28             50               192  0.145833   0.260417   \n",
       "17             12             25               134  0.089552   0.186567   \n",
       "16             13             23               130  0.100000   0.176923   \n",
       "10              5              9               117  0.042735   0.076923   \n",
       "82             26             40                88  0.295455   0.454545   \n",
       "161            12             18                80  0.150000   0.225000   \n",
       "65             20             34                73  0.273973   0.465753   \n",
       "81             17             23                69  0.246377   0.333333   \n",
       "106            14             18                69  0.202899   0.260870   \n",
       "52             21             28                68  0.308824   0.411765   \n",
       "\n",
       "              _person_id  \n",
       "76   3609194402293569455  \n",
       "17  -2626634673110551643  \n",
       "16  -1032019229384696495  \n",
       "10  -1443636648652872475  \n",
       "82  -2979881261169775358  \n",
       "161 -3596626804281480007  \n",
       "65   1116121227607581999  \n",
       "81    692689608292948411  \n",
       "106 -9016528795238256703  \n",
       "52   3636910968448833585  "
      ]
     },
     "execution_count": 260,
     "metadata": {},
     "output_type": "execute_result"
    }
   ],
   "source": [
    "print('\\nGlobal metrics:\\n%s' % pop_global_metrics)\n",
    "pop_detailed_results_df.head(10)"
   ]
  },
  {
   "cell_type": "markdown",
   "metadata": {
    "_cell_guid": "96005510-c4ac-41c4-b60d-cb2ded15a71a",
    "_uuid": "ddb5580ac46252c2fde764a72a0d7b34c652e4d8",
    "id": "41UhNKXnYwso"
   },
   "source": [
    "# Content-Based Filtering model"
   ]
  },
  {
   "cell_type": "markdown",
   "metadata": {},
   "source": [
    "- [Lecture 42 — Content Based Recommendations | Stanford University](https://www.youtube.com/watch?v=2uxXPzm-7FY&list=PLLssT5z_DsK9JDLcT8T62VtzwyW9LNepV&index=42)"
   ]
  },
  {
   "cell_type": "markdown",
   "metadata": {
    "_cell_guid": "20749719-df2b-41ed-970d-a682777d26bd",
    "_uuid": "cd82970851a3b35155770dc48c85f8721f970df9",
    "id": "HXoY1ODUYwsp"
   },
   "source": [
    "Content-based filtering approaches leverage description or attributes from items the user has interacted to recommend similar items. It depends only on the user previous choices, making this method robust to avoid the *cold-start* problem.\n",
    "For textual items, like articles, news and books, it is simple to use the raw text to build item profiles and user profiles.  \n",
    "Here we are using a very popular technique in information retrieval (search engines) named [TF-IDF](https://en.wikipedia.org/wiki/Tf%E2%80%93idf). This technique converts unstructured text into a vector structure, where each word is represented by a position in the vector, and the value measures how relevant a given word is for an article. As all items will be represented in the same [Vector Space Model](https://en.wikipedia.org/wiki/Vector_space_model), it is to compute similarity between articles.  \n",
    "See this [presentation](https://www.slideshare.net/gabrielspmoreira/discovering-users-topics-of-interest-in-recommender-systems-tdc-sp-2016) (from slide 30) for more information on TF-IDF and Cosine similarity."
   ]
  },
  {
   "cell_type": "markdown",
   "metadata": {
    "heading_collapsed": true
   },
   "source": [
    "## Data Preparation"
   ]
  },
  {
   "cell_type": "code",
   "execution_count": 261,
   "metadata": {
    "hidden": true
   },
   "outputs": [],
   "source": [
    "# (articles_df['title'] + \"\" + articles_df['text']).iloc[0]"
   ]
  },
  {
   "cell_type": "code",
   "execution_count": 262,
   "metadata": {
    "_cell_guid": "aebda143-fc54-4bba-8e32-6919902d6af2",
    "_uuid": "8a623643872e9d09701cd1d0ce9dee4163279f3d",
    "hidden": true,
    "id": "Yf0ktPHnYwsp"
   },
   "outputs": [],
   "source": [
    "# Ignoring stopwords (words with no semantics) from English and Portuguese (as we have a corpus with mixed languages)\n",
    "stopwords_list = stopwords.words('english') + stopwords.words('portuguese')\n",
    "\n",
    "# Trains a model whose vectors size is 5000, composed by the main unigrams and bigrams found in the corpus, ignoring stopwords\n",
    "vectorizer = TfidfVectorizer(analyzer='word',\n",
    "                     ngram_range=(1, 2),\n",
    "                     min_df=0.003,\n",
    "                     max_df=0.5,\n",
    "                     max_features=5000,\n",
    "                     stop_words=stopwords_list)"
   ]
  },
  {
   "cell_type": "code",
   "execution_count": 263,
   "metadata": {
    "_cell_guid": "aebda143-fc54-4bba-8e32-6919902d6af2",
    "_uuid": "8a623643872e9d09701cd1d0ce9dee4163279f3d",
    "hidden": true,
    "id": "Yf0ktPHnYwsp"
   },
   "outputs": [],
   "source": [
    "tfidf_matrix : scipy.sparse.csr.csr_matrix = vectorizer.fit_transform(articles_df['title'] + \"\" + articles_df['text'])\n",
    "tfidf_feature_names = vectorizer.get_feature_names()\n",
    "tfidf_matrix\n",
    "item_ids: list = articles_df['contentId'].tolist()"
   ]
  },
  {
   "cell_type": "code",
   "execution_count": 264,
   "metadata": {
    "hidden": true
   },
   "outputs": [
    {
     "data": {
      "text/plain": [
       "5000"
      ]
     },
     "execution_count": 264,
     "metadata": {},
     "output_type": "execute_result"
    }
   ],
   "source": [
    "len(tfidf_feature_names)"
   ]
  },
  {
   "cell_type": "code",
   "execution_count": 265,
   "metadata": {
    "hidden": true
   },
   "outputs": [],
   "source": [
    "# tfidf_feature_names"
   ]
  },
  {
   "cell_type": "code",
   "execution_count": 266,
   "metadata": {
    "hidden": true
   },
   "outputs": [
    {
     "data": {
      "text/plain": [
       "<3047x5000 sparse matrix of type '<class 'numpy.float64'>'\n",
       "\twith 638928 stored elements in Compressed Sparse Row format>"
      ]
     },
     "execution_count": 266,
     "metadata": {},
     "output_type": "execute_result"
    }
   ],
   "source": [
    "tfidf_matrix"
   ]
  },
  {
   "cell_type": "markdown",
   "metadata": {
    "heading_collapsed": true,
    "hidden": true
   },
   "source": [
    "### Build Profile for Each User"
   ]
  },
  {
   "cell_type": "markdown",
   "metadata": {
    "_cell_guid": "e265ff20-06d7-4daf-9c45-6d141c176820",
    "_uuid": "cb7221c8d676387647cdd049e2b096c9f2c1b6a0",
    "hidden": true,
    "id": "yBj0MQEJYwsp"
   },
   "source": [
    "To model the user profile, we take all the item profiles the user has interacted and average them. The average is weighted by the interaction strength, in other words, the articles the user has interacted the most (eg. liked or commented) will have a higher strength in the final user profile.   "
   ]
  },
  {
   "cell_type": "code",
   "execution_count": 267,
   "metadata": {
    "_cell_guid": "62a5d822-9673-46ab-9e81-343006fed1c8",
    "_uuid": "52abadb8d20d8f42a9d6ca64cf061ad6e50e6f95",
    "code_folding": [],
    "hidden": true,
    "id": "jABZF_2MYwsp"
   },
   "outputs": [],
   "source": [
    "def get_item_profile(item_id):\n",
    "    idx = item_ids.index(item_id)\n",
    "    item_profile = tfidf_matrix[idx:idx+1]\n",
    "    return item_profile\n",
    "\n",
    "def get_item_profiles(ids):\n",
    "    item_profiles_list = [get_item_profile(x) for x in ids]\n",
    "    item_profiles = scipy.sparse.vstack(item_profiles_list)\n",
    "    return item_profiles\n",
    "\n",
    "def build_users_profile(person_id, interactions_indexed_df):\n",
    "    interactions_person_df = interactions_indexed_df.loc[person_id]\n",
    "    user_item_profiles = get_item_profiles(interactions_person_df['contentId'])\n",
    "    \n",
    "    user_item_strengths = np.array(interactions_person_df['eventStrength']).reshape(-1,1)\n",
    "    # Weighted average of item profiles by the interactions strength\n",
    "    user_item_strengths_weighted_avg = np.sum(user_item_profiles.multiply(user_item_strengths), axis=0) / np.sum(user_item_strengths)\n",
    "    user_profile_norm = sklearn.preprocessing.normalize(user_item_strengths_weighted_avg)\n",
    "    return user_profile_norm\n",
    "\n",
    "def build_users_profiles():\n",
    "    msk = ratings_trn_df['contentId'].isin(articles_df['contentId'])\n",
    "    interactions_indexed_df = ratings_trn_df[msk].set_index('personId')\n",
    "    user_profiles = {}\n",
    "    for person_id in interactions_indexed_df.index.unique():\n",
    "        user_profiles[person_id] = build_users_profile(person_id, interactions_indexed_df)\n",
    "    return user_profiles"
   ]
  },
  {
   "cell_type": "code",
   "execution_count": 268,
   "metadata": {
    "_cell_guid": "4a390c44-8d4a-40c9-8d09-e7423bb60e96",
    "_uuid": "4b115474b476319c74e1bf84c0d8edf9f8fc4229",
    "hidden": true,
    "id": "wWC4jaanYwsp"
   },
   "outputs": [],
   "source": [
    "user_profiles = build_users_profiles()"
   ]
  },
  {
   "cell_type": "code",
   "execution_count": 269,
   "metadata": {
    "hidden": true
   },
   "outputs": [
    {
     "data": {
      "text/plain": [
       "array([[0.01205907, 0.02868777, 0.00373276, ..., 0.00665326, 0.00798772,\n",
       "        0.00472609]])"
      ]
     },
     "execution_count": 269,
     "metadata": {},
     "output_type": "execute_result"
    }
   ],
   "source": [
    "user_profiles[3609194402293569455]"
   ]
  },
  {
   "cell_type": "code",
   "execution_count": 270,
   "metadata": {
    "hidden": true
   },
   "outputs": [],
   "source": [
    "# user_profiles[3609194402293569455].flatten().tolist()"
   ]
  },
  {
   "cell_type": "code",
   "execution_count": 271,
   "metadata": {
    "hidden": true
   },
   "outputs": [
    {
     "data": {
      "text/plain": [
       "5000"
      ]
     },
     "execution_count": 271,
     "metadata": {},
     "output_type": "execute_result"
    }
   ],
   "source": [
    "len(tfidf_feature_names)"
   ]
  },
  {
   "cell_type": "code",
   "execution_count": 272,
   "metadata": {
    "hidden": true
   },
   "outputs": [
    {
     "data": {
      "text/plain": [
       "list"
      ]
     },
     "execution_count": 272,
     "metadata": {},
     "output_type": "execute_result"
    }
   ],
   "source": [
    "type(tfidf_feature_names)"
   ]
  },
  {
   "cell_type": "code",
   "execution_count": 273,
   "metadata": {
    "_cell_guid": "4a390c44-8d4a-40c9-8d09-e7423bb60e96",
    "_uuid": "4b115474b476319c74e1bf84c0d8edf9f8fc4229",
    "hidden": true,
    "id": "wWC4jaanYwsp"
   },
   "outputs": [],
   "source": [
    "# pd.DataFrame(data = user_profiles, index=tfidf_feature_names)"
   ]
  },
  {
   "cell_type": "markdown",
   "metadata": {
    "_cell_guid": "1245d0e4-2a86-46bd-84c7-b63764d53237",
    "_uuid": "fd330ebbb67061205d0f7e6a4116b757f0efb255",
    "hidden": true,
    "id": "-ZL051vuYwsq"
   },
   "source": [
    "Let's take a look in the profile. It is a [unit vector](https://en.wikipedia.org/wiki/Unit_vector) of 5000 length. The value in each position represents how relevant is a token (unigram or bigram) for me.  \n",
    "Looking my profile, it appears that the top relevant tokens really represent my professional interests in **machine learning**, **deep learning**, **artificial intelligence** and **google cloud platform**! So we might expect good recommendations here!"
   ]
  },
  {
   "cell_type": "code",
   "execution_count": 274,
   "metadata": {
    "_cell_guid": "b12a6abe-acd0-4701-bf41-cedb753b57c9",
    "_uuid": "348ecd5b2d9259bd1a5161eb0734f6a7e18e4142",
    "hidden": true,
    "id": "VCNvZf6XYwsq"
   },
   "outputs": [],
   "source": [
    "myprofile = user_profiles[-1479311724257856983]"
   ]
  },
  {
   "cell_type": "code",
   "execution_count": 275,
   "metadata": {
    "_cell_guid": "b12a6abe-acd0-4701-bf41-cedb753b57c9",
    "_uuid": "348ecd5b2d9259bd1a5161eb0734f6a7e18e4142",
    "hidden": true,
    "id": "VCNvZf6XYwsq"
   },
   "outputs": [
    {
     "name": "stdout",
     "output_type": "stream",
     "text": [
      "(1, 5000)\n"
     ]
    }
   ],
   "source": [
    "print(myprofile.shape)"
   ]
  },
  {
   "cell_type": "code",
   "execution_count": 276,
   "metadata": {
    "_cell_guid": "b12a6abe-acd0-4701-bf41-cedb753b57c9",
    "_uuid": "348ecd5b2d9259bd1a5161eb0734f6a7e18e4142",
    "hidden": true,
    "id": "VCNvZf6XYwsq"
   },
   "outputs": [
    {
     "data": {
      "text/html": [
       "<div>\n",
       "<style scoped>\n",
       "    .dataframe tbody tr th:only-of-type {\n",
       "        vertical-align: middle;\n",
       "    }\n",
       "\n",
       "    .dataframe tbody tr th {\n",
       "        vertical-align: top;\n",
       "    }\n",
       "\n",
       "    .dataframe thead th {\n",
       "        text-align: right;\n",
       "    }\n",
       "</style>\n",
       "<table border=\"1\" class=\"dataframe\">\n",
       "  <thead>\n",
       "    <tr style=\"text-align: right;\">\n",
       "      <th></th>\n",
       "      <th>token</th>\n",
       "      <th>relevance</th>\n",
       "    </tr>\n",
       "  </thead>\n",
       "  <tbody>\n",
       "    <tr>\n",
       "      <th>0</th>\n",
       "      <td>learning</td>\n",
       "      <td>0.298732</td>\n",
       "    </tr>\n",
       "    <tr>\n",
       "      <th>1</th>\n",
       "      <td>machine learning</td>\n",
       "      <td>0.245992</td>\n",
       "    </tr>\n",
       "    <tr>\n",
       "      <th>2</th>\n",
       "      <td>machine</td>\n",
       "      <td>0.237843</td>\n",
       "    </tr>\n",
       "    <tr>\n",
       "      <th>3</th>\n",
       "      <td>google</td>\n",
       "      <td>0.202839</td>\n",
       "    </tr>\n",
       "    <tr>\n",
       "      <th>4</th>\n",
       "      <td>data</td>\n",
       "      <td>0.169776</td>\n",
       "    </tr>\n",
       "    <tr>\n",
       "      <th>...</th>\n",
       "      <td>...</td>\n",
       "      <td>...</td>\n",
       "    </tr>\n",
       "    <tr>\n",
       "      <th>4995</th>\n",
       "      <td>year old</td>\n",
       "      <td>0.000000</td>\n",
       "    </tr>\n",
       "    <tr>\n",
       "      <th>4996</th>\n",
       "      <td>yesterday</td>\n",
       "      <td>0.000000</td>\n",
       "    </tr>\n",
       "    <tr>\n",
       "      <th>4997</th>\n",
       "      <td>água</td>\n",
       "      <td>0.000000</td>\n",
       "    </tr>\n",
       "    <tr>\n",
       "      <th>4998</th>\n",
       "      <td>área</td>\n",
       "      <td>0.000000</td>\n",
       "    </tr>\n",
       "    <tr>\n",
       "      <th>4999</th>\n",
       "      <td>único</td>\n",
       "      <td>0.000000</td>\n",
       "    </tr>\n",
       "  </tbody>\n",
       "</table>\n",
       "<p>5000 rows × 2 columns</p>\n",
       "</div>"
      ],
      "text/plain": [
       "                 token  relevance\n",
       "0             learning   0.298732\n",
       "1     machine learning   0.245992\n",
       "2              machine   0.237843\n",
       "3               google   0.202839\n",
       "4                 data   0.169776\n",
       "...                ...        ...\n",
       "4995          year old   0.000000\n",
       "4996         yesterday   0.000000\n",
       "4997              água   0.000000\n",
       "4998              área   0.000000\n",
       "4999             único   0.000000\n",
       "\n",
       "[5000 rows x 2 columns]"
      ]
     },
     "execution_count": 276,
     "metadata": {},
     "output_type": "execute_result"
    }
   ],
   "source": [
    "myprofile_flatten = user_profiles[-1479311724257856983].flatten().tolist()\n",
    "pd.DataFrame(sorted(zip(tfidf_feature_names, myprofile_flatten), key=lambda x: -x[1]),\n",
    "    columns=['token', 'relevance'])"
   ]
  },
  {
   "cell_type": "markdown",
   "metadata": {
    "heading_collapsed": true
   },
   "source": [
    "## Develop a Content-Based Recommendation System"
   ]
  },
  {
   "cell_type": "code",
   "execution_count": 281,
   "metadata": {
    "_cell_guid": "e82114b3-a382-4590-a89c-9c3ccb79bde7",
    "_uuid": "06a8f67de0c9ed4d0ac426e6e56f168900cbfe28",
    "code_folding": [],
    "hidden": true,
    "id": "zjRZGtlnYwsq"
   },
   "outputs": [],
   "source": [
    "class CBRecSys:\n",
    "    \"\"\" Content Based Recommender System. \n",
    "    Data Depandency:\n",
    "        * item_ids     : list\n",
    "        * tfidf_matrix : scipy.sparse.csr.csr_matrix\n",
    "        * user_profiles: Dict[int, np.ndarray]    \n",
    "    \"\"\"\n",
    "    \n",
    "    MODEL_NAME = 'Content-Based'\n",
    "    \n",
    "    def __init__(self, items_df = None):\n",
    "        self.item_ids : list = item_ids\n",
    "        self.items_df : scipy.sparse.csr.csr_matrix = items_df\n",
    "        \n",
    "    def get_model_name(self):\n",
    "        return self.MODEL_NAME\n",
    "        \n",
    "    def _get_similar_items_to_user_profile(self, person_id, topn=1000):\n",
    "        # Computes the cosine similarity between the user profile and all item profiles\n",
    "        cosine_similarities = cosine_similarity(user_profiles[person_id], tfidf_matrix)\n",
    "        \n",
    "        # Gets the top similar items\n",
    "        similar_indices = cosine_similarities.argsort().flatten()[-topn:]\n",
    "        \n",
    "        # Sort the similar items by similarity\n",
    "        similar_items = sorted([(item_ids[i], cosine_similarities[0,i]) for i in similar_indices], key=lambda x: -x[1])\n",
    "        return similar_items\n",
    "        \n",
    "    def recommend_items(self, user_id, items_to_ignore=[], topn=10, verbose=False):\n",
    "        similar_items = self._get_similar_items_to_user_profile(user_id)\n",
    "        \n",
    "        # Ignores items the user has already interacted\n",
    "        similar_items_filtered = list(filter(lambda x: x[0] not in items_to_ignore, similar_items))\n",
    "        \n",
    "        recommendations_df = pd.DataFrame(similar_items_filtered, columns=['contentId', 'recStrength']).head(topn)\n",
    "\n",
    "        if verbose:\n",
    "            if self.items_df is None: raise Exception('\"items_df\" is required in verbose mode')\n",
    "\n",
    "            recommendations_df = recommendations_df.merge(self.items_df, how = 'left', \n",
    "                                                          left_on = 'contentId', \n",
    "                                                          right_on = 'contentId')[['recStrength', 'contentId', 'title', 'url', 'lang']]\n",
    "\n",
    "\n",
    "        return recommendations_df\n",
    "    "
   ]
  },
  {
   "cell_type": "code",
   "execution_count": 282,
   "metadata": {
    "_cell_guid": "e82114b3-a382-4590-a89c-9c3ccb79bde7",
    "_uuid": "06a8f67de0c9ed4d0ac426e6e56f168900cbfe28",
    "hidden": true,
    "id": "zjRZGtlnYwsq"
   },
   "outputs": [],
   "source": [
    "content_based_recommender_model = CBRecSys(articles_df)"
   ]
  },
  {
   "cell_type": "markdown",
   "metadata": {
    "_cell_guid": "137369e9-a848-47b2-b428-d18096bb6bf6",
    "_uuid": "3e3ee4386eeece492e4dcc6dee0c37777bc0ad4a",
    "hidden": true,
    "id": "JOIou6cmYwsq"
   },
   "source": [
    "With personalized recommendations of content-based filtering model, we have a **Recall@5** to about **0.162**, which means that about **16%** of interacted items in test set were ranked by this model among the top-5 items (from lists with 100 random items).\n",
    "And **Recall@10** was **0.261 (52%)**.\n",
    "The lower performance of the Content-Based model compared to the Popularity model may indicate that users are not that fixed in content very similar to their previous reads."
   ]
  },
  {
   "cell_type": "code",
   "execution_count": 283,
   "metadata": {
    "_cell_guid": "beada036-9045-4d62-87cf-959ecfa406cf",
    "_uuid": "c95c8fdc22b1eb70c85d547b44d87e937a061b43",
    "hidden": true,
    "id": "BGzpdqM0Ywsq"
   },
   "outputs": [
    {
     "name": "stdout",
     "output_type": "stream",
     "text": [
      "Evaluating Content-Based Filtering model...\n",
      "1139 users processed\n",
      "\n",
      "Global metrics:\n",
      "{'modelName': 'Content-Based', 'recall@5': 0.16287394528253643, 'recall@10': 0.2614420864229097}\n"
     ]
    },
    {
     "data": {
      "text/html": [
       "<div>\n",
       "<style scoped>\n",
       "    .dataframe tbody tr th:only-of-type {\n",
       "        vertical-align: middle;\n",
       "    }\n",
       "\n",
       "    .dataframe tbody tr th {\n",
       "        vertical-align: top;\n",
       "    }\n",
       "\n",
       "    .dataframe thead th {\n",
       "        text-align: right;\n",
       "    }\n",
       "</style>\n",
       "<table border=\"1\" class=\"dataframe\">\n",
       "  <thead>\n",
       "    <tr style=\"text-align: right;\">\n",
       "      <th></th>\n",
       "      <th>hits@5_count</th>\n",
       "      <th>hits@10_count</th>\n",
       "      <th>interacted_count</th>\n",
       "      <th>recall@5</th>\n",
       "      <th>recall@10</th>\n",
       "      <th>_person_id</th>\n",
       "    </tr>\n",
       "  </thead>\n",
       "  <tbody>\n",
       "    <tr>\n",
       "      <th>76</th>\n",
       "      <td>15</td>\n",
       "      <td>24</td>\n",
       "      <td>192</td>\n",
       "      <td>0.078125</td>\n",
       "      <td>0.125000</td>\n",
       "      <td>3609194402293569455</td>\n",
       "    </tr>\n",
       "    <tr>\n",
       "      <th>17</th>\n",
       "      <td>18</td>\n",
       "      <td>29</td>\n",
       "      <td>134</td>\n",
       "      <td>0.134328</td>\n",
       "      <td>0.216418</td>\n",
       "      <td>-2626634673110551643</td>\n",
       "    </tr>\n",
       "    <tr>\n",
       "      <th>16</th>\n",
       "      <td>20</td>\n",
       "      <td>33</td>\n",
       "      <td>130</td>\n",
       "      <td>0.153846</td>\n",
       "      <td>0.253846</td>\n",
       "      <td>-1032019229384696495</td>\n",
       "    </tr>\n",
       "    <tr>\n",
       "      <th>10</th>\n",
       "      <td>32</td>\n",
       "      <td>47</td>\n",
       "      <td>117</td>\n",
       "      <td>0.273504</td>\n",
       "      <td>0.401709</td>\n",
       "      <td>-1443636648652872475</td>\n",
       "    </tr>\n",
       "    <tr>\n",
       "      <th>82</th>\n",
       "      <td>6</td>\n",
       "      <td>15</td>\n",
       "      <td>88</td>\n",
       "      <td>0.068182</td>\n",
       "      <td>0.170455</td>\n",
       "      <td>-2979881261169775358</td>\n",
       "    </tr>\n",
       "    <tr>\n",
       "      <th>161</th>\n",
       "      <td>11</td>\n",
       "      <td>23</td>\n",
       "      <td>80</td>\n",
       "      <td>0.137500</td>\n",
       "      <td>0.287500</td>\n",
       "      <td>-3596626804281480007</td>\n",
       "    </tr>\n",
       "    <tr>\n",
       "      <th>65</th>\n",
       "      <td>8</td>\n",
       "      <td>13</td>\n",
       "      <td>73</td>\n",
       "      <td>0.109589</td>\n",
       "      <td>0.178082</td>\n",
       "      <td>1116121227607581999</td>\n",
       "    </tr>\n",
       "    <tr>\n",
       "      <th>81</th>\n",
       "      <td>8</td>\n",
       "      <td>19</td>\n",
       "      <td>69</td>\n",
       "      <td>0.115942</td>\n",
       "      <td>0.275362</td>\n",
       "      <td>692689608292948411</td>\n",
       "    </tr>\n",
       "    <tr>\n",
       "      <th>106</th>\n",
       "      <td>3</td>\n",
       "      <td>9</td>\n",
       "      <td>69</td>\n",
       "      <td>0.043478</td>\n",
       "      <td>0.130435</td>\n",
       "      <td>-9016528795238256703</td>\n",
       "    </tr>\n",
       "    <tr>\n",
       "      <th>52</th>\n",
       "      <td>3</td>\n",
       "      <td>8</td>\n",
       "      <td>68</td>\n",
       "      <td>0.044118</td>\n",
       "      <td>0.117647</td>\n",
       "      <td>3636910968448833585</td>\n",
       "    </tr>\n",
       "  </tbody>\n",
       "</table>\n",
       "</div>"
      ],
      "text/plain": [
       "     hits@5_count  hits@10_count  interacted_count  recall@5  recall@10  \\\n",
       "76             15             24               192  0.078125   0.125000   \n",
       "17             18             29               134  0.134328   0.216418   \n",
       "16             20             33               130  0.153846   0.253846   \n",
       "10             32             47               117  0.273504   0.401709   \n",
       "82              6             15                88  0.068182   0.170455   \n",
       "161            11             23                80  0.137500   0.287500   \n",
       "65              8             13                73  0.109589   0.178082   \n",
       "81              8             19                69  0.115942   0.275362   \n",
       "106             3              9                69  0.043478   0.130435   \n",
       "52              3              8                68  0.044118   0.117647   \n",
       "\n",
       "              _person_id  \n",
       "76   3609194402293569455  \n",
       "17  -2626634673110551643  \n",
       "16  -1032019229384696495  \n",
       "10  -1443636648652872475  \n",
       "82  -2979881261169775358  \n",
       "161 -3596626804281480007  \n",
       "65   1116121227607581999  \n",
       "81    692689608292948411  \n",
       "106 -9016528795238256703  \n",
       "52   3636910968448833585  "
      ]
     },
     "execution_count": 283,
     "metadata": {},
     "output_type": "execute_result"
    }
   ],
   "source": [
    "print('Evaluating Content-Based Filtering model...')\n",
    "cb_global_metrics, cb_detailed_results_df = model_evaluator.evaluate_model(content_based_recommender_model)\n",
    "\n",
    "print('\\nGlobal metrics:\\n%s' % cb_global_metrics)\n",
    "cb_detailed_results_df.head(10)"
   ]
  },
  {
   "cell_type": "markdown",
   "metadata": {
    "_cell_guid": "ffacb568-e972-4fc8-9b14-eb647c24a003",
    "_uuid": "a43201479e662d0b8d9bac847f990543cb77b11f",
    "id": "tkr6PaGXYwsr"
   },
   "source": [
    "# Collaborative Filtering model"
   ]
  },
  {
   "cell_type": "markdown",
   "metadata": {
    "_cell_guid": "3a553e0a-c90a-4db7-b710-3458ec5f5a7c",
    "_uuid": "f26d31f4e99f358a5a393ee438a34cf812d4de39",
    "id": "sU4uW8WOYwsr"
   },
   "source": [
    "Collaborative Filtering (CF) has two main implementation strategies:  \n",
    "- **Memory-based**: This approach uses the memory of previous users interactions to compute users similarities based on items they've interacted (<font color='red'>user-based approach</font>) or compute items similarities based on the users that have interacted with them (item-based approach).  \n",
    "A typical example of this approach is User Neighbourhood-based CF, in which the top-N similar users (usually computed using Pearson correlation) for a user are selected and used to recommend items those similar users liked, but the current user have not interacted yet. This approach is very simple to implement, but usually do not scale well for many users. A nice Python implementation of this approach in available in [Crab](http://muricoca.github.io/crab/).\n",
    "- **Model-based**: This approach, models are developed using different machine learning algorithms to recommend items to users. There are many model-based CF algorithms, like neural networks, bayesian networks, clustering models, and latent factor models such as Singular Value Decomposition (SVD) and, probabilistic latent semantic analysis."
   ]
  },
  {
   "cell_type": "markdown",
   "metadata": {
    "_cell_guid": "c7b68edb-45c7-44c7-bc0f-9a2d52e7f379",
    "_uuid": "bb26498296a6f90a0cb3c51e88b0ed39886c27ea",
    "heading_collapsed": true,
    "id": "pDJkg7HEYwsr"
   },
   "source": [
    "## Matrix Factorization"
   ]
  },
  {
   "cell_type": "markdown",
   "metadata": {
    "hidden": true
   },
   "source": [
    "- [Lecture 54 — Latent Factor Models | Stanford University](https://www.youtube.com/watch?v=4-f77HjB_CI&list=PLLssT5z_DsK9JDLcT8T62VtzwyW9LNepV&index=54)\n",
    "- [Lecture 55 — Latent Factor Recommender System | Stanford University](https://www.youtube.com/watch?v=E8aMcwmqsTg&list=PLLssT5z_DsK9JDLcT8T62VtzwyW9LNepV&index=55)"
   ]
  },
  {
   "cell_type": "markdown",
   "metadata": {
    "_cell_guid": "7847c5c0-1122-4ced-86d1-a91e427969c0",
    "_uuid": "cd46a8bc46b6731b9d7f4cc0bf2c23bc99f14e1f",
    "hidden": true,
    "id": "SOyTf02dYwsr"
   },
   "source": [
    "Latent factor models compress user-item matrix into a low-dimensional representation in terms of latent factors. One advantage of using this approach is that instead of having a high dimensional matrix containing abundant number of missing values we will be dealing with a much smaller matrix in lower-dimensional space.  \n",
    "A reduced presentation could be utilized for either user-based or item-based neighborhood algorithms that are presented in the previous section. There are several advantages with this paradigm. It handles the sparsity of the original matrix better than memory based ones. Also comparing similarity on the resulting matrix is much more scalable especially in dealing with large sparse datasets.  "
   ]
  },
  {
   "cell_type": "markdown",
   "metadata": {
    "_cell_guid": "55cf72cb-61c0-4a38-a609-7283822ed052",
    "_uuid": "25d3c496a0e3e4935c906610dc97ed47e144c00f",
    "hidden": true,
    "id": "Eqqqu0gIYwsr"
   },
   "source": [
    "Here we a use popular latent factor model named [Singular Value Decomposition (SVD)](https://en.wikipedia.org/wiki/Singular_value_decomposition). There are other matrix factorization frameworks more specific to CF you might try, like [surprise](https://github.com/NicolasHug/Surprise), [mrec](https://github.com/Mendeley/mrec) or [python-recsys](https://github.com/ocelma/python-recsys). We chose a [SciPy](https://docs.scipy.org/doc/scipy/reference/generated/scipy.sparse.linalg.svds.html) implemenation of SVD because it is available on Kaggle kernels. \n",
    "P.s. See an example of SVD on a movies dataset in this [blog post](https://beckernick.github.io/matrix-factorization-recommender/).   "
   ]
  },
  {
   "cell_type": "markdown",
   "metadata": {
    "_cell_guid": "e6168cd2-eea8-40ea-a153-4473950cdf08",
    "_uuid": "155b5e4618ec533b546029f94f2d5ffe39e1116f",
    "hidden": true,
    "id": "eeVNWo-wYwsr"
   },
   "source": [
    "An important decision is the number of factors to factor the user-item matrix. The higher the number of factors, the more precise is the factorization in the original matrix reconstructions. Therefore, if the model is allowed to  memorize too much details of the original matrix, it may not generalize well for data it was not trained on. Reducing the number of factors increases the model generalization."
   ]
  },
  {
   "cell_type": "code",
   "execution_count": 285,
   "metadata": {
    "_cell_guid": "9e73bff0-3136-445a-b3d2-36b875681b8a",
    "_uuid": "4a69f34bfef5054abc9cf27769e4b563f004ed17",
    "hidden": true,
    "id": "T6iKchJGYwss"
   },
   "outputs": [],
   "source": [
    "# Creating a sparse pivot table with users in rows and items in columns\n",
    "users_items_pivot_matrix_df = ratings_trn_df.pivot(index='personId', \n",
    "                                                          columns='contentId', \n",
    "                                                          values='eventStrength').fillna(0)"
   ]
  },
  {
   "cell_type": "code",
   "execution_count": 286,
   "metadata": {
    "_cell_guid": "9e73bff0-3136-445a-b3d2-36b875681b8a",
    "_uuid": "4a69f34bfef5054abc9cf27769e4b563f004ed17",
    "hidden": true,
    "id": "T6iKchJGYwss",
    "scrolled": true
   },
   "outputs": [
    {
     "data": {
      "text/html": [
       "<div>\n",
       "<style scoped>\n",
       "    .dataframe tbody tr th:only-of-type {\n",
       "        vertical-align: middle;\n",
       "    }\n",
       "\n",
       "    .dataframe tbody tr th {\n",
       "        vertical-align: top;\n",
       "    }\n",
       "\n",
       "    .dataframe thead th {\n",
       "        text-align: right;\n",
       "    }\n",
       "</style>\n",
       "<table border=\"1\" class=\"dataframe\">\n",
       "  <thead>\n",
       "    <tr style=\"text-align: right;\">\n",
       "      <th>contentId</th>\n",
       "      <th>-9222795471790223670</th>\n",
       "      <th>-9216926795620865886</th>\n",
       "      <th>-9194572880052200111</th>\n",
       "      <th>-9192549002213406534</th>\n",
       "      <th>-9190737901804729417</th>\n",
       "      <th>-9189659052158407108</th>\n",
       "      <th>-9176143510534135851</th>\n",
       "      <th>-9172673334835262304</th>\n",
       "      <th>-9171475473795142532</th>\n",
       "      <th>-9166778629773133902</th>\n",
       "      <th>...</th>\n",
       "      <th>9191014301634017491</th>\n",
       "      <th>9207286802575546269</th>\n",
       "      <th>9208127165664287660</th>\n",
       "      <th>9209629151177723638</th>\n",
       "      <th>9209886322932807692</th>\n",
       "      <th>9213260650272029784</th>\n",
       "      <th>9215261273565326920</th>\n",
       "      <th>9217155070834564627</th>\n",
       "      <th>9220445660318725468</th>\n",
       "      <th>9222265156747237864</th>\n",
       "    </tr>\n",
       "    <tr>\n",
       "      <th>personId</th>\n",
       "      <th></th>\n",
       "      <th></th>\n",
       "      <th></th>\n",
       "      <th></th>\n",
       "      <th></th>\n",
       "      <th></th>\n",
       "      <th></th>\n",
       "      <th></th>\n",
       "      <th></th>\n",
       "      <th></th>\n",
       "      <th></th>\n",
       "      <th></th>\n",
       "      <th></th>\n",
       "      <th></th>\n",
       "      <th></th>\n",
       "      <th></th>\n",
       "      <th></th>\n",
       "      <th></th>\n",
       "      <th></th>\n",
       "      <th></th>\n",
       "      <th></th>\n",
       "    </tr>\n",
       "  </thead>\n",
       "  <tbody>\n",
       "    <tr>\n",
       "      <th>-9223121837663643404</th>\n",
       "      <td>0.0</td>\n",
       "      <td>0.0</td>\n",
       "      <td>0.0</td>\n",
       "      <td>0.0</td>\n",
       "      <td>0.0</td>\n",
       "      <td>0.0</td>\n",
       "      <td>0.0</td>\n",
       "      <td>0.0</td>\n",
       "      <td>0.0</td>\n",
       "      <td>0.0</td>\n",
       "      <td>...</td>\n",
       "      <td>0.0</td>\n",
       "      <td>0.0</td>\n",
       "      <td>0.0</td>\n",
       "      <td>0.0</td>\n",
       "      <td>0.0</td>\n",
       "      <td>0.0</td>\n",
       "      <td>0.0</td>\n",
       "      <td>0.0</td>\n",
       "      <td>0.0</td>\n",
       "      <td>0.0</td>\n",
       "    </tr>\n",
       "    <tr>\n",
       "      <th>-9212075797126931087</th>\n",
       "      <td>0.0</td>\n",
       "      <td>0.0</td>\n",
       "      <td>0.0</td>\n",
       "      <td>0.0</td>\n",
       "      <td>0.0</td>\n",
       "      <td>0.0</td>\n",
       "      <td>0.0</td>\n",
       "      <td>0.0</td>\n",
       "      <td>0.0</td>\n",
       "      <td>0.0</td>\n",
       "      <td>...</td>\n",
       "      <td>0.0</td>\n",
       "      <td>0.0</td>\n",
       "      <td>0.0</td>\n",
       "      <td>0.0</td>\n",
       "      <td>0.0</td>\n",
       "      <td>0.0</td>\n",
       "      <td>0.0</td>\n",
       "      <td>0.0</td>\n",
       "      <td>0.0</td>\n",
       "      <td>0.0</td>\n",
       "    </tr>\n",
       "    <tr>\n",
       "      <th>-9207251133131336884</th>\n",
       "      <td>0.0</td>\n",
       "      <td>2.0</td>\n",
       "      <td>0.0</td>\n",
       "      <td>0.0</td>\n",
       "      <td>0.0</td>\n",
       "      <td>0.0</td>\n",
       "      <td>0.0</td>\n",
       "      <td>0.0</td>\n",
       "      <td>0.0</td>\n",
       "      <td>0.0</td>\n",
       "      <td>...</td>\n",
       "      <td>0.0</td>\n",
       "      <td>0.0</td>\n",
       "      <td>0.0</td>\n",
       "      <td>0.0</td>\n",
       "      <td>0.0</td>\n",
       "      <td>0.0</td>\n",
       "      <td>0.0</td>\n",
       "      <td>0.0</td>\n",
       "      <td>0.0</td>\n",
       "      <td>0.0</td>\n",
       "    </tr>\n",
       "    <tr>\n",
       "      <th>-9199575329909162940</th>\n",
       "      <td>0.0</td>\n",
       "      <td>0.0</td>\n",
       "      <td>0.0</td>\n",
       "      <td>0.0</td>\n",
       "      <td>0.0</td>\n",
       "      <td>0.0</td>\n",
       "      <td>0.0</td>\n",
       "      <td>0.0</td>\n",
       "      <td>0.0</td>\n",
       "      <td>0.0</td>\n",
       "      <td>...</td>\n",
       "      <td>0.0</td>\n",
       "      <td>0.0</td>\n",
       "      <td>0.0</td>\n",
       "      <td>0.0</td>\n",
       "      <td>0.0</td>\n",
       "      <td>0.0</td>\n",
       "      <td>0.0</td>\n",
       "      <td>0.0</td>\n",
       "      <td>0.0</td>\n",
       "      <td>0.0</td>\n",
       "    </tr>\n",
       "    <tr>\n",
       "      <th>-9196668942822132778</th>\n",
       "      <td>0.0</td>\n",
       "      <td>0.0</td>\n",
       "      <td>0.0</td>\n",
       "      <td>0.0</td>\n",
       "      <td>0.0</td>\n",
       "      <td>0.0</td>\n",
       "      <td>0.0</td>\n",
       "      <td>0.0</td>\n",
       "      <td>0.0</td>\n",
       "      <td>0.0</td>\n",
       "      <td>...</td>\n",
       "      <td>0.0</td>\n",
       "      <td>0.0</td>\n",
       "      <td>0.0</td>\n",
       "      <td>0.0</td>\n",
       "      <td>0.0</td>\n",
       "      <td>0.0</td>\n",
       "      <td>0.0</td>\n",
       "      <td>0.0</td>\n",
       "      <td>0.0</td>\n",
       "      <td>0.0</td>\n",
       "    </tr>\n",
       "    <tr>\n",
       "      <th>-9188188261933657343</th>\n",
       "      <td>0.0</td>\n",
       "      <td>0.0</td>\n",
       "      <td>0.0</td>\n",
       "      <td>0.0</td>\n",
       "      <td>0.0</td>\n",
       "      <td>0.0</td>\n",
       "      <td>0.0</td>\n",
       "      <td>0.0</td>\n",
       "      <td>0.0</td>\n",
       "      <td>0.0</td>\n",
       "      <td>...</td>\n",
       "      <td>0.0</td>\n",
       "      <td>0.0</td>\n",
       "      <td>0.0</td>\n",
       "      <td>0.0</td>\n",
       "      <td>0.0</td>\n",
       "      <td>0.0</td>\n",
       "      <td>0.0</td>\n",
       "      <td>0.0</td>\n",
       "      <td>0.0</td>\n",
       "      <td>0.0</td>\n",
       "    </tr>\n",
       "    <tr>\n",
       "      <th>-9172914609055320039</th>\n",
       "      <td>0.0</td>\n",
       "      <td>0.0</td>\n",
       "      <td>0.0</td>\n",
       "      <td>0.0</td>\n",
       "      <td>0.0</td>\n",
       "      <td>0.0</td>\n",
       "      <td>0.0</td>\n",
       "      <td>0.0</td>\n",
       "      <td>0.0</td>\n",
       "      <td>0.0</td>\n",
       "      <td>...</td>\n",
       "      <td>0.0</td>\n",
       "      <td>0.0</td>\n",
       "      <td>0.0</td>\n",
       "      <td>0.0</td>\n",
       "      <td>0.0</td>\n",
       "      <td>0.0</td>\n",
       "      <td>0.0</td>\n",
       "      <td>0.0</td>\n",
       "      <td>0.0</td>\n",
       "      <td>0.0</td>\n",
       "    </tr>\n",
       "    <tr>\n",
       "      <th>-9156344805277471150</th>\n",
       "      <td>0.0</td>\n",
       "      <td>0.0</td>\n",
       "      <td>0.0</td>\n",
       "      <td>0.0</td>\n",
       "      <td>0.0</td>\n",
       "      <td>0.0</td>\n",
       "      <td>0.0</td>\n",
       "      <td>0.0</td>\n",
       "      <td>0.0</td>\n",
       "      <td>0.0</td>\n",
       "      <td>...</td>\n",
       "      <td>0.0</td>\n",
       "      <td>0.0</td>\n",
       "      <td>0.0</td>\n",
       "      <td>0.0</td>\n",
       "      <td>0.0</td>\n",
       "      <td>0.0</td>\n",
       "      <td>0.0</td>\n",
       "      <td>0.0</td>\n",
       "      <td>0.0</td>\n",
       "      <td>0.0</td>\n",
       "    </tr>\n",
       "    <tr>\n",
       "      <th>-9120685872592674274</th>\n",
       "      <td>0.0</td>\n",
       "      <td>0.0</td>\n",
       "      <td>0.0</td>\n",
       "      <td>0.0</td>\n",
       "      <td>0.0</td>\n",
       "      <td>0.0</td>\n",
       "      <td>0.0</td>\n",
       "      <td>0.0</td>\n",
       "      <td>0.0</td>\n",
       "      <td>0.0</td>\n",
       "      <td>...</td>\n",
       "      <td>0.0</td>\n",
       "      <td>0.0</td>\n",
       "      <td>0.0</td>\n",
       "      <td>0.0</td>\n",
       "      <td>0.0</td>\n",
       "      <td>0.0</td>\n",
       "      <td>0.0</td>\n",
       "      <td>0.0</td>\n",
       "      <td>0.0</td>\n",
       "      <td>0.0</td>\n",
       "    </tr>\n",
       "    <tr>\n",
       "      <th>-9109785559521267180</th>\n",
       "      <td>0.0</td>\n",
       "      <td>0.0</td>\n",
       "      <td>0.0</td>\n",
       "      <td>0.0</td>\n",
       "      <td>0.0</td>\n",
       "      <td>0.0</td>\n",
       "      <td>0.0</td>\n",
       "      <td>0.0</td>\n",
       "      <td>0.0</td>\n",
       "      <td>0.0</td>\n",
       "      <td>...</td>\n",
       "      <td>0.0</td>\n",
       "      <td>0.0</td>\n",
       "      <td>0.0</td>\n",
       "      <td>0.0</td>\n",
       "      <td>0.0</td>\n",
       "      <td>0.0</td>\n",
       "      <td>0.0</td>\n",
       "      <td>0.0</td>\n",
       "      <td>0.0</td>\n",
       "      <td>0.0</td>\n",
       "    </tr>\n",
       "  </tbody>\n",
       "</table>\n",
       "<p>10 rows × 2926 columns</p>\n",
       "</div>"
      ],
      "text/plain": [
       "contentId             -9222795471790223670  -9216926795620865886  \\\n",
       "personId                                                           \n",
       "-9223121837663643404                   0.0                   0.0   \n",
       "-9212075797126931087                   0.0                   0.0   \n",
       "-9207251133131336884                   0.0                   2.0   \n",
       "-9199575329909162940                   0.0                   0.0   \n",
       "-9196668942822132778                   0.0                   0.0   \n",
       "-9188188261933657343                   0.0                   0.0   \n",
       "-9172914609055320039                   0.0                   0.0   \n",
       "-9156344805277471150                   0.0                   0.0   \n",
       "-9120685872592674274                   0.0                   0.0   \n",
       "-9109785559521267180                   0.0                   0.0   \n",
       "\n",
       "contentId             -9194572880052200111  -9192549002213406534  \\\n",
       "personId                                                           \n",
       "-9223121837663643404                   0.0                   0.0   \n",
       "-9212075797126931087                   0.0                   0.0   \n",
       "-9207251133131336884                   0.0                   0.0   \n",
       "-9199575329909162940                   0.0                   0.0   \n",
       "-9196668942822132778                   0.0                   0.0   \n",
       "-9188188261933657343                   0.0                   0.0   \n",
       "-9172914609055320039                   0.0                   0.0   \n",
       "-9156344805277471150                   0.0                   0.0   \n",
       "-9120685872592674274                   0.0                   0.0   \n",
       "-9109785559521267180                   0.0                   0.0   \n",
       "\n",
       "contentId             -9190737901804729417  -9189659052158407108  \\\n",
       "personId                                                           \n",
       "-9223121837663643404                   0.0                   0.0   \n",
       "-9212075797126931087                   0.0                   0.0   \n",
       "-9207251133131336884                   0.0                   0.0   \n",
       "-9199575329909162940                   0.0                   0.0   \n",
       "-9196668942822132778                   0.0                   0.0   \n",
       "-9188188261933657343                   0.0                   0.0   \n",
       "-9172914609055320039                   0.0                   0.0   \n",
       "-9156344805277471150                   0.0                   0.0   \n",
       "-9120685872592674274                   0.0                   0.0   \n",
       "-9109785559521267180                   0.0                   0.0   \n",
       "\n",
       "contentId             -9176143510534135851  -9172673334835262304  \\\n",
       "personId                                                           \n",
       "-9223121837663643404                   0.0                   0.0   \n",
       "-9212075797126931087                   0.0                   0.0   \n",
       "-9207251133131336884                   0.0                   0.0   \n",
       "-9199575329909162940                   0.0                   0.0   \n",
       "-9196668942822132778                   0.0                   0.0   \n",
       "-9188188261933657343                   0.0                   0.0   \n",
       "-9172914609055320039                   0.0                   0.0   \n",
       "-9156344805277471150                   0.0                   0.0   \n",
       "-9120685872592674274                   0.0                   0.0   \n",
       "-9109785559521267180                   0.0                   0.0   \n",
       "\n",
       "contentId             -9171475473795142532  -9166778629773133902  ...  \\\n",
       "personId                                                          ...   \n",
       "-9223121837663643404                   0.0                   0.0  ...   \n",
       "-9212075797126931087                   0.0                   0.0  ...   \n",
       "-9207251133131336884                   0.0                   0.0  ...   \n",
       "-9199575329909162940                   0.0                   0.0  ...   \n",
       "-9196668942822132778                   0.0                   0.0  ...   \n",
       "-9188188261933657343                   0.0                   0.0  ...   \n",
       "-9172914609055320039                   0.0                   0.0  ...   \n",
       "-9156344805277471150                   0.0                   0.0  ...   \n",
       "-9120685872592674274                   0.0                   0.0  ...   \n",
       "-9109785559521267180                   0.0                   0.0  ...   \n",
       "\n",
       "contentId              9191014301634017491   9207286802575546269  \\\n",
       "personId                                                           \n",
       "-9223121837663643404                   0.0                   0.0   \n",
       "-9212075797126931087                   0.0                   0.0   \n",
       "-9207251133131336884                   0.0                   0.0   \n",
       "-9199575329909162940                   0.0                   0.0   \n",
       "-9196668942822132778                   0.0                   0.0   \n",
       "-9188188261933657343                   0.0                   0.0   \n",
       "-9172914609055320039                   0.0                   0.0   \n",
       "-9156344805277471150                   0.0                   0.0   \n",
       "-9120685872592674274                   0.0                   0.0   \n",
       "-9109785559521267180                   0.0                   0.0   \n",
       "\n",
       "contentId              9208127165664287660   9209629151177723638  \\\n",
       "personId                                                           \n",
       "-9223121837663643404                   0.0                   0.0   \n",
       "-9212075797126931087                   0.0                   0.0   \n",
       "-9207251133131336884                   0.0                   0.0   \n",
       "-9199575329909162940                   0.0                   0.0   \n",
       "-9196668942822132778                   0.0                   0.0   \n",
       "-9188188261933657343                   0.0                   0.0   \n",
       "-9172914609055320039                   0.0                   0.0   \n",
       "-9156344805277471150                   0.0                   0.0   \n",
       "-9120685872592674274                   0.0                   0.0   \n",
       "-9109785559521267180                   0.0                   0.0   \n",
       "\n",
       "contentId              9209886322932807692   9213260650272029784  \\\n",
       "personId                                                           \n",
       "-9223121837663643404                   0.0                   0.0   \n",
       "-9212075797126931087                   0.0                   0.0   \n",
       "-9207251133131336884                   0.0                   0.0   \n",
       "-9199575329909162940                   0.0                   0.0   \n",
       "-9196668942822132778                   0.0                   0.0   \n",
       "-9188188261933657343                   0.0                   0.0   \n",
       "-9172914609055320039                   0.0                   0.0   \n",
       "-9156344805277471150                   0.0                   0.0   \n",
       "-9120685872592674274                   0.0                   0.0   \n",
       "-9109785559521267180                   0.0                   0.0   \n",
       "\n",
       "contentId              9215261273565326920   9217155070834564627  \\\n",
       "personId                                                           \n",
       "-9223121837663643404                   0.0                   0.0   \n",
       "-9212075797126931087                   0.0                   0.0   \n",
       "-9207251133131336884                   0.0                   0.0   \n",
       "-9199575329909162940                   0.0                   0.0   \n",
       "-9196668942822132778                   0.0                   0.0   \n",
       "-9188188261933657343                   0.0                   0.0   \n",
       "-9172914609055320039                   0.0                   0.0   \n",
       "-9156344805277471150                   0.0                   0.0   \n",
       "-9120685872592674274                   0.0                   0.0   \n",
       "-9109785559521267180                   0.0                   0.0   \n",
       "\n",
       "contentId              9220445660318725468   9222265156747237864  \n",
       "personId                                                          \n",
       "-9223121837663643404                   0.0                   0.0  \n",
       "-9212075797126931087                   0.0                   0.0  \n",
       "-9207251133131336884                   0.0                   0.0  \n",
       "-9199575329909162940                   0.0                   0.0  \n",
       "-9196668942822132778                   0.0                   0.0  \n",
       "-9188188261933657343                   0.0                   0.0  \n",
       "-9172914609055320039                   0.0                   0.0  \n",
       "-9156344805277471150                   0.0                   0.0  \n",
       "-9120685872592674274                   0.0                   0.0  \n",
       "-9109785559521267180                   0.0                   0.0  \n",
       "\n",
       "[10 rows x 2926 columns]"
      ]
     },
     "execution_count": 286,
     "metadata": {},
     "output_type": "execute_result"
    }
   ],
   "source": [
    "users_items_pivot_matrix_df.head(10)"
   ]
  },
  {
   "cell_type": "code",
   "execution_count": 287,
   "metadata": {
    "hidden": true
   },
   "outputs": [
    {
     "data": {
      "text/plain": [
       "(1140, 2926)"
      ]
     },
     "execution_count": 287,
     "metadata": {},
     "output_type": "execute_result"
    }
   ],
   "source": [
    "users_items_pivot_matrix_df.shape"
   ]
  },
  {
   "cell_type": "code",
   "execution_count": 288,
   "metadata": {
    "_cell_guid": "39c293cb-c8a7-49d1-a296-ade311bf2296",
    "_uuid": "38cc2200590bb84cd535669df8ee8177d81989eb",
    "hidden": true,
    "id": "RPKPSRpMYwss"
   },
   "outputs": [
    {
     "data": {
      "text/plain": [
       "array([[0., 0., 0., ..., 0., 0., 0.],\n",
       "       [0., 0., 0., ..., 0., 0., 0.],\n",
       "       [0., 2., 0., ..., 0., 0., 0.],\n",
       "       ...,\n",
       "       [0., 0., 0., ..., 0., 0., 0.],\n",
       "       [0., 0., 0., ..., 0., 0., 0.],\n",
       "       [0., 0., 0., ..., 0., 0., 0.]])"
      ]
     },
     "execution_count": 288,
     "metadata": {},
     "output_type": "execute_result"
    }
   ],
   "source": [
    "users_items_pivot_matrix = users_items_pivot_matrix_df.values\n",
    "users_items_pivot_matrix[:10]"
   ]
  },
  {
   "cell_type": "code",
   "execution_count": 289,
   "metadata": {
    "_cell_guid": "782aee35-da8d-45de-83bd-da38e44b3a43",
    "_uuid": "00ff9564c711e3d95c8b9a893c04e613249be42b",
    "hidden": true,
    "id": "_LSh-HKBYwss"
   },
   "outputs": [
    {
     "data": {
      "text/plain": [
       "[-9223121837663643404,\n",
       " -9212075797126931087,\n",
       " -9207251133131336884,\n",
       " -9199575329909162940,\n",
       " -9196668942822132778,\n",
       " -9188188261933657343,\n",
       " -9172914609055320039,\n",
       " -9156344805277471150,\n",
       " -9120685872592674274,\n",
       " -9109785559521267180]"
      ]
     },
     "execution_count": 289,
     "metadata": {},
     "output_type": "execute_result"
    }
   ],
   "source": [
    "users_ids = list(users_items_pivot_matrix_df.index)\n",
    "users_ids[:10]"
   ]
  },
  {
   "cell_type": "code",
   "execution_count": 290,
   "metadata": {
    "hidden": true,
    "id": "UyhWIs14Ywss"
   },
   "outputs": [
    {
     "data": {
      "text/plain": [
       "<1140x2926 sparse matrix of type '<class 'numpy.float64'>'\n",
       "\twith 31284 stored elements in Compressed Sparse Row format>"
      ]
     },
     "execution_count": 290,
     "metadata": {},
     "output_type": "execute_result"
    }
   ],
   "source": [
    "users_items_pivot_sparse_matrix = csr_matrix(users_items_pivot_matrix)\n",
    "users_items_pivot_sparse_matrix"
   ]
  },
  {
   "cell_type": "code",
   "execution_count": 291,
   "metadata": {
    "_cell_guid": "8eb2f704-cbf4-4fe3-9532-baab1c8db872",
    "_uuid": "6322d8e7afa0ac49f0df5451e304b394f410a056",
    "hidden": true,
    "id": "5d2v5PnwYwst"
   },
   "outputs": [],
   "source": [
    "# The number of factors to factor the user-item matrix.\n",
    "NUMBER_OF_FACTORS_MF = 15\n",
    "# Performs matrix factorization of the original user item matrix\n",
    "# U, sigma, Vt = svds(users_items_pivot_matrix, k = NUMBER_OF_FACTORS_MF)\n",
    "U, sigma, Vt = svds(users_items_pivot_sparse_matrix, k = NUMBER_OF_FACTORS_MF)"
   ]
  },
  {
   "cell_type": "code",
   "execution_count": 292,
   "metadata": {
    "_cell_guid": "9b0001e9-d560-4b6f-95a7-ae6605a72a2b",
    "_uuid": "7f6757eb2997a448537b4f59a77a6022f45edc87",
    "hidden": true,
    "id": "ntmxT7fsYwst"
   },
   "outputs": [
    {
     "data": {
      "text/plain": [
       "(1140, 15)"
      ]
     },
     "execution_count": 292,
     "metadata": {},
     "output_type": "execute_result"
    }
   ],
   "source": [
    "U.shape"
   ]
  },
  {
   "cell_type": "code",
   "execution_count": 293,
   "metadata": {
    "_cell_guid": "d59bac45-f8ac-422f-9a1f-c66063ca8235",
    "_uuid": "f1d0ab3e77b1c118c4867f71a4b55534e8ceb2f9",
    "hidden": true,
    "id": "zvMJILtJYwsu"
   },
   "outputs": [
    {
     "data": {
      "text/plain": [
       "(15, 2926)"
      ]
     },
     "execution_count": 293,
     "metadata": {},
     "output_type": "execute_result"
    }
   ],
   "source": [
    "Vt.shape"
   ]
  },
  {
   "cell_type": "code",
   "execution_count": 294,
   "metadata": {
    "_cell_guid": "98b34c7d-674d-4b83-93f9-54e6d19ae9df",
    "_uuid": "f0807b245c6f939daae6447ad00594eaabd2c134",
    "hidden": true,
    "id": "ZRO8Xr0DYwsu"
   },
   "outputs": [
    {
     "data": {
      "text/plain": [
       "(15, 15)"
      ]
     },
     "execution_count": 294,
     "metadata": {},
     "output_type": "execute_result"
    }
   ],
   "source": [
    "sigma = np.diag(sigma)\n",
    "sigma.shape"
   ]
  },
  {
   "cell_type": "markdown",
   "metadata": {
    "_cell_guid": "5cf974d4-ca0c-487a-8561-7952be1d2f16",
    "_uuid": "de8f01beee0d5fad5e4cfd614b7c86c36b827958",
    "hidden": true,
    "id": "qqhFkTuCYwsu"
   },
   "source": [
    "After the factorization, we try to to reconstruct the original matrix by multiplying its factors. The resulting matrix is not sparse any more. It was generated predictions for items the user have not yet interaction, which we will exploit for recommendations."
   ]
  },
  {
   "cell_type": "code",
   "execution_count": 295,
   "metadata": {
    "_cell_guid": "d8d09c7b-9a23-4e4f-a602-23ed20e18a1e",
    "_uuid": "66eafaba59d8ccf7dc1c02043881a64be1bba5d2",
    "hidden": true,
    "id": "EMhuZDVvYwsv"
   },
   "outputs": [
    {
     "data": {
      "text/plain": [
       "array([[ 0.01039915,  0.00081872, -0.01725263, ...,  0.00140708,\n",
       "         0.0110647 ,  0.00226063],\n",
       "       [-0.00019285, -0.00031318, -0.00264624, ...,  0.00251658,\n",
       "         0.00017609, -0.00189488],\n",
       "       [-0.01254721,  0.0065947 , -0.00590676, ...,  0.00698975,\n",
       "        -0.01015696,  0.01154572],\n",
       "       ...,\n",
       "       [-0.02995379,  0.00805715, -0.01846307, ..., -0.01083078,\n",
       "        -0.00118591,  0.0096798 ],\n",
       "       [-0.01845505,  0.00467019,  0.01219602, ...,  0.00409507,\n",
       "         0.00019482, -0.00752562],\n",
       "       [-0.01506374,  0.00327732,  0.13391269, ..., -0.01191815,\n",
       "         0.06422074,  0.01303244]])"
      ]
     },
     "execution_count": 295,
     "metadata": {},
     "output_type": "execute_result"
    }
   ],
   "source": [
    "all_user_predicted_ratings = np.dot(np.dot(U, sigma), Vt) \n",
    "all_user_predicted_ratings"
   ]
  },
  {
   "cell_type": "code",
   "execution_count": 296,
   "metadata": {
    "hidden": true,
    "id": "fux_lxtWYwsv"
   },
   "outputs": [],
   "source": [
    "all_user_predicted_ratings_norm = (all_user_predicted_ratings - all_user_predicted_ratings.min()) / (all_user_predicted_ratings.max() - all_user_predicted_ratings.min())"
   ]
  },
  {
   "cell_type": "code",
   "execution_count": 297,
   "metadata": {
    "_cell_guid": "6664c5e4-14ab-47e2-a8ae-63699a531983",
    "_uuid": "1e6420b17affd1c786847b3f272d65a7ebb6b08e",
    "hidden": true,
    "id": "RYDOEavkYwsv"
   },
   "outputs": [
    {
     "data": {
      "text/html": [
       "<div>\n",
       "<style scoped>\n",
       "    .dataframe tbody tr th:only-of-type {\n",
       "        vertical-align: middle;\n",
       "    }\n",
       "\n",
       "    .dataframe tbody tr th {\n",
       "        vertical-align: top;\n",
       "    }\n",
       "\n",
       "    .dataframe thead th {\n",
       "        text-align: right;\n",
       "    }\n",
       "</style>\n",
       "<table border=\"1\" class=\"dataframe\">\n",
       "  <thead>\n",
       "    <tr style=\"text-align: right;\">\n",
       "      <th></th>\n",
       "      <th>-9223121837663643404</th>\n",
       "      <th>-9212075797126931087</th>\n",
       "      <th>-9207251133131336884</th>\n",
       "      <th>-9199575329909162940</th>\n",
       "      <th>-9196668942822132778</th>\n",
       "      <th>-9188188261933657343</th>\n",
       "      <th>-9172914609055320039</th>\n",
       "      <th>-9156344805277471150</th>\n",
       "      <th>-9120685872592674274</th>\n",
       "      <th>-9109785559521267180</th>\n",
       "      <th>...</th>\n",
       "      <th>9105269044962898535</th>\n",
       "      <th>9109075639526981934</th>\n",
       "      <th>9135582630122950040</th>\n",
       "      <th>9137372837662939523</th>\n",
       "      <th>9148269800512008413</th>\n",
       "      <th>9165571805999894845</th>\n",
       "      <th>9187866633451383747</th>\n",
       "      <th>9191849144618614467</th>\n",
       "      <th>9199170757466086545</th>\n",
       "      <th>9210530975708218054</th>\n",
       "    </tr>\n",
       "    <tr>\n",
       "      <th>contentId</th>\n",
       "      <th></th>\n",
       "      <th></th>\n",
       "      <th></th>\n",
       "      <th></th>\n",
       "      <th></th>\n",
       "      <th></th>\n",
       "      <th></th>\n",
       "      <th></th>\n",
       "      <th></th>\n",
       "      <th></th>\n",
       "      <th></th>\n",
       "      <th></th>\n",
       "      <th></th>\n",
       "      <th></th>\n",
       "      <th></th>\n",
       "      <th></th>\n",
       "      <th></th>\n",
       "      <th></th>\n",
       "      <th></th>\n",
       "      <th></th>\n",
       "      <th></th>\n",
       "    </tr>\n",
       "  </thead>\n",
       "  <tbody>\n",
       "    <tr>\n",
       "      <th>-9222795471790223670</th>\n",
       "      <td>0.139129</td>\n",
       "      <td>0.137930</td>\n",
       "      <td>0.136531</td>\n",
       "      <td>0.143948</td>\n",
       "      <td>0.136815</td>\n",
       "      <td>0.137339</td>\n",
       "      <td>0.137508</td>\n",
       "      <td>0.143534</td>\n",
       "      <td>0.136428</td>\n",
       "      <td>0.135681</td>\n",
       "      <td>...</td>\n",
       "      <td>0.137351</td>\n",
       "      <td>0.127822</td>\n",
       "      <td>0.137946</td>\n",
       "      <td>0.139653</td>\n",
       "      <td>0.140324</td>\n",
       "      <td>0.136888</td>\n",
       "      <td>0.135787</td>\n",
       "      <td>0.134560</td>\n",
       "      <td>0.135862</td>\n",
       "      <td>0.136246</td>\n",
       "    </tr>\n",
       "    <tr>\n",
       "      <th>-9216926795620865886</th>\n",
       "      <td>0.138044</td>\n",
       "      <td>0.137916</td>\n",
       "      <td>0.138698</td>\n",
       "      <td>0.137878</td>\n",
       "      <td>0.137969</td>\n",
       "      <td>0.137990</td>\n",
       "      <td>0.137974</td>\n",
       "      <td>0.138049</td>\n",
       "      <td>0.138217</td>\n",
       "      <td>0.138151</td>\n",
       "      <td>...</td>\n",
       "      <td>0.137962</td>\n",
       "      <td>0.139527</td>\n",
       "      <td>0.138009</td>\n",
       "      <td>0.138117</td>\n",
       "      <td>0.139634</td>\n",
       "      <td>0.138058</td>\n",
       "      <td>0.138222</td>\n",
       "      <td>0.138864</td>\n",
       "      <td>0.138480</td>\n",
       "      <td>0.138323</td>\n",
       "    </tr>\n",
       "    <tr>\n",
       "      <th>-9194572880052200111</th>\n",
       "      <td>0.135998</td>\n",
       "      <td>0.137652</td>\n",
       "      <td>0.137283</td>\n",
       "      <td>0.137536</td>\n",
       "      <td>0.140363</td>\n",
       "      <td>0.137807</td>\n",
       "      <td>0.141246</td>\n",
       "      <td>0.136284</td>\n",
       "      <td>0.135301</td>\n",
       "      <td>0.138512</td>\n",
       "      <td>...</td>\n",
       "      <td>0.139257</td>\n",
       "      <td>0.143161</td>\n",
       "      <td>0.139139</td>\n",
       "      <td>0.140077</td>\n",
       "      <td>0.154976</td>\n",
       "      <td>0.140109</td>\n",
       "      <td>0.140654</td>\n",
       "      <td>0.135861</td>\n",
       "      <td>0.139332</td>\n",
       "      <td>0.153114</td>\n",
       "    </tr>\n",
       "    <tr>\n",
       "      <th>-9192549002213406534</th>\n",
       "      <td>0.141924</td>\n",
       "      <td>0.137996</td>\n",
       "      <td>0.134663</td>\n",
       "      <td>0.137080</td>\n",
       "      <td>0.139946</td>\n",
       "      <td>0.138574</td>\n",
       "      <td>0.139473</td>\n",
       "      <td>0.144469</td>\n",
       "      <td>0.143333</td>\n",
       "      <td>0.138428</td>\n",
       "      <td>...</td>\n",
       "      <td>0.140233</td>\n",
       "      <td>0.167426</td>\n",
       "      <td>0.138849</td>\n",
       "      <td>0.137037</td>\n",
       "      <td>0.141820</td>\n",
       "      <td>0.139260</td>\n",
       "      <td>0.139513</td>\n",
       "      <td>0.136804</td>\n",
       "      <td>0.140862</td>\n",
       "      <td>0.148793</td>\n",
       "    </tr>\n",
       "    <tr>\n",
       "      <th>-9190737901804729417</th>\n",
       "      <td>0.140209</td>\n",
       "      <td>0.137408</td>\n",
       "      <td>0.138708</td>\n",
       "      <td>0.138672</td>\n",
       "      <td>0.137725</td>\n",
       "      <td>0.138218</td>\n",
       "      <td>0.138390</td>\n",
       "      <td>0.138418</td>\n",
       "      <td>0.134883</td>\n",
       "      <td>0.140193</td>\n",
       "      <td>...</td>\n",
       "      <td>0.138373</td>\n",
       "      <td>0.138459</td>\n",
       "      <td>0.138169</td>\n",
       "      <td>0.137990</td>\n",
       "      <td>0.134041</td>\n",
       "      <td>0.137820</td>\n",
       "      <td>0.138100</td>\n",
       "      <td>0.138286</td>\n",
       "      <td>0.138630</td>\n",
       "      <td>0.136178</td>\n",
       "    </tr>\n",
       "    <tr>\n",
       "      <th>-9189659052158407108</th>\n",
       "      <td>0.138932</td>\n",
       "      <td>0.138699</td>\n",
       "      <td>0.138117</td>\n",
       "      <td>0.137621</td>\n",
       "      <td>0.138920</td>\n",
       "      <td>0.137766</td>\n",
       "      <td>0.138568</td>\n",
       "      <td>0.138200</td>\n",
       "      <td>0.140572</td>\n",
       "      <td>0.140365</td>\n",
       "      <td>...</td>\n",
       "      <td>0.140725</td>\n",
       "      <td>0.148152</td>\n",
       "      <td>0.137645</td>\n",
       "      <td>0.138165</td>\n",
       "      <td>0.149152</td>\n",
       "      <td>0.138912</td>\n",
       "      <td>0.139595</td>\n",
       "      <td>0.139807</td>\n",
       "      <td>0.140419</td>\n",
       "      <td>0.145698</td>\n",
       "    </tr>\n",
       "    <tr>\n",
       "      <th>-9176143510534135851</th>\n",
       "      <td>0.143208</td>\n",
       "      <td>0.138673</td>\n",
       "      <td>0.139514</td>\n",
       "      <td>0.139114</td>\n",
       "      <td>0.137664</td>\n",
       "      <td>0.137447</td>\n",
       "      <td>0.139833</td>\n",
       "      <td>0.140564</td>\n",
       "      <td>0.144698</td>\n",
       "      <td>0.144440</td>\n",
       "      <td>...</td>\n",
       "      <td>0.138367</td>\n",
       "      <td>0.146220</td>\n",
       "      <td>0.136204</td>\n",
       "      <td>0.138087</td>\n",
       "      <td>0.137317</td>\n",
       "      <td>0.137917</td>\n",
       "      <td>0.138546</td>\n",
       "      <td>0.142601</td>\n",
       "      <td>0.141431</td>\n",
       "      <td>0.142154</td>\n",
       "    </tr>\n",
       "    <tr>\n",
       "      <th>-9172673334835262304</th>\n",
       "      <td>0.138527</td>\n",
       "      <td>0.138021</td>\n",
       "      <td>0.138274</td>\n",
       "      <td>0.137827</td>\n",
       "      <td>0.137997</td>\n",
       "      <td>0.138037</td>\n",
       "      <td>0.138104</td>\n",
       "      <td>0.138259</td>\n",
       "      <td>0.137633</td>\n",
       "      <td>0.138397</td>\n",
       "      <td>...</td>\n",
       "      <td>0.138588</td>\n",
       "      <td>0.140146</td>\n",
       "      <td>0.138013</td>\n",
       "      <td>0.137839</td>\n",
       "      <td>0.137033</td>\n",
       "      <td>0.137969</td>\n",
       "      <td>0.138337</td>\n",
       "      <td>0.138361</td>\n",
       "      <td>0.138813</td>\n",
       "      <td>0.137538</td>\n",
       "    </tr>\n",
       "    <tr>\n",
       "      <th>-9171475473795142532</th>\n",
       "      <td>0.140720</td>\n",
       "      <td>0.137865</td>\n",
       "      <td>0.138061</td>\n",
       "      <td>0.137633</td>\n",
       "      <td>0.138231</td>\n",
       "      <td>0.138089</td>\n",
       "      <td>0.139009</td>\n",
       "      <td>0.137552</td>\n",
       "      <td>0.137143</td>\n",
       "      <td>0.140581</td>\n",
       "      <td>...</td>\n",
       "      <td>0.139046</td>\n",
       "      <td>0.139895</td>\n",
       "      <td>0.138000</td>\n",
       "      <td>0.137958</td>\n",
       "      <td>0.136061</td>\n",
       "      <td>0.138183</td>\n",
       "      <td>0.138817</td>\n",
       "      <td>0.138060</td>\n",
       "      <td>0.139205</td>\n",
       "      <td>0.137198</td>\n",
       "    </tr>\n",
       "    <tr>\n",
       "      <th>-9166778629773133902</th>\n",
       "      <td>0.138989</td>\n",
       "      <td>0.137725</td>\n",
       "      <td>0.136520</td>\n",
       "      <td>0.137723</td>\n",
       "      <td>0.138559</td>\n",
       "      <td>0.137951</td>\n",
       "      <td>0.138189</td>\n",
       "      <td>0.138496</td>\n",
       "      <td>0.139470</td>\n",
       "      <td>0.137546</td>\n",
       "      <td>...</td>\n",
       "      <td>0.138233</td>\n",
       "      <td>0.144002</td>\n",
       "      <td>0.138050</td>\n",
       "      <td>0.137533</td>\n",
       "      <td>0.139036</td>\n",
       "      <td>0.138399</td>\n",
       "      <td>0.138330</td>\n",
       "      <td>0.137148</td>\n",
       "      <td>0.138027</td>\n",
       "      <td>0.140283</td>\n",
       "    </tr>\n",
       "  </tbody>\n",
       "</table>\n",
       "<p>10 rows × 1140 columns</p>\n",
       "</div>"
      ],
      "text/plain": [
       "                      -9223121837663643404  -9212075797126931087  \\\n",
       "contentId                                                          \n",
       "-9222795471790223670              0.139129              0.137930   \n",
       "-9216926795620865886              0.138044              0.137916   \n",
       "-9194572880052200111              0.135998              0.137652   \n",
       "-9192549002213406534              0.141924              0.137996   \n",
       "-9190737901804729417              0.140209              0.137408   \n",
       "-9189659052158407108              0.138932              0.138699   \n",
       "-9176143510534135851              0.143208              0.138673   \n",
       "-9172673334835262304              0.138527              0.138021   \n",
       "-9171475473795142532              0.140720              0.137865   \n",
       "-9166778629773133902              0.138989              0.137725   \n",
       "\n",
       "                      -9207251133131336884  -9199575329909162940  \\\n",
       "contentId                                                          \n",
       "-9222795471790223670              0.136531              0.143948   \n",
       "-9216926795620865886              0.138698              0.137878   \n",
       "-9194572880052200111              0.137283              0.137536   \n",
       "-9192549002213406534              0.134663              0.137080   \n",
       "-9190737901804729417              0.138708              0.138672   \n",
       "-9189659052158407108              0.138117              0.137621   \n",
       "-9176143510534135851              0.139514              0.139114   \n",
       "-9172673334835262304              0.138274              0.137827   \n",
       "-9171475473795142532              0.138061              0.137633   \n",
       "-9166778629773133902              0.136520              0.137723   \n",
       "\n",
       "                      -9196668942822132778  -9188188261933657343  \\\n",
       "contentId                                                          \n",
       "-9222795471790223670              0.136815              0.137339   \n",
       "-9216926795620865886              0.137969              0.137990   \n",
       "-9194572880052200111              0.140363              0.137807   \n",
       "-9192549002213406534              0.139946              0.138574   \n",
       "-9190737901804729417              0.137725              0.138218   \n",
       "-9189659052158407108              0.138920              0.137766   \n",
       "-9176143510534135851              0.137664              0.137447   \n",
       "-9172673334835262304              0.137997              0.138037   \n",
       "-9171475473795142532              0.138231              0.138089   \n",
       "-9166778629773133902              0.138559              0.137951   \n",
       "\n",
       "                      -9172914609055320039  -9156344805277471150  \\\n",
       "contentId                                                          \n",
       "-9222795471790223670              0.137508              0.143534   \n",
       "-9216926795620865886              0.137974              0.138049   \n",
       "-9194572880052200111              0.141246              0.136284   \n",
       "-9192549002213406534              0.139473              0.144469   \n",
       "-9190737901804729417              0.138390              0.138418   \n",
       "-9189659052158407108              0.138568              0.138200   \n",
       "-9176143510534135851              0.139833              0.140564   \n",
       "-9172673334835262304              0.138104              0.138259   \n",
       "-9171475473795142532              0.139009              0.137552   \n",
       "-9166778629773133902              0.138189              0.138496   \n",
       "\n",
       "                      -9120685872592674274  -9109785559521267180  ...  \\\n",
       "contentId                                                         ...   \n",
       "-9222795471790223670              0.136428              0.135681  ...   \n",
       "-9216926795620865886              0.138217              0.138151  ...   \n",
       "-9194572880052200111              0.135301              0.138512  ...   \n",
       "-9192549002213406534              0.143333              0.138428  ...   \n",
       "-9190737901804729417              0.134883              0.140193  ...   \n",
       "-9189659052158407108              0.140572              0.140365  ...   \n",
       "-9176143510534135851              0.144698              0.144440  ...   \n",
       "-9172673334835262304              0.137633              0.138397  ...   \n",
       "-9171475473795142532              0.137143              0.140581  ...   \n",
       "-9166778629773133902              0.139470              0.137546  ...   \n",
       "\n",
       "                       9105269044962898535   9109075639526981934  \\\n",
       "contentId                                                          \n",
       "-9222795471790223670              0.137351              0.127822   \n",
       "-9216926795620865886              0.137962              0.139527   \n",
       "-9194572880052200111              0.139257              0.143161   \n",
       "-9192549002213406534              0.140233              0.167426   \n",
       "-9190737901804729417              0.138373              0.138459   \n",
       "-9189659052158407108              0.140725              0.148152   \n",
       "-9176143510534135851              0.138367              0.146220   \n",
       "-9172673334835262304              0.138588              0.140146   \n",
       "-9171475473795142532              0.139046              0.139895   \n",
       "-9166778629773133902              0.138233              0.144002   \n",
       "\n",
       "                       9135582630122950040   9137372837662939523  \\\n",
       "contentId                                                          \n",
       "-9222795471790223670              0.137946              0.139653   \n",
       "-9216926795620865886              0.138009              0.138117   \n",
       "-9194572880052200111              0.139139              0.140077   \n",
       "-9192549002213406534              0.138849              0.137037   \n",
       "-9190737901804729417              0.138169              0.137990   \n",
       "-9189659052158407108              0.137645              0.138165   \n",
       "-9176143510534135851              0.136204              0.138087   \n",
       "-9172673334835262304              0.138013              0.137839   \n",
       "-9171475473795142532              0.138000              0.137958   \n",
       "-9166778629773133902              0.138050              0.137533   \n",
       "\n",
       "                       9148269800512008413   9165571805999894845  \\\n",
       "contentId                                                          \n",
       "-9222795471790223670              0.140324              0.136888   \n",
       "-9216926795620865886              0.139634              0.138058   \n",
       "-9194572880052200111              0.154976              0.140109   \n",
       "-9192549002213406534              0.141820              0.139260   \n",
       "-9190737901804729417              0.134041              0.137820   \n",
       "-9189659052158407108              0.149152              0.138912   \n",
       "-9176143510534135851              0.137317              0.137917   \n",
       "-9172673334835262304              0.137033              0.137969   \n",
       "-9171475473795142532              0.136061              0.138183   \n",
       "-9166778629773133902              0.139036              0.138399   \n",
       "\n",
       "                       9187866633451383747   9191849144618614467  \\\n",
       "contentId                                                          \n",
       "-9222795471790223670              0.135787              0.134560   \n",
       "-9216926795620865886              0.138222              0.138864   \n",
       "-9194572880052200111              0.140654              0.135861   \n",
       "-9192549002213406534              0.139513              0.136804   \n",
       "-9190737901804729417              0.138100              0.138286   \n",
       "-9189659052158407108              0.139595              0.139807   \n",
       "-9176143510534135851              0.138546              0.142601   \n",
       "-9172673334835262304              0.138337              0.138361   \n",
       "-9171475473795142532              0.138817              0.138060   \n",
       "-9166778629773133902              0.138330              0.137148   \n",
       "\n",
       "                       9199170757466086545   9210530975708218054  \n",
       "contentId                                                         \n",
       "-9222795471790223670              0.135862              0.136246  \n",
       "-9216926795620865886              0.138480              0.138323  \n",
       "-9194572880052200111              0.139332              0.153114  \n",
       "-9192549002213406534              0.140862              0.148793  \n",
       "-9190737901804729417              0.138630              0.136178  \n",
       "-9189659052158407108              0.140419              0.145698  \n",
       "-9176143510534135851              0.141431              0.142154  \n",
       "-9172673334835262304              0.138813              0.137538  \n",
       "-9171475473795142532              0.139205              0.137198  \n",
       "-9166778629773133902              0.138027              0.140283  \n",
       "\n",
       "[10 rows x 1140 columns]"
      ]
     },
     "execution_count": 297,
     "metadata": {},
     "output_type": "execute_result"
    }
   ],
   "source": [
    "# Converting the reconstructed matrix back to a Pandas dataframe\n",
    "cf_preds_df = pd.DataFrame(all_user_predicted_ratings_norm, columns = users_items_pivot_matrix_df.columns, index=users_ids).transpose()\n",
    "cf_preds_df.head(10)"
   ]
  },
  {
   "cell_type": "code",
   "execution_count": 298,
   "metadata": {
    "hidden": true
   },
   "outputs": [
    {
     "data": {
      "text/plain": [
       "(2926, 1140)"
      ]
     },
     "execution_count": 298,
     "metadata": {},
     "output_type": "execute_result"
    }
   ],
   "source": [
    "cf_preds_df.shape"
   ]
  },
  {
   "cell_type": "code",
   "execution_count": 299,
   "metadata": {
    "_cell_guid": "80f4d589-c8de-4fcf-b60e-e4576fe0b23a",
    "_uuid": "d25926c1a7bada2dee4aacefc93da38053341189",
    "hidden": true,
    "id": "mnhxVlh2Ywsv"
   },
   "outputs": [],
   "source": [
    "class CFRecSys:\n",
    "    \n",
    "    MODEL_NAME = 'Collaborative Filtering'\n",
    "    \n",
    "    def __init__(self, cf_predictions_df, items_df=None):\n",
    "        self.cf_predictions_df = cf_predictions_df\n",
    "        self.items_df = items_df\n",
    "        \n",
    "    def get_model_name(self):\n",
    "        return self.MODEL_NAME\n",
    "        \n",
    "    def recommend_items(self, user_id, items_to_ignore=[], topn=10, verbose=False):\n",
    "        # Get and sort the user's predictions\n",
    "        sorted_user_predictions = self.cf_predictions_df[user_id].sort_values(ascending=False) \\\n",
    "                                    .reset_index().rename(columns={user_id: 'recStrength'})\n",
    "\n",
    "        # Recommend the highest predicted rating movies that the user hasn't seen yet.\n",
    "        recommendations_df = sorted_user_predictions[~sorted_user_predictions['contentId'].isin(items_to_ignore)] \\\n",
    "                               .sort_values('recStrength', ascending = False) \\\n",
    "                               .head(topn)\n",
    "\n",
    "        if verbose:\n",
    "            if self.items_df is None:\n",
    "                raise Exception('\"items_df\" is required in verbose mode')\n",
    "\n",
    "            recommendations_df = recommendations_df.merge(self.items_df, how = 'left', \n",
    "                                                          left_on = 'contentId', \n",
    "                                                          right_on = 'contentId')[['recStrength', 'contentId', 'title', 'url', 'lang']]\n",
    "\n",
    "\n",
    "        return recommendations_df\n",
    "    "
   ]
  },
  {
   "cell_type": "code",
   "execution_count": 300,
   "metadata": {
    "_cell_guid": "80f4d589-c8de-4fcf-b60e-e4576fe0b23a",
    "_uuid": "d25926c1a7bada2dee4aacefc93da38053341189",
    "hidden": true,
    "id": "mnhxVlh2Ywsv"
   },
   "outputs": [],
   "source": [
    "cf_recommender_model = CFRecSys(cf_preds_df, articles_df)"
   ]
  },
  {
   "cell_type": "markdown",
   "metadata": {
    "_cell_guid": "8059422d-f93d-4879-a909-d22c8d746d60",
    "_uuid": "fe9beef019f59a65799ab58a1229874746c60765",
    "hidden": true,
    "id": "46nUC6XUYwsw"
   },
   "source": [
    "> Evaluating the Collaborative Filtering model (SVD matrix factorization), we observe that we got **Recall@5 (33%)** and **Recall@10 (46%)** values, much higher than Popularity model and Content-Based model."
   ]
  },
  {
   "cell_type": "code",
   "execution_count": 301,
   "metadata": {
    "_cell_guid": "f4a2af7e-d368-432d-9ec5-d9229caf208a",
    "_uuid": "d80d307ff6b740b134ac2186f2659d468d3c2655",
    "hidden": true,
    "id": "9RECfMleYwsw"
   },
   "outputs": [
    {
     "name": "stdout",
     "output_type": "stream",
     "text": [
      "Evaluating Collaborative Filtering (SVD Matrix Factorization) model...\n",
      "1139 users processed\n",
      "\n",
      "Global metrics:\n",
      "{'modelName': 'Collaborative Filtering', 'recall@5': 0.33392994119151115, 'recall@10': 0.46803886474047557}\n"
     ]
    },
    {
     "data": {
      "text/html": [
       "<div>\n",
       "<style scoped>\n",
       "    .dataframe tbody tr th:only-of-type {\n",
       "        vertical-align: middle;\n",
       "    }\n",
       "\n",
       "    .dataframe tbody tr th {\n",
       "        vertical-align: top;\n",
       "    }\n",
       "\n",
       "    .dataframe thead th {\n",
       "        text-align: right;\n",
       "    }\n",
       "</style>\n",
       "<table border=\"1\" class=\"dataframe\">\n",
       "  <thead>\n",
       "    <tr style=\"text-align: right;\">\n",
       "      <th></th>\n",
       "      <th>hits@5_count</th>\n",
       "      <th>hits@10_count</th>\n",
       "      <th>interacted_count</th>\n",
       "      <th>recall@5</th>\n",
       "      <th>recall@10</th>\n",
       "      <th>_person_id</th>\n",
       "    </tr>\n",
       "  </thead>\n",
       "  <tbody>\n",
       "    <tr>\n",
       "      <th>76</th>\n",
       "      <td>21</td>\n",
       "      <td>46</td>\n",
       "      <td>192</td>\n",
       "      <td>0.109375</td>\n",
       "      <td>0.239583</td>\n",
       "      <td>3609194402293569455</td>\n",
       "    </tr>\n",
       "    <tr>\n",
       "      <th>17</th>\n",
       "      <td>30</td>\n",
       "      <td>56</td>\n",
       "      <td>134</td>\n",
       "      <td>0.223881</td>\n",
       "      <td>0.417910</td>\n",
       "      <td>-2626634673110551643</td>\n",
       "    </tr>\n",
       "    <tr>\n",
       "      <th>16</th>\n",
       "      <td>16</td>\n",
       "      <td>34</td>\n",
       "      <td>130</td>\n",
       "      <td>0.123077</td>\n",
       "      <td>0.261538</td>\n",
       "      <td>-1032019229384696495</td>\n",
       "    </tr>\n",
       "    <tr>\n",
       "      <th>10</th>\n",
       "      <td>38</td>\n",
       "      <td>51</td>\n",
       "      <td>117</td>\n",
       "      <td>0.324786</td>\n",
       "      <td>0.435897</td>\n",
       "      <td>-1443636648652872475</td>\n",
       "    </tr>\n",
       "    <tr>\n",
       "      <th>82</th>\n",
       "      <td>39</td>\n",
       "      <td>48</td>\n",
       "      <td>88</td>\n",
       "      <td>0.443182</td>\n",
       "      <td>0.545455</td>\n",
       "      <td>-2979881261169775358</td>\n",
       "    </tr>\n",
       "    <tr>\n",
       "      <th>161</th>\n",
       "      <td>22</td>\n",
       "      <td>34</td>\n",
       "      <td>80</td>\n",
       "      <td>0.275000</td>\n",
       "      <td>0.425000</td>\n",
       "      <td>-3596626804281480007</td>\n",
       "    </tr>\n",
       "    <tr>\n",
       "      <th>65</th>\n",
       "      <td>24</td>\n",
       "      <td>32</td>\n",
       "      <td>73</td>\n",
       "      <td>0.328767</td>\n",
       "      <td>0.438356</td>\n",
       "      <td>1116121227607581999</td>\n",
       "    </tr>\n",
       "    <tr>\n",
       "      <th>81</th>\n",
       "      <td>16</td>\n",
       "      <td>21</td>\n",
       "      <td>69</td>\n",
       "      <td>0.231884</td>\n",
       "      <td>0.304348</td>\n",
       "      <td>692689608292948411</td>\n",
       "    </tr>\n",
       "    <tr>\n",
       "      <th>106</th>\n",
       "      <td>20</td>\n",
       "      <td>28</td>\n",
       "      <td>69</td>\n",
       "      <td>0.289855</td>\n",
       "      <td>0.405797</td>\n",
       "      <td>-9016528795238256703</td>\n",
       "    </tr>\n",
       "    <tr>\n",
       "      <th>52</th>\n",
       "      <td>23</td>\n",
       "      <td>30</td>\n",
       "      <td>68</td>\n",
       "      <td>0.338235</td>\n",
       "      <td>0.441176</td>\n",
       "      <td>3636910968448833585</td>\n",
       "    </tr>\n",
       "  </tbody>\n",
       "</table>\n",
       "</div>"
      ],
      "text/plain": [
       "     hits@5_count  hits@10_count  interacted_count  recall@5  recall@10  \\\n",
       "76             21             46               192  0.109375   0.239583   \n",
       "17             30             56               134  0.223881   0.417910   \n",
       "16             16             34               130  0.123077   0.261538   \n",
       "10             38             51               117  0.324786   0.435897   \n",
       "82             39             48                88  0.443182   0.545455   \n",
       "161            22             34                80  0.275000   0.425000   \n",
       "65             24             32                73  0.328767   0.438356   \n",
       "81             16             21                69  0.231884   0.304348   \n",
       "106            20             28                69  0.289855   0.405797   \n",
       "52             23             30                68  0.338235   0.441176   \n",
       "\n",
       "              _person_id  \n",
       "76   3609194402293569455  \n",
       "17  -2626634673110551643  \n",
       "16  -1032019229384696495  \n",
       "10  -1443636648652872475  \n",
       "82  -2979881261169775358  \n",
       "161 -3596626804281480007  \n",
       "65   1116121227607581999  \n",
       "81    692689608292948411  \n",
       "106 -9016528795238256703  \n",
       "52   3636910968448833585  "
      ]
     },
     "execution_count": 301,
     "metadata": {},
     "output_type": "execute_result"
    }
   ],
   "source": [
    "print('Evaluating Collaborative Filtering (SVD Matrix Factorization) model...')\n",
    "cf_global_metrics, cf_detailed_results_df = model_evaluator.evaluate_model(cf_recommender_model)\n",
    "print('\\nGlobal metrics:\\n%s' % cf_global_metrics)\n",
    "cf_detailed_results_df.head(10)"
   ]
  },
  {
   "cell_type": "markdown",
   "metadata": {
    "_cell_guid": "385247d0-adf3-4094-94df-5c9eb4838849",
    "_uuid": "b9e9ef77403ce530fa25d4f57a43261baa3b13cc",
    "heading_collapsed": true,
    "id": "4nKvqoQaYwsw"
   },
   "source": [
    "## Hybrid Recommender"
   ]
  },
  {
   "cell_type": "markdown",
   "metadata": {
    "_cell_guid": "f82c40f2-cbba-4cd1-817f-c8a1f27dd4fb",
    "_uuid": "255de28ff7990e2ba7a0e7ad50b6887740d76c28",
    "hidden": true,
    "id": "RarGPlU0Ywsx"
   },
   "source": [
    "What if we combine Collaborative Filtering and Content-Based Filtering approaches?    \n",
    "Would that provide us with more accurate recommendations?    \n",
    "In fact, hybrid methods have performed better than individual approaches in many studies and have being extensively used by researchers and practioners.  \n",
    "Let's build a simple hybridization method, as an ensemble that takes the weighted average of the normalized CF scores with the Content-Based scores, and ranking by resulting score. In this case, as the CF model is much more accurate than the CB model, the weights for the CF and CB models are 100.0 and 1.0, respectivelly."
   ]
  },
  {
   "cell_type": "code",
   "execution_count": null,
   "metadata": {
    "_cell_guid": "6014bdf1-448e-485c-9a7a-410f875f92ce",
    "_uuid": "52fabb5abddc6b642ec94434efbf64dac1bd6cd9",
    "hidden": true,
    "id": "ohxbGpQ7Ywsx"
   },
   "outputs": [],
   "source": [
    "class HybridRecommender:\n",
    "    \n",
    "    MODEL_NAME = 'Hybrid'\n",
    "    \n",
    "    def __init__(self, cb_rec_model, cf_rec_model, items_df, cb_ensemble_weight=1.0, cf_ensemble_weight=1.0):\n",
    "        self.cb_rec_model = cb_rec_model\n",
    "        self.cf_rec_model = cf_rec_model\n",
    "        self.cb_ensemble_weight = cb_ensemble_weight\n",
    "        self.cf_ensemble_weight = cf_ensemble_weight\n",
    "        self.items_df = items_df\n",
    "        \n",
    "    def get_model_name(self):\n",
    "        return self.MODEL_NAME\n",
    "        \n",
    "    def recommend_items(self, user_id, items_to_ignore=[], topn=10, verbose=False):\n",
    "        #Getting the top-1000 Content-based filtering recommendations\n",
    "        cb_recs_df = self.cb_rec_model.recommend_items(user_id, items_to_ignore=items_to_ignore, verbose=verbose,\n",
    "                                                           topn=1000).rename(columns={'recStrength': 'recStrengthCB'})\n",
    "        \n",
    "        #Getting the top-1000 Collaborative filtering recommendations\n",
    "        cf_recs_df = self.cf_rec_model.recommend_items(user_id, items_to_ignore=items_to_ignore, verbose=verbose, \n",
    "                                                           topn=1000).rename(columns={'recStrength': 'recStrengthCF'})\n",
    "        \n",
    "        #Combining the results by contentId\n",
    "        recs_df = cb_recs_df.merge(cf_recs_df,\n",
    "                                   how = 'outer', \n",
    "                                   left_on = 'contentId', \n",
    "                                   right_on = 'contentId').fillna(0.0)\n",
    "        \n",
    "        #Computing a hybrid recommendation score based on CF and CB scores\n",
    "        #recs_df['recStrengthHybrid'] = recs_df['recStrengthCB'] * recs_df['recStrengthCF'] \n",
    "        recs_df['recStrengthHybrid'] = (recs_df['recStrengthCB'] * self.cb_ensemble_weight) \\\n",
    "                                     + (recs_df['recStrengthCF'] * self.cf_ensemble_weight)\n",
    "        \n",
    "        #Sorting recommendations by hybrid score\n",
    "        recommendations_df = recs_df.sort_values('recStrengthHybrid', ascending=False).head(topn)\n",
    "\n",
    "        if verbose:\n",
    "            if self.items_df is None:\n",
    "                raise Exception('\"items_df\" is required in verbose mode')\n",
    "\n",
    "            recommendations_df = recommendations_df.merge(self.items_df, how = 'left', \n",
    "                                                          left_on = 'contentId', \n",
    "                                                          right_on = 'contentId')[['recStrengthHybrid', 'contentId', 'title', 'url', 'lang']]\n",
    "\n",
    "\n",
    "        return recommendations_df"
   ]
  },
  {
   "cell_type": "code",
   "execution_count": null,
   "metadata": {
    "_cell_guid": "6014bdf1-448e-485c-9a7a-410f875f92ce",
    "_uuid": "52fabb5abddc6b642ec94434efbf64dac1bd6cd9",
    "hidden": true,
    "id": "ohxbGpQ7Ywsx"
   },
   "outputs": [],
   "source": [
    "hybrid_recommender_model = HybridRecommender(content_based_recommender_model, cf_recommender_model, articles_df,\n",
    "                                             cb_ensemble_weight=1.0, cf_ensemble_weight=100.0)"
   ]
  },
  {
   "cell_type": "markdown",
   "metadata": {
    "_cell_guid": "d5f5129c-7ca6-44da-99d7-224f8cba1c6d",
    "_uuid": "14a63938f9ea9c4dc939e1831f486bf9e444853c",
    "hidden": true,
    "id": "_ZrRXPo3Ywsx"
   },
   "source": [
    "**We have a new champion!**  \n",
    "Our simple hybrid approach surpasses Content-Based filtering with its combination with Collaborative Filtering. Now we have a **Recall@5** of **34.2%** and **Recall@10** of **47.9%**"
   ]
  },
  {
   "cell_type": "code",
   "execution_count": null,
   "metadata": {
    "_cell_guid": "ba301021-8c21-458b-8565-ae0d6e88b637",
    "_uuid": "131844d0156a866c688b19181fc63fa676017d67",
    "hidden": true,
    "id": "q7QNmtPtYwsx"
   },
   "outputs": [],
   "source": [
    "print('Evaluating Hybrid model...')\n",
    "hybrid_global_metrics, hybrid_detailed_results_df = model_evaluator.evaluate_model(hybrid_recommender_model)\n",
    "print('\\nGlobal metrics:\\n%s' % hybrid_global_metrics)\n",
    "hybrid_detailed_results_df.head(10)"
   ]
  },
  {
   "cell_type": "markdown",
   "metadata": {
    "_cell_guid": "bde95842-5f92-4161-943f-34ec80969aa4",
    "_uuid": "2732ea17af581efaec91458a7b2666f76c8bfd1d",
    "heading_collapsed": true,
    "id": "Kh151f_TYwsy"
   },
   "source": [
    "## Comparing the methods"
   ]
  },
  {
   "cell_type": "code",
   "execution_count": null,
   "metadata": {
    "_cell_guid": "6b294753-5371-46cb-a7fa-d4f2d8c1a3e2",
    "_uuid": "06c824e8787618cc02eace0196423acb32981aec",
    "hidden": true,
    "id": "oYhskYdHYwsy"
   },
   "outputs": [],
   "source": [
    "global_metrics_df = pd.DataFrame([cb_global_metrics, pop_global_metrics, cf_global_metrics, hybrid_global_metrics]) \\\n",
    "                        .set_index('modelName')\n",
    "global_metrics_df"
   ]
  },
  {
   "cell_type": "code",
   "execution_count": null,
   "metadata": {
    "_cell_guid": "e4a67773-62e1-4eb5-a6fe-4342fb71590a",
    "_uuid": "432c01385dc6fc238a53eb0a0bbec61b641ef263",
    "hidden": true,
    "id": "aLTzYeEzYwsy"
   },
   "outputs": [],
   "source": [
    "%matplotlib inline\n",
    "ax = global_metrics_df.transpose().plot(kind='bar', figsize=(15,8))\n",
    "for p in ax.patches:\n",
    "    ax.annotate(\"%.3f\" % p.get_height(), (p.get_x() + p.get_width() / 2., p.get_height()), ha='center', va='center', xytext=(0, 10), textcoords='offset points')"
   ]
  },
  {
   "cell_type": "markdown",
   "metadata": {
    "_cell_guid": "60689e32-a091-4067-9aa6-3520d4d48af2",
    "_uuid": "24bc9679fb3bfc224aeda1b236e36ab17c468d18",
    "heading_collapsed": true,
    "id": "_Pj5ILNoYwsy"
   },
   "source": [
    "# Testing"
   ]
  },
  {
   "cell_type": "markdown",
   "metadata": {
    "_cell_guid": "58b12970-5607-4626-b6a0-e6941730a059",
    "_uuid": "1e7aa27a218a053a58b0b39618eec3429da3ef6a",
    "hidden": true,
    "id": "Olws48yYYwsz"
   },
   "source": [
    "Let's test the best model (Hybrid) for my user."
   ]
  },
  {
   "cell_type": "code",
   "execution_count": null,
   "metadata": {
    "_cell_guid": "07d07d66-1092-4316-a852-d5895d364737",
    "_uuid": "5dad675fe82c4008691ac140e5e57fe29544a940",
    "hidden": true,
    "id": "-rQ5XNjmYwsz"
   },
   "outputs": [],
   "source": [
    "def inspect_interactions(person_id, test_set=True):\n",
    "    if test_set:\n",
    "        interactions_df = interactions_test_indexed_df\n",
    "    else:\n",
    "        interactions_df = interactions_train_indexed_df\n",
    "    return interactions_df.loc[person_id].merge(articles_df, how = 'left', \n",
    "                                                      left_on = 'contentId', \n",
    "                                                      right_on = 'contentId') \\\n",
    "                          .sort_values('eventStrength', ascending = False)[['eventStrength', \n",
    "                                                                          'contentId',\n",
    "                                                                          'title', 'url', 'lang']]"
   ]
  },
  {
   "cell_type": "markdown",
   "metadata": {
    "_cell_guid": "b76a6f66-6aec-47af-a8f6-6c594781cddc",
    "_uuid": "e377b6a862349fa8483deea70f1c362117f25001",
    "hidden": true,
    "id": "zTknIoOiYwsz"
   },
   "source": [
    "Here we see some articles I interacted in Deskdrop from train set. It can be easily observed that among my main interests are **machine learning**, **deep learning**, **artificial intelligence**, and **google cloud platform**."
   ]
  },
  {
   "cell_type": "code",
   "execution_count": null,
   "metadata": {
    "_cell_guid": "ec962ce2-0593-4d29-8383-57dc9e785589",
    "_uuid": "d850f080e3a24aab664c10f7ab1a9eb3dc5bed39",
    "hidden": true,
    "id": "25IrrCgRYwsz"
   },
   "outputs": [],
   "source": [
    "inspect_interactions(-1479311724257856983, test_set=False).head(20)"
   ]
  },
  {
   "cell_type": "markdown",
   "metadata": {
    "_cell_guid": "c6427984-842a-4d61-8a23-580b93e0fa12",
    "_uuid": "a6d56dc1c9d14e39d95e11a6f616ca2c577cd37f",
    "hidden": true,
    "id": "08b3QZCUYwsz"
   },
   "source": [
    "**The recommendations really matches my interests, as I would read all of them!**"
   ]
  },
  {
   "cell_type": "code",
   "execution_count": null,
   "metadata": {
    "_cell_guid": "71944eb4-51ee-4e23-8643-ef2abe83822e",
    "_uuid": "af890f5ca9b3ae92bfdb51e61af6d5737aaf8e56",
    "hidden": true,
    "id": "4z-c-qytYwsz"
   },
   "outputs": [],
   "source": [
    "hybrid_recommender_model.recommend_items(-1479311724257856983, topn=20, verbose=True)"
   ]
  },
  {
   "cell_type": "markdown",
   "metadata": {
    "_cell_guid": "75bf1701-e83c-4440-b088-858380e584e3",
    "_uuid": "72a8ec0dc47d567c6a891f51622747154075058d",
    "heading_collapsed": true,
    "id": "oeIhWkIpYws0"
   },
   "source": [
    "# Conclusion"
   ]
  },
  {
   "cell_type": "markdown",
   "metadata": {
    "_cell_guid": "0fe267b0-2cef-404f-be12-b4dab61a483c",
    "_uuid": "e85e19fdd4e120b4552e97565457845c510fa65d",
    "hidden": true,
    "id": "RmGLyLPpYws0"
   },
   "source": [
    "In this notebook, we've explored and compared the main Recommender Systems techniques on [CI&T Deskdrop](https://www.kaggle.com/gspmoreira/articles-sharing-reading-from-cit-deskdrop) dataset. It could be observed that for articles recommendation, content-based filtering and a hybrid method performed better than Collaborative Filtering alone.  \n",
    "\n",
    "There is large room for improvements of the results. Here are some tips:\n",
    "- In this example, we've completely ignored the time, considering that all articles were available to be recommended to users at any time. A better approach would be to filter only articles that were available for users at a given time.\n",
    "- You could leverage the available contextual information to model users preferences across time (period of day, day of week, month), location (country and state/district) and devices (browser, mobile native app).  \n",
    "This contextual information can be easily incorporated in [Learn-to-Rank](https://en.wikipedia.org/wiki/Learning_to_rank) models (like XGBoost Gradient Boosting Decision Trees with ranking objective), Logistic models (with categorical features [One-Hot encoded](http://scikit-learn.org/stable/modules/generated/sklearn.preprocessing.OneHotEncoder.html) or [Feature Hashed](https://en.wikipedia.org/wiki/Feature_hashing)), and [Wide & Deep models](https://ai.googleblog.com/2016/06/wide-deep-learning-better-together-with.html), which is implemented in [TensorFlow](https://docs.w3cub.com/tensorflow~guide/tutorials/wide_and_deep/). Take a look in the summary my solution shared for [Outbrain Click Prediction](https://www.kaggle.com/c/outbrain-click-prediction/discussion/27897#157215) competition. \n",
    "- Those basic techniques were used for didactic purposes. There are more advanced techniques in RecSys research community, specially advanced Matrix Factorization and Deep Learning models.  \n",
    "\n",
    "You can know more about state-of-the-art methods published in Recommender Systems on [ACM RecSys conference](https://recsys.acm.org/).  \n",
    "If you are more like practioner than researcher, you might try some Collaborative Filtering frameworks in this dataset, like [surprise](https://github.com/NicolasHug/Surprise), [mrec](https://github.com/Mendeley/mrec),  [python-recsys](https://github.com/ocelma/python-recsys) and [Spark ALS Matrix Factorization](https://spark.apache.org/docs/latest/mllib-collaborative-filtering.html) (distributed implementation for large datasets).  \n",
    "Take a look in this [presentation](https://www.slideshare.net/gabrielspmoreira/discovering-users-topics-of-interest-in-recommender-systems-tdc-sp-2016) where I describe a production recommender system, focused on Content-Based Filtering and Topic Modeling techniques."
   ]
  },
  {
   "cell_type": "code",
   "execution_count": null,
   "metadata": {
    "hidden": true,
    "id": "4bmzwZEMYws0"
   },
   "outputs": [],
   "source": []
  }
 ],
 "metadata": {
  "colab": {
   "collapsed_sections": [
    "g7WVucKxYwsn",
    "tkr6PaGXYwsr",
    "pDJkg7HEYwsr",
    "4nKvqoQaYwsw",
    "Kh151f_TYwsy",
    "_Pj5ILNoYwsy",
    "oeIhWkIpYws0"
   ],
   "name": "kgl_rec-sys.ipynb",
   "provenance": []
  },
  "kernelspec": {
   "display_name": "Python 3 (ipykernel)",
   "language": "python",
   "name": "python3"
  },
  "language_info": {
   "codemirror_mode": {
    "name": "ipython",
    "version": 3
   },
   "file_extension": ".py",
   "mimetype": "text/x-python",
   "name": "python",
   "nbconvert_exporter": "python",
   "pygments_lexer": "ipython3",
   "version": "3.10.9"
  },
  "toc": {
   "base_numbering": 1,
   "nav_menu": {},
   "number_sections": false,
   "sideBar": true,
   "skip_h1_title": true,
   "title_cell": "Table of Contents",
   "title_sidebar": "Contents",
   "toc_cell": true,
   "toc_position": {},
   "toc_section_display": true,
   "toc_window_display": false
  }
 },
 "nbformat": 4,
 "nbformat_minor": 1
}
