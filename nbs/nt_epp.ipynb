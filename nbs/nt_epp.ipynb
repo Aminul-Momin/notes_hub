{
 "cells": [
  {
   "cell_type": "markdown",
   "metadata": {
    "toc": true
   },
   "source": [
    "<h1>Table of Contents<span class=\"tocSkip\"></span></h1>\n",
    "<div class=\"toc\"><ul class=\"toc-item\"><li><span><a href=\"#Programming-Terminology:\" data-toc-modified-id=\"Programming-Terminology:-1\">Programming Terminology:</a></span><ul class=\"toc-item\"><li><ul class=\"toc-item\"><li><span><a href=\"#Mutability/Imutability\" data-toc-modified-id=\"Mutability/Imutability-1.0.1\">Mutability/Imutability</a></span></li><li><span><a href=\"#Shallow-Copy-/-Deep-Copy\" data-toc-modified-id=\"Shallow-Copy-/-Deep-Copy-1.0.2\">Shallow Copy / Deep Copy</a></span></li><li><span><a href=\"#Serialization/Pickling-and-Deserialization/Unpickling:\" data-toc-modified-id=\"Serialization/Pickling-and-Deserialization/Unpickling:-1.0.3\">Serialization/Pickling and Deserialization/Unpickling:</a></span></li><li><span><a href=\"#Compound-Object\" data-toc-modified-id=\"Compound-Object-1.0.4\">Compound Object</a></span></li><li><span><a href=\"#Duck-Typing\" data-toc-modified-id=\"Duck-Typing-1.0.5\">Duck Typing</a></span></li><li><span><a href=\"#Pure-Function-/-Higher-Order-Function-/-First-class-Object\" data-toc-modified-id=\"Pure-Function-/-Higher-Order-Function-/-First-class-Object-1.0.6\">Pure Function / Higher Order Function / First class Object</a></span></li><li><span><a href=\"#Closures\" data-toc-modified-id=\"Closures-1.0.7\">Closures</a></span></li></ul></li></ul></li><li><span><a href=\"#Built-in-Functions\" data-toc-modified-id=\"Built-in-Functions-2\">Built-in Functions</a></span></li><li><span><a href=\"#Collection-Interface\" data-toc-modified-id=\"Collection-Interface-3\">Collection Interface</a></span><ul class=\"toc-item\"><li><ul class=\"toc-item\"><li><span><a href=\"#list:\" data-toc-modified-id=\"list:-3.0.1\">list:</a></span></li><li><span><a href=\"#--Facts-of-List\" data-toc-modified-id=\"--Facts-of-List-3.0.2\"> <font color=\"magenta\"> Facts of List</font></a></span></li><li><span><a href=\"#dict-(collections.Counter()-vs-collections.OrderedDict()-vs-collections.defaultdict()):\" data-toc-modified-id=\"dict-(collections.Counter()-vs-collections.OrderedDict()-vs-collections.defaultdict()):-3.0.3\">dict (<code>collections.Counter()</code> vs <code>collections.OrderedDict()</code> vs <code>collections.defaultdict()</code>):</a></span></li><li><span><a href=\"#set:\" data-toc-modified-id=\"set:-3.0.4\">set:</a></span></li><li><span><a href=\"#tuple\" data-toc-modified-id=\"tuple-3.0.5\">tuple</a></span></li><li><span><a href=\"#Python-String-and-Character:-(Tips-and-Tricks)\" data-toc-modified-id=\"Python-String-and-Character:-(Tips-and-Tricks)-3.0.6\">Python String and Character: (Tips and Tricks)</a></span></li><li><span><a href=\"#namedtuple:\" data-toc-modified-id=\"namedtuple:-3.0.7\">namedtuple:</a></span></li><li><span><a href=\"#collections.deque:\" data-toc-modified-id=\"collections.deque:-3.0.8\">collections.deque:</a></span></li><li><span><a href=\"#heapq-(PriorityQueue)\" data-toc-modified-id=\"heapq-(PriorityQueue)-3.0.9\">heapq (PriorityQueue)</a></span></li></ul></li></ul></li><li><span><a href=\"#Pythonic-Concepts\" data-toc-modified-id=\"Pythonic-Concepts-4\">Pythonic Concepts</a></span><ul class=\"toc-item\"><li><span><a href=\"#Comprehension\" data-toc-modified-id=\"Comprehension-4.1\">Comprehension</a></span><ul class=\"toc-item\"><li><span><a href=\"#List-Comprehension\" data-toc-modified-id=\"List-Comprehension-4.1.1\">List Comprehension</a></span></li><li><span><a href=\"#Dict-Comprehension\" data-toc-modified-id=\"Dict-Comprehension-4.1.2\">Dict Comprehension</a></span></li><li><span><a href=\"#Set-Comprehension\" data-toc-modified-id=\"Set-Comprehension-4.1.3\">Set Comprehension</a></span></li><li><span><a href=\"#Python-List-Comprehension-Lambda-Closure:\" data-toc-modified-id=\"Python-List-Comprehension-Lambda-Closure:-4.1.4\">Python List Comprehension Lambda Closure:</a></span></li></ul></li><li><span><a href=\"#Arguments--*-args--and--**-kwargs-\" data-toc-modified-id=\"Arguments--*-args--and--**-kwargs--4.2\">Arguments <b style=\"color:red\"> * args </b> and <b style=\"color:red\"> ** kwargs </b></a></span></li><li><span><a href=\"#Parameters:\" data-toc-modified-id=\"Parameters:-4.3\"><a href=\"https://docs.python.org/3/glossary.html#term-parameter\" rel=\"nofollow\" target=\"_blank\">Parameters</a>:</a></span></li><li><span><a href=\"#Context-Manager:\" data-toc-modified-id=\"Context-Manager:-4.4\">Context Manager:</a></span></li><li><span><a href=\"#Decorator\" data-toc-modified-id=\"Decorator-4.5\">Decorator</a></span></li><li><span><a href=\"#Special-Function\" data-toc-modified-id=\"Special-Function-4.6\">Special Function</a></span></li><li><span><a href=\"#File-Handling-in-Python\" data-toc-modified-id=\"File-Handling-in-Python-4.7\">File Handling in Python</a></span></li><li><span><a href=\"#Iterator\" data-toc-modified-id=\"Iterator-4.8\">Iterator</a></span></li><li><span><a href=\"#Generator\" data-toc-modified-id=\"Generator-4.9\">Generator</a></span></li><li><span><a href=\"#Itertools,-Functool-and-Operator\" data-toc-modified-id=\"Itertools,-Functool-and-Operator-4.10\">Itertools, Functool and Operator</a></span></li><li><span><a href=\"#Scope-and-Execution-Context\" data-toc-modified-id=\"Scope-and-Execution-Context-4.11\"><a href=\"https://realpython.com/python-scope-legb-rule/\" rel=\"nofollow\" target=\"_blank\">Scope and Execution Context</a></a></span></li><li><span><a href=\"#Python-Modules-and-__name__-Analysis:\" data-toc-modified-id=\"Python-Modules-and-__name__-Analysis:-4.12\">Python <code>Modules</code> and <code>__name__</code> Analysis:</a></span><ul class=\"toc-item\"><li><span><a href=\"#__name__\" data-toc-modified-id=\"__name__-4.12.1\"><code>__name__</code></a></span></li></ul></li><li><span><a href=\"#Exception-Handling:\" data-toc-modified-id=\"Exception-Handling:-4.13\">Exception Handling:</a></span></li><li><span><a href=\"#Slice\" data-toc-modified-id=\"Slice-4.14\">Slice</a></span></li><li><span><a href=\"#Regular-Expression\" data-toc-modified-id=\"Regular-Expression-4.15\">Regular Expression</a></span></li></ul></li></ul></div>"
   ]
  },
  {
   "cell_type": "code",
   "execution_count": 1,
   "metadata": {
    "collapsed": true,
    "jupyter": {
     "outputs_hidden": true
    },
    "tags": []
   },
   "outputs": [
    {
     "ename": "ModuleNotFoundError",
     "evalue": "No module named 'matplotlib'",
     "output_type": "error",
     "traceback": [
      "\u001b[0;31m---------------------------------------------------------------------------\u001b[0m",
      "\u001b[0;31mModuleNotFoundError\u001b[0m                       Traceback (most recent call last)",
      "Cell \u001b[0;32mIn[1], line 9\u001b[0m\n\u001b[1;32m      6\u001b[0m \u001b[38;5;28;01mfrom\u001b[39;00m \u001b[38;5;21;01mmath\u001b[39;00m \u001b[38;5;28;01mimport\u001b[39;00m \u001b[38;5;241m*\u001b[39m\n\u001b[1;32m      7\u001b[0m \u001b[38;5;28;01mimport\u001b[39;00m \u001b[38;5;21;01mos\u001b[39;00m\u001b[38;5;241m,\u001b[39m \u001b[38;5;21;01mstring\u001b[39;00m\u001b[38;5;241m,\u001b[39m \u001b[38;5;21;01mpickle\u001b[39;00m\u001b[38;5;241m,\u001b[39m \u001b[38;5;21;01mtime\u001b[39;00m\u001b[38;5;241m,\u001b[39m \u001b[38;5;21;01mbuiltins\u001b[39;00m\u001b[38;5;241m,\u001b[39m \u001b[38;5;21;01mmath\u001b[39;00m\u001b[38;5;241m,\u001b[39m \u001b[38;5;21;01mshutil\u001b[39;00m\u001b[38;5;241m,\u001b[39m \u001b[38;5;21;01mre\u001b[39;00m\u001b[38;5;241m,\u001b[39m \u001b[38;5;21;01mheapq\u001b[39;00m\n\u001b[0;32m----> 9\u001b[0m \u001b[38;5;28;01mfrom\u001b[39;00m \u001b[38;5;21;01mmatplotlib\u001b[39;00m \u001b[38;5;28;01mimport\u001b[39;00m pyplot \u001b[38;5;28;01mas\u001b[39;00m plt\n",
      "\u001b[0;31mModuleNotFoundError\u001b[0m: No module named 'matplotlib'"
     ]
    }
   ],
   "source": [
    "from random import randint, randrange, choice, choices, sample, shuffle\n",
    "from collections import Counter, namedtuple, deque, OrderedDict, defaultdict\n",
    "from itertools import accumulate, groupby, product, permutations, combinations\n",
    "import functools\n",
    "\n",
    "from math import *\n",
    "import os, string, pickle, time, builtins, math, shutil, re, heapq\n",
    "\n",
    "from matplotlib import pyplot as plt"
   ]
  },
  {
   "cell_type": "code",
   "execution_count": 2,
   "metadata": {},
   "outputs": [],
   "source": [
    "import collections\n",
    "import collections.abc as abc"
   ]
  },
  {
   "cell_type": "code",
   "execution_count": 3,
   "metadata": {},
   "outputs": [],
   "source": [
    "# os.environ\n",
    "# sys.path.append(DS_UTILS)\n",
    "# sys.path"
   ]
  },
  {
   "cell_type": "code",
   "execution_count": 4,
   "metadata": {},
   "outputs": [],
   "source": [
    "UTILS = os.environ['UTILS']\n",
    "ADS = os.environ['ADS']"
   ]
  },
  {
   "cell_type": "code",
   "execution_count": 5,
   "metadata": {},
   "outputs": [],
   "source": [
    "# %run UTILS+'/dsutils.py''"
   ]
  },
  {
   "cell_type": "code",
   "execution_count": 6,
   "metadata": {
    "code_folding": [
     0,
     4,
     7
    ]
   },
   "outputs": [],
   "source": [
    "def green(s):\n",
    "    # return '\\033[01;32m%s\\033[m' % s\n",
    "    return \"\\033[01;5m  \\033[01;32m %s \\033[m  \\033[m\" % s\n",
    "\n",
    "def yellow(s):\n",
    "    return '\\033[01;33m%s\\033[m' % s\n",
    "\n",
    "def red(s):\n",
    "    # return '\\033[01;31m%s\\033[m' % s\n",
    "    return \"\\033[01;5m  \\033[01;31m %s \\033[m  \\033[m\" % s"
   ]
  },
  {
   "cell_type": "markdown",
   "metadata": {},
   "source": [
    "- [PYTHON-101](https://python101.pythonlibrary.org/index.html)\n",
    "- [Glossary](https://docs.python.org/3/glossary.html#term-qualified-name)"
   ]
  },
  {
   "cell_type": "markdown",
   "metadata": {},
   "source": [
    "- [Python 3.10.4 documentation](https://docs.python.org/3/)"
   ]
  },
  {
   "cell_type": "markdown",
   "metadata": {},
   "source": [
    "- [Generic Fundamentals of Python](https://www.interviewbit.com/python-interview-questions/)"
   ]
  },
  {
   "cell_type": "markdown",
   "metadata": {},
   "source": [
    "- [Intermediate Python Programming Course](https://www.youtube.com/watch?v=HGOBQPFzWKo)"
   ]
  },
  {
   "cell_type": "markdown",
   "metadata": {},
   "source": [
    "- [Corey: Preparing for a Python Interview: 10 Things You Should Know](https://www.youtube.com/watch?v=DEwgZNC-KyE&list=RDCMUCCezIgC97PvUuR4_gbFUs5g&index=4)"
   ]
  },
  {
   "cell_type": "markdown",
   "metadata": {
    "jp-MarkdownHeadingCollapsed": true,
    "tags": []
   },
   "source": [
    "# Programming Terminology:"
   ]
  },
  {
   "cell_type": "markdown",
   "metadata": {},
   "source": [
    "`Learning Resources:`"
   ]
  },
  {
   "cell_type": "markdown",
   "metadata": {},
   "source": [
    "Visit the following sources to learn about python."
   ]
  },
  {
   "cell_type": "markdown",
   "metadata": {},
   "source": [
    " * [W3School](https://www.w3schools.com/python/python_ml_decision_tree.asp)\n",
    " * []()\n",
    " * []()"
   ]
  },
  {
   "cell_type": "markdown",
   "metadata": {
    "heading_collapsed": true
   },
   "source": [
    "### Mutability/Imutability"
   ]
  },
  {
   "cell_type": "code",
   "execution_count": null,
   "metadata": {
    "hidden": true
   },
   "outputs": [],
   "source": []
  },
  {
   "cell_type": "markdown",
   "metadata": {
    "heading_collapsed": true
   },
   "source": [
    "### Shallow Copy / Deep Copy"
   ]
  },
  {
   "cell_type": "code",
   "execution_count": 9,
   "metadata": {
    "hidden": true
   },
   "outputs": [],
   "source": [
    "from copy import copy, deepcopy"
   ]
  },
  {
   "cell_type": "code",
   "execution_count": 10,
   "metadata": {
    "hidden": true
   },
   "outputs": [],
   "source": [
    "list_1 = [1, 2, [3, 5], 4]"
   ]
  },
  {
   "cell_type": "code",
   "execution_count": 11,
   "metadata": {
    "hidden": true
   },
   "outputs": [],
   "source": [
    "## shallow copy\n",
    "list_2 = copy(list_1) \n",
    "list_2[3] = 7\n",
    "list_2[2].append(6)"
   ]
  },
  {
   "cell_type": "code",
   "execution_count": 12,
   "metadata": {
    "hidden": true
   },
   "outputs": [
    {
     "data": {
      "text/plain": [
       "[1, 2, [3, 5, 6], 7]"
      ]
     },
     "execution_count": 12,
     "metadata": {},
     "output_type": "execute_result"
    }
   ],
   "source": [
    "list_2    # output => [1, 2, [3, 5, 6], 7]"
   ]
  },
  {
   "cell_type": "code",
   "execution_count": 13,
   "metadata": {
    "hidden": true
   },
   "outputs": [
    {
     "data": {
      "text/plain": [
       "[1, 2, [3, 5, 6], 4]"
      ]
     },
     "execution_count": 13,
     "metadata": {},
     "output_type": "execute_result"
    }
   ],
   "source": [
    "list_1    # output => [1, 2, [3, 5, 6], 4]"
   ]
  },
  {
   "cell_type": "code",
   "execution_count": 14,
   "metadata": {
    "hidden": true
   },
   "outputs": [],
   "source": [
    "## deep copy\n",
    "list_3 = deepcopy(list_1)\n",
    "list_3[3] = 8\n",
    "list_3[2].append(7)"
   ]
  },
  {
   "cell_type": "code",
   "execution_count": 15,
   "metadata": {
    "hidden": true
   },
   "outputs": [
    {
     "data": {
      "text/plain": [
       "[1, 2, [3, 5, 6, 7], 8]"
      ]
     },
     "execution_count": 15,
     "metadata": {},
     "output_type": "execute_result"
    }
   ],
   "source": [
    "list_3    # output => [1, 2, [3, 5, 6, 7], 8]"
   ]
  },
  {
   "cell_type": "code",
   "execution_count": 16,
   "metadata": {
    "hidden": true
   },
   "outputs": [
    {
     "data": {
      "text/plain": [
       "[1, 2, [3, 5, 6], 4]"
      ]
     },
     "execution_count": 16,
     "metadata": {},
     "output_type": "execute_result"
    }
   ],
   "source": [
    "list_1    # output => [1, 2, [3, 5, 6], 4]"
   ]
  },
  {
   "cell_type": "code",
   "execution_count": null,
   "metadata": {
    "hidden": true
   },
   "outputs": [],
   "source": []
  },
  {
   "cell_type": "markdown",
   "metadata": {
    "heading_collapsed": true
   },
   "source": [
    "### Serialization/Pickling and Deserialization/Unpickling:"
   ]
  },
  {
   "cell_type": "markdown",
   "metadata": {
    "hidden": true
   },
   "source": [
    "Python library offers a feature - serialization out of the box. Serializing an object refers to transforming it into a format that can be stored, so as to be able to deserialize it, later on, to obtain the original object. Here, the pickle module comes into play.\n",
    "\n",
    "- Pickling:\n",
    "\n",
    "    - Pickling is the name of the serialization process in Python. Any object in Python can be serialized into a byte stream and dumped as a file in the memory. The process of pickling is compact but pickle objects can be compressed further. Moreover, pickle keeps track of the objects it has serialized and the serialization is portable across versions.\n",
    "    - The function used for the above process is pickle.dump().\n",
    "\n",
    "- Unpickling:\n",
    "\n",
    "    - Unpickling is the complete inverse of pickling. It deserializes the byte stream to recreate the objects stored in the file and loads the object to memory.\n",
    "    - The function used for the above process is pickle.load().\n",
    "\n",
    "- Note: Python has another, more primitive, serialization module called marshall, which exists primarily to support .pyc files in Python and differs significantly from the pickle."
   ]
  },
  {
   "cell_type": "code",
   "execution_count": null,
   "metadata": {
    "hidden": true
   },
   "outputs": [],
   "source": []
  },
  {
   "cell_type": "code",
   "execution_count": null,
   "metadata": {
    "hidden": true
   },
   "outputs": [],
   "source": []
  },
  {
   "cell_type": "markdown",
   "metadata": {
    "heading_collapsed": true
   },
   "source": [
    "### Compound Object"
   ]
  },
  {
   "cell_type": "code",
   "execution_count": null,
   "metadata": {
    "hidden": true
   },
   "outputs": [],
   "source": []
  },
  {
   "cell_type": "markdown",
   "metadata": {
    "heading_collapsed": true
   },
   "source": [
    "### Duck Typing"
   ]
  },
  {
   "cell_type": "markdown",
   "metadata": {
    "hidden": true
   },
   "source": [
    "- [Duck Typing and Asking Forgiveness, Not Permission (EAFP)](https://www.youtube.com/watch?v=x3v9zMX1s4s)"
   ]
  },
  {
   "cell_type": "code",
   "execution_count": null,
   "metadata": {
    "hidden": true
   },
   "outputs": [],
   "source": []
  },
  {
   "cell_type": "code",
   "execution_count": null,
   "metadata": {
    "hidden": true
   },
   "outputs": [],
   "source": []
  },
  {
   "cell_type": "markdown",
   "metadata": {
    "heading_collapsed": true
   },
   "source": [
    "### Pure Function / Higher Order Function / First class Object"
   ]
  },
  {
   "cell_type": "code",
   "execution_count": null,
   "metadata": {
    "hidden": true
   },
   "outputs": [],
   "source": []
  },
  {
   "cell_type": "markdown",
   "metadata": {
    "heading_collapsed": true
   },
   "source": [
    "### Closures"
   ]
  },
  {
   "cell_type": "markdown",
   "metadata": {
    "hidden": true
   },
   "source": [
    "- [Closures - How to Use Them and Why They Are Useful](https://www.youtube.com/watch?v=swU3c34d2NQ)"
   ]
  },
  {
   "cell_type": "markdown",
   "metadata": {
    "heading_collapsed": true,
    "jp-MarkdownHeadingCollapsed": true,
    "tags": []
   },
   "source": [
    "# Built-in Functions"
   ]
  },
  {
   "cell_type": "code",
   "execution_count": null,
   "metadata": {
    "hidden": true
   },
   "outputs": [],
   "source": []
  },
  {
   "cell_type": "markdown",
   "metadata": {
    "heading_collapsed": true,
    "hidden": true
   },
   "source": [
    "#### Demo"
   ]
  },
  {
   "cell_type": "code",
   "execution_count": null,
   "metadata": {
    "hidden": true
   },
   "outputs": [],
   "source": [
    "# help(help)"
   ]
  },
  {
   "cell_type": "code",
   "execution_count": 6,
   "metadata": {
    "hidden": true
   },
   "outputs": [
    {
     "data": {
      "text/plain": [
       "module"
      ]
     },
     "execution_count": 6,
     "metadata": {},
     "output_type": "execute_result"
    }
   ],
   "source": [
    "type(__builtins__)"
   ]
  },
  {
   "cell_type": "code",
   "execution_count": 9,
   "metadata": {
    "hidden": true
   },
   "outputs": [],
   "source": [
    "# help(__builtins__)"
   ]
  },
  {
   "cell_type": "code",
   "execution_count": null,
   "metadata": {
    "hidden": true
   },
   "outputs": [],
   "source": [
    "dir(__builtins__)"
   ]
  },
  {
   "cell_type": "code",
   "execution_count": null,
   "metadata": {
    "hidden": true
   },
   "outputs": [],
   "source": [
    "print(dir(object), dir(type), sep='\\n')"
   ]
  },
  {
   "cell_type": "code",
   "execution_count": 11,
   "metadata": {
    "hidden": true
   },
   "outputs": [
    {
     "data": {
      "text/plain": [
       "True"
      ]
     },
     "execution_count": 11,
     "metadata": {},
     "output_type": "execute_result"
    }
   ],
   "source": [
    "issubclass(type, object)"
   ]
  },
  {
   "cell_type": "code",
   "execution_count": 78,
   "metadata": {
    "hidden": true
   },
   "outputs": [
    {
     "name": "stdout",
     "output_type": "stream",
     "text": [
      "Help on built-in function hasattr in module builtins:\n",
      "\n",
      "hasattr(obj, name, /)\n",
      "    Return whether the object has an attribute with the given name.\n",
      "    \n",
      "    This is done by calling getattr(obj, name) and catching AttributeError.\n",
      "\n"
     ]
    }
   ],
   "source": [
    "help(hasattr)"
   ]
  },
  {
   "cell_type": "code",
   "execution_count": 13,
   "metadata": {
    "hidden": true
   },
   "outputs": [],
   "source": [
    "getattr?"
   ]
  },
  {
   "cell_type": "code",
   "execution_count": 12,
   "metadata": {
    "hidden": true,
    "scrolled": true
   },
   "outputs": [
    {
     "data": {
      "text/plain": [
       "type"
      ]
     },
     "execution_count": 12,
     "metadata": {},
     "output_type": "execute_result"
    }
   ],
   "source": [
    "getattr(object, '__class__')"
   ]
  },
  {
   "cell_type": "code",
   "execution_count": 14,
   "metadata": {
    "hidden": true
   },
   "outputs": [
    {
     "data": {
      "text/plain": [
       "type"
      ]
     },
     "execution_count": 14,
     "metadata": {},
     "output_type": "execute_result"
    }
   ],
   "source": [
    "object.__class__"
   ]
  },
  {
   "cell_type": "markdown",
   "metadata": {
    "heading_collapsed": true,
    "hidden": true
   },
   "source": [
    "#### Preparations"
   ]
  },
  {
   "cell_type": "code",
   "execution_count": null,
   "metadata": {
    "hidden": true
   },
   "outputs": [],
   "source": [
    "states = ['Alabama', 'Alaska', 'Arizona', 'Arkansas', 'California', 'Colorado',\n",
    "          'Connecticut', 'Delaware', 'Florida', 'Georgia', 'Hawaii', 'Idaho',\n",
    "          'Illinois', 'Indiana', 'Iowa', 'Kansas', 'Kentucky', 'Louisiana',\n",
    "          'Maine', 'Maryland', 'Massachusetts', 'Michigan', 'Minnesota',\n",
    "          'Mississippi', 'Missouri', 'Montana', 'Nebraska', 'Nevada',\n",
    "          'New Hampshire', 'New Jersey', 'New Mexico', 'New York',\n",
    "          'North Carolina', 'North Dakota', 'Ohio', 'Oklahoma', 'Oregon',\n",
    "          'Pennsylvania', 'Rhode Island', 'South Carolina', 'South Dakota',\n",
    "          'Tennessee', 'Texas', 'Utah', 'Vermont', 'Virginia', 'Washington',\n",
    "          'West Virginia', 'Wisconsin', 'Wyoming']\n",
    "\n",
    "vowels = list('aeiou')\n",
    "\n",
    "\n",
    "# def squre(x): return x*x\n",
    "\n",
    "squre = lambda x: x*x\n",
    "\n",
    "# print(dir())\n",
    "\n",
    "\n",
    "#******************************************************************************\n",
    "#****************************** Python3: **************************************\n",
    "\n",
    "D = {0: 'zero', 1: 'one', 2: 'two', 3: 'three'}\n",
    "L = [randrange(0, 100) for _ in range(10)]\n",
    "\n",
    "\n",
    "D2 = {D[x]: x for x in D}    \n",
    "print(D2)# {'zero': 0, 'one': 1, 'two': 2, 'three': 3}\n",
    "\n",
    "map_obj = map(squre, list(range(5)))  \n",
    "# print(map_obj) --> <map object at 0x..>\n",
    "\n",
    "L = [*range(10)]\n",
    "L1 = [*map(squre, list(range(5)))]\n",
    "L2 = list(range(0, 10, 2))\n",
    "L3 = list(range(10, 0, -2))\n",
    "L4 = [*reversed(range(10, 100, 10))]\n",
    "\n",
    "\n",
    "sum([1, 2, 3, 4])\n",
    "min([9, 4, 15, 2001, 30])\n",
    "sorted([(len(x), x) for x in states if ' ' not in x], reverse=True)[:7]\n"
   ]
  },
  {
   "cell_type": "code",
   "execution_count": null,
   "metadata": {
    "hidden": true
   },
   "outputs": [],
   "source": []
  },
  {
   "cell_type": "markdown",
   "metadata": {
    "heading_collapsed": true,
    "hidden": true
   },
   "source": [
    "#### `enumerate(...) ==> iterator`"
   ]
  },
  {
   "cell_type": "markdown",
   "metadata": {
    "hidden": true
   },
   "source": [
    "- `enumerate` object is not reversable, meaning, `reversed(enumerate(range(5)))` generates error !"
   ]
  },
  {
   "cell_type": "code",
   "execution_count": null,
   "metadata": {
    "hidden": true
   },
   "outputs": [],
   "source": [
    "enumerate([*range(5)])"
   ]
  },
  {
   "cell_type": "code",
   "execution_count": null,
   "metadata": {
    "hidden": true
   },
   "outputs": [],
   "source": [
    "enumerate(zip([*range(5)], [*range(5,0,-1)]))"
   ]
  },
  {
   "cell_type": "code",
   "execution_count": null,
   "metadata": {
    "hidden": true
   },
   "outputs": [],
   "source": [
    "[*enumerate(zip([*range(5)], [*range(5,0,-1)]))]"
   ]
  },
  {
   "cell_type": "code",
   "execution_count": null,
   "metadata": {
    "code_folding": [
     0
    ],
    "hidden": true
   },
   "outputs": [],
   "source": [
    "def _test_enumerate():\n",
    "    S = {*enumerate(D2)}  # type(S) -> set\n",
    "    # print(S) --> {(2, 'two'), (3, 'three'), (1, 'one'), (0, 'zero')}\n",
    "    # Note: items in Set are not in orderd\n",
    "\n",
    "    T = (*enumerate(sorted(L)), )  # type(S) -> <class 'tuple'>\n",
    "    T = (*enumerate(reversed(L)), )  # type(S) -> <class 'tuple'>\n",
    "    L5 = [*enumerate(D2)]\n",
    "    # print(L5) --> [(0, 'zero'), (1, 'one'), (2, 'two'), (3, 'three')]\n",
    "    # Note: items in List are in orderd\n"
   ]
  },
  {
   "cell_type": "markdown",
   "metadata": {
    "heading_collapsed": true,
    "hidden": true
   },
   "source": [
    "#### `reversed(...) ==> iterator`"
   ]
  },
  {
   "cell_type": "code",
   "execution_count": 21,
   "metadata": {
    "hidden": true
   },
   "outputs": [],
   "source": [
    "# help(reversed)"
   ]
  },
  {
   "cell_type": "code",
   "execution_count": 34,
   "metadata": {
    "hidden": true
   },
   "outputs": [
    {
     "data": {
      "text/plain": [
       "[0, 1, 2, 3, 4]"
      ]
     },
     "execution_count": 34,
     "metadata": {},
     "output_type": "execute_result"
    }
   ],
   "source": [
    "L = [*range(5)]; L"
   ]
  },
  {
   "cell_type": "code",
   "execution_count": 35,
   "metadata": {
    "hidden": true
   },
   "outputs": [
    {
     "data": {
      "text/plain": [
       "([4, 3, 2, 1, 0], [0, 1, 2, 3, 4])"
      ]
     },
     "execution_count": 35,
     "metadata": {},
     "output_type": "execute_result"
    }
   ],
   "source": [
    "L_reversed = [*reversed(L)]; \n",
    "L_reversed, L"
   ]
  },
  {
   "cell_type": "code",
   "execution_count": 39,
   "metadata": {
    "hidden": true
   },
   "outputs": [
    {
     "data": {
      "text/plain": [
       "list_reverseiterator"
      ]
     },
     "execution_count": 39,
     "metadata": {},
     "output_type": "execute_result"
    }
   ],
   "source": [
    "type(reversed(L))"
   ]
  },
  {
   "cell_type": "code",
   "execution_count": 36,
   "metadata": {
    "hidden": true
   },
   "outputs": [],
   "source": [
    "L = [50, 40, 30, 20]"
   ]
  },
  {
   "cell_type": "code",
   "execution_count": 10,
   "metadata": {
    "hidden": true
   },
   "outputs": [
    {
     "name": "stdout",
     "output_type": "stream",
     "text": [
      "0 20 50\n",
      "1 30 40\n",
      "2 40 30\n",
      "3 50 20\n"
     ]
    }
   ],
   "source": [
    "for i, val in enumerate(reversed(L)): \n",
    "    print(i, val, L[i])"
   ]
  },
  {
   "cell_type": "code",
   "execution_count": 1,
   "metadata": {
    "hidden": true
   },
   "outputs": [],
   "source": [
    "# for i in reversed(enumerate(L)): print(i) ## ERROR: 'enumerate' object is not reversible"
   ]
  },
  {
   "cell_type": "code",
   "execution_count": 11,
   "metadata": {
    "hidden": true
   },
   "outputs": [
    {
     "name": "stdout",
     "output_type": "stream",
     "text": [
      "(3, 20)\n",
      "(2, 30)\n",
      "(1, 40)\n",
      "(0, 50)\n"
     ]
    }
   ],
   "source": [
    "for i in zip(reversed(range(len(L))), reversed(L[:])): \n",
    "    print(i)"
   ]
  },
  {
   "cell_type": "code",
   "execution_count": 40,
   "metadata": {
    "hidden": true
   },
   "outputs": [
    {
     "data": {
      "text/plain": [
       "enumerate"
      ]
     },
     "execution_count": 40,
     "metadata": {},
     "output_type": "execute_result"
    }
   ],
   "source": [
    "type(enumerate(range(5)))"
   ]
  },
  {
   "cell_type": "markdown",
   "metadata": {
    "heading_collapsed": true,
    "hidden": true
   },
   "source": [
    "#### `range(...) ==> iterator`"
   ]
  },
  {
   "cell_type": "code",
   "execution_count": null,
   "metadata": {
    "hidden": true
   },
   "outputs": [],
   "source": [
    "\n",
    "def _test_range_func():\n",
    "    L1 = [*range(0, 10, 2)]\n",
    "    L2 = [*reversed(range(10, 100, 10))]\n",
    "    print(L1)\n",
    "    print(L2)\n",
    "    print(range(10)); print(range(0, 5))\n",
    "    print([i for i in range(10, 21, 2)])\n",
    "    print([i for i in range(10, 0, -1)])\n",
    "    print([i for i in range(10,-1, -1)])\n",
    "\n",
    "\n",
    "def testing_range_func():\n",
    "    print(range(10)); print(range(0, 5))\n",
    "    print([i for i in range(10, 21, 2)])\n",
    "    RL = [print(i) for i in range(1, 6)]\t\n",
    "    print(RL)\t\n",
    "    \n"
   ]
  },
  {
   "cell_type": "markdown",
   "metadata": {
    "heading_collapsed": true,
    "hidden": true
   },
   "source": [
    "#### `sorted(..) ==> new list`:"
   ]
  },
  {
   "cell_type": "code",
   "execution_count": 27,
   "metadata": {
    "hidden": true
   },
   "outputs": [
    {
     "name": "stdout",
     "output_type": "stream",
     "text": [
      "Help on built-in function sorted in module builtins:\n",
      "\n",
      "sorted(iterable, /, *, key=None, reverse=False)\n",
      "    Return a new list containing all items from the iterable in ascending order.\n",
      "    \n",
      "    A custom key function can be supplied to customize the sort order, and the\n",
      "    reverse flag can be set to request the result in descending order.\n",
      "\n"
     ]
    }
   ],
   "source": [
    "help(sorted)"
   ]
  },
  {
   "cell_type": "code",
   "execution_count": null,
   "metadata": {
    "hidden": true
   },
   "outputs": [],
   "source": [
    "import random"
   ]
  },
  {
   "cell_type": "code",
   "execution_count": null,
   "metadata": {
    "hidden": true
   },
   "outputs": [],
   "source": [
    "# help(random)"
   ]
  },
  {
   "cell_type": "code",
   "execution_count": 32,
   "metadata": {
    "hidden": true
   },
   "outputs": [
    {
     "data": {
      "text/plain": [
       "[4, 2, 1, 5, -1, -1, 0, 3, 4, -5]"
      ]
     },
     "execution_count": 32,
     "metadata": {},
     "output_type": "execute_result"
    }
   ],
   "source": [
    "L = [randrange(-5,6) for i in range(10)]; L"
   ]
  },
  {
   "cell_type": "code",
   "execution_count": 33,
   "metadata": {
    "hidden": true
   },
   "outputs": [
    {
     "data": {
      "text/plain": [
       "[-5, -1, -1, 0, 1, 2, 3, 4, 4, 5]"
      ]
     },
     "execution_count": 33,
     "metadata": {},
     "output_type": "execute_result"
    }
   ],
   "source": [
    "sorted(L)"
   ]
  },
  {
   "cell_type": "code",
   "execution_count": 28,
   "metadata": {
    "hidden": true
   },
   "outputs": [
    {
     "name": "stdout",
     "output_type": "stream",
     "text": [
      "Sorted list: [(4, 1), (2, 2), (1, 3), (3, 4)]\n"
     ]
    }
   ],
   "source": [
    "# take the second element for sort\n",
    "def take_second(elem):\n",
    "    return elem[1]\n",
    "\n",
    "# random list\n",
    "random = [(2, 2), (3, 4), (4, 1), (1, 3)]\n",
    "\n",
    "# sort list with key\n",
    "sorted_list = sorted(random, key=take_second)\n",
    "\n",
    "# print list\n",
    "print('Sorted list:', sorted_list)"
   ]
  },
  {
   "cell_type": "code",
   "execution_count": 41,
   "metadata": {
    "hidden": true
   },
   "outputs": [
    {
     "name": "stdout",
     "output_type": "stream",
     "text": [
      "[('Jimmy', 90, 22), ('Terence', 75, 12), ('David', 75, 20), ('Alison', 50, 18), ('John', 45, 12), ('Adam', 45, 12)]\n"
     ]
    }
   ],
   "source": [
    "# Nested list of student's info in a Science Olympiad\n",
    "# List elements: (Student's Name, Marks out of 100 , Age)\n",
    "participant_list = [\n",
    "    ('Alison', 50, 18),\n",
    "    ('Terence', 75, 12),\n",
    "    ('David', 75, 20),\n",
    "    ('Jimmy', 90, 22),\n",
    "    ('John', 45, 12),\n",
    "    ('Adam', 45, 12)\n",
    "]\n",
    "\n",
    "sorted_list = sorted(participant_list, key=lambda item: (100-item[1], item[2]))\n",
    "print(sorted_list)"
   ]
  },
  {
   "cell_type": "markdown",
   "metadata": {
    "heading_collapsed": true,
    "hidden": true
   },
   "source": [
    "#### `zip(..) ==> iterator`"
   ]
  },
  {
   "cell_type": "code",
   "execution_count": 68,
   "metadata": {
    "hidden": true
   },
   "outputs": [],
   "source": [
    "# help(zip)"
   ]
  },
  {
   "cell_type": "code",
   "execution_count": null,
   "metadata": {
    "hidden": true
   },
   "outputs": [],
   "source": [
    "zip([*range(5)], [*range(5,0,-1)])"
   ]
  },
  {
   "cell_type": "code",
   "execution_count": null,
   "metadata": {
    "hidden": true
   },
   "outputs": [],
   "source": [
    "zip(range(5), range(5,0,-1))"
   ]
  },
  {
   "cell_type": "code",
   "execution_count": null,
   "metadata": {
    "hidden": true
   },
   "outputs": [],
   "source": [
    "[*zip(range(5), range(4,-1,-1))]"
   ]
  },
  {
   "cell_type": "code",
   "execution_count": null,
   "metadata": {
    "hidden": true
   },
   "outputs": [],
   "source": [
    "def _test_zip():\n",
    "    Z = zip([1], [1, 2]) # an zip typeiterator\n",
    "    print(type(Z))\n",
    "    L1 = [1, 'Z', 'Z', 2, 3, 4, 'A'] \n",
    "    L2 = [4, 'Z', 'Z', 3, 2, 1]\n",
    "\n",
    "    LZ = [*zip(L1, L2)]\n",
    "    SZ = {*zip(L1, L2)} # onordered set\n",
    "    TZ = (*zip(L1, L2),)\n",
    "    assert type(SZ) is set and type(SZ) is not dict\n",
    "\n",
    "    print('list: ', LZ)\n",
    "    print('Set: ', SZ)\n",
    "    print('tuple: ', TZ)"
   ]
  },
  {
   "cell_type": "code",
   "execution_count": null,
   "metadata": {
    "hidden": true
   },
   "outputs": [],
   "source": [
    "_test_zip()"
   ]
  },
  {
   "cell_type": "code",
   "execution_count": null,
   "metadata": {
    "hidden": true
   },
   "outputs": [],
   "source": []
  },
  {
   "cell_type": "markdown",
   "metadata": {
    "heading_collapsed": true,
    "hidden": true
   },
   "source": [
    "#### `filter(truthy_func, iterable) == > iterator`"
   ]
  },
  {
   "cell_type": "markdown",
   "metadata": {
    "hidden": true
   },
   "source": [
    "- Construct an iterator from those elements of iterable for which given function returns true.\n",
    "- Iterable may be either a sequence, a container which supports iteration, or an iterator. \n",
    "- If function is None, the identity function is assumed, that is, all elements of iterable that are false are removed.\n",
    "\n",
    "NOTE:\n",
    "\n",
    "`filter(function, iterable)` is equivalent to the generator expression (`item for item in iterable if function(item)`) if function is not None and (`item for item in iterable if item`) if function is None."
   ]
  },
  {
   "cell_type": "code",
   "execution_count": 53,
   "metadata": {
    "hidden": true
   },
   "outputs": [],
   "source": [
    "# help(filter)"
   ]
  },
  {
   "cell_type": "code",
   "execution_count": 3,
   "metadata": {
    "hidden": true
   },
   "outputs": [
    {
     "data": {
      "text/plain": [
       "[0, 11, 22, 33, 44]"
      ]
     },
     "execution_count": 3,
     "metadata": {},
     "output_type": "execute_result"
    }
   ],
   "source": [
    "[*filter(lambda x: x%11 == 0, range(50))]"
   ]
  },
  {
   "cell_type": "code",
   "execution_count": 21,
   "metadata": {
    "hidden": true
   },
   "outputs": [
    {
     "data": {
      "text/plain": [
       "[1, 2, 3, 4]"
      ]
     },
     "execution_count": 21,
     "metadata": {},
     "output_type": "execute_result"
    }
   ],
   "source": [
    "[*filter(lambda x: x**2, range(5))]"
   ]
  },
  {
   "cell_type": "code",
   "execution_count": null,
   "metadata": {
    "hidden": true
   },
   "outputs": [],
   "source": []
  },
  {
   "cell_type": "markdown",
   "metadata": {
    "heading_collapsed": true,
    "hidden": true
   },
   "source": [
    "#### `map(func, *iterables) ==> iterator`"
   ]
  },
  {
   "cell_type": "markdown",
   "metadata": {
    "hidden": true
   },
   "source": [
    "```\n",
    "map(func, *iterables) --> map object\n",
    "\n",
    "Make an iterator that computes the function using arguments from\n",
    "each of the iterables.  Stops when the shortest iterable is exhausted.\n",
    "```"
   ]
  },
  {
   "cell_type": "code",
   "execution_count": 6,
   "metadata": {
    "hidden": true,
    "scrolled": true
   },
   "outputs": [],
   "source": [
    "# help(map)"
   ]
  },
  {
   "cell_type": "code",
   "execution_count": 8,
   "metadata": {
    "hidden": true
   },
   "outputs": [],
   "source": [
    "import math"
   ]
  },
  {
   "cell_type": "code",
   "execution_count": 9,
   "metadata": {
    "hidden": true
   },
   "outputs": [],
   "source": [
    "def square(x): return x**2"
   ]
  },
  {
   "cell_type": "code",
   "execution_count": 13,
   "metadata": {
    "hidden": true
   },
   "outputs": [
    {
     "data": {
      "text/plain": [
       "<map at 0x136fb69a0>"
      ]
     },
     "execution_count": 13,
     "metadata": {},
     "output_type": "execute_result"
    }
   ],
   "source": [
    "mapimg = map(math.sqrt, [x**2 for x in range(2, 32, 4)]); mapimg"
   ]
  },
  {
   "cell_type": "code",
   "execution_count": 28,
   "metadata": {
    "hidden": true
   },
   "outputs": [
    {
     "data": {
      "text/plain": [
       "[2.0, 6.0, 10.0, 14.0, 18.0, 22.0, 26.0, 30.0]"
      ]
     },
     "execution_count": 28,
     "metadata": {},
     "output_type": "execute_result"
    }
   ],
   "source": [
    "[*map(math.sqrt, [x**2 for x in range(2, 32, 4)])]"
   ]
  },
  {
   "cell_type": "code",
   "execution_count": 5,
   "metadata": {
    "hidden": true
   },
   "outputs": [
    {
     "data": {
      "text/plain": [
       "[0, 1, 4, 9, 16]"
      ]
     },
     "execution_count": 5,
     "metadata": {},
     "output_type": "execute_result"
    }
   ],
   "source": [
    "list(map(lambda x: x**2, range(5)))"
   ]
  },
  {
   "cell_type": "markdown",
   "metadata": {
    "hidden": true
   },
   "source": [
    "<font color='red'> Two-argument function into `map(...)"
   ]
  },
  {
   "cell_type": "code",
   "execution_count": 37,
   "metadata": {
    "hidden": true
   },
   "outputs": [
    {
     "data": {
      "text/plain": [
       "[1.0, 1.0, 4.0, 27.0, 256.0]"
      ]
     },
     "execution_count": 37,
     "metadata": {},
     "output_type": "execute_result"
    }
   ],
   "source": [
    "[*map(math.pow, range(5), range(10))]"
   ]
  },
  {
   "cell_type": "code",
   "execution_count": null,
   "metadata": {
    "hidden": true
   },
   "outputs": [],
   "source": []
  },
  {
   "cell_type": "code",
   "execution_count": null,
   "metadata": {
    "hidden": true
   },
   "outputs": [],
   "source": []
  },
  {
   "cell_type": "code",
   "execution_count": 2,
   "metadata": {
    "hidden": true
   },
   "outputs": [
    {
     "data": {
      "text/plain": [
       "[97, 98, 99, 100]"
      ]
     },
     "execution_count": 2,
     "metadata": {},
     "output_type": "execute_result"
    }
   ],
   "source": [
    "L2 = [*map(ord, 'abcd')]; L2"
   ]
  },
  {
   "cell_type": "code",
   "execution_count": 3,
   "metadata": {
    "hidden": true
   },
   "outputs": [
    {
     "data": {
      "text/plain": [
       "{65, 66, 67, 68}"
      ]
     },
     "execution_count": 3,
     "metadata": {},
     "output_type": "execute_result"
    }
   ],
   "source": [
    "L2A = {*map(ord, 'ABCD')}; L2A"
   ]
  },
  {
   "cell_type": "code",
   "execution_count": 43,
   "metadata": {
    "hidden": true
   },
   "outputs": [
    {
     "data": {
      "text/plain": [
       "(83, 104, 97, 104)"
      ]
     },
     "execution_count": 43,
     "metadata": {},
     "output_type": "execute_result"
    }
   ],
   "source": [
    "L2B = (*map(ord, 'Shah'), ); L2B"
   ]
  },
  {
   "cell_type": "code",
   "execution_count": null,
   "metadata": {
    "hidden": true
   },
   "outputs": [],
   "source": []
  },
  {
   "cell_type": "markdown",
   "metadata": {
    "heading_collapsed": true,
    "hidden": true
   },
   "source": [
    "#### `functools.reduce(function, iterable[, initializer]) ==> Value`"
   ]
  },
  {
   "cell_type": "markdown",
   "metadata": {
    "hidden": true
   },
   "source": [
    "- Apply function of two arguments cumulatively to the items of iterable, from left to right, so as to reduce the iterable to a single value. \n",
    "- For example, `reduce(lambda: x, y: x+y, [1, 2, 3, 4, 5])` calculates **((((1+2)+3)+4)+5)**. The left argument, x, is the accumulated value and the right argument, y, is the update value from the iterable. If the optional initializer is present, it is placed before the items of the iterable in the calculation, and serves as a default when the iterable is empty. \n",
    "- If initializer is not given and iterable contains only one item, the first item is returned."
   ]
  },
  {
   "cell_type": "code",
   "execution_count": 5,
   "metadata": {
    "hidden": true
   },
   "outputs": [
    {
     "name": "stdout",
     "output_type": "stream",
     "text": [
      "Help on built-in function reduce in module _functools:\n",
      "\n",
      "reduce(...)\n",
      "    reduce(function, sequence[, initial]) -> value\n",
      "    \n",
      "    Apply a function of two arguments cumulatively to the items of a sequence,\n",
      "    from left to right, so as to reduce the sequence to a single value.\n",
      "    For example, reduce(lambda x, y: x+y, [1, 2, 3, 4, 5]) calculates\n",
      "    ((((1+2)+3)+4)+5).  If initial is present, it is placed before the items\n",
      "    of the sequence in the calculation, and serves as a default when the\n",
      "    sequence is empty.\n",
      "\n"
     ]
    }
   ],
   "source": [
    "help(functools.reduce)"
   ]
  },
  {
   "cell_type": "code",
   "execution_count": 45,
   "metadata": {
    "code_folding": [],
    "hidden": true
   },
   "outputs": [],
   "source": [
    "def do_sum(x1, x2): return x1 + x2\n",
    "\n",
    "def reduce_prototype(function, iterable, initializer=None): \n",
    "    it = iter(iterable)\n",
    "\n",
    "    if initializer is None: value = next(it)\n",
    "    else: value = initializer\n",
    "\n",
    "    for element in it: \n",
    "        value = function(value, element)\n",
    "\n",
    "    return value"
   ]
  },
  {
   "cell_type": "code",
   "execution_count": 46,
   "metadata": {
    "hidden": true
   },
   "outputs": [
    {
     "data": {
      "text/plain": [
       "10"
      ]
     },
     "execution_count": 46,
     "metadata": {},
     "output_type": "execute_result"
    }
   ],
   "source": [
    "reduce_prototype(do_sum, range(5))"
   ]
  },
  {
   "cell_type": "code",
   "execution_count": null,
   "metadata": {
    "hidden": true
   },
   "outputs": [],
   "source": [
    "L1 = [*range(5)]"
   ]
  },
  {
   "cell_type": "code",
   "execution_count": 58,
   "metadata": {
    "hidden": true
   },
   "outputs": [
    {
     "data": {
      "text/plain": [
       "20"
      ]
     },
     "execution_count": 58,
     "metadata": {},
     "output_type": "execute_result"
    }
   ],
   "source": [
    "reduce_prototype(do_sum, L1, 10)"
   ]
  },
  {
   "cell_type": "code",
   "execution_count": 57,
   "metadata": {
    "hidden": true
   },
   "outputs": [
    {
     "data": {
      "text/plain": [
       "20"
      ]
     },
     "execution_count": 57,
     "metadata": {},
     "output_type": "execute_result"
    }
   ],
   "source": [
    "functools.reduce(do_sum, L1, 10)"
   ]
  },
  {
   "cell_type": "code",
   "execution_count": 59,
   "metadata": {
    "hidden": true
   },
   "outputs": [
    {
     "data": {
      "text/plain": [
       "10"
      ]
     },
     "execution_count": 59,
     "metadata": {},
     "output_type": "execute_result"
    }
   ],
   "source": [
    "reduce_prototype(do_sum, L1)"
   ]
  },
  {
   "cell_type": "code",
   "execution_count": 61,
   "metadata": {
    "hidden": true
   },
   "outputs": [],
   "source": [
    "assert reduce_prototype(do_sum, L1, 10) == functools.reduce(do_sum, L1, 10)"
   ]
  },
  {
   "cell_type": "markdown",
   "metadata": {
    "heading_collapsed": true,
    "hidden": true
   },
   "source": [
    "#### `itertools.groupby(...)`"
   ]
  },
  {
   "cell_type": "code",
   "execution_count": 7,
   "metadata": {
    "hidden": true
   },
   "outputs": [],
   "source": [
    "# help(groupby)"
   ]
  },
  {
   "cell_type": "code",
   "execution_count": null,
   "metadata": {
    "hidden": true
   },
   "outputs": [],
   "source": []
  },
  {
   "cell_type": "markdown",
   "metadata": {
    "heading_collapsed": true,
    "hidden": true
   },
   "source": [
    "#### [`itertools.accumulate(iterable[, func, *, initial=None])`](https://docs.python.org/3/library/itertools.html#itertools.accumulate) ==> `iterator`"
   ]
  },
  {
   "cell_type": "markdown",
   "metadata": {
    "hidden": true
   },
   "source": [
    "- Make an __iterator__ that returns accumulated sums, or accumulated results of other *binary functions* (specified via the optional func argument).\n",
    "- If func is supplied, it should be a function of two arguments. \n",
    "- Elements of the input iterable may be any type that can be accepted as arguments to func.\n",
    "- Usually, the number of elements output matches the input iterable. However, if the keyword argument initial is provided, the accumulation leads off with the initial value so that the output has one more element than the input iterable.\n",
    "\n"
   ]
  },
  {
   "cell_type": "markdown",
   "metadata": {
    "hidden": true
   },
   "source": [
    "<font color='magenta'>It is roughly equivalent to the following function</font>"
   ]
  },
  {
   "cell_type": "code",
   "execution_count": null,
   "metadata": {
    "code_folding": [],
    "hidden": true
   },
   "outputs": [],
   "source": [
    "def accumulate(iterable, func=operator.add, *, initial=None):\n",
    "    'Return running totals'\n",
    "    # accumulate([1,2,3,4,5]) --> 1 3 6 10 15\n",
    "    # accumulate([1,2,3,4,5], initial=100) --> 100 101 103 106 110 115\n",
    "    # accumulate([1,2,3,4,5], operator.mul) --> 1 2 6 24 120\n",
    "    it = iter(iterable)\n",
    "    total = initial\n",
    "    if initial is None:\n",
    "        try:\n",
    "            total = next(it)\n",
    "        except StopIteration:\n",
    "            return\n",
    "    yield total\n",
    "    for element in it:\n",
    "        total = func(total, element)\n",
    "        yield total"
   ]
  },
  {
   "cell_type": "code",
   "execution_count": 51,
   "metadata": {
    "hidden": true
   },
   "outputs": [],
   "source": [
    "from itertools import accumulate\n",
    "import operator\n",
    "from functools import reduce"
   ]
  },
  {
   "cell_type": "code",
   "execution_count": 59,
   "metadata": {
    "hidden": true
   },
   "outputs": [
    {
     "data": {
      "text/plain": [
       "type"
      ]
     },
     "execution_count": 59,
     "metadata": {},
     "output_type": "execute_result"
    }
   ],
   "source": [
    "type(accumulate)"
   ]
  },
  {
   "cell_type": "code",
   "execution_count": 58,
   "metadata": {
    "hidden": true
   },
   "outputs": [],
   "source": [
    "# help(accumulate)"
   ]
  },
  {
   "cell_type": "code",
   "execution_count": 43,
   "metadata": {
    "hidden": true
   },
   "outputs": [
    {
     "name": "stdout",
     "output_type": "stream",
     "text": [
      "<itertools.accumulate object at 0x1132e4b80>\n",
      "[1, 3, 6, 10, 15]\n",
      "15\n"
     ]
    }
   ],
   "source": [
    "num1=itertools.accumulate([1,2,3,4,5])\n",
    "print (num1) # Output:<itertools.accumulate object at 0x02CD94C8>\n",
    "\n",
    "# Converting iterator to list object.\n",
    "print (list(num1)) # Output:[1, 3, 6, 10, 15]\n",
    "\n",
    "\n",
    "# using reduce() for same function\n",
    "r1=reduce(operator.add,[1,2,3,4,5])\n",
    "print (r1) # Output:15"
   ]
  },
  {
   "cell_type": "markdown",
   "metadata": {
    "heading_collapsed": true,
    "hidden": true
   },
   "source": [
    "#### `bytes()`:"
   ]
  },
  {
   "cell_type": "markdown",
   "metadata": {
    "hidden": true
   },
   "source": [
    "- Return a new \"bytes\" object, (immutable sequence of integers in the range 0 <= x < 256). \n",
    "- Print as ASCII characters when displayed. \n",
    "- bytes is an immutable version of bytearray – it has the same non-mutating methods and the same indexing and slicing behavior."
   ]
  },
  {
   "cell_type": "code",
   "execution_count": 18,
   "metadata": {
    "hidden": true
   },
   "outputs": [],
   "source": [
    "# help(bytes)"
   ]
  },
  {
   "cell_type": "code",
   "execution_count": 8,
   "metadata": {
    "hidden": true
   },
   "outputs": [],
   "source": [
    "# dir(bytes)"
   ]
  },
  {
   "cell_type": "code",
   "execution_count": 65,
   "metadata": {
    "hidden": true
   },
   "outputs": [
    {
     "data": {
      "text/plain": [
       "b'shah'"
      ]
     },
     "execution_count": 65,
     "metadata": {},
     "output_type": "execute_result"
    }
   ],
   "source": [
    "byt = b'shah'; byt"
   ]
  },
  {
   "cell_type": "code",
   "execution_count": 66,
   "metadata": {
    "hidden": true
   },
   "outputs": [
    {
     "data": {
      "text/plain": [
       "bytes"
      ]
     },
     "execution_count": 66,
     "metadata": {},
     "output_type": "execute_result"
    }
   ],
   "source": [
    "type(byt)"
   ]
  },
  {
   "cell_type": "code",
   "execution_count": 57,
   "metadata": {
    "hidden": true
   },
   "outputs": [
    {
     "data": {
      "text/plain": [
       "b'shah'"
      ]
     },
     "execution_count": 57,
     "metadata": {},
     "output_type": "execute_result"
    }
   ],
   "source": [
    "s = bytes('shah', 'ascii'); s"
   ]
  },
  {
   "cell_type": "code",
   "execution_count": 64,
   "metadata": {
    "hidden": true
   },
   "outputs": [
    {
     "data": {
      "text/plain": [
       "bytes"
      ]
     },
     "execution_count": 64,
     "metadata": {},
     "output_type": "execute_result"
    }
   ],
   "source": [
    "type(s)"
   ]
  },
  {
   "cell_type": "code",
   "execution_count": 62,
   "metadata": {
    "hidden": true
   },
   "outputs": [
    {
     "data": {
      "text/plain": [
       "2"
      ]
     },
     "execution_count": 62,
     "metadata": {},
     "output_type": "execute_result"
    }
   ],
   "source": [
    "s.count(ord('h'))"
   ]
  },
  {
   "cell_type": "code",
   "execution_count": 53,
   "metadata": {
    "hidden": true
   },
   "outputs": [
    {
     "data": {
      "text/plain": [
       "'8310497104'"
      ]
     },
     "execution_count": 53,
     "metadata": {},
     "output_type": "execute_result"
    }
   ],
   "source": [
    "\"\".join([str(i) for i in s])"
   ]
  },
  {
   "cell_type": "code",
   "execution_count": 73,
   "metadata": {
    "hidden": true
   },
   "outputs": [
    {
     "data": {
      "text/plain": [
       "'shah'"
      ]
     },
     "execution_count": 73,
     "metadata": {},
     "output_type": "execute_result"
    }
   ],
   "source": [
    "str(s, encoding='ascii')"
   ]
  },
  {
   "cell_type": "code",
   "execution_count": null,
   "metadata": {
    "hidden": true
   },
   "outputs": [],
   "source": []
  },
  {
   "cell_type": "code",
   "execution_count": 29,
   "metadata": {
    "hidden": true
   },
   "outputs": [
    {
     "data": {
      "text/plain": [
       "b'\\x00\\x00\\x00\\x00\\x00'"
      ]
     },
     "execution_count": 29,
     "metadata": {},
     "output_type": "execute_result"
    }
   ],
   "source": [
    "a = bytes(5); a"
   ]
  },
  {
   "cell_type": "code",
   "execution_count": 74,
   "metadata": {
    "hidden": true
   },
   "outputs": [
    {
     "data": {
      "text/plain": [
       "'\\x00\\x00\\x00\\x00\\x00'"
      ]
     },
     "execution_count": 74,
     "metadata": {},
     "output_type": "execute_result"
    }
   ],
   "source": [
    "str(a, encoding='ascii')"
   ]
  },
  {
   "cell_type": "code",
   "execution_count": 75,
   "metadata": {
    "hidden": true
   },
   "outputs": [
    {
     "data": {
      "text/plain": [
       "[0, 0, 0, 0, 0]"
      ]
     },
     "execution_count": 75,
     "metadata": {},
     "output_type": "execute_result"
    }
   ],
   "source": [
    "list(a)"
   ]
  },
  {
   "cell_type": "code",
   "execution_count": 31,
   "metadata": {
    "hidden": true
   },
   "outputs": [
    {
     "data": {
      "text/plain": [
       "b'\\x01\\x05'"
      ]
     },
     "execution_count": 31,
     "metadata": {},
     "output_type": "execute_result"
    }
   ],
   "source": [
    "a2 = bytes([1,5]); a2"
   ]
  },
  {
   "cell_type": "code",
   "execution_count": null,
   "metadata": {
    "hidden": true
   },
   "outputs": [],
   "source": []
  },
  {
   "cell_type": "markdown",
   "metadata": {
    "heading_collapsed": true,
    "hidden": true
   },
   "source": [
    "#### `bytearray(...)`"
   ]
  },
  {
   "cell_type": "markdown",
   "metadata": {
    "hidden": true
   },
   "source": [
    "- Return a new array of bytes (integers in the range 0 <= x < 256). \n",
    "- The bytearray type is a mutable sequence. \n",
    "- It has most of the usual methods of mutable sequences, described in Mutable Sequence Types, as well as most methods that the bytes type has, see Bytes and Byte Array Methods."
   ]
  },
  {
   "cell_type": "code",
   "execution_count": 13,
   "metadata": {
    "hidden": true
   },
   "outputs": [],
   "source": [
    "# help(bytearray)"
   ]
  },
  {
   "cell_type": "code",
   "execution_count": 10,
   "metadata": {
    "hidden": true
   },
   "outputs": [],
   "source": [
    "# dir(bytearray)"
   ]
  },
  {
   "cell_type": "code",
   "execution_count": null,
   "metadata": {
    "hidden": true
   },
   "outputs": [],
   "source": []
  },
  {
   "cell_type": "code",
   "execution_count": null,
   "metadata": {
    "hidden": true
   },
   "outputs": [],
   "source": []
  },
  {
   "cell_type": "code",
   "execution_count": null,
   "metadata": {
    "hidden": true
   },
   "outputs": [],
   "source": []
  },
  {
   "cell_type": "code",
   "execution_count": 5,
   "metadata": {
    "hidden": true
   },
   "outputs": [
    {
     "data": {
      "text/plain": [
       "bytearray(b\"Shah isn\\'t\")"
      ]
     },
     "execution_count": 5,
     "metadata": {},
     "output_type": "execute_result"
    }
   ],
   "source": [
    "L = bytearray(\"Shah isn't\", 'ascii'); L"
   ]
  },
  {
   "cell_type": "code",
   "execution_count": 6,
   "metadata": {
    "hidden": true
   },
   "outputs": [
    {
     "data": {
      "text/plain": [
       "83"
      ]
     },
     "execution_count": 6,
     "metadata": {},
     "output_type": "execute_result"
    }
   ],
   "source": [
    "L[0]"
   ]
  },
  {
   "cell_type": "code",
   "execution_count": 7,
   "metadata": {
    "hidden": true
   },
   "outputs": [
    {
     "data": {
      "text/plain": [
       "\"Shah isn't\""
      ]
     },
     "execution_count": 7,
     "metadata": {},
     "output_type": "execute_result"
    }
   ],
   "source": [
    "s = str(L, 'ascii'); s"
   ]
  },
  {
   "cell_type": "code",
   "execution_count": 4,
   "metadata": {
    "hidden": true
   },
   "outputs": [
    {
     "data": {
      "text/plain": [
       "bytearray(b'd\\x00\\x00\\x00\\x00\\x00\\x00\\x00\\x00\\x00')"
      ]
     },
     "execution_count": 4,
     "metadata": {},
     "output_type": "execute_result"
    }
   ],
   "source": [
    "L[0] = 100\n",
    "L"
   ]
  },
  {
   "cell_type": "code",
   "execution_count": 5,
   "metadata": {
    "hidden": true
   },
   "outputs": [
    {
     "data": {
      "text/plain": [
       "[100, 0, 0, 0, 0, 0, 0, 0, 0, 0]"
      ]
     },
     "execution_count": 5,
     "metadata": {},
     "output_type": "execute_result"
    }
   ],
   "source": [
    "list(L)"
   ]
  },
  {
   "cell_type": "code",
   "execution_count": 6,
   "metadata": {
    "hidden": true
   },
   "outputs": [
    {
     "data": {
      "text/plain": [
       "bytearray(b'd\\x00\\x00\\x00\\x00\\x00\\x00\\x00\\x00\\x00')"
      ]
     },
     "execution_count": 6,
     "metadata": {},
     "output_type": "execute_result"
    }
   ],
   "source": [
    "# L[0] = 300    ## ERROR !\n",
    "L"
   ]
  },
  {
   "cell_type": "code",
   "execution_count": null,
   "metadata": {
    "hidden": true
   },
   "outputs": [],
   "source": [
    "def _test_bytearray():\n",
    "    array = bytearray(10)\n",
    "    array[9] = 255\n",
    "    array[1] = 1\n",
    "    array[0] = 0"
   ]
  },
  {
   "cell_type": "code",
   "execution_count": null,
   "metadata": {
    "hidden": true
   },
   "outputs": [],
   "source": []
  },
  {
   "cell_type": "markdown",
   "metadata": {
    "heading_collapsed": true,
    "hidden": true
   },
   "source": [
    "#### `any()`"
   ]
  },
  {
   "cell_type": "code",
   "execution_count": null,
   "metadata": {
    "hidden": true
   },
   "outputs": [],
   "source": [
    "help(any)"
   ]
  },
  {
   "cell_type": "code",
   "execution_count": null,
   "metadata": {
    "hidden": true
   },
   "outputs": [],
   "source": [
    "def _test_any():\n",
    "    res1 = any([False, False, False, True, False])\n",
    "    res2 = any([False, False, False, False])\n",
    "    res3 = any([0, 0, 0, 3, 0, 0])\n",
    "    res4 = any(['', '', 'a', 'ab', ''])\n",
    "    print(res1,res2,res3,res4)\n",
    "\n",
    "_test_any()"
   ]
  },
  {
   "cell_type": "markdown",
   "metadata": {
    "heading_collapsed": true,
    "hidden": true
   },
   "source": [
    "#### `all()`: [References](https://www.w3schools.com/python/ref_func_all.asp)"
   ]
  },
  {
   "cell_type": "code",
   "execution_count": null,
   "metadata": {
    "hidden": true
   },
   "outputs": [],
   "source": [
    "def all_equivalent(iterable): \n",
    "    for element in iterable:\n",
    "        if not element: return False\n",
    "    return True"
   ]
  },
  {
   "cell_type": "code",
   "execution_count": null,
   "metadata": {
    "hidden": true
   },
   "outputs": [],
   "source": [
    "\n",
    "def _test_all():\n",
    "    res1 = all([True, True, True, True, True])\n",
    "    res2 = all([False, False, False, False])\n",
    "    res3 = all([True, True, False, False, True])\n",
    "    res4 = all([4, 1, 6, 3, 12, 34])\n",
    "    res5 = all([0, 1, 6, 3, 12, 34])\n",
    "    res6 = all(['abc', '', 'a', 'ab', 'ac'])\n",
    "    \n",
    "    L = [x for x in states if all([v in x for v in 'aeio'])]\n",
    "    \n",
    "    print(res1,res2,res3,res4, res5, res6, L, sep='\\n')"
   ]
  },
  {
   "cell_type": "code",
   "execution_count": null,
   "metadata": {
    "hidden": true
   },
   "outputs": [],
   "source": [
    "_test_all()"
   ]
  },
  {
   "cell_type": "markdown",
   "metadata": {
    "heading_collapsed": true,
    "hidden": true
   },
   "source": [
    "#### `dir(...)`:"
   ]
  },
  {
   "cell_type": "code",
   "execution_count": 41,
   "metadata": {
    "hidden": true
   },
   "outputs": [],
   "source": [
    "# dir()"
   ]
  },
  {
   "cell_type": "code",
   "execution_count": 67,
   "metadata": {
    "hidden": true
   },
   "outputs": [],
   "source": [
    "class Test:\n",
    "    def __init__(self):\n",
    "        self.foo = 10\n",
    "        self._bar = 20\n",
    "        self.__baz = 30\n",
    "        self._mangled_attr = 1\n",
    "    @property\n",
    "    def num_mangled_attr(self):\n",
    "        return self._num_mangled_attr"
   ]
  },
  {
   "cell_type": "code",
   "execution_count": 68,
   "metadata": {
    "hidden": true
   },
   "outputs": [],
   "source": [
    "t = Test()"
   ]
  },
  {
   "cell_type": "code",
   "execution_count": 14,
   "metadata": {
    "hidden": true,
    "scrolled": true
   },
   "outputs": [],
   "source": [
    "# dir(t)"
   ]
  },
  {
   "cell_type": "code",
   "execution_count": 70,
   "metadata": {
    "hidden": true
   },
   "outputs": [
    {
     "data": {
      "text/plain": [
       "(10, 20)"
      ]
     },
     "execution_count": 70,
     "metadata": {},
     "output_type": "execute_result"
    }
   ],
   "source": [
    "t.foo, t._bar"
   ]
  },
  {
   "cell_type": "code",
   "execution_count": 71,
   "metadata": {
    "hidden": true,
    "scrolled": true
   },
   "outputs": [],
   "source": [
    "# t.__baz  # Error !!"
   ]
  },
  {
   "cell_type": "code",
   "execution_count": 72,
   "metadata": {
    "hidden": true,
    "scrolled": true
   },
   "outputs": [
    {
     "data": {
      "text/plain": [
       "30"
      ]
     },
     "execution_count": 72,
     "metadata": {},
     "output_type": "execute_result"
    }
   ],
   "source": [
    "t._Test__baz ## Eccessed through mangaled name !"
   ]
  },
  {
   "cell_type": "code",
   "execution_count": 15,
   "metadata": {
    "hidden": true
   },
   "outputs": [],
   "source": [
    "# t.num_mangled_attr"
   ]
  },
  {
   "cell_type": "markdown",
   "metadata": {
    "heading_collapsed": true,
    "hidden": true
   },
   "source": [
    "##### `setattr()`"
   ]
  },
  {
   "cell_type": "code",
   "execution_count": 30,
   "metadata": {
    "hidden": true
   },
   "outputs": [
    {
     "name": "stdout",
     "output_type": "stream",
     "text": [
      "Name is: John\n",
      "Age is: 23\n"
     ]
    }
   ],
   "source": [
    "class Person:\n",
    "    name = 'Adam'\n",
    "    \n",
    "p = Person()\n",
    "\n",
    "# setting attribute name to John\n",
    "setattr(p, 'name', 'John')\n",
    "print('Name is:', p.name)\n",
    "\n",
    "# setting an attribute not present in Person\n",
    "setattr(p, 'age', 23)\n",
    "print('Age is:', p.age)"
   ]
  },
  {
   "cell_type": "code",
   "execution_count": null,
   "metadata": {
    "hidden": true
   },
   "outputs": [],
   "source": []
  },
  {
   "cell_type": "code",
   "execution_count": null,
   "metadata": {
    "hidden": true
   },
   "outputs": [],
   "source": []
  },
  {
   "cell_type": "markdown",
   "metadata": {
    "heading_collapsed": true,
    "hidden": true
   },
   "source": [
    "#### `formate(...)`"
   ]
  },
  {
   "cell_type": "markdown",
   "metadata": {
    "code_folding": [],
    "hidden": true
   },
   "source": [
    "```\n",
    "    format(value[, format_spec]):\n",
    "\n",
    "        Convert a value to a 'formatted' representation, as controlled by \n",
    "        format_spec. The interpretation of format_spec will depend on the \n",
    "        type of the value argument, however there is a standard formatting \n",
    "        syntax that is used by most built-in types: Format Specification \n",
    "        Mini-Language.\n",
    "```"
   ]
  },
  {
   "cell_type": "code",
   "execution_count": 72,
   "metadata": {
    "code_folding": [],
    "hidden": true
   },
   "outputs": [
    {
     "name": "stdout",
     "output_type": "stream",
     "text": [
      "\n",
      "val1:        \n",
      "    2 \n",
      "val2:           \n",
      "    2      \n",
      "val3:    \n",
      "    2\n",
      "val1:        \n",
      "    Aminul \n",
      "val2:           \n",
      "    Momin      \n",
      "val3:    \n",
      "    Shah\n",
      "Total score for Shah is 2\n",
      "Total score for Shah is 2\n",
      "Total score for 2 is Shah\n",
      "Total score for Shah is 2\n"
     ]
    }
   ],
   "source": [
    "x = 2\n",
    "score = x\n",
    "name = 'Shah'\n",
    "\n",
    "print(f\"\"\"\n",
    "val1:        \n",
    "    {x} \n",
    "val2:           \n",
    "    {x}      \n",
    "val3:    \n",
    "    {x}\"\"\")\n",
    "\n",
    "print(\"\"\"\\\n",
    "val1:        \n",
    "    {} \n",
    "val2:           \n",
    "    {}      \n",
    "val3:    \n",
    "    {}\"\"\".format('Aminul', 'Momin', 'Shah'))\n",
    "\n",
    "\n",
    "print(\"Total score for {} is {}\".format(name, score))       # Use the new-style string formatting\n",
    "print(\"Total score for {0} is {1}\".format(name, score))     # Use the new-style string formatting with numbers \n",
    "print(\"Total score for {1} is {0}\".format(name, score))     # Use the new-style string formatting with numbers \n",
    "print(\"Total score for {n} is {s}\".format(n=name, s=score)) # Use the new-style string formatting with explicit names:\n",
    "    "
   ]
  },
  {
   "cell_type": "code",
   "execution_count": null,
   "metadata": {
    "hidden": true
   },
   "outputs": [],
   "source": []
  },
  {
   "cell_type": "markdown",
   "metadata": {
    "heading_collapsed": true,
    "hidden": true
   },
   "source": [
    "#### `help()`:"
   ]
  },
  {
   "cell_type": "markdown",
   "metadata": {
    "hidden": true
   },
   "source": [
    "`help()` function in Python is used to display the documentation of modules, classes, functions, keywords, etc. \n",
    "\n",
    "NOTE:\n",
    "\n",
    "If no parameter is passed to the `help()` function, then an **interactive** help utility is launched on the console."
   ]
  },
  {
   "cell_type": "code",
   "execution_count": null,
   "metadata": {
    "hidden": true
   },
   "outputs": [],
   "source": []
  },
  {
   "cell_type": "code",
   "execution_count": null,
   "metadata": {
    "hidden": true
   },
   "outputs": [],
   "source": []
  },
  {
   "cell_type": "markdown",
   "metadata": {
    "heading_collapsed": true,
    "hidden": true
   },
   "source": [
    "#### `object()`:"
   ]
  },
  {
   "cell_type": "code",
   "execution_count": 15,
   "metadata": {
    "hidden": true
   },
   "outputs": [],
   "source": [
    "obj = object()"
   ]
  },
  {
   "cell_type": "code",
   "execution_count": 16,
   "metadata": {
    "hidden": true
   },
   "outputs": [],
   "source": [
    "# dir(obj.__class__)"
   ]
  },
  {
   "cell_type": "code",
   "execution_count": 17,
   "metadata": {
    "hidden": true
   },
   "outputs": [
    {
     "data": {
      "text/plain": [
       "['__class__',\n",
       " '__delattr__',\n",
       " '__dir__',\n",
       " '__doc__',\n",
       " '__eq__',\n",
       " '__format__',\n",
       " '__ge__',\n",
       " '__getattribute__',\n",
       " '__gt__',\n",
       " '__hash__',\n",
       " '__init__',\n",
       " '__init_subclass__',\n",
       " '__le__',\n",
       " '__lt__',\n",
       " '__ne__',\n",
       " '__new__',\n",
       " '__reduce__',\n",
       " '__reduce_ex__',\n",
       " '__repr__',\n",
       " '__setattr__',\n",
       " '__sizeof__',\n",
       " '__str__',\n",
       " '__subclasshook__']"
      ]
     },
     "execution_count": 17,
     "metadata": {},
     "output_type": "execute_result"
    }
   ],
   "source": [
    "dir(obj)"
   ]
  },
  {
   "cell_type": "code",
   "execution_count": 49,
   "metadata": {
    "hidden": true
   },
   "outputs": [],
   "source": [
    "# help(object)"
   ]
  },
  {
   "cell_type": "code",
   "execution_count": null,
   "metadata": {
    "hidden": true
   },
   "outputs": [],
   "source": []
  },
  {
   "cell_type": "code",
   "execution_count": null,
   "metadata": {
    "hidden": true
   },
   "outputs": [],
   "source": []
  },
  {
   "cell_type": "code",
   "execution_count": null,
   "metadata": {
    "hidden": true
   },
   "outputs": [],
   "source": []
  },
  {
   "cell_type": "code",
   "execution_count": null,
   "metadata": {
    "hidden": true
   },
   "outputs": [],
   "source": []
  },
  {
   "cell_type": "markdown",
   "metadata": {
    "heading_collapsed": true,
    "hidden": true
   },
   "source": [
    "#### [`open(...)`](https://www.w3schools.com/python/python_file_handling.asp):"
   ]
  },
  {
   "cell_type": "code",
   "execution_count": 40,
   "metadata": {
    "hidden": true
   },
   "outputs": [
    {
     "name": "stdout",
     "output_type": "stream",
     "text": [
      "['Peter', 'Piper', 'picked', 'a', 'peck', 'of', 'pickled', 'peppers', 'How', 'many', 'pickled', 'peppers', 'did', 'Peter', 'Piper', 'pick', 'A', 'peck', 'of', 'pickled', 'peppers', 'Peter', 'Piper', 'picked', 'If', 'Peter', 'Piper', 'picked', 'a', 'peck', 'of', 'pickled', 'peppers', 'Where’s', 'the', 'peck', 'of', 'pickled', 'peppers', 'Peter', 'Piper', 'picked?', 'Betty', 'Botter', 'bought', 'some', 'butter', 'But', 'she', 'said', 'the', 'butter’s', 'bitter', 'If', 'I', 'put', 'it', 'in', 'my', 'batter,', 'it', 'will', 'make', 'my', 'batter', 'bitter', 'But', 'a', 'bit', 'of', 'better', 'butter', 'will', 'make', 'my', 'batter', 'better', 'So', '‘twas', 'better', 'Betty', 'Botter', 'bought', 'a', 'bit', 'of', 'better', 'butter', 'How', 'much', 'wood', 'would', 'a', 'woodchuck', 'chuck', 'if', 'a', 'woodchuck', 'could', 'chuck', 'wood?', 'He', 'would', 'chuck,', 'he', 'would,', 'as', 'much', 'as', 'he', 'could,', 'and', 'chuck', 'as', 'much', 'wood', 'As', 'a', 'woodchuck', 'would', 'if', 'a', 'woodchuck', 'could', 'chuck', 'wood', 'She', 'sells', 'seashells', 'by', 'the', 'seashore', 'How', 'can', 'a', 'clam', 'cram', 'in', 'a', 'clean', 'cream', 'can?', 'I', 'scream,', 'you', 'scream,', 'we', 'all', 'scream', 'for', 'ice', 'cream', 'I', 'saw', 'Susie', 'sitting', 'in', 'a', 'shoeshine', 'shop', 'Susie', 'works', 'in', 'a', 'shoeshine', 'shop.', 'Where', 'she', 'shines', 'she', 'sits,', 'and', 'where', 'she', 'sits', 'she', 'shines', 'Fuzzy', 'Wuzzy', 'was', 'a', 'bear.', 'Fuzzy', 'Wuzzy', 'had', 'no', 'hair.', 'Fuzzy', 'Wuzzy', 'wasn’t', 'fuzzy,', 'was', 'he?', 'Can', 'you', 'can', 'a', 'can', 'as', 'a', 'canner', 'can', 'can', 'a', 'can?', 'I', 'have', 'got', 'a', 'date', 'at', 'a', 'quarter', 'to', 'eight;', 'I’ll', 'see', 'you', 'at', 'the', 'gate,', 'so', 'don’t', 'be', 'late', 'You', 'know', 'New', 'York,', 'you', 'need', 'New', 'York,', 'you', 'know', 'you', 'need', 'unique', 'New', 'York', 'I', 'saw', 'a', 'kitten', 'eating', 'chicken', 'in', 'the', 'kitchen', 'If', 'a', 'dog', 'chews', 'shoes,', 'whose', 'shoes', 'does', 'he', 'choose?', 'I', 'thought', 'I', 'thought', 'of', 'thinking', 'of', 'thanking', 'you', 'I', 'wish', 'to', 'wash', 'my', 'Irish', 'wristwatch', 'Near', 'an', 'ear,', 'a', 'nearer', 'ear,', 'a', 'nearly', 'eerie', 'ear', 'Eddie', 'edited', 'it', 'Willie’s', 'really', 'weary', 'A', 'big', 'black', 'bear', 'sat', 'on', 'a', 'big', 'black', 'rug', 'Tom', 'threw', 'Tim', 'three', 'thumbtacks', 'He', 'threw', 'three', 'free', 'throws', 'Nine', 'nice', 'night', 'nurses', 'nursing', 'nicely', 'So,', 'this', 'is', 'the', 'sushi', 'chef', 'Four', 'fine', 'fresh', 'fish', 'for', 'you', 'Wayne', 'went', 'to', 'wales', 'to', 'watch', 'walruses', 'Six', 'sticky', 'skeletons', 'Which', 'witch', 'is', 'which?', 'Snap', 'crackle', 'pop', 'Flash', 'message', 'Red', 'Buick,', 'blue', 'Buick', 'Red', 'lorry,', 'yellow', 'lorry', 'Thin', 'sticks,', 'thick', 'bricks', 'Stupid', 'superstition', 'Eleven', 'benevolent', 'elephants', 'Two', 'tried', 'and', 'true', 'tridents', 'Rolling', 'red', 'wagons', 'Black', 'back', 'bat', 'She', 'sees', 'cheese', 'Truly', 'rural', 'Good', 'blood,', 'bad', 'blood', 'Pre-shrunk', 'silk', 'shirts', 'Ed', 'had', 'edited', 'it.', 'We', 'surely', 'shall', 'see', 'the', 'sun', 'shine', 'soon', 'Which', 'wristwatches', 'are', 'Swiss', 'wristwatches?', 'Fred', 'fed', 'Ted', 'bread,', 'and', 'Ted', 'fed', 'Fred', 'bread', 'I', 'slit', 'the', 'sheet,', 'the', 'sheet', 'I', 'slit,', 'and', 'on', 'the', 'slitted', 'sheet', 'I', 'sit', 'A', 'skunk', 'sat', 'on', 'a', 'stump', 'and', 'thunk', 'the', 'stump', 'stunk,', 'but', 'the', 'stump', 'thunk', 'the', 'skunk', 'stunk', 'Lesser', 'leather', 'never', 'weathered', 'wetter', 'weather', 'better', 'Of', 'all', 'the', 'vids', 'I’ve', 'ever', 'viewed,', 'I’ve', 'never', 'viewed', 'a', 'vid', 'as', 'valued', 'as', 'Alex’s', 'engVid', 'vid']\n"
     ]
    }
   ],
   "source": [
    "f = open(ADS+'data/tongue_twisters.txt', 'r')\n",
    "# print(type(f), '\\n', dir(f))\n",
    "words = f.read().split()\n",
    "f.close()\n",
    "print(words)"
   ]
  },
  {
   "cell_type": "code",
   "execution_count": null,
   "metadata": {
    "hidden": true
   },
   "outputs": [],
   "source": []
  },
  {
   "cell_type": "markdown",
   "metadata": {
    "heading_collapsed": true,
    "hidden": true
   },
   "source": [
    "#### `ord(...)`"
   ]
  },
  {
   "cell_type": "code",
   "execution_count": null,
   "metadata": {
    "hidden": true
   },
   "outputs": [],
   "source": [
    "\n",
    "def _test_ord():\n",
    "    \n",
    "    D = OrderedDict()\n",
    "    for leter in string.ascii_uppercase: D[leter] = ord(leter)\n",
    "    for key, value in D.items(): print(key, ':', value)\n",
    "\n",
    "_test_ord()\n",
    "        \n"
   ]
  },
  {
   "cell_type": "markdown",
   "metadata": {
    "heading_collapsed": true,
    "hidden": true
   },
   "source": [
    "#### `print(...)`"
   ]
  },
  {
   "cell_type": "code",
   "execution_count": null,
   "metadata": {
    "hidden": true
   },
   "outputs": [],
   "source": [
    "def _test_string_formating():\n",
    "    name = \"Adam\"\n",
    "    score = 10\n",
    "    print(\"Total score for\", name, \"is\", score) # Pass the values as parameters and print will do it\n",
    "    print('The value of x is %3.2f')\n",
    "    print(\"Total score for %s is %s\" % (name, score)) # Pass it as a tuple\n",
    "    print(\"Total score for %(n)s is %(s)s\" % {'n': name, 's': score}) # Pass it as a dictionary\n",
    "    print(\"Total score for {} is {}\".format(name, score))   # Use the new-style string formatting\n",
    "    print(\"Total score for {0} is {1}\".format(name, score)) # Use the new-style string formatting with numbers \n",
    "    print(\"Total score for {1} is {0}\".format(name, score)) # Use the new-style string formatting with numbers \n",
    "    print(\"Total score for {n} is {s}\".format(n=name, s=score)) # Use the new-style string formatting with explicit names:\n",
    "    # print(\"Total score for \", name, \" is \", score, sep='') # If you don't want spaces to be inserted automatically by print in the above example, change the sep parameter\n",
    "    # print(f'Total score for {name} is {score}') # Use the new f-string formatting in Python 3.6\n",
    "\n",
    "    print(\"\"\"\\\n",
    "    Usage: thingy [OPTIONS]\n",
    "         -h                        Display this usage message\n",
    "         -H hostname               Hostname to connect to\n",
    "         -H {}\n",
    "    \"\"\".format('hostname'))\n",
    "\n",
    "    s = 'hostname'\n",
    "    \n",
    "    print(f\"\"\"\n",
    "    Usage: thingy [OPTIONS]\n",
    "         -h                        Display this usage message\n",
    "         -H hostname               Hostname to connect to\n",
    "         -H {s}\n",
    "    \"\"\")\n",
    "    \n",
    "    first = \"Aminul\"\n",
    "    last = \"Momin\"\n",
    "    email = \"A.Momin.NY@gmail.com\"\n",
    "    print(f'{first} {last}\\n{email}\\n')\n",
    "    print(f\"\"\"{first} {last}\\n{email}\\n\"\"\")\n",
    "\n",
    "\n",
    "_test_string_formating()"
   ]
  },
  {
   "cell_type": "markdown",
   "metadata": {
    "heading_collapsed": true,
    "hidden": true
   },
   "source": [
    "#### `functools.lru_cache(..)`"
   ]
  },
  {
   "cell_type": "markdown",
   "metadata": {
    "heading_collapsed": true,
    "hidden": true
   },
   "source": [
    "#### `slice(..)`:"
   ]
  },
  {
   "cell_type": "code",
   "execution_count": 65,
   "metadata": {
    "hidden": true
   },
   "outputs": [],
   "source": [
    "# help(slice)"
   ]
  },
  {
   "cell_type": "code",
   "execution_count": 31,
   "metadata": {
    "hidden": true
   },
   "outputs": [
    {
     "name": "stdout",
     "output_type": "stream",
     "text": [
      "['P', 'y', 't']\n",
      "('y', 'h')\n",
      "['n', 'o', 'h']\n",
      "('n', 'h')\n"
     ]
    }
   ],
   "source": [
    "py_list = ['P', 'y', 't', 'h', 'o', 'n']\n",
    "py_tuple = ('P', 'y', 't', 'h', 'o', 'n')\n",
    "\n",
    "# contains indices 0, 1 and 2\n",
    "slice_object = slice(3)\n",
    "print(py_list[slice_object]) # ['P', 'y', 't']\n",
    "\n",
    "# contains indices 1 and 3\n",
    "slice_object = slice(1, 5, 2)\n",
    "print(py_tuple[slice_object]) # ('y', 'h') \n",
    "\n",
    "\n",
    "# contains indices -1, -2 and -3\n",
    "slice_object = slice(-1, -4, -1) \n",
    "print(py_list[slice_object])  # ['n', 'o', 'h']\n",
    "\n",
    "# contains indices -1 and -3\n",
    "slice_object = slice(-1, -5, -2)\n",
    "print(py_tuple[slice_object]) # ('n', 'h')"
   ]
  },
  {
   "cell_type": "markdown",
   "metadata": {
    "heading_collapsed": true,
    "jp-MarkdownHeadingCollapsed": true,
    "tags": []
   },
   "source": [
    "# Collection Interface"
   ]
  },
  {
   "cell_type": "code",
   "execution_count": 91,
   "metadata": {
    "hidden": true
   },
   "outputs": [],
   "source": []
  },
  {
   "cell_type": "code",
   "execution_count": 31,
   "metadata": {
    "hidden": true
   },
   "outputs": [
    {
     "data": {
      "text/plain": [
       "3"
      ]
     },
     "execution_count": 31,
     "metadata": {},
     "output_type": "execute_result"
    }
   ],
   "source": [
    "\"aaagggbbb\".count('a')"
   ]
  },
  {
   "cell_type": "code",
   "execution_count": 39,
   "metadata": {
    "hidden": true
   },
   "outputs": [],
   "source": [
    "help(collections)"
   ]
  },
  {
   "cell_type": "markdown",
   "metadata": {
    "heading_collapsed": true,
    "hidden": true
   },
   "source": [
    "### list:"
   ]
  },
  {
   "cell_type": "markdown",
   "metadata": {
    "hidden": true
   },
   "source": [
    "<h3> <font color='magenta'> Facts of List"
   ]
  },
  {
   "cell_type": "code",
   "execution_count": 21,
   "metadata": {
    "hidden": true
   },
   "outputs": [],
   "source": [
    "# [2,1] - [2,1]"
   ]
  },
  {
   "cell_type": "code",
   "execution_count": null,
   "metadata": {
    "hidden": true
   },
   "outputs": [],
   "source": []
  },
  {
   "cell_type": "code",
   "execution_count": 14,
   "metadata": {
    "hidden": true
   },
   "outputs": [],
   "source": [
    "a1 = [[77, 11], 1,2]\n",
    "a2 = [2,3]\n",
    "a3 = a1+a2\n",
    "a1[0] = 10"
   ]
  },
  {
   "cell_type": "code",
   "execution_count": 15,
   "metadata": {
    "hidden": true
   },
   "outputs": [
    {
     "data": {
      "text/plain": [
       "([10, 1, 2], [2, 3], [[77, 11], 1, 2, 2, 3])"
      ]
     },
     "execution_count": 15,
     "metadata": {},
     "output_type": "execute_result"
    }
   ],
   "source": [
    "a1, a2, a3"
   ]
  },
  {
   "cell_type": "code",
   "execution_count": 6,
   "metadata": {
    "hidden": true
   },
   "outputs": [],
   "source": [
    "# dir(list)\n",
    "# help(list)"
   ]
  },
  {
   "cell_type": "markdown",
   "metadata": {
    "hidden": true
   },
   "source": [
    "`append(object)`\n",
    "`clear()`\n",
    "`copy()`\n",
    "`count(value)`\n",
    "`extend(iterable)`\n",
    "`index(value, start=0, stop=9223372036854775807)`\n",
    "`insert(index, object)`\n",
    "`pop(index=-1)`\n",
    "`remove(value)`\n",
    "`reverse()`\n",
    "`sort()`"
   ]
  },
  {
   "cell_type": "code",
   "execution_count": 14,
   "metadata": {
    "hidden": true
   },
   "outputs": [
    {
     "data": {
      "text/plain": [
       "True"
      ]
     },
     "execution_count": 14,
     "metadata": {},
     "output_type": "execute_result"
    }
   ],
   "source": [
    "lst1 = [1]; lst2 = [1]; lst1 == lst2"
   ]
  },
  {
   "cell_type": "markdown",
   "metadata": {
    "heading_collapsed": true,
    "hidden": true
   },
   "source": [
    "### dict (`collections.Counter()` vs `collections.OrderedDict()` vs `collections.defaultdict()`):"
   ]
  },
  {
   "cell_type": "markdown",
   "metadata": {
    "hidden": true
   },
   "source": [
    "- `dict()` keeps the elements in the order that they were in when they were first inserted.\n",
    "- Arithmatic Operations like `+` or `-` are not supported !"
   ]
  },
  {
   "cell_type": "code",
   "execution_count": 148,
   "metadata": {
    "hidden": true,
    "scrolled": true
   },
   "outputs": [],
   "source": [
    "# dir(dict)"
   ]
  },
  {
   "cell_type": "markdown",
   "metadata": {
    "hidden": true
   },
   "source": [
    "`clear()`\n",
    "`copy()`\n",
    "`fromkeys()`\n",
    "`get()`\n",
    "`items()`\n",
    "`keys()`\n",
    "`pop()`\n",
    "`popitem()`\n",
    "`setdefault()`\n",
    "`update()`\n",
    "`values()`"
   ]
  },
  {
   "cell_type": "code",
   "execution_count": 72,
   "metadata": {
    "hidden": true
   },
   "outputs": [
    {
     "data": {
      "text/plain": [
       "True"
      ]
     },
     "execution_count": 72,
     "metadata": {},
     "output_type": "execute_result"
    }
   ],
   "source": [
    "d1 = {'one': 1}; d2 = {'one': 1}; d1 == d2"
   ]
  },
  {
   "cell_type": "code",
   "execution_count": 74,
   "metadata": {
    "hidden": true
   },
   "outputs": [],
   "source": [
    "# d1+d2 # ERRORS !"
   ]
  },
  {
   "cell_type": "markdown",
   "metadata": {
    "hidden": true
   },
   "source": [
    "<font color='magenta'>Subclass of dict: `collections.Counter()` vs `collections.OrderedDict()` vs `collections.defaultdict()`"
   ]
  },
  {
   "cell_type": "code",
   "execution_count": 14,
   "metadata": {
    "hidden": true
   },
   "outputs": [
    {
     "data": {
      "text/plain": [
       "True"
      ]
     },
     "execution_count": 14,
     "metadata": {},
     "output_type": "execute_result"
    }
   ],
   "source": [
    "from collections import Counter,defaultdict,OrderedDict,namedtuple\n",
    "issubclass(Counter,dict) and issubclass(defaultdict,dict) and issubclass(OrderedDict,dict)"
   ]
  },
  {
   "cell_type": "markdown",
   "metadata": {
    "heading_collapsed": true,
    "hidden": true
   },
   "source": [
    "#### collections.OrderedDict:"
   ]
  },
  {
   "cell_type": "markdown",
   "metadata": {
    "hidden": true
   },
   "source": [
    "- OrderedDict is subclasses of dict.\n",
    "- OrderedDict keeps the elements in the order that they were in when they were first inserted.\n",
    "- If we remove an element and re-add it, the element will be pushed to the back. If an element’s key changes, the position does not change.\n",
    "- "
   ]
  },
  {
   "cell_type": "code",
   "execution_count": 9,
   "metadata": {
    "hidden": true
   },
   "outputs": [],
   "source": [
    "# dir(collections.OrderedDict)"
   ]
  },
  {
   "cell_type": "markdown",
   "metadata": {
    "hidden": true
   },
   "source": [
    "`OrderedDict.copy()`\n",
    "`OrderedDict.frokeys()`\n",
    "`OrderedDict.get()`\n",
    "`OrderedDict.ites()`\n",
    "`OrderedDict.keys()`\n",
    "`OrderedDict.moveto_end()`\n",
    "`OrderedDict.pop()`\n",
    "`OrderedDict.poptem()`\n",
    "`OrderedDict.setdefalt()`\n",
    "`OrderedDict.update()`\n",
    "`OrderedDict.values()`"
   ]
  },
  {
   "cell_type": "markdown",
   "metadata": {
    "heading_collapsed": true,
    "hidden": true
   },
   "source": [
    "#### collections.defaultdict"
   ]
  },
  {
   "cell_type": "code",
   "execution_count": 3,
   "metadata": {
    "hidden": true
   },
   "outputs": [],
   "source": [
    "from collections import defaultdict"
   ]
  },
  {
   "cell_type": "markdown",
   "metadata": {
    "hidden": true
   },
   "source": [
    "- defaultdict is subclass of `dict`.\n",
    "- A defaultdict is a useful subclass that doesn’t raise a KeyError exception when trying to access an undefined key. However, you must define a function that defines what you want to happen when a key is searched for that doesn’t exist. Let’s look at an example:"
   ]
  },
  {
   "cell_type": "code",
   "execution_count": 5,
   "metadata": {
    "hidden": true
   },
   "outputs": [],
   "source": [
    "# dir(defaultdict)"
   ]
  },
  {
   "cell_type": "code",
   "execution_count": 62,
   "metadata": {
    "hidden": true
   },
   "outputs": [
    {
     "name": "stdout",
     "output_type": "stream",
     "text": [
      "('a', 1)\n",
      "('b', 2)\n",
      "('c', 3)\n",
      "\n",
      "\n",
      "default value\n",
      "\n",
      "\n",
      "('a', 1)\n",
      "('b', 2)\n",
      "('c', 3)\n",
      "('d', 'default value')\n"
     ]
    }
   ],
   "source": [
    "from collections import defaultdict\n",
    "\n",
    "def defval():\n",
    "  return 'default value'\n",
    "\n",
    "mydict = defaultdict(defval)\n",
    "mydict['a'] = 1\n",
    "mydict['b'] = 2\n",
    "mydict['c'] = 3\n",
    "\n",
    "for k in mydict.items():\n",
    "  print(k)\n",
    "\n",
    "print('\\n') \n",
    "\n",
    "# if we try to get 'd' \n",
    "print(mydict['d']) # with a 'generic' dict this will raise a KeyError exception\n",
    "\n",
    "print('\\n') \n",
    "\n",
    "# it also add it to the dict\n",
    "for k in mydict.items():\n",
    "  print(k)"
   ]
  },
  {
   "cell_type": "markdown",
   "metadata": {
    "hidden": true
   },
   "source": [
    "- In the code above, we defined a function (defval()) that returns “default value” when a KeyError exception would normally be raised. Then, we defined a defaultdict, added items to it, and printed them. Then, we tried to get d, which is a value that’s not present. This also adds that value to the dict."
   ]
  },
  {
   "cell_type": "markdown",
   "metadata": {
    "heading_collapsed": true,
    "hidden": true
   },
   "source": [
    "#### collections.Counter:"
   ]
  },
  {
   "cell_type": "code",
   "execution_count": 15,
   "metadata": {
    "hidden": true
   },
   "outputs": [],
   "source": [
    "from collections import Counter\n",
    "counter = Counter([randint(-5,5) for _ in range(100)])"
   ]
  },
  {
   "cell_type": "code",
   "execution_count": 16,
   "metadata": {
    "hidden": true,
    "scrolled": true
   },
   "outputs": [],
   "source": [
    "# help(collections.Counter)"
   ]
  },
  {
   "cell_type": "code",
   "execution_count": 27,
   "metadata": {
    "hidden": true
   },
   "outputs": [],
   "source": [
    "# dir(Counter)"
   ]
  },
  {
   "cell_type": "markdown",
   "metadata": {
    "hidden": true
   },
   "source": [
    "`Counter.clear()`\n",
    "`Counter.copy()`\n",
    "`Counter.elements()`\n",
    "`Counter.fromkeys()`\n",
    "`Counter.get()`\n",
    "`Counter.items()`\n",
    "`Counter.keys()`\n",
    "`Counter.most_common()`\n",
    "`Counter.pop()`\n",
    "`Counter.popitem()`\n",
    "`Counter.setdefault()`\n",
    "`Counter.subtract()`\n",
    "`Counter.update()`\n",
    "`Counter.values()`"
   ]
  },
  {
   "cell_type": "markdown",
   "metadata": {
    "hidden": true
   },
   "source": [
    "- `+` & `-` operations are supported\n",
    "- `unordred` hashtable"
   ]
  },
  {
   "cell_type": "code",
   "execution_count": null,
   "metadata": {
    "hidden": true
   },
   "outputs": [],
   "source": []
  },
  {
   "cell_type": "code",
   "execution_count": 68,
   "metadata": {
    "hidden": true
   },
   "outputs": [],
   "source": [
    "set_counter = Counter({1,2,3,3,2,1,0})\n",
    "list_counter = Counter([1,1,2,3,3,3,3,2,1,0,0,0])\n",
    "str_counter = Counter('aminulMomin')\n",
    "tuple_counter = Counter((1,2,3,3,2,1,0))\n",
    "dict_counter = Counter({'one':1, 'two':2, 'three':3})\n",
    "dict_counter2 = Counter({'one':1, 'two':2, 'three':3})"
   ]
  },
  {
   "cell_type": "code",
   "execution_count": 69,
   "metadata": {
    "hidden": true
   },
   "outputs": [
    {
     "name": "stdout",
     "output_type": "stream",
     "text": [
      "Counter({0: 1, 1: 1, 2: 1, 3: 1})\n",
      "Counter({3: 4, 1: 3, 0: 3, 2: 2})\n",
      "Counter({'m': 2, 'i': 2, 'n': 2, 'a': 1, 'u': 1, 'l': 1, 'M': 1, 'o': 1})\n",
      "Counter({1: 2, 2: 2, 3: 2, 0: 1})\n",
      "Counter({'three': 3, 'two': 2, 'one': 1})\n"
     ]
    }
   ],
   "source": [
    "print(\n",
    "    set_counter,\n",
    "    list_counter,\n",
    "    str_counter,\n",
    "    tuple_counter,\n",
    "    dict_counter,\n",
    "    sep='\\n'\n",
    ")"
   ]
  },
  {
   "cell_type": "code",
   "execution_count": 70,
   "metadata": {
    "hidden": true
   },
   "outputs": [
    {
     "data": {
      "text/plain": [
       "Counter({1: 2, 2: 1, 3: 3, 0: 2})"
      ]
     },
     "execution_count": 70,
     "metadata": {},
     "output_type": "execute_result"
    }
   ],
   "source": [
    "list_counter-set_counter"
   ]
  },
  {
   "cell_type": "code",
   "execution_count": 71,
   "metadata": {
    "hidden": true
   },
   "outputs": [
    {
     "data": {
      "text/plain": [
       "Counter({1: 4, 2: 3, 3: 5, 0: 4})"
      ]
     },
     "execution_count": 71,
     "metadata": {},
     "output_type": "execute_result"
    }
   ],
   "source": [
    "list_counter+set_counter"
   ]
  },
  {
   "cell_type": "code",
   "execution_count": 18,
   "metadata": {
    "hidden": true
   },
   "outputs": [
    {
     "name": "stdout",
     "output_type": "stream",
     "text": [
      "10\n"
     ]
    }
   ],
   "source": [
    "c = counter.get(1, 0)\n",
    "print(c)"
   ]
  },
  {
   "cell_type": "code",
   "execution_count": 19,
   "metadata": {
    "hidden": true
   },
   "outputs": [],
   "source": [
    "counter[1] = counter[1]+1"
   ]
  },
  {
   "cell_type": "code",
   "execution_count": 20,
   "metadata": {
    "hidden": true,
    "scrolled": true
   },
   "outputs": [
    {
     "data": {
      "text/plain": [
       "11"
      ]
     },
     "execution_count": 20,
     "metadata": {},
     "output_type": "execute_result"
    }
   ],
   "source": [
    "counter[1]"
   ]
  },
  {
   "cell_type": "code",
   "execution_count": 21,
   "metadata": {
    "hidden": true,
    "scrolled": true
   },
   "outputs": [
    {
     "name": "stdout",
     "output_type": "stream",
     "text": [
      "-5\n",
      "4\n",
      "5\n",
      "-2\n",
      "-3\n",
      "1\n",
      "-4\n",
      "-1\n",
      "0\n",
      "3\n",
      "2\n"
     ]
    }
   ],
   "source": [
    "for i in counter: print(i)"
   ]
  },
  {
   "cell_type": "code",
   "execution_count": 22,
   "metadata": {
    "hidden": true
   },
   "outputs": [
    {
     "data": {
      "text/plain": [
       "[-5, 4, 5, -2, -3, 1, -4, -1, 0, 3, 2]"
      ]
     },
     "execution_count": 22,
     "metadata": {},
     "output_type": "execute_result"
    }
   ],
   "source": [
    "L = list(counter)\n",
    "L"
   ]
  },
  {
   "cell_type": "code",
   "execution_count": 23,
   "metadata": {
    "hidden": true
   },
   "outputs": [],
   "source": [
    "c1 = counter = Counter([randint(-5,5) for _ in range(100)])\n",
    "c2 = counter = Counter([randint(-5,5) for _ in range(100)])"
   ]
  },
  {
   "cell_type": "code",
   "execution_count": 25,
   "metadata": {
    "hidden": true
   },
   "outputs": [
    {
     "data": {
      "text/plain": [
       "Counter({2: 23,\n",
       "         -4: 21,\n",
       "         -3: 22,\n",
       "         -5: 25,\n",
       "         4: 9,\n",
       "         5: 25,\n",
       "         -2: 20,\n",
       "         0: 14,\n",
       "         3: 14,\n",
       "         1: 19,\n",
       "         -1: 8})"
      ]
     },
     "execution_count": 25,
     "metadata": {},
     "output_type": "execute_result"
    }
   ],
   "source": [
    "c1+c2"
   ]
  },
  {
   "cell_type": "code",
   "execution_count": null,
   "metadata": {
    "hidden": true
   },
   "outputs": [],
   "source": []
  },
  {
   "cell_type": "code",
   "execution_count": null,
   "metadata": {
    "hidden": true
   },
   "outputs": [],
   "source": []
  },
  {
   "cell_type": "markdown",
   "metadata": {
    "heading_collapsed": true,
    "hidden": true
   },
   "source": [
    "### set:"
   ]
  },
  {
   "cell_type": "markdown",
   "metadata": {
    "hidden": true
   },
   "source": [
    "`add()`\n",
    "`clear()`\n",
    "`copy()`\n",
    "`difference()`\n",
    "`difference_update()`\n",
    "`discard()`\n",
    "`intersection()`\n",
    "`intersection_update()`\n",
    "`isdisjoint()`\n",
    "`issubset()`\n",
    "`issuperset()`\n",
    "`pop()`\n",
    "`remove()`\n",
    "`symmetric_difference()`\n",
    "`symmetric_difference_update()`\n",
    "`union()`\n",
    "`update()`"
   ]
  },
  {
   "cell_type": "markdown",
   "metadata": {
    "hidden": true
   },
   "source": [
    "- `se`t object in Python is `hashset` and `ordered set`\n",
    "- `set` object is `not subscriptable`\n",
    "- `Subtruection` operation is supported but `Addition` is not supported!"
   ]
  },
  {
   "cell_type": "code",
   "execution_count": 20,
   "metadata": {
    "hidden": true
   },
   "outputs": [],
   "source": [
    "# dir(set)"
   ]
  },
  {
   "cell_type": "code",
   "execution_count": 33,
   "metadata": {
    "hidden": true
   },
   "outputs": [
    {
     "data": {
      "text/plain": [
       "True"
      ]
     },
     "execution_count": 33,
     "metadata": {},
     "output_type": "execute_result"
    }
   ],
   "source": [
    "set1 = {1,2,3}; set2 = {1,2,3}; set1 == set2"
   ]
  },
  {
   "cell_type": "code",
   "execution_count": 23,
   "metadata": {
    "hidden": true
   },
   "outputs": [],
   "source": [
    "seta = set('she sells sea shells by the sea shore')\n",
    "setb = set('shore')"
   ]
  },
  {
   "cell_type": "code",
   "execution_count": 24,
   "metadata": {
    "hidden": true
   },
   "outputs": [
    {
     "data": {
      "text/plain": [
       "({' ', 'a', 'b', 'e', 'h', 'l', 'o', 'r', 's', 't', 'y'},\n",
       " {'e', 'h', 'o', 'r', 's'},\n",
       " {' ', 'a', 'b', 'l', 't', 'y'})"
      ]
     },
     "execution_count": 24,
     "metadata": {},
     "output_type": "execute_result"
    }
   ],
   "source": [
    "seta, setb, seta - setb"
   ]
  },
  {
   "cell_type": "code",
   "execution_count": 32,
   "metadata": {
    "hidden": true
   },
   "outputs": [],
   "source": [
    "# seta + setb # ERRORS !"
   ]
  },
  {
   "cell_type": "code",
   "execution_count": 31,
   "metadata": {
    "hidden": true
   },
   "outputs": [],
   "source": [
    "# seta[0] # ERRORS !"
   ]
  },
  {
   "cell_type": "code",
   "execution_count": 30,
   "metadata": {
    "hidden": true
   },
   "outputs": [
    {
     "data": {
      "text/plain": [
       "True"
      ]
     },
     "execution_count": 30,
     "metadata": {},
     "output_type": "execute_result"
    }
   ],
   "source": [
    "set1.issubset({1,2,3,4})"
   ]
  },
  {
   "cell_type": "code",
   "execution_count": 23,
   "metadata": {
    "hidden": true
   },
   "outputs": [
    {
     "data": {
      "text/plain": [
       "{'r', 's', 't'}"
      ]
     },
     "execution_count": 23,
     "metadata": {},
     "output_type": "execute_result"
    }
   ],
   "source": [
    "set('str')"
   ]
  },
  {
   "cell_type": "code",
   "execution_count": 26,
   "metadata": {
    "hidden": true
   },
   "outputs": [
    {
     "data": {
      "text/plain": [
       "Counter({'r': 1, 't': 1, 's': 1})"
      ]
     },
     "execution_count": 26,
     "metadata": {},
     "output_type": "execute_result"
    }
   ],
   "source": [
    "Counter(set('str'))"
   ]
  },
  {
   "cell_type": "markdown",
   "metadata": {
    "heading_collapsed": true,
    "hidden": true
   },
   "source": [
    "### tuple"
   ]
  },
  {
   "cell_type": "code",
   "execution_count": 90,
   "metadata": {
    "hidden": true
   },
   "outputs": [
    {
     "data": {
      "text/plain": [
       "(1, 2, 3, 1, 2, 4)"
      ]
     },
     "execution_count": 90,
     "metadata": {},
     "output_type": "execute_result"
    }
   ],
   "source": [
    "(1,2,3) + (1,2,4)"
   ]
  },
  {
   "cell_type": "code",
   "execution_count": 92,
   "metadata": {
    "hidden": true
   },
   "outputs": [],
   "source": [
    "# (1,2,3) - (1,2,4) # ERRORS!"
   ]
  },
  {
   "cell_type": "code",
   "execution_count": 100,
   "metadata": {
    "hidden": true
   },
   "outputs": [],
   "source": [
    "T1 = ([1,2], 1); T2 = (5,6,7); T3 = T1+T2"
   ]
  },
  {
   "cell_type": "code",
   "execution_count": 101,
   "metadata": {
    "hidden": true
   },
   "outputs": [
    {
     "data": {
      "text/plain": [
       "([-1, 2], 1, 5, 6, 7)"
      ]
     },
     "execution_count": 101,
     "metadata": {},
     "output_type": "execute_result"
    }
   ],
   "source": [
    "T1[0][0] = -1\n",
    "T3"
   ]
  },
  {
   "cell_type": "code",
   "execution_count": null,
   "metadata": {
    "hidden": true
   },
   "outputs": [],
   "source": []
  },
  {
   "cell_type": "code",
   "execution_count": null,
   "metadata": {
    "hidden": true
   },
   "outputs": [],
   "source": []
  },
  {
   "cell_type": "code",
   "execution_count": null,
   "metadata": {
    "hidden": true
   },
   "outputs": [],
   "source": []
  },
  {
   "cell_type": "markdown",
   "metadata": {
    "heading_collapsed": true,
    "hidden": true
   },
   "source": [
    "### Python String and Character: (Tips and Tricks)"
   ]
  },
  {
   "cell_type": "code",
   "execution_count": 93,
   "metadata": {
    "hidden": true
   },
   "outputs": [],
   "source": [
    "import string"
   ]
  },
  {
   "cell_type": "code",
   "execution_count": 96,
   "metadata": {
    "hidden": true
   },
   "outputs": [],
   "source": [
    "# dir(string)"
   ]
  },
  {
   "cell_type": "markdown",
   "metadata": {
    "hidden": true
   },
   "source": [
    "`string.ascii_letters`\n",
    "`string.ascii_lowercase`\n",
    "`string.ascii_uppercase`\n",
    "`string.capwords`\n",
    "`string.digits`\n",
    "`string.hexdigits`\n",
    "`string.octdigits`\n",
    "`string.printable`\n",
    "`string.punctuation`\n",
    "`string.whitespace`"
   ]
  },
  {
   "cell_type": "code",
   "execution_count": 19,
   "metadata": {
    "hidden": true,
    "scrolled": true
   },
   "outputs": [
    {
     "name": "stdout",
     "output_type": "stream",
     "text": [
      "\u001b[01;5m  \u001b[01;31m string.ascii_letters \u001b[m  \u001b[m: abcdefghijklmnopqrstuvwxyzABCDEFGHIJKLMNOPQRSTUVWXYZ\n",
      "\u001b[01;5m  \u001b[01;31m string.ascii_lowercase \u001b[m  \u001b[m: abcdefghijklmnopqrstuvwxyz\n",
      "\u001b[01;5m  \u001b[01;31m string.ascii_uppercase \u001b[m  \u001b[m: ABCDEFGHIJKLMNOPQRSTUVWXYZ\n",
      "\u001b[01;5m  \u001b[01;31m string.whitespace \u001b[m  \u001b[m: [' ', '\\t', '\\n', '\\r', '\\x0b', '\\x0c']\n",
      "\u001b[01;5m  \u001b[01;31m string.digits \u001b[m  \u001b[m: 0123456789\n",
      "\u001b[01;5m  \u001b[01;31m string.hexdigits \u001b[m  \u001b[m: 0123456789abcdefABCDEF\n",
      "\u001b[01;5m  \u001b[01;31m string.octdigits \u001b[m  \u001b[m: 01234567\n"
     ]
    }
   ],
   "source": [
    "print(\n",
    "    f\"{red('string.ascii_letters')}: {string.ascii_letters}\",\n",
    "    f\"{red('string.ascii_lowercase')}: {string.ascii_lowercase}\",\n",
    "    f\"{red('string.ascii_uppercase')}: {string.ascii_uppercase}\",\n",
    "    f\"{red('string.whitespace')}: {list(string.whitespace)}\",\n",
    "    f\"{red('string.digits')}: {string.digits}\",\n",
    "    f\"{red('string.hexdigits')}: {string.hexdigits}\",\n",
    "    f\"{red('string.octdigits')}: {string.octdigits}\",\n",
    "    sep='\\n'\n",
    ")"
   ]
  },
  {
   "cell_type": "code",
   "execution_count": 111,
   "metadata": {
    "hidden": true
   },
   "outputs": [],
   "source": [
    "leters = string.ascii_letters\n",
    "lowercase = string.ascii_lowercase\n",
    "uppercase = string.ascii_uppercase\n",
    "digits = string.digits"
   ]
  },
  {
   "cell_type": "code",
   "execution_count": 65,
   "metadata": {
    "hidden": true
   },
   "outputs": [],
   "source": [
    "bin_str = b'a string'"
   ]
  },
  {
   "cell_type": "code",
   "execution_count": 66,
   "metadata": {
    "hidden": true,
    "scrolled": true
   },
   "outputs": [
    {
     "data": {
      "text/plain": [
       "'a string'"
      ]
     },
     "execution_count": 66,
     "metadata": {},
     "output_type": "execute_result"
    }
   ],
   "source": [
    "regular_str1 = bin_str.decode('ascii'); regular_str1"
   ]
  },
  {
   "cell_type": "code",
   "execution_count": 10,
   "metadata": {
    "hidden": true
   },
   "outputs": [
    {
     "data": {
      "text/plain": [
       "'a string'"
      ]
     },
     "execution_count": 10,
     "metadata": {},
     "output_type": "execute_result"
    }
   ],
   "source": [
    "regular_str2 = bin_str.decode('utf-8'); regular_str2"
   ]
  },
  {
   "cell_type": "markdown",
   "metadata": {
    "heading_collapsed": true,
    "hidden": true
   },
   "source": [
    "### namedtuple:"
   ]
  },
  {
   "cell_type": "code",
   "execution_count": 82,
   "metadata": {
    "hidden": true
   },
   "outputs": [],
   "source": [
    "# help(collections.namedtuple)"
   ]
  },
  {
   "cell_type": "code",
   "execution_count": 17,
   "metadata": {
    "hidden": true
   },
   "outputs": [],
   "source": [
    "# dir(collections.namedtuple)"
   ]
  },
  {
   "cell_type": "code",
   "execution_count": 86,
   "metadata": {
    "hidden": true
   },
   "outputs": [],
   "source": [
    "class Person:\n",
    "    def __init__(self, name, ssn):\n",
    "        self._name = name\n",
    "        self._ssn = ssn\n",
    "\n",
    "Student = collections.namedtuple('Student', ('name', 'ssn'))"
   ]
  },
  {
   "cell_type": "code",
   "execution_count": 87,
   "metadata": {
    "hidden": true
   },
   "outputs": [],
   "source": [
    "p = Person('Shah', 1234)\n",
    "s = Student('Shah', 1234)"
   ]
  },
  {
   "cell_type": "code",
   "execution_count": 89,
   "metadata": {
    "hidden": true
   },
   "outputs": [],
   "source": [
    "student_name, student_ssn = Student('Farzana', 1234)"
   ]
  },
  {
   "cell_type": "markdown",
   "metadata": {
    "heading_collapsed": true,
    "hidden": true
   },
   "source": [
    "### collections.deque:"
   ]
  },
  {
   "cell_type": "code",
   "execution_count": 55,
   "metadata": {
    "hidden": true
   },
   "outputs": [],
   "source": [
    "from collections import deque"
   ]
  },
  {
   "cell_type": "code",
   "execution_count": 7,
   "metadata": {
    "hidden": true
   },
   "outputs": [],
   "source": [
    "# dir(collections.deque)"
   ]
  },
  {
   "cell_type": "markdown",
   "metadata": {
    "hidden": true
   },
   "source": [
    "`deque.append()`\n",
    "`deque.appendleft()`\n",
    "`deque.clear()`\n",
    "`deque.copy()`\n",
    "`deque.count()`\n",
    "`deque.extend()`\n",
    "`deque.extendleft()`\n",
    "`deque.index()`\n",
    "`deque.insert()`\n",
    "`deque.maxlen()`\n",
    "`deque.pop()`\n",
    "`deque.popleft()`\n",
    "`deque.remove()`\n",
    "`deque.reverse()`\n",
    "`deque.rotate()`"
   ]
  },
  {
   "cell_type": "code",
   "execution_count": 75,
   "metadata": {
    "hidden": true
   },
   "outputs": [
    {
     "name": "stdout",
     "output_type": "stream",
     "text": [
      "deque([1, 3])\n"
     ]
    }
   ],
   "source": [
    "q = deque([1,3])\n",
    "if q: print(q)"
   ]
  },
  {
   "cell_type": "code",
   "execution_count": 81,
   "metadata": {
    "hidden": true
   },
   "outputs": [
    {
     "data": {
      "text/plain": [
       "2"
      ]
     },
     "execution_count": 81,
     "metadata": {},
     "output_type": "execute_result"
    }
   ],
   "source": [
    "q = deque([*range(5)])\n",
    "q.extend([1,2,4])\n",
    "# q.rotate(2)\n",
    "# q.reverse()\n",
    "q.count(2)"
   ]
  },
  {
   "cell_type": "code",
   "execution_count": 82,
   "metadata": {
    "hidden": true,
    "scrolled": true
   },
   "outputs": [
    {
     "name": "stdout",
     "output_type": "stream",
     "text": [
      "0\n",
      "1\n",
      "2\n",
      "3\n",
      "4\n",
      "1\n",
      "2\n",
      "4\n"
     ]
    }
   ],
   "source": [
    "for i in q:\n",
    "    print(i)"
   ]
  },
  {
   "cell_type": "code",
   "execution_count": 89,
   "metadata": {
    "hidden": true
   },
   "outputs": [
    {
     "data": {
      "text/plain": [
       "[0, 1, 2, 3, 4, 1, 2, 4]"
      ]
     },
     "execution_count": 89,
     "metadata": {},
     "output_type": "execute_result"
    }
   ],
   "source": [
    "L = list(q)\n",
    "L"
   ]
  },
  {
   "cell_type": "markdown",
   "metadata": {
    "heading_collapsed": true,
    "hidden": true
   },
   "source": [
    "### heapq (PriorityQueue)"
   ]
  },
  {
   "cell_type": "code",
   "execution_count": 3,
   "metadata": {
    "hidden": true
   },
   "outputs": [],
   "source": [
    "import heapq"
   ]
  },
  {
   "cell_type": "markdown",
   "metadata": {
    "hidden": true
   },
   "source": [
    "- `heapq`: a min priority queue\n",
    "    - `heapq.heapify(pq_list)`\n",
    "    - `heapq.heappop(pq_list)`\n",
    "    - `heapq.heappush(pq_list)`\n",
    "    - `heapq.heappushpop(pq_list, item)` => it  is equivalent to `heappush()` followed by `heappop()`\n",
    "    - `heapq.heapreplace(pq_list, item)` => it  is equivalent to `heappop()` followed by `heappush()`\n",
    "    - `merge(*iterables, key=None, reverse=False)`\n",
    "        - `heapq.merge(list1, list2, ... listn)`\n",
    "    - `nlargest(n, iterable, key=None)`\n",
    "    - `nsmallest(n, iterable, key=None)`"
   ]
  },
  {
   "cell_type": "code",
   "execution_count": 4,
   "metadata": {
    "hidden": true
   },
   "outputs": [],
   "source": [
    "# help(heapq)"
   ]
  },
  {
   "cell_type": "code",
   "execution_count": 53,
   "metadata": {
    "hidden": true
   },
   "outputs": [],
   "source": [
    "# dir(heapq)"
   ]
  },
  {
   "cell_type": "code",
   "execution_count": 51,
   "metadata": {
    "hidden": true
   },
   "outputs": [],
   "source": [
    "# heapq.__all__"
   ]
  },
  {
   "cell_type": "markdown",
   "metadata": {
    "heading_collapsed": true,
    "hidden": true
   },
   "source": [
    "#### Min Priority Queue"
   ]
  },
  {
   "cell_type": "code",
   "execution_count": 31,
   "metadata": {
    "hidden": true,
    "scrolled": true
   },
   "outputs": [
    {
     "name": "stdout",
     "output_type": "stream",
     "text": [
      "(-4, 41)\n",
      "(-3, 40)\n",
      "(-2, 43)\n",
      "(-1, 4)\n",
      "(1, 16)\n",
      "(4, 12)\n",
      "(4, 44)\n"
     ]
    }
   ],
   "source": [
    "pq = []\n",
    "heapq.heapify(pq)\n",
    "\n",
    "for i in range(7): \n",
    "    priority = randrange(-5,5)\n",
    "    element = randrange(50)\n",
    "    heapq.heappush(pq, (priority, element))\n",
    "\n",
    "for i in range(len(pq)):\n",
    "    print(heapq.heappop(pq))"
   ]
  },
  {
   "cell_type": "code",
   "execution_count": 8,
   "metadata": {
    "hidden": true
   },
   "outputs": [
    {
     "data": {
      "text/plain": [
       "[-11, -1, 6, -4, -15, 3, -8, -7, 8, 20]"
      ]
     },
     "execution_count": 8,
     "metadata": {},
     "output_type": "execute_result"
    }
   ],
   "source": [
    "pq = [randint(-20,20) for _ in range(10)]\n",
    "heapq.heapify(L)\n",
    "pq"
   ]
  },
  {
   "cell_type": "markdown",
   "metadata": {
    "hidden": true
   },
   "source": [
    "- `heapq.merge(list1, list2, ... listn)`"
   ]
  },
  {
   "cell_type": "code",
   "execution_count": 43,
   "metadata": {
    "hidden": true
   },
   "outputs": [],
   "source": [
    "list_of_sorted_lists = [sorted([randint(-99, 99) for _ in range(randint(0, 5))]) for _ in range(randint(2, 5))]"
   ]
  },
  {
   "cell_type": "code",
   "execution_count": 44,
   "metadata": {
    "hidden": true
   },
   "outputs": [
    {
     "data": {
      "text/plain": [
       "[[], [-39, -38, 20, 20, 99]]"
      ]
     },
     "execution_count": 44,
     "metadata": {},
     "output_type": "execute_result"
    }
   ],
   "source": [
    "list_of_sorted_lists"
   ]
  },
  {
   "cell_type": "code",
   "execution_count": 45,
   "metadata": {
    "hidden": true
   },
   "outputs": [
    {
     "data": {
      "text/plain": [
       "[-39, -38, 20, 20, 99]"
      ]
     },
     "execution_count": 45,
     "metadata": {},
     "output_type": "execute_result"
    }
   ],
   "source": [
    "[*heapq.merge(*list_of_sorted_lists, key=lambda x: -x)]"
   ]
  },
  {
   "cell_type": "markdown",
   "metadata": {
    "heading_collapsed": true,
    "hidden": true
   },
   "source": [
    "#### Max Priority Queue out of Min Priority Queue:"
   ]
  },
  {
   "cell_type": "code",
   "execution_count": 27,
   "metadata": {
    "hidden": true,
    "scrolled": true
   },
   "outputs": [
    {
     "name": "stdout",
     "output_type": "stream",
     "text": [
      "9 47\n",
      "4 29\n",
      "2 7\n",
      "0 24\n",
      "-1 43\n",
      "-2 27\n",
      "-2 48\n"
     ]
    }
   ],
   "source": [
    "pq = []\n",
    "heapq.heapify(pq)\n",
    "L = []\n",
    "\n",
    "for i in range(7): \n",
    "    priority = randrange(-2, 10)\n",
    "    element = randrange(50)\n",
    "    L.append((priority, element))\n",
    "    heapq.heappush(pq, (-priority, element))\n",
    "\n",
    "for i in range(len(pq)):\n",
    "    item = heapq.heappop(pq)\n",
    "    priority, element = -item[0],item[1]\n",
    "    print(priority, element)"
   ]
  },
  {
   "cell_type": "code",
   "execution_count": 28,
   "metadata": {
    "hidden": true
   },
   "outputs": [],
   "source": [
    "max_pq = [randint(-20,20) for _ in range(10)]\n",
    "heapq.heapify(max_pq)"
   ]
  },
  {
   "cell_type": "code",
   "execution_count": 29,
   "metadata": {
    "hidden": true
   },
   "outputs": [
    {
     "data": {
      "text/plain": [
       "('A', 5)"
      ]
     },
     "execution_count": 29,
     "metadata": {},
     "output_type": "execute_result"
    }
   ],
   "source": [
    "s = 'AAAAb'\n",
    "char_count = Counter(s)\n",
    "max_pq = [(-count, char) for char, count in char_count.items()]\n",
    "heapq.heappush(max_pq, (-5, 'A'))\n",
    "cur_item = heapq.heappop(max_pq)\n",
    "char, count = cur_item[1], -cur_item[0]\n",
    "char, count"
   ]
  },
  {
   "cell_type": "markdown",
   "metadata": {
    "jp-MarkdownHeadingCollapsed": true,
    "tags": []
   },
   "source": [
    "# Pythonic Concepts"
   ]
  },
  {
   "cell_type": "code",
   "execution_count": 93,
   "metadata": {},
   "outputs": [],
   "source": [
    "states = ['Alabama', 'Alaska', 'Arizona', 'Arkansas', 'California', 'Colorado',\n",
    "          'Connecticut', 'Delaware', 'Florida', 'Georgia', 'Hawaii', 'Idaho',\n",
    "          'Illinois', 'Indiana', 'Iowa', 'Kansas', 'Kentucky', 'Louisiana',\n",
    "          'Maine', 'Maryland', 'Massachusetts', 'Michigan', 'Minnesota',\n",
    "          'Mississippi', 'Missouri', 'Montana', 'Nebraska', 'Nevada',\n",
    "          'New Hampshire', 'New Jersey', 'New Mexico', 'New York',\n",
    "          'North Carolina', 'North Dakota', 'Ohio', 'Oklahoma', 'Oregon',\n",
    "          'Pennsylvania', 'Rhode Island', 'South Carolina', 'South Dakota',\n",
    "          'Tennessee', 'Texas', 'Utah', 'Vermont', 'Virginia', 'Washington',\n",
    "          'West Virginia', 'Wisconsin', 'Wyoming']\n",
    "\n",
    "vowels = list('aeiou')"
   ]
  },
  {
   "cell_type": "markdown",
   "metadata": {
    "heading_collapsed": true
   },
   "source": [
    "## Comprehension"
   ]
  },
  {
   "cell_type": "markdown",
   "metadata": {
    "hidden": true
   },
   "source": [
    "Python comprehensions, like decorators, are **syntactic sugar** constructs that help **build** **altered** and **filtered** lists, dictionaries, or sets from a given list, dictionary, or set. Using comprehensions saves a lot of time and code that might be considerably more verbose (containing more lines of code). Let's check out some examples, where comprehensions can be truly beneficial:"
   ]
  },
  {
   "cell_type": "markdown",
   "metadata": {
    "heading_collapsed": true,
    "hidden": true
   },
   "source": [
    "### List Comprehension"
   ]
  },
  {
   "cell_type": "code",
   "execution_count": null,
   "metadata": {
    "hidden": true
   },
   "outputs": [],
   "source": [
    "def simple_list_comp():\n",
    "    \n",
    "    comb1 = []\n",
    "    for x in [1, 2, 3]:\n",
    "        for y in [3,1,4]:\n",
    "            if x != y:\n",
    "                comb1.append((x, y))\n",
    "\n",
    "\n",
    "    comb2 = [(x, y) for x in [1,2,3] for y in [3,1,4] if x != y]\n",
    "    print(comb1 == comb2)\n",
    "\n",
    "    \n",
    "    comb3 = [1 if x == y else 0 for x in [1,2,3] for y in [3,1,4]]\n",
    "    print(comb3)\n",
    "    \n",
    "    # filter the list to exclude negative numbers\n",
    "    # v = [x for x in vec if x >= 0] # [0, 2, 4]\n",
    "\n",
    "    # apply a function to all the elements\n",
    "    # v = [abs(x) for x in vec] # [4, 2, 0, 2, 4]\n",
    "    \n",
    "    # call a method on each element\n",
    "    freshfruit = [' banana', ' loganberry ', 'passion fruit '] \n",
    "    l = [weapon.strip() for weapon in freshfruit]   # ['banana', 'loganberry', 'passion fruit']\n",
    "    \n",
    "    # create a list of 2-tuples like (number, square)\n",
    "    l = [(x, x**2) for x in range(6)]   # [(0, 0), (1, 1), (2, 4), (3, 9), (4, 16), (5, 25)]\n",
    "\n",
    "    # flatten a list using a listcomp with two 'for' \n",
    "    vec = [[1,2,3], [4,5,6], [7,8,9]]\n",
    "    l = [num for elem in vec for num in elem]   # [1, 2, 3, 4, 5, 6, 7, 8, 9]\n",
    "\n",
    "simple_list_comp()"
   ]
  },
  {
   "cell_type": "code",
   "execution_count": null,
   "metadata": {
    "code_folding": [
     1
    ],
    "hidden": true
   },
   "outputs": [],
   "source": [
    "\n",
    "def b_lc():\n",
    "\n",
    "    res1 = [y for x in range(3)for y in range(3)]\n",
    "    res2 = []\n",
    "\n",
    "    for x in range(3):\n",
    "        for y in range(3):\n",
    "                res2.append(y)\n",
    "\n",
    "    print(res1 == res2)\n",
    "\n",
    "    L1 = [x*y for x,y in zip([1,2],[1,2,3])]\n",
    "    L2 = [x+y for x,y in product('12345','ab')] # product() is a function in itertools.\n",
    "\n",
    "    L3 = [x for x in range(5) if x/2 == 0]\t\n",
    "    L4 = filter((lambda x: x%2 == 0), range(5))\n",
    "\n",
    "    squares1 = []\n",
    "    for x in range(10): # this creates a variable named x that still exists after the loop completes\n",
    "        squares1.append(x**2)\n",
    "\n",
    "    # We can calculate the list of squares without any side effects using:\n",
    "    squares2 = list(map(lambda x: x**2, range(10)))\n",
    "    squares3 = [x**2 for x in range(10)] # equivalent to squres2\n",
    "    print(squares1 == squares2)\n",
    "\n",
    "    Latitudes = [i for i in range(10, 21, 1)]\n",
    "    Longitudes = [i for i in range(10, 21, 1)]\n",
    "    \n",
    "    L1 = [(Lat, Long) for Lat,Long in [(x,y) for x in Latitudes for y in Longitudes]]\n",
    "    L2 = [(Lot, Long) for Lot, Long in zip(Latitudes, Longitudes)]\n",
    "\n",
    "    print(L1 == L2)\n",
    "\n",
    "    # print(L1, L2)\n",
    "    print(L1, L2, L3, L4)\n"
   ]
  },
  {
   "cell_type": "code",
   "execution_count": null,
   "metadata": {
    "code_folding": [
     0
    ],
    "hidden": true
   },
   "outputs": [],
   "source": [
    "def list_comp3():\n",
    "    L = [randrange(10, 50) for _ in range(10)]\n",
    "    L_even = [el if el%2 == 0 else 'Odd-Element' for el in L]\n",
    "    \n",
    "    print([v in 'auntie' for v in vowels])\n",
    "    print(all([v in 'auntie' for v in vowels]))\n",
    "    print(all([v in 'dialogue' for v in vowels]))\n",
    "    \n",
    "    print([x for x in states if all([v in x for v in vowels])])\n",
    "    print(sorted([(len(x), x) for x in states if ' ' not in x], reverse=True)[:5])\n",
    "\n",
    "    A = [(0, 5 - i) for i, val in enumerate(L)]\n",
    "    B = [abs(val - 3) not in (0, 5 - i) for i, val in enumerate(L)]\n",
    "    print(A)\n",
    "    print(L_even)\n",
    "\n",
    "list_comp3()"
   ]
  },
  {
   "cell_type": "markdown",
   "metadata": {
    "heading_collapsed": true,
    "hidden": true
   },
   "source": [
    "### Dict Comprehension"
   ]
  },
  {
   "cell_type": "code",
   "execution_count": 79,
   "metadata": {
    "hidden": true
   },
   "outputs": [],
   "source": [
    "D = {0: 'zero', 1: 'one', 2: 'two', 3: 'three'}\n",
    "D2 = {D[x]: x for x in D}                   # print(D2) --> {'zero': 0, 'one': 1, 'two': 2, 'three': 3}\n",
    "D3 = {x: D2[x] for x in D2 if D2[x] > 1}    # print(D2) --> {'two': 2, 'three': 3}\n",
    "L1 = [(1, 10), (2, 20), (3, 30), (4, 40)]\n",
    "D4 = dict(L1)                               # print(D4) --> {1: 10, 2: 20, 3: 30, 4: 40}\n",
    "\n",
    "L2 = [(4, 180, 21), (5, 90, 10), (3, 270, 8), (4, 0, 7)]\n",
    "D4 = dict([(key, {k, w}) for key, k, w in L2])\n",
    "# print(D4) -> {4: {0, 7}, 5: {90, 10}, 3: {8, 270}} !!!!\n",
    "# Note: first item has been replaced by last item because of having same key\n",
    "\n",
    "\n",
    "# D_error1 = {key: value for (key, value) in D}\n",
    "D_not_error1 = {key: value for (key, value) in D.items()}\n",
    "# print(D_not_error1) -> {0: 'zero', 1: 'one', 2: 'two', 3: 'three'}\n",
    "# D_error2 = {key: value for key, value in D}"
   ]
  },
  {
   "cell_type": "code",
   "execution_count": 83,
   "metadata": {
    "hidden": true
   },
   "outputs": [
    {
     "name": "stdout",
     "output_type": "stream",
     "text": [
      "0\n",
      "1\n",
      "2\n",
      "3\n"
     ]
    }
   ],
   "source": []
  },
  {
   "cell_type": "markdown",
   "metadata": {
    "heading_collapsed": true,
    "hidden": true
   },
   "source": [
    "### Set Comprehension"
   ]
  },
  {
   "cell_type": "code",
   "execution_count": null,
   "metadata": {
    "hidden": true
   },
   "outputs": [],
   "source": []
  },
  {
   "cell_type": "code",
   "execution_count": null,
   "metadata": {
    "hidden": true
   },
   "outputs": [],
   "source": []
  },
  {
   "cell_type": "markdown",
   "metadata": {
    "heading_collapsed": true,
    "hidden": true
   },
   "source": [
    "### Python List Comprehension Lambda Closure:\n"
   ]
  },
  {
   "cell_type": "code",
   "execution_count": 1,
   "metadata": {
    "hidden": true
   },
   "outputs": [
    {
     "name": "stdout",
     "output_type": "stream",
     "text": [
      "[1, 2, 3, 4]\n",
      "[<function <listcomp>.<lambda> at 0x1054c8940>, <function <listcomp>.<lambda> at 0x1054c89d0>, <function <listcomp>.<lambda> at 0x1054c8a60>, <function <listcomp>.<lambda> at 0x1054c8af0>]\n",
      "[4, 4, 4, 4]\n"
     ]
    }
   ],
   "source": [
    "a = [1, 2, 3 , 4]\n",
    "b = [lambda: _ for _ in a]\n",
    "c = [_() for _ in b]\n",
    "print(a)\n",
    "print(b)\n",
    "print(c)"
   ]
  },
  {
   "cell_type": "code",
   "execution_count": null,
   "metadata": {
    "hidden": true
   },
   "outputs": [],
   "source": []
  },
  {
   "cell_type": "markdown",
   "metadata": {
    "heading_collapsed": true
   },
   "source": [
    "## Arguments <b style=\"color:red\"> * args </b> and <b style=\"color:red\"> ** kwargs </b>"
   ]
  },
  {
   "cell_type": "markdown",
   "metadata": {
    "hidden": true
   },
   "source": [
    "What does `*args` and `**kwargs` mean?\n",
    "\n",
    "`*args`: \n",
    "- `*args` is a special syntax used in the function definition to pass variable-length arguments.\n",
    "- `*` means variable length and `args` is the name used by convention. You can use any other.\n",
    "\n",
    "`**kwargs`:\n",
    "- `**kwargs` is a special syntax used in the function definition to pass variable-length keyworded arguments.\n",
    "- Here, also, `kwargs` is used just by convention. You can use any other name.\n",
    "- Keyworded argument means a variable that has a name when passed to a function.\n",
    "- It is actually a dictionary of the variable names and its value."
   ]
  },
  {
   "cell_type": "code",
   "execution_count": null,
   "metadata": {
    "hidden": true
   },
   "outputs": [],
   "source": [
    "tpl = tuple([5]*3)\n",
    "# help(dict)\n",
    "# collections??"
   ]
  },
  {
   "cell_type": "code",
   "execution_count": 9,
   "metadata": {
    "hidden": true,
    "scrolled": true
   },
   "outputs": [
    {
     "name": "stdout",
     "output_type": "stream",
     "text": [
      "50\n",
      "test_arg1\n",
      "('first_arg', [2, 2, 2], 'test_arg2', 50)\n",
      "{'_int': 40, '_str': 'kwarg#2'}\n"
     ]
    }
   ],
   "source": [
    "def test_args(first_arg, *args, **kwargs):\n",
    "    kwargs = {\"_int\": 100, **kwargs}\n",
    "    args = (*args,50)\n",
    "    print(args[-1])\n",
    "    \n",
    "    if kwargs.get('_int'): kwargs['_int'] = kwargs['_int'] + 10\n",
    "    if kwargs.get('my_int2'): kwargs['my_int'] = kwargs['my_int'] + 20\n",
    "    \n",
    "    print(first_arg, args, kwargs, sep='\\n')\n",
    "\n",
    "\n",
    "test_args('test_arg1', 'first_arg', [2]*3, 'test_arg2', _str=\"kwarg#2\", _int=30)"
   ]
  },
  {
   "cell_type": "code",
   "execution_count": 12,
   "metadata": {
    "hidden": true
   },
   "outputs": [
    {
     "name": "stdout",
     "output_type": "stream",
     "text": [
      "{'first': 'Aminul', 'last': 'Momin', 'nick': 'Shah'}\n",
      "{'last': 'Momin', 'first': 'Aminul', 'nick': 'Shah'}\n",
      "{'first': 'Aminul', 'last': 'Islam', 'nick': 'Shah'}\n"
     ]
    }
   ],
   "source": [
    "D = {'first': \"Aminul\", 'last': \"Momin\", 'nick': \"Shah\"}\n",
    "D2 = {'last': \"Islam\", **D}\n",
    "D3 = {**D, 'last': \"Islam\"}\n",
    "print(D,D2,D3,sep='\\n')"
   ]
  },
  {
   "cell_type": "markdown",
   "metadata": {
    "heading_collapsed": true
   },
   "source": [
    "## [Parameters](https://docs.python.org/3/glossary.html#term-parameter):\n",
    "\n",
    "- [Positional-only](https://realpython.com/lessons/positional-only-arguments/)\n",
    "- [Positional-only](https://www.educative.io/answers/what-are-positional-only-arguments-in-python)\n",
    "- [PEP 3102 – Keyword-Only Arguments](https://peps.python.org/pep-3102/)"
   ]
  },
  {
   "cell_type": "markdown",
   "metadata": {
    "hidden": true
   },
   "source": [
    "There are five kinds of parameter:"
   ]
  },
  {
   "cell_type": "markdown",
   "metadata": {
    "hidden": true
   },
   "source": [
    "- `positional-or-keyword parameter`: specifies an argument that can be passed either positionally or as a keyword argument. This is the default kind of parameter"
   ]
  },
  {
   "cell_type": "code",
   "execution_count": 59,
   "metadata": {
    "hidden": true
   },
   "outputs": [
    {
     "name": "stdout",
     "output_type": "stream",
     "text": [
      "() {}\n",
      "(1, 2) {'p1': 3, 'p2': 2, 'p3': 3}\n"
     ]
    }
   ],
   "source": [
    "def func1(*args, **kargs): print(args, kargs)\n",
    "func1()\n",
    "func1(1, 2, p1=3, p2=2, p3=3)"
   ]
  },
  {
   "cell_type": "code",
   "execution_count": 60,
   "metadata": {
    "hidden": true
   },
   "outputs": [
    {
     "name": "stdout",
     "output_type": "stream",
     "text": [
      "(2, 3) {'p1': 3, 'p2': 2, 'p3': 3}\n"
     ]
    }
   ],
   "source": [
    "def func1a(arg1, *args, **kargs): print(args, kargs)\n",
    "# func1a() # Errors: func1a() missing 1 required positional argument: 'arg1'\n",
    "func1a(1, 2, 3, p1=3, p2=2, p3=3)"
   ]
  },
  {
   "cell_type": "markdown",
   "metadata": {
    "hidden": true
   },
   "source": [
    "- `variable-positional parameter`: specifies that an arbitrary sequence of positional arguments can be provided (in addition to any positional arguments already accepted by other parameters)."
   ]
  },
  {
   "cell_type": "code",
   "execution_count": 61,
   "metadata": {
    "hidden": true
   },
   "outputs": [
    {
     "name": "stdout",
     "output_type": "stream",
     "text": [
      "1 ()\n",
      "1 (2,)\n"
     ]
    }
   ],
   "source": [
    "def func2(arg1, *args): print(arg1, args)\n",
    "func2(1)\n",
    "func2(1, 2)\n",
    "# func2()         # Errors: func2() missing 1 required positional argument: 'arg1'\n",
    "# func2(1, p=2)   # Errors: func2() got an unexpected keyword argument 'p'"
   ]
  },
  {
   "cell_type": "markdown",
   "metadata": {
    "hidden": true
   },
   "source": [
    "- `variable-keyword parameter`: specifies that arbitrarily many keyword arguments can be provided (in addition to any keyword arguments already accepted by other parameters). Such a parameter can be defined by prepending the parameter name with `**`."
   ]
  },
  {
   "cell_type": "code",
   "execution_count": 62,
   "metadata": {
    "hidden": true
   },
   "outputs": [
    {
     "name": "stdout",
     "output_type": "stream",
     "text": [
      "1 {}\n",
      "1 {'p1': 2, 'p2': 2}\n"
     ]
    }
   ],
   "source": [
    "def func3(arg1, **kwargs): print(arg1, kwargs)\n",
    "func3(1)\n",
    "func3(1, p1=2, p2=2)\n",
    "# func3()         # Errors: func2() missing 1 required positional argument: 'arg1'\n",
    "# func3(1, p=2)   # Errors: func2() got an unexpected keyword argument 'p'"
   ]
  },
  {
   "cell_type": "markdown",
   "metadata": {
    "hidden": true
   },
   "source": [
    "- `positional-only parameter`: specifies an argument that can be supplied only by position. Positional-only parameters can be defined by including a `/` character in the parameter list of the function definition after them, for example posonly1 and posonly2 in the following:\n",
    "\n",
    "    - `def func(posonly1, posonly2, /, positional_or_keyword): ...`\n",
    "    "
   ]
  },
  {
   "cell_type": "code",
   "execution_count": 63,
   "metadata": {
    "hidden": true
   },
   "outputs": [
    {
     "name": "stdout",
     "output_type": "stream",
     "text": [
      "1 Hello\n",
      "1 2\n",
      "1 2\n"
     ]
    }
   ],
   "source": [
    "def func4(arg, /, kw1=\"Hello\"): print(arg, kw1)\n",
    "func4(1)\n",
    "func4(1,2)\n",
    "func4(1, kw1=2)\n",
    "# func4(arg=1)            # Error: func4() got some positional-only arguments passed as keyword arguments: 'arg'\n",
    "# func4(arg=1, kw1=2)   # Error: func4() got some positional-only arguments passed as keyword arguments: 'arg'\n",
    "# func4(1,2,3)       # Error: func4() takes from 1 to 2 positional arguments but 3 were given\n",
    "# func4(1,2,kw1=3)   # Error: func4() got multiple values for argument 'kw1'"
   ]
  },
  {
   "cell_type": "markdown",
   "metadata": {
    "hidden": true
   },
   "source": [
    "- `keyword-only parameter`: specifies an argument that can be supplied only by keyword. Keyword-only parameters can be defined by including a single var-positional parameter or bare * in the parameter list of the function definition before them, for example kw_only1 and kw_only2 in the following:\n",
    "\n",
    "    - `def func(arg, *, kw_only1, kw_only2): ...`"
   ]
  },
  {
   "cell_type": "code",
   "execution_count": 64,
   "metadata": {
    "hidden": true
   },
   "outputs": [
    {
     "name": "stdout",
     "output_type": "stream",
     "text": [
      "10 Hello\n",
      "10 2\n"
     ]
    }
   ],
   "source": [
    "def func5(arg, *, kw1=\"Hello\"): print(arg, kw1)\n",
    "func5(10)\n",
    "func5(10, kw1=2)\n",
    "# func5(10,2)               # Error: func5() takes 1 positional argument but 2 were given\n",
    "# func5(10, kw1=1, kw2=2)   # Error: func5() got an unexpected keyword argument 'kw2'"
   ]
  },
  {
   "cell_type": "markdown",
   "metadata": {
    "heading_collapsed": true
   },
   "source": [
    "## Context Manager:"
   ]
  },
  {
   "cell_type": "markdown",
   "metadata": {
    "hidden": true
   },
   "source": [
    "- [3 Ways to create Context Managers in Python](https://medium.com/swlh/3-ways-to-create-context-managers-in-python-a88e3ba536f3)\n",
    "- [Corey: Context Managers - Efficiently Managing Resources](https://www.youtube.com/watch?v=-aKFBoZpiqA&list=RDCMUCCezIgC97PvUuR4_gbFUs5g&index=16)"
   ]
  },
  {
   "cell_type": "markdown",
   "metadata": {
    "hidden": true
   },
   "source": [
    "Context managers allow us to properly manage resources so that we can specify exactly what we want to set up and tear down when working with certain objects. There are two ways that we could work with files using context manager. We no longer have to remember to close down the file after we're done working with it. And not only that, but this is also recommended because if we throw an error when working with this file, then it's still going to get closed properly. And that is why contact managers are so useful. It handles the tear down of the resources for us so that we don't have to remember to do it. And the more that is handled for us automatically, the better. So this is great for files, but it's useful for so many different resources. So for example we could use this to connect to and close databases automatically. We could acquire and release locks."
   ]
  },
  {
   "cell_type": "code",
   "execution_count": 79,
   "metadata": {
    "hidden": true
   },
   "outputs": [],
   "source": [
    "import os\n"
   ]
  },
  {
   "cell_type": "markdown",
   "metadata": {
    "heading_collapsed": true,
    "hidden": true
   },
   "source": [
    "#### [Context Manager In Details](https://www.youtube.com/watch?v=14z_Tf3p2Mw)"
   ]
  },
  {
   "cell_type": "markdown",
   "metadata": {
    "hidden": true
   },
   "source": [
    "- `Connect database without Context Manager`"
   ]
  },
  {
   "cell_type": "code",
   "execution_count": null,
   "metadata": {
    "hidden": true
   },
   "outputs": [],
   "source": [
    "import sqlite3"
   ]
  },
  {
   "cell_type": "code",
   "execution_count": 74,
   "metadata": {
    "hidden": true
   },
   "outputs": [],
   "source": [
    "path = '/Users/a.momin/gd/Software_Development/Machine_Learning/notes_hub/data/'\n",
    "\n",
    "con = sqlite3.connect(path + 'application.db')\n",
    "cur = con.cursor()\n",
    "\n",
    "# Create table\n",
    "# cur.execute('''CREATE TABLE blogs (id text not null primary key, date text, title text, content text, public integer)''')\n",
    "\n",
    "# Insert a few rows of data\n",
    "# cur.execute(\"INSERT INTO blogs VALUES ('first-blog', '2021-03-07', 'My first blog' ,'Some content', 1)\")\n",
    "# cur.execute(\"INSERT INTO blogs VALUES ('private-blog', '2021-03-07', 'Secret blog' ,'This is a secret', 0)\")\n",
    "\n",
    "# Save (commit) the changes\n",
    "con.commit()\n",
    "\n",
    "# We can also close the connection if we are done with it.\n",
    "# Just be sure any changes have been committed or they will be lost.\n",
    "con.close()"
   ]
  },
  {
   "cell_type": "markdown",
   "metadata": {
    "hidden": true
   },
   "source": [
    "- `Alternative way to connect database without Context Manager`"
   ]
  },
  {
   "cell_type": "code",
   "execution_count": 76,
   "metadata": {
    "hidden": true
   },
   "outputs": [
    {
     "name": "stderr",
     "output_type": "stream",
     "text": [
      "INFO:root:[('first-blog', '2021-03-07', 'My first blog', 'Some content', 1), ('private-blog', '2021-03-07', 'Secret blog', 'This is a secret', 0)]\n"
     ]
    }
   ],
   "source": [
    "def main():\n",
    "    logging.basicConfig(level=logging.INFO)\n",
    "    \n",
    "    connection = sqlite3.connect(path + \"application.db\")\n",
    "    try:\n",
    "        cursor = connection.cursor()\n",
    "        cursor.execute(\"SELECT * FROM blogs\")\n",
    "        logging.info(cursor.fetchall())\n",
    "    finally:\n",
    "        connection.close()\n",
    "# ===============================\n",
    "main()"
   ]
  },
  {
   "cell_type": "markdown",
   "metadata": {
    "hidden": true
   },
   "source": [
    "- `Class Version of a Context Manager to handle the resource management above`:"
   ]
  },
  {
   "cell_type": "code",
   "execution_count": null,
   "metadata": {
    "hidden": true
   },
   "outputs": [],
   "source": [
    "import logging\n",
    "import sqlite3"
   ]
  },
  {
   "cell_type": "code",
   "execution_count": 77,
   "metadata": {
    "hidden": true
   },
   "outputs": [
    {
     "name": "stderr",
     "output_type": "stream",
     "text": [
      "INFO:root:Calling __enter__\n",
      "INFO:root:[('first-blog', '2021-03-07', 'My first blog', 'Some content', 1), ('private-blog', '2021-03-07', 'Secret blog', 'This is a secret', 0)]\n",
      "INFO:root:Calling __exit__\n"
     ]
    }
   ],
   "source": [
    "class SQLite:\n",
    "    def __init__(self, file_name: str):\n",
    "        self.file_name = file_name\n",
    "        self.connection = sqlite3.connect(self.file_name)\n",
    "\n",
    "    def __enter__(self):\n",
    "        logging.info(\"Calling __enter__\")\n",
    "        return self.connection.cursor()\n",
    "\n",
    "    def __exit__(self, error: Exception, value: object, traceback: object):\n",
    "        logging.info(\"Calling __exit__\")\n",
    "        self.connection.commit()\n",
    "        self.connection.close()\n",
    "\n",
    "# ======================================================\n",
    "def main_class_version():\n",
    "    logging.basicConfig(level=logging.INFO)\n",
    "    with SQLite(file_name=path + \"application.db\") as cursor:\n",
    "        cursor.execute(\"SELECT * FROM blogs\")\n",
    "        logging.info(cursor.fetchall())\n",
    "# ======================================================\n",
    "main_class_version()"
   ]
  },
  {
   "cell_type": "markdown",
   "metadata": {
    "hidden": true
   },
   "source": [
    "- `Decorator Version of a the Context Manager`:"
   ]
  },
  {
   "cell_type": "code",
   "execution_count": 80,
   "metadata": {
    "hidden": true
   },
   "outputs": [
    {
     "name": "stderr",
     "output_type": "stream",
     "text": [
      "INFO:root:Creating connection\n",
      "INFO:root:[('first-blog', '2021-03-07', 'My first blog', 'Some content', 1), ('private-blog', '2021-03-07', 'Secret blog', 'This is a secret', 0)]\n",
      "INFO:root:Closing connection\n"
     ]
    }
   ],
   "source": [
    "from contextlib import contextmanager\n",
    "@contextmanager\n",
    "def open_db(file_name: str):\n",
    "    conn = sqlite3.connect(file_name)\n",
    "    try:\n",
    "        logging.info(\"Creating connection\")\n",
    "        yield conn.cursor()\n",
    "    finally:\n",
    "        logging.info(\"Closing connection\")\n",
    "        conn.commit()\n",
    "        conn.close()\n",
    "\n",
    "# ====================================================\n",
    "def main_decorator_version():\n",
    "    logging.basicConfig(level=logging.INFO)\n",
    "    with open_db(file_name=path+\"application.db\") as cursor:\n",
    "        cursor.execute(\"SELECT * FROM blogs\")\n",
    "        logging.info(cursor.fetchall())\n",
    "# =====================================================\n",
    "main_decorator_version()"
   ]
  },
  {
   "cell_type": "markdown",
   "metadata": {
    "hidden": true
   },
   "source": [
    "- `Async Version of the Context Manager`:"
   ]
  },
  {
   "cell_type": "code",
   "execution_count": null,
   "metadata": {
    "hidden": true
   },
   "outputs": [],
   "source": []
  },
  {
   "cell_type": "code",
   "execution_count": 83,
   "metadata": {
    "collapsed": true,
    "hidden": true,
    "jupyter": {
     "outputs_hidden": true
    }
   },
   "outputs": [
    {
     "ename": "ModuleNotFoundError",
     "evalue": "No module named 'aiosqlite'",
     "output_type": "error",
     "traceback": [
      "\u001b[0;31m---------------------------------------------------------------------------\u001b[0m",
      "\u001b[0;31mModuleNotFoundError\u001b[0m                       Traceback (most recent call last)",
      "Input \u001b[0;32mIn [83]\u001b[0m, in \u001b[0;36m<cell line: 3>\u001b[0;34m()\u001b[0m\n\u001b[1;32m      1\u001b[0m \u001b[38;5;28;01mimport\u001b[39;00m \u001b[38;5;21;01masyncio\u001b[39;00m\n\u001b[1;32m      2\u001b[0m \u001b[38;5;28;01mimport\u001b[39;00m \u001b[38;5;21;01mlogging\u001b[39;00m\n\u001b[0;32m----> 3\u001b[0m \u001b[38;5;28;01mimport\u001b[39;00m \u001b[38;5;21;01maiosqlite\u001b[39;00m\n\u001b[1;32m      5\u001b[0m \u001b[38;5;28;01masync\u001b[39;00m \u001b[38;5;28;01mdef\u001b[39;00m \u001b[38;5;21mmain\u001b[39m():\n\u001b[1;32m      6\u001b[0m     logging\u001b[38;5;241m.\u001b[39mbasicConfig(level\u001b[38;5;241m=\u001b[39mlogging\u001b[38;5;241m.\u001b[39mINFO)\n",
      "\u001b[0;31mModuleNotFoundError\u001b[0m: No module named 'aiosqlite'"
     ]
    }
   ],
   "source": [
    "import asyncio\n",
    "import logging\n",
    "import aiosqlite\n",
    "\n",
    "async def main():\n",
    "    logging.basicConfig(level=logging.INFO)\n",
    "    # async with aiosqlite.connect(\"application.db\") as db:\n",
    "    #     async with db.execute(\"SELECT * FROM blogs\") as cursor:\n",
    "    #         logging.info(await cursor.fetchall())\n",
    "    db = await aiosqlite.connect(path+\"application.db\")\n",
    "    cursor = await db.execute(\"SELECT * FROM blogs\")\n",
    "    logging.info(await cursor.fetchall())\n",
    "\n",
    "# =========================================================\n",
    "asyncio.run(main())"
   ]
  },
  {
   "cell_type": "code",
   "execution_count": null,
   "metadata": {
    "hidden": true
   },
   "outputs": [],
   "source": []
  },
  {
   "cell_type": "markdown",
   "metadata": {
    "heading_collapsed": true
   },
   "source": [
    "## Decorator"
   ]
  },
  {
   "cell_type": "code",
   "execution_count": 22,
   "metadata": {
    "hidden": true
   },
   "outputs": [],
   "source": [
    "from functools import wraps"
   ]
  },
  {
   "cell_type": "markdown",
   "metadata": {
    "hidden": true
   },
   "source": [
    "a decorator is a function that takes another function and extends the behavior of the latter function without explicitly modifying it."
   ]
  },
  {
   "cell_type": "markdown",
   "metadata": {
    "hidden": true
   },
   "source": [
    "- [Primer on Python Decorators\n",
    "](https://realpython.com/primer-on-python-decorators/#functions)\n"
   ]
  },
  {
   "cell_type": "code",
   "execution_count": null,
   "metadata": {
    "hidden": true
   },
   "outputs": [],
   "source": [
    "def my_decorator(func):\n",
    "    def wrapper():\n",
    "        print(\"Something is happening before the function is called.\")\n",
    "        func()\n",
    "        print(\"Something is happening after the function is called.\")\n",
    "    return wrapper\n",
    "\n",
    "def say_whee():\n",
    "    print(\"Whee!\")"
   ]
  },
  {
   "cell_type": "code",
   "execution_count": 4,
   "metadata": {
    "hidden": true
   },
   "outputs": [
    {
     "name": "stdout",
     "output_type": "stream",
     "text": [
      "Something is happening before the function is called.\n",
      "Whee!\n",
      "Something is happening after the function is called.\n"
     ]
    }
   ],
   "source": [
    "say_whee = my_decorator(say_whee)\n",
    "say_whee()"
   ]
  },
  {
   "cell_type": "markdown",
   "metadata": {
    "hidden": true
   },
   "source": [
    "- The way you decorated say_whee() above is a little clunky. First of all, you end up typing the name say_whee three times. In addition, the decoration gets a bit hidden away below the definition of the function.\n",
    "\n",
    "- Python allows you to use decorators in a simpler way with the @ symbol, sometimes called the “pie” syntax. The following example does the exact same thing as the first decorator example:"
   ]
  },
  {
   "cell_type": "code",
   "execution_count": 36,
   "metadata": {
    "hidden": true
   },
   "outputs": [
    {
     "name": "stdout",
     "output_type": "stream",
     "text": [
      "This is from outside of wraper but inside the my_decorator\n",
      "We usually don't do anything in this scope\n"
     ]
    }
   ],
   "source": [
    "def my_decorator(func):\n",
    "    print('This is from outside of wraper but inside the my_decorator')\n",
    "    print(\"We usually don't do anything in this scope\")\n",
    "    def wrapper():\n",
    "        print(\"Something is happening before the function is called.\")\n",
    "        func()\n",
    "        print(\"Something is happening after the function is called.\")\n",
    "    return wrapper\n",
    "\n",
    "@my_decorator\n",
    "def say_whee():\n",
    "    print(\"Whee!\")"
   ]
  },
  {
   "cell_type": "code",
   "execution_count": 37,
   "metadata": {
    "hidden": true
   },
   "outputs": [
    {
     "name": "stdout",
     "output_type": "stream",
     "text": [
      "Something is happening before the function is called.\n",
      "Whee!\n",
      "Something is happening after the function is called.\n"
     ]
    }
   ],
   "source": [
    "say_whee()"
   ]
  },
  {
   "cell_type": "code",
   "execution_count": 1,
   "metadata": {
    "hidden": true
   },
   "outputs": [],
   "source": [
    "# decorator function to convert to lowercase\n",
    "def lowercase_decorator(function):\n",
    "   def wrapper():\n",
    "       func = function()\n",
    "       return func.lower()\n",
    "   return wrapper\n",
    "\n",
    "# decorator function to split words\n",
    "def splitter_decorator(function):\n",
    "   def wrapper():\n",
    "       func = function()\n",
    "       return func.split()\n",
    "   return wrapper"
   ]
  },
  {
   "cell_type": "code",
   "execution_count": 2,
   "metadata": {
    "hidden": true
   },
   "outputs": [],
   "source": [
    "@splitter_decorator # this is executed next\n",
    "@lowercase_decorator # this is executed first\n",
    "def hello():\n",
    "   return 'Hello World'"
   ]
  },
  {
   "cell_type": "code",
   "execution_count": 3,
   "metadata": {
    "hidden": true
   },
   "outputs": [
    {
     "data": {
      "text/plain": [
       "['hello', 'world']"
      ]
     },
     "execution_count": 3,
     "metadata": {},
     "output_type": "execute_result"
    }
   ],
   "source": [
    "hello()   # output => [ 'hello' , 'world' ]"
   ]
  },
  {
   "cell_type": "markdown",
   "metadata": {
    "hidden": true
   },
   "source": [
    "The beauty of the decorators lies in the fact that besides adding functionality to the output of the method, they can even accept arguments for functions and can further modify those arguments before passing it to the function itself. The inner nested function, i.e. 'wrapper' function, plays a significant role here. It is implemented to enforce encapsulation and thus, keep itself hidden from the global scope."
   ]
  },
  {
   "cell_type": "code",
   "execution_count": 75,
   "metadata": {
    "hidden": true
   },
   "outputs": [],
   "source": [
    "# decorator function to capitalize names\n",
    "def names_decorator(function):\n",
    "   def wrapper(arg1, arg2):\n",
    "       arg1 = arg1.capitalize()\n",
    "       arg2 = arg2.capitalize()\n",
    "       return function(arg1, arg2)\n",
    "   return wrapper"
   ]
  },
  {
   "cell_type": "code",
   "execution_count": 68,
   "metadata": {
    "hidden": true
   },
   "outputs": [],
   "source": [
    "def capitalize_input(func):\n",
    "    @wraps(func)\n",
    "    def wraper(*args, **kwargs):\n",
    "        inputs = [val.capitalize() for val in args]\n",
    "        kwargs = {key: val.capitalize() for key,val in kwargs.items()}\n",
    "        return func(*inputs, **kwargs)\n",
    "    return wraper"
   ]
  },
  {
   "cell_type": "code",
   "execution_count": 76,
   "metadata": {
    "hidden": true
   },
   "outputs": [
    {
     "data": {
      "text/plain": [
       "'Hello Sara! Hello Ansh!'"
      ]
     },
     "execution_count": 76,
     "metadata": {},
     "output_type": "execute_result"
    }
   ],
   "source": [
    "@names_decorator\n",
    "def say_hello(name1, name2):\n",
    "   return 'Hello ' + name1 + '! Hello ' + name2 + '!'\n",
    "\n",
    "say_hello('sara', 'ansh')   # output => 'Hello Sara! Hello Ansh!'"
   ]
  },
  {
   "cell_type": "code",
   "execution_count": 64,
   "metadata": {
    "hidden": true
   },
   "outputs": [
    {
     "data": {
      "text/plain": [
       "'Hello Shah! Hello Sara! Hello Ansh'"
      ]
     },
     "execution_count": 64,
     "metadata": {},
     "output_type": "execute_result"
    }
   ],
   "source": [
    "@capitalize_input\n",
    "def say_hello(name1, name2, name3):\n",
    "   return f\"\"\"Hello {name1}! Hello {name2}! Hello {name3}\"\"\"\n",
    "\n",
    "say_hello('shah', 'sara', 'ansh')   # output => 'Hello Sara! Hello Ansh!'"
   ]
  },
  {
   "cell_type": "code",
   "execution_count": null,
   "metadata": {
    "hidden": true
   },
   "outputs": [],
   "source": []
  },
  {
   "cell_type": "code",
   "execution_count": 17,
   "metadata": {
    "hidden": true
   },
   "outputs": [],
   "source": [
    "# dir(register)"
   ]
  },
  {
   "cell_type": "markdown",
   "metadata": {
    "hidden": true
   },
   "source": [
    "- [Corey Scheifer: Decorators - Dynamically Alter The Functionality Of Your Functions](https://www.youtube.com/watch?v=FsAPt_9Bf3U&t=1489s)\n",
    "- [Decorators With Arguments](https://www.youtube.com/watch?v=KlBPCzcQNU8)"
   ]
  },
  {
   "cell_type": "markdown",
   "metadata": {
    "hidden": true
   },
   "source": [
    "- [Property Decorators - Getters, Setters, and Deleters](https://www.youtube.com/watch?v=jCzT9XFZ5bw)"
   ]
  },
  {
   "cell_type": "code",
   "execution_count": null,
   "metadata": {
    "hidden": true
   },
   "outputs": [],
   "source": []
  },
  {
   "cell_type": "markdown",
   "metadata": {
    "hidden": true
   },
   "source": [
    "#### [Decorator: Corey Scheifer](https://www.youtube.com/watch?v=FsAPt_9Bf3U)"
   ]
  },
  {
   "cell_type": "code",
   "execution_count": null,
   "metadata": {
    "hidden": true
   },
   "outputs": [],
   "source": [
    "from functools import wraps"
   ]
  },
  {
   "cell_type": "code",
   "execution_count": null,
   "metadata": {
    "hidden": true
   },
   "outputs": [],
   "source": [
    "def my_logger(orig_func):\n",
    "    import logging\n",
    "    logging.basicConfig(filename='{}.log'.format(orig_func.__name__), level=logging.INFO)\n",
    "\n",
    "    @wraps(orig_func)\n",
    "    def wrapper(*args, **kwargs):\n",
    "        logging.info('Ran with args: {}, and kwargs: {}'.format(args, kwargs))\n",
    "        return orig_func(*args, **kwargs)\n",
    "\n",
    "    return wrapper"
   ]
  },
  {
   "cell_type": "code",
   "execution_count": null,
   "metadata": {
    "hidden": true
   },
   "outputs": [],
   "source": [
    "def my_timer(orig_func):\n",
    "    import time\n",
    "\n",
    "    @wraps(orig_func)\n",
    "    def wrapper(*args, **kwargs):\n",
    "        t1 = time.time()\n",
    "        result = orig_func(*args, **kwargs)\n",
    "        t2 = time.time() - t1\n",
    "        print('{} ran in: {} sec'.format(orig_func.__name__, t2))\n",
    "        return result\n",
    "\n",
    "    return wrapper"
   ]
  },
  {
   "cell_type": "code",
   "execution_count": null,
   "metadata": {
    "hidden": true
   },
   "outputs": [],
   "source": [
    "import time"
   ]
  },
  {
   "cell_type": "code",
   "execution_count": null,
   "metadata": {
    "hidden": true
   },
   "outputs": [],
   "source": [
    "@my_logger\n",
    "@my_timer\n",
    "def display_info(name, age):\n",
    "    time.sleep(1)\n",
    "    print('display_info ran with arguments ({}, {})'.format(name, age))"
   ]
  },
  {
   "cell_type": "code",
   "execution_count": null,
   "metadata": {
    "hidden": true
   },
   "outputs": [],
   "source": [
    "display_info('Tom', 22)"
   ]
  },
  {
   "cell_type": "code",
   "execution_count": null,
   "metadata": {
    "hidden": true
   },
   "outputs": [],
   "source": []
  },
  {
   "cell_type": "code",
   "execution_count": 31,
   "metadata": {
    "hidden": true
   },
   "outputs": [
    {
     "name": "stdout",
     "output_type": "stream",
     "text": [
      "Corey\n",
      "Corey.Schafer@email.com\n",
      "Corey Schafer\n",
      "Delete Name!\n"
     ]
    }
   ],
   "source": [
    "emp_1 = Employee('John', 'Smith')\n",
    "emp_1.fullname = \"Corey Schafer\"\n",
    "print(emp_1.first)\n",
    "print(emp_1.email)\n",
    "print(emp_1.fullname)\n",
    "\n",
    "del emp_1.fullname"
   ]
  },
  {
   "cell_type": "code",
   "execution_count": 23,
   "metadata": {
    "hidden": true
   },
   "outputs": [
    {
     "data": {
      "text/plain": [
       "['email', 'fullname']"
      ]
     },
     "execution_count": 23,
     "metadata": {},
     "output_type": "execute_result"
    }
   ],
   "source": [
    "dir(Employee)[-2:]"
   ]
  },
  {
   "cell_type": "code",
   "execution_count": 13,
   "metadata": {
    "hidden": true
   },
   "outputs": [],
   "source": [
    "import random\n",
    "PLUGINS = dict()\n",
    "\n",
    "def register(func):\n",
    "    \"\"\"Register a function as a plug-in\"\"\"\n",
    "    PLUGINS[func.__name__] = func\n",
    "    return func\n",
    "\n",
    "@register\n",
    "def say_hello(name):\n",
    "    return f\"Hello {name}\"\n",
    "\n",
    "@register\n",
    "def be_awesome(name):\n",
    "    return f\"Yo {name}, together we are the awesomest!\"\n",
    "\n",
    "def randomly_greet(name):\n",
    "    greeter, greeter_func = random.choice(list(PLUGINS.items()))\n",
    "    print(f\"Using {greeter!r}\")\n",
    "    return greeter_func(name)"
   ]
  },
  {
   "cell_type": "code",
   "execution_count": 14,
   "metadata": {
    "hidden": true
   },
   "outputs": [
    {
     "data": {
      "text/plain": [
       "{'say_hello': <function __main__.say_hello(name)>,\n",
       " 'be_awesome': <function __main__.be_awesome(name)>}"
      ]
     },
     "execution_count": 14,
     "metadata": {},
     "output_type": "execute_result"
    }
   ],
   "source": [
    "PLUGINS"
   ]
  },
  {
   "cell_type": "code",
   "execution_count": 15,
   "metadata": {
    "hidden": true
   },
   "outputs": [
    {
     "data": {
      "text/plain": [
       "'Hello Biden'"
      ]
     },
     "execution_count": 15,
     "metadata": {},
     "output_type": "execute_result"
    }
   ],
   "source": [
    "say_hello('Biden')"
   ]
  },
  {
   "cell_type": "markdown",
   "metadata": {
    "hidden": true
   },
   "source": [
    "## How to Use Ellipsis"
   ]
  },
  {
   "cell_type": "markdown",
   "metadata": {},
   "source": [
    "- [Real Python: When Do You Use an Ellipsis in Python?](https://realpython.com/python-ellipsis/#what-does-the-ellipsis-mean-in-type-hints)"
   ]
  },
  {
   "cell_type": "code",
   "execution_count": null,
   "metadata": {},
   "outputs": [],
   "source": []
  },
  {
   "cell_type": "markdown",
   "metadata": {
    "heading_collapsed": true
   },
   "source": [
    "## Special Function"
   ]
  },
  {
   "cell_type": "markdown",
   "metadata": {
    "hidden": true
   },
   "source": [
    "- [__new__ vs __init__ in Python](https://www.youtube.com/watch?v=-zsV0_QrfTw)"
   ]
  },
  {
   "cell_type": "code",
   "execution_count": 1,
   "metadata": {
    "hidden": true
   },
   "outputs": [],
   "source": [
    "class Person():\n",
    "    def __init__(self, name: str, ssn:int):\n",
    "        self.name = name\n",
    "        self.ssn = ssn\n",
    "#     def __eq__(self, other):\n",
    "#         return self.name == other.name and self.ssn == other.ssn"
   ]
  },
  {
   "cell_type": "code",
   "execution_count": 2,
   "metadata": {
    "hidden": true
   },
   "outputs": [],
   "source": [
    "p1 = Person('James', 1000)\n",
    "p2 = Person('Jim', 2000)"
   ]
  },
  {
   "cell_type": "code",
   "execution_count": 6,
   "metadata": {
    "hidden": true
   },
   "outputs": [
    {
     "data": {
      "text/plain": [
       "['__class__',\n",
       " '__delattr__',\n",
       " '__dict__',\n",
       " '__dir__',\n",
       " '__doc__',\n",
       " '__eq__',\n",
       " '__format__',\n",
       " '__ge__',\n",
       " '__getattribute__',\n",
       " '__gt__',\n",
       " '__hash__',\n",
       " '__init__',\n",
       " '__init_subclass__',\n",
       " '__le__',\n",
       " '__lt__',\n",
       " '__module__',\n",
       " '__ne__',\n",
       " '__new__',\n",
       " '__reduce__',\n",
       " '__reduce_ex__',\n",
       " '__repr__',\n",
       " '__setattr__',\n",
       " '__sizeof__',\n",
       " '__str__',\n",
       " '__subclasshook__',\n",
       " '__weakref__']"
      ]
     },
     "execution_count": 6,
     "metadata": {},
     "output_type": "execute_result"
    }
   ],
   "source": [
    "dir(Person)"
   ]
  },
  {
   "cell_type": "code",
   "execution_count": 7,
   "metadata": {
    "hidden": true
   },
   "outputs": [
    {
     "name": "stdout",
     "output_type": "stream",
     "text": [
      "{'__module__': '__main__', '__init__': <function Person.__init__ at 0x1076015e0>, '__dict__': <attribute '__dict__' of 'Person' objects>, '__weakref__': <attribute '__weakref__' of 'Person' objects>, '__doc__': None}\n"
     ]
    }
   ],
   "source": [
    "print(Person.__dict__)"
   ]
  },
  {
   "cell_type": "code",
   "execution_count": 8,
   "metadata": {
    "hidden": true
   },
   "outputs": [
    {
     "name": "stdout",
     "output_type": "stream",
     "text": [
      "False\n",
      "False\n",
      "NotImplemented\n"
     ]
    }
   ],
   "source": [
    "print(p1 == p2); print(p1 is p2); print(p1.__eq__(p2))"
   ]
  },
  {
   "cell_type": "markdown",
   "metadata": {
    "heading_collapsed": true,
    "hidden": true
   },
   "source": [
    "#### `__setstate__`, `__getstate__` and `__dict__`:\n",
    "\n",
    "[Simple example of use of __setstate__ and __getstate__\n",
    "](https://stackoverflow.com/questions/1939058/simple-example-of-use-of-setstate-and-getstate)"
   ]
  },
  {
   "cell_type": "code",
   "execution_count": null,
   "metadata": {
    "hidden": true
   },
   "outputs": [],
   "source": []
  },
  {
   "cell_type": "markdown",
   "metadata": {
    "heading_collapsed": true,
    "hidden": true
   },
   "source": [
    "#### `__annotations__`:"
   ]
  },
  {
   "cell_type": "code",
   "execution_count": 22,
   "metadata": {
    "hidden": true
   },
   "outputs": [],
   "source": [
    "def f(ham: str, eggs: str = 'eggs') -> str:\n",
    "    print(\"Annotations:\", f.__annotations__)\n",
    "    print(\"Arguments:\", ham, eggs)\n",
    "    return ham + ' and ' + eggs"
   ]
  },
  {
   "cell_type": "code",
   "execution_count": 24,
   "metadata": {
    "hidden": true
   },
   "outputs": [
    {
     "name": "stdout",
     "output_type": "stream",
     "text": [
      "Annotations: {'ham': <class 'str'>, 'eggs': <class 'str'>, 'return': <class 'str'>}\n",
      "Arguments: spam eggs\n"
     ]
    },
    {
     "data": {
      "text/plain": [
       "'spam and eggs'"
      ]
     },
     "execution_count": 24,
     "metadata": {},
     "output_type": "execute_result"
    }
   ],
   "source": [
    "f('spam')"
   ]
  },
  {
   "cell_type": "code",
   "execution_count": 26,
   "metadata": {
    "hidden": true
   },
   "outputs": [
    {
     "data": {
      "text/plain": [
       "['__add__',\n",
       " '__class__',\n",
       " '__contains__',\n",
       " '__delattr__',\n",
       " '__dir__',\n",
       " '__doc__',\n",
       " '__eq__',\n",
       " '__format__',\n",
       " '__ge__',\n",
       " '__getattribute__',\n",
       " '__getitem__',\n",
       " '__getnewargs__',\n",
       " '__gt__',\n",
       " '__hash__',\n",
       " '__init__',\n",
       " '__init_subclass__',\n",
       " '__iter__',\n",
       " '__le__',\n",
       " '__len__',\n",
       " '__lt__',\n",
       " '__mod__',\n",
       " '__mul__',\n",
       " '__ne__',\n",
       " '__new__',\n",
       " '__reduce__',\n",
       " '__reduce_ex__',\n",
       " '__repr__',\n",
       " '__rmod__',\n",
       " '__rmul__',\n",
       " '__setattr__',\n",
       " '__sizeof__',\n",
       " '__str__',\n",
       " '__subclasshook__',\n",
       " 'capitalize',\n",
       " 'casefold',\n",
       " 'center',\n",
       " 'count',\n",
       " 'encode',\n",
       " 'endswith',\n",
       " 'expandtabs',\n",
       " 'find',\n",
       " 'format',\n",
       " 'format_map',\n",
       " 'index',\n",
       " 'isalnum',\n",
       " 'isalpha',\n",
       " 'isascii',\n",
       " 'isdecimal',\n",
       " 'isdigit',\n",
       " 'isidentifier',\n",
       " 'islower',\n",
       " 'isnumeric',\n",
       " 'isprintable',\n",
       " 'isspace',\n",
       " 'istitle',\n",
       " 'isupper',\n",
       " 'join',\n",
       " 'ljust',\n",
       " 'lower',\n",
       " 'lstrip',\n",
       " 'maketrans',\n",
       " 'partition',\n",
       " 'replace',\n",
       " 'rfind',\n",
       " 'rindex',\n",
       " 'rjust',\n",
       " 'rpartition',\n",
       " 'rsplit',\n",
       " 'rstrip',\n",
       " 'split',\n",
       " 'splitlines',\n",
       " 'startswith',\n",
       " 'strip',\n",
       " 'swapcase',\n",
       " 'title',\n",
       " 'translate',\n",
       " 'upper',\n",
       " 'zfill']"
      ]
     },
     "execution_count": 26,
     "metadata": {},
     "output_type": "execute_result"
    }
   ],
   "source": [
    "dir(\"__main__\")"
   ]
  },
  {
   "cell_type": "code",
   "execution_count": null,
   "metadata": {
    "hidden": true
   },
   "outputs": [],
   "source": []
  },
  {
   "cell_type": "code",
   "execution_count": null,
   "metadata": {
    "hidden": true
   },
   "outputs": [],
   "source": []
  },
  {
   "cell_type": "markdown",
   "metadata": {
    "heading_collapsed": true
   },
   "source": [
    "## File Handling in Python"
   ]
  },
  {
   "cell_type": "markdown",
   "metadata": {
    "hidden": true
   },
   "source": [
    "* [W3School.com](https://www.w3schools.com/python/python_file_handling.asp)"
   ]
  },
  {
   "cell_type": "code",
   "execution_count": 5,
   "metadata": {
    "hidden": true
   },
   "outputs": [],
   "source": [
    "# help(open)"
   ]
  },
  {
   "cell_type": "code",
   "execution_count": 9,
   "metadata": {
    "hidden": true
   },
   "outputs": [
    {
     "name": "stdout",
     "output_type": "stream",
     "text": [
      "Note.txt            ece_backup.json     shellsST.txt        words3.txt\n",
      "demofile.txt        medTale.txt         tinyEWD.txt\n",
      "ece.json            mediumEWD.txt       tongue_twisters.txt\n"
     ]
    }
   ],
   "source": [
    "! ls {ADS+'data/'}"
   ]
  },
  {
   "cell_type": "code",
   "execution_count": 11,
   "metadata": {
    "hidden": true
   },
   "outputs": [
    {
     "name": "stdout",
     "output_type": "stream",
     "text": [
      "bed bug dad yes zoo\n",
      "now for tip ilk dim \n",
      "tag jot sob nob sky\n",
      "hut men egg few jay\n",
      "owl joy rap gig wee\n",
      "was wad fee tap tar\n",
      "dug jam all bad yet"
     ]
    }
   ],
   "source": [
    "! cat {ADS+'data/words3.txt'}"
   ]
  },
  {
   "cell_type": "code",
   "execution_count": 37,
   "metadata": {
    "hidden": true
   },
   "outputs": [],
   "source": [
    "with open(ADS+'data/words3.txt') as f:\n",
    "#     lines_str = f.read()\n",
    "    line_list = f.readlines()"
   ]
  },
  {
   "cell_type": "code",
   "execution_count": 38,
   "metadata": {
    "hidden": true
   },
   "outputs": [],
   "source": [
    "# lines_str.split('\\n')"
   ]
  },
  {
   "cell_type": "code",
   "execution_count": 39,
   "metadata": {
    "hidden": true
   },
   "outputs": [],
   "source": [
    "# del lines_str"
   ]
  },
  {
   "cell_type": "code",
   "execution_count": 40,
   "metadata": {
    "hidden": true
   },
   "outputs": [
    {
     "data": {
      "text/plain": [
       "['bed bug dad yes zoo\\n',\n",
       " 'now for tip ilk dim \\n',\n",
       " 'tag jot sob nob sky\\n',\n",
       " 'hut men egg few jay\\n',\n",
       " 'owl joy rap gig wee\\n',\n",
       " 'was wad fee tap tar\\n',\n",
       " 'dug jam all bad yet']"
      ]
     },
     "execution_count": 40,
     "metadata": {},
     "output_type": "execute_result"
    }
   ],
   "source": [
    "line_list"
   ]
  },
  {
   "cell_type": "code",
   "execution_count": null,
   "metadata": {
    "hidden": true
   },
   "outputs": [],
   "source": []
  },
  {
   "cell_type": "markdown",
   "metadata": {
    "heading_collapsed": true
   },
   "source": [
    "## Iterator"
   ]
  },
  {
   "cell_type": "markdown",
   "metadata": {
    "hidden": true
   },
   "source": [
    "What are iterators in Python?\n",
    "- An iterator is an object.\n",
    "- It remembers its state i.e., where it is during iteration (see code below to see how)\n",
    "- __iter__() method initializes an iterator.\n",
    "- It has a __next__() method which returns the next item in iteration and points to the next element. Upon reaching the end of iterable object __next__() must return StopIteration exception.\n",
    "- It is also self-iterable.\n",
    "- Iterators are objects with which we can iterate over iterable objects like lists, strings, etc."
   ]
  },
  {
   "cell_type": "markdown",
   "metadata": {
    "hidden": true
   },
   "source": [
    "- [Corey: Iterators and Iterables - What Are They and How Do They Work?](https://www.youtube.com/watch?v=jTYiNjvnHZY&list=RDCMUCCezIgC97PvUuR4_gbFUs5g&index=2)"
   ]
  },
  {
   "cell_type": "code",
   "execution_count": null,
   "metadata": {
    "hidden": true
   },
   "outputs": [],
   "source": []
  },
  {
   "cell_type": "code",
   "execution_count": null,
   "metadata": {
    "hidden": true
   },
   "outputs": [],
   "source": []
  },
  {
   "cell_type": "code",
   "execution_count": null,
   "metadata": {
    "code_folding": [
     5
    ],
    "hidden": true
   },
   "outputs": [],
   "source": [
    "from math import *\n",
    "\n",
    "################ Python3 Doc => Tutorial: 9.8 [Iterator & Generator] ##########\n",
    "\n",
    "# Taken From: https://docs.python.org/3/library/itertools.html#itertools.permutations\n",
    "def permutations(iterable, r=None):\n",
    "    # permutations('ABCD', 2) --> AB AC AD BA BC BD CA CB CD DA DB DC\n",
    "    # permutations(range(3)) --> 012 021 102 120 201 210\n",
    "    pool = tuple(iterable)\n",
    "    n = len(pool)\n",
    "    r = n if r is None else r\n",
    "    if r > n:\n",
    "        return\n",
    "    indices = list(range(n))\n",
    "    cycles = list(range(n, n-r, -1))\n",
    "    yield tuple(pool[i] for i in indices[:r])\n",
    "    while n:\n",
    "        for i in reversed(range(r)):\n",
    "            cycles[i] -= 1\n",
    "            if cycles[i] == 0:\n",
    "                indices[i:] = indices[i+1:] + indices[i:i+1]\n",
    "                cycles[i] = n - i\n",
    "            else:\n",
    "                j = cycles[i]\n",
    "                indices[i], indices[-j] = indices[-j], indices[i]\n",
    "                yield tuple(pool[i] for i in indices[:r])\n",
    "                break\n",
    "        else:\n",
    "            return\n",
    "\n",
    "\n",
    "def permutations(iterable, r=None):\n",
    "    pool = tuple(iterable)\n",
    "    n = len(pool)\n",
    "    r = n if r is None else r\n",
    "    for indices in product(range(n), repeat=r):\n",
    "        if len(set(indices)) == r:\n",
    "            yield tuple(pool[i] for i in indices)"
   ]
  },
  {
   "cell_type": "code",
   "execution_count": null,
   "metadata": {
    "hidden": true
   },
   "outputs": [],
   "source": [
    "\"\"\"\n",
    "class MyIterator():\n",
    "            \n",
    "        def __init__(self):\n",
    "            stk = []\n",
    "            if self.root: stk.append(self.root)\n",
    "\n",
    "        def next(self):\n",
    "            \n",
    "            if len(self.stk) == 0: raise StopIteration\n",
    "            current = stk[len(self.stk)-1]\n",
    "            if current.left is not None: stk.append(current.left)\n",
    "            else:\n",
    "                tmp = stk.pop(stk[len(self.stk)-1])\n",
    "                while tmp.right is None:\n",
    "                    if len(stk) == 0: return current.key\n",
    "                    tmp = stk.pop(stk[len(self.stk)-1])\n",
    "                stk.append(tmp.right)\n",
    "            return current.key\n",
    "\"\"\""
   ]
  },
  {
   "cell_type": "code",
   "execution_count": null,
   "metadata": {
    "hidden": true
   },
   "outputs": [],
   "source": [
    "class Reverse:\n",
    "    \"\"\"Iterator for looping over a sequence backwards.\"\"\" \n",
    "    def __init__(self, data):\n",
    "            self.data = data\n",
    "            self.index = len(data)\n",
    "    \n",
    "    def __iter__(self): \n",
    "        return self\n",
    "    \n",
    "    def __next__(self):\n",
    "        if self.index == 0: raise StopIteration \n",
    "        self.index = self.index - 1 \n",
    "        return self.data[self.index]"
   ]
  },
  {
   "cell_type": "code",
   "execution_count": null,
   "metadata": {
    "hidden": true
   },
   "outputs": [],
   "source": [
    "rev = Reverse('spam')\n",
    "iter(rev) # <__main__.Reverse object at 0x00A1DB50> \n",
    "\n",
    "\n",
    "for char in rev:\n",
    "    print(char)"
   ]
  },
  {
   "cell_type": "code",
   "execution_count": null,
   "metadata": {
    "hidden": true
   },
   "outputs": [],
   "source": [
    "def reverse(data):\n",
    "    for index in range(len(data)-1, -1, -1):\n",
    "        yield data[index]"
   ]
  },
  {
   "cell_type": "code",
   "execution_count": null,
   "metadata": {
    "hidden": true
   },
   "outputs": [],
   "source": [
    "for char in reverse('golf'):\n",
    "    print(char)"
   ]
  },
  {
   "cell_type": "code",
   "execution_count": null,
   "metadata": {
    "hidden": true
   },
   "outputs": [],
   "source": [
    "print(sum(i*i for i in range(10))) # 285\n",
    "xvec = [10, 20, 30]\n",
    "yvec = [7, 5, 3]\n",
    "print(sum(x*y for x,y in zip(xvec, yvec))) #260\n",
    "# sum of squares\n",
    "# dot product\n",
    "sine_table = {x: sin(x*pi/180) for x in range(0, 91)}\n",
    "# unique_words = set(word for line in page for word in line.split())\n",
    "# valedictorian = max((student.gpa, student.name) for student in graduates)\n",
    "data = 'golf'\n",
    "print(list(data[i] for i in range(len(data)-1, -1, -1))) # ['f', 'l', 'o', 'g']"
   ]
  },
  {
   "cell_type": "code",
   "execution_count": null,
   "metadata": {
    "hidden": true
   },
   "outputs": [],
   "source": [
    "###############################################################################\n",
    "# Taken From: https://brewing.codes/2017/01/10/efficient-iterators-in-python/\n",
    "\n",
    "def create_generator():\n",
    "    for i in range(1, 5):\n",
    "        # These \"print\" statements will help us to find out what statements in\n",
    "        # this function were executed so far\n",
    "        print(\"Creating first number\")\n",
    "        yield i\n",
    "        print(\"Creating second number\")\n",
    "        yield i * 10\n",
    "        print(\"Creating third number\")\n",
    "        yield 1 * 100\n",
    "\n",
    "\n",
    "gen = create_generator()\n",
    "gen.__next__() # Creating first number 1\n",
    "gen.__next__() # Creating second number 10\n",
    "gen.__next__() # Creating third number 100\n",
    "gen.__next__() # Creating first number 2\n",
    "\n",
    "\n",
    "class Node(object):\n",
    "    # left/right pointers are optional since a tree should end somewhere\n",
    "    def __init__(self, data, left=None, right=None):\n",
    "        self.data = data\n",
    "        # Pointer to a left sub-tree\n",
    "        self.left = left\n",
    "        # Pointer to a right sub-tree\n",
    "        self.right = right\n",
    "\n",
    "\n",
    "def inorder(tree):\n",
    "    if tree:\n",
    "        # Recursively iterate over elements in the left sub-tree\n",
    "        for l_child in inorder(tree.left):\n",
    "            # Return left sub-tree data elements one-by-one\n",
    "            yield l_child\n",
    "        # Return data element from current node\n",
    "        yield tree.data\n",
    "        # Recursively iterate over elements in the right sub-tree\n",
    "        for r_child in inorder(tree.right):\n",
    "            # Return right sub-tree data elements one-by-one\n",
    "            yield r_child\n",
    "\n",
    "def inorder2(node): # with the latest version of Python\n",
    "    if node:\n",
    "        yield from inorder2(node.left)\n",
    "        yield node.data\n",
    "        yield from inorder2(node.right)\n",
    "\n",
    "tree = Node(2, left=Node(1), right=Node(3)); \n",
    "print(list(inorder2(tree))) # [1, 2, 3]\n",
    "tree = Node(4, left=Node(2, left=Node(1), right=Node(3)), right=Node(6, left=Node(5), right=Node(7)))\n",
    "print(list(inorder2(tree))) # [1, 2, 3, 4, 5, 6, 7]"
   ]
  },
  {
   "cell_type": "code",
   "execution_count": null,
   "metadata": {
    "hidden": true
   },
   "outputs": [],
   "source": [
    "###############################################################################\n",
    "# Taken From: https://stackoverflow.com/questions/20551042/whats-the-difference-between-iter-and-getitem/20551346#20551346\n",
    "\n",
    "\n",
    "class A:\n",
    "    def __getitem__(self, index):\n",
    "        if index >= 10: raise IndexError\n",
    "        return index * 111\n",
    "\n",
    "print(list(A()))\n",
    "\n",
    "class B:\n",
    "    def __iter__(self):\n",
    "        yield 10\n",
    "        yield 20\n",
    "        yield 30\n",
    "\n",
    "print(list(B()))"
   ]
  },
  {
   "cell_type": "code",
   "execution_count": null,
   "metadata": {
    "hidden": true
   },
   "outputs": [],
   "source": [
    "class foo:\n",
    "    def __init__(self):\n",
    "        self.data=[10,11,12]\n",
    "\n",
    "    def __getitem__(self, arg):\n",
    "        print('__getitem__ called with arg {}'.format(arg))\n",
    "        return self.data[arg]\n",
    "\n",
    "bar = foo()\n",
    "for i in bar:\n",
    "    print('__getitem__ returned {}'.format(i))\n",
    "\n",
    "'''\n",
    "__getitem__ called with arg 0\n",
    "__getitem__ returned 10\n",
    "__getitem__ called with arg 1\n",
    "__getitem__ returned 11\n",
    "__getitem__ called with arg 2\n",
    "__getitem__ returned 12\n",
    "__getitem__ called with arg 3\n",
    "'''\n",
    "\n",
    "class foo2:\n",
    "    def __getitem__(self, arg):\n",
    "        print('__getitem__ called with arg {}'.format(arg))\n",
    "        if arg>3:\n",
    "            raise IndexError\n",
    "        else:    \n",
    "            return arg\n",
    "\n",
    "bar = foo2()\n",
    "for i in bar:\n",
    "    print('__getitem__ returned {}'.format(i))\n",
    "\n",
    "\n",
    "'''\n",
    "__getitem__ called with arg 0\n",
    "__getitem__ returned 0\n",
    "__getitem__ called with arg 1\n",
    "__getitem__ returned 1\n",
    "__getitem__ called with arg 2\n",
    "__getitem__ returned 2\n",
    "__getitem__ called with arg 3\n",
    "__getitem__ returned 3\n",
    "__getitem__ called with arg 4\n",
    "'''"
   ]
  },
  {
   "cell_type": "markdown",
   "metadata": {
    "heading_collapsed": true
   },
   "source": [
    "## Generator"
   ]
  },
  {
   "cell_type": "markdown",
   "metadata": {
    "hidden": true
   },
   "source": [
    "What are generators in Python?\n",
    "- Generators are functions that return an iterable, collection of items, one at a time, in a set manner. Generators, in general, are used to create iterators with a different approach. They employ the use of `yield` keyword rather than `return` to return a generator object.\n",
    "Let's try and build a generator for fibonacci numbers -"
   ]
  },
  {
   "cell_type": "markdown",
   "metadata": {
    "hidden": true
   },
   "source": [
    "What is <font color='red'>Generator expression<font> ?"
   ]
  },
  {
   "cell_type": "code",
   "execution_count": 28,
   "metadata": {
    "hidden": true
   },
   "outputs": [],
   "source": [
    "def truthy(x): return x%2 == 0\n",
    "my_generator = (item for item in range(10) if truthy(item))"
   ]
  },
  {
   "cell_type": "code",
   "execution_count": 32,
   "metadata": {
    "hidden": true
   },
   "outputs": [
    {
     "data": {
      "text/plain": [
       "[0, 2, 4, 6, 8]"
      ]
     },
     "execution_count": 32,
     "metadata": {},
     "output_type": "execute_result"
    }
   ],
   "source": [
    "[*my_generator]"
   ]
  },
  {
   "cell_type": "code",
   "execution_count": 29,
   "metadata": {
    "hidden": true
   },
   "outputs": [],
   "source": [
    "def test_yield(x):\n",
    "    for i in range(x):\n",
    "        if i%2 == 0:yield i"
   ]
  },
  {
   "cell_type": "code",
   "execution_count": 30,
   "metadata": {
    "hidden": true
   },
   "outputs": [
    {
     "name": "stdout",
     "output_type": "stream",
     "text": [
      "0\n",
      "2\n",
      "4\n",
      "6\n",
      "8\n"
     ]
    }
   ],
   "source": [
    "for i in test_yield(10):\n",
    "    print(i)"
   ]
  },
  {
   "cell_type": "code",
   "execution_count": 20,
   "metadata": {
    "hidden": true
   },
   "outputs": [
    {
     "data": {
      "text/plain": [
       "[0, 1, 2, 3, 4]"
      ]
     },
     "execution_count": 20,
     "metadata": {},
     "output_type": "execute_result"
    }
   ],
   "source": [
    "[*test_yield()]"
   ]
  },
  {
   "cell_type": "code",
   "execution_count": 18,
   "metadata": {
    "hidden": true
   },
   "outputs": [
    {
     "data": {
      "text/plain": [
       "generator"
      ]
     },
     "execution_count": 18,
     "metadata": {},
     "output_type": "execute_result"
    }
   ],
   "source": [
    "type(test_yield())"
   ]
  },
  {
   "cell_type": "code",
   "execution_count": null,
   "metadata": {
    "hidden": true
   },
   "outputs": [],
   "source": [
    "## generate fibonacci numbers upto n\n",
    "def fib(n):\n",
    "   p, q = 0, 1\n",
    "   while(p < n):\n",
    "       yield p\n",
    "       p, q = q, p + q"
   ]
  },
  {
   "cell_type": "code",
   "execution_count": null,
   "metadata": {
    "hidden": true
   },
   "outputs": [],
   "source": [
    "x = fib(10)    # create generator object \n",
    " \n",
    "## iterating using __next__(), for Python2, use next()\n",
    "x.__next__()    # output => 0\n",
    "x.__next__()    # output => 1\n",
    "x.__next__()    # output => 1\n",
    "x.__next__()    # output => 2\n",
    "x.__next__()    # output => 3\n",
    "x.__next__()    # output => 5\n",
    "x.__next__()    # output => 8\n",
    "x.__next__()    # error\n",
    " \n",
    "## iterating using loop\n",
    "for i in fib(10):\n",
    "   print(i)    # output => 0 1 1 2 3 5 8"
   ]
  },
  {
   "cell_type": "markdown",
   "metadata": {
    "hidden": true
   },
   "source": [
    "- [Corey: Generators - How to use them and the benefits you receive](https://www.youtube.com/watch?v=bD05uGo_sVI&list=RDCMUCCezIgC97PvUuR4_gbFUs5g&start_radio=1&rv=bD05uGo_sVI&t=1)"
   ]
  },
  {
   "cell_type": "code",
   "execution_count": null,
   "metadata": {
    "hidden": true
   },
   "outputs": [],
   "source": [
    "\n",
    "# def square_numbers(nums):\n",
    "#     for i in nums:\n",
    "#         yield (i*i)\n",
    "\n",
    "# my_nums = square_numbers([1,2,3,4,5])\n",
    "\n",
    "my_nums = (x*x for x in [1,2,3,4,5])\n",
    "\n",
    "print list(my_nums) # [1, 4, 9, 16, 25]\n",
    "\n",
    "# for num in my_nums:\n",
    "#     print num"
   ]
  },
  {
   "cell_type": "code",
   "execution_count": null,
   "metadata": {
    "hidden": true
   },
   "outputs": [],
   "source": [
    "import mem_profile\n",
    "import random\n",
    "import time\n",
    "\n",
    "names = ['John', 'Corey', 'Adam', 'Steve', 'Rick', 'Thomas']\n",
    "majors = ['Math', 'Engineering', 'CompSci', 'Arts', 'Business']\n",
    "\n",
    "print 'Memory (Before): {}Mb'.format(mem_profile.memory_usage_psutil())\n",
    "\n",
    "def people_list(num_people):\n",
    "    result = []\n",
    "    for i in xrange(num_people):\n",
    "        person = {\n",
    "                    'id': i,\n",
    "                    'name': random.choice(names),\n",
    "                    'major': random.choice(majors)\n",
    "                }\n",
    "        result.append(person)\n",
    "    return result\n",
    "\n",
    "def people_generator(num_people):\n",
    "    for i in xrange(num_people):\n",
    "        person = {\n",
    "                    'id': i,\n",
    "                    'name': random.choice(names),\n",
    "                    'major': random.choice(majors)\n",
    "                }\n",
    "        yield person\n",
    "\n",
    "# t1 = time.clock()\n",
    "# people = people_list(1000000)\n",
    "# t2 = time.clock()\n",
    "\n",
    "t1 = time.clock()\n",
    "people = people_generator(1000000)\n",
    "t2 = time.clock()\n",
    "\n",
    "print 'Memory (After) : {}Mb'.format(mem_profile.memory_usage_psutil())\n",
    "print 'Took {} Seconds'.format(t2-t1)"
   ]
  },
  {
   "cell_type": "code",
   "execution_count": null,
   "metadata": {
    "hidden": true
   },
   "outputs": [],
   "source": [
    "from pympler import summary, muppy\n",
    "import psutil\n",
    "import resource\n",
    "import os\n",
    "import sys\n",
    "\n",
    "def memory_usage_psutil():\n",
    "    # return the memory usage in MB\n",
    "    process = psutil.Process(os.getpid())\n",
    "    mem = process.get_memory_info()[0] / float(2 ** 20)\n",
    "    return mem\n",
    "\n",
    "def memory_usage_resource():\n",
    "    rusage_denom = 1024.\n",
    "    if sys.platform == 'darwin':\n",
    "        # ... it seems that in OSX the output is different units ...\n",
    "        rusage_denom = rusage_denom * rusage_denom\n",
    "    mem = resource.getrusage(resource.RUSAGE_SELF).ru_maxrss / rusage_denom\n",
    "    return mem\n"
   ]
  },
  {
   "cell_type": "markdown",
   "metadata": {
    "heading_collapsed": true
   },
   "source": [
    "## Itertools, Functool and Operator"
   ]
  },
  {
   "cell_type": "code",
   "execution_count": null,
   "metadata": {
    "hidden": true
   },
   "outputs": [],
   "source": [
    "# groupby() is roughly equivalent to:\n",
    "class groupby:\n",
    "    # [k for k, g in groupby('AAAABBBCCDAABBB')] --> A B C D A B\n",
    "    # [list(g) for k, g in groupby('AAAABBBCCD')] --> AAAA BBB CC D\n",
    "    \n",
    "    def __init__(self, iterable, key=None):\n",
    "        if key is None:\n",
    "            def key(x): return x\n",
    "        self.keyfunc = key\n",
    "        self.it = iter(iterable)\n",
    "        self.tgtkey = self.currkey = self.currvalue = object()\n",
    "\n",
    "    def __iter__(self):\n",
    "        return self\n",
    "\n",
    "    def __next__(self):\n",
    "        self.id = object()\n",
    "        while self.currkey == self.tgtkey:\n",
    "            self.currvalue = next(self.it)    # Exit on StopIteration\n",
    "            self.currkey = self.keyfunc(self.currvalue)\n",
    "        self.tgtkey = self.currkey\n",
    "        return (self.currkey, self._grouper(self.tgtkey, self.id))\n",
    "\n",
    "    def _grouper(self, tgtkey, id):\n",
    "        while self.id is id and self.currkey == tgtkey:\n",
    "            yield self.currvalue\n",
    "            try:\n",
    "                self.currvalue = next(self.it)\n",
    "            except StopIteration:\n",
    "                return\n",
    "            self.currkey = self.keyfunc(self.currvalue)\n",
    "\n",
    "\n",
    "def _test_groupby():\n",
    "    L = [*range(10)]\n",
    "    shuffle(L)\n",
    "    for i in groupby(L):\n",
    "        print(i)\n"
   ]
  },
  {
   "cell_type": "code",
   "execution_count": null,
   "metadata": {
    "hidden": true
   },
   "outputs": [],
   "source": [
    "_test_groupby()"
   ]
  },
  {
   "cell_type": "code",
   "execution_count": null,
   "metadata": {
    "hidden": true
   },
   "outputs": [],
   "source": [
    "def test_primitives():\n",
    "        \n",
    "    # print(7/2, ' ,', 7//2, ' ,', 7.0//2, ' ,', 7%2)\n",
    "    # x = None; print(x); x = 10;\tprint(x)\n",
    "\n",
    "    L = [randint(1, 10) for i in range(0, 10)]; print(L)\n",
    "    y = map(5, 'honesty is the best policy'.split(' ')); print(y)\n",
    "\n",
    "\n",
    "test_primitives()"
   ]
  },
  {
   "cell_type": "markdown",
   "metadata": {
    "heading_collapsed": true
   },
   "source": [
    "## [Scope and Execution Context](https://realpython.com/python-scope-legb-rule/)"
   ]
  },
  {
   "cell_type": "markdown",
   "metadata": {
    "hidden": true
   },
   "source": [
    "- [What Are Python Namespaces](https://code.tutsplus.com/tutorials/what-are-python-namespaces-and-why-are-they-needed--cms-28598)"
   ]
  },
  {
   "cell_type": "markdown",
   "metadata": {
    "hidden": true
   },
   "source": [
    "##### What is Scope in Python?\n",
    "\n",
    "A scope is a block of code where an object in Python remains relevant. Every object in Python resides in a scope.\n",
    "\n",
    "The concept of scope rules how variables and names are looked up in your code. It determines the visibility of a variable within the code. The scope of a name or variable depends on the place in your code where you create that variable.\n",
    "\n",
    "Namespaces uniquely identify all the objects inside a program. However, these namespaces also have a scope defined for them where you could use their objects without any prefix. A few examples of scope created during code execution in Python are as follows:\n",
    "\n",
    "- A `local scope` refers to the local objects available in the current function.\n",
    "- A `global scope` refers to the objects available throughout the code execution since their inception.\n",
    "- A `module-level scope` refers to the global objects of the current module accessible in the program.\n",
    "- An `outermost scope` refers to all the built-in names callable in the program. The objects in this scope are searched last to find the name referenced.\n",
    "\n",
    "Note: Local scope objects can be synced with global scope objects using keywords such as global.\n",
    "\n"
   ]
  },
  {
   "cell_type": "markdown",
   "metadata": {
    "hidden": true
   },
   "source": [
    "- Names and Scopes in Python\n",
    "\n",
    "Since Python is a dynamically-typed language, variables in Python come into existence when you first assign them a value. On the other hand, functions and classes are available after you define them using `def` or `class`, respectively. Finally, modules exist after you import them. As a summary, you can create Python names through one of the following operations:\n",
    "\n",
    "Assignments, Import operations, Function definitions, Argument definitions in the context of functions, Class definitions."
   ]
  },
  {
   "cell_type": "markdown",
   "metadata": {
    "hidden": true
   },
   "source": [
    "- Python Scope vs Namespace\n",
    "\n",
    "In Python, the concept of scope is closely related to the concept of the namespace. As you’ve learned so far, a Python scope determines where in your program a name is visible. Python scopes are implemented as dictionaries that map names to objects. These dictionaries are commonly called namespaces. These are the concrete mechanisms that Python uses to store names. They’re stored in a special attribute called `.__dict__`.\n",
    "\n",
    "Names at the top level of a module are stored in the module’s namespace. In other words, they’re stored in the module’s `.__dict__` attribute."
   ]
  },
  {
   "cell_type": "markdown",
   "metadata": {
    "hidden": true
   },
   "source": [
    "- LEGB: \n",
    "  - `Local (or function) scope` is the code block or body of any Python function or lambda expression. This Python scope contains the names that you define inside the function. These names will only be visible from the code of the function. It’s created at function call, not at function definition, so you’ll have as many different local scopes as function calls. This is true even if you call the same function multiple times, or recursively. Each call will result in a new local scope being created.\n",
    "\n",
    "  - `Enclosing (or nonlocal) scope` is a special scope that only exists for nested functions. If the local scope is an inner or nested function, then the enclosing scope is the scope of the outer or enclosing function. This scope contains the names that you define in the enclosing function. The names in the enclosing scope are visible from the code of the inner and enclosing functions.\n",
    "\n",
    "  - `Global (or module) scope` is the top-most scope in a Python program, script, or module. This Python scope contains all of the names that you define at the top level of a program or a module. Names in this Python scope are visible from everywhere in your code.\n",
    "\n",
    "  - `Built-in scope` is a special Python scope that’s created or loaded whenever you run a script or open an interactive session. This scope contains names such as keywords, functions, exceptions, and other attributes that are built into Python. Names in this Python scope are also available from everywhere in your code. It’s automatically loaded by Python when you run a program or script.\n",
    "\n"
   ]
  },
  {
   "cell_type": "code",
   "execution_count": 2,
   "metadata": {
    "hidden": true
   },
   "outputs": [],
   "source": [
    "for a in range(2):\n",
    "    x = 'global {}'.format(a)\n",
    "\n",
    "\n",
    "def outer():\n",
    "    global global_var\n",
    "    global_var = 'Global variable is accessable everywhere'\n",
    "    \n",
    "    for b in range(6):\n",
    "        x = randint(0, 10)\n",
    "        x = 'x = {}, this value is from {}'.format(x, 'outer(...)')\n",
    "        y1 = 'from the first for loop'\n",
    "\n",
    "    def inner():\n",
    "        x = 4\n",
    "        x = 'x = 4, this value is from {}'.format('inner(...)')\n",
    "        y2 = 'form the second for loop'\n",
    "        \n",
    "        print(x, y1, y2, global_var, sep='\\n')\n",
    "    print(x)\n",
    "    inner()"
   ]
  },
  {
   "cell_type": "code",
   "execution_count": 56,
   "metadata": {
    "hidden": true,
    "scrolled": true
   },
   "outputs": [
    {
     "name": "stdout",
     "output_type": "stream",
     "text": [
      "x = 2, this value is from outer(...)\n",
      "x = 4, this value is from inner(...)\n",
      "from the first for loop\n",
      "form the second for loop\n",
      "Global variable is accessable everywhere\n"
     ]
    }
   ],
   "source": [
    "outer()"
   ]
  },
  {
   "cell_type": "markdown",
   "metadata": {
    "heading_collapsed": true
   },
   "source": [
    "## Python `Modules` and `__name__` Analysis:"
   ]
  },
  {
   "cell_type": "markdown",
   "metadata": {
    "hidden": true
   },
   "source": [
    "- Attributes of an Empty Modules:(run `dir()` in an empty module)\n",
    "    - \\_\\_annotations\\_\\_\n",
    "    - \\_\\_builtins\\_\\_\n",
    "    - \\_\\_cached\\_\\_\n",
    "    - \\_\\_doc\\_\\_\n",
    "    - \\_\\_file\\_\\_\n",
    "    - \\_\\_loader\\_\\_\n",
    "    - \\_\\_name\\_\\_\n",
    "    - \\_\\_package\\_\\_\n",
    "    - \\_\\_spec\\_\\_\n"
   ]
  },
  {
   "cell_type": "code",
   "execution_count": 41,
   "metadata": {
    "hidden": true
   },
   "outputs": [
    {
     "name": "stdout",
     "output_type": "stream",
     "text": [
      "['__class__', '__delattr__', '__dir__', '__doc__', '__eq__', '__format__', '__ge__', '__getattribute__', '__gt__', '__hash__', '__init__', '__init_subclass__', '__le__', '__lt__', '__ne__', '__new__', '__reduce__', '__reduce_ex__', '__repr__', '__setattr__', '__sizeof__', '__str__', '__subclasshook__']\n",
      "['__add__', '__class__', '__contains__', '__delattr__', '__delitem__', '__dir__', '__doc__', '__eq__', '__format__', '__ge__', '__getattribute__', '__getitem__', '__gt__', '__hash__', '__iadd__', '__imul__', '__init__', '__init_subclass__', '__iter__', '__le__', '__len__', '__lt__', '__mul__', '__ne__', '__new__', '__reduce__', '__reduce_ex__', '__repr__', '__reversed__', '__rmul__', '__setattr__', '__setitem__', '__sizeof__', '__str__', '__subclasshook__', 'append', 'clear', 'copy', 'count', 'extend', 'index', 'insert', 'pop', 'remove', 'reverse', 'sort']\n",
      "['__class__', '__contains__', '__delattr__', '__delitem__', '__dir__', '__doc__', '__eq__', '__format__', '__ge__', '__getattribute__', '__getitem__', '__gt__', '__hash__', '__init__', '__init_subclass__', '__iter__', '__le__', '__len__', '__lt__', '__ne__', '__new__', '__reduce__', '__reduce_ex__', '__repr__', '__reversed__', '__setattr__', '__setitem__', '__sizeof__', '__str__', '__subclasshook__', 'clear', 'copy', 'fromkeys', 'get', 'items', 'keys', 'pop', 'popitem', 'setdefault', 'update', 'values']\n"
     ]
    }
   ],
   "source": [
    "def dir_help():\n",
    "    L = []\n",
    "    print(dir(object))\n",
    "    print(dir(L))\n",
    "    print(dir(dict))\n",
    "    \n",
    "    \n",
    "# print(__package__)\n",
    "# print(__builtins__)\n",
    "# print(__file__)\n",
    "# print(__name__)\n",
    "# print(__doc__)\n",
    "\n",
    "\n",
    "dir_help()\n"
   ]
  },
  {
   "cell_type": "markdown",
   "metadata": {
    "heading_collapsed": true,
    "hidden": true
   },
   "source": [
    "### `__name__`"
   ]
  },
  {
   "cell_type": "markdown",
   "metadata": {
    "hidden": true
   },
   "source": [
    "Python modules include the special variable called `__name__` that contains the name of the module (the scope of the code) being executed as a string. `__main__` is the name of the top-level scope (or the name of the module executing which we start runing our application hence it is the entryp point) in which top-level code executes."
   ]
  },
  {
   "cell_type": "code",
   "execution_count": 34,
   "metadata": {
    "hidden": true
   },
   "outputs": [],
   "source": [
    "def test_func():\n",
    "    print(__name__)"
   ]
  },
  {
   "cell_type": "code",
   "execution_count": 35,
   "metadata": {
    "hidden": true
   },
   "outputs": [
    {
     "name": "stdout",
     "output_type": "stream",
     "text": [
      "__main__\n"
     ]
    }
   ],
   "source": [
    "print(__name__)"
   ]
  },
  {
   "cell_type": "code",
   "execution_count": 36,
   "metadata": {
    "hidden": true
   },
   "outputs": [
    {
     "name": "stdout",
     "output_type": "stream",
     "text": [
      "__main__\n"
     ]
    }
   ],
   "source": [
    "test_func()"
   ]
  },
  {
   "cell_type": "code",
   "execution_count": 32,
   "metadata": {
    "hidden": true
   },
   "outputs": [],
   "source": [
    "# help(builtins)"
   ]
  },
  {
   "cell_type": "markdown",
   "metadata": {
    "heading_collapsed": true
   },
   "source": [
    "## Exception Handling:"
   ]
  },
  {
   "cell_type": "code",
   "execution_count": 13,
   "metadata": {
    "hidden": true
   },
   "outputs": [
    {
     "name": "stdout",
     "output_type": "stream",
     "text": [
      "8\n",
      "64\n",
      "8.0\n"
     ]
    }
   ],
   "source": [
    "try:\n",
    "    x = pow(2,3)\n",
    "    print(x)\n",
    "except:\n",
    "    x = abs(-10)\n",
    "    print(x)\n",
    "else:    # It runs if exception is not raised\n",
    "    x = x**2\n",
    "    print(x)\n",
    "finally: # It runs all the time independent of except or else\n",
    "    x = x**(1/2)\n",
    "    print(x)"
   ]
  },
  {
   "cell_type": "code",
   "execution_count": null,
   "metadata": {
    "hidden": true
   },
   "outputs": [],
   "source": []
  },
  {
   "cell_type": "markdown",
   "metadata": {
    "heading_collapsed": true,
    "hidden": true
   },
   "source": [
    "#### Builtin Exception Class Hierarchiy:"
   ]
  },
  {
   "cell_type": "markdown",
   "metadata": {
    "hidden": true
   },
   "source": [
    "```python\n",
    "object\n",
    "    BaseException\n",
    "        Exception\n",
    "            ArithmeticError\n",
    "                FloatingPointError\n",
    "                OverflowError\n",
    "                ZeroDivisionError\n",
    "            AssertionError\n",
    "            AttributeError\n",
    "            BufferError\n",
    "            EOFError\n",
    "            ImportError\n",
    "                ModuleNotFoundError\n",
    "            LookupError\n",
    "                IndexError\n",
    "                KeyError\n",
    "            MemoryError\n",
    "            NameError\n",
    "                UnboundLocalError\n",
    "            OSError\n",
    "                BlockingIOError\n",
    "                ChildProcessError\n",
    "                ConnectionError\n",
    "                    BrokenPipeError\n",
    "                    ConnectionAbortedError\n",
    "                    ConnectionRefusedError\n",
    "                    ConnectionResetError\n",
    "                FileExistsError\n",
    "                FileNotFoundError\n",
    "                InterruptedError\n",
    "                IsADirectoryError\n",
    "                NotADirectoryError\n",
    "                PermissionError\n",
    "                ProcessLookupError\n",
    "                TimeoutError\n",
    "            ReferenceError\n",
    "            RuntimeError\n",
    "                NotImplementedError\n",
    "                RecursionError\n",
    "            StopAsyncIteration\n",
    "            StopIteration\n",
    "            SyntaxError\n",
    "                IndentationError\n",
    "                    TabError\n",
    "            SystemError\n",
    "            TypeError\n",
    "            ValueError\n",
    "                UnicodeError\n",
    "                    UnicodeDecodeError\n",
    "                    UnicodeEncodeError\n",
    "                    UnicodeTranslateError\n",
    "            Warning\n",
    "                BytesWarning\n",
    "                DeprecationWarning\n",
    "                FutureWarning\n",
    "                ImportWarning\n",
    "                PendingDeprecationWarning\n",
    "                ResourceWarning\n",
    "                RuntimeWarning\n",
    "                SyntaxWarning\n",
    "                UnicodeWarning\n",
    "                UserWarning\n",
    "        GeneratorExit\n",
    "        KeyboardInterrupt\n",
    "        SystemExit\n",
    "  ```"
   ]
  },
  {
   "cell_type": "markdown",
   "metadata": {
    "heading_collapsed": true
   },
   "source": [
    "## Slice"
   ]
  },
  {
   "cell_type": "code",
   "execution_count": 5,
   "metadata": {
    "hidden": true
   },
   "outputs": [],
   "source": [
    "L = [*range(10)]"
   ]
  },
  {
   "cell_type": "code",
   "execution_count": 6,
   "metadata": {
    "hidden": true
   },
   "outputs": [
    {
     "data": {
      "text/plain": [
       "[0, 1, 2, 3, 4, 5, 6, 7, 8, 9]"
      ]
     },
     "execution_count": 6,
     "metadata": {},
     "output_type": "execute_result"
    }
   ],
   "source": [
    "L"
   ]
  },
  {
   "cell_type": "code",
   "execution_count": 8,
   "metadata": {
    "hidden": true
   },
   "outputs": [
    {
     "data": {
      "text/plain": [
       "([0, 2, 4, 6, 8], [9, 7, 5, 3, 1])"
      ]
     },
     "execution_count": 8,
     "metadata": {},
     "output_type": "execute_result"
    }
   ],
   "source": [
    "L[::2], L[::-2]"
   ]
  },
  {
   "cell_type": "code",
   "execution_count": 11,
   "metadata": {
    "hidden": true
   },
   "outputs": [
    {
     "data": {
      "text/plain": [
       "([1, 3, 5], [7, 5, 3])"
      ]
     },
     "execution_count": 11,
     "metadata": {},
     "output_type": "execute_result"
    }
   ],
   "source": [
    "L[1:7:2], L[7:1:-2]"
   ]
  },
  {
   "cell_type": "code",
   "execution_count": null,
   "metadata": {
    "hidden": true
   },
   "outputs": [],
   "source": []
  },
  {
   "cell_type": "code",
   "execution_count": null,
   "metadata": {
    "hidden": true
   },
   "outputs": [],
   "source": []
  },
  {
   "cell_type": "markdown",
   "metadata": {
    "heading_collapsed": true
   },
   "source": [
    "## Regular Expression"
   ]
  },
  {
   "cell_type": "markdown",
   "metadata": {
    "hidden": true
   },
   "source": [
    "[Regular Expression HOWTO](https://docs.python.org/3/howto/regex.html) || [re](https://docs.python.org/3/library/re.html#module-re)"
   ]
  },
  {
   "cell_type": "code",
   "execution_count": 32,
   "metadata": {
    "hidden": true
   },
   "outputs": [],
   "source": [
    "import re"
   ]
  },
  {
   "cell_type": "code",
   "execution_count": 39,
   "metadata": {
    "hidden": true
   },
   "outputs": [],
   "source": [
    "# help(re)"
   ]
  },
  {
   "cell_type": "markdown",
   "metadata": {
    "hidden": true
   },
   "source": [
    "<b style=\"color: tomato\">Regular Expression Resouces:</b>\n",
    "- [Tutorialspoint](https://www.tutorialspoint.com/python/python_reg_expressions.htm)\n",
    "- [W3School.com](https://www.w3schools.com/python/python_regex.asp)\n",
    "- [regexr](https://regexr.com/)"
   ]
  },
  {
   "cell_type": "markdown",
   "metadata": {
    "heading_collapsed": true,
    "hidden": true
   },
   "source": [
    "#### Reference for RegEx"
   ]
  },
  {
   "cell_type": "markdown",
   "metadata": {
    "hidden": true
   },
   "source": [
    "- [How to Match Any Pattern of Text by Corey Schafer](https://www.youtube.com/watch?v=sa-TUpSx1JA&t=1145s)\n",
    "- [How to Write and Match Regular Expressions (Regex) by Corey Schafer](https://www.youtube.com/watch?v=K8L6KVGG-7o)\n"
   ]
  },
  {
   "cell_type": "markdown",
   "metadata": {
    "hidden": true
   },
   "source": [
    "|Special Sequences| Meaning |\n",
    "|----------|----------|\n",
    "| `.`  |Any Character Except New Line|\n",
    "| `\\d` | Digit `(0-9)` |\n",
    "| `\\D` | Not a Digit `(0-9)` |\n",
    "| `\\w` | Word Character `(a-z, A-Z, 0-9, _)` |\n",
    "| `\\W` | Not a Word Character |\n",
    "| `\\s` | Whitespace (space, tab, newline) |\n",
    "| `\\S` | Not Whitespace (space, tab, newline) |"
   ]
  },
  {
   "cell_type": "markdown",
   "metadata": {
    "hidden": true
   },
   "source": [
    "|Anchore| Meaning |\n",
    "|----------|----------|\n",
    "|`\\b` | Word Boundary |\n",
    "|`\\B` | Not a Word Boundary |\n",
    "|`^` | Beginning of a String |\n",
    "|`$` | End of a String |"
   ]
  },
  {
   "cell_type": "markdown",
   "metadata": {
    "hidden": true
   },
   "source": [
    "|Characterset| Meaning |\n",
    "|----------|----------|\n",
    "|`[]`   | Matches Characters in brackets |\n",
    "|`[^ ]` | Matches Characters NOT in brackets |\n",
    "|`|`    | Either Or |\n",
    "|`( )`  | Group |"
   ]
  },
  {
   "cell_type": "markdown",
   "metadata": {
    "hidden": true
   },
   "source": [
    "|Quantifiers| Meaning |\n",
    "|----------|----------|\n",
    "|`*`       |0 or More |\n",
    "|`+`       |1 or More |\n",
    "|`?`       |0 or One |\n",
    "|`{3}`     |Exact Number |\n",
    "|`{3,4}`   |Range of Numbers `(Min, Max)` |\n",
    "    "
   ]
  },
  {
   "cell_type": "markdown",
   "metadata": {
    "hidden": true
   },
   "source": [
    "Example:\n",
    "\n",
    "- `[a-zA-Z0-9_.+-]+@[a-zA-Z0-9-]+\\.[a-zA-Z0-9-.]+`"
   ]
  },
  {
   "cell_type": "markdown",
   "metadata": {
    "heading_collapsed": true,
    "hidden": true
   },
   "source": [
    "#### RegEx in Python"
   ]
  },
  {
   "cell_type": "code",
   "execution_count": 84,
   "metadata": {
    "hidden": true
   },
   "outputs": [],
   "source": [
    "text_to_search = '''\n",
    "    abcdefghijklmnopqurtuvwxyz\n",
    "    ABCDEFGHIJKLMNOPQRSTUVWXYZ\n",
    "    1234567890\n",
    "    Ha HaHa\n",
    "    MetaCharacters (Need to be escaped):\n",
    "    . ^ $ * + ? { } [ ] \\ | ( )\n",
    "    coreyms.com\n",
    "    321-555-4321\n",
    "    123.555.1234\n",
    "    123*555*1234\n",
    "    800--555--1234\n",
    "    900-555-1234\n",
    "    Mr. Schafer\n",
    "    Mr Smith\n",
    "    Ms Davis\n",
    "    Mrs. Robinson\n",
    "    Mr. T\n",
    "'''\n",
    "\n",
    "sentence = 'Start a sentence and then bring it to an end'"
   ]
  },
  {
   "cell_type": "code",
   "execution_count": 85,
   "metadata": {
    "hidden": true
   },
   "outputs": [],
   "source": [
    "pattern = re.compile(r'\\d{3}[.-]\\d{3}[.-]\\d{4}')\n",
    "matches = pattern.finditer(text_to_search)"
   ]
  },
  {
   "cell_type": "code",
   "execution_count": 86,
   "metadata": {
    "hidden": true
   },
   "outputs": [
    {
     "name": "stdout",
     "output_type": "stream",
     "text": [
      "<re.Match object; span=(183, 195), match='321-555-4321'>\n",
      "<re.Match object; span=(200, 212), match='123.555.1234'>\n",
      "<re.Match object; span=(253, 265), match='900-555-1234'>\n"
     ]
    }
   ],
   "source": [
    "for match in matches: print(match)"
   ]
  },
  {
   "cell_type": "code",
   "execution_count": 87,
   "metadata": {
    "hidden": true
   },
   "outputs": [
    {
     "name": "stdout",
     "output_type": "stream",
     "text": [
      "<re.Match object; span=(270, 281), match='Mr. Schafer'>\n",
      "<re.Match object; span=(286, 294), match='Mr Smith'>\n",
      "<re.Match object; span=(330, 335), match='Mr. T'>\n"
     ]
    }
   ],
   "source": [
    "pattern = re.compile(r'Mr\\.? [A-Z]\\w*')\n",
    "matches = pattern.finditer(text_to_search)\n",
    "for match in matches: print(match)"
   ]
  },
  {
   "cell_type": "code",
   "execution_count": null,
   "metadata": {
    "hidden": true
   },
   "outputs": [],
   "source": []
  },
  {
   "cell_type": "code",
   "execution_count": 91,
   "metadata": {
    "hidden": true
   },
   "outputs": [
    {
     "name": "stdout",
     "output_type": "stream",
     "text": [
      "<re.Match object; span=(1, 24), match='CoreyMSchafer@gmail.com'>\n",
      "<re.Match object; span=(25, 53), match='corey.schafer@university.edu'>\n",
      "<re.Match object; span=(54, 83), match='corey-321-schafer@my-work.net'>\n",
      "<re.Match object; span=(84, 106), match='shah...Momin@gmail.com'>\n"
     ]
    }
   ],
   "source": [
    "emails = '''\n",
    "CoreyMSchafer@gmail.com\n",
    "corey.schafer@university.edu\n",
    "corey-321-schafer@my-work.net\n",
    "shah...Momin@gmail.com\n",
    "'''\n",
    "\n",
    "pattern = re.compile(r'[a-zA-Z0-9_.+-]+@[a-zA-Z0-9-]+\\.[a-zA-Z0-9-.]+')\n",
    "matches = pattern.finditer(emails)\n",
    "for match in matches: print(match)"
   ]
  },
  {
   "cell_type": "code",
   "execution_count": null,
   "metadata": {
    "hidden": true
   },
   "outputs": [],
   "source": []
  },
  {
   "cell_type": "code",
   "execution_count": 98,
   "metadata": {
    "hidden": true
   },
   "outputs": [
    {
     "name": "stdout",
     "output_type": "stream",
     "text": [
      "['California', 'Florida', 'Georgia', 'North Carolina', 'Pennsylvania', 'South Carolina', 'Virginia', 'West Virginia']\n",
      "['Alabama', 'Alaska', 'Arizona', 'Arkansas', 'California', 'Florida', 'Georgia', 'Indiana', 'Iowa', 'Kansas', 'Louisiana', 'Maryland', 'Michigan', 'Minnesota', 'Montana', 'Nebraska', 'Nevada', 'North Carolina', 'North Dakota', 'Oklahoma', 'Pennsylvania', 'Rhode Island', 'South Carolina', 'South Dakota', 'Texas', 'Utah', 'Virginia', 'West Virginia']\n"
     ]
    }
   ],
   "source": [
    "def _regex():\n",
    "    L1 = [x for x in states if re.search(r'i.?a$', x)]\n",
    "    print(L1)\n",
    "    L2 = [x for x in states if re.search(r'a[^aeiou]*$', x)]\n",
    "    print(L2)\n",
    "   \n",
    "    len([x for x in states if re.search(r'a[^aeiou]*$', x)])\n",
    "\n",
    "    \n",
    "_regex()\n"
   ]
  }
 ],
 "metadata": {
  "interpreter": {
   "hash": "31f2aee4e71d21fbe5cf8b01ff0e069b9275f58929596ceb00d14d90e3e16cd6"
  },
  "kernelspec": {
   "display_name": "Python 3 (ipykernel)",
   "language": "python",
   "name": "python3"
  },
  "language_info": {
   "codemirror_mode": {
    "name": "ipython",
    "version": 3
   },
   "file_extension": ".py",
   "mimetype": "text/x-python",
   "name": "python",
   "nbconvert_exporter": "python",
   "pygments_lexer": "ipython3",
   "version": "3.11.1"
  },
  "toc": {
   "base_numbering": 1,
   "nav_menu": {},
   "number_sections": false,
   "sideBar": true,
   "skip_h1_title": false,
   "title_cell": "Table of Contents",
   "title_sidebar": "Contents",
   "toc_cell": true,
   "toc_position": {},
   "toc_section_display": true,
   "toc_window_display": false
  }
 },
 "nbformat": 4,
 "nbformat_minor": 4
}
