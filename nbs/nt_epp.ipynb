{
 "cells": [
  {
   "cell_type": "markdown",
   "metadata": {
    "toc": true
   },
   "source": [
    "<h1>Table of Contents<span class=\"tocSkip\"></span></h1>\n",
    "<div class=\"toc\"><ul class=\"toc-item\"><li><span><a href=\"#Built-in-Functions\" data-toc-modified-id=\"Built-in-Functions-1\"><a href=\"https://docs.python.org/3/library/functions.html\" rel=\"nofollow\" target=\"_blank\">Built-in Functions</a></a></span><ul class=\"toc-item\"><li><ul class=\"toc-item\"><li><ul class=\"toc-item\"><li><span><a href=\"#range(...)-==>-iterator\" data-toc-modified-id=\"range(...)-==>-iterator-1.0.0.1\"><code>range(...) ==&gt; iterator</code></a></span></li><li><span><a href=\"#enumerate(...)-==>-iterator\" data-toc-modified-id=\"enumerate(...)-==>-iterator-1.0.0.2\"><code>enumerate(...) ==&gt; iterator</code></a></span></li><li><span><a href=\"#reversed(...)-==>-iterator\" data-toc-modified-id=\"reversed(...)-==>-iterator-1.0.0.3\"><code>reversed(...) ==&gt; iterator</code></a></span></li><li><span><a href=\"#sorted(..)-==>-new-list:\" data-toc-modified-id=\"sorted(..)-==>-new-list:-1.0.0.4\"><code>sorted(..) ==&gt; new list</code>:</a></span></li><li><span><a href=\"#zip(..)-==>-iterator\" data-toc-modified-id=\"zip(..)-==>-iterator-1.0.0.5\"><code>zip(..) ==&gt; iterator</code></a></span></li><li><span><a href=\"#filter(truthy_func,-iterable)-==->-iterator\" data-toc-modified-id=\"filter(truthy_func,-iterable)-==->-iterator-1.0.0.6\"><code>filter(truthy_func, iterable) == &gt; iterator</code></a></span></li><li><span><a href=\"#map(func,-*iterables)-==>-iterator\" data-toc-modified-id=\"map(func,-*iterables)-==>-iterator-1.0.0.7\"><code>map(func, *iterables) ==&gt; iterator</code></a></span></li><li><span><a href=\"#functools.reduce(function,-iterable[,-initializer])-==>-Value\" data-toc-modified-id=\"functools.reduce(function,-iterable[,-initializer])-==>-Value-1.0.0.8\"><code>functools.reduce(function, iterable[, initializer]) ==&gt; Value</code></a></span></li><li><span><a href=\"#itertools.accumulate(iterable[,-func,-*,-initial=None])-==>-iterator\" data-toc-modified-id=\"itertools.accumulate(iterable[,-func,-*,-initial=None])-==>-iterator-1.0.0.9\"><a href=\"https://docs.python.org/3/library/itertools.html#itertools.accumulate\" rel=\"nofollow\" target=\"_blank\"><code>itertools.accumulate(iterable[, func, *, initial=None])</code></a> ==&gt; <code>iterator</code></a></span></li><li><span><a href=\"#itertools.groupby(...)\" data-toc-modified-id=\"itertools.groupby(...)-1.0.0.10\"><code>itertools.groupby(...)</code></a></span></li><li><span><a href=\"#bytes():\" data-toc-modified-id=\"bytes():-1.0.0.11\"><code>bytes()</code>:</a></span></li><li><span><a href=\"#bytearray(...)\" data-toc-modified-id=\"bytearray(...)-1.0.0.12\"><code>bytearray(...)</code></a></span></li><li><span><a href=\"#any()-/-all():-References\" data-toc-modified-id=\"any()-/-all():-References-1.0.0.13\"><code>any()</code> / <code>all()</code>: <a href=\"https://www.w3schools.com/python/ref_func_all.asp\" rel=\"nofollow\" target=\"_blank\">References</a></a></span></li><li><span><a href=\"#dir(...):\" data-toc-modified-id=\"dir(...):-1.0.0.14\"><code>dir(...)</code>:</a></span></li><li><span><a href=\"#format(...)\" data-toc-modified-id=\"format(...)-1.0.0.15\"><code>format(...)</code></a></span></li><li><span><a href=\"#help():\" data-toc-modified-id=\"help():-1.0.0.16\"><code>help()</code>:</a></span></li><li><span><a href=\"#object():\" data-toc-modified-id=\"object():-1.0.0.17\"><code>object()</code>:</a></span></li><li><span><a href=\"#print(...)\" data-toc-modified-id=\"print(...)-1.0.0.18\"><code>print(...)</code></a></span></li><li><span><a href=\"#functools.lru_cache(..)\" data-toc-modified-id=\"functools.lru_cache(..)-1.0.0.19\"><code>functools.lru_cache(..)</code></a></span></li><li><span><a href=\"#slice(..):\" data-toc-modified-id=\"slice(..):-1.0.0.20\"><code>slice(..)</code>:</a></span></li><li><span><a href=\"#iter(..):\" data-toc-modified-id=\"iter(..):-1.0.0.21\"><code>iter(..)</code>:</a></span></li><li><span><a href=\"#open(..):\" data-toc-modified-id=\"open(..):-1.0.0.22\"><code>open(..)</code>:</a></span></li><li><span><a href=\"#min()/max()\" data-toc-modified-id=\"min()/max()-1.0.0.23\"><code>min()</code>/<code>max()</code></a></span></li><li><span><a href=\"#ord(...)/chr(...)/id(...)\" data-toc-modified-id=\"ord(...)/chr(...)/id(...)-1.0.0.24\"><code>ord(...)</code>/<code>chr(...)</code>/<code>id(...)</code></a></span></li><li><span><a href=\"#setattr()/getattr()\" data-toc-modified-id=\"setattr()/getattr()-1.0.0.25\"><code>setattr()</code>/<code>getattr()</code></a></span></li><li><span><a href=\"#isinstance()/issubclass()\" data-toc-modified-id=\"isinstance()/issubclass()-1.0.0.26\"><code>isinstance()</code>/<code>issubclass()</code></a></span></li><li><span><a href=\"#divmod(a,-b)\" data-toc-modified-id=\"divmod(a,-b)-1.0.0.27\"><code>divmod(a, b)</code></a></span></li></ul></li></ul></li></ul></li><li><span><a href=\"#Collection-Interface\" data-toc-modified-id=\"Collection-Interface-2\">Collection Interface</a></span><ul class=\"toc-item\"><li><ul class=\"toc-item\"><li><span><a href=\"#list:\" data-toc-modified-id=\"list:-2.0.1\">list:</a></span></li><li><span><a href=\"#dict\" data-toc-modified-id=\"dict-2.0.2\">dict</a></span><ul class=\"toc-item\"><li><span><a href=\"#collections.Counter:\" data-toc-modified-id=\"collections.Counter:-2.0.2.1\">collections.Counter:</a></span></li><li><span><a href=\"#collections.OrderedDict:\" data-toc-modified-id=\"collections.OrderedDict:-2.0.2.2\">collections.OrderedDict:</a></span></li><li><span><a href=\"#collections.defaultdict\" data-toc-modified-id=\"collections.defaultdict-2.0.2.3\">collections.defaultdict</a></span></li></ul></li><li><span><a href=\"#set:\" data-toc-modified-id=\"set:-2.0.3\">set:</a></span></li><li><span><a href=\"#tuple\" data-toc-modified-id=\"tuple-2.0.4\">tuple</a></span></li><li><span><a href=\"#str:\" data-toc-modified-id=\"str:-2.0.5\">str:</a></span><ul class=\"toc-item\"><li><span><a href=\"#str\" data-toc-modified-id=\"str-2.0.5.1\">str</a></span></li></ul></li><li><span><a href=\"#collections.namedtuple:\" data-toc-modified-id=\"collections.namedtuple:-2.0.6\">collections.namedtuple:</a></span></li><li><span><a href=\"#collections.deque:\" data-toc-modified-id=\"collections.deque:-2.0.7\">collections.deque:</a></span></li><li><span><a href=\"#heapq-(PriorityQueue)\" data-toc-modified-id=\"heapq-(PriorityQueue)-2.0.8\">heapq (PriorityQueue)</a></span><ul class=\"toc-item\"><li><span><a href=\"#Min-Priority-Queue\" data-toc-modified-id=\"Min-Priority-Queue-2.0.8.1\">Min Priority Queue</a></span></li><li><span><a href=\"#Max-Priority-Queue-out-of-Min-Priority-Queue:\" data-toc-modified-id=\"Max-Priority-Queue-out-of-Min-Priority-Queue:-2.0.8.2\">Max Priority Queue out of Min Priority Queue:</a></span></li></ul></li></ul></li></ul></li><li><span><a href=\"#Pythonic-Concepts\" data-toc-modified-id=\"Pythonic-Concepts-3\">Pythonic Concepts</a></span><ul class=\"toc-item\"><li><span><a href=\"#Comprehension\" data-toc-modified-id=\"Comprehension-3.1\">Comprehension</a></span><ul class=\"toc-item\"><li><span><a href=\"#List-Comprehension\" data-toc-modified-id=\"List-Comprehension-3.1.1\">List Comprehension</a></span></li><li><span><a href=\"#Dict-Comprehension\" data-toc-modified-id=\"Dict-Comprehension-3.1.2\">Dict Comprehension</a></span></li><li><span><a href=\"#Set-Comprehension\" data-toc-modified-id=\"Set-Comprehension-3.1.3\">Set Comprehension</a></span></li><li><span><a href=\"#Python-List-Comprehension-Lambda-Closure:\" data-toc-modified-id=\"Python-List-Comprehension-Lambda-Closure:-3.1.4\">Python List Comprehension Lambda Closure:</a></span></li></ul></li><li><span><a href=\"#Parameters\" data-toc-modified-id=\"Parameters-3.2\"><a href=\"https://docs.python.org/3/glossary.html#term-parameter\" rel=\"nofollow\" target=\"_blank\">Parameters</a></a></span></li><li><span><a href=\"#Context-Manager\" data-toc-modified-id=\"Context-Manager-3.3\">Context Manager</a></span><ul class=\"toc-item\"><li><ul class=\"toc-item\"><li><span><a href=\"#Context-Manager-In-Details\" data-toc-modified-id=\"Context-Manager-In-Details-3.3.0.1\"><a href=\"https://www.youtube.com/watch?v=14z_Tf3p2Mw\" rel=\"nofollow\" target=\"_blank\">Context Manager In Details</a></a></span></li></ul></li></ul></li><li><span><a href=\"#Decorator\" data-toc-modified-id=\"Decorator-3.4\">Decorator</a></span><ul class=\"toc-item\"><li><ul class=\"toc-item\"><li><span><a href=\"#Decorator:-Corey-Scheifer\" data-toc-modified-id=\"Decorator:-Corey-Scheifer-3.4.0.1\"><a href=\"https://www.youtube.com/watch?v=FsAPt_9Bf3U\" rel=\"nofollow\" target=\"_blank\">Decorator: Corey Scheifer</a></a></span></li></ul></li></ul></li><li><span><a href=\"#Iterator\" data-toc-modified-id=\"Iterator-3.5\">Iterator</a></span></li><li><span><a href=\"#Generator\" data-toc-modified-id=\"Generator-3.6\">Generator</a></span><ul class=\"toc-item\"><li><ul class=\"toc-item\"><li><span><a href=\"#Create-a-generator-of-Fibonacci\" data-toc-modified-id=\"Create-a-generator-of-Fibonacci-3.6.0.1\">Create a generator of Fibonacci</a></span></li></ul></li></ul></li><li><span><a href=\"#Itertools,-Functools-and-Operators\" data-toc-modified-id=\"Itertools,-Functools-and-Operators-3.7\">Itertools, Functools and Operators</a></span><ul class=\"toc-item\"><li><ul class=\"toc-item\"><li><span><a href=\"#operator.attrgetter\" data-toc-modified-id=\"operator.attrgetter-3.7.0.1\"><code>operator.attrgetter</code></a></span></li></ul></li></ul></li></ul></li><li><span><a href=\"#Concurency\" data-toc-modified-id=\"Concurency-4\">Concurency</a></span></li></ul></div>"
   ]
  },
  {
   "cell_type": "code",
   "execution_count": 21,
   "metadata": {
    "jupyter": {
     "outputs_hidden": true
    },
    "tags": []
   },
   "outputs": [],
   "source": [
    "from random import randint, randrange, choice, choices, sample, shuffle\n",
    "from collections import Counter, namedtuple, deque, OrderedDict, defaultdict\n",
    "from collections.abc import Iterable, Iterator\n",
    "from itertools import accumulate, groupby, product, permutations, combinations\n",
    "import functools\n",
    "from math import *\n",
    "import os, string, pickle, time, builtins, math, shutil, re, heapq\n",
    "import collections\n",
    "import collections.abc as abc\n",
    "from matplotlib import pyplot as plt"
   ]
  },
  {
   "cell_type": "code",
   "execution_count": 7,
   "metadata": {
    "tags": []
   },
   "outputs": [],
   "source": [
    "# os.environ\n",
    "# sys.path.append(DS_UTILS)\n",
    "# sys.path"
   ]
  },
  {
   "cell_type": "code",
   "execution_count": 8,
   "metadata": {},
   "outputs": [],
   "source": [
    "from ads.utils import *\n",
    "import inspect"
   ]
  },
  {
   "cell_type": "code",
   "execution_count": 9,
   "metadata": {
    "tags": []
   },
   "outputs": [],
   "source": [
    "UTILS = os.environ['UTILS']\n",
    "ADS = os.environ['ADS']"
   ]
  },
  {
   "cell_type": "code",
   "execution_count": 10,
   "metadata": {},
   "outputs": [
    {
     "data": {
      "text/plain": [
       "{'ZERO': 0, 'TEN': 10, 'TWENTY': 20, 'THIRTY': 30, 'FORTY': 40, 'FIFTY': 50}"
      ]
     },
     "execution_count": 10,
     "metadata": {},
     "output_type": "execute_result"
    }
   ],
   "source": [
    "NUMBERS"
   ]
  },
  {
   "cell_type": "code",
   "execution_count": 51,
   "metadata": {
    "tags": []
   },
   "outputs": [],
   "source": [
    "# %run UTILS+'/dsutils.py'"
   ]
  },
  {
   "cell_type": "code",
   "execution_count": 18,
   "metadata": {},
   "outputs": [],
   "source": [
    "# help(inspect.getdoc)"
   ]
  },
  {
   "cell_type": "code",
   "execution_count": 17,
   "metadata": {},
   "outputs": [
    {
     "data": {
      "text/plain": [
       "'Built-in mutable sequence.\\n\\nIf no argument is given, the constructor creates a new empty list.\\nThe argument must be an iterable if specified.'"
      ]
     },
     "execution_count": 17,
     "metadata": {},
     "output_type": "execute_result"
    }
   ],
   "source": [
    "inspect.getdoc(list)"
   ]
  },
  {
   "cell_type": "code",
   "execution_count": 22,
   "metadata": {},
   "outputs": [
    {
     "data": {
      "text/plain": [
       "<Signature (typename, field_names, *, rename=False, defaults=None, module=None)>"
      ]
     },
     "execution_count": 22,
     "metadata": {},
     "output_type": "execute_result"
    }
   ],
   "source": [
    "inspect.signature(namedtuple)"
   ]
  },
  {
   "cell_type": "markdown",
   "metadata": {},
   "source": [
    "- [PYTHON-101](https://python101.pythonlibrary.org/index.html)\n",
    "- [Glossary](https://docs.python.org/3/glossary.html#term-qualified-name)\n",
    "\n",
    "- [Python 3.10.4 documentation](https://docs.python.org/3/)\n",
    "\n",
    "- [Generic Fundamentals of Python](https://www.interviewbit.com/python-interview-questions/)\n",
    "\n",
    "- [Corey: Preparing for a Python Interview: 10 Things You Should Know](https://www.youtube.com/watch?v=DEwgZNC-KyE&list=RDCMUCCezIgC97PvUuR4_gbFUs5g&index=4)\n",
    "\n",
    "- [InterviewBit: Python Interview Questions](https://www.interviewbit.com/python-interview-questions/)\n",
    "\n",
    "- [InterviewBit: Django Interview Questions](https://www.interviewbit.com/django-interview-questions/)"
   ]
  },
  {
   "cell_type": "markdown",
   "metadata": {
    "heading_collapsed": true,
    "jp-MarkdownHeadingCollapsed": true,
    "tags": []
   },
   "source": [
    "# [Built-in Functions](https://docs.python.org/3/library/functions.html)"
   ]
  },
  {
   "cell_type": "code",
   "execution_count": 77,
   "metadata": {
    "hidden": true
   },
   "outputs": [],
   "source": [
    "# print(dir(object), dir(type), sep='\\n')"
   ]
  },
  {
   "cell_type": "code",
   "execution_count": 78,
   "metadata": {
    "hidden": true
   },
   "outputs": [
    {
     "data": {
      "text/plain": [
       "True"
      ]
     },
     "execution_count": 78,
     "metadata": {},
     "output_type": "execute_result"
    }
   ],
   "source": [
    "issubclass(type, object)"
   ]
  },
  {
   "cell_type": "code",
   "execution_count": 3,
   "metadata": {
    "hidden": true
   },
   "outputs": [
    {
     "name": "stdout",
     "output_type": "stream",
     "text": [
      "Help on built-in function hasattr in module builtins:\n",
      "\n",
      "hasattr(obj, name, /)\n",
      "    Return whether the object has an attribute with the given name.\n",
      "    \n",
      "    This is done by calling getattr(obj, name) and catching AttributeError.\n",
      "\n"
     ]
    }
   ],
   "source": [
    "help(hasattr)"
   ]
  },
  {
   "cell_type": "code",
   "execution_count": 7,
   "metadata": {
    "hidden": true,
    "scrolled": true
   },
   "outputs": [
    {
     "data": {
      "text/plain": [
       "type"
      ]
     },
     "execution_count": 7,
     "metadata": {},
     "output_type": "execute_result"
    }
   ],
   "source": [
    "getattr(object, '__class__')"
   ]
  },
  {
   "cell_type": "code",
   "execution_count": 76,
   "metadata": {
    "hidden": true,
    "scrolled": true
   },
   "outputs": [
    {
     "data": {
      "text/plain": [
       "type"
      ]
     },
     "execution_count": 76,
     "metadata": {},
     "output_type": "execute_result"
    }
   ],
   "source": [
    "object.__class__"
   ]
  },
  {
   "cell_type": "markdown",
   "metadata": {
    "heading_collapsed": true,
    "hidden": true,
    "jp-MarkdownHeadingCollapsed": true,
    "tags": []
   },
   "source": [
    "#### `range(...) ==> iterator`"
   ]
  },
  {
   "cell_type": "code",
   "execution_count": 15,
   "metadata": {
    "hidden": true
   },
   "outputs": [
    {
     "data": {
      "text/plain": [
       "range"
      ]
     },
     "execution_count": 15,
     "metadata": {},
     "output_type": "execute_result"
    }
   ],
   "source": [
    "type(range(5))"
   ]
  },
  {
   "cell_type": "code",
   "execution_count": 37,
   "metadata": {
    "hidden": true
   },
   "outputs": [
    {
     "name": "stdout",
     "output_type": "stream",
     "text": [
      "range(0, 10)\n",
      "[0, 1, 2, 3, 4, 5, 6, 7, 8, 9]\n",
      "[1, 2, 3, 4]\n",
      "[10, 12, 14, 16, 18, 20]\n",
      "[10, 9, 8, 7, 6, 5, 4, 3, 2, 1]\n",
      "[10, 9, 8, 7, 6, 5, 4, 3, 2, 1, 0]\n"
     ]
    }
   ],
   "source": [
    "print(range(10))\n",
    "print([*range(10)])\n",
    "print([*range(1, 5)])\n",
    "print([i for i in range(10, 21, 2)])\n",
    "print([i for i in range(10, 0, -1)])\n",
    "print([i for i in range(10, -1, -1)])"
   ]
  },
  {
   "cell_type": "markdown",
   "metadata": {
    "heading_collapsed": true,
    "hidden": true,
    "jp-MarkdownHeadingCollapsed": true,
    "tags": []
   },
   "source": [
    "#### `enumerate(...) ==> iterator`"
   ]
  },
  {
   "cell_type": "markdown",
   "metadata": {
    "hidden": true
   },
   "source": [
    "- `enumerate` object is not reversable, meaning, `reversed(enumerate(range(5)))` generates error !\n",
    "- To Achive the same effect, you can do: `reversed(list(enumerate(range(5))))`"
   ]
  },
  {
   "cell_type": "code",
   "execution_count": 8,
   "metadata": {
    "hidden": true
   },
   "outputs": [],
   "source": [
    "enum = enumerate([*range(5)], 3)"
   ]
  },
  {
   "cell_type": "code",
   "execution_count": 30,
   "metadata": {
    "hidden": true
   },
   "outputs": [
    {
     "data": {
      "text/plain": [
       "enumerate"
      ]
     },
     "execution_count": 30,
     "metadata": {},
     "output_type": "execute_result"
    }
   ],
   "source": [
    "type(enum)"
   ]
  },
  {
   "cell_type": "code",
   "execution_count": 25,
   "metadata": {
    "hidden": true
   },
   "outputs": [
    {
     "data": {
      "text/plain": [
       "True"
      ]
     },
     "execution_count": 25,
     "metadata": {},
     "output_type": "execute_result"
    }
   ],
   "source": [
    "isinstance(enum, Iterator)"
   ]
  },
  {
   "cell_type": "code",
   "execution_count": 31,
   "metadata": {
    "hidden": true
   },
   "outputs": [],
   "source": [
    "# issubclass(enum, (object, Iterator))"
   ]
  },
  {
   "cell_type": "code",
   "execution_count": 11,
   "metadata": {
    "hidden": true
   },
   "outputs": [
    {
     "name": "stdout",
     "output_type": "stream",
     "text": [
      "3: 50\n",
      "4: 60\n",
      "5: 70\n",
      "6: 80\n",
      "7: 90\n",
      "8: 100\n"
     ]
    }
   ],
   "source": [
    "for key, val in enumerate([*range(50, 110, 10)], 3): print(f\"{key}: {val}\")"
   ]
  },
  {
   "cell_type": "code",
   "execution_count": 7,
   "metadata": {
    "hidden": true
   },
   "outputs": [
    {
     "data": {
      "text/plain": [
       "[(2, (0, 5)), (3, (1, 4)), (4, (2, 3)), (5, (3, 2)), (6, (4, 1))]"
      ]
     },
     "execution_count": 7,
     "metadata": {},
     "output_type": "execute_result"
    }
   ],
   "source": [
    "[*enumerate(zip([*range(5)], [*range(5,0,-1)]), 2)]"
   ]
  },
  {
   "cell_type": "code",
   "execution_count": 16,
   "metadata": {
    "code_folding": [],
    "hidden": true
   },
   "outputs": [
    {
     "name": "stdout",
     "output_type": "stream",
     "text": [
      "[(0, 'ZERO'), (1, 'TEN'), (2, 'TWENTY'), (3, 'THIRTY'), (4, 'FORTY'), (5, 'FIFTY')]\n"
     ]
    }
   ],
   "source": [
    "S = [*enumerate(NUMBERS)]; print(S)"
   ]
  },
  {
   "cell_type": "code",
   "execution_count": 12,
   "metadata": {
    "hidden": true
   },
   "outputs": [],
   "source": [
    "dictionary = {val: key for key, val in NUMBERS.items()}"
   ]
  },
  {
   "cell_type": "code",
   "execution_count": 13,
   "metadata": {
    "hidden": true
   },
   "outputs": [
    {
     "data": {
      "text/plain": [
       "{(0, 0), (1, 10), (2, 20), (3, 30), (4, 40), (5, 50)}"
      ]
     },
     "execution_count": 13,
     "metadata": {},
     "output_type": "execute_result"
    }
   ],
   "source": [
    "{*enumerate(dictionary)}"
   ]
  },
  {
   "cell_type": "code",
   "execution_count": 18,
   "metadata": {
    "code_folding": [],
    "hidden": true
   },
   "outputs": [],
   "source": [
    "T = {*enumerate(sorted(S))}  # type(T) -> <class 'set'>\n",
    "T = (*enumerate(reversed(S)), )  # type(T) -> <class 'tuple'>"
   ]
  },
  {
   "cell_type": "markdown",
   "metadata": {
    "heading_collapsed": true,
    "hidden": true,
    "jp-MarkdownHeadingCollapsed": true,
    "tags": []
   },
   "source": [
    "#### `reversed(...) ==> iterator`"
   ]
  },
  {
   "cell_type": "code",
   "execution_count": 21,
   "metadata": {
    "hidden": true
   },
   "outputs": [],
   "source": [
    "# help(reversed)"
   ]
  },
  {
   "cell_type": "code",
   "execution_count": 26,
   "metadata": {
    "hidden": true
   },
   "outputs": [
    {
     "data": {
      "text/plain": [
       "[4, 3, 2, 1, 0]"
      ]
     },
     "execution_count": 26,
     "metadata": {},
     "output_type": "execute_result"
    }
   ],
   "source": [
    "rev = [*reversed([*range(5)])]; rev"
   ]
  },
  {
   "cell_type": "code",
   "execution_count": 24,
   "metadata": {
    "hidden": true
   },
   "outputs": [
    {
     "data": {
      "text/plain": [
       "<list_reverseiterator at 0x7fb22c49e590>"
      ]
     },
     "execution_count": 24,
     "metadata": {},
     "output_type": "execute_result"
    }
   ],
   "source": [
    "reversed([*range(5)])"
   ]
  },
  {
   "cell_type": "markdown",
   "metadata": {
    "hidden": true
   },
   "source": [
    "- **Taking reverse of enumerate object is not possibly directly!**"
   ]
  },
  {
   "cell_type": "code",
   "execution_count": 29,
   "metadata": {
    "hidden": true
   },
   "outputs": [],
   "source": [
    "# reversed(enumerate(L)) # TypeError: 'enumerate' object is not reversible"
   ]
  },
  {
   "cell_type": "code",
   "execution_count": 31,
   "metadata": {
    "hidden": true
   },
   "outputs": [
    {
     "data": {
      "text/plain": [
       "<list_reverseiterator at 0x7fb22c49fee0>"
      ]
     },
     "execution_count": 31,
     "metadata": {},
     "output_type": "execute_result"
    }
   ],
   "source": [
    "reversed(list(enumerate(L)))"
   ]
  },
  {
   "cell_type": "code",
   "execution_count": 39,
   "metadata": {
    "hidden": true
   },
   "outputs": [
    {
     "data": {
      "text/plain": [
       "[(4, 4), (3, 3), (2, 2), (1, 1), (0, 0)]"
      ]
     },
     "execution_count": 39,
     "metadata": {},
     "output_type": "execute_result"
    }
   ],
   "source": [
    "[*reversed(list(enumerate(L)))]"
   ]
  },
  {
   "cell_type": "markdown",
   "metadata": {
    "heading_collapsed": true,
    "hidden": true,
    "jp-MarkdownHeadingCollapsed": true,
    "tags": []
   },
   "source": [
    "#### `sorted(..) ==> new list`:"
   ]
  },
  {
   "cell_type": "code",
   "execution_count": 1,
   "metadata": {
    "hidden": true
   },
   "outputs": [],
   "source": [
    "# help(sorted)"
   ]
  },
  {
   "cell_type": "code",
   "execution_count": 55,
   "metadata": {
    "hidden": true
   },
   "outputs": [],
   "source": [
    "participant_list = {\n",
    "    ('Alison', 50, 18),\n",
    "    ('Terence', 75, 12),\n",
    "    ('David', 75, 20),\n",
    "    ('Jimmy', 90, 22),\n",
    "    ('John', 45, 12),\n",
    "    ('Adam', 45, 12)\n",
    "}"
   ]
  },
  {
   "cell_type": "code",
   "execution_count": 56,
   "metadata": {
    "hidden": true
   },
   "outputs": [
    {
     "data": {
      "text/plain": [
       "[('Adam', 45, 12),\n",
       " ('Alison', 50, 18),\n",
       " ('David', 75, 20),\n",
       " ('Jimmy', 90, 22),\n",
       " ('John', 45, 12),\n",
       " ('Terence', 75, 12)]"
      ]
     },
     "execution_count": 56,
     "metadata": {},
     "output_type": "execute_result"
    }
   ],
   "source": [
    "sorted_list = sorted(participant_list); sorted_list"
   ]
  },
  {
   "cell_type": "code",
   "execution_count": 57,
   "metadata": {
    "hidden": true
   },
   "outputs": [
    {
     "data": {
      "text/plain": [
       "list"
      ]
     },
     "execution_count": 57,
     "metadata": {},
     "output_type": "execute_result"
    }
   ],
   "source": [
    "type(sorted_list)"
   ]
  },
  {
   "cell_type": "code",
   "execution_count": 58,
   "metadata": {
    "hidden": true
   },
   "outputs": [
    {
     "data": {
      "text/plain": [
       "[('John', 45, 12),\n",
       " ('Adam', 45, 12),\n",
       " ('Alison', 50, 18),\n",
       " ('Terence', 75, 12),\n",
       " ('David', 75, 20),\n",
       " ('Jimmy', 90, 22)]"
      ]
     },
     "execution_count": 58,
     "metadata": {},
     "output_type": "execute_result"
    }
   ],
   "source": [
    "sorted_list = sorted(participant_list, key=lambda item: (item[1], item[2])); sorted_list"
   ]
  },
  {
   "cell_type": "code",
   "execution_count": 42,
   "metadata": {
    "hidden": true
   },
   "outputs": [
    {
     "data": {
      "text/plain": [
       "[('Jimmy', 90, 22),\n",
       " ('David', 75, 20),\n",
       " ('Terence', 75, 12),\n",
       " ('Alison', 50, 18),\n",
       " ('John', 45, 12),\n",
       " ('Adam', 45, 12)]"
      ]
     },
     "execution_count": 42,
     "metadata": {},
     "output_type": "execute_result"
    }
   ],
   "source": [
    "sorted_list = sorted(participant_list, key=lambda item: (item[1], item[2]), reverse=True); sorted_list"
   ]
  },
  {
   "cell_type": "code",
   "execution_count": 37,
   "metadata": {
    "hidden": true
   },
   "outputs": [
    {
     "data": {
      "text/plain": [
       "[('Jimmy', 90, 22),\n",
       " ('Terence', 75, 12),\n",
       " ('David', 75, 20),\n",
       " ('Alison', 50, 18),\n",
       " ('John', 45, 12),\n",
       " ('Adam', 45, 12)]"
      ]
     },
     "execution_count": 37,
     "metadata": {},
     "output_type": "execute_result"
    }
   ],
   "source": [
    "sorted_list = sorted(participant_list, key=lambda item: (-item[1], item[2])); sorted_list"
   ]
  },
  {
   "cell_type": "code",
   "execution_count": 35,
   "metadata": {
    "hidden": true,
    "scrolled": true
   },
   "outputs": [
    {
     "data": {
      "text/plain": [
       "[('Jimmy', 90, 22),\n",
       " ('Terence', 75, 12),\n",
       " ('David', 75, 20),\n",
       " ('Alison', 50, 18),\n",
       " ('John', 45, 12),\n",
       " ('Adam', 45, 12)]"
      ]
     },
     "execution_count": 35,
     "metadata": {},
     "output_type": "execute_result"
    }
   ],
   "source": [
    "sorted_list = sorted(participant_list, key=lambda item: (100-item[1], item[2])); sorted_list"
   ]
  },
  {
   "cell_type": "code",
   "execution_count": 8,
   "metadata": {
    "hidden": true
   },
   "outputs": [
    {
     "name": "stdout",
     "output_type": "stream",
     "text": [
      "['banana', 'apple', 'date', 'cherry']\n"
     ]
    }
   ],
   "source": [
    "prices = {\"apple\": 2.99, \"banana\": 1.49, \"cherry\": 4.99, \"date\": 3.25}\n",
    "sorted_price = sorted(prices, key=prices.get)\n",
    "print(sorted_price)"
   ]
  },
  {
   "cell_type": "markdown",
   "metadata": {
    "heading_collapsed": true,
    "hidden": true,
    "jp-MarkdownHeadingCollapsed": true,
    "tags": []
   },
   "source": [
    "#### `zip(..) ==> iterator`"
   ]
  },
  {
   "cell_type": "code",
   "execution_count": 68,
   "metadata": {
    "hidden": true
   },
   "outputs": [],
   "source": [
    "# help(zip)"
   ]
  },
  {
   "cell_type": "code",
   "execution_count": null,
   "metadata": {
    "hidden": true
   },
   "outputs": [],
   "source": [
    "zip([*range(5)], [*range(5,0,-1)])"
   ]
  },
  {
   "cell_type": "code",
   "execution_count": null,
   "metadata": {
    "hidden": true
   },
   "outputs": [],
   "source": [
    "zip(range(5), range(5,0,-1))"
   ]
  },
  {
   "cell_type": "code",
   "execution_count": null,
   "metadata": {
    "hidden": true
   },
   "outputs": [],
   "source": [
    "[*zip(range(5), range(4,-1,-1))]"
   ]
  },
  {
   "cell_type": "code",
   "execution_count": 46,
   "metadata": {
    "hidden": true
   },
   "outputs": [],
   "source": [
    "L1 = [1, 'Z', 'Z', 2, 3, 4, 'A'] \n",
    "L2 = [4, 'Z', 'Z', 3, 2, 1]"
   ]
  },
  {
   "cell_type": "code",
   "execution_count": 47,
   "metadata": {
    "hidden": true
   },
   "outputs": [
    {
     "data": {
      "text/plain": [
       "[(1, 4), ('Z', 'Z'), ('Z', 'Z'), (2, 3), (3, 2), (4, 1)]"
      ]
     },
     "execution_count": 47,
     "metadata": {},
     "output_type": "execute_result"
    }
   ],
   "source": [
    "LZ = [*zip(L1, L2)]; LZ"
   ]
  },
  {
   "cell_type": "code",
   "execution_count": 48,
   "metadata": {
    "hidden": true
   },
   "outputs": [
    {
     "data": {
      "text/plain": [
       "{('Z', 'Z'), (1, 4), (2, 3), (3, 2), (4, 1)}"
      ]
     },
     "execution_count": 48,
     "metadata": {},
     "output_type": "execute_result"
    }
   ],
   "source": [
    "SZ = {*zip(L1, L2)}; SZ # onordered set"
   ]
  },
  {
   "cell_type": "code",
   "execution_count": 49,
   "metadata": {
    "hidden": true
   },
   "outputs": [
    {
     "data": {
      "text/plain": [
       "((1, 4), ('Z', 'Z'), ('Z', 'Z'), (2, 3), (3, 2), (4, 1))"
      ]
     },
     "execution_count": 49,
     "metadata": {},
     "output_type": "execute_result"
    }
   ],
   "source": [
    "TZ = (*zip(L1, L2),); TZ"
   ]
  },
  {
   "cell_type": "markdown",
   "metadata": {
    "heading_collapsed": true,
    "hidden": true,
    "jp-MarkdownHeadingCollapsed": true,
    "tags": []
   },
   "source": [
    "#### `filter(truthy_func, iterable) == > iterator`"
   ]
  },
  {
   "cell_type": "markdown",
   "metadata": {
    "hidden": true
   },
   "source": [
    "- Construct an iterator from those elements of iterable for which given function returns true.\n",
    "- Iterable may be either a sequence, a container which supports iteration, or an iterator. \n",
    "- If function is None, the identity function is assumed, that is, all elements of iterable that are false are removed."
   ]
  },
  {
   "cell_type": "code",
   "execution_count": 56,
   "metadata": {
    "hidden": true
   },
   "outputs": [],
   "source": [
    "# help(filter)"
   ]
  },
  {
   "cell_type": "markdown",
   "metadata": {
    "hidden": true
   },
   "source": [
    "- `filter(function, iterable)` == [`item for item in iterable if function(item)`] if function is not None."
   ]
  },
  {
   "cell_type": "code",
   "execution_count": 57,
   "metadata": {
    "hidden": true
   },
   "outputs": [
    {
     "data": {
      "text/plain": [
       "[0, 11, 22, 33, 44]"
      ]
     },
     "execution_count": 57,
     "metadata": {},
     "output_type": "execute_result"
    }
   ],
   "source": [
    "[*filter(lambda x: x%11 == 0, range(50))]"
   ]
  },
  {
   "cell_type": "code",
   "execution_count": 58,
   "metadata": {
    "hidden": true
   },
   "outputs": [
    {
     "data": {
      "text/plain": [
       "[1, 2, 3, 4]"
      ]
     },
     "execution_count": 58,
     "metadata": {},
     "output_type": "execute_result"
    }
   ],
   "source": [
    "[*filter(lambda x: x**2, range(5))]"
   ]
  },
  {
   "cell_type": "markdown",
   "metadata": {
    "hidden": true
   },
   "source": [
    "- `filter(function, iterable)` == [`item for item in iterable if item`] if function is None."
   ]
  },
  {
   "cell_type": "code",
   "execution_count": 59,
   "metadata": {
    "hidden": true
   },
   "outputs": [
    {
     "data": {
      "text/plain": [
       "[True, True, True, True, True]"
      ]
     },
     "execution_count": 59,
     "metadata": {},
     "output_type": "execute_result"
    }
   ],
   "source": [
    "[*filter(None, [bool(randint(0,1)) for _ in range(10)])]"
   ]
  },
  {
   "cell_type": "markdown",
   "metadata": {
    "heading_collapsed": true,
    "hidden": true,
    "jp-MarkdownHeadingCollapsed": true,
    "tags": []
   },
   "source": [
    "#### `map(func, *iterables) ==> iterator`"
   ]
  },
  {
   "cell_type": "markdown",
   "metadata": {
    "hidden": true
   },
   "source": [
    "```\n",
    "map(func, *iterables) --> map object\n",
    "\n",
    "Make an iterator that computes the function using arguments from\n",
    "each of the iterables.  Stops when the shortest iterable is exhausted.\n",
    "```"
   ]
  },
  {
   "cell_type": "code",
   "execution_count": 6,
   "metadata": {
    "hidden": true,
    "scrolled": true
   },
   "outputs": [],
   "source": [
    "# help(map)"
   ]
  },
  {
   "cell_type": "code",
   "execution_count": 16,
   "metadata": {
    "hidden": true
   },
   "outputs": [],
   "source": [
    "import math"
   ]
  },
  {
   "cell_type": "code",
   "execution_count": 20,
   "metadata": {
    "hidden": true
   },
   "outputs": [],
   "source": [
    "def square(x): return x**2"
   ]
  },
  {
   "cell_type": "code",
   "execution_count": 21,
   "metadata": {
    "hidden": true
   },
   "outputs": [
    {
     "data": {
      "text/plain": [
       "<map at 0x7f78cfb6ce20>"
      ]
     },
     "execution_count": 21,
     "metadata": {},
     "output_type": "execute_result"
    }
   ],
   "source": [
    "mapping = map(math.sqrt, [x**2 for x in range(2, 32, 4)]); mapping"
   ]
  },
  {
   "cell_type": "code",
   "execution_count": 22,
   "metadata": {
    "hidden": true
   },
   "outputs": [
    {
     "data": {
      "text/plain": [
       "map"
      ]
     },
     "execution_count": 22,
     "metadata": {},
     "output_type": "execute_result"
    }
   ],
   "source": [
    "type(mapping)"
   ]
  },
  {
   "cell_type": "code",
   "execution_count": 23,
   "metadata": {
    "hidden": true
   },
   "outputs": [
    {
     "data": {
      "text/plain": [
       "[2.0, 6.0, 10.0, 14.0, 18.0, 22.0, 26.0, 30.0]"
      ]
     },
     "execution_count": 23,
     "metadata": {},
     "output_type": "execute_result"
    }
   ],
   "source": [
    "[*map(math.sqrt, [x**2 for x in range(2, 32, 4)])]"
   ]
  },
  {
   "cell_type": "code",
   "execution_count": 5,
   "metadata": {
    "hidden": true
   },
   "outputs": [
    {
     "data": {
      "text/plain": [
       "[0, 1, 4, 9, 16]"
      ]
     },
     "execution_count": 5,
     "metadata": {},
     "output_type": "execute_result"
    }
   ],
   "source": [
    "list(map(lambda x: x**2, range(5)))"
   ]
  },
  {
   "cell_type": "markdown",
   "metadata": {
    "hidden": true
   },
   "source": [
    "<font color='red'> Two-argument function into `map(...)"
   ]
  },
  {
   "cell_type": "code",
   "execution_count": 24,
   "metadata": {
    "hidden": true
   },
   "outputs": [
    {
     "data": {
      "text/plain": [
       "[1.0, 1.0, 4.0, 27.0, 256.0]"
      ]
     },
     "execution_count": 24,
     "metadata": {},
     "output_type": "execute_result"
    }
   ],
   "source": [
    "[*map(math.pow, range(5), range(10))]"
   ]
  },
  {
   "cell_type": "code",
   "execution_count": 25,
   "metadata": {
    "hidden": true
   },
   "outputs": [
    {
     "data": {
      "text/plain": [
       "[97, 98, 99, 100]"
      ]
     },
     "execution_count": 25,
     "metadata": {},
     "output_type": "execute_result"
    }
   ],
   "source": [
    "L2 = [*map(ord, 'abcd')]; L2"
   ]
  },
  {
   "cell_type": "code",
   "execution_count": 3,
   "metadata": {
    "hidden": true
   },
   "outputs": [
    {
     "data": {
      "text/plain": [
       "{65, 66, 67, 68}"
      ]
     },
     "execution_count": 3,
     "metadata": {},
     "output_type": "execute_result"
    }
   ],
   "source": [
    "L2A = {*map(ord, 'ABCD')}; L2A"
   ]
  },
  {
   "cell_type": "code",
   "execution_count": 43,
   "metadata": {
    "hidden": true
   },
   "outputs": [
    {
     "data": {
      "text/plain": [
       "(83, 104, 97, 104)"
      ]
     },
     "execution_count": 43,
     "metadata": {},
     "output_type": "execute_result"
    }
   ],
   "source": [
    "L2B = (*map(ord, 'Shah'), ); L2B"
   ]
  },
  {
   "cell_type": "code",
   "execution_count": null,
   "metadata": {
    "hidden": true
   },
   "outputs": [],
   "source": []
  },
  {
   "cell_type": "markdown",
   "metadata": {
    "heading_collapsed": true,
    "hidden": true,
    "jp-MarkdownHeadingCollapsed": true,
    "tags": []
   },
   "source": [
    "#### `functools.reduce(function, iterable[, initializer]) ==> Value`"
   ]
  },
  {
   "cell_type": "markdown",
   "metadata": {
    "hidden": true
   },
   "source": [
    "- Apply function of two arguments cumulatively to the items of iterable, from left to right, so as to reduce the iterable to a single value. \n",
    "- For example, `reduce(lambda: x, y: x+y, [1, 2, 3, 4, 5])` calculates **((((1+2)+3)+4)+5)**. The left argument, x, is the accumulated value and the right argument, y, is the update value from the iterable. If the optional initializer is present, it is placed before the items of the iterable in the calculation, and serves as a default when the iterable is empty. \n",
    "- If initializer is not given and iterable contains only one item, the first item is returned."
   ]
  },
  {
   "cell_type": "code",
   "execution_count": 17,
   "metadata": {
    "hidden": true
   },
   "outputs": [],
   "source": [
    "# help(functools.reduce)"
   ]
  },
  {
   "cell_type": "code",
   "execution_count": 45,
   "metadata": {
    "code_folding": [],
    "hidden": true
   },
   "outputs": [],
   "source": [
    "def do_sum(x1, x2): return x1 + x2\n",
    "\n",
    "def reduce_prototype(function, iterable, initializer=None): \n",
    "    it = iter(iterable)\n",
    "\n",
    "    if initializer is None: value = next(it)\n",
    "    else: value = initializer\n",
    "\n",
    "    for element in it: \n",
    "        value = function(value, element)\n",
    "\n",
    "    return value"
   ]
  },
  {
   "cell_type": "code",
   "execution_count": 46,
   "metadata": {
    "hidden": true
   },
   "outputs": [
    {
     "data": {
      "text/plain": [
       "10"
      ]
     },
     "execution_count": 46,
     "metadata": {},
     "output_type": "execute_result"
    }
   ],
   "source": [
    "reduce_prototype(do_sum, range(5))"
   ]
  },
  {
   "cell_type": "code",
   "execution_count": null,
   "metadata": {
    "hidden": true
   },
   "outputs": [],
   "source": [
    "L1 = [*range(5)]"
   ]
  },
  {
   "cell_type": "code",
   "execution_count": 58,
   "metadata": {
    "hidden": true
   },
   "outputs": [
    {
     "data": {
      "text/plain": [
       "20"
      ]
     },
     "execution_count": 58,
     "metadata": {},
     "output_type": "execute_result"
    }
   ],
   "source": [
    "reduce_prototype(do_sum, L1, 10)"
   ]
  },
  {
   "cell_type": "code",
   "execution_count": 57,
   "metadata": {
    "hidden": true
   },
   "outputs": [
    {
     "data": {
      "text/plain": [
       "20"
      ]
     },
     "execution_count": 57,
     "metadata": {},
     "output_type": "execute_result"
    }
   ],
   "source": [
    "functools.reduce(do_sum, L1, 10)"
   ]
  },
  {
   "cell_type": "code",
   "execution_count": 59,
   "metadata": {
    "hidden": true
   },
   "outputs": [
    {
     "data": {
      "text/plain": [
       "10"
      ]
     },
     "execution_count": 59,
     "metadata": {},
     "output_type": "execute_result"
    }
   ],
   "source": [
    "reduce_prototype(do_sum, L1)"
   ]
  },
  {
   "cell_type": "code",
   "execution_count": 61,
   "metadata": {
    "hidden": true
   },
   "outputs": [],
   "source": [
    "assert reduce_prototype(do_sum, L1, 10) == functools.reduce(do_sum, L1, 10)"
   ]
  },
  {
   "cell_type": "markdown",
   "metadata": {
    "hidden": true
   },
   "source": [
    "- **Example**: First non-constructible value"
   ]
  },
  {
   "cell_type": "code",
   "execution_count": null,
   "metadata": {
    "hidden": true
   },
   "outputs": [],
   "source": [
    "def smallest_nonconstructible_value_pythonic(coins):\n",
    "    func = lambda max_val, coin: max_val + (0 if coin > max_val + 1 else coin)\n",
    "    return functools.reduce(func, sorted(coins), 0) + 1"
   ]
  },
  {
   "cell_type": "markdown",
   "metadata": {
    "hidden": true
   },
   "source": [
    "- **Example**: Convert Roman integer to Decimal integer."
   ]
  },
  {
   "cell_type": "code",
   "execution_count": null,
   "metadata": {
    "hidden": true
   },
   "outputs": [],
   "source": [
    "def roman_to_integer(s: str) -> int:\n",
    "    \n",
    "    # - There is no zero in Roman numerals !\n",
    "    T = {'I': 1, 'V': 5, 'X': 10, 'L': 50, 'C': 100, 'D': 500, 'M': 1000}\n",
    "    f = lambda val, i: val + (-T[s[i]] if T[s[i]] < T[s[i + 1]] else T[s[i]])\n",
    "\n",
    "    return reduce(f, reversed(range(len(s) - 1)), T[s[-1]])"
   ]
  },
  {
   "cell_type": "markdown",
   "metadata": {
    "heading_collapsed": true,
    "hidden": true,
    "jp-MarkdownHeadingCollapsed": true,
    "tags": []
   },
   "source": [
    "#### [`itertools.accumulate(iterable[, func, *, initial=None])`](https://docs.python.org/3/library/itertools.html#itertools.accumulate) ==> `iterator`"
   ]
  },
  {
   "cell_type": "markdown",
   "metadata": {
    "hidden": true
   },
   "source": [
    "- Make an __iterator__ that returns accumulated sums, or accumulated results of other *binary functions* (specified via the optional func argument).\n",
    "- If func is supplied, it should be a function of two arguments. \n",
    "- Elements of the input iterable may be any type that can be accepted as arguments to func.\n",
    "- Usually, the number of elements output matches the input iterable. However, if the keyword argument initial is provided, the accumulation leads off with the initial value so that the output has one more element than the input iterable.\n",
    "\n"
   ]
  },
  {
   "cell_type": "markdown",
   "metadata": {
    "hidden": true
   },
   "source": [
    "<font color='magenta'>It is roughly equivalent to the following function</font>"
   ]
  },
  {
   "cell_type": "code",
   "execution_count": 11,
   "metadata": {
    "code_folding": [],
    "hidden": true
   },
   "outputs": [],
   "source": [
    "def accumulate(iterable, func=operator.add, *, initial=None):\n",
    "    'Return running totals'\n",
    "    # accumulate([1,2,3,4,5]) --> 1 3 6 10 15\n",
    "    # accumulate([1,2,3,4,5], initial=100) --> 100 101 103 106 110 115\n",
    "    # accumulate([1,2,3,4,5], operator.mul) --> 1 2 6 24 120\n",
    "    it = iter(iterable)\n",
    "    total = initial\n",
    "    if initial is None:\n",
    "        try:\n",
    "            total = next(it)\n",
    "        except StopIteration:\n",
    "            return\n",
    "    yield total\n",
    "    for element in it:\n",
    "        total = func(total, element)\n",
    "        yield total"
   ]
  },
  {
   "cell_type": "code",
   "execution_count": 13,
   "metadata": {
    "hidden": true
   },
   "outputs": [
    {
     "data": {
      "text/plain": [
       "type"
      ]
     },
     "execution_count": 13,
     "metadata": {},
     "output_type": "execute_result"
    }
   ],
   "source": [
    "type(accumulate)"
   ]
  },
  {
   "cell_type": "code",
   "execution_count": 14,
   "metadata": {
    "hidden": true
   },
   "outputs": [],
   "source": [
    "# help(accumulate)"
   ]
  },
  {
   "cell_type": "code",
   "execution_count": 16,
   "metadata": {
    "hidden": true
   },
   "outputs": [
    {
     "name": "stdout",
     "output_type": "stream",
     "text": [
      "1 3 6 10 15\n",
      "[]\n",
      "15\n"
     ]
    }
   ],
   "source": [
    "num1 = accumulate([1,2,3,4,5])\n",
    "print(*num1) # Output:<itertools.accumulate object at 0x02CD94C8>\n",
    "\n",
    "# Converting iterator to list object.\n",
    "print (list(num1)) # Output:[1, 3, 6, 10, 15]\n",
    "\n",
    "\n",
    "# using reduce() for same function\n",
    "r1=reduce(operator.add,[1,2,3,4,5])\n",
    "print (r1) # Output:15"
   ]
  },
  {
   "cell_type": "markdown",
   "metadata": {
    "heading_collapsed": true,
    "hidden": true,
    "jp-MarkdownHeadingCollapsed": true,
    "tags": []
   },
   "source": [
    "#### `itertools.groupby(...)`"
   ]
  },
  {
   "cell_type": "code",
   "execution_count": 7,
   "metadata": {
    "hidden": true
   },
   "outputs": [],
   "source": [
    "# help(groupby)"
   ]
  },
  {
   "cell_type": "markdown",
   "metadata": {
    "hidden": true
   },
   "source": [
    "- [Run-length encoding (lossless data compression)\n",
    "\n",
    "Run-length encoding (RLE) is a data compression technique used to represent consecutive repeated characters or elements in a string or sequence as a count followed by the character or element itself.\n"
   ]
  },
  {
   "cell_type": "code",
   "execution_count": null,
   "metadata": {
    "hidden": true
   },
   "outputs": [],
   "source": [
    "def encoding_pythonic(s):\n",
    "    return ''.join([str(len(list(group))) + key for key, group in groupby(s)])"
   ]
  },
  {
   "cell_type": "code",
   "execution_count": null,
   "metadata": {
    "hidden": true
   },
   "outputs": [],
   "source": []
  },
  {
   "cell_type": "markdown",
   "metadata": {
    "heading_collapsed": true,
    "hidden": true,
    "jp-MarkdownHeadingCollapsed": true,
    "tags": []
   },
   "source": [
    "#### `bytes()`:"
   ]
  },
  {
   "cell_type": "markdown",
   "metadata": {
    "hidden": true
   },
   "source": [
    "-   bytes is an immutable sequence data type in Python.\n",
    "\n",
    "-   It represents a sequence of bytes, where each byte can hold values from 0 to 255.\n",
    "\n",
    "-   Bytes objects are used to store binary data, such as images, sound files, and network packets.\n",
    "\n",
    "-   Bytes objects are similar to strings, but they are designed specifically for binary data and don't have a character encoding associated with them.\n",
    "\n",
    "-   You can create a bytes object by enclosing a sequence of bytes in b'...' or using the bytes() constructor.\n",
    "\n",
    "-   Example of creating a bytes object: `data = b'\\x48\\x65\\x6c\\x6c\\x6f'`\n",
    "\n",
    "-   Bytes objects are often used when working with file I/O to read or write binary data.\n",
    "\n",
    "-   You can access individual bytes in a bytes object using indexing, e.g., data[0] returns the first byte.\n",
    "\n",
    "-   Bytes objects support various methods, including `len()`, `count()`, `index()`, and slicing.\n",
    "\n",
    "-   You can convert a bytes object to a string using the `.decode()` method, specifying an encoding (e.g., data.decode('utf-8')).\n",
    "\n",
    "-   You can also convert a string to a bytes object using the `.encode()` method (`'hello'.encode('utf-8')`).\n",
    "\n",
    "-   Bytes objects are often used for cryptographic operations, hashing, and working with binary protocols.\n",
    "\n",
    "-   They are efficient for handling binary data because they are immutable, meaning that operations like concatenation create new bytes objects rather than modifying existing ones.\n",
    "\n",
    "-   The bytes type is similar to the bytearray type, but the latter is mutable, allowing in-place modifications.\n",
    "\n",
    "-   Bytes objects are iterable, allowing you to iterate over their individual bytes using loops or comprehension.\n",
    "\n",
    "-   You can represent bytes in various formats, such as hexadecimal (`b'\\x48\\x65\\x6c\\x6c\\x6f'`) or base64-encoded (`b'SGVsbG8='`).\n",
    "\n",
    "-   Bytes objects are often used when dealing with network communication, cryptography, and low-level binary file formats.\n"
   ]
  },
  {
   "cell_type": "code",
   "execution_count": 35,
   "metadata": {
    "hidden": true
   },
   "outputs": [
    {
     "data": {
      "text/plain": [
       "(b'ABC', b'ABC')"
      ]
     },
     "execution_count": 35,
     "metadata": {},
     "output_type": "execute_result"
    }
   ],
   "source": [
    "bytes([65,66,67]), bytes('ABC', 'utf-8')"
   ]
  },
  {
   "cell_type": "code",
   "execution_count": 41,
   "metadata": {
    "hidden": true
   },
   "outputs": [
    {
     "data": {
      "text/plain": [
       "b'\\x00\\x00\\x00\\x00\\x00\\x00\\x00\\x00\\x00\\x00'"
      ]
     },
     "execution_count": 41,
     "metadata": {},
     "output_type": "execute_result"
    }
   ],
   "source": [
    "# Create an immutable buffer of 10 bytes\n",
    "buffer = bytes(10); buffer"
   ]
  },
  {
   "cell_type": "code",
   "execution_count": 32,
   "metadata": {
    "hidden": true
   },
   "outputs": [
    {
     "data": {
      "text/plain": [
       "b'shah'"
      ]
     },
     "execution_count": 32,
     "metadata": {},
     "output_type": "execute_result"
    }
   ],
   "source": [
    "# Create bytes object literally.\n",
    "byt = b'shah'"
   ]
  },
  {
   "cell_type": "code",
   "execution_count": 33,
   "metadata": {
    "hidden": true
   },
   "outputs": [
    {
     "data": {
      "text/plain": [
       "bytes"
      ]
     },
     "execution_count": 33,
     "metadata": {},
     "output_type": "execute_result"
    }
   ],
   "source": [
    "type(byt)"
   ]
  },
  {
   "cell_type": "code",
   "execution_count": 54,
   "metadata": {
    "hidden": true
   },
   "outputs": [
    {
     "data": {
      "text/plain": [
       "b'shah'"
      ]
     },
     "execution_count": 54,
     "metadata": {},
     "output_type": "execute_result"
    }
   ],
   "source": [
    "s = bytes('shah', 'ascii'); s"
   ]
  },
  {
   "cell_type": "code",
   "execution_count": 35,
   "metadata": {
    "hidden": true
   },
   "outputs": [
    {
     "data": {
      "text/plain": [
       "bytes"
      ]
     },
     "execution_count": 35,
     "metadata": {},
     "output_type": "execute_result"
    }
   ],
   "source": [
    "type(s)"
   ]
  },
  {
   "cell_type": "code",
   "execution_count": 36,
   "metadata": {
    "hidden": true
   },
   "outputs": [
    {
     "data": {
      "text/plain": [
       "2"
      ]
     },
     "execution_count": 36,
     "metadata": {},
     "output_type": "execute_result"
    }
   ],
   "source": [
    "s.count(ord('h'))"
   ]
  },
  {
   "cell_type": "code",
   "execution_count": 56,
   "metadata": {
    "hidden": true
   },
   "outputs": [],
   "source": [
    "# s.count('h')    # ERROR !!"
   ]
  },
  {
   "cell_type": "code",
   "execution_count": 37,
   "metadata": {
    "hidden": true
   },
   "outputs": [
    {
     "data": {
      "text/plain": [
       "'115_104_97_104_'"
      ]
     },
     "execution_count": 37,
     "metadata": {},
     "output_type": "execute_result"
    }
   ],
   "source": [
    "\"\".join([str(i) + '_' for i in s])"
   ]
  },
  {
   "cell_type": "code",
   "execution_count": 73,
   "metadata": {
    "hidden": true
   },
   "outputs": [
    {
     "data": {
      "text/plain": [
       "'shah'"
      ]
     },
     "execution_count": 73,
     "metadata": {},
     "output_type": "execute_result"
    }
   ],
   "source": [
    "str(s, encoding='ascii')"
   ]
  },
  {
   "cell_type": "code",
   "execution_count": null,
   "metadata": {
    "hidden": true
   },
   "outputs": [],
   "source": []
  },
  {
   "cell_type": "code",
   "execution_count": 39,
   "metadata": {
    "hidden": true
   },
   "outputs": [
    {
     "data": {
      "text/plain": [
       "b'\\x00\\x00\\x00\\x00\\x00'"
      ]
     },
     "execution_count": 39,
     "metadata": {},
     "output_type": "execute_result"
    }
   ],
   "source": [
    "# bytes object of size given by the parameter initialized with null bytes.\n",
    "a = bytes(5); a"
   ]
  },
  {
   "cell_type": "code",
   "execution_count": 40,
   "metadata": {
    "hidden": true
   },
   "outputs": [
    {
     "data": {
      "text/plain": [
       "'\\x00\\x00\\x00\\x00\\x00'"
      ]
     },
     "execution_count": 40,
     "metadata": {},
     "output_type": "execute_result"
    }
   ],
   "source": [
    "str(a, encoding='ascii')"
   ]
  },
  {
   "cell_type": "code",
   "execution_count": 75,
   "metadata": {
    "hidden": true
   },
   "outputs": [
    {
     "data": {
      "text/plain": [
       "[0, 0, 0, 0, 0]"
      ]
     },
     "execution_count": 75,
     "metadata": {},
     "output_type": "execute_result"
    }
   ],
   "source": [
    "list(a)"
   ]
  },
  {
   "cell_type": "code",
   "execution_count": 42,
   "metadata": {
    "hidden": true
   },
   "outputs": [
    {
     "data": {
      "text/plain": [
       "b'\\x01\\x05'"
      ]
     },
     "execution_count": 42,
     "metadata": {},
     "output_type": "execute_result"
    }
   ],
   "source": [
    "a2 = bytes([1,5]); a2"
   ]
  },
  {
   "cell_type": "code",
   "execution_count": 47,
   "metadata": {
    "hidden": true
   },
   "outputs": [
    {
     "data": {
      "text/plain": [
       "b'SHAH'"
      ]
     },
     "execution_count": 47,
     "metadata": {},
     "output_type": "execute_result"
    }
   ],
   "source": [
    "b\"shah\".upper()"
   ]
  },
  {
   "cell_type": "markdown",
   "metadata": {
    "heading_collapsed": true,
    "hidden": true,
    "jp-MarkdownHeadingCollapsed": true,
    "tags": []
   },
   "source": [
    "#### `bytearray(...)`"
   ]
  },
  {
   "cell_type": "markdown",
   "metadata": {
    "hidden": true
   },
   "source": [
    "- Return a new array of bytes (integers in the range 0 <= x < 256). \n",
    "- The bytearray type is a mutable sequence. \n",
    "- It has most of the usual methods of mutable sequences, described in Mutable Sequence Types, as well as most methods that the bytes type has, see Bytes and Byte Array Methods."
   ]
  },
  {
   "cell_type": "code",
   "execution_count": 13,
   "metadata": {
    "hidden": true
   },
   "outputs": [],
   "source": [
    "# help(bytearray)"
   ]
  },
  {
   "cell_type": "code",
   "execution_count": 10,
   "metadata": {
    "hidden": true
   },
   "outputs": [],
   "source": [
    "# dir(bytearray)"
   ]
  },
  {
   "cell_type": "code",
   "execution_count": 57,
   "metadata": {
    "hidden": true
   },
   "outputs": [
    {
     "data": {
      "text/plain": [
       "bytearray(b\"Shah isn\\'t\")"
      ]
     },
     "execution_count": 57,
     "metadata": {},
     "output_type": "execute_result"
    }
   ],
   "source": [
    "L = bytearray(\"Shah isn't\", 'ascii'); L"
   ]
  },
  {
   "cell_type": "code",
   "execution_count": 6,
   "metadata": {
    "hidden": true
   },
   "outputs": [
    {
     "data": {
      "text/plain": [
       "83"
      ]
     },
     "execution_count": 6,
     "metadata": {},
     "output_type": "execute_result"
    }
   ],
   "source": [
    "L[0]"
   ]
  },
  {
   "cell_type": "code",
   "execution_count": 7,
   "metadata": {
    "hidden": true
   },
   "outputs": [
    {
     "data": {
      "text/plain": [
       "\"Shah isn't\""
      ]
     },
     "execution_count": 7,
     "metadata": {},
     "output_type": "execute_result"
    }
   ],
   "source": [
    "s = str(L, 'ascii'); s"
   ]
  },
  {
   "cell_type": "code",
   "execution_count": 4,
   "metadata": {
    "hidden": true
   },
   "outputs": [
    {
     "data": {
      "text/plain": [
       "bytearray(b'd\\x00\\x00\\x00\\x00\\x00\\x00\\x00\\x00\\x00')"
      ]
     },
     "execution_count": 4,
     "metadata": {},
     "output_type": "execute_result"
    }
   ],
   "source": [
    "L[0] = 100\n",
    "L"
   ]
  },
  {
   "cell_type": "code",
   "execution_count": 5,
   "metadata": {
    "hidden": true
   },
   "outputs": [
    {
     "data": {
      "text/plain": [
       "[100, 0, 0, 0, 0, 0, 0, 0, 0, 0]"
      ]
     },
     "execution_count": 5,
     "metadata": {},
     "output_type": "execute_result"
    }
   ],
   "source": [
    "list(L)"
   ]
  },
  {
   "cell_type": "code",
   "execution_count": 6,
   "metadata": {
    "hidden": true
   },
   "outputs": [
    {
     "data": {
      "text/plain": [
       "bytearray(b'd\\x00\\x00\\x00\\x00\\x00\\x00\\x00\\x00\\x00')"
      ]
     },
     "execution_count": 6,
     "metadata": {},
     "output_type": "execute_result"
    }
   ],
   "source": [
    "# L[0] = 300    ## ERROR !\n",
    "L"
   ]
  },
  {
   "cell_type": "code",
   "execution_count": null,
   "metadata": {
    "hidden": true
   },
   "outputs": [],
   "source": [
    "def _test_bytearray():\n",
    "    array = bytearray(10)\n",
    "    array[9] = 255\n",
    "    array[1] = 1\n",
    "    array[0] = 0"
   ]
  },
  {
   "cell_type": "markdown",
   "metadata": {
    "heading_collapsed": true,
    "hidden": true,
    "jp-MarkdownHeadingCollapsed": true,
    "tags": []
   },
   "source": [
    "#### `any()` / `all()`: [References](https://www.w3schools.com/python/ref_func_all.asp)"
   ]
  },
  {
   "cell_type": "code",
   "execution_count": null,
   "metadata": {
    "hidden": true
   },
   "outputs": [],
   "source": [
    "help(any)"
   ]
  },
  {
   "cell_type": "code",
   "execution_count": null,
   "metadata": {
    "hidden": true
   },
   "outputs": [],
   "source": [
    "def _test_any():\n",
    "    res1 = any([False, False, False, True, False])\n",
    "    res2 = any([False, False, False, False])\n",
    "    res3 = any([0, 0, 0, 3, 0, 0])\n",
    "    res4 = any(['', '', 'a', 'ab', ''])\n",
    "    print(res1,res2,res3,res4)\n",
    "\n",
    "_test_any()"
   ]
  },
  {
   "cell_type": "code",
   "execution_count": null,
   "metadata": {
    "hidden": true
   },
   "outputs": [],
   "source": [
    "def all_equivalent(iterable): \n",
    "    for element in iterable:\n",
    "        if not element: return False\n",
    "    return True"
   ]
  },
  {
   "cell_type": "code",
   "execution_count": null,
   "metadata": {
    "hidden": true
   },
   "outputs": [],
   "source": [
    "\n",
    "def _test_all():\n",
    "    res1 = all([True, True, True, True, True])\n",
    "    res2 = all([False, False, False, False])\n",
    "    res3 = all([True, True, False, False, True])\n",
    "    res4 = all([4, 1, 6, 3, 12, 34])\n",
    "    res5 = all([0, 1, 6, 3, 12, 34])\n",
    "    res6 = all(['abc', '', 'a', 'ab', 'ac'])\n",
    "    \n",
    "    L = [x for x in states if all([v in x for v in 'aeio'])]\n",
    "    \n",
    "    print(res1,res2,res3,res4, res5, res6, L, sep='\\n')"
   ]
  },
  {
   "cell_type": "code",
   "execution_count": null,
   "metadata": {
    "hidden": true
   },
   "outputs": [],
   "source": [
    "_test_all()"
   ]
  },
  {
   "cell_type": "markdown",
   "metadata": {
    "heading_collapsed": true,
    "hidden": true,
    "jp-MarkdownHeadingCollapsed": true,
    "tags": []
   },
   "source": [
    "#### `dir(...)`:"
   ]
  },
  {
   "cell_type": "code",
   "execution_count": 41,
   "metadata": {
    "hidden": true
   },
   "outputs": [],
   "source": [
    "# dir()"
   ]
  },
  {
   "cell_type": "code",
   "execution_count": 67,
   "metadata": {
    "hidden": true
   },
   "outputs": [],
   "source": [
    "class Test:\n",
    "    def __init__(self):\n",
    "        self.foo = 10\n",
    "        self._bar = 20\n",
    "        self.__baz = 30\n",
    "        self._mangled_attr = 1\n",
    "    @property\n",
    "    def num_mangled_attr(self):\n",
    "        return self._num_mangled_attr"
   ]
  },
  {
   "cell_type": "code",
   "execution_count": 68,
   "metadata": {
    "hidden": true
   },
   "outputs": [],
   "source": [
    "t = Test()"
   ]
  },
  {
   "cell_type": "code",
   "execution_count": 14,
   "metadata": {
    "hidden": true,
    "scrolled": true
   },
   "outputs": [],
   "source": [
    "# dir(t)"
   ]
  },
  {
   "cell_type": "code",
   "execution_count": 70,
   "metadata": {
    "hidden": true
   },
   "outputs": [
    {
     "data": {
      "text/plain": [
       "(10, 20)"
      ]
     },
     "execution_count": 70,
     "metadata": {},
     "output_type": "execute_result"
    }
   ],
   "source": [
    "t.foo, t._bar"
   ]
  },
  {
   "cell_type": "code",
   "execution_count": 71,
   "metadata": {
    "hidden": true,
    "scrolled": true
   },
   "outputs": [],
   "source": [
    "# t.__baz  # Error !!"
   ]
  },
  {
   "cell_type": "code",
   "execution_count": 72,
   "metadata": {
    "hidden": true,
    "scrolled": true
   },
   "outputs": [
    {
     "data": {
      "text/plain": [
       "30"
      ]
     },
     "execution_count": 72,
     "metadata": {},
     "output_type": "execute_result"
    }
   ],
   "source": [
    "t._Test__baz ## Eccessed through mangaled name !"
   ]
  },
  {
   "cell_type": "code",
   "execution_count": 15,
   "metadata": {
    "hidden": true
   },
   "outputs": [],
   "source": [
    "# t.num_mangled_attr"
   ]
  },
  {
   "cell_type": "markdown",
   "metadata": {
    "heading_collapsed": true,
    "hidden": true
   },
   "source": [
    "##### `setattr()`"
   ]
  },
  {
   "cell_type": "code",
   "execution_count": 30,
   "metadata": {
    "hidden": true
   },
   "outputs": [
    {
     "name": "stdout",
     "output_type": "stream",
     "text": [
      "Name is: John\n",
      "Age is: 23\n"
     ]
    }
   ],
   "source": [
    "class Person:\n",
    "    name = 'Adam'\n",
    "    \n",
    "p = Person()\n",
    "\n",
    "# setting attribute name to John\n",
    "setattr(p, 'name', 'John')\n",
    "print('Name is:', p.name)\n",
    "\n",
    "# setting an attribute not present in Person\n",
    "setattr(p, 'age', 23)\n",
    "print('Age is:', p.age)"
   ]
  },
  {
   "cell_type": "markdown",
   "metadata": {
    "heading_collapsed": true,
    "hidden": true,
    "jp-MarkdownHeadingCollapsed": true,
    "tags": []
   },
   "source": [
    "#### `format(...)`"
   ]
  },
  {
   "cell_type": "markdown",
   "metadata": {
    "code_folding": [],
    "hidden": true
   },
   "source": [
    "```\n",
    "    format(value[, format_spec]):\n",
    "\n",
    "        Convert a value to a 'formatted' representation, as controlled by \n",
    "        format_spec. The interpretation of format_spec will depend on the \n",
    "        type of the value argument, however there is a standard formatting \n",
    "        syntax that is used by most built-in types: Format Specification \n",
    "        Mini-Language.\n",
    "```"
   ]
  },
  {
   "cell_type": "code",
   "execution_count": 72,
   "metadata": {
    "code_folding": [],
    "hidden": true
   },
   "outputs": [
    {
     "name": "stdout",
     "output_type": "stream",
     "text": [
      "\n",
      "val1:        \n",
      "    2 \n",
      "val2:           \n",
      "    2      \n",
      "val3:    \n",
      "    2\n",
      "val1:        \n",
      "    Aminul \n",
      "val2:           \n",
      "    Momin      \n",
      "val3:    \n",
      "    Shah\n",
      "Total score for Shah is 2\n",
      "Total score for Shah is 2\n",
      "Total score for 2 is Shah\n",
      "Total score for Shah is 2\n"
     ]
    }
   ],
   "source": [
    "x = 2\n",
    "score = x\n",
    "name = 'Shah'\n",
    "\n",
    "print(f\"\"\"\n",
    "val1:        \n",
    "    {x} \n",
    "val2:           \n",
    "    {x}      \n",
    "val3:    \n",
    "    {x}\"\"\")\n",
    "\n",
    "print(\"\"\"\\\n",
    "val1:        \n",
    "    {} \n",
    "val2:           \n",
    "    {}      \n",
    "val3:    \n",
    "    {}\"\"\".format('Aminul', 'Momin', 'Shah'))\n",
    "\n",
    "\n",
    "print(\"Total score for {} is {}\".format(name, score))       # Use the new-style string formatting\n",
    "print(\"Total score for {0} is {1}\".format(name, score))     # Use the new-style string formatting with numbers \n",
    "print(\"Total score for {1} is {0}\".format(name, score))     # Use the new-style string formatting with numbers \n",
    "print(\"Total score for {n} is {s}\".format(n=name, s=score)) # Use the new-style string formatting with explicit names:\n",
    "    "
   ]
  },
  {
   "cell_type": "code",
   "execution_count": null,
   "metadata": {
    "hidden": true
   },
   "outputs": [],
   "source": []
  },
  {
   "cell_type": "markdown",
   "metadata": {
    "heading_collapsed": true,
    "hidden": true,
    "jp-MarkdownHeadingCollapsed": true,
    "tags": []
   },
   "source": [
    "#### `help()`:"
   ]
  },
  {
   "cell_type": "markdown",
   "metadata": {
    "hidden": true
   },
   "source": [
    "`help()` function in Python is used to display the documentation of modules, classes, functions, keywords, etc. \n",
    "\n",
    "NOTE:\n",
    "\n",
    "If no parameter is passed to the `help()` function, then an **interactive** help utility is launched on the console."
   ]
  },
  {
   "cell_type": "markdown",
   "metadata": {
    "heading_collapsed": true,
    "hidden": true,
    "jp-MarkdownHeadingCollapsed": true,
    "tags": []
   },
   "source": [
    "#### `object()`:"
   ]
  },
  {
   "cell_type": "code",
   "execution_count": 15,
   "metadata": {
    "hidden": true
   },
   "outputs": [],
   "source": [
    "obj = object()"
   ]
  },
  {
   "cell_type": "code",
   "execution_count": 16,
   "metadata": {
    "hidden": true
   },
   "outputs": [],
   "source": [
    "# dir(obj.__class__)"
   ]
  },
  {
   "cell_type": "code",
   "execution_count": 4,
   "metadata": {
    "hidden": true
   },
   "outputs": [],
   "source": [
    "# dir(obj)"
   ]
  },
  {
   "cell_type": "code",
   "execution_count": 49,
   "metadata": {
    "hidden": true
   },
   "outputs": [],
   "source": [
    "# help(object)"
   ]
  },
  {
   "cell_type": "markdown",
   "metadata": {
    "heading_collapsed": true,
    "hidden": true,
    "jp-MarkdownHeadingCollapsed": true,
    "tags": []
   },
   "source": [
    "#### `print(...)`"
   ]
  },
  {
   "cell_type": "code",
   "execution_count": null,
   "metadata": {
    "hidden": true
   },
   "outputs": [],
   "source": [
    "def _test_string_formating():\n",
    "    name = \"Adam\"\n",
    "    score = 10\n",
    "    print(\"Total score for\", name, \"is\", score) # Pass the values as parameters and print will do it\n",
    "    print('The value of x is %3.2f')\n",
    "    print(\"Total score for %s is %s\" % (name, score)) # Pass it as a tuple\n",
    "    print(\"Total score for %(n)s is %(s)s\" % {'n': name, 's': score}) # Pass it as a dictionary\n",
    "    print(\"Total score for {} is {}\".format(name, score))   # Use the new-style string formatting\n",
    "    print(\"Total score for {0} is {1}\".format(name, score)) # Use the new-style string formatting with numbers \n",
    "    print(\"Total score for {1} is {0}\".format(name, score)) # Use the new-style string formatting with numbers \n",
    "    print(\"Total score for {n} is {s}\".format(n=name, s=score)) # Use the new-style string formatting with explicit names:\n",
    "    # print(\"Total score for \", name, \" is \", score, sep='') # If you don't want spaces to be inserted automatically by print in the above example, change the sep parameter\n",
    "    # print(f'Total score for {name} is {score}') # Use the new f-string formatting in Python 3.6\n",
    "\n",
    "    print(\"\"\"\\\n",
    "    Usage: thingy [OPTIONS]\n",
    "         -h                        Display this usage message\n",
    "         -H hostname               Hostname to connect to\n",
    "         -H {}\n",
    "    \"\"\".format('hostname'))\n",
    "\n",
    "    s = 'hostname'\n",
    "    \n",
    "    print(f\"\"\"\n",
    "    Usage: thingy [OPTIONS]\n",
    "         -h                        Display this usage message\n",
    "         -H hostname               Hostname to connect to\n",
    "         -H {s}\n",
    "    \"\"\")\n",
    "    \n",
    "    first = \"Aminul\"\n",
    "    last = \"Momin\"\n",
    "    email = \"A.Momin.NY@gmail.com\"\n",
    "    print(f'{first} {last}\\n{email}\\n')\n",
    "    print(f\"\"\"{first} {last}\\n{email}\\n\"\"\")\n",
    "\n",
    "\n",
    "_test_string_formating()"
   ]
  },
  {
   "cell_type": "markdown",
   "metadata": {
    "heading_collapsed": true,
    "hidden": true,
    "tags": []
   },
   "source": [
    "#### `functools.lru_cache(..)`"
   ]
  },
  {
   "cell_type": "markdown",
   "metadata": {
    "heading_collapsed": true,
    "hidden": true,
    "jp-MarkdownHeadingCollapsed": true,
    "tags": []
   },
   "source": [
    "#### `slice(..)`:"
   ]
  },
  {
   "cell_type": "code",
   "execution_count": 65,
   "metadata": {
    "hidden": true
   },
   "outputs": [],
   "source": [
    "# help(slice)"
   ]
  },
  {
   "cell_type": "code",
   "execution_count": 31,
   "metadata": {
    "hidden": true
   },
   "outputs": [
    {
     "name": "stdout",
     "output_type": "stream",
     "text": [
      "['P', 'y', 't']\n",
      "('y', 'h')\n",
      "['n', 'o', 'h']\n",
      "('n', 'h')\n"
     ]
    }
   ],
   "source": [
    "py_list = ['P', 'y', 't', 'h', 'o', 'n']\n",
    "py_tuple = ('P', 'y', 't', 'h', 'o', 'n')\n",
    "\n",
    "# contains indices 0, 1 and 2\n",
    "slice_object = slice(3)\n",
    "print(py_list[slice_object]) # ['P', 'y', 't']\n",
    "\n",
    "# contains indices 1 and 3\n",
    "slice_object = slice(1, 6, 2)\n",
    "print(py_tuple[slice_object]) # ('y', 'h') \n",
    "\n",
    "\n",
    "# contains indices -1, -2 and -3\n",
    "slice_object = slice(-1, -4, -1) \n",
    "print(py_list[slice_object])  # ['n', 'o', 'h']\n",
    "\n",
    "# contains indices -1 and -3\n",
    "slice_object = slice(-1, -5, -2)\n",
    "print(py_tuple[slice_object]) # ('n', 'h')"
   ]
  },
  {
   "cell_type": "markdown",
   "metadata": {
    "heading_collapsed": true,
    "hidden": true
   },
   "source": [
    "#### `iter(..)`:"
   ]
  },
  {
   "cell_type": "code",
   "execution_count": 3,
   "metadata": {
    "hidden": true
   },
   "outputs": [],
   "source": [
    "L = list(\"python\")"
   ]
  },
  {
   "cell_type": "code",
   "execution_count": 4,
   "metadata": {
    "hidden": true
   },
   "outputs": [
    {
     "data": {
      "text/plain": [
       "'p'"
      ]
     },
     "execution_count": 4,
     "metadata": {},
     "output_type": "execute_result"
    }
   ],
   "source": [
    "itr = iter(L)\n",
    "next(itr)"
   ]
  },
  {
   "cell_type": "code",
   "execution_count": 5,
   "metadata": {
    "hidden": true
   },
   "outputs": [
    {
     "data": {
      "text/plain": [
       "'y'"
      ]
     },
     "execution_count": 5,
     "metadata": {},
     "output_type": "execute_result"
    }
   ],
   "source": [
    "next(itr)"
   ]
  },
  {
   "cell_type": "code",
   "execution_count": 6,
   "metadata": {
    "hidden": true
   },
   "outputs": [
    {
     "ename": "StopIteration",
     "evalue": "",
     "output_type": "error",
     "traceback": [
      "\u001b[0;31m---------------------------------------------------------------------------\u001b[0m",
      "\u001b[0;31mStopIteration\u001b[0m                             Traceback (most recent call last)",
      "Cell \u001b[0;32mIn[6], line 2\u001b[0m\n\u001b[1;32m      1\u001b[0m itr2 \u001b[38;5;241m=\u001b[39m \u001b[38;5;28miter\u001b[39m([])\n\u001b[0;32m----> 2\u001b[0m \u001b[38;5;28;43mnext\u001b[39;49m\u001b[43m(\u001b[49m\u001b[43mitr2\u001b[49m\u001b[43m)\u001b[49m\n",
      "\u001b[0;31mStopIteration\u001b[0m: "
     ]
    }
   ],
   "source": [
    "itr2 = iter([])\n",
    "next(itr2)"
   ]
  },
  {
   "cell_type": "code",
   "execution_count": 8,
   "metadata": {
    "hidden": true,
    "scrolled": false
   },
   "outputs": [
    {
     "name": "stdout",
     "output_type": "stream",
     "text": [
      "None\n"
     ]
    }
   ],
   "source": [
    "itr2 = iter([])\n",
    "print(next(itr2, None))"
   ]
  },
  {
   "cell_type": "markdown",
   "metadata": {
    "heading_collapsed": true,
    "hidden": true
   },
   "source": [
    "##### Create a generator of Fibonacci"
   ]
  },
  {
   "cell_type": "code",
   "execution_count": 18,
   "metadata": {
    "hidden": true
   },
   "outputs": [],
   "source": [
    "## generate fibonacci numbers upto n\n",
    "def fib(n):\n",
    "    p, q = 0, 1\n",
    "    while (p < n):\n",
    "        yield p\n",
    "        p, q = q, p + q"
   ]
  },
  {
   "cell_type": "code",
   "execution_count": 22,
   "metadata": {
    "hidden": true
   },
   "outputs": [
    {
     "name": "stdout",
     "output_type": "stream",
     "text": [
      "0\n",
      "1\n",
      "1\n",
      "2\n",
      "3\n",
      "5\n",
      "8\n"
     ]
    },
    {
     "ename": "StopIteration",
     "evalue": "",
     "output_type": "error",
     "traceback": [
      "\u001b[0;31m---------------------------------------------------------------------------\u001b[0m",
      "\u001b[0;31mStopIteration\u001b[0m                             Traceback (most recent call last)",
      "Cell \u001b[0;32mIn[22], line 6\u001b[0m\n\u001b[1;32m      4\u001b[0m left \u001b[38;5;241m=\u001b[39m \u001b[38;5;241m0\u001b[39m\n\u001b[1;32m      5\u001b[0m \u001b[38;5;28;01mwhile\u001b[39;00m left \u001b[38;5;241m<\u001b[39m n:\n\u001b[0;32m----> 6\u001b[0m     \u001b[38;5;28mprint\u001b[39m(\u001b[43mfibonacci_numbers\u001b[49m\u001b[38;5;241;43m.\u001b[39;49m\u001b[38;5;21;43m__next__\u001b[39;49m\u001b[43m(\u001b[49m\u001b[43m)\u001b[49m)\n\u001b[1;32m      7\u001b[0m     left \u001b[38;5;241m+\u001b[39m\u001b[38;5;241m=\u001b[39m \u001b[38;5;241m1\u001b[39m\n",
      "\u001b[0;31mStopIteration\u001b[0m: "
     ]
    }
   ],
   "source": [
    "n = 10\n",
    "fibonacci_numbers = fib(n)    # create generator object \n",
    "\n",
    "left = 0\n",
    "while left < n:\n",
    "    print(fibonacci_numbers.__next__())\n",
    "    left += 1"
   ]
  },
  {
   "cell_type": "code",
   "execution_count": 31,
   "metadata": {
    "hidden": true
   },
   "outputs": [
    {
     "name": "stdout",
     "output_type": "stream",
     "text": [
      "0\n",
      "1\n",
      "1\n",
      "2\n",
      "3\n",
      "5\n",
      "8\n",
      "None\n",
      "None\n",
      "None\n"
     ]
    }
   ],
   "source": [
    "n = 10\n",
    "fibonacci_numbers = fib(n)    # create generator object \n",
    "\n",
    "left = 0\n",
    "while left < n:\n",
    "    print(next(fibonacci_numbers, None))\n",
    "    left += 1"
   ]
  },
  {
   "cell_type": "code",
   "execution_count": 26,
   "metadata": {
    "hidden": true
   },
   "outputs": [],
   "source": [
    "x = fib(10)    # create generator object "
   ]
  },
  {
   "cell_type": "code",
   "execution_count": 27,
   "metadata": {
    "hidden": true
   },
   "outputs": [
    {
     "name": "stdout",
     "output_type": "stream",
     "text": [
      "0\n",
      "1\n",
      "1\n",
      "2\n",
      "3\n",
      "5\n",
      "8\n"
     ]
    },
    {
     "ename": "StopIteration",
     "evalue": "",
     "output_type": "error",
     "traceback": [
      "\u001b[0;31m---------------------------------------------------------------------------\u001b[0m",
      "\u001b[0;31mStopIteration\u001b[0m                             Traceback (most recent call last)",
      "Cell \u001b[0;32mIn[27], line 9\u001b[0m\n\u001b[1;32m      7\u001b[0m \u001b[38;5;28mprint\u001b[39m(x\u001b[38;5;241m.\u001b[39m\u001b[38;5;21m__next__\u001b[39m())    \u001b[38;5;66;03m# output => 5\u001b[39;00m\n\u001b[1;32m      8\u001b[0m \u001b[38;5;28mprint\u001b[39m(x\u001b[38;5;241m.\u001b[39m\u001b[38;5;21m__next__\u001b[39m())    \u001b[38;5;66;03m# output => 8\u001b[39;00m\n\u001b[0;32m----> 9\u001b[0m \u001b[38;5;28mprint\u001b[39m(\u001b[43mx\u001b[49m\u001b[38;5;241;43m.\u001b[39;49m\u001b[38;5;21;43m__next__\u001b[39;49m\u001b[43m(\u001b[49m\u001b[43m)\u001b[49m)    \u001b[38;5;66;03m# error\u001b[39;00m\n",
      "\u001b[0;31mStopIteration\u001b[0m: "
     ]
    }
   ],
   "source": [
    "## iterating using __next__(), for Python2, use next()\n",
    "print(x.__next__())    # output => 0\n",
    "print(x.__next__())    # output => 1\n",
    "print(x.__next__())    # output => 1\n",
    "print(x.__next__())    # output => 2\n",
    "print(x.__next__())    # output => 3\n",
    "print(x.__next__())    # output => 5\n",
    "print(x.__next__())    # output => 8\n",
    "print(x.__next__())    # error"
   ]
  },
  {
   "cell_type": "markdown",
   "metadata": {
    "heading_collapsed": true,
    "hidden": true
   },
   "source": [
    "#### `open(..)`:"
   ]
  },
  {
   "cell_type": "markdown",
   "metadata": {
    "hidden": true
   },
   "source": [
    "```python\n",
    "open(file, mode='r', buffering=-1, encoding=None, errors=None, newline=None, closefd=True, opener=None)\n",
    "```"
   ]
  },
  {
   "cell_type": "markdown",
   "metadata": {
    "hidden": true
   },
   "source": [
    "\n",
    "- `file`: The file path or a file-like object.\n",
    "\n",
    "- `mode`: A string specifying the file mode. Common modes include `r` (read), `w` (write), `a` (append), `b` (binary), and more.\n",
    "\n",
    "- `buffering`: An optional integer that controls the buffering of I/O operations. The default value, -1, means that the system default is used.\n",
    "\n",
    "- `encoding`: An optional string specifying the file's encoding, particularly for text files.\n",
    "\n",
    "- `errors`: An optional string specifying how encoding and decoding errors should be handled.\n",
    "\n",
    "- `newline`: An optional string specifying the newline character(s) to be used in text mode.\n",
    "\n",
    "- `closefd`: A boolean indicating whether to close the file descriptor when the file is closed.\n",
    "\n",
    "- `opener`: An optional custom opener function for opening the file.\n",
    "\n",
    "The returned file object provides methods and properties that allow you to read, write, and manipulate the file's contents, depending on the mode you used to open it. Common methods include `read()`, `write()`, `seek()`, and others."
   ]
  },
  {
   "cell_type": "code",
   "execution_count": 4,
   "metadata": {
    "hidden": true
   },
   "outputs": [
    {
     "name": "stdout",
     "output_type": "stream",
     "text": [
      "Note.txt            ece_backup.json     mediumEWD.txt       tongue_twisters.txt\r\n",
      "demofile.txt        ece_backup.yaml     shellsST.txt        words3.txt\r\n",
      "ece.json            medTale.txt         tinyEWD.txt\r\n"
     ]
    }
   ],
   "source": [
    "!ls {os.environ['ADS']+'/data'}"
   ]
  },
  {
   "cell_type": "code",
   "execution_count": 2,
   "metadata": {
    "hidden": true
   },
   "outputs": [],
   "source": [
    "import os, collections, pprint\n",
    "ADS = os.environ['ADS']"
   ]
  },
  {
   "cell_type": "code",
   "execution_count": 3,
   "metadata": {
    "hidden": true
   },
   "outputs": [],
   "source": [
    "text_io_wrapper = open(ADS+'/data/tongue_twisters.txt', 'r')\n",
    "# print(type(f), '\\n', dir(f))\n",
    "# words = text_io_wrapper.read().split()\n",
    "lines = text_io_wrapper.readline()\n",
    "text_io_wrapper.close()\n",
    "# print(words)"
   ]
  },
  {
   "cell_type": "code",
   "execution_count": 4,
   "metadata": {
    "hidden": true
   },
   "outputs": [
    {
     "data": {
      "text/plain": [
       "_io.TextIOWrapper"
      ]
     },
     "execution_count": 4,
     "metadata": {},
     "output_type": "execute_result"
    }
   ],
   "source": [
    "type(text_io_wrapper)"
   ]
  },
  {
   "cell_type": "code",
   "execution_count": 67,
   "metadata": {
    "hidden": true
   },
   "outputs": [],
   "source": [
    "with open(ADS + \"/data/tongue_twisters.txt\", \"r\") as fh:\n",
    "    long_description = fh.read()\n",
    "    # print(long_description)\n",
    "    # help(fh)"
   ]
  },
  {
   "cell_type": "code",
   "execution_count": 69,
   "metadata": {
    "hidden": true
   },
   "outputs": [],
   "source": [
    "# long_description"
   ]
  },
  {
   "cell_type": "code",
   "execution_count": 63,
   "metadata": {
    "hidden": true
   },
   "outputs": [
    {
     "name": "stdout",
     "output_type": "stream",
     "text": [
      "\n"
     ]
    }
   ],
   "source": [
    "with open(ADS + \"/data/tongue_twisters.txt\", 'r') as data:\n",
    "    count_data = collections.Counter(data.read())\n",
    "    count_data2 = collections.Counter(data.read().upper())\n",
    "    count_value = pprint.pformat(count_data)\n",
    "    print(data.read())\n",
    "    # print(count_value)"
   ]
  },
  {
   "cell_type": "markdown",
   "metadata": {
    "heading_collapsed": true,
    "hidden": true
   },
   "source": [
    "#### `min()`/`max()`"
   ]
  },
  {
   "cell_type": "code",
   "execution_count": 11,
   "metadata": {
    "hidden": true
   },
   "outputs": [
    {
     "name": "stdout",
     "output_type": "stream",
     "text": [
      "89\n"
     ]
    }
   ],
   "source": [
    "numbers = [23, 45, 12, 67, 89, 34]\n",
    "max_num = max(numbers)\n",
    "print(max_num)"
   ]
  },
  {
   "cell_type": "code",
   "execution_count": 12,
   "metadata": {
    "hidden": true
   },
   "outputs": [
    {
     "name": "stdout",
     "output_type": "stream",
     "text": [
      "89\n"
     ]
    }
   ],
   "source": [
    "numbers = [23, 45, 12, 67, 89, 34]\n",
    "max_num = max(*numbers)\n",
    "print(max_num)"
   ]
  },
  {
   "cell_type": "code",
   "execution_count": 13,
   "metadata": {
    "hidden": true
   },
   "outputs": [
    {
     "name": "stdout",
     "output_type": "stream",
     "text": [
      "banana\n"
     ]
    }
   ],
   "source": [
    "words = [\"apple\", \"banana\", \"cherry\", \"date\", \"fig\"]\n",
    "max_length_word = max(words, key=len)\n",
    "print(max_length_word)"
   ]
  },
  {
   "cell_type": "markdown",
   "metadata": {
    "hidden": true
   },
   "source": [
    "- Find the Maximum Value from a Dictionary by Its Keys or Values:"
   ]
  },
  {
   "cell_type": "code",
   "execution_count": 14,
   "metadata": {
    "hidden": true
   },
   "outputs": [
    {
     "name": "stdout",
     "output_type": "stream",
     "text": [
      "cherry\n"
     ]
    }
   ],
   "source": [
    "prices = {\"apple\": 2.99, \"banana\": 1.49, \"cherry\": 4.99, \"date\": 3.25}\n",
    "max_price_item = max(prices, key=prices.get)\n",
    "print(max_price_item)"
   ]
  },
  {
   "cell_type": "markdown",
   "metadata": {
    "hidden": true
   },
   "source": [
    "- Find the Maximum Element in a Custom Object List using a Lambda Function:"
   ]
  },
  {
   "cell_type": "code",
   "execution_count": null,
   "metadata": {
    "hidden": true
   },
   "outputs": [],
   "source": [
    "class Person:\n",
    "    def __init__(self, name, age):\n",
    "        self.name = name\n",
    "        self.age = age\n",
    "\n",
    "people = [Person(\"Alice\", 32), Person(\"Bob\", 45), Person(\"Charlie\", 28)]\n",
    "oldest_person = max(people, key=lambda person: person.age)\n",
    "print(\"Oldest person:\", oldest_person.name)"
   ]
  },
  {
   "cell_type": "markdown",
   "metadata": {
    "hidden": true
   },
   "source": [
    "- Find the Maximum Element with Custom Comparison Function:"
   ]
  },
  {
   "cell_type": "code",
   "execution_count": null,
   "metadata": {
    "hidden": true
   },
   "outputs": [],
   "source": [
    "def custom_compare(a, b):\n",
    "    return (a % 10) - (b % 10)\n",
    "\n",
    "numbers = [35, 24, 17, 102, 63]\n",
    "max_num_custom = max(numbers, key=lambda x: x, default=0, cmp=custom_compare)\n",
    "print(\"Maximum number with custom comparison:\", max_num_custom)"
   ]
  },
  {
   "cell_type": "code",
   "execution_count": null,
   "metadata": {
    "hidden": true
   },
   "outputs": [],
   "source": []
  },
  {
   "cell_type": "markdown",
   "metadata": {
    "heading_collapsed": true,
    "hidden": true,
    "jp-MarkdownHeadingCollapsed": true,
    "tags": []
   },
   "source": [
    "#### `ord(...)`/`chr(...)`/`id(...)`"
   ]
  },
  {
   "cell_type": "code",
   "execution_count": null,
   "metadata": {
    "hidden": true
   },
   "outputs": [],
   "source": [
    "\n",
    "def _test_ord():\n",
    "    \n",
    "    D = OrderedDict()\n",
    "    for leter in string.ascii_uppercase: D[leter] = ord(leter)\n",
    "    for key, value in D.items(): print(key, ':', value)\n",
    "\n",
    "_test_ord()\n",
    "        \n"
   ]
  },
  {
   "cell_type": "markdown",
   "metadata": {
    "hidden": true
   },
   "source": []
  },
  {
   "cell_type": "markdown",
   "metadata": {
    "heading_collapsed": true,
    "hidden": true
   },
   "source": [
    "#### `setattr()`/`getattr()`"
   ]
  },
  {
   "cell_type": "code",
   "execution_count": null,
   "metadata": {
    "hidden": true
   },
   "outputs": [],
   "source": []
  },
  {
   "cell_type": "markdown",
   "metadata": {
    "heading_collapsed": true,
    "hidden": true
   },
   "source": [
    "#### `isinstance()`/`issubclass()`"
   ]
  },
  {
   "cell_type": "code",
   "execution_count": null,
   "metadata": {
    "hidden": true
   },
   "outputs": [],
   "source": []
  },
  {
   "cell_type": "markdown",
   "metadata": {
    "heading_collapsed": true,
    "hidden": true
   },
   "source": [
    "#### `divmod(a, b)`"
   ]
  },
  {
   "cell_type": "code",
   "execution_count": 46,
   "metadata": {
    "hidden": true
   },
   "outputs": [
    {
     "data": {
      "text/plain": [
       "(11, 3)"
      ]
     },
     "execution_count": 46,
     "metadata": {},
     "output_type": "execute_result"
    }
   ],
   "source": [
    "divmod(113, 10)"
   ]
  },
  {
   "cell_type": "code",
   "execution_count": null,
   "metadata": {
    "hidden": true
   },
   "outputs": [],
   "source": []
  },
  {
   "cell_type": "markdown",
   "metadata": {
    "heading_collapsed": true,
    "tags": []
   },
   "source": [
    "# Collection Interface"
   ]
  },
  {
   "cell_type": "markdown",
   "metadata": {
    "heading_collapsed": true,
    "hidden": true,
    "jp-MarkdownHeadingCollapsed": true,
    "tags": []
   },
   "source": [
    "### list:"
   ]
  },
  {
   "cell_type": "markdown",
   "metadata": {
    "hidden": true
   },
   "source": [
    "- Two list can be added with each other.\n",
    "- A list cannot be subtracted from another.\n",
    "- Mutable Object"
   ]
  },
  {
   "cell_type": "markdown",
   "metadata": {
    "hidden": true
   },
   "source": [
    "<h5> <font color='magenta'> List API"
   ]
  },
  {
   "cell_type": "markdown",
   "metadata": {
    "hidden": true
   },
   "source": [
    "-   `list.append(object)` => Append object to the end of the list.\n",
    "-   `list.clear()` => Remove all items from list.\n",
    "-   `list.copy()` => Return a shallow copy of the list.\n",
    "-   `list.count(value)` => Return number of occurrences of value.\n",
    "-   `list.extend(iterable)` => Extend list by appending elements from the iterable.\n",
    "-   `list.index(value, start=0, stop=9223372036854775807)` => Return first index of value.\n",
    "-   `list.insert(index, object)` => Insert object before index.\n",
    "-   `list.pop(index=-1)` => Remove and return item at index (default last).\n",
    "-   `list.remove(value)` => Remove first occurrence of value.\n",
    "-   `list.reverse()` => Reverse *IN PLACE*.\n",
    "-   `list.sort(key=None, reverse=False)` => Sort the list in ascending order and return None."
   ]
  },
  {
   "cell_type": "code",
   "execution_count": 6,
   "metadata": {
    "hidden": true
   },
   "outputs": [],
   "source": [
    "a1 = [[77, 11], 1,2]\n",
    "a2 = list(range(5))\n",
    "a3 = a1+a2\n",
    "a1[0] = 10"
   ]
  },
  {
   "cell_type": "code",
   "execution_count": 7,
   "metadata": {
    "hidden": true
   },
   "outputs": [
    {
     "data": {
      "text/plain": [
       "[4, 3, 2, 1, 0]"
      ]
     },
     "execution_count": 7,
     "metadata": {},
     "output_type": "execute_result"
    }
   ],
   "source": [
    "a2[::-1]"
   ]
  },
  {
   "cell_type": "code",
   "execution_count": 27,
   "metadata": {
    "hidden": true
   },
   "outputs": [
    {
     "name": "stdout",
     "output_type": "stream",
     "text": [
      "[10, 1, 2]\n",
      "[0, 1, 2, 3, 4]\n",
      "[[77, 11], 1, 2, 0, 1, 2, 3, 4]\n"
     ]
    }
   ],
   "source": [
    "print(a1, a2, a3, sep='\\n')"
   ]
  },
  {
   "cell_type": "code",
   "execution_count": 28,
   "metadata": {
    "hidden": true
   },
   "outputs": [
    {
     "name": "stdout",
     "output_type": "stream",
     "text": [
      "True\n",
      "False\n"
     ]
    }
   ],
   "source": [
    "lst1 = [1]; lst2 = [1]\n",
    "print(lst1 == lst2, lst1 is lst2, sep='\\n')"
   ]
  },
  {
   "cell_type": "code",
   "execution_count": 30,
   "metadata": {
    "hidden": true
   },
   "outputs": [],
   "source": [
    "# d = {a1: 'an array'}    # ERROR!  => unhashable type: 'list'"
   ]
  },
  {
   "cell_type": "code",
   "execution_count": 52,
   "metadata": {
    "hidden": true
   },
   "outputs": [
    {
     "data": {
      "text/plain": [
       "[0, 1, 2, 3, 4, 5, 6, 7]"
      ]
     },
     "execution_count": 52,
     "metadata": {},
     "output_type": "execute_result"
    }
   ],
   "source": [
    "L = [*range(8)]; L"
   ]
  },
  {
   "cell_type": "code",
   "execution_count": 49,
   "metadata": {
    "hidden": true
   },
   "outputs": [
    {
     "name": "stdout",
     "output_type": "stream",
     "text": [
      "[0, 2, 4, 6]\n",
      "[7, 6, 5, 4, 3, 2, 1, 0]\n",
      "[3, 4, 5, 6, 7]\n",
      "[0, 1, 2]\n",
      "[1, 2]\n"
     ]
    }
   ],
   "source": [
    "print(L[::2], L[::-1], L[3:], L[:3], L[1:3], sep='\\n')"
   ]
  },
  {
   "cell_type": "code",
   "execution_count": 61,
   "metadata": {
    "hidden": true
   },
   "outputs": [
    {
     "name": "stdout",
     "output_type": "stream",
     "text": [
      "[(0, 0), (1, 1), (2, 2), (3, 3), (4, 4), (5, 5), (6, 6), (7, 7)]\n",
      "[(7, 7), (6, 6), (5, 5), (4, 4), (3, 3), (2, 2), (1, 1)]\n"
     ]
    }
   ],
   "source": [
    "print([*enumerate(L)], list(reversed([*enumerate(L[1:], 1)])), sep='\\n')"
   ]
  },
  {
   "cell_type": "markdown",
   "metadata": {
    "heading_collapsed": true,
    "hidden": true,
    "tags": []
   },
   "source": [
    "### dict"
   ]
  },
  {
   "cell_type": "markdown",
   "metadata": {
    "hidden": true
   },
   "source": [
    "- In Python 3.7 and later versions, the dict object is guaranteed to maintain insertion order. This means that the order in which key-value pairs are added to the dictionary is preserved when iterating over the dictionary.\n",
    "- Arithmatic Operations like `+` or `-` are not supported !\n",
    "- Default iteration goes over the 'keys'."
   ]
  },
  {
   "cell_type": "markdown",
   "metadata": {
    "hidden": true
   },
   "source": [
    "- `dict.clear()` => Remove all items from D\n",
    "- `dict.copy()` => a shallow copy of the dictionary.\n",
    "- `dict.fromkeys(iterable, value=None)` => Create a new dictionary with keys from iterable and values set to value.\n",
    "- `dict.get(key, default=None)` => Return the value for key if key is in the dictionary, else default.\n",
    "- `dict.items()` => a set-like object providing a view on dict's items\n",
    "- `dict.keys()` => a set-like object providing a view on D's keys\n",
    "- `dict.pop(key[,default])` => remove specified key and return the corresponding value. If the key is not found, return the default if given; otherwise, raise a KeyError.\n",
    "- `dict.popitem()` => Remove and return a (key, value) pair as a 2-tuple. Pairs are returned in LIFO (last-in, first-out) order. Raises KeyError if the dict is empty.\n",
    "- `dict.setdefault(key, default=None)` => Insert key with a value of default if key is not in the dictionary. Return the value for key if key is in the dictionary, else default.\n",
    "- `dict.update()` => Update D from dict/iterable\n",
    "- `dict.values()` => an object providing a view on dict's values"
   ]
  },
  {
   "cell_type": "code",
   "execution_count": 5,
   "metadata": {
    "hidden": true
   },
   "outputs": [],
   "source": [
    "L = [*range(1000, 10001, 1000)]"
   ]
  },
  {
   "cell_type": "code",
   "execution_count": 6,
   "metadata": {
    "hidden": true
   },
   "outputs": [],
   "source": [
    "d = {k:v for k,v in enumerate(L)};# d"
   ]
  },
  {
   "cell_type": "code",
   "execution_count": 7,
   "metadata": {
    "hidden": true
   },
   "outputs": [],
   "source": [
    "# for k in d: print(k)"
   ]
  },
  {
   "cell_type": "code",
   "execution_count": 8,
   "metadata": {
    "hidden": true
   },
   "outputs": [],
   "source": [
    "d1 = {k:v for k,v in enumerate(L)};# d1\n",
    "d2 = {k:v for k,v in enumerate(L)};# d2"
   ]
  },
  {
   "cell_type": "code",
   "execution_count": 9,
   "metadata": {
    "hidden": true
   },
   "outputs": [
    {
     "name": "stdout",
     "output_type": "stream",
     "text": [
      "True\n",
      "False\n"
     ]
    }
   ],
   "source": [
    "print(d1 == d2, d1 is d2, sep='\\n')"
   ]
  },
  {
   "cell_type": "code",
   "execution_count": 25,
   "metadata": {
    "hidden": true
   },
   "outputs": [
    {
     "data": {
      "text/plain": [
       "(dict_keys, dict_values)"
      ]
     },
     "execution_count": 25,
     "metadata": {},
     "output_type": "execute_result"
    }
   ],
   "source": [
    "type(d.keys()), type(d.values())"
   ]
  },
  {
   "cell_type": "code",
   "execution_count": 29,
   "metadata": {
    "hidden": true
   },
   "outputs": [
    {
     "name": "stdout",
     "output_type": "stream",
     "text": [
      "dict_keys([0, 1, 2, 3, 4, 5, 6, 7, 8, 9])\n",
      "0 1 2 3 4 5 6 7 8 9\n"
     ]
    },
    {
     "data": {
      "text/plain": [
       "(None, None)"
      ]
     },
     "execution_count": 29,
     "metadata": {},
     "output_type": "execute_result"
    }
   ],
   "source": [
    "print(d.keys()), print(*d.keys())"
   ]
  },
  {
   "cell_type": "code",
   "execution_count": 22,
   "metadata": {
    "hidden": true
   },
   "outputs": [
    {
     "data": {
      "text/plain": [
       "[0, 1, 2, 3, 4, 5, 6, 7, 8, 9]"
      ]
     },
     "execution_count": 22,
     "metadata": {},
     "output_type": "execute_result"
    }
   ],
   "source": [
    "sorted(d.keys())"
   ]
  },
  {
   "cell_type": "markdown",
   "metadata": {
    "hidden": true
   },
   "source": [
    "<font color='magenta'>Subclass of dict: `collections.Counter()` vs `collections.OrderedDict()` vs `collections.defaultdict()`"
   ]
  },
  {
   "cell_type": "code",
   "execution_count": 1,
   "metadata": {
    "hidden": true,
    "tags": []
   },
   "outputs": [],
   "source": [
    "from collections import Counter,defaultdict,OrderedDict,namedtuple"
   ]
  },
  {
   "cell_type": "code",
   "execution_count": 2,
   "metadata": {
    "hidden": true,
    "tags": []
   },
   "outputs": [
    {
     "data": {
      "text/plain": [
       "True"
      ]
     },
     "execution_count": 2,
     "metadata": {},
     "output_type": "execute_result"
    }
   ],
   "source": [
    "issubclass(Counter,dict) and issubclass(defaultdict,dict) and issubclass(OrderedDict,dict)"
   ]
  },
  {
   "cell_type": "markdown",
   "metadata": {
    "heading_collapsed": true,
    "hidden": true,
    "jp-MarkdownHeadingCollapsed": true,
    "tags": []
   },
   "source": [
    "#### collections.Counter: "
   ]
  },
  {
   "cell_type": "markdown",
   "metadata": {
    "hidden": true
   },
   "source": [
    "- It is a subclass of dict and behaves like a dictionary, but with additional functionalities specific to counting elements.\n",
    "- It's not an ordered mapping. It's does not guarantee any specific order of elements. \n",
    "- supports various arithmetic operations that allow you to perform set-like operations on collections. You can use operators like `+` (union), `-` (difference), and `&` (intersection) on Counter objects.\n",
    "- If you try to access the count of an element that is not present in the Counter, it will return 0 instead of raising a KeyError.\n",
    "- provides a method called `most_common()` that returns a list of the n most common elements and their counts in descending order."
   ]
  },
  {
   "cell_type": "markdown",
   "metadata": {
    "hidden": true
   },
   "source": [
    "- **The extra functionalities beyond \"dict\" API provided by Counter**"
   ]
  },
  {
   "cell_type": "code",
   "execution_count": 37,
   "metadata": {
    "hidden": true
   },
   "outputs": [
    {
     "data": {
      "text/plain": [
       "{'__add__',\n",
       " '__and__',\n",
       " '__dict__',\n",
       " '__iadd__',\n",
       " '__iand__',\n",
       " '__isub__',\n",
       " '__missing__',\n",
       " '__module__',\n",
       " '__neg__',\n",
       " '__pos__',\n",
       " '__sub__',\n",
       " '__weakref__',\n",
       " '_keep_positive',\n",
       " 'elements',\n",
       " 'most_common',\n",
       " 'subtract',\n",
       " 'total'}"
      ]
     },
     "execution_count": 37,
     "metadata": {},
     "output_type": "execute_result"
    }
   ],
   "source": [
    "set(dir(Counter)) - set(dir(dict))"
   ]
  },
  {
   "cell_type": "markdown",
   "metadata": {
    "hidden": true
   },
   "source": [
    "-    `Counter.elements()` => Iterator over elements repeating each as many times as its count.\n",
    "-    `Counter.most_common(n=None)` => List the n most common elements and their counts from the common to the least. If n is None, then list all element counts.\n",
    "-    `Counter.subtract(iterable=None)` => Like `dict.update()` but subtracts counts instead of replacing them. Counts can be reduced below zero.  Both the inputs and outputs are allowed to contain zero and negative counts. Source can be an iterable, a dictionary, or another Counter instance.\n",
    "-    `Counter.total()` => Sum of the counts"
   ]
  },
  {
   "cell_type": "code",
   "execution_count": 8,
   "metadata": {
    "hidden": true
   },
   "outputs": [],
   "source": [
    "set_counter = Counter({1,2,3,0})\n",
    "list_counter = Counter([1,1,2,3,3,3,3,2,1,0,0,0])\n",
    "str_counter = Counter('aminul Momin')\n",
    "tuple_counter = Counter((1,2,3,3,2,1,0))\n",
    "dict_counter1 = Counter({'one':1, 'two':2, 'three':3})\n",
    "dict_counter2 = Counter({v:k for k,v in dict_counter1.items()})"
   ]
  },
  {
   "cell_type": "code",
   "execution_count": 9,
   "metadata": {
    "hidden": true
   },
   "outputs": [
    {
     "data": {
      "text/plain": [
       "Counter({1: 3, 2: 2, 3: 4, 0: 3})"
      ]
     },
     "execution_count": 9,
     "metadata": {},
     "output_type": "execute_result"
    }
   ],
   "source": [
    "list_counter"
   ]
  },
  {
   "cell_type": "code",
   "execution_count": 10,
   "metadata": {
    "code_folding": [
     0
    ],
    "hidden": true
   },
   "outputs": [
    {
     "name": "stdout",
     "output_type": "stream",
     "text": [
      "Counter({0: 1, 1: 1, 2: 1, 3: 1})\n",
      "Counter({3: 4, 1: 3, 0: 3, 2: 2})\n",
      "Counter({'m': 2, 'i': 2, 'n': 2, 'a': 1, 'u': 1, 'l': 1, ' ': 1, 'M': 1, 'o': 1})\n",
      "Counter({1: 2, 2: 2, 3: 2, 0: 1})\n",
      "Counter({'three': 3, 'two': 2, 'one': 1})\n",
      "Counter({2: 'two', 3: 'three', 1: 'one'})\n"
     ]
    }
   ],
   "source": [
    "print(\n",
    "    set_counter,\n",
    "    list_counter,\n",
    "    str_counter,\n",
    "    tuple_counter,\n",
    "    dict_counter1,\n",
    "    dict_counter2,\n",
    "    sep='\\n'\n",
    ")"
   ]
  },
  {
   "cell_type": "code",
   "execution_count": 11,
   "metadata": {
    "hidden": true
   },
   "outputs": [
    {
     "data": {
      "text/plain": [
       "Counter({1: 2, 2: 1, 3: 3, 0: 2})"
      ]
     },
     "execution_count": 11,
     "metadata": {},
     "output_type": "execute_result"
    }
   ],
   "source": [
    "list_counter-set_counter"
   ]
  },
  {
   "cell_type": "code",
   "execution_count": 12,
   "metadata": {
    "hidden": true
   },
   "outputs": [
    {
     "data": {
      "text/plain": [
       "Counter({1: 4, 2: 3, 3: 5, 0: 4})"
      ]
     },
     "execution_count": 12,
     "metadata": {},
     "output_type": "execute_result"
    }
   ],
   "source": [
    "list_counter+set_counter"
   ]
  },
  {
   "cell_type": "code",
   "execution_count": 13,
   "metadata": {
    "hidden": true
   },
   "outputs": [
    {
     "data": {
      "text/plain": [
       "Counter({1: 3, 2: 2, 3: 4, 0: 3})"
      ]
     },
     "execution_count": 13,
     "metadata": {},
     "output_type": "execute_result"
    }
   ],
   "source": [
    "list_counter | set_counter"
   ]
  },
  {
   "cell_type": "code",
   "execution_count": 14,
   "metadata": {
    "hidden": true
   },
   "outputs": [
    {
     "name": "stdout",
     "output_type": "stream",
     "text": [
      "True\n",
      "Counter({2: 3, 1: 2, 3: 1, 5: 1}) Counter({2: 3, 1: 2, 5: 1, 3: 1})\n"
     ]
    }
   ],
   "source": [
    "c1 = Counter([2,2,1,3,2,1,5])\n",
    "c2 = Counter([5,1,3,2,1,2,2])\n",
    "print(c1 == c2)\n",
    "print(c1, c2)"
   ]
  },
  {
   "cell_type": "code",
   "execution_count": 10,
   "metadata": {
    "hidden": true
   },
   "outputs": [
    {
     "name": "stdout",
     "output_type": "stream",
     "text": [
      "Evaluated: => Counter({'three': 3, 'two': 2, 'one': 1})\n"
     ]
    }
   ],
   "source": [
    "if dict_counter1 - dict_counter1: \n",
    "    print(f\"Evaluated: => {dict_counter1 - dict_counter1}\")\n",
    "if dict_counter1 - (dict_counter1 + dict_counter1):\n",
    "    print(f\"Evaluated: => {dict_counter1 - (dict_counter1 + dict_counter1)}\")\n",
    "if (dict_counter1 + dict_counter1) - dict_counter1: \n",
    "    print(f\"Evaluated: => {(dict_counter1 + dict_counter1) - dict_counter1}\")"
   ]
  },
  {
   "cell_type": "code",
   "execution_count": 38,
   "metadata": {
    "hidden": true
   },
   "outputs": [],
   "source": [
    "cntr1 = Counter({'one':1, 'two':3, 'three':3})\n",
    "cntr2 = Counter({'one':1, 'two':2, 'three':3, 'four':4})"
   ]
  },
  {
   "cell_type": "code",
   "execution_count": 39,
   "metadata": {
    "hidden": true
   },
   "outputs": [
    {
     "name": "stdout",
     "output_type": "stream",
     "text": [
      "Counter({'four': 4})\n",
      "Counter({'two': 1})\n"
     ]
    }
   ],
   "source": [
    "print(cntr2-cntr1, cntr1-cntr2, sep=\"\\n\")"
   ]
  },
  {
   "cell_type": "code",
   "execution_count": 45,
   "metadata": {
    "hidden": true
   },
   "outputs": [],
   "source": [
    "counter = Counter([randint(-5,5) for _ in range(100)])"
   ]
  },
  {
   "cell_type": "code",
   "execution_count": 46,
   "metadata": {
    "hidden": true
   },
   "outputs": [
    {
     "name": "stdout",
     "output_type": "stream",
     "text": [
      "10\n"
     ]
    }
   ],
   "source": [
    "c = counter.get(1, 0)\n",
    "print(c)"
   ]
  },
  {
   "cell_type": "code",
   "execution_count": 17,
   "metadata": {
    "hidden": true
   },
   "outputs": [],
   "source": [
    "counter[1] = counter[1]+1"
   ]
  },
  {
   "cell_type": "code",
   "execution_count": 18,
   "metadata": {
    "hidden": true,
    "scrolled": true
   },
   "outputs": [
    {
     "data": {
      "text/plain": [
       "9"
      ]
     },
     "execution_count": 18,
     "metadata": {},
     "output_type": "execute_result"
    }
   ],
   "source": [
    "counter[1]"
   ]
  },
  {
   "cell_type": "code",
   "execution_count": 24,
   "metadata": {
    "hidden": true,
    "scrolled": true
   },
   "outputs": [],
   "source": [
    "# for i in counter: print(i)"
   ]
  },
  {
   "cell_type": "code",
   "execution_count": 48,
   "metadata": {
    "hidden": true
   },
   "outputs": [
    {
     "data": {
      "text/plain": [
       "[5, -3, 4, 0, -4, 3, 1, 2, -5, -1, -2]"
      ]
     },
     "execution_count": 48,
     "metadata": {},
     "output_type": "execute_result"
    }
   ],
   "source": [
    "L = list(counter)\n",
    "L"
   ]
  },
  {
   "cell_type": "code",
   "execution_count": 49,
   "metadata": {
    "hidden": true
   },
   "outputs": [],
   "source": [
    "c1 = counter = Counter([randint(-5,5) for _ in range(100)])\n",
    "c2 = counter = Counter([randint(-5,5) for _ in range(100)])"
   ]
  },
  {
   "cell_type": "code",
   "execution_count": 53,
   "metadata": {
    "hidden": true
   },
   "outputs": [
    {
     "data": {
      "text/plain": [
       "[(-1, 24), (-5, 24)]"
      ]
     },
     "execution_count": 53,
     "metadata": {},
     "output_type": "execute_result"
    }
   ],
   "source": [
    "(c1+c2).most_common(2)"
   ]
  },
  {
   "cell_type": "code",
   "execution_count": 59,
   "metadata": {
    "hidden": true
   },
   "outputs": [
    {
     "data": {
      "text/plain": [
       "(200, 200)"
      ]
     },
     "execution_count": 59,
     "metadata": {},
     "output_type": "execute_result"
    }
   ],
   "source": [
    "len(list((c1+c2).elements())), sum((c1+c2).values())"
   ]
  },
  {
   "cell_type": "code",
   "execution_count": 60,
   "metadata": {
    "hidden": true
   },
   "outputs": [
    {
     "data": {
      "text/plain": [
       "200"
      ]
     },
     "execution_count": 60,
     "metadata": {},
     "output_type": "execute_result"
    }
   ],
   "source": [
    "(c1+c2).total()"
   ]
  },
  {
   "cell_type": "markdown",
   "metadata": {
    "heading_collapsed": true,
    "hidden": true,
    "jp-MarkdownHeadingCollapsed": true,
    "tags": []
   },
   "source": [
    "#### collections.OrderedDict:"
   ]
  },
  {
   "cell_type": "markdown",
   "metadata": {
    "hidden": true
   },
   "source": [
    "- OrderedDict is subclasses of dict.\n",
    "- OrderedDict keeps the elements in the order that they were in when they were first inserted.\n",
    "- If we remove an element and re-add it, the element will be pushed to the back. If an element’s key changes, the position does not change."
   ]
  },
  {
   "cell_type": "markdown",
   "metadata": {
    "hidden": true
   },
   "source": [
    "`OrderedDict.copy()`\n",
    "`OrderedDict.fromkeys()`\n",
    "`OrderedDict.get()`\n",
    "`OrderedDict.ites()`\n",
    "`OrderedDict.keys()`\n",
    "`OrderedDict.moveto_end()`\n",
    "`OrderedDict.pop()`\n",
    "`OrderedDict.poptem()`\n",
    "`OrderedDict.setdefalt()`\n",
    "`OrderedDict.update()`\n",
    "`OrderedDict.values()`"
   ]
  },
  {
   "cell_type": "markdown",
   "metadata": {
    "heading_collapsed": true,
    "hidden": true,
    "jp-MarkdownHeadingCollapsed": true,
    "tags": []
   },
   "source": [
    "#### collections.defaultdict"
   ]
  },
  {
   "cell_type": "code",
   "execution_count": 38,
   "metadata": {
    "hidden": true
   },
   "outputs": [],
   "source": [
    "from collections import defaultdict"
   ]
  },
  {
   "cell_type": "markdown",
   "metadata": {
    "hidden": true
   },
   "source": [
    "- A defaultdict is a useful subclass of `dict` that doesn’t raise a KeyError exception when trying to access an undefined key. However, you must define a function that defines what you want to return when a key is searched for that doesn’t exist.\n",
    "- It does not provide any aditional methods besides the methods of it's parent (`dict`)"
   ]
  },
  {
   "cell_type": "code",
   "execution_count": 62,
   "metadata": {
    "hidden": true
   },
   "outputs": [
    {
     "name": "stdout",
     "output_type": "stream",
     "text": [
      "('a', 1)\n",
      "('b', 2)\n",
      "('c', 3)\n",
      "\n",
      "\n",
      "default value\n",
      "\n",
      "\n",
      "('a', 1)\n",
      "('b', 2)\n",
      "('c', 3)\n",
      "('d', 'default value')\n"
     ]
    }
   ],
   "source": [
    "from collections import defaultdict\n",
    "\n",
    "def defval():\n",
    "  return 'default value'\n",
    "\n",
    "mydict = defaultdict(defval)\n",
    "mydict['a'] = 1\n",
    "mydict['b'] = 2\n",
    "mydict['c'] = 3\n",
    "\n",
    "for k in mydict.items():\n",
    "  print(k)\n",
    "\n",
    "print('\\n') \n",
    "\n",
    "# if we try to get 'd' \n",
    "print(mydict['d']) # with a 'generic' dict this will raise a KeyError exception\n",
    "\n",
    "print('\\n') \n",
    "\n",
    "# it also add it to the dict\n",
    "for k in mydict.items():\n",
    "  print(k)"
   ]
  },
  {
   "cell_type": "markdown",
   "metadata": {
    "heading_collapsed": true,
    "hidden": true,
    "jp-MarkdownHeadingCollapsed": true,
    "tags": []
   },
   "source": [
    "### set:"
   ]
  },
  {
   "cell_type": "markdown",
   "metadata": {
    "hidden": true
   },
   "source": [
    "`set.add()`\n",
    "`set.clear()`\n",
    "`set.copy()`\n",
    "`set.difference()`\n",
    "`set.difference_update()`\n",
    "`set.discard()`\n",
    "`set.intersection()`\n",
    "`set.intersection_update()`\n",
    "`set.isdisjoint()`\n",
    "`set.issubset()`\n",
    "`set.issuperset()`\n",
    "`set.pop()`\n",
    "`set.remove()`\n",
    "`set.symmetric_difference()`\n",
    "`set.symmetric_difference_update()`\n",
    "`set.union()`\n",
    "`set.update()`"
   ]
  },
  {
   "cell_type": "markdown",
   "metadata": {
    "hidden": true
   },
   "source": [
    "- `set` object in Python is `hashset` and `ordered set`\n",
    "- `set` object is `not subscriptable`\n",
    "- `Subtruection` operation is supported but `Addition` is not supported!\n",
    "- The order of element additon in a set is not guaranteed, so the output may vary for methods like `pop()`."
   ]
  },
  {
   "cell_type": "code",
   "execution_count": 35,
   "metadata": {
    "hidden": true
   },
   "outputs": [],
   "source": [
    "set1 = {1,2,3}; set2 = {1,2,3}"
   ]
  },
  {
   "cell_type": "code",
   "execution_count": 36,
   "metadata": {
    "hidden": true
   },
   "outputs": [
    {
     "name": "stdout",
     "output_type": "stream",
     "text": [
      "True\n",
      "False\n"
     ]
    }
   ],
   "source": [
    "print(set1 == set2, set1 is set2, sep='\\n')"
   ]
  },
  {
   "cell_type": "code",
   "execution_count": 37,
   "metadata": {
    "hidden": true
   },
   "outputs": [],
   "source": [
    "seta = set('she sells sea shells by the sea shore')\n",
    "setb = set('shore')"
   ]
  },
  {
   "cell_type": "code",
   "execution_count": 38,
   "metadata": {
    "hidden": true
   },
   "outputs": [
    {
     "data": {
      "text/plain": [
       "({' ', 'a', 'b', 'e', 'h', 'l', 'o', 'r', 's', 't', 'y'},\n",
       " {'e', 'h', 'o', 'r', 's'},\n",
       " {' ', 'a', 'b', 'l', 't', 'y'})"
      ]
     },
     "execution_count": 38,
     "metadata": {},
     "output_type": "execute_result"
    }
   ],
   "source": [
    "seta, setb, seta - setb"
   ]
  },
  {
   "cell_type": "code",
   "execution_count": 39,
   "metadata": {
    "hidden": true
   },
   "outputs": [],
   "source": [
    "# seta + setb # ERRORS !"
   ]
  },
  {
   "cell_type": "code",
   "execution_count": 40,
   "metadata": {
    "hidden": true
   },
   "outputs": [],
   "source": [
    "# seta[0] # ERRORS !"
   ]
  },
  {
   "cell_type": "code",
   "execution_count": 41,
   "metadata": {
    "hidden": true
   },
   "outputs": [
    {
     "data": {
      "text/plain": [
       "True"
      ]
     },
     "execution_count": 41,
     "metadata": {},
     "output_type": "execute_result"
    }
   ],
   "source": [
    "set1.issubset({1,2,3,4})"
   ]
  },
  {
   "cell_type": "code",
   "execution_count": 42,
   "metadata": {
    "hidden": true
   },
   "outputs": [
    {
     "data": {
      "text/plain": [
       "{'r', 's', 't'}"
      ]
     },
     "execution_count": 42,
     "metadata": {},
     "output_type": "execute_result"
    }
   ],
   "source": [
    "set('str')"
   ]
  },
  {
   "cell_type": "code",
   "execution_count": 43,
   "metadata": {
    "hidden": true,
    "scrolled": true
   },
   "outputs": [
    {
     "data": {
      "text/plain": [
       "Counter({'t': 1, 'r': 1, 's': 1})"
      ]
     },
     "execution_count": 43,
     "metadata": {},
     "output_type": "execute_result"
    }
   ],
   "source": [
    "Counter(set('str'))"
   ]
  },
  {
   "cell_type": "code",
   "execution_count": 47,
   "metadata": {
    "hidden": true
   },
   "outputs": [],
   "source": [
    "set1.update(seta)"
   ]
  },
  {
   "cell_type": "code",
   "execution_count": 48,
   "metadata": {
    "hidden": true
   },
   "outputs": [],
   "source": [
    "set1.update({7,6,2})"
   ]
  },
  {
   "cell_type": "code",
   "execution_count": 56,
   "metadata": {
    "hidden": true
   },
   "outputs": [],
   "source": [
    "# set1.add(11);set1"
   ]
  },
  {
   "cell_type": "markdown",
   "metadata": {
    "hidden": true
   },
   "source": [
    "- **ChatGPT:**"
   ]
  },
  {
   "cell_type": "code",
   "execution_count": 34,
   "metadata": {
    "hidden": true
   },
   "outputs": [
    {
     "name": "stdout",
     "output_type": "stream",
     "text": [
      "After set.add(6): {1, 2, 3, 4, 5, 6}\n",
      "After set.clear(): set()\n",
      "Copy of set1: {1, 2, 3, 4, 5}\n",
      "Difference of set1 and set2: {1, 2, 3}\n",
      "After set.difference_update(set2): {1, 2, 3}\n",
      "After set.discard(3): {1, 2, 4, 5}\n",
      "Intersection of set1 and set2: {4, 5}\n",
      "After set.intersection_update(set2): {4, 5}\n",
      "Are set1 and set2 disjoint? False\n",
      "Is set1 a subset of set2? True\n",
      "Is set1 a superset of set2? False\n",
      "Popped element: 4\n",
      "Symmetric difference of set1 and set2: {4, 6, 7, 8}\n",
      "After set.symmetric_difference_update(set2): {4, 6, 7, 8}\n",
      "Union of set1 and set2: {4, 5, 6, 7, 8}\n",
      "After set.update(set2): {4, 5, 6, 7, 8}\n"
     ]
    }
   ],
   "source": [
    "# Creating two sets for demonstration\n",
    "set1 = {1, 2, 3, 4, 5}\n",
    "set2 = {4, 5, 6, 7, 8}\n",
    "\n",
    "# set.add(element) - Adds an element to the set\n",
    "set1.add(6)\n",
    "print(\"After set.add(6):\", set1)\n",
    "\n",
    "# set.clear() - Removes all elements from the set\n",
    "set1.clear()\n",
    "print(\"After set.clear():\", set1)\n",
    "\n",
    "# set.copy() - Returns a shallow copy of the set\n",
    "set1 = {1, 2, 3, 4, 5}\n",
    "set_copy = set1.copy()\n",
    "print(\"Copy of set1:\", set_copy)\n",
    "\n",
    "# set.difference(set) - Returns the difference of two sets as a new set\n",
    "difference_set = set1.difference(set2)\n",
    "print(\"Difference of set1 and set2:\", difference_set)\n",
    "\n",
    "# set.difference_update(set) - Removes elements of another set from this set\n",
    "set1.difference_update(set2)\n",
    "print(\"After set.difference_update(set2):\", set1)\n",
    "\n",
    "# set.discard(element) - Removes an element from the set if it is present\n",
    "set1 = {1, 2, 3, 4, 5}\n",
    "set1.discard(3)\n",
    "print(\"After set.discard(3):\", set1)\n",
    "\n",
    "# set.intersection(set) - Returns the intersection of two sets as a new set\n",
    "intersection_set = set1.intersection(set2)\n",
    "print(\"Intersection of set1 and set2:\", intersection_set)\n",
    "\n",
    "# set.intersection_update(set) - Updates the set with the intersection of itself and another set\n",
    "set1.intersection_update(set2)\n",
    "print(\"After set.intersection_update(set2):\", set1)\n",
    "\n",
    "# set.isdisjoint(set) - Returns True if two sets have no elements in common\n",
    "are_disjoint = set1.isdisjoint(set2)\n",
    "print(\"Are set1 and set2 disjoint?\", are_disjoint)\n",
    "\n",
    "# set.issubset(set) - Returns True if another set contains this set\n",
    "is_subset = set1.issubset(set2)\n",
    "print(\"Is set1 a subset of set2?\", is_subset)\n",
    "\n",
    "# set.issuperset(set) - Returns True if this set contains another set\n",
    "is_superset = set1.issuperset(set2)\n",
    "print(\"Is set1 a superset of set2?\", is_superset)\n",
    "\n",
    "# set.pop() - Removes and returns an arbitrary element from the set\n",
    "popped_element = set1.pop()\n",
    "print(\"Popped element:\", popped_element)\n",
    "\n",
    "# # set.remove(element) - Removes the specified element from the set\n",
    "# set1.remove(2)\n",
    "# print(\"After set.remove(2):\", set1)\n",
    "\n",
    "# set.symmetric_difference(set) - Returns the symmetric difference of two sets as a new set\n",
    "symmetric_difference_set = set1.symmetric_difference(set2)\n",
    "print(\"Symmetric difference of set1 and set2:\", symmetric_difference_set)\n",
    "\n",
    "# set.symmetric_difference_update(set) - Updates the set with the symmetric difference of itself and another set\n",
    "set1.symmetric_difference_update(set2)\n",
    "print(\"After set.symmetric_difference_update(set2):\", set1)\n",
    "\n",
    "# set.union(set) - Returns the union of two sets as a new set\n",
    "union_set = set1.union(set2)\n",
    "print(\"Union of set1 and set2:\", union_set)\n",
    "\n",
    "# set.update(set) - Updates the set with the union of itself and another set\n",
    "set1.update(set2)\n",
    "print(\"After set.update(set2):\", set1)\n"
   ]
  },
  {
   "cell_type": "markdown",
   "metadata": {
    "heading_collapsed": true,
    "hidden": true,
    "jp-MarkdownHeadingCollapsed": true,
    "tags": []
   },
   "source": [
    "### tuple"
   ]
  },
  {
   "cell_type": "code",
   "execution_count": 20,
   "metadata": {
    "hidden": true
   },
   "outputs": [],
   "source": [
    "tpl1 = (1,2,3); tpl2 = (1,2,3)"
   ]
  },
  {
   "cell_type": "code",
   "execution_count": 21,
   "metadata": {
    "hidden": true
   },
   "outputs": [
    {
     "name": "stdout",
     "output_type": "stream",
     "text": [
      "True\n",
      "False\n"
     ]
    }
   ],
   "source": [
    "print(tpl1 == tpl2, tpl1 is tpl2, sep='\\n')"
   ]
  },
  {
   "cell_type": "code",
   "execution_count": 22,
   "metadata": {
    "hidden": true
   },
   "outputs": [
    {
     "data": {
      "text/plain": [
       "(1, 2, 3, 1, 2, 3)"
      ]
     },
     "execution_count": 22,
     "metadata": {},
     "output_type": "execute_result"
    }
   ],
   "source": [
    "tpl1 + tpl2"
   ]
  },
  {
   "cell_type": "code",
   "execution_count": 24,
   "metadata": {
    "hidden": true
   },
   "outputs": [],
   "source": [
    "# tpl1 - tpl2 # ERRORS!"
   ]
  },
  {
   "cell_type": "code",
   "execution_count": 100,
   "metadata": {
    "hidden": true
   },
   "outputs": [],
   "source": [
    "T1 = ([1,2], 1); T2 = (5,6,7); T3 = T1+T2"
   ]
  },
  {
   "cell_type": "code",
   "execution_count": 101,
   "metadata": {
    "hidden": true
   },
   "outputs": [
    {
     "data": {
      "text/plain": [
       "([-1, 2], 1, 5, 6, 7)"
      ]
     },
     "execution_count": 101,
     "metadata": {},
     "output_type": "execute_result"
    }
   ],
   "source": [
    "T1[0][0] = -1\n",
    "T3"
   ]
  },
  {
   "cell_type": "markdown",
   "metadata": {
    "heading_collapsed": true,
    "hidden": true,
    "tags": []
   },
   "source": [
    "### str:"
   ]
  },
  {
   "cell_type": "markdown",
   "metadata": {
    "hidden": true
   },
   "source": [
    "- **Tips and Tricks for String and Character**"
   ]
  },
  {
   "cell_type": "markdown",
   "metadata": {
    "hidden": true
   },
   "source": [
    "1. **String Formatting with % Operator**: The `%` operator allows you to format strings using placeholders. The basic syntax involves using `%` along with a format specifier and a tuple or dictionary of values.\n",
    "\n",
    "    ```python\n",
    "    name = \"John\"\n",
    "    age, height = 25, 5.7\n",
    "    formatted_string = \"My name is %s, and I am %d years old and my height is %.2f\" % (name, age, height)\n",
    "    print(formatted_string)\n",
    "    ```\n",
    "\n",
    "    In this example, `%s` and `%d` are placeholders for string and integer values, respectively. The values are provided in a tuple (name, age) after the `%` operator.\n",
    "\n",
    "2. **String Formatting with str.format() Method**: The `str.format()` method provides a more flexible and readable way to format strings. It uses curly braces `{}` as placeholders.\n",
    "\n",
    "    ```python\n",
    "    name = \"John\"\n",
    "    age = 25\n",
    "    formatted_string = \"My name is {}, and I am {} years old.\".format(name, age)\n",
    "    print(formatted_string)\n",
    "    ```\n",
    "\n",
    "3. **f-strings (Formatted String Literals)**: Introduced in Python 3.6, f-strings provide a concise and readable way to perform string formatting. They are prefixed with the letter 'f', and expressions inside curly braces {} are evaluated at runtime.\n",
    "\n",
    "    ```python\n",
    "    name = \"John\"\n",
    "    age = 25\n",
    "    formatted_string = f\"My name is {name}, and I am {age} years old.\"\n",
    "    print(formatted_string)\n",
    "    ```\n",
    "\n",
    "4. **Template Strings with string.Template**: The string.Template class provides a simple and safe way to perform string substitution using placeholders.\n",
    "\n",
    "    ```python\n",
    "    from string import Template\n",
    "\n",
    "    name = \"John\"\n",
    "    age = 25\n",
    "    template = Template(\"My name is $name, and I am $age years old.\")\n",
    "    formatted_string = template.substitute(name=name, age=age)\n",
    "    print(formatted_string)\n",
    "    ```"
   ]
  },
  {
   "cell_type": "code",
   "execution_count": 4,
   "metadata": {
    "hidden": true,
    "tags": []
   },
   "outputs": [],
   "source": [
    "import string"
   ]
  },
  {
   "cell_type": "code",
   "execution_count": null,
   "metadata": {
    "hidden": true
   },
   "outputs": [],
   "source": [
    "name = \"John\"\n",
    "age, height = 25, 5.7\n",
    "formatted_string = \"My name is %s, and I am %d years old and my height is %.2f\" % (name, age, height)\n",
    "print(formatted_string)"
   ]
  },
  {
   "cell_type": "code",
   "execution_count": 60,
   "metadata": {
    "hidden": true,
    "tags": []
   },
   "outputs": [],
   "source": [
    "# dir(string)"
   ]
  },
  {
   "cell_type": "markdown",
   "metadata": {
    "hidden": true
   },
   "source": [
    "`string.ascii_letters`\n",
    "`string.ascii_lowercase`\n",
    "`string.ascii_uppercase`\n",
    "`string.capwords`\n",
    "`string.digits`\n",
    "`string.hexdigits`\n",
    "`string.octdigits`\n",
    "`string.printable`\n",
    "`string.punctuation`\n",
    "`string.whitespace`"
   ]
  },
  {
   "cell_type": "code",
   "execution_count": 18,
   "metadata": {
    "code_folding": [
     0
    ],
    "hidden": true,
    "scrolled": true,
    "tags": []
   },
   "outputs": [
    {
     "name": "stdout",
     "output_type": "stream",
     "text": [
      "\u001b[01;5m  \u001b[01;31m string.ascii_letters \u001b[m  \u001b[m: abcdefghijklmnopqrstuvwxyzABCDEFGHIJKLMNOPQRSTUVWXYZ\n",
      "\u001b[01;5m  \u001b[01;31m string.ascii_lowercase \u001b[m  \u001b[m: abcdefghijklmnopqrstuvwxyz\n",
      "\u001b[01;5m  \u001b[01;31m string.ascii_uppercase \u001b[m  \u001b[m: ABCDEFGHIJKLMNOPQRSTUVWXYZ\n",
      "\u001b[01;5m  \u001b[01;31m string.whitespace \u001b[m  \u001b[m: [' ', '\\t', '\\n', '\\r', '\\x0b', '\\x0c']\n",
      "\u001b[01;5m  \u001b[01;31m string.digits \u001b[m  \u001b[m: 0123456789\n",
      "\u001b[01;5m  \u001b[01;31m string.hexdigits \u001b[m  \u001b[m: 0123456789abcdefABCDEF\n",
      "\u001b[01;5m  \u001b[01;31m string.octdigits \u001b[m  \u001b[m: 01234567\n"
     ]
    }
   ],
   "source": [
    "print(\n",
    "    f\"{red('string.ascii_letters')}: {string.ascii_letters}\",\n",
    "    f\"{red('string.ascii_lowercase')}: {string.ascii_lowercase}\",\n",
    "    f\"{red('string.ascii_uppercase')}: {string.ascii_uppercase}\",\n",
    "    f\"{red('string.whitespace')}: {list(string.whitespace)}\",\n",
    "    f\"{red('string.digits')}: {string.digits}\",\n",
    "    f\"{red('string.hexdigits')}: {string.hexdigits}\",\n",
    "    f\"{red('string.octdigits')}: {string.octdigits}\",\n",
    "    sep='\\n'\n",
    ")"
   ]
  },
  {
   "cell_type": "code",
   "execution_count": 19,
   "metadata": {
    "hidden": true,
    "tags": []
   },
   "outputs": [],
   "source": [
    "leters = string.ascii_letters\n",
    "lowercase = string.ascii_lowercase\n",
    "uppercase = string.ascii_uppercase\n",
    "digits = string.digits"
   ]
  },
  {
   "cell_type": "code",
   "execution_count": 50,
   "metadata": {
    "hidden": true,
    "tags": []
   },
   "outputs": [],
   "source": [
    "bytes_str = b\"a string\" # bytes object"
   ]
  },
  {
   "cell_type": "code",
   "execution_count": 51,
   "metadata": {
    "hidden": true,
    "scrolled": true,
    "tags": []
   },
   "outputs": [
    {
     "data": {
      "text/plain": [
       "'a string'"
      ]
     },
     "execution_count": 51,
     "metadata": {},
     "output_type": "execute_result"
    }
   ],
   "source": [
    "regular_str1 = bytes_str.decode('ascii'); regular_str1"
   ]
  },
  {
   "cell_type": "code",
   "execution_count": 52,
   "metadata": {
    "hidden": true,
    "tags": []
   },
   "outputs": [
    {
     "data": {
      "text/plain": [
       "'a string'"
      ]
     },
     "execution_count": 52,
     "metadata": {},
     "output_type": "execute_result"
    }
   ],
   "source": [
    "regular_str2 = bytes_str.decode('utf-8'); regular_str2"
   ]
  },
  {
   "cell_type": "code",
   "execution_count": 53,
   "metadata": {
    "hidden": true
   },
   "outputs": [
    {
     "data": {
      "text/plain": [
       "'this is called f-string: \\n  \\t\\n\\r\\x0b\\x0c'"
      ]
     },
     "execution_count": 53,
     "metadata": {},
     "output_type": "execute_result"
    }
   ],
   "source": [
    "f_str = f\"this is called f-string: \\n {string.whitespace}\"; f_str"
   ]
  },
  {
   "cell_type": "code",
   "execution_count": 54,
   "metadata": {
    "hidden": true
   },
   "outputs": [
    {
     "name": "stdout",
     "output_type": "stream",
     "text": [
      "this is called f-string: \n",
      "  \t\n",
      "\r",
      "\u000b",
      "\f",
      "\n"
     ]
    }
   ],
   "source": [
    "print(f_str)"
   ]
  },
  {
   "cell_type": "code",
   "execution_count": 55,
   "metadata": {
    "hidden": true
   },
   "outputs": [
    {
     "data": {
      "text/plain": [
       "'this is called raw_str \\\\n {string.whitespace}'"
      ]
     },
     "execution_count": 55,
     "metadata": {},
     "output_type": "execute_result"
    }
   ],
   "source": [
    "raw_str = r\"this is called raw_str \\n {string.whitespace}\"; raw_str"
   ]
  },
  {
   "cell_type": "code",
   "execution_count": 56,
   "metadata": {
    "hidden": true
   },
   "outputs": [
    {
     "name": "stdout",
     "output_type": "stream",
     "text": [
      "this is called raw_str \\n {string.whitespace}\n"
     ]
    }
   ],
   "source": [
    "print(raw_str)"
   ]
  },
  {
   "cell_type": "markdown",
   "metadata": {
    "heading_collapsed": true,
    "hidden": true
   },
   "source": [
    "#### str"
   ]
  },
  {
   "cell_type": "markdown",
   "metadata": {
    "hidden": true
   },
   "source": [
    "-   `capitalize()`\n",
    "-   `casefold()`\n",
    "-   `center(width, fillchar=' ')`\n",
    "-   `count(...)`\n",
    "-   `encode(encoding='utf-8', errors='strict')`\n",
    "-   `endswith(...)`\n",
    "-   `expandtabs(tabsize=8)`\n",
    "-   `find(...)`\n",
    "-   `format(...)`\n",
    "-   `format_map(...)`\n",
    "-   `index(...)`\n",
    "-   `isalnum()`\n",
    "-   `isalpha()`\n",
    "-   `isascii()`\n",
    "-   `isdecimal()`\n",
    "-   `isdigit()`\n",
    "-   `isidentifier()`\n",
    "-   `islower()`\n",
    "-   `isnumeric()`\n",
    "-   `isprintable()`\n",
    "-   `isspace()`\n",
    "-   `istitle()`\n",
    "-   `isupper()`\n",
    "-   `join(iterable)`\n",
    "-   `ljust(width, fillchar=' ')`\n",
    "-   `lower()`\n",
    "-   `lstrip(chars=None)`\n",
    "-   `partition(sep)`\n",
    "-   `removeprefix(prefix)`\n",
    "-   `removesuffix(suffix)`\n",
    "-   `replace(old, new, count=-1)`\n",
    "-   `rfind(...)`\n",
    "-   `rindex(...)`\n",
    "-   `rjust(width, fillchar=' ')`\n",
    "-   `rpartition(sep)`\n",
    "-   `rsplit(sep=None, maxsplit=-1)`\n",
    "-   `rstrip(chars=None)`\n",
    "-   `split(sep=None, maxsplit=-1)`\n",
    "-   `splitlines(keepends=False)`\n",
    "-   `startswith(...)`\n",
    "-   `strip(chars=None)`\n",
    "-   `swapcase()`\n",
    "-   `title()`\n",
    "-   `translate(table)`\n",
    "-   `upper()`\n",
    "-   `zfill(width)`"
   ]
  },
  {
   "cell_type": "markdown",
   "metadata": {
    "hidden": true
   },
   "source": [
    "- The `isdigit()` method returns `True` if all characters in the string are digits (0-9) only, and False otherwise.\n",
    "- The `isnumeric()` method returns `True` if all characters ,including digits from various scripts (e.g., Arabic, Roman), numeric fractions, superscripts, subscripts, and other Unicode characters categorized as numeric, in the string are numeric, and False otherwise."
   ]
  },
  {
   "cell_type": "code",
   "execution_count": 91,
   "metadata": {
    "hidden": true
   },
   "outputs": [
    {
     "data": {
      "text/plain": [
       "(False, True, 189)"
      ]
     },
     "execution_count": 91,
     "metadata": {},
     "output_type": "execute_result"
    }
   ],
   "source": [
    "\"½\".isdigit(), \"½\".isnumeric(), ord(\"½\")"
   ]
  },
  {
   "cell_type": "code",
   "execution_count": 2,
   "metadata": {
    "hidden": true
   },
   "outputs": [
    {
     "name": "stdout",
     "output_type": "stream",
     "text": [
      "Help on method_descriptor:\n",
      "\n",
      "swapcase(self, /)\n",
      "    Convert uppercase characters to lowercase and lowercase characters to uppercase.\n",
      "\n"
     ]
    }
   ],
   "source": [
    "help(str.swapcase)"
   ]
  },
  {
   "cell_type": "code",
   "execution_count": 69,
   "metadata": {
    "hidden": true
   },
   "outputs": [],
   "source": [
    "# help(str.isdigit)"
   ]
  },
  {
   "cell_type": "code",
   "execution_count": 71,
   "metadata": {
    "hidden": true
   },
   "outputs": [
    {
     "name": "stdout",
     "output_type": "stream",
     "text": [
      "Help on method_descriptor:\n",
      "\n",
      "isnumeric(self, /)\n",
      "    Return True if the string is a numeric string, False otherwise.\n",
      "    \n",
      "    A string is numeric if all characters in the string are numeric and there is at\n",
      "    least one character in the string.\n",
      "\n"
     ]
    }
   ],
   "source": [
    "help(str.isnumeric)"
   ]
  },
  {
   "cell_type": "markdown",
   "metadata": {
    "heading_collapsed": true,
    "hidden": true,
    "jp-MarkdownHeadingCollapsed": true,
    "tags": []
   },
   "source": [
    "### collections.namedtuple:"
   ]
  },
  {
   "cell_type": "code",
   "execution_count": 82,
   "metadata": {
    "hidden": true
   },
   "outputs": [],
   "source": [
    "# help(collections.namedtuple)"
   ]
  },
  {
   "cell_type": "code",
   "execution_count": 17,
   "metadata": {
    "hidden": true
   },
   "outputs": [],
   "source": [
    "# dir(collections.namedtuple)"
   ]
  },
  {
   "cell_type": "code",
   "execution_count": null,
   "metadata": {
    "hidden": true
   },
   "outputs": [],
   "source": [
    "class Person:\n",
    "    def __init__(self, name, ssn):\n",
    "        self._name = name\n",
    "        self._ssn = ssn"
   ]
  },
  {
   "cell_type": "code",
   "execution_count": 8,
   "metadata": {
    "hidden": true
   },
   "outputs": [],
   "source": [
    "Student = collections.namedtuple('Student', ('name', 'ssn'))"
   ]
  },
  {
   "cell_type": "code",
   "execution_count": 9,
   "metadata": {
    "hidden": true
   },
   "outputs": [],
   "source": [
    "p = Person('Shah', 1234)\n",
    "s = Student('Shah', 1234)"
   ]
  },
  {
   "cell_type": "code",
   "execution_count": 10,
   "metadata": {
    "hidden": true
   },
   "outputs": [],
   "source": [
    "student_name, student_ssn = Student('Farzana', 1234)"
   ]
  },
  {
   "cell_type": "code",
   "execution_count": 16,
   "metadata": {
    "hidden": true
   },
   "outputs": [
    {
     "data": {
      "text/plain": [
       "True"
      ]
     },
     "execution_count": 16,
     "metadata": {},
     "output_type": "execute_result"
    }
   ],
   "source": [
    "issubclass(Student, tuple)"
   ]
  },
  {
   "cell_type": "code",
   "execution_count": null,
   "metadata": {
    "hidden": true
   },
   "outputs": [],
   "source": []
  },
  {
   "cell_type": "code",
   "execution_count": null,
   "metadata": {
    "hidden": true
   },
   "outputs": [],
   "source": [
    "Endpoint = namedtuple('Endpoint', ('is_closed', 'val'))\n",
    "Interval = namedtuple('Interval', ('left', 'right'))"
   ]
  },
  {
   "cell_type": "code",
   "execution_count": 8,
   "metadata": {
    "hidden": true
   },
   "outputs": [
    {
     "name": "stdout",
     "output_type": "stream",
     "text": [
      "True 1 True 3\n",
      "Endpoint(is_closed=True, val=1) Endpoint(is_closed=True, val=3)\n"
     ]
    }
   ],
   "source": [
    "inval = Interval(Endpoint(True, 1), Endpoint(True, 3))\n",
    "(is_left_closed, left_val), (is_rifht_closed, right_val) = inval\n",
    "left, right = inval\n",
    "\n",
    "print(is_left_closed, left_val, is_rifht_closed, right_val)\n",
    "print(left, right)\n",
    "\n",
    "## YOU CAN'T SET THE VALUES !!!!!!!!!!\n",
    "# left.is_closed = False\n",
    "# right.val = 300"
   ]
  },
  {
   "cell_type": "code",
   "execution_count": 13,
   "metadata": {
    "hidden": true
   },
   "outputs": [
    {
     "name": "stdout",
     "output_type": "stream",
     "text": [
      "[Interval(left=Endpoint(is_closed=True, val=1), right=Endpoint(is_closed=True, val=3)), Interval(left=Endpoint(is_closed=False, val=2), right=Endpoint(is_closed=True, val=4)), Interval(left=Endpoint(is_closed=True, val=5), right=Endpoint(is_closed=True, val=7))]\n",
      "[Interval(left=Endpoint(is_closed=True, val=1), right=Endpoint(is_closed=True, val=3)), Interval(left=Endpoint(is_closed=False, val=2), right=Endpoint(is_closed=True, val=4)), Interval(left=Endpoint(is_closed=True, val=5), right=Endpoint(is_closed=True, val=7))]\n"
     ]
    }
   ],
   "source": [
    "intervals = [\n",
    "    Interval(Endpoint(True, 1), Endpoint(True, 3)), \n",
    "    Interval(Endpoint(False, 2), Endpoint(True, 4)), \n",
    "    Interval(Endpoint(True, 5), Endpoint(True, 7))\n",
    "]\n",
    "print(intervals)\n",
    "\n",
    "intervals.sort(key=lambda interval: (interval.left.val, not interval.left.is_closed))\n",
    "print(intervals)"
   ]
  },
  {
   "cell_type": "markdown",
   "metadata": {
    "heading_collapsed": true,
    "hidden": true,
    "jp-MarkdownHeadingCollapsed": true,
    "tags": []
   },
   "source": [
    "### collections.deque:"
   ]
  },
  {
   "cell_type": "code",
   "execution_count": 55,
   "metadata": {
    "hidden": true
   },
   "outputs": [],
   "source": [
    "from collections import deque"
   ]
  },
  {
   "cell_type": "code",
   "execution_count": 7,
   "metadata": {
    "hidden": true
   },
   "outputs": [],
   "source": [
    "# dir(collections.deque)"
   ]
  },
  {
   "cell_type": "markdown",
   "metadata": {
    "hidden": true
   },
   "source": [
    "`deque.append()`\n",
    "`deque.appendleft()`\n",
    "`deque.clear()`\n",
    "`deque.copy()`\n",
    "`deque.count()`\n",
    "`deque.extend()`\n",
    "`deque.extendleft()`\n",
    "`deque.index()`\n",
    "`deque.insert()`\n",
    "`deque.maxlen()`\n",
    "`deque.pop()`\n",
    "`deque.popleft()`\n",
    "`deque.remove()`\n",
    "`deque.reverse()`\n",
    "`deque.rotate()`"
   ]
  },
  {
   "cell_type": "code",
   "execution_count": 75,
   "metadata": {
    "hidden": true
   },
   "outputs": [
    {
     "name": "stdout",
     "output_type": "stream",
     "text": [
      "deque([1, 3])\n"
     ]
    }
   ],
   "source": [
    "q = deque([1,3])\n",
    "if q: print(q)"
   ]
  },
  {
   "cell_type": "code",
   "execution_count": 81,
   "metadata": {
    "hidden": true
   },
   "outputs": [
    {
     "data": {
      "text/plain": [
       "2"
      ]
     },
     "execution_count": 81,
     "metadata": {},
     "output_type": "execute_result"
    }
   ],
   "source": [
    "q = deque([*range(5)])\n",
    "q.extend([1,2,4])\n",
    "# q.rotate(2)\n",
    "# q.reverse()\n",
    "q.count(2)"
   ]
  },
  {
   "cell_type": "code",
   "execution_count": 82,
   "metadata": {
    "hidden": true,
    "scrolled": true
   },
   "outputs": [
    {
     "name": "stdout",
     "output_type": "stream",
     "text": [
      "0\n",
      "1\n",
      "2\n",
      "3\n",
      "4\n",
      "1\n",
      "2\n",
      "4\n"
     ]
    }
   ],
   "source": [
    "for i in q:\n",
    "    print(i)"
   ]
  },
  {
   "cell_type": "code",
   "execution_count": 89,
   "metadata": {
    "hidden": true
   },
   "outputs": [
    {
     "data": {
      "text/plain": [
       "[0, 1, 2, 3, 4, 1, 2, 4]"
      ]
     },
     "execution_count": 89,
     "metadata": {},
     "output_type": "execute_result"
    }
   ],
   "source": [
    "L = list(q)\n",
    "L"
   ]
  },
  {
   "cell_type": "markdown",
   "metadata": {
    "heading_collapsed": true,
    "hidden": true,
    "jp-MarkdownHeadingCollapsed": true,
    "tags": []
   },
   "source": [
    "### heapq (PriorityQueue)"
   ]
  },
  {
   "cell_type": "code",
   "execution_count": 10,
   "metadata": {
    "hidden": true
   },
   "outputs": [],
   "source": [
    "import heapq"
   ]
  },
  {
   "cell_type": "markdown",
   "metadata": {
    "hidden": true
   },
   "source": [
    "- `heapq`: a min priority queue\n",
    "    - `heapq.heapify(pq_list)`\n",
    "    - `heapq.heappop(pq_list)`\n",
    "    - `heapq.heappush(pq_list)`\n",
    "    - `heapq.heappushpop(pq_list, item)` => it  is equivalent to `heappush()` followed by `heappop()`\n",
    "    - `heapq.heapreplace(pq_list, item)` => it  is equivalent to `heappop()` followed by `heappush()`\n",
    "    - `merge(*iterables, key=None, reverse=False)` => Merge multiple sorted inputs into a single sorted output. but returns a generator, and assumes that each of the input streams is already sorted (smallest to largest).\n",
    "        - `heapq.merge(list1, list2, ... listn)`\n",
    "    - `nlargest(n, iterable, key=None)`\n",
    "    - `nsmallest(n, iterable, key=None)`"
   ]
  },
  {
   "cell_type": "code",
   "execution_count": 20,
   "metadata": {
    "hidden": true
   },
   "outputs": [],
   "source": [
    "# help(heapq)"
   ]
  },
  {
   "cell_type": "code",
   "execution_count": 53,
   "metadata": {
    "hidden": true
   },
   "outputs": [],
   "source": [
    "# dir(heapq)"
   ]
  },
  {
   "cell_type": "code",
   "execution_count": 51,
   "metadata": {
    "hidden": true
   },
   "outputs": [],
   "source": [
    "# heapq.__all__"
   ]
  },
  {
   "cell_type": "code",
   "execution_count": 13,
   "metadata": {
    "hidden": true
   },
   "outputs": [
    {
     "data": {
      "text/plain": [
       "[0, 1, 2, 3, 4, 5, 5, 7, 8, 10, 15, 20, 25]"
      ]
     },
     "execution_count": 13,
     "metadata": {},
     "output_type": "execute_result"
    }
   ],
   "source": [
    "list(heapq.merge([1,3,5,7], [0,2,4,8], [5,10,15,20], [], [25]))"
   ]
  },
  {
   "cell_type": "code",
   "execution_count": 15,
   "metadata": {
    "hidden": true
   },
   "outputs": [
    {
     "data": {
      "text/plain": [
       "['dog', 'cat', 'fish', 'horse', 'kangaroo']"
      ]
     },
     "execution_count": 15,
     "metadata": {},
     "output_type": "execute_result"
    }
   ],
   "source": [
    "list(heapq.merge(['dog', 'horse'], ['cat', 'fish', 'kangaroo'], key=len))"
   ]
  },
  {
   "cell_type": "code",
   "execution_count": 28,
   "metadata": {
    "hidden": true
   },
   "outputs": [
    {
     "name": "stdout",
     "output_type": "stream",
     "text": [
      "1\n",
      "1\n"
     ]
    }
   ],
   "source": [
    "heap = []            # creates an empty heap\n",
    "heapq.heappush(heap, 6) # pushes a new item on the heap\n",
    "heapq.heappush(heap, 1) # pushes a new item on the heap\n",
    "item = heap[0]       # smallest item on the heap without popping it\n",
    "print(item)\n",
    "item = heapq.heappop(heap) # pops the smallest item from the heap\n",
    "print(item)"
   ]
  },
  {
   "cell_type": "code",
   "execution_count": 29,
   "metadata": {
    "hidden": true
   },
   "outputs": [
    {
     "name": "stdout",
     "output_type": "stream",
     "text": [
      "-3\n"
     ]
    }
   ],
   "source": [
    "heap = [9, -3, -2, 10]\n",
    "heapq.heapify(heap)           # transforms list into a heap, in-place, in linear time\n",
    "item = heapq.heapreplace(heap, -1) # pops and returns smallest item, and adds new item; the heap size is unchanged\n",
    "print(item)"
   ]
  },
  {
   "cell_type": "code",
   "execution_count": 30,
   "metadata": {
    "hidden": true
   },
   "outputs": [
    {
     "name": "stdout",
     "output_type": "stream",
     "text": [
      "[-2, 9, -1, 10]\n"
     ]
    }
   ],
   "source": [
    "print(list(heap))"
   ]
  },
  {
   "cell_type": "code",
   "execution_count": 34,
   "metadata": {
    "hidden": true
   },
   "outputs": [
    {
     "name": "stdout",
     "output_type": "stream",
     "text": [
      "[-2, -1, 9, 10]\n",
      "[10, 9, -1, -2]\n"
     ]
    }
   ],
   "source": [
    "print(heapq.nsmallest(4, heap))\n",
    "print(heapq.nlargest(4, heap))"
   ]
  },
  {
   "cell_type": "markdown",
   "metadata": {
    "heading_collapsed": true,
    "hidden": true
   },
   "source": [
    "#### Min Priority Queue"
   ]
  },
  {
   "cell_type": "code",
   "execution_count": 31,
   "metadata": {
    "hidden": true,
    "scrolled": true
   },
   "outputs": [
    {
     "name": "stdout",
     "output_type": "stream",
     "text": [
      "(-4, 41)\n",
      "(-3, 40)\n",
      "(-2, 43)\n",
      "(-1, 4)\n",
      "(1, 16)\n",
      "(4, 12)\n",
      "(4, 44)\n"
     ]
    }
   ],
   "source": [
    "pq = []\n",
    "heapq.heapify(pq)\n",
    "\n",
    "for i in range(7): \n",
    "    priority = randrange(-5,5)\n",
    "    element = randrange(50)\n",
    "    heapq.heappush(pq, (priority, element))\n",
    "\n",
    "for i in range(len(pq)):\n",
    "    print(heapq.heappop(pq))"
   ]
  },
  {
   "cell_type": "code",
   "execution_count": 8,
   "metadata": {
    "hidden": true
   },
   "outputs": [
    {
     "data": {
      "text/plain": [
       "[-11, -1, 6, -4, -15, 3, -8, -7, 8, 20]"
      ]
     },
     "execution_count": 8,
     "metadata": {},
     "output_type": "execute_result"
    }
   ],
   "source": [
    "pq = [randint(-20,20) for _ in range(10)]\n",
    "heapq.heapify(L)\n",
    "pq"
   ]
  },
  {
   "cell_type": "markdown",
   "metadata": {
    "hidden": true
   },
   "source": [
    "- `heapq.merge(list1, list2, ... listn)`"
   ]
  },
  {
   "cell_type": "code",
   "execution_count": 43,
   "metadata": {
    "hidden": true
   },
   "outputs": [],
   "source": [
    "list_of_sorted_lists = [sorted([randint(-99, 99) for _ in range(randint(0, 5))]) for _ in range(randint(2, 5))]"
   ]
  },
  {
   "cell_type": "code",
   "execution_count": 44,
   "metadata": {
    "hidden": true
   },
   "outputs": [
    {
     "data": {
      "text/plain": [
       "[[], [-39, -38, 20, 20, 99]]"
      ]
     },
     "execution_count": 44,
     "metadata": {},
     "output_type": "execute_result"
    }
   ],
   "source": [
    "list_of_sorted_lists"
   ]
  },
  {
   "cell_type": "code",
   "execution_count": 45,
   "metadata": {
    "hidden": true
   },
   "outputs": [
    {
     "data": {
      "text/plain": [
       "[-39, -38, 20, 20, 99]"
      ]
     },
     "execution_count": 45,
     "metadata": {},
     "output_type": "execute_result"
    }
   ],
   "source": [
    "[*heapq.merge(*list_of_sorted_lists, key=lambda x: -x)]"
   ]
  },
  {
   "cell_type": "markdown",
   "metadata": {
    "heading_collapsed": true,
    "hidden": true
   },
   "source": [
    "#### Max Priority Queue out of Min Priority Queue:"
   ]
  },
  {
   "cell_type": "code",
   "execution_count": 27,
   "metadata": {
    "hidden": true,
    "scrolled": true
   },
   "outputs": [
    {
     "name": "stdout",
     "output_type": "stream",
     "text": [
      "9 47\n",
      "4 29\n",
      "2 7\n",
      "0 24\n",
      "-1 43\n",
      "-2 27\n",
      "-2 48\n"
     ]
    }
   ],
   "source": [
    "pq = []\n",
    "heapq.heapify(pq)\n",
    "L = []\n",
    "\n",
    "for i in range(7): \n",
    "    priority = randrange(-2, 10)\n",
    "    element = randrange(50)\n",
    "    L.append((priority, element))\n",
    "    heapq.heappush(pq, (-priority, element))\n",
    "\n",
    "for i in range(len(pq)):\n",
    "    item = heapq.heappop(pq)\n",
    "    priority, element = -item[0],item[1]\n",
    "    print(priority, element)"
   ]
  },
  {
   "cell_type": "code",
   "execution_count": 28,
   "metadata": {
    "hidden": true
   },
   "outputs": [],
   "source": [
    "max_pq = [randint(-20,20) for _ in range(10)]\n",
    "heapq.heapify(max_pq)"
   ]
  },
  {
   "cell_type": "code",
   "execution_count": 29,
   "metadata": {
    "hidden": true
   },
   "outputs": [
    {
     "data": {
      "text/plain": [
       "('A', 5)"
      ]
     },
     "execution_count": 29,
     "metadata": {},
     "output_type": "execute_result"
    }
   ],
   "source": [
    "s = 'AAAAb'\n",
    "char_count = Counter(s)\n",
    "max_pq = [(-count, char) for char, count in char_count.items()]\n",
    "heapq.heappush(max_pq, (-5, 'A'))\n",
    "cur_item = heapq.heappop(max_pq)\n",
    "char, count = cur_item[1], -cur_item[0]\n",
    "char, count"
   ]
  },
  {
   "cell_type": "markdown",
   "metadata": {
    "jp-MarkdownHeadingCollapsed": true,
    "tags": []
   },
   "source": [
    "# Pythonic Concepts"
   ]
  },
  {
   "cell_type": "markdown",
   "metadata": {
    "heading_collapsed": true
   },
   "source": [
    "## Comprehension"
   ]
  },
  {
   "cell_type": "markdown",
   "metadata": {
    "hidden": true
   },
   "source": [
    "Python comprehensions, like decorators, are **syntactic sugar** constructs that help **build** **altered** and **filtered** lists, dictionaries, or sets from a given list, dictionary, or set. Using comprehensions saves a lot of time and code that might be considerably more verbose (containing more lines of code). Let's check out some examples, where comprehensions can be truly beneficial:"
   ]
  },
  {
   "cell_type": "markdown",
   "metadata": {
    "heading_collapsed": true,
    "hidden": true
   },
   "source": [
    "### List Comprehension"
   ]
  },
  {
   "cell_type": "code",
   "execution_count": null,
   "metadata": {
    "hidden": true
   },
   "outputs": [],
   "source": [
    "def simple_list_comp():\n",
    "    \n",
    "    comb1 = []\n",
    "    for x in [1, 2, 3]:\n",
    "        for y in [3,1,4]:\n",
    "            if x != y:\n",
    "                comb1.append((x, y))\n",
    "\n",
    "\n",
    "    comb2 = [(x, y) for x in [1,2,3] for y in [3,1,4] if x != y]\n",
    "    print(comb1 == comb2)\n",
    "\n",
    "    \n",
    "    comb3 = [1 if x == y else 0 for x in [1,2,3] for y in [3,1,4]]\n",
    "    print(comb3)\n",
    "    \n",
    "    # filter the list to exclude negative numbers\n",
    "    # v = [x for x in vec if x >= 0] # [0, 2, 4]\n",
    "\n",
    "    # apply a function to all the elements\n",
    "    # v = [abs(x) for x in vec] # [4, 2, 0, 2, 4]\n",
    "    \n",
    "    # call a method on each element\n",
    "    freshfruit = [' banana', ' loganberry ', 'passion fruit '] \n",
    "    l = [weapon.strip() for weapon in freshfruit]   # ['banana', 'loganberry', 'passion fruit']\n",
    "    \n",
    "    # create a list of 2-tuples like (number, square)\n",
    "    l = [(x, x**2) for x in range(6)]   # [(0, 0), (1, 1), (2, 4), (3, 9), (4, 16), (5, 25)]\n",
    "\n",
    "    # flatten a list using a listcomp with two 'for' \n",
    "    vec = [[1,2,3], [4,5,6], [7,8,9]]\n",
    "    l = [num for elem in vec for num in elem]   # [1, 2, 3, 4, 5, 6, 7, 8, 9]\n",
    "\n",
    "simple_list_comp()"
   ]
  },
  {
   "cell_type": "code",
   "execution_count": null,
   "metadata": {
    "code_folding": [],
    "hidden": true
   },
   "outputs": [],
   "source": [
    "\n",
    "def b_lc():\n",
    "\n",
    "    res1 = [y for x in range(3)for y in range(3)]\n",
    "    res2 = []\n",
    "\n",
    "    for x in range(3):\n",
    "        for y in range(3):\n",
    "                res2.append(y)\n",
    "\n",
    "    print(res1 == res2)\n",
    "\n",
    "    L1 = [x*y for x,y in zip([1,2],[1,2,3])]\n",
    "    L2 = [x+y for x,y in product('12345','ab')] # product() is a function in itertools.\n",
    "\n",
    "    L3 = [x for x in range(5) if x/2 == 0]\t\n",
    "    L4 = filter((lambda x: x%2 == 0), range(5))\n",
    "\n",
    "    squares1 = []\n",
    "    for x in range(10): # this creates a variable named x that still exists after the loop completes\n",
    "        squares1.append(x**2)\n",
    "\n",
    "    # We can calculate the list of squares without any side effects using:\n",
    "    squares2 = list(map(lambda x: x**2, range(10)))\n",
    "    squares3 = [x**2 for x in range(10)] # equivalent to squres2\n",
    "    print(squares1 == squares2)\n",
    "\n",
    "    Latitudes = [i for i in range(10, 21, 1)]\n",
    "    Longitudes = [i for i in range(10, 21, 1)]\n",
    "    \n",
    "    L1 = [(Lat, Long) for Lat,Long in [(x,y) for x in Latitudes for y in Longitudes]]\n",
    "    L2 = [(Lot, Long) for Lot, Long in zip(Latitudes, Longitudes)]\n",
    "\n",
    "    print(L1 == L2)\n",
    "\n",
    "    # print(L1, L2)\n",
    "    print(L1, L2, L3, L4)\n"
   ]
  },
  {
   "cell_type": "code",
   "execution_count": null,
   "metadata": {
    "code_folding": [
     0
    ],
    "hidden": true
   },
   "outputs": [],
   "source": [
    "def list_comp3():\n",
    "    L = [randrange(10, 50) for _ in range(10)]\n",
    "    L_even = [el if el%2 == 0 else 'Odd-Element' for el in L]\n",
    "    \n",
    "    print([v in 'auntie' for v in vowels])\n",
    "    print(all([v in 'auntie' for v in vowels]))\n",
    "    print(all([v in 'dialogue' for v in vowels]))\n",
    "    \n",
    "    print([x for x in states if all([v in x for v in vowels])])\n",
    "    print(sorted([(len(x), x) for x in states if ' ' not in x], reverse=True)[:5])\n",
    "\n",
    "    A = [(0, 5 - i) for i, val in enumerate(L)]\n",
    "    B = [abs(val - 3) not in (0, 5 - i) for i, val in enumerate(L)]\n",
    "    print(A)\n",
    "    print(L_even)\n",
    "\n",
    "list_comp3()"
   ]
  },
  {
   "cell_type": "markdown",
   "metadata": {
    "heading_collapsed": true,
    "hidden": true
   },
   "source": [
    "### Dict Comprehension"
   ]
  },
  {
   "cell_type": "code",
   "execution_count": 33,
   "metadata": {
    "hidden": true
   },
   "outputs": [
    {
     "name": "stdout",
     "output_type": "stream",
     "text": [
      "{'zero': 0, 'one': 1, 'two': 2, 'three': 3}\n"
     ]
    }
   ],
   "source": [
    "D = {0: 'zero', 1: 'one', 2: 'two', 3: 'three'}\n",
    "D2 = {D[x]: x for x in D}                   # print(D2) --> {'zero': 0, 'one': 1, 'two': 2, 'three': 3}\n",
    "D3 = {x: D2[x] for x in D2 if D2[x] > 1}    # print(D2) --> {'two': 2, 'three': 3}\n",
    "L1 = [(1, 10), (2, 20), (3, 30), (4, 40)]\n",
    "D4 = dict(L1)                               # print(D4) --> {1: 10, 2: 20, 3: 30, 4: 40}\n",
    "\n",
    "L2 = [(4, 180, 21), (5, 90, 10), (3, 270, 8), (4, 0, 7)]\n",
    "D4 = dict([(key, {k, w}) for key, k, w in L2])\n",
    "# print(D4) -> {4: {0, 7}, 5: {90, 10}, 3: {8, 270}} !!!!\n",
    "# Note: first item has been replaced by last item because of having same key\n",
    "\n",
    "\n",
    "# D_error1 = {key: value for (key, value) in D}\n",
    "D_not_error1 = {value: key for (key, value) in D.items()}\n",
    "print(D_not_error1) # -> {'zero': 0, 'one': 1, 'two': 2, 'three': 3}\n",
    "# D_error2 = {key: value for key, value in D}"
   ]
  },
  {
   "cell_type": "code",
   "execution_count": 83,
   "metadata": {
    "hidden": true
   },
   "outputs": [
    {
     "name": "stdout",
     "output_type": "stream",
     "text": [
      "0\n",
      "1\n",
      "2\n",
      "3\n"
     ]
    }
   ],
   "source": []
  },
  {
   "cell_type": "markdown",
   "metadata": {
    "heading_collapsed": true,
    "hidden": true
   },
   "source": [
    "### Set Comprehension"
   ]
  },
  {
   "cell_type": "code",
   "execution_count": null,
   "metadata": {
    "hidden": true
   },
   "outputs": [],
   "source": []
  },
  {
   "cell_type": "code",
   "execution_count": null,
   "metadata": {
    "hidden": true
   },
   "outputs": [],
   "source": []
  },
  {
   "cell_type": "markdown",
   "metadata": {
    "heading_collapsed": true,
    "hidden": true
   },
   "source": [
    "### Python List Comprehension Lambda Closure:\n"
   ]
  },
  {
   "cell_type": "code",
   "execution_count": 1,
   "metadata": {
    "hidden": true
   },
   "outputs": [
    {
     "name": "stdout",
     "output_type": "stream",
     "text": [
      "[1, 2, 3, 4]\n",
      "[<function <listcomp>.<lambda> at 0x1054c8940>, <function <listcomp>.<lambda> at 0x1054c89d0>, <function <listcomp>.<lambda> at 0x1054c8a60>, <function <listcomp>.<lambda> at 0x1054c8af0>]\n",
      "[4, 4, 4, 4]\n"
     ]
    }
   ],
   "source": [
    "a = [1, 2, 3 , 4]\n",
    "b = [lambda: _ for _ in a]\n",
    "c = [_() for _ in b]\n",
    "print(a)\n",
    "print(b)\n",
    "print(c)"
   ]
  },
  {
   "cell_type": "code",
   "execution_count": null,
   "metadata": {
    "hidden": true
   },
   "outputs": [],
   "source": []
  },
  {
   "cell_type": "markdown",
   "metadata": {
    "heading_collapsed": true
   },
   "source": [
    "## [Parameters](https://docs.python.org/3/glossary.html#term-parameter)"
   ]
  },
  {
   "cell_type": "markdown",
   "metadata": {
    "hidden": true
   },
   "source": [
    "- [Positional-only](https://realpython.com/lessons/positional-only-arguments/)\n",
    "- [Positional-only](https://www.educative.io/answers/what-are-positional-only-arguments-in-python)\n",
    "- [PEP 3102 – Keyword-Only Arguments](https://peps.python.org/pep-3102/)"
   ]
  },
  {
   "cell_type": "markdown",
   "metadata": {
    "hidden": true
   },
   "source": [
    "There are five kinds of parameter:"
   ]
  },
  {
   "cell_type": "markdown",
   "metadata": {
    "hidden": true
   },
   "source": [
    "- `positional-or-keyword parameter`: specifies an argument that can be passed either positionally or as a keyword argument. This is the default kind of parameter"
   ]
  },
  {
   "cell_type": "code",
   "execution_count": 2,
   "metadata": {
    "hidden": true
   },
   "outputs": [
    {
     "name": "stdout",
     "output_type": "stream",
     "text": [
      "() {}\n",
      "(1, 2) {'p1': 3, 'p2': 2, 'p3': 3}\n"
     ]
    }
   ],
   "source": [
    "def func1(*args, **kargs): print(args, kargs)\n",
    "func1()\n",
    "func1(1, 2, p1=3, p2=2, p3=3)"
   ]
  },
  {
   "cell_type": "code",
   "execution_count": 3,
   "metadata": {
    "hidden": true
   },
   "outputs": [
    {
     "name": "stdout",
     "output_type": "stream",
     "text": [
      "(2, 3) {'p1': 3, 'p2': 2, 'p3': 3}\n"
     ]
    }
   ],
   "source": [
    "def func1a(arg1, *args, **kargs): print(args, kargs)\n",
    "# func1a() # Errors: func1a() missing 1 required positional argument: 'arg1'\n",
    "func1a(1, 2, 3, p1=3, p2=2, p3=3)"
   ]
  },
  {
   "cell_type": "markdown",
   "metadata": {
    "hidden": true
   },
   "source": [
    "- `variable-positional parameter`: specifies that an arbitrary sequence of positional arguments can be provided (in addition to any positional arguments already accepted by other parameters)."
   ]
  },
  {
   "cell_type": "code",
   "execution_count": 8,
   "metadata": {
    "hidden": true
   },
   "outputs": [
    {
     "name": "stdout",
     "output_type": "stream",
     "text": [
      "1\n",
      "()\n",
      "============================================================\n",
      "1\n",
      "(2,)\n",
      "============================================================\n",
      "1\n",
      "(2, 3)\n",
      "============================================================\n"
     ]
    }
   ],
   "source": [
    "def func2(arg1, *args):\n",
    "    print(arg1, args, \"==\"*30, sep=\"\\n\")\n",
    "\n",
    "func2(1)\n",
    "func2(1, 2)\n",
    "func2(1, 2, 3)\n",
    "# func2()         # Errors: func2() missing 1 required positional argument: 'arg1'\n",
    "# func2(1, p=2)   # Errors: func2() got an unexpected keyword argument 'p'"
   ]
  },
  {
   "cell_type": "markdown",
   "metadata": {
    "hidden": true
   },
   "source": [
    "- `variable-keyword parameter`: specifies that arbitrarily many keyword arguments can be provided (in addition to any keyword arguments already accepted by other parameters). Such a parameter can be defined by prepending the parameter name with `**`."
   ]
  },
  {
   "cell_type": "code",
   "execution_count": 13,
   "metadata": {
    "hidden": true
   },
   "outputs": [
    {
     "name": "stdout",
     "output_type": "stream",
     "text": [
      "1\n",
      "{}\n",
      "============================================================\n",
      "1\n",
      "{'p1': 2, 'p2': 2}\n",
      "============================================================\n"
     ]
    }
   ],
   "source": [
    "def func3(arg1, **kwargs): \n",
    "    print(arg1, kwargs, \"==\"*30, sep=\"\\n\")\n",
    "\n",
    "func3(1)\n",
    "func3(1, p1=2, p2=2)\n",
    "# func3()         # Errors: func2() missing 1 required positional argument: 'arg1'\n",
    "# func3(1, 2)   # Errors: func3() takes 1 positional argument but 2 were given"
   ]
  },
  {
   "cell_type": "markdown",
   "metadata": {
    "hidden": true
   },
   "source": [
    "- `positional-only parameter`: specifies an argument that can be supplied only by position. Positional-only parameters can be defined by including a `/` character in the parameter list of the function definition **after them**, for example posonly1 and posonly2 in the following:\n",
    "\n",
    "    - `def func(posonly1, posonly2, /, positional_or_keyword): ...`\n",
    "\n",
    "- Before `/`, all the parameteres must be passes as positional argument"
   ]
  },
  {
   "cell_type": "code",
   "execution_count": 63,
   "metadata": {
    "hidden": true
   },
   "outputs": [
    {
     "name": "stdout",
     "output_type": "stream",
     "text": [
      "1 Hello\n",
      "1 2\n",
      "1 2\n"
     ]
    }
   ],
   "source": [
    "def func4(arg, /, kw1=\"Hello\"): print(arg, kw1)\n",
    "func4(1)\n",
    "func4(1,2)\n",
    "func4(1, kw1=2)\n",
    "# func4(arg=1)            # Error: func4() got some positional-only arguments passed as keyword arguments: 'arg'\n",
    "# func4(arg=1, kw1=2)     # Error: func4() got some positional-only arguments passed as keyword arguments: 'arg'\n",
    "# func4(1,2,3)            # Error: func4() takes from 1 to 2 positional arguments but 3 were given\n",
    "# func4(1,2,kw1=3)        # Error: func4() got multiple values for argument 'kw1'"
   ]
  },
  {
   "cell_type": "code",
   "execution_count": 24,
   "metadata": {
    "hidden": true
   },
   "outputs": [
    {
     "name": "stdout",
     "output_type": "stream",
     "text": [
      "1 hello\n",
      "1 2\n"
     ]
    }
   ],
   "source": [
    "def func_pop(arg1, arg2='hello'):\n",
    "    print(arg1, arg2)\n",
    "\n",
    "func_pop(1)\n",
    "func_pop(1,2)"
   ]
  },
  {
   "cell_type": "markdown",
   "metadata": {
    "hidden": true
   },
   "source": [
    "- `keyword-only parameter`: specifies an argument that can be supplied only by keyword. Keyword-only parameters can be defined by including a single var-positional parameter or bare * in the parameter list of the function definition **before them**, for example kw_only1 and kw_only2 in the following:\n",
    "\n",
    "    - `def func(arg, *, kw_only1, kw_only2): ...`\n",
    " \n",
    "- After `*`, all the parameteres must be passes as kewword argument."
   ]
  },
  {
   "cell_type": "code",
   "execution_count": 14,
   "metadata": {
    "hidden": true
   },
   "outputs": [
    {
     "name": "stdout",
     "output_type": "stream",
     "text": [
      "10 Hello\n",
      "10 2\n"
     ]
    }
   ],
   "source": [
    "def func5(arg, *, kw1=\"Hello\"): print(arg, kw1)\n",
    "func5(10)\n",
    "func5(10, kw1=2)\n",
    "# func5(10,2)               # Error: func5() takes 1 positional argument but 2 were given\n",
    "# func5(10, kw1=1, kw2=2)   # Error: func5() got an unexpected keyword argument 'kw2'"
   ]
  },
  {
   "cell_type": "markdown",
   "metadata": {
    "heading_collapsed": true
   },
   "source": [
    "## Context Manager"
   ]
  },
  {
   "cell_type": "markdown",
   "metadata": {
    "hidden": true
   },
   "source": [
    "- [3 Ways to create Context Managers in Python](https://medium.com/swlh/3-ways-to-create-context-managers-in-python-a88e3ba536f3)\n",
    "- [Corey: Context Managers - Efficiently Managing Resources](https://www.youtube.com/watch?v=-aKFBoZpiqA&list=RDCMUCCezIgC97PvUuR4_gbFUs5g&index=16)"
   ]
  },
  {
   "cell_type": "code",
   "execution_count": 2,
   "metadata": {
    "hidden": true
   },
   "outputs": [],
   "source": [
    "import os"
   ]
  },
  {
   "cell_type": "markdown",
   "metadata": {
    "heading_collapsed": true,
    "hidden": true
   },
   "source": [
    "#### [Context Manager In Details](https://www.youtube.com/watch?v=14z_Tf3p2Mw)"
   ]
  },
  {
   "cell_type": "markdown",
   "metadata": {
    "hidden": true
   },
   "source": [
    "- `Connect database without Context Manager`"
   ]
  },
  {
   "cell_type": "code",
   "execution_count": 128,
   "metadata": {
    "hidden": true
   },
   "outputs": [],
   "source": [
    "import sqlite3"
   ]
  },
  {
   "cell_type": "code",
   "execution_count": 146,
   "metadata": {
    "hidden": true
   },
   "outputs": [],
   "source": [
    "path = '/Users/am/mydocs/Software_Development/notes_hub/data'\n",
    "\n",
    "con = sqlite3.connect(path + '/application.db')\n",
    "cur = con.cursor()\n",
    "\n",
    "# Drop table if it already exist\n",
    "cur.execute(\"DROP TABLE blogs\")\n",
    "\n",
    "# Create table\n",
    "cur.execute('''CREATE TABLE blogs (id text not null primary key, date text, title text, content text, public integer)''')\n",
    "\n",
    "# Insert a few rows of data\n",
    "cur.execute(\"INSERT INTO blogs VALUES ('first-blog', '2021-03-07', 'My first blog' ,'Some content', 1)\")\n",
    "cur.execute(\"INSERT INTO blogs VALUES ('private-blog', '2021-03-07', 'Secret blog' ,'This is a secret', 0)\")\n",
    "\n",
    "# Save (commit) the changes\n",
    "con.commit()\n",
    "\n",
    "# We can also close the connection if we are done with it.\n",
    "# Just be sure any changes have been committed or they will be lost.\n",
    "con.close()"
   ]
  },
  {
   "cell_type": "markdown",
   "metadata": {
    "hidden": true
   },
   "source": [
    "- `Alternative way to connect database without Context Manager`"
   ]
  },
  {
   "cell_type": "code",
   "execution_count": 147,
   "metadata": {
    "hidden": true
   },
   "outputs": [
    {
     "name": "stderr",
     "output_type": "stream",
     "text": [
      "INFO:root:[('first-blog', '2021-03-07', 'My first blog', 'Some content', 1), ('private-blog', '2021-03-07', 'Secret blog', 'This is a secret', 0)]\n"
     ]
    }
   ],
   "source": [
    "def main():\n",
    "    logging.basicConfig(level=logging.INFO)\n",
    "    \n",
    "    connection = sqlite3.connect(path + \"/application.db\")\n",
    "    try:\n",
    "        cursor = connection.cursor()\n",
    "        cursor.execute(\"SELECT * FROM blogs\")\n",
    "        logging.info(cursor.fetchall())\n",
    "    finally:\n",
    "        connection.close()\n",
    "# ===============================\n",
    "main()"
   ]
  },
  {
   "cell_type": "markdown",
   "metadata": {
    "hidden": true
   },
   "source": [
    "- `Class Version of a Context Manager to handle the resource management above`:"
   ]
  },
  {
   "cell_type": "code",
   "execution_count": 148,
   "metadata": {
    "hidden": true
   },
   "outputs": [],
   "source": [
    "import logging\n",
    "import sqlite3"
   ]
  },
  {
   "cell_type": "code",
   "execution_count": 149,
   "metadata": {
    "hidden": true
   },
   "outputs": [
    {
     "name": "stderr",
     "output_type": "stream",
     "text": [
      "INFO:root:Calling __enter__\n",
      "INFO:root:[('first-blog', '2021-03-07', 'My first blog', 'Some content', 1), ('private-blog', '2021-03-07', 'Secret blog', 'This is a secret', 0)]\n",
      "INFO:root:Calling __exit__\n"
     ]
    }
   ],
   "source": [
    "class SQLite:\n",
    "    def __init__(self, file_name: str):\n",
    "        self.file_name = file_name\n",
    "        self.connection = sqlite3.connect(self.file_name)\n",
    "\n",
    "    def __enter__(self):\n",
    "        logging.info(\"Calling __enter__\")\n",
    "        return self.connection.cursor()\n",
    "\n",
    "    def __exit__(self, error: Exception, value: object, traceback: object):\n",
    "        logging.info(\"Calling __exit__\")\n",
    "        self.connection.commit()\n",
    "        self.connection.close()\n",
    "\n",
    "# ======================================================\n",
    "def main_class_version():\n",
    "    logging.basicConfig(level=logging.INFO)\n",
    "    with SQLite(file_name=path + \"/application.db\") as cursor:\n",
    "        cursor.execute(\"SELECT * FROM blogs\")\n",
    "        logging.info(cursor.fetchall())\n",
    "# ======================================================\n",
    "main_class_version()"
   ]
  },
  {
   "cell_type": "markdown",
   "metadata": {
    "hidden": true
   },
   "source": [
    "- `Decorator Version of a the Context Manager`:"
   ]
  },
  {
   "cell_type": "code",
   "execution_count": 150,
   "metadata": {
    "hidden": true
   },
   "outputs": [
    {
     "name": "stderr",
     "output_type": "stream",
     "text": [
      "INFO:root:Creating connection\n",
      "INFO:root:[('first-blog', '2021-03-07', 'My first blog', 'Some content', 1), ('private-blog', '2021-03-07', 'Secret blog', 'This is a secret', 0)]\n",
      "INFO:root:Closing connection\n"
     ]
    }
   ],
   "source": [
    "from contextlib import contextmanager\n",
    "\n",
    "@contextmanager\n",
    "def open_db(file_name: str):\n",
    "    conn = sqlite3.connect(file_name)\n",
    "    try:\n",
    "        logging.info(\"Creating connection\")\n",
    "        yield conn.cursor()\n",
    "    finally:\n",
    "        logging.info(\"Closing connection\")\n",
    "        conn.commit()\n",
    "        conn.close()\n",
    "\n",
    "# ====================================================\n",
    "def main_decorator_version():\n",
    "    logging.basicConfig(level=logging.INFO)\n",
    "    with open_db(file_name=path+\"/application.db\") as cursor:\n",
    "        cursor.execute(\"SELECT * FROM blogs\")\n",
    "        logging.info(cursor.fetchall())\n",
    "# =====================================================\n",
    "main_decorator_version()"
   ]
  },
  {
   "cell_type": "markdown",
   "metadata": {
    "hidden": true
   },
   "source": [
    "- `Async Version of the Context Manager`:"
   ]
  },
  {
   "cell_type": "code",
   "execution_count": null,
   "metadata": {
    "hidden": true
   },
   "outputs": [],
   "source": []
  },
  {
   "cell_type": "code",
   "execution_count": 151,
   "metadata": {
    "hidden": true,
    "jupyter": {
     "outputs_hidden": true
    }
   },
   "outputs": [
    {
     "ename": "ModuleNotFoundError",
     "evalue": "No module named 'aiosqlite'",
     "output_type": "error",
     "traceback": [
      "\u001b[0;31m---------------------------------------------------------------------------\u001b[0m",
      "\u001b[0;31mModuleNotFoundError\u001b[0m                       Traceback (most recent call last)",
      "Cell \u001b[0;32mIn[151], line 3\u001b[0m\n\u001b[1;32m      1\u001b[0m \u001b[38;5;28;01mimport\u001b[39;00m \u001b[38;5;21;01masyncio\u001b[39;00m\n\u001b[1;32m      2\u001b[0m \u001b[38;5;28;01mimport\u001b[39;00m \u001b[38;5;21;01mlogging\u001b[39;00m\n\u001b[0;32m----> 3\u001b[0m \u001b[38;5;28;01mimport\u001b[39;00m \u001b[38;5;21;01maiosqlite\u001b[39;00m\n\u001b[1;32m      5\u001b[0m \u001b[38;5;28;01masync\u001b[39;00m \u001b[38;5;28;01mdef\u001b[39;00m \u001b[38;5;21mmain\u001b[39m():\n\u001b[1;32m      6\u001b[0m     logging\u001b[38;5;241m.\u001b[39mbasicConfig(level\u001b[38;5;241m=\u001b[39mlogging\u001b[38;5;241m.\u001b[39mINFO)\n",
      "\u001b[0;31mModuleNotFoundError\u001b[0m: No module named 'aiosqlite'"
     ]
    }
   ],
   "source": [
    "import asyncio\n",
    "import logging\n",
    "import aiosqlite\n",
    "\n",
    "async def main():\n",
    "    logging.basicConfig(level=logging.INFO)\n",
    "    # async with aiosqlite.connect(\"application.db\") as db:\n",
    "    #     async with db.execute(\"SELECT * FROM blogs\") as cursor:\n",
    "    #         logging.info(await cursor.fetchall())\n",
    "    db = await aiosqlite.connect(path+\"/application.db\")\n",
    "    cursor = await db.execute(\"SELECT * FROM blogs\")\n",
    "    logging.info(await cursor.fetchall())\n",
    "\n",
    "# =========================================================\n",
    "asyncio.run(main())"
   ]
  },
  {
   "cell_type": "code",
   "execution_count": null,
   "metadata": {
    "hidden": true
   },
   "outputs": [],
   "source": []
  },
  {
   "cell_type": "markdown",
   "metadata": {
    "heading_collapsed": true
   },
   "source": [
    "## Decorator"
   ]
  },
  {
   "cell_type": "code",
   "execution_count": 124,
   "metadata": {
    "hidden": true
   },
   "outputs": [],
   "source": [
    "from functools import wraps"
   ]
  },
  {
   "cell_type": "markdown",
   "metadata": {
    "hidden": true
   },
   "source": [
    "- [Corey Scheifer: Decorators - Dynamically Alter The Functionality Of Your Functions](https://www.youtube.com/watch?v=FsAPt_9Bf3U&t=1489s)\n",
    "- [Decorators With Arguments](https://www.youtube.com/watch?v=KlBPCzcQNU8)"
   ]
  },
  {
   "cell_type": "markdown",
   "metadata": {
    "hidden": true
   },
   "source": [
    "- [Property Decorators - Getters, Setters, and Deleters](https://www.youtube.com/watch?v=jCzT9XFZ5bw)"
   ]
  },
  {
   "cell_type": "markdown",
   "metadata": {
    "hidden": true
   },
   "source": [
    "- [Primer on Python Decorators\n",
    "](https://realpython.com/primer-on-python-decorators/#functions)\n"
   ]
  },
  {
   "cell_type": "code",
   "execution_count": 68,
   "metadata": {
    "hidden": true
   },
   "outputs": [],
   "source": [
    "def my_decorator(func):\n",
    "    print(\"This is from outside of wraper but inside the my_decorator. We usually don't do anything in this scope\")\n",
    "    def wrapper(p):\n",
    "        print(\"The beauty of the decorators lies in the fact that besides adding functionality to the output of the method, they can even accept arguments for functions and can further modify those arguments before passing it to the function itself.\")\n",
    "        print(f\"NOTE: How all arguments of the decorating function passed into the 'WRAPPER'\")\n",
    "        func(p)\n",
    "        print(\"Something is happening after the function is called.\")\n",
    "    return wrapper\n",
    "\n",
    "def greeting(name):\n",
    "    print(f\"Hello {name}\")"
   ]
  },
  {
   "cell_type": "code",
   "execution_count": 75,
   "metadata": {
    "hidden": true
   },
   "outputs": [],
   "source": [
    "# say_hello = my_decorator(greeting)"
   ]
  },
  {
   "cell_type": "code",
   "execution_count": 74,
   "metadata": {
    "hidden": true
   },
   "outputs": [],
   "source": [
    "# say_hello('Sara')"
   ]
  },
  {
   "cell_type": "markdown",
   "metadata": {
    "hidden": true
   },
   "source": [
    "- The way you decorated `say_hello('Sara')` above is a little clunky. First of all, you end up typing the name say_hello three times. In addition, the decoration gets a bit hidden away below the definition of the function.\n",
    "\n",
    "- Python allows you to use decorators in a simpler way with the `@` symbol, sometimes called the “pie” syntax. The following example does the exact same thing as the first decorator example:"
   ]
  },
  {
   "cell_type": "code",
   "execution_count": 72,
   "metadata": {
    "hidden": true
   },
   "outputs": [
    {
     "name": "stdout",
     "output_type": "stream",
     "text": [
      "This is from outside of wraper but inside the my_decorator. We usually don't do anything in this scope\n"
     ]
    }
   ],
   "source": [
    "@my_decorator\n",
    "def greeting(name):\n",
    "    print(f\"Hello {name}\")"
   ]
  },
  {
   "cell_type": "code",
   "execution_count": 73,
   "metadata": {
    "hidden": true
   },
   "outputs": [
    {
     "name": "stdout",
     "output_type": "stream",
     "text": [
      "The beauty of the decorators lies in the fact that besides adding functionality to the output of the method, they can even accept arguments for functions and can further modify those arguments before passing it to the function itself.\n",
      "NOTE: How all arguments of the decorating function passed into the 'WRAPPER'\n",
      "Hello Sara\n",
      "Something is happening after the function is called.\n"
     ]
    }
   ],
   "source": [
    "greeting('Sara')"
   ]
  },
  {
   "cell_type": "markdown",
   "metadata": {
    "hidden": true
   },
   "source": [
    "-------------\n",
    "-------------"
   ]
  },
  {
   "cell_type": "code",
   "execution_count": 118,
   "metadata": {
    "hidden": true
   },
   "outputs": [],
   "source": [
    "# decorator function to convert to lowercase\n",
    "def uppercase_decorator(function):\n",
    "    def wrapper(p1, p2):\n",
    "        \n",
    "        func = function(p1, p2)\n",
    "        return func.upper()\n",
    "    return wrapper\n",
    "\n",
    "# decorator function to split words\n",
    "def splitter_decorator(function):\n",
    "    def wrapper(p1, p2):\n",
    "        func = function(p1, p2)\n",
    "        return func.split()\n",
    "    return wrapper"
   ]
  },
  {
   "cell_type": "code",
   "execution_count": 119,
   "metadata": {
    "hidden": true
   },
   "outputs": [],
   "source": [
    "# @splitter_decorator # this is executed next\n",
    "@uppercase_decorator # this is executed first\n",
    "def hello(to_name, from_name):\n",
    "    return f\"hello {to_name}\""
   ]
  },
  {
   "cell_type": "code",
   "execution_count": 120,
   "metadata": {
    "hidden": true
   },
   "outputs": [
    {
     "data": {
      "text/plain": [
       "'HELLO SARA'"
      ]
     },
     "execution_count": 120,
     "metadata": {},
     "output_type": "execute_result"
    }
   ],
   "source": [
    "hello('Sara', 'Shah')   # output => [ 'hello' , 'world' ]"
   ]
  },
  {
   "cell_type": "markdown",
   "metadata": {
    "hidden": true
   },
   "source": [
    "- The beauty of the decorators lies in the fact that besides adding functionality to the output of the method, they can even accept arguments for functions and can further modify those arguments before passing it to the function itself. \n",
    "\n",
    "- The inner nested function, i.e. 'wrapper' function, plays a significant role here. It is implemented to enforce encapsulation and thus, keep itself hidden from the global scope."
   ]
  },
  {
   "cell_type": "code",
   "execution_count": 8,
   "metadata": {
    "hidden": true
   },
   "outputs": [],
   "source": [
    "# decorator function to capitalize names\n",
    "def names_decorator(function):\n",
    "    def wrapper(arg1, arg2):\n",
    "        arg1 = arg1.capitalize()\n",
    "        arg2 = arg2.capitalize()\n",
    "        return function(arg1, arg2)\n",
    "    return wrapper"
   ]
  },
  {
   "cell_type": "code",
   "execution_count": 9,
   "metadata": {
    "hidden": true
   },
   "outputs": [],
   "source": [
    "@names_decorator\n",
    "def say_hello(name1, name2):\n",
    "    return 'Hello ' + name1 + '! Hello ' + name2 + '!'"
   ]
  },
  {
   "cell_type": "code",
   "execution_count": 10,
   "metadata": {
    "hidden": true
   },
   "outputs": [
    {
     "data": {
      "text/plain": [
       "'Hello Sara! Hello Ansh!'"
      ]
     },
     "execution_count": 10,
     "metadata": {},
     "output_type": "execute_result"
    }
   ],
   "source": [
    "say_hello('sara', 'ansh')   # output => 'Hello Sara! Hello Ansh!'"
   ]
  },
  {
   "cell_type": "markdown",
   "metadata": {
    "hidden": true
   },
   "source": [
    "The `functools.wraps` decorator in Python is used to preserve the metadata of a wrapped function when creating a decorator. When you create a decorator to modify or enhance the behavior of a function, it's important to maintain information such as the function's name, docstring, and module.\n",
    "\n",
    "Here's how `functools.wraps` works:\n",
    "\n",
    "- `Decorating a Decorator`:\n",
    "    - When you create a decorator using another function, you typically wrap the original function with some additional behavior. However, doing so can result in the loss of the original function's metadata.\n",
    "\n",
    "- `Preserving Metadata`:\n",
    "    - To prevent the loss of metadata, you use the functools.wraps decorator to wrap the inner function of your decorator. This ensures that the inner function retains the attributes of the original function."
   ]
  },
  {
   "cell_type": "code",
   "execution_count": 125,
   "metadata": {
    "hidden": true
   },
   "outputs": [],
   "source": [
    "def capitalize_input(func):\n",
    "    @functools.wraps(func)\n",
    "    def wraper(*args, **kwargs):\n",
    "        inputs = [val.capitalize() for val in args]\n",
    "        kwargs = {key: val.capitalize() for key,val in kwargs.items()}\n",
    "        return func(*inputs, **kwargs)\n",
    "    return wraper"
   ]
  },
  {
   "cell_type": "code",
   "execution_count": 126,
   "metadata": {
    "hidden": true
   },
   "outputs": [],
   "source": [
    "@capitalize_input\n",
    "def say_hello(name1, name2, name3):\n",
    "    return f\"\"\"Hello {name1}! Hello {name2}! Hello {name3}\"\"\""
   ]
  },
  {
   "cell_type": "code",
   "execution_count": 127,
   "metadata": {
    "hidden": true
   },
   "outputs": [
    {
     "data": {
      "text/plain": [
       "'Hello Biden! Hello Sara! Hello Clinton'"
      ]
     },
     "execution_count": 127,
     "metadata": {},
     "output_type": "execute_result"
    }
   ],
   "source": [
    "say_hello('biden', 'sara', 'clinton')   # output => 'Hello Sara! Hello Ansh!'"
   ]
  },
  {
   "cell_type": "code",
   "execution_count": null,
   "metadata": {
    "hidden": true
   },
   "outputs": [],
   "source": []
  },
  {
   "cell_type": "code",
   "execution_count": 17,
   "metadata": {
    "hidden": true
   },
   "outputs": [],
   "source": [
    "# dir(register)"
   ]
  },
  {
   "cell_type": "code",
   "execution_count": null,
   "metadata": {
    "hidden": true
   },
   "outputs": [],
   "source": []
  },
  {
   "cell_type": "markdown",
   "metadata": {
    "heading_collapsed": true,
    "hidden": true
   },
   "source": [
    "#### [Decorator: Corey Scheifer](https://www.youtube.com/watch?v=FsAPt_9Bf3U)"
   ]
  },
  {
   "cell_type": "markdown",
   "metadata": {
    "heading_collapsed": true
   },
   "source": [
    "## Iterator"
   ]
  },
  {
   "cell_type": "markdown",
   "metadata": {
    "hidden": true
   },
   "source": [
    "- [Corey: Iterators and Iterables - What Are They and How Do They Work?](https://www.youtube.com/watch?v=jTYiNjvnHZY&list=RDCMUCCezIgC97PvUuR4_gbFUs5g&index=2)"
   ]
  },
  {
   "cell_type": "code",
   "execution_count": null,
   "metadata": {
    "hidden": true
   },
   "outputs": [],
   "source": []
  },
  {
   "cell_type": "code",
   "execution_count": null,
   "metadata": {
    "hidden": true
   },
   "outputs": [],
   "source": []
  },
  {
   "cell_type": "code",
   "execution_count": null,
   "metadata": {
    "code_folding": [
     5
    ],
    "hidden": true
   },
   "outputs": [],
   "source": [
    "from math import *\n",
    "\n",
    "################ Python3 Doc => Tutorial: 9.8 [Iterator & Generator] ##########\n",
    "\n",
    "# Taken From: https://docs.python.org/3/library/itertools.html#itertools.permutations\n",
    "def permutations(iterable, r=None):\n",
    "    # permutations('ABCD', 2) --> AB AC AD BA BC BD CA CB CD DA DB DC\n",
    "    # permutations(range(3)) --> 012 021 102 120 201 210\n",
    "    pool = tuple(iterable)\n",
    "    n = len(pool)\n",
    "    r = n if r is None else r\n",
    "    if r > n:\n",
    "        return\n",
    "    indices = list(range(n))\n",
    "    cycles = list(range(n, n-r, -1))\n",
    "    yield tuple(pool[i] for i in indices[:r])\n",
    "    while n:\n",
    "        for i in reversed(range(r)):\n",
    "            cycles[i] -= 1\n",
    "            if cycles[i] == 0:\n",
    "                indices[i:] = indices[i+1:] + indices[i:i+1]\n",
    "                cycles[i] = n - i\n",
    "            else:\n",
    "                j = cycles[i]\n",
    "                indices[i], indices[-j] = indices[-j], indices[i]\n",
    "                yield tuple(pool[i] for i in indices[:r])\n",
    "                break\n",
    "        else:\n",
    "            return\n",
    "\n",
    "\n",
    "def permutations(iterable, r=None):\n",
    "    pool = tuple(iterable)\n",
    "    n = len(pool)\n",
    "    r = n if r is None else r\n",
    "    for indices in product(range(n), repeat=r):\n",
    "        if len(set(indices)) == r:\n",
    "            yield tuple(pool[i] for i in indices)"
   ]
  },
  {
   "cell_type": "code",
   "execution_count": null,
   "metadata": {
    "hidden": true
   },
   "outputs": [],
   "source": [
    "class Reverse:\n",
    "    \"\"\"Iterator for looping over a sequence backwards.\"\"\" \n",
    "    def __init__(self, data):\n",
    "            self.data = data\n",
    "            self.index = len(data)\n",
    "    \n",
    "    def __iter__(self): \n",
    "        return self\n",
    "    \n",
    "    def __next__(self):\n",
    "        if self.index == 0: raise StopIteration \n",
    "        self.index = self.index - 1 \n",
    "        return self.data[self.index]"
   ]
  },
  {
   "cell_type": "code",
   "execution_count": null,
   "metadata": {
    "hidden": true
   },
   "outputs": [],
   "source": [
    "rev = Reverse('spam')\n",
    "iter(rev) # <__main__.Reverse object at 0x00A1DB50> \n",
    "\n",
    "\n",
    "for char in rev:\n",
    "    print(char)"
   ]
  },
  {
   "cell_type": "code",
   "execution_count": null,
   "metadata": {
    "hidden": true
   },
   "outputs": [],
   "source": [
    "def reverse(data):\n",
    "    for index in range(len(data)-1, -1, -1):\n",
    "        yield data[index]"
   ]
  },
  {
   "cell_type": "code",
   "execution_count": null,
   "metadata": {
    "hidden": true
   },
   "outputs": [],
   "source": [
    "for char in reverse('golf'):\n",
    "    print(char)"
   ]
  },
  {
   "cell_type": "code",
   "execution_count": null,
   "metadata": {
    "hidden": true
   },
   "outputs": [],
   "source": [
    "print(sum(i*i for i in range(10))) # 285\n",
    "xvec = [10, 20, 30]\n",
    "yvec = [7, 5, 3]\n",
    "print(sum(x*y for x,y in zip(xvec, yvec))) #260\n",
    "# sum of squares\n",
    "# dot product\n",
    "sine_table = {x: sin(x*pi/180) for x in range(0, 91)}\n",
    "# unique_words = set(word for line in page for word in line.split())\n",
    "# valedictorian = max((student.gpa, student.name) for student in graduates)\n",
    "data = 'golf'\n",
    "print(list(data[i] for i in range(len(data)-1, -1, -1))) # ['f', 'l', 'o', 'g']"
   ]
  },
  {
   "cell_type": "code",
   "execution_count": null,
   "metadata": {
    "hidden": true
   },
   "outputs": [],
   "source": [
    "class Node(object):\n",
    "    # left/right pointers are optional since a tree should end somewhere\n",
    "    def __init__(self, data, left=None, right=None):\n",
    "        self.data = data\n",
    "        # Pointer to a left sub-tree\n",
    "        self.left = left\n",
    "        # Pointer to a right sub-tree\n",
    "        self.right = right\n",
    "\n",
    "\n",
    "def inorder(tree):\n",
    "    if tree:\n",
    "        # Recursively iterate over elements in the left sub-tree\n",
    "        for l_child in inorder(tree.left):\n",
    "            # Return left sub-tree data elements one-by-one\n",
    "            yield l_child\n",
    "        # Return data element from current node\n",
    "        yield tree.data\n",
    "        # Recursively iterate over elements in the right sub-tree\n",
    "        for r_child in inorder(tree.right):\n",
    "            # Return right sub-tree data elements one-by-one\n",
    "            yield r_child\n",
    "\n",
    "def inorder2(node): # with the latest version of Python\n",
    "    if node:\n",
    "        yield from inorder2(node.left)\n",
    "        yield node.data\n",
    "        yield from inorder2(node.right)"
   ]
  },
  {
   "cell_type": "code",
   "execution_count": null,
   "metadata": {
    "hidden": true
   },
   "outputs": [],
   "source": [
    "tree = Node(2, left=Node(1), right=Node(3)); \n",
    "print(list(inorder2(tree))) # [1, 2, 3]\n",
    "tree = Node(4, left=Node(2, left=Node(1), right=Node(3)), right=Node(6, left=Node(5), right=Node(7)))\n",
    "print(list(inorder2(tree))) # [1, 2, 3, 4, 5, 6, 7]"
   ]
  },
  {
   "cell_type": "markdown",
   "metadata": {
    "heading_collapsed": true
   },
   "source": [
    "## Generator"
   ]
  },
  {
   "cell_type": "code",
   "execution_count": 15,
   "metadata": {
    "hidden": true
   },
   "outputs": [],
   "source": [
    "def truthy(x): return x%2 == 0\n",
    "my_generator = (item for item in range(10) if truthy(item))"
   ]
  },
  {
   "cell_type": "code",
   "execution_count": 16,
   "metadata": {
    "hidden": true
   },
   "outputs": [],
   "source": [
    "def test_yield(x):\n",
    "    for i in range(x):\n",
    "        if i%2 == 0:yield i"
   ]
  },
  {
   "cell_type": "code",
   "execution_count": 17,
   "metadata": {
    "hidden": true
   },
   "outputs": [
    {
     "name": "stdout",
     "output_type": "stream",
     "text": [
      "0\n",
      "2\n",
      "4\n",
      "6\n",
      "8\n"
     ]
    }
   ],
   "source": [
    "for i in test_yield(10):\n",
    "    print(i)"
   ]
  },
  {
   "cell_type": "code",
   "execution_count": 19,
   "metadata": {
    "hidden": true
   },
   "outputs": [
    {
     "data": {
      "text/plain": [
       "[0, 2, 4, 6, 8]"
      ]
     },
     "execution_count": 19,
     "metadata": {},
     "output_type": "execute_result"
    }
   ],
   "source": [
    "[*test_yield(10)]"
   ]
  },
  {
   "cell_type": "code",
   "execution_count": 18,
   "metadata": {
    "hidden": true
   },
   "outputs": [
    {
     "data": {
      "text/plain": [
       "generator"
      ]
     },
     "execution_count": 18,
     "metadata": {},
     "output_type": "execute_result"
    }
   ],
   "source": [
    "type(test_yield())"
   ]
  },
  {
   "cell_type": "markdown",
   "metadata": {
    "heading_collapsed": true,
    "hidden": true
   },
   "source": [
    "#### Create a generator of Fibonacci"
   ]
  },
  {
   "cell_type": "code",
   "execution_count": 24,
   "metadata": {
    "hidden": true
   },
   "outputs": [],
   "source": [
    "## generate fibonacci numbers upto n\n",
    "def fib(n):\n",
    "    p, q = 0, 1\n",
    "    while (p < n):\n",
    "        yield p\n",
    "        p, q = q, p + q"
   ]
  },
  {
   "cell_type": "code",
   "execution_count": 28,
   "metadata": {
    "hidden": true
   },
   "outputs": [
    {
     "name": "stdout",
     "output_type": "stream",
     "text": [
      "0\n",
      "1\n",
      "1\n",
      "2\n",
      "3\n",
      "5\n",
      "8\n",
      "\u001b[01;5m  \u001b[01;31m StopIteration \u001b[m  \u001b[m got raised !!!!!\n",
      "\u001b[01;5m  \u001b[01;31m StopIteration \u001b[m  \u001b[m got raised !!!!!\n",
      "\u001b[01;5m  \u001b[01;31m StopIteration \u001b[m  \u001b[m got raised !!!!!\n"
     ]
    }
   ],
   "source": [
    "n = 10\n",
    "fibonacci_numbers = fib(n)    # create generator object \n",
    "\n",
    "left = 0\n",
    "while left < n:\n",
    "    \n",
    "    try:\n",
    "        print(fibonacci_numbers.__next__())\n",
    "        left += 1\n",
    "    except:\n",
    "        print(f\"{red('StopIteration')} got raised !!!!!\")\n",
    "        left += 1"
   ]
  },
  {
   "cell_type": "code",
   "execution_count": 30,
   "metadata": {
    "hidden": true
   },
   "outputs": [
    {
     "data": {
      "text/plain": [
       "[0, 1, 1, 2, 3, 5, 8]"
      ]
     },
     "execution_count": 30,
     "metadata": {},
     "output_type": "execute_result"
    }
   ],
   "source": [
    "n_fibbs = [*fib(10)]; n_fibbs"
   ]
  },
  {
   "cell_type": "code",
   "execution_count": 31,
   "metadata": {
    "hidden": true
   },
   "outputs": [
    {
     "name": "stdout",
     "output_type": "stream",
     "text": [
      "0\n",
      "1\n",
      "1\n",
      "2\n",
      "3\n",
      "5\n",
      "8\n",
      "None\n",
      "None\n",
      "None\n"
     ]
    }
   ],
   "source": [
    "n = 10\n",
    "fibonacci_numbers = fib(n)    # create generator object \n",
    "\n",
    "left = 0\n",
    "while left < n:\n",
    "    print(next(fibonacci_numbers, None))\n",
    "    left += 1"
   ]
  },
  {
   "cell_type": "code",
   "execution_count": 26,
   "metadata": {
    "hidden": true
   },
   "outputs": [],
   "source": [
    "x = fib(10)    # create generator object "
   ]
  },
  {
   "cell_type": "code",
   "execution_count": 27,
   "metadata": {
    "hidden": true
   },
   "outputs": [
    {
     "name": "stdout",
     "output_type": "stream",
     "text": [
      "0\n",
      "1\n",
      "1\n",
      "2\n",
      "3\n",
      "5\n",
      "8\n"
     ]
    },
    {
     "ename": "StopIteration",
     "evalue": "",
     "output_type": "error",
     "traceback": [
      "\u001b[0;31m---------------------------------------------------------------------------\u001b[0m",
      "\u001b[0;31mStopIteration\u001b[0m                             Traceback (most recent call last)",
      "Cell \u001b[0;32mIn[27], line 9\u001b[0m\n\u001b[1;32m      7\u001b[0m \u001b[38;5;28mprint\u001b[39m(x\u001b[38;5;241m.\u001b[39m\u001b[38;5;21m__next__\u001b[39m())    \u001b[38;5;66;03m# output => 5\u001b[39;00m\n\u001b[1;32m      8\u001b[0m \u001b[38;5;28mprint\u001b[39m(x\u001b[38;5;241m.\u001b[39m\u001b[38;5;21m__next__\u001b[39m())    \u001b[38;5;66;03m# output => 8\u001b[39;00m\n\u001b[0;32m----> 9\u001b[0m \u001b[38;5;28mprint\u001b[39m(\u001b[43mx\u001b[49m\u001b[38;5;241;43m.\u001b[39;49m\u001b[38;5;21;43m__next__\u001b[39;49m\u001b[43m(\u001b[49m\u001b[43m)\u001b[49m)    \u001b[38;5;66;03m# error\u001b[39;00m\n",
      "\u001b[0;31mStopIteration\u001b[0m: "
     ]
    }
   ],
   "source": [
    "## iterating using __next__(), for Python2, use next()\n",
    "print(x.__next__())    # output => 0\n",
    "print(x.__next__())    # output => 1\n",
    "print(x.__next__())    # output => 1\n",
    "print(x.__next__())    # output => 2\n",
    "print(x.__next__())    # output => 3\n",
    "print(x.__next__())    # output => 5\n",
    "print(x.__next__())    # output => 8\n",
    "print(x.__next__())    # error"
   ]
  },
  {
   "cell_type": "code",
   "execution_count": 10,
   "metadata": {
    "hidden": true
   },
   "outputs": [
    {
     "name": "stdout",
     "output_type": "stream",
     "text": [
      "0\n",
      "1\n",
      "1\n",
      "2\n",
      "3\n",
      "5\n",
      "8\n"
     ]
    }
   ],
   "source": [
    "## iterating using loop\n",
    "for i in fib(10):\n",
    "   print(i)    # output => 0 1 1 2 3 5 8"
   ]
  },
  {
   "cell_type": "markdown",
   "metadata": {
    "hidden": true
   },
   "source": [
    "- [Corey: Generators - How to use them and the benefits you receive](https://www.youtube.com/watch?v=bD05uGo_sVI&list=RDCMUCCezIgC97PvUuR4_gbFUs5g&start_radio=1&rv=bD05uGo_sVI&t=1)"
   ]
  },
  {
   "cell_type": "code",
   "execution_count": null,
   "metadata": {
    "hidden": true
   },
   "outputs": [],
   "source": [
    "\n",
    "# def square_numbers(nums):\n",
    "#     for i in nums:\n",
    "#         yield (i*i)\n",
    "\n",
    "# my_nums = square_numbers([1,2,3,4,5])\n",
    "\n",
    "my_nums = (x*x for x in [1,2,3,4,5])\n",
    "\n",
    "print list(my_nums) # [1, 4, 9, 16, 25]\n",
    "\n",
    "# for num in my_nums:\n",
    "#     print num"
   ]
  },
  {
   "cell_type": "code",
   "execution_count": null,
   "metadata": {
    "hidden": true
   },
   "outputs": [],
   "source": [
    "import mem_profile\n",
    "import random\n",
    "import time\n",
    "\n",
    "names = ['John', 'Corey', 'Adam', 'Steve', 'Rick', 'Thomas']\n",
    "majors = ['Math', 'Engineering', 'CompSci', 'Arts', 'Business']\n",
    "\n",
    "print 'Memory (Before): {}Mb'.format(mem_profile.memory_usage_psutil())\n",
    "\n",
    "def people_list(num_people):\n",
    "    result = []\n",
    "    for i in xrange(num_people):\n",
    "        person = {\n",
    "                    'id': i,\n",
    "                    'name': random.choice(names),\n",
    "                    'major': random.choice(majors)\n",
    "                }\n",
    "        result.append(person)\n",
    "    return result\n",
    "\n",
    "def people_generator(num_people):\n",
    "    for i in xrange(num_people):\n",
    "        person = {\n",
    "                    'id': i,\n",
    "                    'name': random.choice(names),\n",
    "                    'major': random.choice(majors)\n",
    "                }\n",
    "        yield person\n",
    "\n",
    "# t1 = time.clock()\n",
    "# people = people_list(1000000)\n",
    "# t2 = time.clock()\n",
    "\n",
    "t1 = time.clock()\n",
    "people = people_generator(1000000)\n",
    "t2 = time.clock()\n",
    "\n",
    "print 'Memory (After) : {}Mb'.format(mem_profile.memory_usage_psutil())\n",
    "print 'Took {} Seconds'.format(t2-t1)"
   ]
  },
  {
   "cell_type": "code",
   "execution_count": null,
   "metadata": {
    "hidden": true
   },
   "outputs": [],
   "source": [
    "from pympler import summary, muppy\n",
    "import psutil\n",
    "import resource\n",
    "import os\n",
    "import sys\n",
    "\n",
    "def memory_usage_psutil():\n",
    "    # return the memory usage in MB\n",
    "    process = psutil.Process(os.getpid())\n",
    "    mem = process.get_memory_info()[0] / float(2 ** 20)\n",
    "    return mem\n",
    "\n",
    "def memory_usage_resource():\n",
    "    rusage_denom = 1024.\n",
    "    if sys.platform == 'darwin':\n",
    "        # ... it seems that in OSX the output is different units ...\n",
    "        rusage_denom = rusage_denom * rusage_denom\n",
    "    mem = resource.getrusage(resource.RUSAGE_SELF).ru_maxrss / rusage_denom\n",
    "    return mem\n"
   ]
  },
  {
   "cell_type": "markdown",
   "metadata": {
    "heading_collapsed": true
   },
   "source": [
    "## Itertools, Functools and Operators"
   ]
  },
  {
   "cell_type": "code",
   "execution_count": null,
   "metadata": {
    "hidden": true
   },
   "outputs": [],
   "source": [
    "# groupby() is roughly equivalent to:\n",
    "class groupby:\n",
    "    # [k for k, g in groupby('AAAABBBCCDAABBB')] --> A B C D A B\n",
    "    # [list(g) for k, g in groupby('AAAABBBCCD')] --> AAAA BBB CC D\n",
    "    \n",
    "    def __init__(self, iterable, key=None):\n",
    "        if key is None:\n",
    "            def key(x): return x\n",
    "        self.keyfunc = key\n",
    "        self.it = iter(iterable)\n",
    "        self.tgtkey = self.currkey = self.currvalue = object()\n",
    "\n",
    "    def __iter__(self):\n",
    "        return self\n",
    "\n",
    "    def __next__(self):\n",
    "        self.id = object()\n",
    "        while self.currkey == self.tgtkey:\n",
    "            self.currvalue = next(self.it)    # Exit on StopIteration\n",
    "            self.currkey = self.keyfunc(self.currvalue)\n",
    "        self.tgtkey = self.currkey\n",
    "        return (self.currkey, self._grouper(self.tgtkey, self.id))\n",
    "\n",
    "    def _grouper(self, tgtkey, id):\n",
    "        while self.id is id and self.currkey == tgtkey:\n",
    "            yield self.currvalue\n",
    "            try:\n",
    "                self.currvalue = next(self.it)\n",
    "            except StopIteration:\n",
    "                return\n",
    "            self.currkey = self.keyfunc(self.currvalue)\n",
    "\n",
    "\n",
    "def _test_groupby():\n",
    "    L = [*range(10)]\n",
    "    shuffle(L)\n",
    "    for i in groupby(L):\n",
    "        print(i)\n"
   ]
  },
  {
   "cell_type": "code",
   "execution_count": null,
   "metadata": {
    "hidden": true
   },
   "outputs": [],
   "source": [
    "_test_groupby()"
   ]
  },
  {
   "cell_type": "code",
   "execution_count": null,
   "metadata": {
    "hidden": true
   },
   "outputs": [],
   "source": [
    "import operator"
   ]
  },
  {
   "cell_type": "markdown",
   "metadata": {
    "heading_collapsed": true,
    "hidden": true
   },
   "source": [
    "#### `operator.attrgetter`"
   ]
  },
  {
   "cell_type": "code",
   "execution_count": null,
   "metadata": {
    "hidden": true
   },
   "outputs": [],
   "source": [
    "# Define a list of objects\n",
    "class Person:\n",
    "    def __init__(self, name, age):\n",
    "        self.name = name\n",
    "        self.age = age\n",
    "\n",
    "people = [\n",
    "    Person(\"Alice\", 30),\n",
    "    Person(\"Bob\", 25),\n",
    "    Person(\"Charlie\", 35)\n",
    "]"
   ]
  },
  {
   "cell_type": "code",
   "execution_count": null,
   "metadata": {
    "hidden": true
   },
   "outputs": [],
   "source": [
    "# Create an attrgetter object to get the 'age' attribute\n",
    "get_age = operator.attrgetter('age')\n",
    "\n",
    "# Use the attrgetter to retrieve ages\n",
    "ages = list(map(get_age, people))\n",
    "print(ages)  # Output: [30, 25, 35]"
   ]
  },
  {
   "cell_type": "code",
   "execution_count": null,
   "metadata": {
    "hidden": true
   },
   "outputs": [],
   "source": []
  },
  {
   "cell_type": "code",
   "execution_count": null,
   "metadata": {
    "hidden": true
   },
   "outputs": [],
   "source": []
  },
  {
   "cell_type": "markdown",
   "metadata": {
    "heading_collapsed": true
   },
   "source": [
    "# Concurency"
   ]
  },
  {
   "cell_type": "markdown",
   "metadata": {
    "hidden": true
   },
   "source": [
    "- [AsyncIO, await, and async - Concurrency in Python](https://www.youtube.com/watch?v=K56nNuBEd0c)\n",
    "-   [mCoding: Unlocking your CPU cores in Python (multiprocessing)](https://www.youtube.com/watch?v=X7vBbelRXn0&t=572s)\n",
    "-   [mCoding: Intro to async Python | Writing a Web Crawler](https://www.youtube.com/watch?v=ftmdDlwMwwQ&t=33s)\n",
    "-   [ArjanCodes: How To Easily Do Asynchronous Programming With Asyncio In Python](https://www.youtube.com/watch?v=2IW-ZEui4h4&t=69s)\n",
    "-   [ArjanCodes: Next-Level Concurrent Programming In Python With Asyncio](https://www.youtube.com/watch?v=GpqAQxH1Afc)\n"
   ]
  },
  {
   "cell_type": "code",
   "execution_count": null,
   "metadata": {
    "hidden": true
   },
   "outputs": [],
   "source": []
  }
 ],
 "metadata": {
  "interpreter": {
   "hash": "31f2aee4e71d21fbe5cf8b01ff0e069b9275f58929596ceb00d14d90e3e16cd6"
  },
  "kernelspec": {
   "display_name": "Python 3 (ipykernel)",
   "language": "python",
   "name": "python3"
  },
  "language_info": {
   "codemirror_mode": {
    "name": "ipython",
    "version": 3
   },
   "file_extension": ".py",
   "mimetype": "text/x-python",
   "name": "python",
   "nbconvert_exporter": "python",
   "pygments_lexer": "ipython3",
   "version": "3.10.9"
  },
  "toc": {
   "base_numbering": 1,
   "nav_menu": {},
   "number_sections": false,
   "sideBar": true,
   "skip_h1_title": false,
   "title_cell": "Table of Contents",
   "title_sidebar": "Contents",
   "toc_cell": true,
   "toc_position": {},
   "toc_section_display": true,
   "toc_window_display": false
  }
 },
 "nbformat": 4,
 "nbformat_minor": 4
}
