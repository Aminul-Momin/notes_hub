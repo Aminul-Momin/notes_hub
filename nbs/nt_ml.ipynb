{
 "cells": [
  {
   "cell_type": "markdown",
   "metadata": {
    "toc": true
   },
   "source": [
    "<h1>Table of Contents<span class=\"tocSkip\"></span></h1>\n",
    "<div class=\"toc\"><ul class=\"toc-item\"><li><span><a href=\"#Model-Evaluation-Approches:\" data-toc-modified-id=\"Model-Evaluation-Approches:-1\">Model Evaluation Approches:</a></span><ul class=\"toc-item\"><li><ul class=\"toc-item\"><li><span><a href=\"#Train/Test-on-the-same-data\" data-toc-modified-id=\"Train/Test-on-the-same-data-1.0.1\"><code>Train/Test on the same data</code></a></span></li><li><span><a href=\"#Train/Test-split\" data-toc-modified-id=\"Train/Test-split-1.0.2\"><code>Train/Test split</code></a></span></li><li><span><a href=\"#K-Fold-Cross-Validation\" data-toc-modified-id=\"K-Fold-Cross-Validation-1.0.3\"><code>K-Fold Cross Validation</code></a></span></li></ul></li></ul></li><li><span><a href=\"#Model-Evaluation-Metrics:\" data-toc-modified-id=\"Model-Evaluation-Metrics:-2\">Model Evaluation Metrics:</a></span><ul class=\"toc-item\"><li><span><a href=\"#Regression:\" data-toc-modified-id=\"Regression:-2.1\">Regression:</a></span><ul class=\"toc-item\"><li><span><a href=\"#Mean-Absolute-Error:\" data-toc-modified-id=\"Mean-Absolute-Error:-2.1.1\"><code>Mean Absolute Error:</code></a></span></li><li><span><a href=\"#Mean-Squared-Error-(MSE):\" data-toc-modified-id=\"Mean-Squared-Error-(MSE):-2.1.2\"><code>Mean Squared Error (MSE)</code>:</a></span></li><li><span><a href=\"#Root-Mean-Squared-Error-(RMSE):\" data-toc-modified-id=\"Root-Mean-Squared-Error-(RMSE):-2.1.3\"><code>Root Mean Squared Error (RMSE):</code></a></span></li><li><span><a href=\"#Root-Mean-Squared-Log-Error-(RMSLE):\" data-toc-modified-id=\"Root-Mean-Squared-Log-Error-(RMSLE):-2.1.4\"><code>Root Mean Squared Log Error (RMSLE):</code></a></span></li><li><span><a href=\"#Relative-Squared-Error-(RSE):\" data-toc-modified-id=\"Relative-Squared-Error-(RSE):-2.1.5\"><code>Relative Squared Error (RSE):</code></a></span></li><li><span><a href=\"#Relative-Absolute-Error-(RAE):\" data-toc-modified-id=\"Relative-Absolute-Error-(RAE):-2.1.6\"><code>Relative Absolute Error (RAE):</code></a></span></li><li><span><a href=\"#Coeficient-of-Determination-(R-Squared):\" data-toc-modified-id=\"Coeficient-of-Determination-(R-Squared):-2.1.7\"><code>Coeficient of Determination</code> (R-Squared):</a></span></li></ul></li><li><span><a href=\"#Classification:\" data-toc-modified-id=\"Classification:-2.2\">Classification:</a></span><ul class=\"toc-item\"><li><span><a href=\"#Jaccard-Index-(JI)-:\" data-toc-modified-id=\"Jaccard-Index-(JI)-:-2.2.1\"><code>Jaccard Index (JI) :</code></a></span></li><li><span><a href=\"#Precision\" data-toc-modified-id=\"Precision-2.2.2\">Precision</a></span></li><li><span><a href=\"#Recall\" data-toc-modified-id=\"Recall-2.2.3\">Recall</a></span></li><li><span><a href=\"#F1-Score\" data-toc-modified-id=\"F1-Score-2.2.4\">F1-Score</a></span></li></ul></li></ul></li><li><span><a href=\"#Models:\" data-toc-modified-id=\"Models:-3\">Models:</a></span><ul class=\"toc-item\"><li><span><a href=\"#Regression\" data-toc-modified-id=\"Regression-3.1\">Regression</a></span><ul class=\"toc-item\"><li><span><a href=\"#Linear-Regression\" data-toc-modified-id=\"Linear-Regression-3.1.1\">Linear Regression</a></span><ul class=\"toc-item\"><li><span><a href=\"#Mathematical-Equations:\" data-toc-modified-id=\"Mathematical-Equations:-3.1.1.1\">Mathematical Equations:</a></span></li></ul></li><li><span><a href=\"#Random-Forest-Regression\" data-toc-modified-id=\"Random-Forest-Regression-3.1.2\">Random Forest Regression</a></span></li></ul></li><li><span><a href=\"#Classification\" data-toc-modified-id=\"Classification-3.2\">Classification</a></span><ul class=\"toc-item\"><li><span><a href=\"#KNN:\" data-toc-modified-id=\"KNN:-3.2.1\">KNN:</a></span></li><li><span><a href=\"#Perceptron:\" data-toc-modified-id=\"Perceptron:-3.2.2\">Perceptron:</a></span><ul class=\"toc-item\"><li><span><a href=\"#Binary-Class-of-Perceptron\" data-toc-modified-id=\"Binary-Class-of-Perceptron-3.2.2.1\">Binary Class of Perceptron</a></span></li><li><span><a href=\"#Multiclass-Perceptron\" data-toc-modified-id=\"Multiclass-Perceptron-3.2.2.2\">Multiclass Perceptron</a></span></li><li><span><a href=\"#Experiments-with-multiclass-Perceptron\" data-toc-modified-id=\"Experiments-with-multiclass-Perceptron-3.2.2.3\">Experiments with multiclass Perceptron</a></span></li></ul></li></ul></li><li><span><a href=\"#Clustering\" data-toc-modified-id=\"Clustering-3.3\">Clustering</a></span><ul class=\"toc-item\"><li><span><a href=\"#K-Means:\" data-toc-modified-id=\"K-Means:-3.3.1\"><a href=\"https://scikit-learn.org/0.15/modules/generated/sklearn.cluster.KMeans.html#sklearn.cluster.KMeans.get_params\" rel=\"nofollow\" target=\"_blank\">K-Means</a>:</a></span></li><li><span><a href=\"#Hierarchical-Clustering\" data-toc-modified-id=\"Hierarchical-Clustering-3.3.2\">Hierarchical Clustering</a></span></li></ul></li></ul></li><li><span><a href=\"#Loss-Functions:\" data-toc-modified-id=\"Loss-Functions:-4\">Loss Functions:</a></span><ul class=\"toc-item\"><li><ul class=\"toc-item\"><li><span><a href=\"#Negative-Log-Likelyhood-(NLL):\" data-toc-modified-id=\"Negative-Log-Likelyhood-(NLL):-4.0.1\"><code>Negative Log Likelyhood (NLL)</code>:</a></span></li><li><span><a href=\"#Cross-Entropy\" data-toc-modified-id=\"Cross-Entropy-4.0.2\"><code>Cross-Entropy</code></a></span></li><li><span><a href=\"#Log-Loss-(a.k.a.-Binary-Cross-Entropy):\" data-toc-modified-id=\"Log-Loss-(a.k.a.-Binary-Cross-Entropy):-4.0.3\"><code>Log Loss</code> (a.k.a. <code>Binary Cross Entropy</code>):</a></span></li><li><span><a href=\"#Hinge-Loss:\" data-toc-modified-id=\"Hinge-Loss:-4.0.4\"><code>Hinge Loss</code>:</a></span></li><li><span><a href=\"#Squard-Hinge-Loss:\" data-toc-modified-id=\"Squard-Hinge-Loss:-4.0.5\"><code>Squard Hinge Loss</code>:</a></span></li><li><span><a href=\"#Entropy:\" data-toc-modified-id=\"Entropy:-4.0.6\"><code>Entropy</code>:</a></span></li><li><span><a href=\"#Gini-impurity:\" data-toc-modified-id=\"Gini-impurity:-4.0.7\"><code>Gini impurity</code>:</a></span></li></ul></li></ul></li><li><span><a href=\"#Optimizer\" data-toc-modified-id=\"Optimizer-5\">Optimizer</a></span></li><li><span><a href=\"#Nural-Network\" data-toc-modified-id=\"Nural-Network-6\">Nural Network</a></span><ul class=\"toc-item\"><li><span><a href=\"#Gradient-Descent\" data-toc-modified-id=\"Gradient-Descent-6.1\">Gradient Descent</a></span></li></ul></li></ul></div>"
   ]
  },
  {
   "cell_type": "markdown",
   "metadata": {},
   "source": [
    "***\n",
    "***"
   ]
  },
  {
   "cell_type": "code",
   "execution_count": 1,
   "metadata": {},
   "outputs": [],
   "source": [
    "import numpy as np\n",
    "from numpy.random import randint\n",
    "\n",
    "import pandas as pd\n",
    "from matplotlib import pyplot as plt\n",
    "from mpl_toolkits.mplot3d import Axes3D\n",
    "import seaborn as sns\n",
    "\n",
    "import random\n",
    "plt.style.use('seaborn')\n",
    "np.set_printoptions(precision=3)\n",
    "styles = plt.style.available\n",
    "plt.rc('xtick', labelsize=14) \n",
    "plt.rc('ytick', labelsize=14)\n",
    "# for style in styles: print(style)"
   ]
  },
  {
   "cell_type": "code",
   "execution_count": 2,
   "metadata": {
    "colab": {},
    "colab_type": "code",
    "id": "hVPemUph6L4n"
   },
   "outputs": [],
   "source": [
    "from sklearn import datasets as ds\n",
    "\n",
    "from sklearn.feature_selection import SelectKBest, SelectFromModel, chi2, RFE\n",
    "\n",
    "from sklearn.metrics import mean_squared_error, mean_absolute_error, r2_score\n",
    "from sklearn.metrics import accuracy_score, log_loss, classification_report, confusion_matrix, ConfusionMatrixDisplay, plot_confusion_matrix\n",
    "\n",
    "from sklearn.model_selection import train_test_split, cross_val_score\n",
    "from sklearn.model_selection import GridSearchCV, KFold, RandomizedSearchCV, LeaveOneOut\n",
    "\n",
    "from sklearn.linear_model import LinearRegression, LogisticRegression\n",
    "from sklearn.neighbors import KNeighborsClassifier\n",
    "from sklearn.ensemble import RandomForestRegressor, AdaBoostClassifier, GradientBoostingRegressor\n",
    "from sklearn.svm import SVR, SVC\n",
    "\n",
    "from sklearn.pipeline import make_pipeline, Pipeline, make_union\n",
    "\n",
    "from sklearn.decomposition import PCA\n",
    "from sklearn.preprocessing import StandardScaler"
   ]
  },
  {
   "cell_type": "code",
   "execution_count": 3,
   "metadata": {},
   "outputs": [],
   "source": [
    "import torch\n",
    "import torch.nn.functional as F\n",
    "import torch.nn as nn"
   ]
  },
  {
   "cell_type": "code",
   "execution_count": 4,
   "metadata": {},
   "outputs": [],
   "source": [
    "def plot_function(f, tx=None, ty=None, title=None, min=-2, max=2, figsize=(6,4)):\n",
    "    x = torch.linspace(min,max)\n",
    "    fig, ax = plt.subplots(figsize=figsize)\n",
    "    ax.plot(x,f(x))\n",
    "    if tx is not None: ax.set_xlabel(tx)\n",
    "    if ty is not None: ax.set_ylabel(ty)\n",
    "    if title is not None: ax.set_title(title)"
   ]
  },
  {
   "cell_type": "markdown",
   "metadata": {},
   "source": [
    "***\n",
    "***"
   ]
  },
  {
   "cell_type": "markdown",
   "metadata": {},
   "source": [
    "## Model Evaluation Approches:"
   ]
  },
  {
   "cell_type": "markdown",
   "metadata": {},
   "source": [
    "**Test Data vs Validation Data**\n",
    "\n",
    "When evaluating different settings (“hyperparameters”) for estimators, such as the C setting that must be manually set for an SVM, there is still a risk of overfitting on the test set because the parameters can be tweaked until the estimator performs optimally. This way, knowledge about the test set can “leak” into the model and evaluation metrics no longer report on generalization performance. To solve this problem, yet another part of the dataset can be held out as a so-called “validation set”: training proceeds on the training set, after which evaluation is done on the validation set, and when the experiment seems to be successful, final evaluation can be done on the test set."
   ]
  },
  {
   "cell_type": "markdown",
   "metadata": {
    "heading_collapsed": true,
    "jp-MarkdownHeadingCollapsed": true,
    "tags": []
   },
   "source": [
    "#### `Train/Test on the same data`"
   ]
  },
  {
   "cell_type": "markdown",
   "metadata": {
    "heading_collapsed": true
   },
   "source": [
    "#### `Train/Test split`"
   ]
  },
  {
   "cell_type": "markdown",
   "metadata": {
    "heading_collapsed": true
   },
   "source": [
    "#### `K-Fold Cross Validation`"
   ]
  },
  {
   "cell_type": "markdown",
   "metadata": {},
   "source": [
    "## Model Evaluation Metrics:"
   ]
  },
  {
   "cell_type": "markdown",
   "metadata": {},
   "source": [
    "### Regression:"
   ]
  },
  {
   "cell_type": "markdown",
   "metadata": {},
   "source": [
    "- [Regression Metrics](https://hrngok.github.io/posts/metrics/#:~:text=Root%20Mean%20Squared%20Logaritmic%20Error%20(RMSLE)&text=It%20is%20the%20Root%20Mean,possible%200%20(zero)%20values.)"
   ]
  },
  {
   "cell_type": "markdown",
   "metadata": {
    "heading_collapsed": true
   },
   "source": [
    "#### `Mean Absolute Error:`\n",
    "\n",
    "\n",
    "$$ MAE =  \\frac{1}{m}\\sum\\limits_{i=1}^{m}{|y_i - \\hat{y_i}|}$$"
   ]
  },
  {
   "cell_type": "markdown",
   "metadata": {
    "heading_collapsed": true
   },
   "source": [
    "#### `Mean Squared Error (MSE)`:\n",
    "\n",
    "$$ L(w)\n",
    "= \\dfrac{1}{m} \\sum\\limits_{i=1}^{m}{(\\boldsymbol{w}^T \\mathbf{x}^{(i)} - y^{(i)})^2} \n",
    "= \\frac{1}{m}\\sum\\limits_{i=1}^{m}{(y_i - \\hat{y_i})^2} \n",
    "= \\min_{w} || X w - y||_2^2 $$"
   ]
  },
  {
   "cell_type": "markdown",
   "metadata": {
    "hidden": true
   },
   "source": [
    "$$ \\min_{w} || X w - y||_2^2 + \\alpha ||w||_2^2 $$ "
   ]
  },
  {
   "cell_type": "markdown",
   "metadata": {
    "hidden": true
   },
   "source": [
    "$$ \\min_{w} { \\frac{1}{2n_{\\text{samples}}} ||X w - y||_2 ^ 2 + \\alpha ||w||_1} $$"
   ]
  },
  {
   "cell_type": "markdown",
   "metadata": {
    "heading_collapsed": true
   },
   "source": [
    "#### `Root Mean Squared Error (RMSE):`\n",
    "\n",
    "$$ \\sqrt{\\frac{1}{m}\\sum\\limits_{i=1}^{m}{(y_i - \\hat{y_i})^2}} $$"
   ]
  },
  {
   "cell_type": "markdown",
   "metadata": {
    "heading_collapsed": true
   },
   "source": [
    "#### `Root Mean Squared Log Error (RMSLE):`\n",
    "\n",
    "\n",
    "$$ \n",
    "\\sqrt{\\frac{1}{m} \\sum\\limits_{i=1}^{m}{\\left(log(y_i + 1) - log(\\hat{y_i} + 1)\\right)^2}} \n",
    "= \\sqrt{\\frac{1}{m} \\sum\\limits_{i=1}^{m} log \\left( \\frac{y_i + 1}{\\hat{y_i} + 1}\\right)^2}\n",
    "$$\n",
    "\n",
    "\n",
    "- It is the Root Mean Squared Error of the log-transformed predicted and log-transformed actual values.\n",
    "- RMSLE adds 1 to both actual and predicted values before taking the natural logarithm to avoid taking the natural log of possible 0 (zero) values. As a result, the function can be used if actual or predicted have zero-valued elements. But this function is not appropriate if either is negative valued"
   ]
  },
  {
   "cell_type": "markdown",
   "metadata": {
    "heading_collapsed": true
   },
   "source": [
    "#### `Relative Squared Error (RSE):`\n",
    "\n",
    "$$ \\frac{\\sum\\limits_{i=1}^{m}{(y_i - \\hat{y_i})^2}}{\\sum\\limits_{i=1}^{m}{(y_i - \\bar{y_i})^2}} $$"
   ]
  },
  {
   "cell_type": "markdown",
   "metadata": {
    "heading_collapsed": true
   },
   "source": [
    "#### `Relative Absolute Error (RAE):`\n",
    "\n",
    "$$ \\frac{\\sum\\limits_{i=1}^{m}{|y_i - \\hat{y_i}|}}{\\sum\\limits_{i=1}^{m}{|y_i - \\bar{y_i}|}} $$"
   ]
  },
  {
   "cell_type": "markdown",
   "metadata": {
    "heading_collapsed": true
   },
   "source": [
    "#### `Coeficient of Determination` (R-Squared):\n",
    "\n",
    "$$ \n",
    "R^2 =1 - \\frac{\\sum\\limits_{i=1}^{m}{(y_i - \\hat{y_i})^2}}{\\sum\\limits_{i=1}^{m}{(y_i - \\bar{y_i})^2}} \n",
    "= 1 - \\frac{\\text{Explained Sum of Squares}}{\\text{Total Sum of Squares}} \\quad \\in (-\\infty, 1]\n",
    "$$\n",
    "\n",
    "In statistics, the coefficient of determination, denoted `R2` or `r2` and pronounced `R squared`, is the proportion of the variance in the dependent variable that is predictable from the independent variable(s)"
   ]
  },
  {
   "cell_type": "markdown",
   "metadata": {
    "hidden": true
   },
   "source": [
    "$\n",
    "J(k, t_k) = \\dfrac{m_{\\text{left}}}{m}\\text{MSE}_\\text{left} + \\dfrac{m_{\\text{right}}}{m}\\text{MSE}_{\\text{right}} \\quad\n",
    "\\text{where }\n",
    "\\begin{cases}\n",
    "\\text{MSE}_{\\text{node}} = \\sum\\limits_{\\scriptstyle i \\in \\text{node}}(\\hat{y}_{\\text{node}} - y^{(i)})^2\\\\\n",
    "\\hat{y}_\\text{node} = \\dfrac{1}{m_{\\text{node}}}\\sum\\limits_{\\scriptstyle i \\in \\text{node}}y^{(i)}\n",
    "\\end{cases}\n",
    "$"
   ]
  },
  {
   "cell_type": "code",
   "execution_count": null,
   "metadata": {
    "hidden": true
   },
   "outputs": [],
   "source": []
  },
  {
   "cell_type": "markdown",
   "metadata": {},
   "source": [
    "### Classification:\n"
   ]
  },
  {
   "cell_type": "code",
   "execution_count": null,
   "metadata": {},
   "outputs": [],
   "source": [
    "# help(sk.metrics)"
   ]
  },
  {
   "cell_type": "markdown",
   "metadata": {
    "heading_collapsed": true
   },
   "source": [
    "#### `Jaccard Index (JI) :`"
   ]
  },
  {
   "cell_type": "markdown",
   "metadata": {
    "hidden": true
   },
   "source": [
    "- $ \\text{Set Based JI, } J(y, \\hat{y}) = \\frac{|y \\cap \\hat{y}|}{|y| + |\\hat{y}| - |y \\cap \\hat{y}|} = \\frac{|y \\cap \\hat{y}|}{|y \\cup \\hat{y}|} $ \n",
    "\n",
    "\n",
    "- $ \\text{Vector Based JI, } J(y, \\hat{y}) = \\frac{\\sum\\limits^k_{i=1} min(y_k, \\hat{y}_k)}{\\sum\\limits^k_{i=1} max(y_k, \\hat{y}_k)} $ \n",
    "\n",
    "\n",
    "- Example:  \n",
    "    - $y = [1,0,0,1,0,1,1]$;   \n",
    "    - $\\hat{y} = [1,1,0,1,0,1,0]$\n",
    "        - $|\\hat{y}| = ?$\n",
    "        - $|y| = ?$\n",
    "        - $|y \\cap \\hat{y}| = ?$\n",
    "        - $J(y, \\hat{y}) = ? $\n",
    "\n",
    "\n",
    "- - $J(y, \\hat{y}) \\in [0, 1]$"
   ]
  },
  {
   "cell_type": "markdown",
   "metadata": {},
   "source": [
    "#### Precision \n",
    "- What fraction of all patients, we predicted have cancer, actually have cancer\n",
    "- How often the given model cause a false alarm.\n",
    "- Precision = $\\frac{\\text{True Positive}}{\\text{# Total Predicted Positive}}$\n",
    "- $ \\mathbb{P} = \\cfrac{TP}{TP + FP}; \\mathbb{P} \\in [0,1] $\n",
    "\n",
    "\n",
    "#### Recall\n",
    "- What fraction of all patients actually have cancer in our dataset have we correctly detected.\n",
    "- How sensitive is our model is.\n",
    "- Recall = $\\frac{\\text{True Positive}}{\\text{# Total Actuall Positive}}$\n",
    "- $ \\mathbb{R} = \\cfrac{TP}{TP + FN}; \\mathbb{R} \\in [0,1] $\n",
    "\n",
    "\n",
    "- **True Positive(TP)**: Predicted Positive and actuall also Positive.\n",
    "- **False Positive(FP)**: Predicted Positive but actuall not Positive.\n",
    "- **True Negative(TN)**: Predicted Negative and actuall also Negative.\n",
    "- **False Negative(FN)**: Predicted Negative but actuall not Negative.\n",
    "\n",
    "\n",
    "#### F1-Score\n",
    "- $\n",
    "F_1 = \\cfrac{2}{\\cfrac{1}{\\text{precision}} + \\cfrac{1}{\\text{recall}}} = 2 \\times \\cfrac{\\text{precision}\\, \\times \\, \\text{recall}}{\\text{precision}\\, + \\, \\text{recall}} = \\cfrac{TP}{TP + \\cfrac{FN + FP}{2}}\n",
    "; \\mathbb{F}_1 \\in [0,1]\n",
    "$\n",
    "\n",
    "- `0.00  ====>>>> Higher Accuracy ====>> 1.00`"
   ]
  },
  {
   "cell_type": "markdown",
   "metadata": {},
   "source": [
    "## Models:"
   ]
  },
  {
   "cell_type": "markdown",
   "metadata": {},
   "source": [
    "### Regression"
   ]
  },
  {
   "cell_type": "markdown",
   "metadata": {},
   "source": [
    "#### Linear Regression"
   ]
  },
  {
   "cell_type": "markdown",
   "metadata": {
    "heading_collapsed": true
   },
   "source": [
    "##### Mathematical Equations:"
   ]
  },
  {
   "cell_type": "markdown",
   "metadata": {
    "hidden": true
   },
   "source": [
    "**Equation 4-1: Linear Regression model prediction**\n",
    "\n",
    "$$\n",
    "\\hat{y} = \\theta_0 + \\theta_1 x_1 + \\theta_2 x_2 + \\dots + \\theta_n x_n\n",
    "$$\n",
    "\n",
    "**Equation 4-2: Linear Regression model prediction (vectorized form)**\n",
    "\n",
    "$$\n",
    "\\hat{y} = h_{\\boldsymbol{\\theta}}(\\mathbf{x}) = \\boldsymbol{\\theta} \\cdot \\mathbf{x}\n",
    "$$\n",
    "\n",
    "**Equation 4-3: MSE cost function for a Linear Regression model**\n",
    "\n",
    "\\begin{split}\n",
    "\\text{MSE}(\\mathbf{X}, h_{\\boldsymbol{\\theta}}) \n",
    "&= \\dfrac{1}{m} \\sum\\limits_{i=1}^{m}{(\\boldsymbol{\\theta}^T \\mathbf{x}^{(i)} - y^{(i)})^2} \\\\\n",
    "&= \\dfrac{1}{m} \\left\\| \\mathbf{X} \\boldsymbol{\\theta} - \\mathbf{y}) \\right\\|^2\n",
    "\\end{split}\n",
    "\n",
    "**Equation 4-4: Normal Equation**\n",
    "\n",
    "$$\n",
    "\\hat{\\boldsymbol{\\theta}} = (\\mathbf{X}^T \\mathbf{X})^{-1} \\mathbf{X}^T \\mathbf{y}\n",
    "$$\n",
    "\n",
    "\n",
    "**Equation 4-5: Partial derivatives of the cost function**\n",
    "\n",
    "$$\n",
    "\\dfrac{\\partial}{\\partial \\theta_j} \\text{MSE}(\\boldsymbol{\\theta}) = \\dfrac{2}{m}\\sum\\limits_{i=1}^{m}(\\boldsymbol{\\theta}^T \\mathbf{x}^{(i)} - y^{(i)})\\, x_j^{(i)}\n",
    "$$\n",
    "\n",
    "**Equation 4-6: Gradient vector of the cost function**\n",
    "\n",
    "$$\n",
    "\\nabla_{\\boldsymbol{\\theta}}\\, \\text{MSE}(\\boldsymbol{\\theta}) =\n",
    "\\begin{pmatrix}\n",
    " \\frac{\\partial}{\\partial \\theta_0} \\text{MSE}(\\boldsymbol{\\theta}) \\\\\n",
    " \\frac{\\partial}{\\partial \\theta_1} \\text{MSE}(\\boldsymbol{\\theta}) \\\\\n",
    " \\vdots \\\\\n",
    " \\frac{\\partial}{\\partial \\theta_n} \\text{MSE}(\\boldsymbol{\\theta})\n",
    "\\end{pmatrix}\n",
    " = \\dfrac{2}{m} \\mathbf{X}^T (\\mathbf{X} \\boldsymbol{\\theta} - \\mathbf{y})\n",
    "$$\n",
    "\n",
    "**Equation 4-7: Gradient Descent step**\n",
    "\n",
    "$$\n",
    "\\boldsymbol{\\theta}_{new} = \\boldsymbol{\\theta}_{old} - \\eta \\cdot \\nabla_{\\boldsymbol{\\theta}}\\, \\text{MSE}(\\boldsymbol{\\theta})\n",
    "$$\n",
    "\n",
    "**Equation 4-8: Ridge Regression cost function**\n",
    "\n",
    "\\begin{split}\n",
    "J(\\boldsymbol{\\theta}) \n",
    "&= \\dfrac{1}{m} \\sum\\limits_{i=1}^{m}{(\\boldsymbol{\\theta}^T \\mathbf{x}^{(i)} - y^{(i)})^2} + \\alpha \\dfrac{1}{2}\\sum\\limits_{i=1}^{n}{\\theta_i}^2 \\\\\n",
    "&= \\dfrac{1}{m} \\left\\| \\mathbf{X} \\boldsymbol{\\theta} - \\mathbf{y}) \\right\\|^2 + \\dfrac{\\alpha}{2}\\sum\\limits_{i=1}^{n} \\left\\| \\boldsymbol{\\theta} \\right\\|^2\n",
    "\\end{split}\n",
    "\n",
    "**Equation 4-9: Ridge Regression closed-form solution**\n",
    "\n",
    "$$\n",
    "\\hat{\\boldsymbol{\\theta}} = (\\mathbf{X}^T \\mathbf{X} + \\alpha \\mathbf{I})^{-1} \\mathbf{X}^T \\mathbf{y}\n",
    "$$\n",
    "\n",
    "**Equation 4-10: Lasso Regression cost function**\n",
    "\n",
    "\\begin{split}\n",
    "J(\\boldsymbol{\\theta}) \n",
    "&= \\dfrac{1}{m} \\sum\\limits_{i=1}^{m}{(\\boldsymbol{\\theta}^T \\mathbf{x}^{(i)} - y^{(i)})^2} + \\alpha \\sum\\limits_{i=1}^{n}\\left| \\theta_i \\right| \\\\\n",
    "&= \\dfrac{1}{m} \\left\\| \\mathbf{X} \\boldsymbol{\\theta} - \\mathbf{y}) \\right\\|^2 + \\alpha \\sum\\limits_{i=1}^{n} {\\left\\| \\boldsymbol{\\theta} \\right\\|}_{1}\n",
    "\\end{split}\n",
    "\n",
    "**Equation 4-11: Lasso Regression subgradient vector**\n",
    "\n",
    "$$\n",
    "g(\\boldsymbol{\\theta}, J) = \\nabla_{\\boldsymbol{\\theta}}\\, \\text{MSE}(\\boldsymbol{\\theta}) + \\alpha\n",
    "\\begin{pmatrix}\n",
    "  \\operatorname{sign}(\\theta_1) \\\\\n",
    "  \\operatorname{sign}(\\theta_2) \\\\\n",
    "  \\vdots \\\\\n",
    "  \\operatorname{sign}(\\theta_n) \\\\\n",
    "\\end{pmatrix} \\quad \\text{where } \\operatorname{sign}(\\theta_i) =\n",
    "\\begin{cases}\n",
    "-1 & \\text{if } \\theta_i < 0 \\\\\n",
    "0 & \\text{if } \\theta_i = 0 \\\\\n",
    "+1 & \\text{if } \\theta_i > 0\n",
    "\\end{cases}\n",
    "$$"
   ]
  },
  {
   "cell_type": "markdown",
   "metadata": {
    "hidden": true
   },
   "source": [
    "<img src='../assets/kernel_least_square_linear_Regression.png'></img>"
   ]
  },
  {
   "cell_type": "markdown",
   "metadata": {
    "heading_collapsed": true
   },
   "source": [
    "#### Random Forest Regression"
   ]
  },
  {
   "cell_type": "markdown",
   "metadata": {},
   "source": [
    "### Classification"
   ]
  },
  {
   "cell_type": "markdown",
   "metadata": {
    "heading_collapsed": true
   },
   "source": [
    "#### KNN:"
   ]
  },
  {
   "cell_type": "markdown",
   "metadata": {
    "hidden": true
   },
   "source": [
    "```python\n",
    "class sklearn.neighbors.KNeighborsClassifier(n_neighbors=5, *, weights='uniform', algorithm='auto', leaf_size=30, p=2, metric='minkowski', metric_params=None, n_jobs=None\n",
    "```"
   ]
  },
  {
   "cell_type": "markdown",
   "metadata": {
    "hidden": true
   },
   "source": [
    "|Attributes|Methods|\n",
    "|----------|-------|\n",
    "|classes_ | fit(X, y)|\n",
    "|effective_metric_ | get_params([deep])|\n",
    "|effective_metric_params_ | kneighbors([X, n_neighbors, return_distance])|\n",
    "|n_samples_fit_ | kneighbors_graph([X, n_neighbors, mode])|\n",
    "|outputs_2d_ | predict(X)|\n",
    "||predict_proba(X)|\n",
    "||score(X, y[, sample_weight])|\n",
    "||set_params(**params)|"
   ]
  },
  {
   "cell_type": "code",
   "execution_count": 164,
   "metadata": {
    "hidden": true
   },
   "outputs": [],
   "source": [
    "# help(KNeighborsClassifier)"
   ]
  },
  {
   "cell_type": "code",
   "execution_count": null,
   "metadata": {
    "hidden": true
   },
   "outputs": [],
   "source": []
  },
  {
   "cell_type": "code",
   "execution_count": 5,
   "metadata": {
    "hidden": true
   },
   "outputs": [],
   "source": [
    "iris = ds.load_iris()"
   ]
  },
  {
   "cell_type": "code",
   "execution_count": 8,
   "metadata": {
    "hidden": true
   },
   "outputs": [
    {
     "data": {
      "text/plain": [
       "array(['setosa', 'versicolor', 'virginica'], dtype='<U10')"
      ]
     },
     "execution_count": 8,
     "metadata": {},
     "output_type": "execute_result"
    }
   ],
   "source": [
    "labels=iris.target_names; labels"
   ]
  },
  {
   "cell_type": "code",
   "execution_count": 207,
   "metadata": {
    "hidden": true
   },
   "outputs": [
    {
     "data": {
      "text/html": [
       "<div>\n",
       "<style scoped>\n",
       "    .dataframe tbody tr th:only-of-type {\n",
       "        vertical-align: middle;\n",
       "    }\n",
       "\n",
       "    .dataframe tbody tr th {\n",
       "        vertical-align: top;\n",
       "    }\n",
       "\n",
       "    .dataframe thead th {\n",
       "        text-align: right;\n",
       "    }\n",
       "</style>\n",
       "<table border=\"1\" class=\"dataframe\">\n",
       "  <thead>\n",
       "    <tr style=\"text-align: right;\">\n",
       "      <th></th>\n",
       "      <th>Sepal_Length</th>\n",
       "      <th>Sepal_Width</th>\n",
       "      <th>Petal_Length</th>\n",
       "      <th>Petal_Width</th>\n",
       "      <th>Target</th>\n",
       "    </tr>\n",
       "  </thead>\n",
       "  <tbody>\n",
       "    <tr>\n",
       "      <th>0</th>\n",
       "      <td>5.1</td>\n",
       "      <td>3.5</td>\n",
       "      <td>1.4</td>\n",
       "      <td>0.2</td>\n",
       "      <td>0</td>\n",
       "    </tr>\n",
       "    <tr>\n",
       "      <th>1</th>\n",
       "      <td>4.9</td>\n",
       "      <td>3.0</td>\n",
       "      <td>1.4</td>\n",
       "      <td>0.2</td>\n",
       "      <td>0</td>\n",
       "    </tr>\n",
       "    <tr>\n",
       "      <th>2</th>\n",
       "      <td>4.7</td>\n",
       "      <td>3.2</td>\n",
       "      <td>1.3</td>\n",
       "      <td>0.2</td>\n",
       "      <td>0</td>\n",
       "    </tr>\n",
       "    <tr>\n",
       "      <th>3</th>\n",
       "      <td>4.6</td>\n",
       "      <td>3.1</td>\n",
       "      <td>1.5</td>\n",
       "      <td>0.2</td>\n",
       "      <td>0</td>\n",
       "    </tr>\n",
       "    <tr>\n",
       "      <th>4</th>\n",
       "      <td>5.0</td>\n",
       "      <td>3.6</td>\n",
       "      <td>1.4</td>\n",
       "      <td>0.2</td>\n",
       "      <td>0</td>\n",
       "    </tr>\n",
       "    <tr>\n",
       "      <th>...</th>\n",
       "      <td>...</td>\n",
       "      <td>...</td>\n",
       "      <td>...</td>\n",
       "      <td>...</td>\n",
       "      <td>...</td>\n",
       "    </tr>\n",
       "    <tr>\n",
       "      <th>145</th>\n",
       "      <td>6.7</td>\n",
       "      <td>3.0</td>\n",
       "      <td>5.2</td>\n",
       "      <td>2.3</td>\n",
       "      <td>2</td>\n",
       "    </tr>\n",
       "    <tr>\n",
       "      <th>146</th>\n",
       "      <td>6.3</td>\n",
       "      <td>2.5</td>\n",
       "      <td>5.0</td>\n",
       "      <td>1.9</td>\n",
       "      <td>2</td>\n",
       "    </tr>\n",
       "    <tr>\n",
       "      <th>147</th>\n",
       "      <td>6.5</td>\n",
       "      <td>3.0</td>\n",
       "      <td>5.2</td>\n",
       "      <td>2.0</td>\n",
       "      <td>2</td>\n",
       "    </tr>\n",
       "    <tr>\n",
       "      <th>148</th>\n",
       "      <td>6.2</td>\n",
       "      <td>3.4</td>\n",
       "      <td>5.4</td>\n",
       "      <td>2.3</td>\n",
       "      <td>2</td>\n",
       "    </tr>\n",
       "    <tr>\n",
       "      <th>149</th>\n",
       "      <td>5.9</td>\n",
       "      <td>3.0</td>\n",
       "      <td>5.1</td>\n",
       "      <td>1.8</td>\n",
       "      <td>2</td>\n",
       "    </tr>\n",
       "  </tbody>\n",
       "</table>\n",
       "<p>150 rows × 5 columns</p>\n",
       "</div>"
      ],
      "text/plain": [
       "     Sepal_Length  Sepal_Width  Petal_Length  Petal_Width  Target\n",
       "0             5.1          3.5           1.4          0.2       0\n",
       "1             4.9          3.0           1.4          0.2       0\n",
       "2             4.7          3.2           1.3          0.2       0\n",
       "3             4.6          3.1           1.5          0.2       0\n",
       "4             5.0          3.6           1.4          0.2       0\n",
       "..            ...          ...           ...          ...     ...\n",
       "145           6.7          3.0           5.2          2.3       2\n",
       "146           6.3          2.5           5.0          1.9       2\n",
       "147           6.5          3.0           5.2          2.0       2\n",
       "148           6.2          3.4           5.4          2.3       2\n",
       "149           5.9          3.0           5.1          1.8       2\n",
       "\n",
       "[150 rows x 5 columns]"
      ]
     },
     "execution_count": 207,
     "metadata": {},
     "output_type": "execute_result"
    }
   ],
   "source": [
    "df = pd.DataFrame(iris.data, columns=['Sepal_Length','Sepal_Width','Petal_Length','Petal_Width'])\n",
    "df['Target']= iris.target.data\n",
    "df"
   ]
  },
  {
   "cell_type": "code",
   "execution_count": 208,
   "metadata": {
    "hidden": true
   },
   "outputs": [],
   "source": [
    "def iris_type(row):\n",
    "    if row['Target']==0: return 'Setosa'\n",
    "    if row['Target']==1: return 'Versicolor'\n",
    "    if row['Target']==2: return 'Virginica'\n",
    "    "
   ]
  },
  {
   "cell_type": "code",
   "execution_count": 209,
   "metadata": {
    "hidden": true
   },
   "outputs": [],
   "source": [
    "df['Iris_Type']=df.apply(iris_type, axis=1)"
   ]
  },
  {
   "cell_type": "code",
   "execution_count": 210,
   "metadata": {
    "hidden": true
   },
   "outputs": [
    {
     "data": {
      "text/html": [
       "<div>\n",
       "<style scoped>\n",
       "    .dataframe tbody tr th:only-of-type {\n",
       "        vertical-align: middle;\n",
       "    }\n",
       "\n",
       "    .dataframe tbody tr th {\n",
       "        vertical-align: top;\n",
       "    }\n",
       "\n",
       "    .dataframe thead th {\n",
       "        text-align: right;\n",
       "    }\n",
       "</style>\n",
       "<table border=\"1\" class=\"dataframe\">\n",
       "  <thead>\n",
       "    <tr style=\"text-align: right;\">\n",
       "      <th></th>\n",
       "      <th>Sepal_Length</th>\n",
       "      <th>Sepal_Width</th>\n",
       "      <th>Petal_Length</th>\n",
       "      <th>Petal_Width</th>\n",
       "      <th>Target</th>\n",
       "      <th>Iris_Type</th>\n",
       "    </tr>\n",
       "  </thead>\n",
       "  <tbody>\n",
       "    <tr>\n",
       "      <th>0</th>\n",
       "      <td>5.1</td>\n",
       "      <td>3.5</td>\n",
       "      <td>1.4</td>\n",
       "      <td>0.2</td>\n",
       "      <td>0</td>\n",
       "      <td>Setosa</td>\n",
       "    </tr>\n",
       "    <tr>\n",
       "      <th>1</th>\n",
       "      <td>4.9</td>\n",
       "      <td>3.0</td>\n",
       "      <td>1.4</td>\n",
       "      <td>0.2</td>\n",
       "      <td>0</td>\n",
       "      <td>Setosa</td>\n",
       "    </tr>\n",
       "    <tr>\n",
       "      <th>2</th>\n",
       "      <td>4.7</td>\n",
       "      <td>3.2</td>\n",
       "      <td>1.3</td>\n",
       "      <td>0.2</td>\n",
       "      <td>0</td>\n",
       "      <td>Setosa</td>\n",
       "    </tr>\n",
       "    <tr>\n",
       "      <th>3</th>\n",
       "      <td>4.6</td>\n",
       "      <td>3.1</td>\n",
       "      <td>1.5</td>\n",
       "      <td>0.2</td>\n",
       "      <td>0</td>\n",
       "      <td>Setosa</td>\n",
       "    </tr>\n",
       "    <tr>\n",
       "      <th>4</th>\n",
       "      <td>5.0</td>\n",
       "      <td>3.6</td>\n",
       "      <td>1.4</td>\n",
       "      <td>0.2</td>\n",
       "      <td>0</td>\n",
       "      <td>Setosa</td>\n",
       "    </tr>\n",
       "    <tr>\n",
       "      <th>...</th>\n",
       "      <td>...</td>\n",
       "      <td>...</td>\n",
       "      <td>...</td>\n",
       "      <td>...</td>\n",
       "      <td>...</td>\n",
       "      <td>...</td>\n",
       "    </tr>\n",
       "    <tr>\n",
       "      <th>145</th>\n",
       "      <td>6.7</td>\n",
       "      <td>3.0</td>\n",
       "      <td>5.2</td>\n",
       "      <td>2.3</td>\n",
       "      <td>2</td>\n",
       "      <td>Virginica</td>\n",
       "    </tr>\n",
       "    <tr>\n",
       "      <th>146</th>\n",
       "      <td>6.3</td>\n",
       "      <td>2.5</td>\n",
       "      <td>5.0</td>\n",
       "      <td>1.9</td>\n",
       "      <td>2</td>\n",
       "      <td>Virginica</td>\n",
       "    </tr>\n",
       "    <tr>\n",
       "      <th>147</th>\n",
       "      <td>6.5</td>\n",
       "      <td>3.0</td>\n",
       "      <td>5.2</td>\n",
       "      <td>2.0</td>\n",
       "      <td>2</td>\n",
       "      <td>Virginica</td>\n",
       "    </tr>\n",
       "    <tr>\n",
       "      <th>148</th>\n",
       "      <td>6.2</td>\n",
       "      <td>3.4</td>\n",
       "      <td>5.4</td>\n",
       "      <td>2.3</td>\n",
       "      <td>2</td>\n",
       "      <td>Virginica</td>\n",
       "    </tr>\n",
       "    <tr>\n",
       "      <th>149</th>\n",
       "      <td>5.9</td>\n",
       "      <td>3.0</td>\n",
       "      <td>5.1</td>\n",
       "      <td>1.8</td>\n",
       "      <td>2</td>\n",
       "      <td>Virginica</td>\n",
       "    </tr>\n",
       "  </tbody>\n",
       "</table>\n",
       "<p>150 rows × 6 columns</p>\n",
       "</div>"
      ],
      "text/plain": [
       "     Sepal_Length  Sepal_Width  Petal_Length  Petal_Width  Target  Iris_Type\n",
       "0             5.1          3.5           1.4          0.2       0     Setosa\n",
       "1             4.9          3.0           1.4          0.2       0     Setosa\n",
       "2             4.7          3.2           1.3          0.2       0     Setosa\n",
       "3             4.6          3.1           1.5          0.2       0     Setosa\n",
       "4             5.0          3.6           1.4          0.2       0     Setosa\n",
       "..            ...          ...           ...          ...     ...        ...\n",
       "145           6.7          3.0           5.2          2.3       2  Virginica\n",
       "146           6.3          2.5           5.0          1.9       2  Virginica\n",
       "147           6.5          3.0           5.2          2.0       2  Virginica\n",
       "148           6.2          3.4           5.4          2.3       2  Virginica\n",
       "149           5.9          3.0           5.1          1.8       2  Virginica\n",
       "\n",
       "[150 rows x 6 columns]"
      ]
     },
     "execution_count": 210,
     "metadata": {},
     "output_type": "execute_result"
    }
   ],
   "source": [
    "df"
   ]
  },
  {
   "cell_type": "code",
   "execution_count": 212,
   "metadata": {
    "hidden": true
   },
   "outputs": [],
   "source": [
    "X_train, X_test, y_train, y_test = train_test_split(X, y, test_size=0.2, random_state=5)"
   ]
  },
  {
   "cell_type": "code",
   "execution_count": 213,
   "metadata": {
    "hidden": true
   },
   "outputs": [],
   "source": [
    "neigh = KNeighborsClassifier(n_neighbors=4).fit(X_train, y_train)"
   ]
  },
  {
   "cell_type": "code",
   "execution_count": 214,
   "metadata": {
    "hidden": true
   },
   "outputs": [
    {
     "data": {
      "text/plain": [
       "array([0, 1, 2])"
      ]
     },
     "execution_count": 214,
     "metadata": {},
     "output_type": "execute_result"
    }
   ],
   "source": [
    "neigh.classes_"
   ]
  },
  {
   "cell_type": "code",
   "execution_count": 215,
   "metadata": {
    "hidden": true
   },
   "outputs": [],
   "source": [
    "yhat_test = neigh.predict(X_test)"
   ]
  },
  {
   "cell_type": "code",
   "execution_count": 216,
   "metadata": {
    "hidden": true
   },
   "outputs": [
    {
     "data": {
      "text/plain": [
       "0.9333333333333333"
      ]
     },
     "execution_count": 216,
     "metadata": {},
     "output_type": "execute_result"
    }
   ],
   "source": [
    "accuracy_score(y_test, yhat_test)"
   ]
  },
  {
   "cell_type": "code",
   "execution_count": 217,
   "metadata": {
    "hidden": true
   },
   "outputs": [],
   "source": [
    "cm=confusion_matrix(y_test, yhat_test)"
   ]
  },
  {
   "cell_type": "code",
   "execution_count": 231,
   "metadata": {
    "hidden": true
   },
   "outputs": [
    {
     "data": {
      "image/png": "[encoded data removed]",
      "text/plain": [
       "<Figure size 1080x576 with 2 Axes>"
      ]
     },
     "metadata": {},
     "output_type": "display_data"
    }
   ],
   "source": [
    "mat = plot_confusion_matrix(neigh, X_test, y_test, cmap=plt.cm.Reds)\n",
    "mat.ax_.set_title('Confusion Matrix', c='Navy', fontsize=30)\n",
    "mat.ax_.set_xticklabels(labels, fontsize=20, c='maroon')\n",
    "mat.ax_.set_yticklabels(labels, fontsize=20, c='maroon')\n",
    "plt.xlabel('Predicted Label', c='navy', fontsize=20)\n",
    "plt.ylabel('True Label', c='navy', fontsize=20)\n",
    "# plt.gcf().axes[0].tick_params(color='red')\n",
    "# plt.gcf().axes[1].tick_params(color='red')\n",
    "plt.gcf().set_size_inches(15,8)\n",
    "# Rotate the tick labels and set their alignment.\n",
    "plt.setp(mat.ax_.get_xticklabels(), rotation=45, ha=\"right\", rotation_mode=\"anchor\")\n",
    "\n",
    "for i in range(len(labels)):\n",
    "    for j in range(len(labels)):\n",
    "        text = mat.ax_.text(j, i, cm[i, j], ha=\"center\", va=\"center\", color=\"black\", fontsize=20)\n"
   ]
  },
  {
   "cell_type": "code",
   "execution_count": 199,
   "metadata": {
    "hidden": true
   },
   "outputs": [],
   "source": [
    "cm_show = ConfusionMatrixDisplay(cm)"
   ]
  },
  {
   "cell_type": "code",
   "execution_count": 204,
   "metadata": {
    "hidden": true
   },
   "outputs": [],
   "source": [
    "# help(cm_show)"
   ]
  },
  {
   "cell_type": "code",
   "execution_count": 202,
   "metadata": {
    "hidden": true
   },
   "outputs": [
    {
     "data": {
      "text/plain": [
       "<sklearn.metrics._plot.confusion_matrix.ConfusionMatrixDisplay at 0x132395dc0>"
      ]
     },
     "execution_count": 202,
     "metadata": {},
     "output_type": "execute_result"
    },
    {
     "data": {
      "image/png": "[encoded data removed]",
      "text/plain": [
       "<Figure size 576x396 with 2 Axes>"
      ]
     },
     "metadata": {},
     "output_type": "display_data"
    }
   ],
   "source": [
    "cm_show.plot()"
   ]
  },
  {
   "cell_type": "markdown",
   "metadata": {
    "heading_collapsed": true
   },
   "source": [
    "#### Perceptron:"
   ]
  },
  {
   "cell_type": "markdown",
   "metadata": {
    "heading_collapsed": true,
    "hidden": true
   },
   "source": [
    "##### Binary Class of Perceptron"
   ]
  },
  {
   "cell_type": "markdown",
   "metadata": {
    "hidden": true
   },
   "source": [
    "This first procedure, **evaluate_classifier**, takes as input the parameters of a linear classifier (`w,b`) as well as a data point (`x`) and returns the prediction of that classifier at `x`.\n",
    "\n",
    "The prediction is:\n",
    "* `1`  if `w.x+b > 0`\n",
    "* `0`  if `w.x+b = 0`\n",
    "* `-1` if `w.x+b < -1`"
   ]
  },
  {
   "cell_type": "code",
   "execution_count": 22,
   "metadata": {
    "code_folding": [],
    "hidden": true
   },
   "outputs": [],
   "source": [
    "def evaluate_classifier(w, b, x):\n",
    "    if (np.dot(w, x) + b) > 0: return 1\n",
    "    if (np.dot(w, x) + b) <= 0: return -1\n",
    "    return 0"
   ]
  },
  {
   "cell_type": "markdown",
   "metadata": {
    "hidden": true
   },
   "source": [
    "Here is the Perceptron training procedure. It is invoked as follows:\n",
    "```python\n",
    "w,b,converged = train_perceptron(x,y,n_iters)\n",
    "```\n",
    "\n",
    "where,\n",
    "* `x`: n-by-d numpy array with n data points, each d-dimensional\n",
    "* `y`: n-dimensional numpy array with the labels (each 1 or -1)\n",
    "* `n_iters`: the training procedure will run through the data at most this many times (default: 100)\n",
    "* `w,b`: parameters for the final linear classifier\n",
    "* `converged`: flag (True/False) indicating whether the algorithm converged within the prescribed number of iterations\n",
    "\n",
    "If the data is not linearly separable, then the training procedure will not converge."
   ]
  },
  {
   "cell_type": "code",
   "execution_count": 23,
   "metadata": {
    "code_folding": [
     0
    ],
    "hidden": true
   },
   "outputs": [],
   "source": [
    "def train_perceptron(x, y, n_iters=100):\n",
    "    n, d = x.shape\n",
    "    w = np.zeros((d,))\n",
    "    b = 0\n",
    "    done = False\n",
    "    converged = True\n",
    "    iters = 0\n",
    "    np.random.seed(None)\n",
    "    \n",
    "    while not(done):\n",
    "        done = True\n",
    "        I = np.random.permutation(n)\n",
    "        \n",
    "        for j in I:\n",
    "        # for i in range(n):\n",
    "            # j = I[i]\n",
    "            # if (evaluate_classifier(w, b, x[j, :]) != y[j]):\n",
    "            if (y[j] * evaluate_classifier(w, b, x[j, :])) < 0:\n",
    "                w = w + y[j] * x[j, :]  # Learning Rate = 1\n",
    "                b = b + y[j]            # Learning Rate = 1\n",
    "                done = False\n",
    "        \n",
    "        iters = iters + 1\n",
    "        if iters > n_iters: done, converged = True, False\n",
    "    \n",
    "    if converged: print(\"Number of iterations until convergence = \", iters)\n",
    "    else: print(\"It did not converge within the specified number of iterations\")\n",
    "    \n",
    "    return w, b, converged"
   ]
  },
  {
   "cell_type": "markdown",
   "metadata": {
    "hidden": true
   },
   "source": [
    "The directory containing this notebook should also contain the two-dimensional data files, `data_1.txt` and `data_2.txt`. These files contain one data point per line, along with a label, like:\n",
    "* `3 8 1` (meaning that point `x=(3,8)` has label `y=1`)\n",
    "\n",
    "The next procedure, **run_perceptron**, loads one of these data sets, learns a linear classifier using the Perceptron algorithm, and then displays the data as well as the boundary."
   ]
  },
  {
   "cell_type": "code",
   "execution_count": 24,
   "metadata": {
    "code_folding": [
     0
    ],
    "hidden": true
   },
   "outputs": [],
   "source": [
    "def run_perceptron(datafile):\n",
    "    data = np.loadtxt(datafile)\n",
    "    n, d = data.shape\n",
    "    \n",
    "    # Create training set x and labels y\n",
    "    x = data[:, 0:2]\n",
    "    y = data[:, 2]\n",
    "    \n",
    "    # Run the Perceptron algorithm for at most 100 iterations\n",
    "    w, b, converged = train_perceptron(x, y, 100)\n",
    "    \n",
    "    # Determine the x1- and x2- limits of the plot\n",
    "    x1min = min(x[:, 0]) - 1\n",
    "    x1max = max(x[:, 0]) + 1\n",
    "    x2min = min(x[:, 1]) - 1\n",
    "    x2max = max(x[:, 1]) + 1\n",
    "    plt.xlim(x1min, x1max)\n",
    "    plt.ylim(x2min, x2max)\n",
    "     \n",
    "    # Plot the data points\n",
    "    plt.plot(x[(y==1), 0], x[(y==1), 1], 'ro')\n",
    "    plt.plot(x[(y==-1), 0], x[(y==-1), 1], 'b^')\n",
    "    \n",
    "    # Construct a grid of points at which to evaluate the classifier\n",
    "    if converged:\n",
    "        grid_spacing = 0.05\n",
    "        xx1, xx2 = np.meshgrid(np.arange(x1min, x1max, grid_spacing), np.arange(x2min, x2max, grid_spacing))\n",
    "        grid = np.c_[xx1.ravel(), xx2.ravel()]\n",
    "        Z = np.array([evaluate_classifier(w, b, pt) for pt in grid])\n",
    "        # Show the classifier's boundary using a color plot\n",
    "        Z = Z.reshape(xx1.shape)\n",
    "        plt.pcolormesh(xx1, xx2, Z, cmap=plt.cm.PRGn, vmin=-3, vmax=3)\n",
    "        plt.xlabel(\"X1\", c='red', fontsize=20)\n",
    "        plt.ylabel(\"X2\", c='red', fontsize=20)\n",
    "    \n",
    "    plt.show()"
   ]
  },
  {
   "cell_type": "markdown",
   "metadata": {
    "hidden": true
   },
   "source": [
    "Let's run this on `data_1.txt`. Try running it a few times; you should get slightly different outcomes, because of the randomization in the learning procedure."
   ]
  },
  {
   "cell_type": "code",
   "execution_count": 33,
   "metadata": {
    "hidden": true
   },
   "outputs": [
    {
     "name": "stdout",
     "output_type": "stream",
     "text": [
      "Number of iterations until convergence =  13\n"
     ]
    },
    {
     "name": "stderr",
     "output_type": "stream",
     "text": [
      "<ipython-input-24-1644aa4aadc3>:32: MatplotlibDeprecationWarning: shading='flat' when X and Y have the same dimensions as C is deprecated since 3.3.  Either specify the corners of the quadrilaterals with X and Y, or pass shading='auto', 'nearest' or 'gouraud', or set rcParams['pcolor.shading'].  This will become an error two minor releases later.\n",
      "  plt.pcolormesh(xx1, xx2, Z, cmap=plt.cm.PRGn, vmin=-3, vmax=3)\n"
     ]
    },
    {
     "data": {
      "image/png": "[encoded data removed]",
      "text/plain": [
       "<Figure size 576x396 with 1 Axes>"
      ]
     },
     "metadata": {},
     "output_type": "display_data"
    }
   ],
   "source": [
    "PATH='/Users/a.momin/Data/UCSD/'\n",
    "run_perceptron(path1+'data_1.txt')"
   ]
  },
  {
   "cell_type": "markdown",
   "metadata": {
    "hidden": true
   },
   "source": [
    "And now, let's try running it on `data_2.txt`. *What's going on here?*"
   ]
  },
  {
   "cell_type": "code",
   "execution_count": 21,
   "metadata": {
    "hidden": true
   },
   "outputs": [
    {
     "name": "stdout",
     "output_type": "stream",
     "text": [
      "It did not converge within the specified number of iterations\n"
     ]
    },
    {
     "data": {
      "image/png": "[encoded data removed]",
      "text/plain": [
       "<Figure size 576x396 with 1 Axes>"
      ]
     },
     "metadata": {},
     "output_type": "display_data"
    }
   ],
   "source": [
    "run_perceptron(PATH+'data_2.txt')"
   ]
  },
  {
   "cell_type": "markdown",
   "metadata": {
    "heading_collapsed": true,
    "hidden": true
   },
   "source": [
    "##### Multiclass Perceptron"
   ]
  },
  {
   "cell_type": "markdown",
   "metadata": {
    "hidden": true
   },
   "source": [
    "Let's start with the code for the multiclass Perceptron algorithm. This is similar in spirit to our earlier binary Perceptron algorithm, except that now there is a linear function for each class.\n",
    "\n",
    "If there are `k` classes, we will assume that they are numbered `0,1,...,k-1`. For `d`-dimensional data, the classifier will be parametrized by:\n",
    "* `w`: this is a `kxd` numpy array with one row for each class\n",
    "* `b`: this is a `k`-dimensional numpy array with one offset for each class\n",
    "\n",
    "Thus the linear function for class `j` (where `j` lies in the range `0` to `k-1`) is given by `w[j,:], b[j]`.\n",
    "\n",
    "The first procedure, **evaluate_classifier**, takes as input the parameters of a linear classifier (`w,b`) as well as a data point (`x`) and returns the prediction of that classifier at `x`."
   ]
  },
  {
   "cell_type": "code",
   "execution_count": null,
   "metadata": {
    "hidden": true
   },
   "outputs": [],
   "source": [
    "def evaluate_classifier(w: np.ndarray, b: np.array, x: np.array):\n",
    "    k = len(b)\n",
    "    scores = np.zeros(k)\n",
    "    for j in range(k):\n",
    "        scores[j] = np.dot(w[j, :], x) + b[j]\n",
    "    return int(np.argmax(scores))\n",
    "\n",
    "def eval_classifier(w, b, x): return np.argmax(w@x + b)"
   ]
  },
  {
   "cell_type": "code",
   "execution_count": null,
   "metadata": {
    "hidden": true
   },
   "outputs": [],
   "source": [
    "# Testing of evaluate_classifier\n",
    "w,b,x = np.random.randint(0,9,(5,7)),np.random.rand(5),np.random.randn(7)\n",
    "val1, val2 = eval_classifier(w,b,x), evaluate_classifier(w,b,x)\n",
    "assert val1 == val2"
   ]
  },
  {
   "cell_type": "markdown",
   "metadata": {
    "hidden": true
   },
   "source": [
    "Here is the multiclass Perceptron training procedure. It is invoked as follows:\n",
    "\n",
    "```python \n",
    "w,b,converged = train_multiclass_perceptron(x,y,k,n_iters)\n",
    "```\n",
    "\n",
    "where,\n",
    "* `x`: n-by-d numpy array with n data points, each d-dimensional\n",
    "* `y`: n-dimensional numpy array with the labels (in the range `0` to `k-1`)\n",
    "* `k`: the number of classes\n",
    "* `n_iters`: the training procedure will run through the data at most this many times (default: 100)\n",
    "* `w,b`: parameters for the final linear classifier, as above\n",
    "* `converged`: flag (True/False) indicating whether the algorithm converged within the prescribed number of iterations\n",
    "\n",
    "If the data is not linearly separable, then the training procedure will not converge."
   ]
  },
  {
   "cell_type": "code",
   "execution_count": null,
   "metadata": {
    "hidden": true
   },
   "outputs": [],
   "source": [
    "def train_multiclass_perceptron(x: np.ndarray, y, k: int, n_iters=100):\n",
    "    n, d = x.shape\n",
    "    w = np.zeros((k, d))\n",
    "    b = np.zeros(k)\n",
    "    done = False\n",
    "    converged = True\n",
    "    iters = 0\n",
    "    np.random.seed(None)\n",
    "    while not(done):\n",
    "        done = True\n",
    "        I = np.random.permutation(n)\n",
    "        for j in I:\n",
    "            pred_y = evaluate_classifier(w, b, x[j, :])\n",
    "            true_y = int(y[j])\n",
    "            if pred_y != true_y:\n",
    "                \n",
    "                w[true_y, :] = w[true_y, :] + x[j, :]\n",
    "                b[true_y] = b[true_y] + 1.0\n",
    "                \n",
    "                w[pred_y,:] = w[pred_y, :] - x[j, :]\n",
    "                b[pred_y] = b[pred_y] - 1.0\n",
    "                \n",
    "                done = False\n",
    "        \n",
    "        iters = iters + 1\n",
    "        if iters > n_iters: done, converged = True, False\n",
    "        \n",
    "    if converged:\n",
    "        print(\"Perceptron algorithm: iterations until convergence: \", iters)\n",
    "    else:\n",
    "        print(\"Perceptron algorithm: did not converge within the specified number of iterations\")\n",
    "    return w, b, converged"
   ]
  },
  {
   "cell_type": "markdown",
   "metadata": {
    "heading_collapsed": true,
    "hidden": true
   },
   "source": [
    "##### Experiments with multiclass Perceptron"
   ]
  },
  {
   "cell_type": "markdown",
   "metadata": {
    "hidden": true
   },
   "source": [
    "This next routine takes as input a two-dimensional data set as well as a classifier. It plots the points, with different colors for different labels, and shows the decision boundaries of the classifier. It is invoked as follows:\n",
    "* `display_data_and_boundary(x,y,pred_fn)`\n",
    "\n",
    "where\n",
    "* `x` and `y` are the two-dimensional data and their labels (in the range `0,...,k-1`)\n",
    "* `pred_fn` is the classifier: it is a function that takes a data point and returns a label"
   ]
  },
  {
   "cell_type": "code",
   "execution_count": null,
   "metadata": {
    "code_folding": [
     0
    ],
    "hidden": true
   },
   "outputs": [],
   "source": [
    "def display_data_and_boundary(x, y, pred_fn):\n",
    "    # Determine the x1- and x2- limits of the plot\n",
    "    x1min, x1max = min(x[:,0]) - 1, max(x[:,0]) + 1\n",
    "    x2min, x2max = min(x[:,1]) - 1, max(x[:,1]) + 1\n",
    "    plt.xlim(x1min,x1max); plt.ylim(x2min,x2max)\n",
    "\n",
    "    # Plot the data points\n",
    "    k = int(max(y)) + 1\n",
    "    cols = ['ro', 'k^', 'b*','gx']\n",
    "    for label in range(k):\n",
    "        plt.plot(x[(y==label),0], x[(y==label),1], cols[label%4], markersize=8)\n",
    "    \n",
    "    # Construct a grid of points at which to evaluate the classifier\n",
    "    grid_spacing = 0.05\n",
    "    xx1, xx2 = np.meshgrid(np.arange(x1min, x1max, grid_spacing), np.arange(x2min, x2max, grid_spacing))\n",
    "    grid = np.c_[xx1.ravel(), xx2.ravel()]\n",
    "    Z = np.array([pred_fn(pt) for pt in grid])\n",
    "    \n",
    "    # Show the classifier's boundary using a color plot\n",
    "    Z = Z.reshape(xx1.shape)\n",
    "    plt.pcolormesh(xx1, xx2, Z, cmap=plt.cm.Pastel1, vmin=0, vmax=k)\n",
    "    plt.show()"
   ]
  },
  {
   "cell_type": "markdown",
   "metadata": {
    "hidden": true
   },
   "source": [
    "The following procedure, **run_multiclass_perceptron**, loads a labeled two-dimensional data set, learns a linear classifier using the Perceptron algorithm, and then displays the data as well as the boundary.\n",
    "\n",
    "The data file is assumed to contain one data point per line, along with a label, like:\n",
    "* `3 8 2` (meaning that point `x=(3,8)` has label `y=2`)"
   ]
  },
  {
   "cell_type": "code",
   "execution_count": null,
   "metadata": {
    "code_folding": [
     0
    ],
    "hidden": true
   },
   "outputs": [],
   "source": [
    "def run_multiclass_perceptron(datafile):\n",
    "    data = np.loadtxt(datafile)\n",
    "    n,d = data.shape\n",
    "    # Create training set x and labels y\n",
    "    x = data[:,0:2]\n",
    "    y = data[:,2]\n",
    "    k = int(max(y)) + 1\n",
    "    print(\"Number of classes: \", k)\n",
    "    # Run the Perceptron algorithm for at most 1000 iterations\n",
    "    w,b,converged = train_multiclass_perceptron(x,y,k,1000)\n",
    "    # Show the data and boundary\n",
    "    pred_fn = lambda p: evaluate_classifier(w,b,p)\n",
    "    display_data_and_boundary(x, y, pred_fn)"
   ]
  },
  {
   "cell_type": "markdown",
   "metadata": {
    "hidden": true
   },
   "source": [
    "Let's try this out on two simple data sets. Make sure that the directory containing this notebook also contains the two-dimensional data files `data_3.txt` and `data_4.txt`. You should run these next two cells a few times to get a sense of the variability of the outcome."
   ]
  },
  {
   "cell_type": "code",
   "execution_count": null,
   "metadata": {
    "hidden": true
   },
   "outputs": [],
   "source": [
    "run_multiclass_perceptron(PATH+'data_3.txt')"
   ]
  },
  {
   "cell_type": "code",
   "execution_count": null,
   "metadata": {
    "hidden": true
   },
   "outputs": [],
   "source": [
    "run_multiclass_perceptron(PATH+'data_4.txt')"
   ]
  },
  {
   "cell_type": "code",
   "execution_count": null,
   "metadata": {
    "hidden": true
   },
   "outputs": [],
   "source": []
  },
  {
   "cell_type": "markdown",
   "metadata": {
    "heading_collapsed": true
   },
   "source": [
    "### Clustering"
   ]
  },
  {
   "cell_type": "markdown",
   "metadata": {
    "heading_collapsed": true,
    "hidden": true
   },
   "source": [
    "#### [K-Means](https://scikit-learn.org/0.15/modules/generated/sklearn.cluster.KMeans.html#sklearn.cluster.KMeans.get_params):"
   ]
  },
  {
   "cell_type": "markdown",
   "metadata": {
    "hidden": true
   },
   "source": [
    "```python\n",
    "class sklearn.cluster.KMeans(n_clusters=8, init='k-means++', n_init=10, max_iter=300, tol=0.0001, precompute_distances=True, random_state=None, copy_x=True, n_jobs=1)\n",
    "```\n",
    "\n",
    "|Attributes|Methods|\n",
    "|----------|-------|\n",
    "|cluster_centers_|fit(X[, y])|\n",
    "|labels_|fit_predict(X)|\n",
    "|inertia_|fit_transform(X[, y])|\n",
    "||get_params([deep])|\n",
    "||predict(X) |\n",
    "||score(X)|\n",
    "||set_params(**params)|\n",
    "||transform(X[, y])|"
   ]
  },
  {
   "cell_type": "code",
   "execution_count": null,
   "metadata": {
    "colab": {},
    "colab_type": "code",
    "hidden": true,
    "id": "ZLiRKZZpW-0E"
   },
   "outputs": [],
   "source": [
    "# import packages\n",
    "from sklearn.cluster import KMeans\n",
    "from sklearn import datasets\n",
    "from sklearn.model_selection import train_test_split"
   ]
  },
  {
   "cell_type": "code",
   "execution_count": null,
   "metadata": {
    "colab": {},
    "colab_type": "code",
    "hidden": true,
    "id": "2Jxq-mBiY44X"
   },
   "outputs": [],
   "source": [
    "# load dataset\n",
    "data = datasets.load_iris()"
   ]
  },
  {
   "cell_type": "code",
   "execution_count": null,
   "metadata": {
    "colab": {},
    "colab_type": "code",
    "hidden": true,
    "id": "tIYvJE2pZJBk"
   },
   "outputs": [],
   "source": [
    "# separate features and target\n",
    "X = data.data"
   ]
  },
  {
   "cell_type": "code",
   "execution_count": null,
   "metadata": {
    "colab": {},
    "colab_type": "code",
    "hidden": true,
    "id": "uPrLXFiyZL8k"
   },
   "outputs": [],
   "source": [
    "# create the model. Since we know that the iris dataset has 3 classes, we set n_clusters = 3\n",
    "kmeans = KMeans(n_clusters=3, random_state=0)"
   ]
  },
  {
   "cell_type": "code",
   "execution_count": null,
   "metadata": {
    "colab": {
     "base_uri": "https://localhost:8080/",
     "height": 68
    },
    "colab_type": "code",
    "hidden": true,
    "id": "7ofrl-KOZNGF",
    "outputId": "4c6b0c3f-3c1a-4edc-ac88-43a99a3964bf"
   },
   "outputs": [
    {
     "data": {
      "text/plain": [
       "KMeans(algorithm='auto', copy_x=True, init='k-means++', max_iter=300,\n",
       "       n_clusters=3, n_init=10, n_jobs=None, precompute_distances='auto',\n",
       "       random_state=0, tol=0.0001, verbose=0)"
      ]
     },
     "execution_count": 55,
     "metadata": {
      "tags": []
     },
     "output_type": "execute_result"
    }
   ],
   "source": [
    "# fit the model on the training set\n",
    "kmeans.fit(X)"
   ]
  },
  {
   "cell_type": "code",
   "execution_count": null,
   "metadata": {
    "colab": {
     "base_uri": "https://localhost:8080/",
     "height": 136
    },
    "colab_type": "code",
    "hidden": true,
    "id": "s4Q2PWQfZPF9",
    "outputId": "8d1b9f77-493a-4059-9aa1-5e33b7fa10c1"
   },
   "outputs": [
    {
     "data": {
      "text/plain": [
       "array([1, 1, 1, 1, 1, 1, 1, 1, 1, 1, 1, 1, 1, 1, 1, 1, 1, 1, 1, 1, 1, 1,\n",
       "       1, 1, 1, 1, 1, 1, 1, 1, 1, 1, 1, 1, 1, 1, 1, 1, 1, 1, 1, 1, 1, 1,\n",
       "       1, 1, 1, 1, 1, 1, 0, 0, 2, 0, 0, 0, 0, 0, 0, 0, 0, 0, 0, 0, 0, 0,\n",
       "       0, 0, 0, 0, 0, 0, 0, 0, 0, 0, 0, 2, 0, 0, 0, 0, 0, 0, 0, 0, 0, 0,\n",
       "       0, 0, 0, 0, 0, 0, 0, 0, 0, 0, 0, 0, 2, 0, 2, 2, 2, 2, 0, 2, 2, 2,\n",
       "       2, 2, 2, 0, 0, 2, 2, 2, 2, 0, 2, 0, 2, 0, 2, 2, 0, 0, 2, 2, 2, 2,\n",
       "       2, 0, 2, 2, 2, 2, 0, 2, 2, 2, 0, 2, 2, 2, 0, 2, 2, 0], dtype=int32)"
      ]
     },
     "execution_count": 56,
     "metadata": {
      "tags": []
     },
     "output_type": "execute_result"
    }
   ],
   "source": [
    "# print the clustered labels for the training points\n",
    "kmeans.labels_"
   ]
  },
  {
   "cell_type": "code",
   "execution_count": null,
   "metadata": {
    "colab": {},
    "colab_type": "code",
    "hidden": true,
    "id": "wxNMGYLzgB2z"
   },
   "outputs": [],
   "source": [
    "# predict the closest cluster each sample in X belongs to.\n",
    "y_kmeans = kmeans.predict(X)"
   ]
  },
  {
   "cell_type": "code",
   "execution_count": null,
   "metadata": {
    "colab": {
     "base_uri": "https://localhost:8080/",
     "height": 269
    },
    "colab_type": "code",
    "hidden": true,
    "id": "8YhS5JJSdBUW",
    "outputId": "36f2292a-e00d-4c14-afb6-e540b117ab7b"
   },
   "outputs": [
    {
     "data": {
      "image/png": "[encoded data removed]",
      "text/plain": [
       "<Figure size 432x288 with 1 Axes>"
      ]
     },
     "metadata": {
      "tags": []
     },
     "output_type": "display_data"
    }
   ],
   "source": [
    "# plot clustered labels\n",
    "plt.scatter(X[:, 0], X[:, 1], c=y_kmeans, cmap='viridis')\n",
    "\n",
    "# plot cluster centers\n",
    "centers = kmeans.cluster_centers_\n",
    "plt.scatter(centers[:, 0], centers[:, 1], c='black', s=200, alpha=0.7);\n",
    "plt.show()"
   ]
  },
  {
   "cell_type": "markdown",
   "metadata": {
    "colab_type": "text",
    "heading_collapsed": true,
    "hidden": true,
    "id": "QxqY3QIvZTLU"
   },
   "source": [
    "#### Hierarchical Clustering"
   ]
  },
  {
   "cell_type": "code",
   "execution_count": null,
   "metadata": {
    "colab": {},
    "colab_type": "code",
    "hidden": true,
    "id": "aYLvX1_yZVaG"
   },
   "outputs": [],
   "source": [
    "# import packages\n",
    "from scipy.cluster.hierarchy import dendrogram\n",
    "from scipy.cluster import hierarchy"
   ]
  },
  {
   "cell_type": "code",
   "execution_count": null,
   "metadata": {
    "colab": {},
    "colab_type": "code",
    "hidden": true,
    "id": "AAb1ytKQt4Wu"
   },
   "outputs": [],
   "source": [
    "Z = hierarchy.linkage(X, method='complete')"
   ]
  },
  {
   "cell_type": "code",
   "execution_count": null,
   "metadata": {
    "colab": {
     "base_uri": "https://localhost:8080/",
     "height": 280
    },
    "colab_type": "code",
    "hidden": true,
    "id": "vQX8Lbuzua9a",
    "outputId": "1a9416c3-9047-4501-e561-6477c82c1302"
   },
   "outputs": [
    {
     "data": {
      "image/png": "[encoded data removed]",
      "text/plain": [
       "<Figure size 432x288 with 1 Axes>"
      ]
     },
     "metadata": {
      "tags": []
     },
     "output_type": "display_data"
    }
   ],
   "source": [
    "fig = plt.figure()\n",
    "dn = hierarchy.dendrogram(Z, truncate_mode='lastp')\n",
    "plt.show()"
   ]
  },
  {
   "cell_type": "code",
   "execution_count": null,
   "metadata": {
    "hidden": true
   },
   "outputs": [],
   "source": []
  },
  {
   "cell_type": "code",
   "execution_count": null,
   "metadata": {
    "hidden": true
   },
   "outputs": [],
   "source": []
  },
  {
   "cell_type": "code",
   "execution_count": null,
   "metadata": {
    "hidden": true
   },
   "outputs": [],
   "source": []
  },
  {
   "cell_type": "code",
   "execution_count": null,
   "metadata": {
    "hidden": true
   },
   "outputs": [],
   "source": []
  },
  {
   "cell_type": "markdown",
   "metadata": {},
   "source": [
    "## Loss Functions:"
   ]
  },
  {
   "cell_type": "markdown",
   "metadata": {},
   "source": [
    "- [Collection of Loss Functions](https://www.machinecurve.com/index.php/2019/10/04/about-loss-and-loss-functions/)"
   ]
  },
  {
   "cell_type": "markdown",
   "metadata": {
    "heading_collapsed": true
   },
   "source": [
    "#### `Negative Log Likelyhood (NLL)`:"
   ]
  },
  {
   "cell_type": "code",
   "execution_count": null,
   "metadata": {
    "hidden": true
   },
   "outputs": [],
   "source": []
  },
  {
   "cell_type": "code",
   "execution_count": 5,
   "metadata": {
    "hidden": true
   },
   "outputs": [],
   "source": [
    "def softmax(x): return (x.exp()/(x.exp().sum(-1, keepdim=True)))"
   ]
  },
  {
   "cell_type": "code",
   "execution_count": 6,
   "metadata": {
    "hidden": true,
    "scrolled": true
   },
   "outputs": [
    {
     "data": {
      "text/plain": [
       "tensor([[-24.5198, -40.3251, -10.6257,   3.2256],\n",
       "        [ 25.0067,   6.4096,   3.9762,   5.7944],\n",
       "        [ -1.3002, -21.8870,  -2.8411,   7.4455],\n",
       "        [ 30.7034,  12.0852,   7.9834,   8.9524],\n",
       "        [ -4.8147,   1.2925,  -0.3343,  -1.8650],\n",
       "        [-11.4197, -11.3090,  -4.6375,  -1.9637]])"
      ]
     },
     "execution_count": 6,
     "metadata": {},
     "output_type": "execute_result"
    }
   ],
   "source": [
    "torch.random.manual_seed(42);\n",
    "X = torch.randn((6,3))*10\n",
    "W = torch.randn(3, 4)\n",
    "Z = X@W\n",
    "Z"
   ]
  },
  {
   "cell_type": "code",
   "execution_count": 7,
   "metadata": {
    "hidden": true
   },
   "outputs": [
    {
     "data": {
      "text/plain": [
       "tensor([[8.9197e-13, 1.2195e-19, 9.6485e-07, 1.0000e+00],\n",
       "        [1.0000e+00, 8.3828e-09, 7.3550e-10, 4.5313e-09],\n",
       "        [1.5911e-04, 1.8237e-13, 3.4081e-05, 9.9981e-01],\n",
       "        [1.0000e+00, 8.2078e-09, 1.3579e-10, 3.5783e-10],\n",
       "        [1.7940e-03, 8.0559e-01, 1.5835e-01, 3.4266e-02],\n",
       "        [7.3160e-05, 8.1722e-05, 6.4525e-02, 9.3532e-01]])"
      ]
     },
     "execution_count": 7,
     "metadata": {},
     "output_type": "execute_result"
    }
   ],
   "source": [
    "acts = Z.exp()/Z.exp().sum(-1, keepdim=True); acts"
   ]
  },
  {
   "cell_type": "code",
   "execution_count": 8,
   "metadata": {
    "hidden": true
   },
   "outputs": [
    {
     "data": {
      "text/plain": [
       "tensor([1.0000, 1.0000, 1.0000, 1.0000, 1.0000, 1.0000])"
      ]
     },
     "execution_count": 8,
     "metadata": {},
     "output_type": "execute_result"
    }
   ],
   "source": [
    "acts.sum(1)"
   ]
  },
  {
   "cell_type": "code",
   "execution_count": 9,
   "metadata": {
    "hidden": true
   },
   "outputs": [
    {
     "data": {
      "text/plain": [
       "tensor([[8.9197e-13, 1.2195e-19, 9.6485e-07, 1.0000e+00],\n",
       "        [1.0000e+00, 8.3828e-09, 7.3549e-10, 4.5313e-09],\n",
       "        [1.5911e-04, 1.8237e-13, 3.4081e-05, 9.9981e-01],\n",
       "        [1.0000e+00, 8.2078e-09, 1.3579e-10, 3.5783e-10],\n",
       "        [1.7940e-03, 8.0559e-01, 1.5835e-01, 3.4266e-02],\n",
       "        [7.3160e-05, 8.1722e-05, 6.4525e-02, 9.3532e-01]])"
      ]
     },
     "execution_count": 9,
     "metadata": {},
     "output_type": "execute_result"
    }
   ],
   "source": [
    "sm_acts = torch.softmax(Z, dim=1); sm_acts"
   ]
  },
  {
   "cell_type": "code",
   "execution_count": 10,
   "metadata": {
    "hidden": true
   },
   "outputs": [
    {
     "data": {
      "text/plain": [
       "tensor([[8.9197e-13, 1.2195e-19, 9.6485e-07, 1.0000e+00],\n",
       "        [1.0000e+00, 8.3828e-09, 7.3549e-10, 4.5313e-09],\n",
       "        [1.5911e-04, 1.8237e-13, 3.4081e-05, 9.9981e-01],\n",
       "        [1.0000e+00, 8.2078e-09, 1.3579e-10, 3.5783e-10],\n",
       "        [1.7940e-03, 8.0559e-01, 1.5835e-01, 3.4266e-02],\n",
       "        [7.3160e-05, 8.1722e-05, 6.4525e-02, 9.3532e-01]])"
      ]
     },
     "execution_count": 10,
     "metadata": {},
     "output_type": "execute_result"
    }
   ],
   "source": [
    "targ = torch.tensor([3,1,0,2,2,0])\n",
    "sm_acts"
   ]
  },
  {
   "cell_type": "code",
   "execution_count": 12,
   "metadata": {
    "hidden": true
   },
   "outputs": [
    {
     "data": {
      "text/plain": [
       "tensor([[8.9197e-13, 1.2195e-19, 9.6485e-07, 1.0000e+00],\n",
       "        [1.0000e+00, 8.3828e-09, 7.3550e-10, 4.5313e-09],\n",
       "        [1.5911e-04, 1.8237e-13, 3.4081e-05, 9.9981e-01],\n",
       "        [1.0000e+00, 8.2078e-09, 1.3579e-10, 3.5783e-10],\n",
       "        [1.7940e-03, 8.0559e-01, 1.5835e-01, 3.4266e-02],\n",
       "        [7.3160e-05, 8.1722e-05, 6.4525e-02, 9.3532e-01]])"
      ]
     },
     "execution_count": 12,
     "metadata": {},
     "output_type": "execute_result"
    }
   ],
   "source": [
    "softmax(Z)"
   ]
  },
  {
   "cell_type": "code",
   "execution_count": 13,
   "metadata": {
    "hidden": true
   },
   "outputs": [
    {
     "data": {
      "text/plain": [
       "tensor([1.0000e+00, 8.3828e-09, 1.5911e-04, 1.3579e-10, 1.5835e-01, 7.3160e-05])"
      ]
     },
     "execution_count": 13,
     "metadata": {},
     "output_type": "execute_result"
    }
   ],
   "source": [
    "idx = range(6)\n",
    "sm_acts[idx, targ]"
   ]
  },
  {
   "cell_type": "code",
   "execution_count": 14,
   "metadata": {
    "hidden": true
   },
   "outputs": [
    {
     "data": {
      "text/plain": [
       "tensor([-1.0000e+00, -8.3828e-09, -1.5911e-04, -1.3579e-10, -1.5835e-01,\n",
       "        -7.3160e-05])"
      ]
     },
     "execution_count": 14,
     "metadata": {},
     "output_type": "execute_result"
    }
   ],
   "source": [
    "-sm_acts[idx, targ]"
   ]
  },
  {
   "cell_type": "code",
   "execution_count": 15,
   "metadata": {
    "hidden": true
   },
   "outputs": [
    {
     "data": {
      "text/plain": [
       "tensor([-1.0000e+00, -8.3828e-09, -1.5911e-04, -1.3579e-10, -1.5835e-01,\n",
       "        -7.3160e-05])"
      ]
     },
     "execution_count": 15,
     "metadata": {},
     "output_type": "execute_result"
    }
   ],
   "source": [
    "F.nll_loss(sm_acts, targ, reduction='none')"
   ]
  },
  {
   "cell_type": "code",
   "execution_count": 16,
   "metadata": {
    "hidden": true
   },
   "outputs": [
    {
     "data": {
      "text/plain": [
       "tensor(True)"
      ]
     },
     "execution_count": 16,
     "metadata": {},
     "output_type": "execute_result"
    }
   ],
   "source": [
    "F.nll_loss(sm_acts, targ) == F.nll_loss(sm_acts, targ, reduction='none').mean()"
   ]
  },
  {
   "cell_type": "code",
   "execution_count": 17,
   "metadata": {
    "hidden": true
   },
   "outputs": [
    {
     "data": {
      "text/plain": [
       "tensor(-0.1931)"
      ]
     },
     "execution_count": 17,
     "metadata": {},
     "output_type": "execute_result"
    }
   ],
   "source": [
    "F.nll_loss(sm_acts, targ)"
   ]
  },
  {
   "cell_type": "code",
   "execution_count": 18,
   "metadata": {
    "hidden": true
   },
   "outputs": [],
   "source": [
    "def nll(sm_out, target): return -sm_out[range(target.shape[0]), target].mean()"
   ]
  },
  {
   "cell_type": "code",
   "execution_count": 19,
   "metadata": {
    "hidden": true
   },
   "outputs": [
    {
     "data": {
      "text/plain": [
       "tensor(-0.1931)"
      ]
     },
     "execution_count": 19,
     "metadata": {},
     "output_type": "execute_result"
    }
   ],
   "source": [
    "nll(sm_acts, targ)"
   ]
  },
  {
   "cell_type": "markdown",
   "metadata": {
    "heading_collapsed": true
   },
   "source": [
    "#### `Cross-Entropy`"
   ]
  },
  {
   "cell_type": "markdown",
   "metadata": {
    "hidden": true
   },
   "source": [
    "* Log loss is usually used when there are just two possible outcomes that can be either 0 or 1. \n",
    "\n",
    "* Cross entropy is usually used when there are three or more possible outcomes. \n",
    "\n",
    "* Cross entropy is the negative sum of the products of the logs of the predicted probabilities times the actual probabilities"
   ]
  },
  {
   "cell_type": "markdown",
   "metadata": {
    "hidden": true
   },
   "source": [
    "- $ \\large P(x^i, \\theta) = \\frac{e^{\\theta \\cdot x^i}}{\\sum\\limits^{k}_{j=1} e^{\\theta^{j} \\cdot x^i}}$\n",
    "    - $ k \\rightarrow \\text{number of Classes}, y^j \\in \\{ 0, 1, ..., k-1 \\} $\n",
    "    - $ \\theta \\rightarrow \\text{(k x d) matrix}, \\text{where d is number of features} $\n",
    "    - $ \\theta^j \\rightarrow j^{th} \\text{ row of } \\theta $\n",
    "    - $ \\text{let } p_{y_j} = p_k = p_{k}(x^i, \\theta) \\text{, k-th element of vector, p}$\n",
    "    - $ p_{k} \\rightarrow \\mathbb{P}(y^j = (k-1) | x^i; \\theta) $\n",
    "    \n",
    "\n",
    "\n",
    "- $ J(\\theta) = - \\frac{1}{m} \\cdot \\sum\\limits^{m}_{i=1} log(p_{y_j}) $\n",
    "\n",
    "\n",
    "* `0.00  <<<=== Better Accuracy of Cross Entropy<<<=== 1.00`"
   ]
  },
  {
   "cell_type": "code",
   "execution_count": 15,
   "metadata": {
    "hidden": true
   },
   "outputs": [
    {
     "name": "stderr",
     "output_type": "stream",
     "text": [
      "<ipython-input-3-23f717d23e3a>:2: UserWarning: Not providing a value for linspace's steps is deprecated and will throw a runtime error in a future release. This warning will appear only once per process. (Triggered internally at  /Users/distiller/project/conda/conda-bld/pytorch_1616554845587/work/aten/src/ATen/native/RangeFactories.cpp:23.)\n",
      "  x = torch.linspace(min,max)\n"
     ]
    },
    {
     "data": {
      "image/png": "[encoded data removed]",
      "text/plain": [
       "<Figure size 432x288 with 1 Axes>"
      ]
     },
     "metadata": {},
     "output_type": "display_data"
    }
   ],
   "source": [
    "plot_function(torch.log, tx='x', ty='$log(x)$', min=0,max=16)"
   ]
  },
  {
   "cell_type": "code",
   "execution_count": 16,
   "metadata": {
    "hidden": true
   },
   "outputs": [],
   "source": [
    "def log_softmax(x): return (x.exp()/(x.exp().sum(-1, keepdim=True))).log()"
   ]
  },
  {
   "cell_type": "code",
   "execution_count": 22,
   "metadata": {
    "hidden": true
   },
   "outputs": [],
   "source": [
    "def cross_entropy(xb, yb): return nll(log_softmax(xb), yb).mean()"
   ]
  },
  {
   "cell_type": "code",
   "execution_count": 23,
   "metadata": {
    "hidden": true
   },
   "outputs": [
    {
     "data": {
      "text/plain": [
       "tensor([[-0.5959, -0.8009],\n",
       "        [-0.6911, -0.6952],\n",
       "        [-1.1258, -0.3922],\n",
       "        [-0.3151, -1.3084],\n",
       "        [-0.6018, -0.7937],\n",
       "        [-0.8360, -0.5682]])"
      ]
     },
     "execution_count": 23,
     "metadata": {},
     "output_type": "execute_result"
    }
   ],
   "source": [
    "log_softmax(sm_acts)"
   ]
  },
  {
   "cell_type": "code",
   "execution_count": 24,
   "metadata": {
    "hidden": true
   },
   "outputs": [
    {
     "data": {
      "text/plain": [
       "tensor(0.8925)"
      ]
     },
     "execution_count": 24,
     "metadata": {},
     "output_type": "execute_result"
    }
   ],
   "source": [
    "cross_entropy(sm_acts,targ)"
   ]
  },
  {
   "cell_type": "code",
   "execution_count": 20,
   "metadata": {
    "hidden": true
   },
   "outputs": [],
   "source": [
    "loss_func = nn.CrossEntropyLoss()"
   ]
  },
  {
   "cell_type": "code",
   "execution_count": 21,
   "metadata": {
    "hidden": true
   },
   "outputs": [
    {
     "data": {
      "text/plain": [
       "tensor(1.8045)"
      ]
     },
     "execution_count": 21,
     "metadata": {},
     "output_type": "execute_result"
    }
   ],
   "source": [
    "loss_func(acts, targ)"
   ]
  },
  {
   "cell_type": "code",
   "execution_count": null,
   "metadata": {
    "hidden": true
   },
   "outputs": [],
   "source": [
    "F.cross_entropy(acts, targ)"
   ]
  },
  {
   "cell_type": "code",
   "execution_count": null,
   "metadata": {
    "hidden": true
   },
   "outputs": [],
   "source": [
    "nn.CrossEntropyLoss(reduction='none')(acts, targ)"
   ]
  },
  {
   "cell_type": "code",
   "execution_count": null,
   "metadata": {
    "hidden": true
   },
   "outputs": [],
   "source": []
  },
  {
   "cell_type": "code",
   "execution_count": null,
   "metadata": {
    "hidden": true
   },
   "outputs": [],
   "source": []
  },
  {
   "cell_type": "markdown",
   "metadata": {
    "heading_collapsed": true
   },
   "source": [
    "#### `Log Loss` (a.k.a. `Binary Cross Entropy`):"
   ]
  },
  {
   "cell_type": "code",
   "execution_count": null,
   "metadata": {
    "hidden": true
   },
   "outputs": [],
   "source": [
    "def binary_cross_entropy(sg_acts, y):\n",
    "    out = -torch.mean(y*torch.log(sg_acts) + (1-y)*torch.log(1-sg_acts))\n",
    "    return out"
   ]
  },
  {
   "cell_type": "code",
   "execution_count": null,
   "metadata": {
    "hidden": true
   },
   "outputs": [],
   "source": [
    "def bin_cross_entropy(sg_acts, yb):\n",
    "    return -torch.where(yb==1, sg_acts, 1-sg_acts).log().mean()"
   ]
  },
  {
   "cell_type": "code",
   "execution_count": null,
   "metadata": {
    "hidden": true
   },
   "outputs": [],
   "source": [
    "torch.manual_seed(0)\n",
    "z = torch.randn((6,1))*2; z"
   ]
  },
  {
   "cell_type": "code",
   "execution_count": null,
   "metadata": {
    "hidden": true
   },
   "outputs": [],
   "source": [
    "sg_acts = z.sigmoid(); sg_acts"
   ]
  },
  {
   "cell_type": "code",
   "execution_count": null,
   "metadata": {
    "hidden": true
   },
   "outputs": [],
   "source": [
    "sm_bin_ = 1-sg_acts; sm_bin_"
   ]
  },
  {
   "cell_type": "code",
   "execution_count": null,
   "metadata": {
    "hidden": true
   },
   "outputs": [],
   "source": [
    "sm_bin = torch.hstack([sg_acts,sm_bin_]); sm_bin"
   ]
  },
  {
   "cell_type": "code",
   "execution_count": null,
   "metadata": {
    "hidden": true
   },
   "outputs": [],
   "source": [
    "binary_cross_entropy(sg_acts, targ)"
   ]
  },
  {
   "cell_type": "code",
   "execution_count": null,
   "metadata": {
    "hidden": true
   },
   "outputs": [],
   "source": [
    "bin_cross_entropy(sg_acts, targ)"
   ]
  },
  {
   "cell_type": "code",
   "execution_count": null,
   "metadata": {
    "hidden": true
   },
   "outputs": [],
   "source": [
    "cross_entropy(sm_bin, targ)"
   ]
  },
  {
   "cell_type": "code",
   "execution_count": null,
   "metadata": {
    "hidden": true
   },
   "outputs": [],
   "source": []
  },
  {
   "cell_type": "markdown",
   "metadata": {
    "heading_collapsed": true
   },
   "source": [
    "#### `Hinge Loss`:"
   ]
  },
  {
   "cell_type": "code",
   "execution_count": 31,
   "metadata": {
    "hidden": true
   },
   "outputs": [
    {
     "data": {
      "image/png": "[encoded data removed]",
      "text/plain": [
       "<Figure size 720x504 with 1 Axes>"
      ]
     },
     "metadata": {},
     "output_type": "display_data"
    }
   ],
   "source": [
    "t = np.linspace(-3, 2.5, 200)\n",
    "h = np.where(1-t < 0, 0, 1-t)  # max(0, 1-t)\n",
    "squard_h = h**2\n",
    "\n",
    "plt.figure(figsize=(10,7))\n",
    "plt.plot(t, h, \"b-\", linewidth=2, label=\"$max(0, 1 - t)$\")\n",
    "plt.plot(t, squard_h, \"r-\", linewidth=2, label=\"$[max(0, 1 - t)]^2$\")\n",
    "plt.axhline(y=0, color='k')\n",
    "plt.axvline(x=0, color='k')\n",
    "plt.xticks(np.arange(-3, 2.5, 0.5))\n",
    "plt.xlabel(\"$t$\", fontsize=16)\n",
    "plt.ylabel(\"$LOSS$\", fontsize=16)\n",
    "# plt.axis([-2, 4, -1, 2.5])\n",
    "plt.legend(loc=\"upper right\", fontsize=16)\n",
    "plt.show()"
   ]
  },
  {
   "cell_type": "markdown",
   "metadata": {},
   "source": [
    "#### `Squard Hinge Loss`:"
   ]
  },
  {
   "cell_type": "markdown",
   "metadata": {},
   "source": [
    "The squared hinge loss is like the hinge formula displayed above, but then the $L(\\mathbf{w}, b)$ function output is squared."
   ]
  },
  {
   "cell_type": "code",
   "execution_count": null,
   "metadata": {},
   "outputs": [],
   "source": []
  },
  {
   "cell_type": "markdown",
   "metadata": {
    "heading_collapsed": true
   },
   "source": [
    "#### `Entropy`:"
   ]
  },
  {
   "cell_type": "markdown",
   "metadata": {
    "hidden": true
   },
   "source": [
    "- [StatQuest: Entropy (for data science) Clearly Explained](https://www.youtube.com/watch?v=YtebGVx-Fxw&t=510s)"
   ]
  },
  {
   "cell_type": "markdown",
   "metadata": {
    "hidden": true
   },
   "source": [
    "\\begin{split}\n",
    "Entropy &= \\sum\\limits_{i \\in |x|} P(x_i) \\cdot log_2\\left( \\frac{1}{P(x_i)} \\right) \\\\\n",
    "&= \\sum\\limits_{i \\in |x|} P(x_i) \\cdot [ log_2(1) - log_2(P(x_i))] \\\\\n",
    "&= - \\sum\\limits_{i \\in |x|} P(x_i) \\cdot log_2(P(x_i))\n",
    "\\end{split}\n",
    "\n",
    "where, $log_2\\left( \\frac{1}{P(x_i)} \\right)$ is called surprising factor, high probability means low surprising it is that $x_i$ gets picked up randomly. Therefore, Entropy is weighted average of how surprising it is that $x_i$ gets picked up randomly."
   ]
  },
  {
   "cell_type": "markdown",
   "metadata": {
    "hidden": true
   },
   "source": [
    "$$\n",
    "H_i = -\\sum\\limits_{k=1 \\atop p_{i,k} \\ne 0}^{n}{{p_{i,k}}\\log_2(p_{i,k})}\n",
    "$$"
   ]
  },
  {
   "cell_type": "code",
   "execution_count": 10,
   "metadata": {
    "hidden": true
   },
   "outputs": [],
   "source": [
    "PATH = '/Users/a.momin/Data/IBM/'"
   ]
  },
  {
   "cell_type": "code",
   "execution_count": 13,
   "metadata": {
    "hidden": true,
    "scrolled": true
   },
   "outputs": [
    {
     "data": {
      "text/html": [
       "<div>\n",
       "<style scoped>\n",
       "    .dataframe tbody tr th:only-of-type {\n",
       "        vertical-align: middle;\n",
       "    }\n",
       "\n",
       "    .dataframe tbody tr th {\n",
       "        vertical-align: top;\n",
       "    }\n",
       "\n",
       "    .dataframe thead th {\n",
       "        text-align: right;\n",
       "    }\n",
       "</style>\n",
       "<table border=\"1\" class=\"dataframe\">\n",
       "  <thead>\n",
       "    <tr style=\"text-align: right;\">\n",
       "      <th></th>\n",
       "      <th>Age</th>\n",
       "      <th>Sex</th>\n",
       "      <th>BP</th>\n",
       "      <th>Cholesterol</th>\n",
       "      <th>Na_to_K</th>\n",
       "      <th>Drug</th>\n",
       "    </tr>\n",
       "  </thead>\n",
       "  <tbody>\n",
       "    <tr>\n",
       "      <th>0</th>\n",
       "      <td>23</td>\n",
       "      <td>F</td>\n",
       "      <td>HIGH</td>\n",
       "      <td>HIGH</td>\n",
       "      <td>25.355</td>\n",
       "      <td>drugY</td>\n",
       "    </tr>\n",
       "    <tr>\n",
       "      <th>1</th>\n",
       "      <td>47</td>\n",
       "      <td>M</td>\n",
       "      <td>LOW</td>\n",
       "      <td>HIGH</td>\n",
       "      <td>13.093</td>\n",
       "      <td>drugC</td>\n",
       "    </tr>\n",
       "    <tr>\n",
       "      <th>2</th>\n",
       "      <td>47</td>\n",
       "      <td>M</td>\n",
       "      <td>LOW</td>\n",
       "      <td>HIGH</td>\n",
       "      <td>10.114</td>\n",
       "      <td>drugC</td>\n",
       "    </tr>\n",
       "    <tr>\n",
       "      <th>3</th>\n",
       "      <td>28</td>\n",
       "      <td>F</td>\n",
       "      <td>NORMAL</td>\n",
       "      <td>HIGH</td>\n",
       "      <td>7.798</td>\n",
       "      <td>drugX</td>\n",
       "    </tr>\n",
       "    <tr>\n",
       "      <th>4</th>\n",
       "      <td>61</td>\n",
       "      <td>F</td>\n",
       "      <td>LOW</td>\n",
       "      <td>HIGH</td>\n",
       "      <td>18.043</td>\n",
       "      <td>drugY</td>\n",
       "    </tr>\n",
       "    <tr>\n",
       "      <th>...</th>\n",
       "      <td>...</td>\n",
       "      <td>...</td>\n",
       "      <td>...</td>\n",
       "      <td>...</td>\n",
       "      <td>...</td>\n",
       "      <td>...</td>\n",
       "    </tr>\n",
       "    <tr>\n",
       "      <th>195</th>\n",
       "      <td>56</td>\n",
       "      <td>F</td>\n",
       "      <td>LOW</td>\n",
       "      <td>HIGH</td>\n",
       "      <td>11.567</td>\n",
       "      <td>drugC</td>\n",
       "    </tr>\n",
       "    <tr>\n",
       "      <th>196</th>\n",
       "      <td>16</td>\n",
       "      <td>M</td>\n",
       "      <td>LOW</td>\n",
       "      <td>HIGH</td>\n",
       "      <td>12.006</td>\n",
       "      <td>drugC</td>\n",
       "    </tr>\n",
       "    <tr>\n",
       "      <th>197</th>\n",
       "      <td>52</td>\n",
       "      <td>M</td>\n",
       "      <td>NORMAL</td>\n",
       "      <td>HIGH</td>\n",
       "      <td>9.894</td>\n",
       "      <td>drugX</td>\n",
       "    </tr>\n",
       "    <tr>\n",
       "      <th>198</th>\n",
       "      <td>23</td>\n",
       "      <td>M</td>\n",
       "      <td>NORMAL</td>\n",
       "      <td>NORMAL</td>\n",
       "      <td>14.020</td>\n",
       "      <td>drugX</td>\n",
       "    </tr>\n",
       "    <tr>\n",
       "      <th>199</th>\n",
       "      <td>40</td>\n",
       "      <td>F</td>\n",
       "      <td>LOW</td>\n",
       "      <td>NORMAL</td>\n",
       "      <td>11.349</td>\n",
       "      <td>drugX</td>\n",
       "    </tr>\n",
       "  </tbody>\n",
       "</table>\n",
       "<p>200 rows × 6 columns</p>\n",
       "</div>"
      ],
      "text/plain": [
       "     Age Sex      BP Cholesterol  Na_to_K   Drug\n",
       "0     23   F    HIGH        HIGH   25.355  drugY\n",
       "1     47   M     LOW        HIGH   13.093  drugC\n",
       "2     47   M     LOW        HIGH   10.114  drugC\n",
       "3     28   F  NORMAL        HIGH    7.798  drugX\n",
       "4     61   F     LOW        HIGH   18.043  drugY\n",
       "..   ...  ..     ...         ...      ...    ...\n",
       "195   56   F     LOW        HIGH   11.567  drugC\n",
       "196   16   M     LOW        HIGH   12.006  drugC\n",
       "197   52   M  NORMAL        HIGH    9.894  drugX\n",
       "198   23   M  NORMAL      NORMAL   14.020  drugX\n",
       "199   40   F     LOW      NORMAL   11.349  drugX\n",
       "\n",
       "[200 rows x 6 columns]"
      ]
     },
     "execution_count": 13,
     "metadata": {},
     "output_type": "execute_result"
    }
   ],
   "source": [
    "df = pd.read_csv(PATH+'drug200.csv'); df"
   ]
  },
  {
   "cell_type": "code",
   "execution_count": 15,
   "metadata": {
    "hidden": true
   },
   "outputs": [
    {
     "data": {
      "text/plain": [
       "Age              int64\n",
       "Sex             object\n",
       "BP              object\n",
       "Cholesterol     object\n",
       "Na_to_K        float64\n",
       "Drug            object\n",
       "dtype: object"
      ]
     },
     "execution_count": 15,
     "metadata": {},
     "output_type": "execute_result"
    }
   ],
   "source": [
    "df.dtypes"
   ]
  },
  {
   "cell_type": "code",
   "execution_count": 13,
   "metadata": {
    "hidden": true
   },
   "outputs": [
    {
     "data": {
      "text/plain": [
       "array([[23, 'F', 'HIGH', 'HIGH', 25.355],\n",
       "       [47, 'M', 'LOW', 'HIGH', 13.093],\n",
       "       [47, 'M', 'LOW', 'HIGH', 10.114],\n",
       "       [28, 'F', 'NORMAL', 'HIGH', 7.798],\n",
       "       [61, 'F', 'LOW', 'HIGH', 18.043]], dtype=object)"
      ]
     },
     "execution_count": 13,
     "metadata": {},
     "output_type": "execute_result"
    }
   ],
   "source": [
    "X = df[['Age', 'Sex', 'BP', 'Cholesterol', 'Na_to_K']].values\n",
    "X[0:5]"
   ]
  },
  {
   "cell_type": "code",
   "execution_count": 14,
   "metadata": {
    "hidden": true
   },
   "outputs": [
    {
     "data": {
      "text/plain": [
       "array([[23, 0, 0, 0, 25.355],\n",
       "       [47, 1, 1, 0, 13.093],\n",
       "       [47, 1, 1, 0, 10.114],\n",
       "       [28, 0, 2, 0, 7.798],\n",
       "       [61, 0, 1, 0, 18.043]], dtype=object)"
      ]
     },
     "execution_count": 14,
     "metadata": {},
     "output_type": "execute_result"
    }
   ],
   "source": [
    "from sklearn import preprocessing\n",
    "\n",
    "le_sex = preprocessing.LabelEncoder()\n",
    "le_sex.fit(['F','M'])\n",
    "X[:, 1] = le_sex.transform(X[:, 1]) \n",
    "\n",
    "\n",
    "le_BP = preprocessing.LabelEncoder()\n",
    "le_BP.fit(['LOW', 'NORMAL', 'HIGH'])\n",
    "X[:,2] = le_BP.transform(X[:, 2])\n",
    "\n",
    "\n",
    "le_Chol = preprocessing.LabelEncoder()\n",
    "le_Chol.fit([ 'NORMAL', 'HIGH'])\n",
    "X[:, 3] = le_Chol.transform(X[:,3]) \n",
    "\n",
    "X[0:5]"
   ]
  },
  {
   "cell_type": "code",
   "execution_count": 15,
   "metadata": {
    "hidden": true
   },
   "outputs": [
    {
     "data": {
      "text/html": [
       "<div>\n",
       "<style scoped>\n",
       "    .dataframe tbody tr th:only-of-type {\n",
       "        vertical-align: middle;\n",
       "    }\n",
       "\n",
       "    .dataframe tbody tr th {\n",
       "        vertical-align: top;\n",
       "    }\n",
       "\n",
       "    .dataframe thead th {\n",
       "        text-align: right;\n",
       "    }\n",
       "</style>\n",
       "<table border=\"1\" class=\"dataframe\">\n",
       "  <thead>\n",
       "    <tr style=\"text-align: right;\">\n",
       "      <th></th>\n",
       "      <th>Age</th>\n",
       "      <th>Sex</th>\n",
       "      <th>BP</th>\n",
       "      <th>Cholesterol</th>\n",
       "      <th>Na_to_K</th>\n",
       "    </tr>\n",
       "  </thead>\n",
       "  <tbody>\n",
       "    <tr>\n",
       "      <th>0</th>\n",
       "      <td>23</td>\n",
       "      <td>0</td>\n",
       "      <td>0</td>\n",
       "      <td>0</td>\n",
       "      <td>25.355</td>\n",
       "    </tr>\n",
       "    <tr>\n",
       "      <th>1</th>\n",
       "      <td>47</td>\n",
       "      <td>1</td>\n",
       "      <td>1</td>\n",
       "      <td>0</td>\n",
       "      <td>13.093</td>\n",
       "    </tr>\n",
       "    <tr>\n",
       "      <th>2</th>\n",
       "      <td>47</td>\n",
       "      <td>1</td>\n",
       "      <td>1</td>\n",
       "      <td>0</td>\n",
       "      <td>10.114</td>\n",
       "    </tr>\n",
       "    <tr>\n",
       "      <th>3</th>\n",
       "      <td>28</td>\n",
       "      <td>0</td>\n",
       "      <td>2</td>\n",
       "      <td>0</td>\n",
       "      <td>7.798</td>\n",
       "    </tr>\n",
       "    <tr>\n",
       "      <th>4</th>\n",
       "      <td>61</td>\n",
       "      <td>0</td>\n",
       "      <td>1</td>\n",
       "      <td>0</td>\n",
       "      <td>18.043</td>\n",
       "    </tr>\n",
       "    <tr>\n",
       "      <th>...</th>\n",
       "      <td>...</td>\n",
       "      <td>...</td>\n",
       "      <td>...</td>\n",
       "      <td>...</td>\n",
       "      <td>...</td>\n",
       "    </tr>\n",
       "    <tr>\n",
       "      <th>195</th>\n",
       "      <td>56</td>\n",
       "      <td>0</td>\n",
       "      <td>1</td>\n",
       "      <td>0</td>\n",
       "      <td>11.567</td>\n",
       "    </tr>\n",
       "    <tr>\n",
       "      <th>196</th>\n",
       "      <td>16</td>\n",
       "      <td>1</td>\n",
       "      <td>1</td>\n",
       "      <td>0</td>\n",
       "      <td>12.006</td>\n",
       "    </tr>\n",
       "    <tr>\n",
       "      <th>197</th>\n",
       "      <td>52</td>\n",
       "      <td>1</td>\n",
       "      <td>2</td>\n",
       "      <td>0</td>\n",
       "      <td>9.894</td>\n",
       "    </tr>\n",
       "    <tr>\n",
       "      <th>198</th>\n",
       "      <td>23</td>\n",
       "      <td>1</td>\n",
       "      <td>2</td>\n",
       "      <td>1</td>\n",
       "      <td>14.02</td>\n",
       "    </tr>\n",
       "    <tr>\n",
       "      <th>199</th>\n",
       "      <td>40</td>\n",
       "      <td>0</td>\n",
       "      <td>1</td>\n",
       "      <td>1</td>\n",
       "      <td>11.349</td>\n",
       "    </tr>\n",
       "  </tbody>\n",
       "</table>\n",
       "<p>200 rows × 5 columns</p>\n",
       "</div>"
      ],
      "text/plain": [
       "    Age Sex BP Cholesterol Na_to_K\n",
       "0    23   0  0           0  25.355\n",
       "1    47   1  1           0  13.093\n",
       "2    47   1  1           0  10.114\n",
       "3    28   0  2           0   7.798\n",
       "4    61   0  1           0  18.043\n",
       "..   ..  .. ..         ...     ...\n",
       "195  56   0  1           0  11.567\n",
       "196  16   1  1           0  12.006\n",
       "197  52   1  2           0   9.894\n",
       "198  23   1  2           1   14.02\n",
       "199  40   0  1           1  11.349\n",
       "\n",
       "[200 rows x 5 columns]"
      ]
     },
     "execution_count": 15,
     "metadata": {},
     "output_type": "execute_result"
    }
   ],
   "source": [
    "pd.DataFrame(X, columns=['Age', 'Sex', 'BP', 'Cholesterol', 'Na_to_K'])"
   ]
  },
  {
   "cell_type": "markdown",
   "metadata": {
    "hidden": true
   },
   "source": [
    "Now we can fill the target variable."
   ]
  },
  {
   "cell_type": "code",
   "execution_count": 16,
   "metadata": {
    "button": false,
    "hidden": true,
    "new_sheet": false,
    "run_control": {
     "read_only": false
    }
   },
   "outputs": [
    {
     "data": {
      "text/plain": [
       "0    drugY\n",
       "1    drugC\n",
       "2    drugC\n",
       "3    drugX\n",
       "4    drugY\n",
       "Name: Drug, dtype: object"
      ]
     },
     "execution_count": 16,
     "metadata": {},
     "output_type": "execute_result"
    }
   ],
   "source": [
    "y = df[\"Drug\"]\n",
    "y[0:5]"
   ]
  },
  {
   "cell_type": "markdown",
   "metadata": {
    "heading_collapsed": true
   },
   "source": [
    "#### `Gini impurity`:"
   ]
  },
  {
   "cell_type": "markdown",
   "metadata": {
    "hidden": true
   },
   "source": [
    "\n",
    "$$\n",
    "G_i = 1 - \\sum\\limits_{k=1}^{n}{{p_{i,k}}^2}\n",
    "$$"
   ]
  },
  {
   "cell_type": "markdown",
   "metadata": {
    "hidden": true
   },
   "source": [
    "Gini impurity is a concept used in machine learning and decision tree algorithms to measure the impurity or disorder in a dataset. It is often used as a criterion to make decisions when building decision trees or evaluating the quality of splits during tree construction. Gini impurity is named after the Italian statistician Corrado Gini.\n",
    "\n",
    "In the context of classification problems, Gini impurity quantifies how often a randomly chosen element from a dataset would be incorrectly classified. It ranges between 0 and 1, where lower values represent lower impurity and indicate a more homogeneous or pure dataset, while higher values indicate higher impurity and a more mixed dataset.\n",
    "\n",
    "The formula for calculating Gini impurity for a dataset with multiple classes is as follows:\n",
    "\n",
    "-   $Gini(D) = 1 - \\sum{p_i^2}$\n",
    "\n",
    "    -   Gini(D) is the Gini impurity for dataset D.\n",
    "    -   $p_i$ is the proportion of instances in dataset D that belong to `classi`.\n",
    "\n",
    "-   Here's a step-by-step explanation of how to calculate Gini impurity:\n",
    "\n",
    "    -   Calculate the probability ($p_i$) of each `classi` in the dataset by dividing the number of instances belonging to class i by the total number of instances in the dataset.\n",
    "    -   Square each of these probabilities ($p_i^2$).\n",
    "    -   Sum up all the squared probabilities for each class.\n",
    "    -   Subtract the sum from 1 to obtain the Gini impurity.\n",
    "\n",
    "In a practical example, imagine a binary classification problem with two classes, A and B. If a dataset is perfectly pure, meaning all elements belong to one class (either A or B), the Gini impurity will be 0 because there is no impurity or misclassification. Conversely, if the dataset is perfectly impure, with an equal number of elements from both classes, the Gini impurity will be 0.5, indicating maximum impurity.\n",
    "\n",
    "In decision tree algorithms, Gini impurity is used to evaluate the quality of a split at each node. When constructing a tree, the algorithm chooses the split that minimizes the weighted average of Gini impurity for the child nodes. This process continues recursively, creating a decision tree that strives to make the best class predictions by minimizing impurity at each step."
   ]
  },
  {
   "cell_type": "markdown",
   "metadata": {
    "heading_collapsed": true
   },
   "source": [
    "## Optimizer"
   ]
  },
  {
   "cell_type": "code",
   "execution_count": null,
   "metadata": {
    "hidden": true,
    "scrolled": true
   },
   "outputs": [],
   "source": []
  },
  {
   "cell_type": "code",
   "execution_count": null,
   "metadata": {
    "hidden": true
   },
   "outputs": [],
   "source": []
  },
  {
   "cell_type": "code",
   "execution_count": null,
   "metadata": {
    "hidden": true
   },
   "outputs": [],
   "source": []
  },
  {
   "cell_type": "code",
   "execution_count": null,
   "metadata": {
    "hidden": true
   },
   "outputs": [],
   "source": []
  },
  {
   "cell_type": "markdown",
   "metadata": {
    "heading_collapsed": true
   },
   "source": [
    "## Nural Network"
   ]
  },
  {
   "cell_type": "markdown",
   "metadata": {
    "heading_collapsed": true,
    "hidden": true
   },
   "source": [
    "### Gradient Descent"
   ]
  },
  {
   "cell_type": "markdown",
   "metadata": {
    "hidden": true
   },
   "source": [
    "- Batch Gradient Descent $\\rightarrow$ Batch Size = Size of Training Set\n",
    "- Stochastic Gradient Descent $\\rightarrow$ Batch Size = 1\n",
    "- Mini-Batch Gradient Descent $\\rightarrow$ $\\text{1 < Batch Size < Size of Training Set}$"
   ]
  },
  {
   "cell_type": "code",
   "execution_count": null,
   "metadata": {
    "hidden": true
   },
   "outputs": [],
   "source": []
  },
  {
   "cell_type": "code",
   "execution_count": null,
   "metadata": {
    "hidden": true
   },
   "outputs": [],
   "source": []
  },
  {
   "cell_type": "code",
   "execution_count": null,
   "metadata": {
    "hidden": true
   },
   "outputs": [],
   "source": []
  }
 ],
 "metadata": {
  "file_extension": ".py",
  "kernelspec": {
   "display_name": "Python 3 (ipykernel)",
   "language": "python",
   "name": "python3"
  },
  "language_info": {
   "codemirror_mode": {
    "name": "ipython",
    "version": 3
   },
   "file_extension": ".py",
   "mimetype": "text/x-python",
   "name": "python",
   "nbconvert_exporter": "python",
   "pygments_lexer": "ipython3",
   "version": "3.10.9"
  },
  "mimetype": "text/x-python",
  "name": "python",
  "npconvert_exporter": "python",
  "pygments_lexer": "ipython3",
  "toc": {
   "base_numbering": 1,
   "nav_menu": {},
   "number_sections": false,
   "sideBar": false,
   "skip_h1_title": true,
   "title_cell": "Table of Contents",
   "title_sidebar": "Contents",
   "toc_cell": true,
   "toc_position": {},
   "toc_section_display": false,
   "toc_window_display": false
  },
  "version": 3
 },
 "nbformat": 4,
 "nbformat_minor": 4
}
