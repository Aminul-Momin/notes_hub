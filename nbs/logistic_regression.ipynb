{
 "cells": [
  {
   "cell_type": "markdown",
   "id": "755465a9",
   "metadata": {
    "toc": true
   },
   "source": [
    "<h1>Table of Contents<span class=\"tocSkip\"></span></h1>\n",
    "<div class=\"toc\"><ul class=\"toc-item\"><li><span><a href=\"#Logistic-Regression\" data-toc-modified-id=\"Logistic-Regression-1\">Logistic Regression</a></span></li></ul></div>"
   ]
  },
  {
   "cell_type": "markdown",
   "id": "c5120a92",
   "metadata": {},
   "source": [
    "## Logistic Regression"
   ]
  },
  {
   "cell_type": "markdown",
   "id": "e3dce49e",
   "metadata": {
    "heading_collapsed": true
   },
   "source": [
    "##### FIRST way to formulate the Logistic Regression:"
   ]
  },
  {
   "cell_type": "markdown",
   "id": "2aa95794",
   "metadata": {
    "hidden": true
   },
   "source": [
    "\\begin{split}\n",
    "    J(\\boldsymbol{\\theta})\n",
    "    & = -\\dfrac{1}{m} \\sum_{i=1}^{m}{\\left[ y^{(i)} log\\left( \\dfrac{1}{1 + e^{-\\boldsymbol{\\theta}^T \\mathbf{x^{(i)}}}} \\right) + (1 - y^{(i)}) log\\left(1 - \\dfrac{1}{1 + e^{-\\boldsymbol{\\theta}^T \\mathbf{x^{(i)}}}} \\right)\\right]}\\\\\n",
    "    & = -\\dfrac{1}{m} \\sum_{i=1}^{m}{\\left[ y^{(i)} log\\left( (1 + e^{-\\boldsymbol{\\theta}^T \\mathbf{x^{(i)}}})^{-1} \\right) + (1 - y^{(i)}) log\\left(1 - (1 + e^{-\\boldsymbol{\\theta}^T \\mathbf{x^{(i)}}})^{-1} \\right)\\right]}\n",
    "\\end{split}"
   ]
  },
  {
   "cell_type": "markdown",
   "id": "5214db9b",
   "metadata": {
    "hidden": true
   },
   "source": [
    "\\begin{split}\n",
    "    \\frac{J}{d \\mathbf{\\boldsymbol{\\theta}}} (\\boldsymbol{\\theta})\n",
    "    & = -\\dfrac{1}{m} \\sum_{i=1}^{m}{\\left[\n",
    "         \\frac{- y^{(i)} {(1 + e^{-\\boldsymbol{\\theta}^T \\mathbf{x^{(i)}}})^{-2}(e^{-\\boldsymbol{\\theta}^T \\mathbf{x^{(i)}}})(-\\mathbf{x^{(i)}})}} {\\dfrac{1}{1 + e^{-\\boldsymbol{\\theta}^T \\mathbf{x^{(i)}}}}}\n",
    "         + \\frac{(1 - y^{(i)})(-)(-) {(1 + e^{-\\boldsymbol{\\theta}^T \\mathbf{x^{(i)}}})^{-2}(e^{-\\boldsymbol{\\theta}^T \\mathbf{x^{(i)}}})(-\\mathbf{x^{(i)}}) }} {1 - \\dfrac{1}{1 + e^{-\\boldsymbol{\\theta}^T \\mathbf{x^{(i)}}}}}\n",
    "         \\right]} \\\\\n",
    "    & = -\\dfrac{1}{m} \\sum_{i=1}^{m}{\\left[\n",
    "            \\frac{y^{(i)}} {\\dfrac{1}{1 + e^{-\\boldsymbol{\\theta}^T \\mathbf{x^{(i)}}}}}\n",
    "            - \\frac{(1 - y^{(i)}) } {1 - \\dfrac{1}{1 + e^{-\\boldsymbol{\\theta}^T \\mathbf{x^{(i)}}}}}\n",
    "        \\right]} \\cdot {(1 + e^{-\\boldsymbol{\\theta}^T \\mathbf{x^{(i)}}})^{-2}{e^{-\\boldsymbol{\\theta}^T \\mathbf{x^{(i)}}}} } \\cdot {\\mathbf{x^{(i)}}} \\\\\n",
    "    & = -\\dfrac{1}{m} \\sum_{i=1}^{m}{\\left[\n",
    "            \\frac{y^{(i)}} {\\dfrac{1}{1 + e^{-\\boldsymbol{\\theta}^T \\mathbf{x^{(i)}}}}}\n",
    "            - \\frac{(1 - y^{(i)}) } {1 - \\dfrac{1}{1 + e^{-\\boldsymbol{\\theta}^T \\mathbf{x^{(i)}}}} }\n",
    "        \\right]} \\cdot \\frac{1}{\\left(1 + e^{-\\boldsymbol{\\theta}^T \\mathbf{x^{(i)}}} \\right)} \\cdot {\\frac{e^{-\\boldsymbol{\\theta}^T \\mathbf{x^{(i)}}}}{ \\left(1 + e^{-\\boldsymbol{\\theta}^T \\mathbf{x^{(i)}}} \\right)} } \\cdot {\\mathbf{x^{(i)}}} \\\\\n",
    "    & = -\\dfrac{1}{m} \\sum_{i=1}^{m}{\\left[\n",
    "            \\frac{y^{(i)}} {\\dfrac{1}{1 + e^{-\\boldsymbol{\\theta}^T \\mathbf{x^{(i)}}}}}\n",
    "            - \\frac{(1 - y^{(i)}) } {1 - \\dfrac{1}{1 + e^{-\\boldsymbol{\\theta}^T \\mathbf{x^{(i)}}}} }\n",
    "        \\right]} \\cdot \\frac{1}{\\left(1 + e^{-\\boldsymbol{\\theta}^T \\mathbf{x^{(i)}}} \\right)} \\cdot {\\left( 1 - \\dfrac{1}{1 + e^{-\\boldsymbol{\\theta}^T \\mathbf{x^{(i)}}}} \\right)} \\cdot {\\mathbf{x^{(i)}}} \\\\\n",
    "    & = -\\dfrac{1}{m} \\sum_{i=1}^{m}{\\left[\n",
    "            \\frac{y^{(i)} - \\dfrac{1}{1 + e^{-\\boldsymbol{\\theta}^T \\mathbf{x^{(i)}}}}} { \\left( \\frac{1}{1 + e^{-\\boldsymbol{\\theta}^T \\mathbf{x^{(i)}}}} \\right) \\cdot {\\left( 1 - \\dfrac{1}{1 + e^{-\\boldsymbol{\\theta}^T \\mathbf{x^{(i)}}}} \\right)}}\n",
    "        \\right]} \\cdot \\frac{1}{\\left(1 + e^{-\\boldsymbol{\\theta}^T \\mathbf{x^{(i)}}} \\right)} \\cdot {\\left( 1 - \\dfrac{1}{1 + e^{-\\boldsymbol{\\theta}^T \\mathbf{x^{(i)}}}} \\right)} \\cdot {\\mathbf{x^{(i)}}} \\\\\n",
    "    & = -\\dfrac{1}{m} \\sum_{i=1}^{m}{\\left[\n",
    "        y^{(i)} - \\dfrac{1}{1 + e^{-\\boldsymbol{\\theta}^T \\mathbf{x^{(i)}}}}\n",
    "        \\right]} \\cdot {\\mathbf{x^{(i)}}} \\\\\n",
    "    & = \\dfrac{1}{m} \\sum_{i=1}^{m}{\\left[\n",
    "            \\dfrac{1}{1 + e^{-\\boldsymbol{\\theta}^T \\mathbf{x^{(i)}}}} - y^{(i)}\n",
    "            \\right]} \\cdot {\\mathbf{x^{(i)}}}\n",
    "\\end{split}"
   ]
  },
  {
   "cell_type": "markdown",
   "id": "13e1e439",
   "metadata": {
    "heading_collapsed": true
   },
   "source": [
    "##### SECOND way to formulate the Logistic Regression:"
   ]
  },
  {
   "cell_type": "markdown",
   "id": "9e5a37b1",
   "metadata": {
    "hidden": true
   },
   "source": [
    "- Loss of a Single Observation:\n",
    "\n",
    "\\begin{split}\n",
    "P \\left( y^{(i)} | x^{(i)} \\right) =\n",
    "\\begin{cases}\n",
    "  \\dfrac{1}{1 + e^{-\\boldsymbol{\\theta}^T \\mathbf{x^{(i)}}}} & \\text{if} \\quad y^{(i)} = 1 \\\\\n",
    "  1 - \\dfrac{1}{1 + e^{-\\boldsymbol{\\theta}^T \\mathbf{x^{(i)}}}} = \\dfrac{1}{1 + e^{\\boldsymbol{\\theta}^T \\mathbf{x^{(i)}}}} & \\text{if} \\quad y^{(i)} = -1\n",
    "\\end{cases}\n",
    "\\end{split}\n",
    "\n",
    "- Combinining these two equations into one:\n",
    "\n",
    "\\begin{equation}\n",
    "  P \\left( y^{(i)} | x^{(i)} \\right) \n",
    "  = \\dfrac{1}{1 + e^{- y^{(i)} \\boldsymbol{\\theta}^T \\mathbf{x^{(i)}}}}; \\quad y^{(i)} \\in \\{1, -1\\}\n",
    "\\end{equation}\n",
    "\n",
    "\n",
    "- Loss of All Observations (Total Loss):\n",
    "    - We have to take the product of indivudale probability to have one total loss function and maximize it. Therefore,\n",
    "\n",
    "\\begin{equation}  \\label{eq:1}\n",
    "\\begin{split}\n",
    "  \\mathcal{L}(\\theta) \n",
    "  &= \\prod_{i=1}^{m} P \\left( y^{(i)} | x^{(i)} \\right) \n",
    "  = \\prod_{i=1}^m \\dfrac{1}{1 + e^{- y^{(i)} \\boldsymbol{\\theta}^T \\mathbf{x^{(i)}}}}; \\quad y^{(i)} \\in \\{1, -1\\} \\\\\n",
    "  &= log\\left( \\prod_{i=1}^m \\dfrac{1}{1 + e^{- y^{(i)} \\boldsymbol{\\theta}^T \\mathbf{x^{(i)}}}} \\right) \\\\\n",
    "  &= \\sum_{i=1}^m log\\left( \\dfrac{1}{1 + e^{- y^{(i)} \\boldsymbol{\\theta}^T \\mathbf{x^{(i)}}}} \\right) \\\\\n",
    "  &= \\sum_{i=1}^m log\\left( 1 + e^{- y^{(i)} \\boldsymbol{\\theta}^T \\mathbf{x^{(i)}}} \\right)\n",
    "\\end{split}\n",
    "\\end{equation}\n",
    "\n",
    "Now taking gradient of equation \\ref{eq:1}\n",
    "\n",
    "\\begin{equation}\n",
    "\\begin{split}\n",
    "  \\nabla\\mathcal{L}(\\boldsymbol{\\theta})\n",
    "  &= -\\sum_{i=1}^m \\frac{y^{(i)} x^{(i)}}{1 + e^{- y^{(i)} \\boldsymbol{\\theta}^T \\mathbf{x^{(i)}}}} \\cdot e^{- y^{(i)} \\boldsymbol{\\theta}^T \\mathbf{x^{(i)}}} \\cdot \\frac{e^{y^{(i)} \\boldsymbol{\\theta}^T \\mathbf{x^{(i)}}}}{e^{y^{(i)} \\boldsymbol{\\theta}^T \\mathbf{x^{(i)}}}} \\\\\n",
    "  &= -\\sum_{i=1}^m \\frac{y^{(i)} x^{(i)}}{e^{- y^{(i)} \\boldsymbol{\\theta}^T \\mathbf{x^{(i)}}} + 1} \\\\\n",
    "  &=  -\\sum_{i=1}^m P \\left( -y^{(i)} | x^{(i)} \\right)  \\cdot y^{(i)}  x^{(i)}\n",
    "\\end{split}\n",
    "\\end{equation}\n"
   ]
  },
  {
   "cell_type": "code",
   "execution_count": null,
   "id": "7559c862",
   "metadata": {
    "hidden": true
   },
   "outputs": [],
   "source": []
  },
  {
   "cell_type": "code",
   "execution_count": null,
   "id": "82b2205a",
   "metadata": {
    "hidden": true
   },
   "outputs": [],
   "source": []
  },
  {
   "cell_type": "code",
   "execution_count": null,
   "id": "a1d2adac",
   "metadata": {
    "hidden": true
   },
   "outputs": [],
   "source": []
  },
  {
   "cell_type": "markdown",
   "id": "7e965dd8",
   "metadata": {
    "heading_collapsed": true
   },
   "source": [
    "##### Mathematical Equations:"
   ]
  },
  {
   "cell_type": "markdown",
   "id": "42a77005",
   "metadata": {
    "hidden": true
   },
   "source": [
    "The following objective is used implementing Logistic Regression in sklearn.\n",
    "$$\n",
    "\\large \\min_{w, c} \\frac{1}{2}w^T w + C \\sum_{i=1}^n \\log\\left(e^{- y^{(i)} ({x^{(i)}}^T w + b)) + 1} \\right)\n",
    "$$"
   ]
  },
  {
   "cell_type": "markdown",
   "id": "7ecad1fa",
   "metadata": {
    "hidden": true
   },
   "source": [
    "**Equation 4-13: Logistic Regression model estimated probability (vectorized form)**\n",
    "\n",
    "$\n",
    "\\hat{p} \n",
    "= h_{\\boldsymbol{\\theta}}(\\mathbf{x}) \n",
    "= \\sigma(\\boldsymbol{\\theta}^T \\mathbf{x})\n",
    "= \\dfrac{1}{1 + e^{-\\boldsymbol{\\theta}^T \\mathbf{x}}}\n",
    "$"
   ]
  },
  {
   "cell_type": "markdown",
   "id": "c9272d81",
   "metadata": {
    "hidden": true
   },
   "source": [
    "**Equation 4-14: Logistic function**\n",
    "\n",
    "$\n",
    "\\sigma(\\boldsymbol{\\theta}^T \\mathbf{x}) = \\dfrac{1}{1 + \\exp(-\\boldsymbol{\\theta}^T \\mathbf{x})} = \\dfrac{1}{1 + e^{-\\boldsymbol{\\theta}^T \\mathbf{x}}}\n",
    "$"
   ]
  },
  {
   "cell_type": "markdown",
   "id": "ff0b8eed",
   "metadata": {
    "hidden": true
   },
   "source": [
    "**Equation 4-15: Logistic Regression binary model prediction**\n",
    "\n",
    "$\n",
    "\\hat{y} =\n",
    "\\begin{cases}\n",
    "  0 & \\text{if } \\hat{p} < 0.5, \\\\\n",
    "  1 & \\text{if } \\hat{p} \\geq 0.5.\n",
    "\\end{cases}\n",
    "$"
   ]
  },
  {
   "cell_type": "markdown",
   "id": "701b7c57",
   "metadata": {
    "hidden": true
   },
   "source": [
    "**Equation 4-16: Cost function of a single training instance**\n",
    "\n",
    "\\begin{split}\n",
    "    \\mathbf{\\text{Cost}}(\\boldsymbol{\\theta}) \n",
    "    &= y^{(i)} log\\left(\\dfrac{1}{1 + e^{-\\boldsymbol{\\theta}^T \\mathbf{x^{(i)}}}}\\right) + (1 - y^{(i)}) log\\left(1 - \\dfrac{1}{1 + e^{-\\boldsymbol{\\theta}^T \\mathbf{x^{(i)}}}}\\right) \\\\\n",
    "   &= \\begin{cases}\n",
    "        -\\log(\\dfrac{1}{1 + e^{-\\boldsymbol{\\theta}^T \\mathbf{x^{(i)}}}}) & \\text{if } y = 1, \\\\\n",
    "        -\\log(1 - \\dfrac{1}{1 + e^{-\\boldsymbol{\\theta}^T \\mathbf{x^{(i)}}}}) & \\text{if } y = 0.\n",
    "    \\end{cases}\n",
    "\\end{split}"
   ]
  },
  {
   "cell_type": "markdown",
   "id": "9b102b12",
   "metadata": {
    "hidden": true
   },
   "source": [
    "**Equation 4-17: Logistic Regression cost function (`log loss` a.k.a. `Binary Cross Entropy`)**\n",
    "\n",
    "$\n",
    "J(\\boldsymbol{\\theta}) \n",
    "= -\\dfrac{1}{m} \\sum\\limits_{i=1}^{m}{\\left[ y^{(i)} log\\left( \\dfrac{1}{1 + e^{-\\boldsymbol{\\theta}^T \\mathbf{x^{(i)}}}} \\right) + (1 - y^{(i)}) log\\left(1 - \\dfrac{1}{1 + e^{-\\boldsymbol{\\theta}^T \\mathbf{x^{(i)}}}} \\right)\\right]}\n",
    "$"
   ]
  },
  {
   "cell_type": "markdown",
   "id": "f29b87c5",
   "metadata": {
    "hidden": true
   },
   "source": [
    "**Equation 4-18: Logistic cost function partial derivatives**\n",
    "\n",
    "$\n",
    "\\dfrac{\\partial}{\\partial \\theta_j} \\text{J}(\\boldsymbol{\\theta}) = \\dfrac{1}{m}\\sum\\limits_{i=1}^{m}\\left(\\mathbf{\\sigma(\\boldsymbol{\\theta}}^T \\mathbf{x}^{(i)}) - y^{(i)}\\right)\\, x_j^{(i)}\n",
    "$"
   ]
  },
  {
   "cell_type": "markdown",
   "id": "58ef999f",
   "metadata": {
    "hidden": true
   },
   "source": [
    "**Equation 4-19: Softmax score for class k**\n",
    "\n",
    "$\n",
    "s_k(\\mathbf{x}) = ({\\boldsymbol{\\theta}^{(k)}})^T \\mathbf{x}\n",
    "$"
   ]
  },
  {
   "cell_type": "markdown",
   "id": "afe53819",
   "metadata": {
    "hidden": true
   },
   "source": [
    "**Equation 4-20: Softmax function**\n",
    "\n",
    "$\n",
    "\\hat{p}_k = \\sigma\\left(\\mathbf{s}(\\mathbf{x})\\right)_k = \\dfrac{\\exp\\left(s_k(\\mathbf{x})\\right)}{\\sum\\limits_{j=1}^{K}{\\exp\\left(s_j(\\mathbf{x})\\right)}}\n",
    "$ =\n",
    "$  \\Large \\frac{e^{\\theta \\cdot x^i}}{\\sum\\limits^{k}_{j=1} e^{\\theta^{j} \\cdot x^i}}$"
   ]
  },
  {
   "cell_type": "markdown",
   "id": "5a01c107",
   "metadata": {
    "hidden": true
   },
   "source": [
    "**Equation 4-21: Softmax Regression classifier prediction**\n",
    "\n",
    "$\n",
    "\\hat{y} = \\underset{k}{\\operatorname{argmax}} \\, \\sigma\\left(\\mathbf{s}(\\mathbf{x})\\right)_k = \\underset{k}{\\operatorname{argmax}} \\, s_k(\\mathbf{x}) = \\underset{k}{\\operatorname{argmax}} \\, \\left( ({\\boldsymbol{\\theta}^{(k)}})^T \\mathbf{x} \\right)\n",
    "$"
   ]
  },
  {
   "cell_type": "markdown",
   "id": "d6919430",
   "metadata": {
    "hidden": true
   },
   "source": [
    "**Equation 4-22: Cross entropy cost function**\n",
    "\n",
    "$\n",
    "J(\\boldsymbol{\\Theta}) = - \\dfrac{1}{m}\\sum\\limits_{i=1}^{m}\\sum\\limits_{k=1}^{K}{y_k^{(i)}\\log\\left(\\hat{p}_k^{(i)}\\right)}\n",
    "$"
   ]
  },
  {
   "cell_type": "markdown",
   "id": "19267fe1",
   "metadata": {
    "hidden": true
   },
   "source": [
    "**Cross entropy between two discrete probability distributions $p$ and $q$ (page 141):**\n",
    "$ H(p, q) = -\\sum\\limits_{x}p(x) \\log q(x) $"
   ]
  },
  {
   "cell_type": "markdown",
   "id": "23baaf8c",
   "metadata": {
    "hidden": true
   },
   "source": [
    "**Equation 4-23: Cross entropy gradient vector for class _k_**\n",
    "\n",
    "$\n",
    "\\nabla_{\\boldsymbol{\\theta}^{(k)}} \\, J(\\boldsymbol{\\Theta}) = \\dfrac{1}{m} \\sum\\limits_{i=1}^{m}{ \\left ( \\hat{p}^{(i)}_k - y_k^{(i)} \\right ) \\mathbf{x}^{(i)}}\n",
    "$"
   ]
  },
  {
   "cell_type": "markdown",
   "id": "e8cff51f",
   "metadata": {},
   "source": [
    "##### API (sklearn.linear_model.LogisticRegression):"
   ]
  },
  {
   "cell_type": "markdown",
   "id": "1c582f43",
   "metadata": {},
   "source": [
    "- [sklearn.linear_model.LogisticRegression](https://scikit-learn.org/stable/modules/generated/sklearn.linear_model.LogisticRegression.html#sklearn.linear_model.LogisticRegression)\n",
    "- [sklearn.linear_model.SGDClassifier](https://scikit-learn.org/stable/modules/generated/sklearn.linear_model.SGDClassifier.html#sklearn.linear_model.SGDClassifier)"
   ]
  },
  {
   "cell_type": "markdown",
   "id": "e6dc985e",
   "metadata": {},
   "source": [
    "```python \n",
    "LogisticRegression(penalty='l2', *, dual=False, tol=0.0001, C=1.0, fit_intercept=True, intercept_scaling=1, class_weight=None, random_state=None, solver='lbfgs', max_iter=100, multi_class='auto', verbose=0, warm_start=False, n_jobs=None, l1_ratio=None)\n",
    "```\n",
    "\n",
    "- `dual`: Dual or primal formulation. Dual formulation is only implemented for l2 penalty with liblinear solver. Prefer `dual=False` when `n_samples > n_features`.\n",
    "- `C`: Inverse of regularization strength; must be a positive float. Like in support vector machines, smaller values specify stronger regularization.\n",
    "- `multi_class` ({`‘auto’`, `‘ovr’`, `‘multinomial’`}, `default=’auto’`): If the option chosen is `‘ovr’`, then a binary problem is fit for each label. For `‘multinomial’` the loss minimised is the multinomial loss fit across the entire probability distribution, even when the data is binary. `‘multinomial’` is unavailable when `solver=’liblinear’`. `‘auto’` selects `‘ovr’` if the data is binary, or if `solver=’liblinear’`, and otherwise selects `‘multinomial’`."
   ]
  },
  {
   "cell_type": "markdown",
   "id": "7c5b126c",
   "metadata": {},
   "source": [
    "|Attributes|Methods|\n",
    "|----|----|\n",
    "|`clf.classes_`| `decision_function(...)`|\n",
    "|`clf.coef_`| `densify(...)`|\n",
    "|`clf.intercept_`| `fit(...)`|\n",
    "|`clf.n_iter_`| `get_params(...)`|\n",
    "|   |`predict(...)`|\n",
    "|   |`predict_log_proba(...)`|\n",
    "|   |`predict_proba(...)`|\n",
    "|   |`score(...)`|\n",
    "|   |`set_params(...)`|\n",
    "|   |`sparsif(...)`|"
   ]
  },
  {
   "cell_type": "markdown",
   "id": "83726f96",
   "metadata": {},
   "source": [
    "```python\n",
    "class sklearn.linear_model.SGDClassifier(loss='log', *, penalty='l2', alpha=0.0001, l1_ratio=0.15, fit_intercept=True, max_iter=1000, tol=0.001, shuffle=True, verbose=0, epsilon=0.1, n_jobs=None, random_state=None, learning_rate='optimal', eta0=0.0, power_t=0.5, early_stopping=False, validation_fraction=0.1, n_iter_no_change=5, class_weight=None, warm_start=False, average=False)\n",
    "```\n",
    "\n",
    "- `alpha=0.0001`: Constant that multiplies the regularization term. The higher the value, the stronger the regularization. Also used to compute the learning rate when set to `learning_rate` is set to `‘optimal’`.\n",
    "\n",
    "- `epsilon=0.1`: Epsilon in the epsilon-insensitive loss functions; only if loss is `‘huber’`, `‘epsilon_insensitive’`, or `‘squared_epsilon_insensitive’`."
   ]
  },
  {
   "cell_type": "code",
   "execution_count": 46,
   "id": "6de9599c",
   "metadata": {
    "scrolled": true
   },
   "outputs": [],
   "source": [
    "# dir(LogisticRegression)"
   ]
  },
  {
   "cell_type": "code",
   "execution_count": 43,
   "id": "f05a96b3",
   "metadata": {
    "scrolled": false
   },
   "outputs": [],
   "source": [
    "# help(LogisticRegression)"
   ]
  },
  {
   "cell_type": "code",
   "execution_count": null,
   "id": "6e14cdb8",
   "metadata": {},
   "outputs": [],
   "source": []
  },
  {
   "cell_type": "markdown",
   "id": "5e568e19",
   "metadata": {
    "heading_collapsed": true
   },
   "source": [
    "##### Dataset:"
   ]
  },
  {
   "cell_type": "markdown",
   "id": "80e5b319",
   "metadata": {
    "hidden": true
   },
   "source": [
    "\n",
    "\n",
    "- **Number of Instances**: 150 (50 in each of three classes)\n",
    "- **Number of Features**: 4 numeric, predictive attributes and the class\n",
    "- **Feature Information**:\n",
    "    - sepal length in cm\n",
    "    - sepal width in cm\n",
    "    - petal length in cm\n",
    "    - petal width in cm\n",
    "- **class**:\n",
    "    - Iris-Setosa\n",
    "    - Iris-Versicolour\n",
    "    - Iris-Virginica\n",
    "\n",
    "- `iris.data`, `iris.target`, `iris.target_names`, `iris.DSCER`"
   ]
  },
  {
   "cell_type": "code",
   "execution_count": 234,
   "id": "1d66faff",
   "metadata": {
    "hidden": true
   },
   "outputs": [],
   "source": [
    "iris = ds.load_iris()"
   ]
  },
  {
   "cell_type": "code",
   "execution_count": 49,
   "id": "ccc64176",
   "metadata": {
    "hidden": true
   },
   "outputs": [
    {
     "data": {
      "text/html": [
       "<div>\n",
       "<style scoped>\n",
       "    .dataframe tbody tr th:only-of-type {\n",
       "        vertical-align: middle;\n",
       "    }\n",
       "\n",
       "    .dataframe tbody tr th {\n",
       "        vertical-align: top;\n",
       "    }\n",
       "\n",
       "    .dataframe thead th {\n",
       "        text-align: right;\n",
       "    }\n",
       "</style>\n",
       "<table border=\"1\" class=\"dataframe\">\n",
       "  <thead>\n",
       "    <tr style=\"text-align: right;\">\n",
       "      <th></th>\n",
       "      <th>0</th>\n",
       "      <th>1</th>\n",
       "      <th>2</th>\n",
       "      <th>3</th>\n",
       "    </tr>\n",
       "  </thead>\n",
       "  <tbody>\n",
       "    <tr>\n",
       "      <th>0</th>\n",
       "      <td>5.1</td>\n",
       "      <td>3.5</td>\n",
       "      <td>1.4</td>\n",
       "      <td>0.2</td>\n",
       "    </tr>\n",
       "    <tr>\n",
       "      <th>1</th>\n",
       "      <td>4.9</td>\n",
       "      <td>3.0</td>\n",
       "      <td>1.4</td>\n",
       "      <td>0.2</td>\n",
       "    </tr>\n",
       "    <tr>\n",
       "      <th>2</th>\n",
       "      <td>4.7</td>\n",
       "      <td>3.2</td>\n",
       "      <td>1.3</td>\n",
       "      <td>0.2</td>\n",
       "    </tr>\n",
       "    <tr>\n",
       "      <th>3</th>\n",
       "      <td>4.6</td>\n",
       "      <td>3.1</td>\n",
       "      <td>1.5</td>\n",
       "      <td>0.2</td>\n",
       "    </tr>\n",
       "    <tr>\n",
       "      <th>4</th>\n",
       "      <td>5.0</td>\n",
       "      <td>3.6</td>\n",
       "      <td>1.4</td>\n",
       "      <td>0.2</td>\n",
       "    </tr>\n",
       "    <tr>\n",
       "      <th>5</th>\n",
       "      <td>5.4</td>\n",
       "      <td>3.9</td>\n",
       "      <td>1.7</td>\n",
       "      <td>0.4</td>\n",
       "    </tr>\n",
       "    <tr>\n",
       "      <th>6</th>\n",
       "      <td>4.6</td>\n",
       "      <td>3.4</td>\n",
       "      <td>1.4</td>\n",
       "      <td>0.3</td>\n",
       "    </tr>\n",
       "    <tr>\n",
       "      <th>7</th>\n",
       "      <td>5.0</td>\n",
       "      <td>3.4</td>\n",
       "      <td>1.5</td>\n",
       "      <td>0.2</td>\n",
       "    </tr>\n",
       "    <tr>\n",
       "      <th>8</th>\n",
       "      <td>4.4</td>\n",
       "      <td>2.9</td>\n",
       "      <td>1.4</td>\n",
       "      <td>0.2</td>\n",
       "    </tr>\n",
       "    <tr>\n",
       "      <th>9</th>\n",
       "      <td>4.9</td>\n",
       "      <td>3.1</td>\n",
       "      <td>1.5</td>\n",
       "      <td>0.1</td>\n",
       "    </tr>\n",
       "  </tbody>\n",
       "</table>\n",
       "</div>"
      ],
      "text/plain": [
       "     0    1    2    3\n",
       "0  5.1  3.5  1.4  0.2\n",
       "1  4.9  3.0  1.4  0.2\n",
       "2  4.7  3.2  1.3  0.2\n",
       "3  4.6  3.1  1.5  0.2\n",
       "4  5.0  3.6  1.4  0.2\n",
       "5  5.4  3.9  1.7  0.4\n",
       "6  4.6  3.4  1.4  0.3\n",
       "7  5.0  3.4  1.5  0.2\n",
       "8  4.4  2.9  1.4  0.2\n",
       "9  4.9  3.1  1.5  0.1"
      ]
     },
     "execution_count": 49,
     "metadata": {},
     "output_type": "execute_result"
    }
   ],
   "source": [
    "X, y = load_iris(return_X_y=True)\n",
    "df = pd.DataFrame(X); df.head(10)"
   ]
  },
  {
   "cell_type": "code",
   "execution_count": 50,
   "id": "8b1d695b",
   "metadata": {
    "hidden": true
   },
   "outputs": [
    {
     "data": {
      "text/plain": [
       "(array([[5.1, 3.5, 1.4, 0.2],\n",
       "        [4.9, 3. , 1.4, 0.2],\n",
       "        [4.7, 3.2, 1.3, 0.2],\n",
       "        [4.6, 3.1, 1.5, 0.2],\n",
       "        [5. , 3.6, 1.4, 0.2]]),\n",
       " array([0, 0, 0, 0, 0]))"
      ]
     },
     "execution_count": 50,
     "metadata": {},
     "output_type": "execute_result"
    }
   ],
   "source": [
    "X_normalize = sk.preprocessing.StandardScaler().fit(X).transform(iris.data)\n",
    "X[0:5], y[0:5]"
   ]
  },
  {
   "cell_type": "code",
   "execution_count": 51,
   "id": "43843969",
   "metadata": {
    "hidden": true
   },
   "outputs": [],
   "source": [
    "# Split data into 50% train and 50% test subsets\n",
    "X_train, X_test, y_train, y_test = train_test_split(X_normalize, iris.target, test_size=0.5, shuffle=True)"
   ]
  },
  {
   "cell_type": "markdown",
   "id": "44aca3c4",
   "metadata": {
    "heading_collapsed": true
   },
   "source": [
    "##### Model"
   ]
  },
  {
   "cell_type": "code",
   "execution_count": 52,
   "id": "ac70dbda",
   "metadata": {
    "hidden": true
   },
   "outputs": [
    {
     "data": {
      "text/plain": [
       "0.3333333333333333"
      ]
     },
     "execution_count": 52,
     "metadata": {},
     "output_type": "execute_result"
    }
   ],
   "source": [
    "clf = LogisticRegression(random_state=0).fit(X_train, y_train)\n",
    "clf.score(X, y)"
   ]
  },
  {
   "cell_type": "code",
   "execution_count": 53,
   "id": "6c08d121",
   "metadata": {
    "hidden": true
   },
   "outputs": [
    {
     "name": "stdout",
     "output_type": "stream",
     "text": [
      "[0 1 2]\n",
      "\n",
      "[[-0.929  0.916 -1.371 -1.242]\n",
      " [ 0.574 -0.592 -0.344 -0.61 ]\n",
      " [ 0.355 -0.324  1.716  1.853]]\n",
      "\n",
      "[-0.116  1.233 -1.117]\n",
      "\n",
      "[19]\n"
     ]
    }
   ],
   "source": [
    "print(clf.classes_, clf.coef_, clf.intercept_, clf.n_iter_, sep='\\n\\n')"
   ]
  },
  {
   "cell_type": "code",
   "execution_count": 54,
   "id": "39333851",
   "metadata": {
    "hidden": true
   },
   "outputs": [],
   "source": [
    "y_hat = clf.predict(X_test)"
   ]
  },
  {
   "cell_type": "code",
   "execution_count": 55,
   "id": "4078522e",
   "metadata": {
    "hidden": true
   },
   "outputs": [
    {
     "data": {
      "text/plain": [
       "array([[6.517e-09, 3.325e-04, 9.997e-01]])"
      ]
     },
     "execution_count": 55,
     "metadata": {},
     "output_type": "execute_result"
    }
   ],
   "source": [
    "idx = randint(0, len(X))\n",
    "clf.predict_proba(X[idx:idx+1, :])"
   ]
  },
  {
   "cell_type": "code",
   "execution_count": null,
   "id": "a29cc562",
   "metadata": {
    "hidden": true
   },
   "outputs": [],
   "source": []
  },
  {
   "cell_type": "code",
   "execution_count": 56,
   "id": "f2057997",
   "metadata": {
    "hidden": true
   },
   "outputs": [
    {
     "data": {
      "text/plain": [
       "1.0"
      ]
     },
     "execution_count": 56,
     "metadata": {},
     "output_type": "execute_result"
    }
   ],
   "source": [
    "clf.predict_proba(X)\n",
    "clf.predict_proba(X)[0].sum()"
   ]
  },
  {
   "cell_type": "markdown",
   "id": "c4e1aca0",
   "metadata": {
    "heading_collapsed": true
   },
   "source": [
    "##### Evaluations:"
   ]
  },
  {
   "cell_type": "code",
   "execution_count": 57,
   "id": "fc8a362b",
   "metadata": {
    "hidden": true
   },
   "outputs": [],
   "source": [
    "from sklearn.metrics import confusion_matrix, plot_confusion_matrix"
   ]
  },
  {
   "cell_type": "code",
   "execution_count": 69,
   "id": "04451536",
   "metadata": {
    "hidden": true
   },
   "outputs": [
    {
     "data": {
      "image/png": "[encoded data removed]",
      "text/plain": [
       "<Figure size 576x720 with 2 Axes>"
      ]
     },
     "metadata": {},
     "output_type": "display_data"
    }
   ],
   "source": [
    "display_cm = plot_confusion_matrix(clf, X_test, y_test, cmap=plt.cm.Blues)\n",
    "display_cm.figure_.set_size_inches((8,10))"
   ]
  },
  {
   "cell_type": "code",
   "execution_count": 67,
   "id": "8f390ac3",
   "metadata": {
    "hidden": true
   },
   "outputs": [],
   "source": [
    "display_cm.figure_.set_size_inches((8,10))"
   ]
  },
  {
   "cell_type": "code",
   "execution_count": 68,
   "id": "5c42df51",
   "metadata": {
    "hidden": true
   },
   "outputs": [],
   "source": [
    "# help(display_cm.figure_.set_size_inches)"
   ]
  },
  {
   "cell_type": "code",
   "execution_count": 60,
   "id": "53c2831c",
   "metadata": {
    "hidden": true,
    "scrolled": true
   },
   "outputs": [
    {
     "data": {
      "text/plain": [
       "array([[21,  0,  0],\n",
       "       [ 0, 31,  2],\n",
       "       [ 0,  1, 20]])"
      ]
     },
     "execution_count": 60,
     "metadata": {},
     "output_type": "execute_result"
    }
   ],
   "source": [
    "display_cm.confusion_matrix"
   ]
  },
  {
   "cell_type": "code",
   "execution_count": 61,
   "id": "687bc272",
   "metadata": {
    "hidden": true
   },
   "outputs": [
    {
     "name": "stdout",
     "output_type": "stream",
     "text": [
      "              precision    recall  f1-score   support\n",
      "\n",
      "           0       1.00      1.00      1.00        21\n",
      "           1       0.97      0.94      0.95        33\n",
      "           2       0.91      0.95      0.93        21\n",
      "\n",
      "    accuracy                           0.96        75\n",
      "   macro avg       0.96      0.96      0.96        75\n",
      "weighted avg       0.96      0.96      0.96        75\n",
      "\n"
     ]
    }
   ],
   "source": [
    "print(classification_report(y_test, y_hat))"
   ]
  },
  {
   "cell_type": "code",
   "execution_count": null,
   "id": "6e2bc0f9",
   "metadata": {
    "hidden": true
   },
   "outputs": [],
   "source": []
  },
  {
   "cell_type": "markdown",
   "id": "72e0c37c",
   "metadata": {},
   "source": [
    "##### Multi-class Logistic Regressio (Softmax)"
   ]
  },
  {
   "cell_type": "code",
   "execution_count": 5,
   "id": "96b69e2f",
   "metadata": {},
   "outputs": [],
   "source": [
    "iris = ds.load_iris()\n",
    "# iris"
   ]
  },
  {
   "cell_type": "code",
   "execution_count": 6,
   "id": "eba53f63",
   "metadata": {},
   "outputs": [],
   "source": [
    "# print(iris['DESCR'])"
   ]
  },
  {
   "cell_type": "code",
   "execution_count": 9,
   "id": "e86af585",
   "metadata": {},
   "outputs": [
    {
     "data": {
      "text/html": [
       "<div>\n",
       "<style scoped>\n",
       "    .dataframe tbody tr th:only-of-type {\n",
       "        vertical-align: middle;\n",
       "    }\n",
       "\n",
       "    .dataframe tbody tr th {\n",
       "        vertical-align: top;\n",
       "    }\n",
       "\n",
       "    .dataframe thead th {\n",
       "        text-align: right;\n",
       "    }\n",
       "</style>\n",
       "<table border=\"1\" class=\"dataframe\">\n",
       "  <thead>\n",
       "    <tr style=\"text-align: right;\">\n",
       "      <th></th>\n",
       "      <th>Sepal_Length</th>\n",
       "      <th>Sepal_Width</th>\n",
       "      <th>Petal_Length</th>\n",
       "      <th>Petal_Width</th>\n",
       "    </tr>\n",
       "  </thead>\n",
       "  <tbody>\n",
       "    <tr>\n",
       "      <th>0</th>\n",
       "      <td>5.1</td>\n",
       "      <td>3.5</td>\n",
       "      <td>1.4</td>\n",
       "      <td>0.2</td>\n",
       "    </tr>\n",
       "    <tr>\n",
       "      <th>1</th>\n",
       "      <td>4.9</td>\n",
       "      <td>3.0</td>\n",
       "      <td>1.4</td>\n",
       "      <td>0.2</td>\n",
       "    </tr>\n",
       "    <tr>\n",
       "      <th>2</th>\n",
       "      <td>4.7</td>\n",
       "      <td>3.2</td>\n",
       "      <td>1.3</td>\n",
       "      <td>0.2</td>\n",
       "    </tr>\n",
       "    <tr>\n",
       "      <th>3</th>\n",
       "      <td>4.6</td>\n",
       "      <td>3.1</td>\n",
       "      <td>1.5</td>\n",
       "      <td>0.2</td>\n",
       "    </tr>\n",
       "    <tr>\n",
       "      <th>4</th>\n",
       "      <td>5.0</td>\n",
       "      <td>3.6</td>\n",
       "      <td>1.4</td>\n",
       "      <td>0.2</td>\n",
       "    </tr>\n",
       "    <tr>\n",
       "      <th>5</th>\n",
       "      <td>5.4</td>\n",
       "      <td>3.9</td>\n",
       "      <td>1.7</td>\n",
       "      <td>0.4</td>\n",
       "    </tr>\n",
       "    <tr>\n",
       "      <th>6</th>\n",
       "      <td>4.6</td>\n",
       "      <td>3.4</td>\n",
       "      <td>1.4</td>\n",
       "      <td>0.3</td>\n",
       "    </tr>\n",
       "    <tr>\n",
       "      <th>7</th>\n",
       "      <td>5.0</td>\n",
       "      <td>3.4</td>\n",
       "      <td>1.5</td>\n",
       "      <td>0.2</td>\n",
       "    </tr>\n",
       "    <tr>\n",
       "      <th>8</th>\n",
       "      <td>4.4</td>\n",
       "      <td>2.9</td>\n",
       "      <td>1.4</td>\n",
       "      <td>0.2</td>\n",
       "    </tr>\n",
       "    <tr>\n",
       "      <th>9</th>\n",
       "      <td>4.9</td>\n",
       "      <td>3.1</td>\n",
       "      <td>1.5</td>\n",
       "      <td>0.1</td>\n",
       "    </tr>\n",
       "  </tbody>\n",
       "</table>\n",
       "</div>"
      ],
      "text/plain": [
       "   Sepal_Length  Sepal_Width  Petal_Length  Petal_Width\n",
       "0           5.1          3.5           1.4          0.2\n",
       "1           4.9          3.0           1.4          0.2\n",
       "2           4.7          3.2           1.3          0.2\n",
       "3           4.6          3.1           1.5          0.2\n",
       "4           5.0          3.6           1.4          0.2\n",
       "5           5.4          3.9           1.7          0.4\n",
       "6           4.6          3.4           1.4          0.3\n",
       "7           5.0          3.4           1.5          0.2\n",
       "8           4.4          2.9           1.4          0.2\n",
       "9           4.9          3.1           1.5          0.1"
      ]
     },
     "execution_count": 9,
     "metadata": {},
     "output_type": "execute_result"
    }
   ],
   "source": [
    "X, y = ds.load_iris(return_X_y=True)\n",
    "df = pd.DataFrame(X, columns=['Sepal_Length','Sepal_Width','Petal_Length','Petal_Width']); df.head(10)"
   ]
  },
  {
   "cell_type": "code",
   "execution_count": 12,
   "id": "887b78d7",
   "metadata": {},
   "outputs": [
    {
     "data": {
      "text/plain": [
       "array([-1.143, -0.132, -1.34 , -1.315])"
      ]
     },
     "execution_count": 12,
     "metadata": {},
     "output_type": "execute_result"
    }
   ],
   "source": [
    "X[1]"
   ]
  },
  {
   "cell_type": "code",
   "execution_count": 13,
   "id": "88180b74",
   "metadata": {},
   "outputs": [
    {
     "data": {
      "text/plain": [
       "array([[-0.901,  1.019, -1.34 , -1.315],\n",
       "       [-1.143, -0.132, -1.34 , -1.315],\n",
       "       [-1.385,  0.328, -1.397, -1.315],\n",
       "       [-1.507,  0.098, -1.283, -1.315],\n",
       "       [-1.022,  1.249, -1.34 , -1.315]])"
      ]
     },
     "execution_count": 13,
     "metadata": {},
     "output_type": "execute_result"
    }
   ],
   "source": [
    "X = StandardScaler().fit(X).transform(X)\n",
    "X[0:5]"
   ]
  },
  {
   "cell_type": "code",
   "execution_count": 26,
   "id": "9ecb194b",
   "metadata": {},
   "outputs": [
    {
     "data": {
      "text/plain": [
       "0.9999999999999994"
      ]
     },
     "execution_count": 26,
     "metadata": {},
     "output_type": "execute_result"
    }
   ],
   "source": [
    "np.var(X[:,2])"
   ]
  },
  {
   "cell_type": "code",
   "execution_count": 255,
   "id": "334b4f3b",
   "metadata": {},
   "outputs": [
    {
     "data": {
      "text/plain": [
       "0.9733333333333334"
      ]
     },
     "execution_count": 255,
     "metadata": {},
     "output_type": "execute_result"
    }
   ],
   "source": [
    "clf = LogisticRegression(random_state=0).fit(X, y)\n",
    "clf.score(X, y)"
   ]
  },
  {
   "cell_type": "code",
   "execution_count": 256,
   "id": "b64af43a",
   "metadata": {},
   "outputs": [
    {
     "name": "stdout",
     "output_type": "stream",
     "text": [
      "[0 1 2]\n",
      "\n",
      "[[-1.074  1.16  -1.931 -1.812]\n",
      " [ 0.588 -0.362 -0.363 -0.826]\n",
      " [ 0.486 -0.798  2.294  2.638]]\n",
      "\n",
      "[-0.205  2.075 -1.87 ]\n",
      "\n",
      "[25]\n"
     ]
    }
   ],
   "source": [
    "print(clf.classes_, clf.coef_, clf.intercept_, clf.n_iter_, sep='\\n\\n')"
   ]
  },
  {
   "cell_type": "code",
   "execution_count": 263,
   "id": "83f4911c",
   "metadata": {},
   "outputs": [],
   "source": [
    "yhat_ = clf.predict(X[:, :])"
   ]
  },
  {
   "cell_type": "code",
   "execution_count": 258,
   "id": "ec33e784",
   "metadata": {},
   "outputs": [
    {
     "data": {
      "text/plain": [
       "array([[9.891e-01, 1.088e-02, 1.727e-07]])"
      ]
     },
     "execution_count": 258,
     "metadata": {},
     "output_type": "execute_result"
    }
   ],
   "source": [
    "idx = random.randint(0, len(X))\n",
    "clf.predict_proba(X[idx:idx+1, :])"
   ]
  },
  {
   "cell_type": "code",
   "execution_count": 259,
   "id": "442c5444",
   "metadata": {},
   "outputs": [
    {
     "data": {
      "text/plain": [
       "1.0"
      ]
     },
     "execution_count": 259,
     "metadata": {},
     "output_type": "execute_result"
    }
   ],
   "source": [
    "clf.predict_proba(X)\n",
    "clf.predict_proba(X)[0].sum()"
   ]
  },
  {
   "cell_type": "code",
   "execution_count": 262,
   "id": "224280a8",
   "metadata": {},
   "outputs": [
    {
     "ename": "NameError",
     "evalue": "name 'yhat' is not defined",
     "output_type": "error",
     "traceback": [
      "\u001b[0;31m---------------------------------------------------------\u001b[0m",
      "\u001b[0;31mNameError\u001b[0m               Traceback (most recent call last)",
      "\u001b[0;32m<ipython-input-262-f38cc4eab316>\u001b[0m in \u001b[0;36m<module>\u001b[0;34m\u001b[0m\n\u001b[0;32m----> 1\u001b[0;31m \u001b[0myhat_1\u001b[0m \u001b[0;34m=\u001b[0m \u001b[0myhat\u001b[0m \u001b[0;34m==\u001b[0m \u001b[0;36m1\u001b[0m\u001b[0;34m\u001b[0m\u001b[0;34m\u001b[0m\u001b[0m\n\u001b[0m",
      "\u001b[0;31mNameError\u001b[0m: name 'yhat' is not defined"
     ]
    }
   ],
   "source": [
    "yhat_1 = yhat == 1"
   ]
  },
  {
   "cell_type": "code",
   "execution_count": 261,
   "id": "67611f11",
   "metadata": {},
   "outputs": [],
   "source": [
    "yhat_prob = clf.predict_proba(X); yhat_prob[yhat_1]"
   ]
  },
  {
   "cell_type": "code",
   "execution_count": null,
   "id": "cfeeec3a",
   "metadata": {},
   "outputs": [],
   "source": [
    "# from sklearn.metrics import log_loss\n",
    "# log_loss(y_test, yhat_prob)"
   ]
  },
  {
   "cell_type": "code",
   "execution_count": null,
   "id": "ad5b98cd",
   "metadata": {},
   "outputs": [],
   "source": []
  }
 ],
 "metadata": {
  "kernelspec": {
   "display_name": "Python 3",
   "language": "python",
   "name": "python3"
  },
  "language_info": {
   "codemirror_mode": {
    "name": "ipython",
    "version": 3
   },
   "file_extension": ".py",
   "mimetype": "text/x-python",
   "name": "python",
   "nbconvert_exporter": "python",
   "pygments_lexer": "ipython3",
   "version": "3.8.2"
  },
  "toc": {
   "base_numbering": 1,
   "nav_menu": {},
   "number_sections": false,
   "sideBar": true,
   "skip_h1_title": true,
   "title_cell": "Table of Contents",
   "title_sidebar": "Contents",
   "toc_cell": true,
   "toc_position": {},
   "toc_section_display": true,
   "toc_window_display": false
  }
 },
 "nbformat": 4,
 "nbformat_minor": 5
}
