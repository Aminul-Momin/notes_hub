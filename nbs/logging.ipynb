{
 "cells": [
  {
   "cell_type": "markdown",
   "metadata": {
    "toc": true
   },
   "source": [
    "<h1>Table of Contents<span class=\"tocSkip\"></span></h1>\n",
    "<div class=\"toc\"><ul class=\"toc-item\"><li><ul class=\"toc-item\"><li><ul class=\"toc-item\"><li><span><a href=\"#Terminology\" data-toc-modified-id=\"Terminology-0.0.1\">Terminology</a></span></li></ul></li></ul></li><li><span><a href=\"#Basic-Configuration\" data-toc-modified-id=\"Basic-Configuration-1\">Basic Configuration</a></span><ul class=\"toc-item\"><li><ul class=\"toc-item\"><li><span><a href=\"#Logging-in-modules-and-logger-hierarchy\" data-toc-modified-id=\"Logging-in-modules-and-logger-hierarchy-1.0.1\">Logging in modules and logger hierarchy</a></span></li><li><span><a href=\"#Propagation\" data-toc-modified-id=\"Propagation-1.0.2\">Propagation</a></span></li><li><span><a href=\"#Capture-Stack-traces\" data-toc-modified-id=\"Capture-Stack-traces-1.0.3\">Capture Stack traces</a></span></li><li><span><a href=\"#Log-Level\" data-toc-modified-id=\"Log-Level-1.0.4\">Log Level</a></span></li></ul></li></ul></li><li><span><a href=\"#Handlers\" data-toc-modified-id=\"Handlers-2\"><a href=\"https://docs.python.org/3/howto/logging.html#handlers\" rel=\"nofollow\" target=\"_blank\">Handlers</a></a></span><ul class=\"toc-item\"><li><ul class=\"toc-item\"><li><span><a href=\"#StreamHandler\" data-toc-modified-id=\"StreamHandler-2.0.1\"><a href=\"https://docs.python.org/3/library/logging.handlers.html#streamhandler\" rel=\"nofollow\" target=\"_blank\">StreamHandler</a></a></span></li><li><span><a href=\"#Rotating-FileHandler\" data-toc-modified-id=\"Rotating-FileHandler-2.0.2\"><a href=\"https://docs.python.org/3/library/logging.handlers.html#rotatingfilehandler\" rel=\"nofollow\" target=\"_blank\">Rotating FileHandler</a></a></span></li><li><span><a href=\"#TimedRotatingFileHandler\" data-toc-modified-id=\"TimedRotatingFileHandler-2.0.3\"><a href=\"https://docs.python.org/3/library/logging.handlers.html#timedrotatingfilehandler\" rel=\"nofollow\" target=\"_blank\">TimedRotatingFileHandler</a></a></span></li></ul></li></ul></li><li><span><a href=\"#Formatter\" data-toc-modified-id=\"Formatter-3\">Formatter</a></span><ul class=\"toc-item\"><li><ul class=\"toc-item\"><li><span><a href=\"#Define-a-filter\" data-toc-modified-id=\"Define-a-filter-3.0.1\">Define a filter</a></span></li></ul></li></ul></li><li><span><a href=\"#Other-configuration-methods\" data-toc-modified-id=\"Other-configuration-methods-4\">Other configuration methods</a></span><ul class=\"toc-item\"><li><ul class=\"toc-item\"><li><span><a href=\"#.conf-file\" data-toc-modified-id=\".conf-file-4.0.1\"><code>.conf</code> file</a></span></li></ul></li></ul></li></ul></div>"
   ]
  },
  {
   "cell_type": "markdown",
   "metadata": {},
   "source": [
    "- [Intermediate Python Programming Course](https://www.youtube.com/watch?v=HGOBQPFzWKo)"
   ]
  },
  {
   "cell_type": "markdown",
   "metadata": {
    "id": "SmAYHMDJ9k0y"
   },
   "source": [
    "# Logging\n",
    "The logging module in Python is a powerful built-in module so you can quickly add logging to your application.\n",
    "\n",
    "- [Documentation: Logging facility for Python](https://docs.python.org/3/library/logging.html)"
   ]
  },
  {
   "cell_type": "markdown",
   "metadata": {},
   "source": [
    "- Some Facts:\n",
    "    - An application can have multiple logger.\n",
    "    - A logger is configured to have a log level.\n",
    "    - A logger can have multiple handler\n",
    "\n",
    "    - Each handlers can also have a different log level.\n",
    "    - Each handlers can also have a different formatter."
   ]
  },
  {
   "cell_type": "markdown",
   "metadata": {},
   "source": [
    "#### Terminology"
   ]
  },
  {
   "cell_type": "markdown",
   "metadata": {},
   "source": [
    "**Loggers**\n",
    "\n",
    "- A logger is the entry point into the logging system.\n",
    "- An application may have one or more logger.\n",
    "- Each logger is a named bucket to which messages can be written for processing.\n",
    "- A logger is configured to have a log level which describes the severity of the messages that the logger will handle. Python defines the following log levels ordered in higher to lower in level of severity:\n",
    "\n",
    "    - `CRITICAL`: Information describing a critical problem that has occurred.\n",
    "    - `ERROR`: Information describing a major problem that has occurred.\n",
    "    - `WARNING`: Information describing a minor problem that has occurred.\n",
    "    - `INFO`: General system information.\n",
    "    - `DEBUG`: Low level system information for debugging purposes\n",
    "\n",
    "- Each message that is written to the logger is a Log Record which also has a log level indicating the severity of that specific message. A Log Record can also contain useful metadata such as a stack trace or an error code.\n",
    "- When a message is given to the logger, the log level of the message (Log Record) is compared to the log level of the logger. If the log level of the message meets or exceeds the log level of the logger itself, the message will undergo further processing, it is passed to a Handler. If it doesn’t, the message will be ignored."
   ]
  },
  {
   "cell_type": "markdown",
   "metadata": {},
   "source": [
    "**Handlers**\n",
    "\n",
    "The handler is the engine that determines what happens to each message in a logger. It describes a particular logging behavior, such as writing a message to the screen, to a file, or to a network socket.\n",
    "\n",
    "Like loggers, handlers also have a log level. If the log level of a log record doesn’t meet or exceed the level of the handler, the handler will ignore the message.\n",
    "\n",
    "A logger can have multiple handlers, and each handler can have a different log level. In this way, it is possible to provide different forms of notification depending on the importance of a message. For example, you could install one handler that forwards ERROR and CRITICAL messages to a paging service, while a second handler logs all messages (including ERROR and CRITICAL messages) to a file for later analysis."
   ]
  },
  {
   "cell_type": "markdown",
   "metadata": {},
   "source": [
    "**Filters**\n",
    "\n",
    "A filter is used to provide additional control over which log records are passed from logger to handler.\n",
    "\n",
    "By default, any log message that meets log level requirements will be handled. However, by installing a filter, you can place additional criteria on the logging process. For example, you could install a filter that only allows ERROR messages from a particular source to be emitted.\n",
    "\n",
    "Filters can also be used to modify the logging record prior to being emitted. For example, you could write a filter that downgrades ERROR log records to WARNING records if a particular set of criteria are met.\n",
    "\n",
    "Filters can be installed on loggers or on handlers; multiple filters can be used in a chain to perform multiple filtering actions."
   ]
  },
  {
   "cell_type": "markdown",
   "metadata": {},
   "source": [
    "**Formatters**\n",
    "\n",
    "A log record needs to be rendered as text. Formatters describe the exact format of that text. A formatter usually consists of a Python formatting string containing LogRecord attributes; however, you can also write custom formatters to implement specific formatting behavior."
   ]
  },
  {
   "cell_type": "markdown",
   "metadata": {},
   "source": [
    "`Logger`: The main entry point for interacting with the logging system. Loggers are typically created at the module level and are used to send messages to the system.\n",
    "\n",
    "`Handler`: A handler determines how the log message should be processed or outputted. Handlers can write to files, send email notifications, or output to the console, among other things.\n",
    "\n",
    "`Formatter`: A formatter is used to format the output of log messages. For example, you can specify the date and time, log level, and the actual message.\n",
    "\n",
    "`Log Record`: A log record is a data structure that contains all the relevant information about a log message. This includes the log level, message, timestamp, and any other relevant data.\n",
    "\n",
    "`Filter`: A filter is used to selectively filter log messages based on certain criteria. For example, you can filter messages based on the log level, module, or other attributes.\n",
    "\n",
    "`Log Level`: The log level determines the severity of a log message. Common log levels include DEBUG, INFO, WARNING, ERROR, and CRITICAL.\n",
    "\n",
    "`Root Logger`: The default logger in the logging system. All other loggers inherit from the root logger.\n",
    "\n",
    "`Propagation`: When a logger sends a message, the message is passed up the logger hierarchy until it reaches a handler that can process it. This is known as propagation.\n",
    "\n",
    "`Rotating File Handler`: A handler that rotates log files based on size or time. This can be useful for managing large log files.\n",
    "\n",
    "`NullHandler`: A handler that does nothing. This is useful for situations where you want to use logging, but don't need to output any messages."
   ]
  },
  {
   "cell_type": "markdown",
   "metadata": {
    "id": "3iTDw9As9k02"
   },
   "source": [
    "## Basic Configuration\n",
    "With `basicConfig(**kwargs)` you can customize the root logger. The most common parameters are the *level*, the *format*, and the *filename*. \n",
    "\n",
    "- [Possible Arguments](https://docs.python.org/3/library/logging.html#logging.basicConfig)\n",
    "- [Possible Formats](https://docs.python.org/3/library/logging.html#logrecord-attributes)\n",
    "- [Time String Parameter](https://docs.python.org/3/library/time.html#time.strftime)\n",
    "\n",
    "Note that this function should only be called once, and typically first thing after importing the module. It has no effect if the root logger already has handlers configured. For example calling `logging.info(...)` before the *basicConfig* will already set a handler."
   ]
  },
  {
   "cell_type": "code",
   "execution_count": null,
   "metadata": {
    "collapsed": true,
    "id": "Yl7u6SgH9k03"
   },
   "outputs": [],
   "source": [
    "import logging\n",
    "logging.basicConfig(\n",
    "    level=logging.DEBUG, \n",
    "    format='%(asctime)s - %(name)s - %(levelname)s - %(message)s', \n",
    "    datefmt='%m/%d/%Y %H:%M:%S'\n",
    ")\n",
    "# Now also debug messages will get logged with a different format.\n",
    "logging.debug('Debug message')\n",
    "\n",
    "# This would log to a file instead of the console.\n",
    "# logging.basicConfig(level=logging.DEBUG, filename='app.log')"
   ]
  },
  {
   "cell_type": "markdown",
   "metadata": {
    "heading_collapsed": true,
    "id": "A8o_Jf7Z9k03"
   },
   "source": [
    "#### Logging in modules and logger hierarchy"
   ]
  },
  {
   "cell_type": "markdown",
   "metadata": {
    "hidden": true,
    "id": "A8o_Jf7Z9k03"
   },
   "source": [
    "Best practice in your application with multiple modules is to create an internal logger using the `__name__` global variable. This will create a logger with the name of your module and ensures no name collisions. The logging module creates a hierarchy of loggers, starting with the root logger, and adding the new logger to this hierarchy. If you then import your module in another module, log messages can be associated with the correct module through the logger name. \n",
    "\n",
    "*NOTE*: Changing the basicConfig of the root logger will also affect the log events of the other (lower) loggers in the hierarchy."
   ]
  },
  {
   "cell_type": "code",
   "execution_count": null,
   "metadata": {
    "hidden": true,
    "id": "XOgBbz649k03"
   },
   "outputs": [],
   "source": [
    "# main.py\n",
    "# -------------------------------------\n",
    "import logging\n",
    "logging.basicConfig(level=logging.INFO, format='%(name)s - %(levelname)s - %(message)s')\n",
    "import helper\n",
    "\n",
    "# helper.py\n",
    "# -------------------------------------\n",
    "import logging\n",
    "logger = logging.getLogger(__name__)\n",
    "logger.info('HELLO')\n",
    "\n",
    "\n",
    "# --> Output when running main.py\n",
    "# helper - INFO - HELLO"
   ]
  },
  {
   "cell_type": "markdown",
   "metadata": {
    "heading_collapsed": true,
    "id": "CvnpK6cB9k04"
   },
   "source": [
    "#### Propagation"
   ]
  },
  {
   "cell_type": "markdown",
   "metadata": {
    "hidden": true,
    "id": "CvnpK6cB9k04"
   },
   "source": [
    "By default, all created loggers will pass the log events to the handlers of higher loggers, in addition to any handlers attached to the created logger. You can deactivate this by setting `propagate = False`. Sometimes when you wonder why you don't see log messages from another module, then this property may be the reason."
   ]
  },
  {
   "cell_type": "code",
   "execution_count": null,
   "metadata": {
    "collapsed": true,
    "hidden": true,
    "id": "ISkgYg_Q9k04"
   },
   "outputs": [],
   "source": [
    "# main.py\n",
    "# -------------------------------------\n",
    "import logging\n",
    "logging.basicConfig(level=logging.INFO, format='%(name)s - %(levelname)s - %(message)s')\n",
    "import helper\n",
    "\n",
    "# helper.py\n",
    "# -------------------------------------\n",
    "import logging\n",
    "logger = logging.getLogger(__name__)\n",
    "logger.propagate = False\n",
    "logger.info('HELLO')\n",
    "\n",
    "# --> No output when running main.py since the helper module logger does not propagate its messages to the root logger"
   ]
  },
  {
   "cell_type": "code",
   "execution_count": null,
   "metadata": {
    "hidden": true
   },
   "outputs": [],
   "source": []
  },
  {
   "cell_type": "markdown",
   "metadata": {
    "id": "d35DwdpH9k08"
   },
   "source": [
    "#### Capture Stack traces\n",
    "Logging the traceback in your exception logs can be very helpful for troubleshooting issues. You can capture the traceback in `logging.error()` by setting the `exc_info` parameter to True."
   ]
  },
  {
   "cell_type": "code",
   "execution_count": 4,
   "metadata": {
    "id": "2uz-XobK9k08",
    "outputId": "24cfd4ea-0665-4ff5-c59a-904e4c0a8d2e"
   },
   "outputs": [
    {
     "name": "stderr",
     "output_type": "stream",
     "text": [
      "ERROR:root:list index out of range\n",
      "ERROR:root:list index out of range\n",
      "Traceback (most recent call last):\n",
      "  File \"/var/folders/f4/qkdf_4lj59l90mh4fqh_rtvr0000gn/T/ipykernel_89365/3357444235.py\", line 5, in <module>\n",
      "    value = a[3]\n",
      "IndexError: list index out of range\n"
     ]
    }
   ],
   "source": [
    "import logging\n",
    "\n",
    "try:\n",
    "    a = [1, 2, 3]\n",
    "    value = a[3]\n",
    "except IndexError as e:\n",
    "    logging.error(e)\n",
    "    logging.error(e, exc_info=True)"
   ]
  },
  {
   "cell_type": "markdown",
   "metadata": {
    "id": "E3gJc2Yn9k08"
   },
   "source": [
    "If you don't capture the correct Exception, you can also use the *traceback.format_exc()* method to log the exception."
   ]
  },
  {
   "cell_type": "code",
   "execution_count": 5,
   "metadata": {
    "id": "1cnBFxHD9k09"
   },
   "outputs": [
    {
     "name": "stderr",
     "output_type": "stream",
     "text": [
      "ERROR:root:uncaught exception: Traceback (most recent call last):\n",
      "  File \"/var/folders/f4/qkdf_4lj59l90mh4fqh_rtvr0000gn/T/ipykernel_89365/3253098238.py\", line 6, in <module>\n",
      "    value = a[3]\n",
      "IndexError: list index out of range\n",
      "\n"
     ]
    }
   ],
   "source": [
    "import logging\n",
    "import traceback\n",
    "\n",
    "try:\n",
    "    a = [1, 2, 3]\n",
    "    value = a[3]\n",
    "except:\n",
    "    logging.error(\"uncaught exception: %s\", traceback.format_exc())"
   ]
  },
  {
   "cell_type": "markdown",
   "metadata": {
    "id": "AxW6Y7pw9k00"
   },
   "source": [
    "#### Log Level"
   ]
  },
  {
   "cell_type": "markdown",
   "metadata": {
    "id": "AxW6Y7pw9k00"
   },
   "source": [
    "There are 5 different log levels indicating the serverity of events. By default, the system logs only events with level *WARNING* and above."
   ]
  },
  {
   "cell_type": "code",
   "execution_count": null,
   "metadata": {
    "id": "VMsodYPr9k01",
    "outputId": "aea50982-0a32-416b-e8e9-a07e9cc586ae"
   },
   "outputs": [
    {
     "name": "stderr",
     "output_type": "stream",
     "text": [
      "WARNING:root:This is a warning message\n",
      "ERROR:root:This is an error message\n",
      "CRITICAL:root:This is a critical message\n"
     ]
    }
   ],
   "source": [
    "import logging\n",
    "logging.debug('This is a debug message')\n",
    "logging.info('This is an info message')\n",
    "logging.warning('This is a warning message')\n",
    "logging.error('This is an error message')\n",
    "logging.critical('This is a critical message')"
   ]
  },
  {
   "cell_type": "markdown",
   "metadata": {
    "id": "v14mfd4d9k05"
   },
   "source": [
    "## [Handlers](https://docs.python.org/3/howto/logging.html#handlers)\n",
    "\n",
    "- [Usefull Handlers](https://docs.python.org/3/howto/logging.html#useful-handlers)"
   ]
  },
  {
   "cell_type": "markdown",
   "metadata": {
    "id": "v14mfd4d9k05"
   },
   "source": [
    "Handler objects are responsible for dispatching the appropriate log messages to the handler's specific destination. For example you can use different handlers to send log messaged to the standard output stream, to files, via HTTP, or via Email. Typically you configure each handler with a level (`setLevel()`), a formatter (`setFormatter()`), and optionally a filter (`addFilter()`)."
   ]
  },
  {
   "cell_type": "code",
   "execution_count": null,
   "metadata": {
    "collapsed": true,
    "id": "h-5kLreS9k06"
   },
   "outputs": [],
   "source": [
    "import logging\n",
    "\n",
    "logger = logging.getLogger(__name__)\n",
    "\n",
    "# Create and configure first handler\n",
    "handler1 = logging.StreamHandler()\n",
    "# Configure level and formatter and add it to handlers\n",
    "handler1.setLevel(logging.WARNING) # warning and above is logged to the stream\n",
    "handler1.setFormatter(logging.Formatter('%(name)s - %(levelname)s - %(message)s'))\n",
    "\n",
    "# Create and configure second handler\n",
    "handler2 = logging.FileHandler('file.log')\n",
    "handler2.setLevel(logging.ERROR) # error and above is logged to a file\n",
    "file_format = logging.Formatter('%(asctime)s - %(name)s - %(levelname)s - %(message)s')\n",
    "handler2.setFormatter(file_format)\n",
    "\n",
    "# A logger can have multiple handler. Add handlers to the logger\n",
    "logger.addHandler(handler1)\n",
    "logger.addHandler(handler2)\n",
    "\n",
    "logger.warning('This is a warning') # logged to the stream\n",
    "logger.error('This is an error') # logged to the stream AND the file!"
   ]
  },
  {
   "cell_type": "markdown",
   "metadata": {},
   "source": [
    "#### [StreamHandler](https://docs.python.org/3/library/logging.handlers.html#streamhandler)\n",
    "\n",
    "```python\n",
    "class logging.StreamHandler(stream=None):\n",
    "    '''Returns a new instance of the StreamHandler class. If stream is specified, the instance will use it for logging output; otherwise, sys.stderr will be used.\n",
    "    '''\n",
    "```"
   ]
  },
  {
   "cell_type": "markdown",
   "metadata": {},
   "source": [
    "It is used to send log records to a stream, such as the console (`sys.stdout`) or a file-like object that supports writing. It is commonly used to display log messages on the console during the execution of a program."
   ]
  },
  {
   "cell_type": "code",
   "execution_count": null,
   "metadata": {},
   "outputs": [],
   "source": []
  },
  {
   "cell_type": "markdown",
   "metadata": {
    "id": "bhygDUq39k09"
   },
   "source": [
    "#### [Rotating FileHandler](https://docs.python.org/3/library/logging.handlers.html#rotatingfilehandler)"
   ]
  },
  {
   "cell_type": "markdown",
   "metadata": {},
   "source": [
    "```python\n",
    "class logging.handlers.RotatingFileHandler(\n",
    "    filename, \n",
    "    mode='a', \n",
    "    maxBytes=0, \n",
    "    backupCount=0, \n",
    "    encoding=None, # It is used to open the file with the given encoding.\n",
    "    delay=False, # If true, file opening is deferred until the first call to emit().\n",
    "    errors=None # If errors is specified, it’s used to determine how encoding errors are handled.\n",
    ")\n",
    "```"
   ]
  },
  {
   "cell_type": "markdown",
   "metadata": {
    "id": "bhygDUq39k09"
   },
   "source": [
    "You can use the maxBytes and `backupCount` values to allow the file to rollover at a predetermined size. When the size is about to be exceeded, the file is closed and a new file is silently opened for output. Rollover occurs whenever the current log file is nearly `maxBytes` in length; but if either of `maxBytes` or `backupCount` is zero, rollover never occurs, so you generally want to set `backupCount` to at least 1, and have a non-zero `maxBytes`. When `backupCount` is non-zero, the system will save old log files by appending the extensions `.1`, `.2` etc., to the filename. For example, with a `backupCount` of 5 and a base file name of app.log, you would get app.log, `app.log.1`, `app.log.2`, up to `app.log.5`. The file being written to is always app.log. When this file is filled, it is closed and renamed to app.log.1, and if files `app.log.1`, `app.log.2`, etc. exist, then they are renamed to `app.log.2`, `app.log.3` etc. respectively."
   ]
  },
  {
   "cell_type": "code",
   "execution_count": null,
   "metadata": {
    "collapsed": true,
    "id": "ytefy-Ex9k09"
   },
   "outputs": [],
   "source": [
    "import logging\n",
    "from logging.handlers import RotatingFileHandler\n",
    "\n",
    "logger = logging.getLogger(__name__)\n",
    "logger.setLevel(logging.INFO)\n",
    "\n",
    "# roll over after 2KB, and keep backup logs app.log.1, app.log.2 , etc.\n",
    "handler = RotatingFileHandler('app.log', maxBytes=2000, backupCount=5)\n",
    "logger.addHandler(handler)\n",
    "\n",
    "for _ in range(10000):\n",
    "    logger.info('Hello, world!')"
   ]
  },
  {
   "cell_type": "markdown",
   "metadata": {
    "id": "IR5XI8gN9k09"
   },
   "source": [
    "#### [TimedRotatingFileHandler](https://docs.python.org/3/library/logging.handlers.html#timedrotatingfilehandler)\n",
    "If your application will be running for a long time, you can use a TimedRotatingFileHandler. This will create a rotating log based on how much time has passed. Possible time conditions for the *when* parameter are:\n",
    "- second (s)\n",
    "- minute (m)\n",
    "- hour (h)\n",
    "- day (d)\n",
    "- w0-w6 (weekday, 0=Monday)\n",
    "- midnight"
   ]
  },
  {
   "cell_type": "code",
   "execution_count": null,
   "metadata": {
    "collapsed": true,
    "id": "EHbKVRRc9k0-"
   },
   "outputs": [],
   "source": [
    "import logging\n",
    "import time\n",
    "from logging.handlers import TimedRotatingFileHandler\n",
    " \n",
    "logger = logging.getLogger(__name__)\n",
    "logger.setLevel(logging.INFO)\n",
    "\n",
    "# This will create a new log file every minute, and 5 backup files with a timestamp before overwriting old logs.\n",
    "handler = TimedRotatingFileHandler('timed_test.log', when='m', interval=1, backupCount=5)\n",
    "logger.addHandler(handler)\n",
    " \n",
    "for i in range(6):\n",
    "    logger.info('Hello, world!')\n",
    "    time.sleep(50)"
   ]
  },
  {
   "cell_type": "markdown",
   "metadata": {},
   "source": [
    "## Formatter"
   ]
  },
  {
   "cell_type": "markdown",
   "metadata": {
    "heading_collapsed": true,
    "id": "4tJj3dhG9k06"
   },
   "source": [
    "#### Define a filter"
   ]
  },
  {
   "cell_type": "code",
   "execution_count": null,
   "metadata": {
    "collapsed": true,
    "hidden": true,
    "id": "kmca1lq49k06"
   },
   "outputs": [],
   "source": [
    "class InfoFilter(logging.Filter):\n",
    "    \n",
    "    # Only log records for which this function evaluates to True will pass the filter.\n",
    "    def filter(self, record):\n",
    "        return record.levelno == logging.INFO\n",
    "\n",
    "# Now only INFO level messages will be logged\n",
    "handler1.addFilter(InfoFilter())\n",
    "logger.addHandler(handler1)"
   ]
  },
  {
   "cell_type": "markdown",
   "metadata": {
    "heading_collapsed": true,
    "id": "DPhrSXVJ9k07"
   },
   "source": [
    "## Other configuration methods\n",
    "We have seen how to configure logging creating loggers, handlers, and formatters explicitely in code. There are two other configration methods:\n",
    "- Creating a logging config file and reading it using the `fileConfig()` function. See example below.\n",
    "- Creating a dictionary of configuration information and passing it to the `dictConfig()` function. \n",
    "    - See [`logging.config.dictConfig(config)`](https://docs.python.org/3/library/logging.config.html#logging.config.dictConfig) for more information.\n",
    "    - [Configuration dictionary schema](https://docs.python.org/3/library/logging.config.html#logging-config-dictschema)"
   ]
  },
  {
   "cell_type": "markdown",
   "metadata": {
    "heading_collapsed": true,
    "hidden": true,
    "id": "DPhrSXVJ9k07"
   },
   "source": [
    "#### `.conf` file\n",
    "Create a `.conf` (or sometimes stored as *.ini*) file, define the loggers, handlers, and formatters and provide the names as keys. After their names are defined, they are configured by adding the words *logger*, *handler*, and *formatter* before their names separated by an underscore. Then you can set the properties for each logger, handler, and formatter. In the example below, the root logger and a logger named *simpleExample* will be configured with a StreamHandler."
   ]
  },
  {
   "cell_type": "code",
   "execution_count": null,
   "metadata": {
    "collapsed": true,
    "hidden": true,
    "id": "9H4-cEMk9k07"
   },
   "outputs": [],
   "source": [
    "# logging.conf\n",
    "[loggers]\n",
    "keys=root,simpleExample\n",
    "\n",
    "[handlers]\n",
    "keys=consoleHandler\n",
    "\n",
    "[formatters]\n",
    "keys=simpleFormatter\n",
    "\n",
    "[logger_root]\n",
    "level=DEBUG\n",
    "handlers=consoleHandler\n",
    "\n",
    "[logger_simpleExample]\n",
    "level=DEBUG\n",
    "handlers=consoleHandler\n",
    "qualname=simpleExample\n",
    "propagate=0\n",
    "\n",
    "[handler_consoleHandler]\n",
    "class=StreamHandler\n",
    "level=DEBUG\n",
    "formatter=simpleFormatter\n",
    "args=(sys.stdout,)\n",
    "\n",
    "[formatter_simpleFormatter]\n",
    "format=%(asctime)s - %(name)s - %(levelname)s - %(message)s"
   ]
  },
  {
   "cell_type": "code",
   "execution_count": null,
   "metadata": {
    "collapsed": true,
    "hidden": true,
    "id": "L3CPwn1U9k07"
   },
   "outputs": [],
   "source": [
    "# Then use the config file in the code\n",
    "import logging\n",
    "import logging.config\n",
    "\n",
    "logging.config.fileConfig('logging.conf')\n",
    "\n",
    "# create logger with the name from the config file. \n",
    "# This logger now has StreamHandler with DEBUG Level and the specified format\n",
    "logger = logging.getLogger('simpleExample')\n",
    "\n",
    "logger.debug('debug message')\n",
    "logger.info('info message')"
   ]
  },
  {
   "cell_type": "markdown",
   "metadata": {
    "heading_collapsed": true,
    "id": "Rn2ZwlPw9k0_"
   },
   "source": [
    "# Logging in JSON Format\n",
    "If your application generates many logs from different modules, and especially in a microservice architecture, it can be challenging to locate the important logs for your analysis. Therefore, it is best practice to log your messages in JSON format, and send them to a centralized log management system. Then you can easily search, visualize, and analyze your log records.  \n",
    "I would recommend using this Open Source JSON logger: https://github.com/madzak/python-json-logger  \n",
    "`pip install python-json-logger`"
   ]
  },
  {
   "cell_type": "code",
   "execution_count": null,
   "metadata": {
    "collapsed": true,
    "hidden": true,
    "id": "VkxTp1749k0_"
   },
   "outputs": [],
   "source": [
    "import logging\n",
    "from pythonjsonlogger import jsonlogger\n",
    "\n",
    "logger = logging.getLogger()\n",
    "\n",
    "logHandler = logging.StreamHandler()\n",
    "formatter = jsonlogger.JsonFormatter()\n",
    "logHandler.setFormatter(formatter)\n",
    "logger.addHandler(logHandler)"
   ]
  }
 ],
 "metadata": {
  "colab": {
   "name": "10-Logging.ipynb",
   "provenance": []
  },
  "kernelspec": {
   "display_name": "Python 3 (ipykernel)",
   "language": "python",
   "name": "python3"
  },
  "language_info": {
   "codemirror_mode": {
    "name": "ipython",
    "version": 3
   },
   "file_extension": ".py",
   "mimetype": "text/x-python",
   "name": "python",
   "nbconvert_exporter": "python",
   "pygments_lexer": "ipython3",
   "version": "3.10.9"
  },
  "toc": {
   "base_numbering": 1,
   "nav_menu": {},
   "number_sections": false,
   "sideBar": true,
   "skip_h1_title": true,
   "title_cell": "Table of Contents",
   "title_sidebar": "Contents",
   "toc_cell": true,
   "toc_position": {},
   "toc_section_display": true,
   "toc_window_display": false
  }
 },
 "nbformat": 4,
 "nbformat_minor": 1
}
