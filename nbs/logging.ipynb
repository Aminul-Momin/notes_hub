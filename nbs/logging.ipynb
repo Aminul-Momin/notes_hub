{
 "cells": [
  {
   "cell_type": "markdown",
   "metadata": {
    "toc": true
   },
   "source": [
    "<h1>Table of Contents<span class=\"tocSkip\"></span></h1>\n",
    "<div class=\"toc\"><ul class=\"toc-item\"><li><ul class=\"toc-item\"><li><ul class=\"toc-item\"><li><span><a href=\"#Terminology\" data-toc-modified-id=\"Terminology-0.0.1\">Terminology</a></span></li></ul></li></ul></li><li><span><a href=\"#Log-Level\" data-toc-modified-id=\"Log-Level-1\">Log Level</a></span></li><li><span><a href=\"#Configuration\" data-toc-modified-id=\"Configuration-2\">Configuration</a></span></li><li><span><a href=\"#Logging-in-modules-and-logger-hierarchy\" data-toc-modified-id=\"Logging-in-modules-and-logger-hierarchy-3\">Logging in modules and logger hierarchy</a></span></li><li><span><a href=\"#Propagation\" data-toc-modified-id=\"Propagation-4\">Propagation</a></span></li><li><span><a href=\"#LogHandlers\" data-toc-modified-id=\"LogHandlers-5\">LogHandlers</a></span><ul class=\"toc-item\"><li><ul class=\"toc-item\"><li><span><a href=\"#Add-a-filter\" data-toc-modified-id=\"Add-a-filter-5.0.1\">Add a filter</a></span></li></ul></li></ul></li><li><span><a href=\"#Other-configuration-methods\" data-toc-modified-id=\"Other-configuration-methods-6\">Other configuration methods</a></span><ul class=\"toc-item\"><li><ul class=\"toc-item\"><li><span><a href=\"#.conf-file\" data-toc-modified-id=\".conf-file-6.0.1\"><code>.conf</code> file</a></span></li></ul></li></ul></li><li><span><a href=\"#Capture-Stack-traces\" data-toc-modified-id=\"Capture-Stack-traces-7\">Capture Stack traces</a></span></li><li><span><a href=\"#Rotating-FileHandler\" data-toc-modified-id=\"Rotating-FileHandler-8\">Rotating FileHandler</a></span></li><li><span><a href=\"#TimedRotatingFileHandler\" data-toc-modified-id=\"TimedRotatingFileHandler-9\">TimedRotatingFileHandler</a></span></li></ul></div>"
   ]
  },
  {
   "cell_type": "markdown",
   "metadata": {},
   "source": [
    "- [Intermediate Python Programming Course](https://www.youtube.com/watch?v=HGOBQPFzWKo)"
   ]
  },
  {
   "cell_type": "markdown",
   "metadata": {
    "id": "SmAYHMDJ9k0y"
   },
   "source": [
    "# Logging\n",
    "The logging module in Python is a powerful built-in module so you can quickly add logging to your application.  \n",
    "`import logging`"
   ]
  },
  {
   "cell_type": "markdown",
   "metadata": {},
   "source": [
    "#### Terminology"
   ]
  },
  {
   "cell_type": "markdown",
   "metadata": {},
   "source": [
    "**Loggers**\n",
    "\n",
    "A logger is the entry point into the logging system. Each logger is a named bucket to which messages can be written for processing.\n",
    "\n",
    "A logger is configured to have a log level. This log level describes the severity of the messages that the logger will handle. Python defines the following log levels:\n",
    "\n",
    "- DEBUG: Low level system information for debugging purposes\n",
    "- INFO: General system information\n",
    "- WARNING: Information describing a minor problem that has occurred.\n",
    "- ERROR: Information describing a major problem that has occurred.\n",
    "- CRITICAL: Information describing a critical problem that has occurred.\n",
    "\n",
    "Each message that is written to the logger is a Log Record. Each log record also has a log level indicating the severity of that specific message. A log record can also contain useful metadata that describes the event that is being logged. This can include details such as a stack trace or an error code.\n",
    "\n",
    "When a message is given to the logger, the log level of the message is compared to the log level of the logger. If the log level of the message meets or exceeds the log level of the logger itself, the message will undergo further processing. If it doesn’t, the message will be ignored.\n",
    "\n",
    "Once a logger has determined that a message needs to be processed, it is passed to a Handler."
   ]
  },
  {
   "cell_type": "markdown",
   "metadata": {},
   "source": [
    "**Handlers**\n",
    "\n",
    "The handler is the engine that determines what happens to each message in a logger. It describes a particular logging behavior, such as writing a message to the screen, to a file, or to a network socket.\n",
    "\n",
    "Like loggers, handlers also have a log level. If the log level of a log record doesn’t meet or exceed the level of the handler, the handler will ignore the message.\n",
    "\n",
    "A logger can have multiple handlers, and each handler can have a different log level. In this way, it is possible to provide different forms of notification depending on the importance of a message. For example, you could install one handler that forwards ERROR and CRITICAL messages to a paging service, while a second handler logs all messages (including ERROR and CRITICAL messages) to a file for later analysis."
   ]
  },
  {
   "cell_type": "markdown",
   "metadata": {},
   "source": [
    "**Filters**\n",
    "\n",
    "A filter is used to provide additional control over which log records are passed from logger to handler.\n",
    "\n",
    "By default, any log message that meets log level requirements will be handled. However, by installing a filter, you can place additional criteria on the logging process. For example, you could install a filter that only allows ERROR messages from a particular source to be emitted.\n",
    "\n",
    "Filters can also be used to modify the logging record prior to being emitted. For example, you could write a filter that downgrades ERROR log records to WARNING records if a particular set of criteria are met.\n",
    "\n",
    "Filters can be installed on loggers or on handlers; multiple filters can be used in a chain to perform multiple filtering actions."
   ]
  },
  {
   "cell_type": "markdown",
   "metadata": {},
   "source": [
    "**Formatters**\n",
    "\n",
    "A log record needs to be rendered as text. Formatters describe the exact format of that text. A formatter usually consists of a Python formatting string containing LogRecord attributes; however, you can also write custom formatters to implement specific formatting behavior."
   ]
  },
  {
   "cell_type": "code",
   "execution_count": null,
   "metadata": {},
   "outputs": [],
   "source": []
  },
  {
   "cell_type": "markdown",
   "metadata": {
    "heading_collapsed": true,
    "id": "AxW6Y7pw9k00"
   },
   "source": [
    "## Log Level\n",
    "There are 5 different log levels indicating the serverity of events. By default, the system logs only events with level *WARNING* and above."
   ]
  },
  {
   "cell_type": "code",
   "execution_count": null,
   "metadata": {
    "hidden": true,
    "id": "VMsodYPr9k01",
    "outputId": "aea50982-0a32-416b-e8e9-a07e9cc586ae"
   },
   "outputs": [
    {
     "name": "stderr",
     "output_type": "stream",
     "text": [
      "WARNING:root:This is a warning message\n",
      "ERROR:root:This is an error message\n",
      "CRITICAL:root:This is a critical message\n"
     ]
    }
   ],
   "source": [
    "import logging\n",
    "logging.debug('This is a debug message')\n",
    "logging.info('This is an info message')\n",
    "logging.warning('This is a warning message')\n",
    "logging.error('This is an error message')\n",
    "logging.critical('This is a critical message')"
   ]
  },
  {
   "cell_type": "markdown",
   "metadata": {
    "id": "3iTDw9As9k02"
   },
   "source": [
    "## Configuration\n",
    "With `basicConfig(**kwargs)` you can customize the root logger. The most common parameters are the *level*, the *format*, and the *filename*. See https://docs.python.org/3/library/logging.html#logging.basicConfig for all possible arguments. See also https://docs.python.org/3/library/logging.html#logrecord-attributes for possible formats and https://docs.python.org/3/library/time.html#time.strftime how to set the time string. Note that this function should only be called once, and typically first thing after importing the module. It has no effect if the root logger already has handlers configured. For example calling `logging.info(...)` before the *basicConfig* will already set a handler."
   ]
  },
  {
   "cell_type": "code",
   "execution_count": null,
   "metadata": {
    "collapsed": true,
    "id": "Yl7u6SgH9k03"
   },
   "outputs": [],
   "source": [
    "import logging\n",
    "logging.basicConfig(level=logging.DEBUG, format='%(asctime)s - %(name)s - %(levelname)s - %(message)s', datefmt='%m/%d/%Y %H:%M:%S')\n",
    "# Now also debug messages will get logged with a different format.\n",
    "logging.debug('Debug message')\n",
    "\n",
    "# This would log to a file instead of the console.\n",
    "# logging.basicConfig(level=logging.DEBUG, filename='app.log')"
   ]
  },
  {
   "cell_type": "markdown",
   "metadata": {
    "id": "A8o_Jf7Z9k03"
   },
   "source": [
    "## Logging in modules and logger hierarchy\n",
    "Best practice in your application with multiple modules is to create an internal logger using the `__name__` global variable. This will create a logger with the name of your module and ensures no name collisions. The logging module creates a hierarchy of loggers, starting with the root logger, and adding the new logger to this hierarchy. If you then import your module in another module, log messages can be associated with the correct module through the logger name. \n",
    "\n",
    "*NOTE*: Changing the basicConfig of the root logger will also affect the log events of the other (lower) loggers in the hierarchy."
   ]
  },
  {
   "cell_type": "code",
   "execution_count": null,
   "metadata": {
    "collapsed": true,
    "id": "XOgBbz649k03"
   },
   "outputs": [],
   "source": [
    "# main.py\n",
    "# -------------------------------------\n",
    "import logging\n",
    "logging.basicConfig(level=logging.INFO, format='%(name)s - %(levelname)s - %(message)s')\n",
    "import helper\n",
    "\n",
    "# helper.py\n",
    "# -------------------------------------\n",
    "import logging\n",
    "logger = logging.getLogger(__name__)\n",
    "logger.info('HELLO')\n",
    "\n",
    "\n",
    "# --> Output when running main.py\n",
    "# helper - INFO - HELLO"
   ]
  },
  {
   "cell_type": "markdown",
   "metadata": {
    "id": "CvnpK6cB9k04"
   },
   "source": [
    "## Propagation\n",
    "By default, all created loggers will pass the log events to the handlers of higher loggers, in addition to any handlers attached to the created logger. You can deactivate this by setting `propagate = False`. Sometimes when you wonder why you don't see log messages from another module, then this property may be the reason."
   ]
  },
  {
   "cell_type": "code",
   "execution_count": null,
   "metadata": {
    "collapsed": true,
    "id": "ISkgYg_Q9k04"
   },
   "outputs": [],
   "source": [
    "# main.py\n",
    "# -------------------------------------\n",
    "import logging\n",
    "logging.basicConfig(level=logging.INFO, format='%(name)s - %(levelname)s - %(message)s')\n",
    "import helper\n",
    "\n",
    "# helper.py\n",
    "# -------------------------------------\n",
    "import logging\n",
    "logger = logging.getLogger(__name__)\n",
    "logger.propagate = False\n",
    "logger.info('HELLO')\n",
    "\n",
    "# --> No output when running main.py since the helper module logger does not propagate its messages to the root logger"
   ]
  },
  {
   "cell_type": "markdown",
   "metadata": {
    "id": "v14mfd4d9k05"
   },
   "source": [
    "## LogHandlers\n",
    "Handler objects are responsible for dispatching the appropriate log messages to the handler's specific destination. For example you can use different handlers to send log messaged to the standard output stream, to files, via HTTP, or via Email. Typically you configure each handler with a level (`setLevel()`), a formatter (`setFormatter()`), and optionally a filter (`addFilter()`). See https://docs.python.org/3/howto/logging.html#useful-handlers for possible built-in handlers. Of course you can also implement your own handlers by deriving from these classes."
   ]
  },
  {
   "cell_type": "code",
   "execution_count": null,
   "metadata": {
    "collapsed": true,
    "id": "h-5kLreS9k06"
   },
   "outputs": [],
   "source": [
    "import logging\n",
    "\n",
    "logger = logging.getLogger(__name__)\n",
    "\n",
    "# Create handlers\n",
    "stream_handler = logging.StreamHandler()\n",
    "file_handler = logging.FileHandler('file.log')\n",
    "\n",
    "# Configure level and formatter and add it to handlers\n",
    "stream_handler.setLevel(logging.WARNING) # warning and above is logged to the stream\n",
    "file_handler.setLevel(logging.ERROR) # error and above is logged to a file\n",
    "\n",
    "stream_format = logging.Formatter('%(name)s - %(levelname)s - %(message)s')\n",
    "file_format = logging.Formatter('%(asctime)s - %(name)s - %(levelname)s - %(message)s')\n",
    "stream_handler.setFormatter(stream_format)\n",
    "file_handler.setFormatter(file_format)\n",
    "\n",
    "# Add handlers to the logger\n",
    "logger.addHandler(stream_handler)\n",
    "logger.addHandler(file_handler)\n",
    "\n",
    "logger.warning('This is a warning') # logged to the stream\n",
    "logger.error('This is an error') # logged to the stream AND the file!"
   ]
  },
  {
   "cell_type": "markdown",
   "metadata": {
    "id": "4tJj3dhG9k06"
   },
   "source": [
    "#### Add a filter"
   ]
  },
  {
   "cell_type": "code",
   "execution_count": null,
   "metadata": {
    "collapsed": true,
    "id": "kmca1lq49k06"
   },
   "outputs": [],
   "source": [
    "class InfoFilter(logging.Filter):\n",
    "    \n",
    "    # Only log records for which this function evaluates to True will pass the filter.\n",
    "    def filter(self, record):\n",
    "        return record.levelno == logging.INFO\n",
    "\n",
    "# Now only INFO level messages will be logged\n",
    "stream_handler.addFilter(InfoFilter())\n",
    "logger.addHandler(stream_handler)"
   ]
  },
  {
   "cell_type": "markdown",
   "metadata": {
    "id": "DPhrSXVJ9k07"
   },
   "source": [
    "## Other configuration methods\n",
    "We have seen how to configure logging creating loggers, handlers, and formatters explicitely in code. There are two other configration methods:\n",
    "- Creating a logging config file and reading it using the `fileConfig()` function. See example below.\n",
    "- Creating a dictionary of configuration information and passing it to the `dictConfig()` function. \n",
    "    - See [`logging.config.dictConfig(config)`](https://docs.python.org/3/library/logging.config.html#logging.config.dictConfig) for more information.\n",
    "    - [Configuration dictionary schema](https://docs.python.org/3/library/logging.config.html#logging-config-dictschema)"
   ]
  },
  {
   "cell_type": "markdown",
   "metadata": {
    "id": "DPhrSXVJ9k07"
   },
   "source": [
    "#### `.conf` file\n",
    "Create a *.conf* (or sometimes stored as *.ini*) file, define the loggers, handlers, and formatters and provide the names as keys. After their names are defined, they are configured by adding the words *logger*, *handler*, and *formatter* before their names separated by an underscore. Then you can set the properties for each logger, handler, and formatter. In the example below, the root logger and a logger named *simpleExample* will be configured with a StreamHandler."
   ]
  },
  {
   "cell_type": "code",
   "execution_count": null,
   "metadata": {
    "collapsed": true,
    "id": "9H4-cEMk9k07"
   },
   "outputs": [],
   "source": [
    "# logging.conf\n",
    "[loggers]\n",
    "keys=root,simpleExample\n",
    "\n",
    "[handlers]\n",
    "keys=consoleHandler\n",
    "\n",
    "[formatters]\n",
    "keys=simpleFormatter\n",
    "\n",
    "[logger_root]\n",
    "level=DEBUG\n",
    "handlers=consoleHandler\n",
    "\n",
    "[logger_simpleExample]\n",
    "level=DEBUG\n",
    "handlers=consoleHandler\n",
    "qualname=simpleExample\n",
    "propagate=0\n",
    "\n",
    "[handler_consoleHandler]\n",
    "class=StreamHandler\n",
    "level=DEBUG\n",
    "formatter=simpleFormatter\n",
    "args=(sys.stdout,)\n",
    "\n",
    "[formatter_simpleFormatter]\n",
    "format=%(asctime)s - %(name)s - %(levelname)s - %(message)s"
   ]
  },
  {
   "cell_type": "code",
   "execution_count": null,
   "metadata": {
    "collapsed": true,
    "id": "L3CPwn1U9k07"
   },
   "outputs": [],
   "source": [
    "# Then use the config file in the code\n",
    "import logging\n",
    "import logging.config\n",
    "\n",
    "logging.config.fileConfig('logging.conf')\n",
    "\n",
    "# create logger with the name from the config file. \n",
    "# This logger now has StreamHandler with DEBUG Level and the specified format\n",
    "logger = logging.getLogger('simpleExample')\n",
    "\n",
    "logger.debug('debug message')\n",
    "logger.info('info message')"
   ]
  },
  {
   "cell_type": "markdown",
   "metadata": {
    "id": "d35DwdpH9k08"
   },
   "source": [
    "## Capture Stack traces\n",
    "Logging the traceback in your exception logs can be very helpful for troubleshooting issues. You can capture the traceback in *logging.error()* by setting the *exc_info* parameter to True."
   ]
  },
  {
   "cell_type": "code",
   "execution_count": null,
   "metadata": {
    "id": "2uz-XobK9k08",
    "outputId": "24cfd4ea-0665-4ff5-c59a-904e4c0a8d2e"
   },
   "outputs": [
    {
     "name": "stderr",
     "output_type": "stream",
     "text": [
      "ERROR:root:list index out of range\n",
      "ERROR:root:list index out of range\n",
      "Traceback (most recent call last):\n",
      "  File \"<ipython-input-6-df97a133cbe6>\", line 5, in <module>\n",
      "    value = a[3]\n",
      "IndexError: list index out of range\n"
     ]
    }
   ],
   "source": [
    "import logging\n",
    "\n",
    "try:\n",
    "    a = [1, 2, 3]\n",
    "    value = a[3]\n",
    "except IndexError as e:\n",
    "    logging.error(e)\n",
    "    logging.error(e, exc_info=True)"
   ]
  },
  {
   "cell_type": "markdown",
   "metadata": {
    "id": "E3gJc2Yn9k08"
   },
   "source": [
    "If you don't capture the correct Exception, you can also use the *traceback.format_exc()* method to log the exception."
   ]
  },
  {
   "cell_type": "code",
   "execution_count": null,
   "metadata": {
    "id": "1cnBFxHD9k09"
   },
   "outputs": [],
   "source": [
    "import logging\n",
    "import traceback\n",
    "\n",
    "try:\n",
    "    a = [1, 2, 3]\n",
    "    value = a[3]\n",
    "except:\n",
    "    logging.error(\"uncaught exception: %s\", traceback.format_exc())"
   ]
  },
  {
   "cell_type": "markdown",
   "metadata": {
    "id": "bhygDUq39k09"
   },
   "source": [
    "## Rotating FileHandler\n",
    "When you have a large application that logs many events to a file, and you only need to keep track of the most recent events, then use a RotatingFileHandler that keeps the files small.\n",
    "When the log reaches a certain number of bytes, it gets \"rolled over\". You can also keep multiple backup log files before overwriting them."
   ]
  },
  {
   "cell_type": "code",
   "execution_count": null,
   "metadata": {
    "collapsed": true,
    "id": "ytefy-Ex9k09"
   },
   "outputs": [],
   "source": [
    "import logging\n",
    "from logging.handlers import RotatingFileHandler\n",
    "\n",
    "logger = logging.getLogger(__name__)\n",
    "logger.setLevel(logging.INFO)\n",
    "\n",
    "# roll over after 2KB, and keep backup logs app.log.1, app.log.2 , etc.\n",
    "handler = RotatingFileHandler('app.log', maxBytes=2000, backupCount=5)\n",
    "logger.addHandler(handler)\n",
    "\n",
    "for _ in range(10000):\n",
    "    logger.info('Hello, world!')"
   ]
  },
  {
   "cell_type": "markdown",
   "metadata": {
    "id": "IR5XI8gN9k09"
   },
   "source": [
    "## TimedRotatingFileHandler\n",
    "If your application will be running for a long time, you can use a TimedRotatingFileHandler. This will create a rotating log based on how much time has passed. Possible time conditions for the *when* parameter are:\n",
    "- second (s)\n",
    "- minute (m)\n",
    "- hour (h)\n",
    "- day (d)\n",
    "- w0-w6 (weekday, 0=Monday)\n",
    "- midnight"
   ]
  },
  {
   "cell_type": "code",
   "execution_count": null,
   "metadata": {
    "collapsed": true,
    "id": "EHbKVRRc9k0-"
   },
   "outputs": [],
   "source": [
    "import logging\n",
    "import time\n",
    "from logging.handlers import TimedRotatingFileHandler\n",
    " \n",
    "logger = logging.getLogger(__name__)\n",
    "logger.setLevel(logging.INFO)\n",
    "\n",
    "# This will create a new log file every minute, and 5 backup files with a timestamp before overwriting old logs.\n",
    "handler = TimedRotatingFileHandler('timed_test.log', when='m', interval=1, backupCount=5)\n",
    "logger.addHandler(handler)\n",
    " \n",
    "for i in range(6):\n",
    "    logger.info('Hello, world!')\n",
    "    time.sleep(50)"
   ]
  },
  {
   "cell_type": "markdown",
   "metadata": {
    "heading_collapsed": true,
    "id": "Rn2ZwlPw9k0_"
   },
   "source": [
    "# Logging in JSON Format\n",
    "If your application generates many logs from different modules, and especially in a microservice architecture, it can be challenging to locate the important logs for your analysis. Therefore, it is best practice to log your messages in JSON format, and send them to a centralized log management system. Then you can easily search, visualize, and analyze your log records.  \n",
    "I would recommend using this Open Source JSON logger: https://github.com/madzak/python-json-logger  \n",
    "`pip install python-json-logger`"
   ]
  },
  {
   "cell_type": "code",
   "execution_count": null,
   "metadata": {
    "collapsed": true,
    "hidden": true,
    "id": "VkxTp1749k0_"
   },
   "outputs": [],
   "source": [
    "import logging\n",
    "from pythonjsonlogger import jsonlogger\n",
    "\n",
    "logger = logging.getLogger()\n",
    "\n",
    "logHandler = logging.StreamHandler()\n",
    "formatter = jsonlogger.JsonFormatter()\n",
    "logHandler.setFormatter(formatter)\n",
    "logger.addHandler(logHandler)"
   ]
  }
 ],
 "metadata": {
  "colab": {
   "name": "10-Logging.ipynb",
   "provenance": []
  },
  "kernelspec": {
   "display_name": "Python 3 (ipykernel)",
   "language": "python",
   "name": "python3"
  },
  "language_info": {
   "codemirror_mode": {
    "name": "ipython",
    "version": 3
   },
   "file_extension": ".py",
   "mimetype": "text/x-python",
   "name": "python",
   "nbconvert_exporter": "python",
   "pygments_lexer": "ipython3",
   "version": "3.9.13"
  },
  "toc": {
   "base_numbering": 1,
   "nav_menu": {},
   "number_sections": false,
   "sideBar": true,
   "skip_h1_title": true,
   "title_cell": "Table of Contents",
   "title_sidebar": "Contents",
   "toc_cell": true,
   "toc_position": {},
   "toc_section_display": true,
   "toc_window_display": false
  }
 },
 "nbformat": 4,
 "nbformat_minor": 1
}
