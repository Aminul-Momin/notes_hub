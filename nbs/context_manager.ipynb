{
 "cells": [
  {
   "cell_type": "markdown",
   "metadata": {
    "toc": true
   },
   "source": [
    "<h1>Table of Contents<span class=\"tocSkip\"></span></h1>\n",
    "<div class=\"toc\"><ul class=\"toc-item\"><li><span><a href=\"#Examples-of-context-managers\" data-toc-modified-id=\"Examples-of-context-managers-1\">Examples of context managers</a></span></li><li><span><a href=\"#Implementing-a-context-manager-as-a-class\" data-toc-modified-id=\"Implementing-a-context-manager-as-a-class-2\">Implementing a context manager as a class</a></span><ul class=\"toc-item\"><li><ul class=\"toc-item\"><li><span><a href=\"#Handling-exceptions\" data-toc-modified-id=\"Handling-exceptions-2.0.1\">Handling exceptions</a></span></li></ul></li></ul></li><li><span><a href=\"#Implementing-a-context-manager-as-a-generator\" data-toc-modified-id=\"Implementing-a-context-manager-as-a-generator-3\">Implementing a context manager as a generator</a></span></li></ul></div>"
   ]
  },
  {
   "cell_type": "markdown",
   "metadata": {
    "id": "RHvSpdSqLA5h"
   },
   "source": [
    "# Context managers and the 'with' statement\n",
    "Context managers are a great tool for resource management. They allow you to allocate and release resources precisely when you want to. A well-known example is the `with open()` statemtent:"
   ]
  },
  {
   "cell_type": "code",
   "execution_count": null,
   "metadata": {
    "collapsed": true,
    "id": "Ej1s7xjLLA5j"
   },
   "outputs": [],
   "source": [
    "with open('notes.txt', 'w') as f:\n",
    "    f.write('some todo...')"
   ]
  },
  {
   "cell_type": "markdown",
   "metadata": {
    "id": "_IlbX-VjLA5k"
   },
   "source": [
    "This will open a file and makes sure to automatically close it after program execution leaves the context of the with statement. It also handles exceptions and makes sure to properly close the file even in case of an exception. Internally, the above code translates to something like this:"
   ]
  },
  {
   "cell_type": "code",
   "execution_count": null,
   "metadata": {
    "collapsed": true,
    "id": "SYrz2AGxLA5k"
   },
   "outputs": [],
   "source": [
    "f = open('notes.txt', 'w')\n",
    "try:\n",
    "    f.write('some todo...')\n",
    "finally:\n",
    "    f.close()"
   ]
  },
  {
   "cell_type": "markdown",
   "metadata": {
    "id": "0fIdqX1tLA5l"
   },
   "source": [
    "We can see that using a context manager and the `with` statement is much shorter and more concise."
   ]
  },
  {
   "cell_type": "markdown",
   "metadata": {
    "id": "eQuaLVmiLA5l"
   },
   "source": [
    "## Examples of context managers\n",
    "- Open and close files\n",
    "- open and close database connections\n",
    "- Acquire and release locks:\n",
    "\n",
    "```python\n",
    "from threading import Lock\n",
    "lock = Lock()\n",
    "\n",
    "# error-prone:\n",
    "lock.acquire()\n",
    "# do stuff\n",
    "# lock should always be released!\n",
    "lock.release()\n",
    "\n",
    "# Better:\n",
    "with lock:\n",
    "    # do stuff\n",
    "```"
   ]
  },
  {
   "cell_type": "markdown",
   "metadata": {
    "id": "aQHM1onLLA5l"
   },
   "source": [
    "## Implementing a context manager as a class\n",
    "To support the `with` statement for our own classes, we have to implement the `__enter__` and `__exit__` methods. Python calls `__enter__` when execution enters the context of the `with` statement. In here the resource should be acquired and returned. When execution leaves the context again, `__exit__` is called and the resource is freed up."
   ]
  },
  {
   "cell_type": "code",
   "execution_count": null,
   "metadata": {
    "id": "RKh1WML_LA5m",
    "outputId": "9b51c833-a461-4d45-c648-975d3c6b0ae9"
   },
   "outputs": [
    {
     "name": "stdout",
     "output_type": "stream",
     "text": [
      "init notes.txt\n",
      "enter\n",
      "doing stuff...\n",
      "exit\n"
     ]
    }
   ],
   "source": [
    "class ManagedFile:\n",
    "    def __init__(self, filename):\n",
    "        print('init', filename)\n",
    "        self.filename = filename\n",
    "        \n",
    "    def __enter__(self):\n",
    "        print('enter')\n",
    "        self.file = open(self.filename, 'w')\n",
    "        return self.file\n",
    "        \n",
    "    def __exit__(self, exc_type, exc_value, exc_traceback):\n",
    "        if self.file:\n",
    "            self.file.close()\n",
    "        print('exit')\n",
    "            \n",
    "with ManagedFile('notes.txt') as f:\n",
    "    print('doing stuff...')\n",
    "    f.write('some todo...')"
   ]
  },
  {
   "cell_type": "markdown",
   "metadata": {
    "id": "9owHvqX6LA5n"
   },
   "source": [
    "#### Handling exceptions\n",
    "If an exception occurs, Python passes the type, value, and traceback to the `__exit__` method. It can handle the exception here. If anything other than `True` is returned by the `__exit__` method, then the exception is raised by the `with` statement."
   ]
  },
  {
   "cell_type": "code",
   "execution_count": null,
   "metadata": {
    "id": "9aReFtZ-LA5n",
    "outputId": "716d20c7-3937-4cdc-d409-ede27b68257f"
   },
   "outputs": [
    {
     "name": "stdout",
     "output_type": "stream",
     "text": [
      "init notes.txt\n",
      "enter\n",
      "doing stuff...\n",
      "exc: None None\n",
      "exit\n",
      "continuing...\n",
      "\n",
      "init notes2.txt\n",
      "enter\n",
      "doing stuff...\n",
      "exc: <class 'AttributeError'> '_io.TextIOWrapper' object has no attribute 'do_something'\n",
      "exit\n"
     ]
    },
    {
     "ename": "AttributeError",
     "evalue": "'_io.TextIOWrapper' object has no attribute 'do_something'",
     "output_type": "error",
     "traceback": [
      "\u001b[1;31m---------------------------------------------------------------------------\u001b[0m",
      "\u001b[1;31mAttributeError\u001b[0m                            Traceback (most recent call last)",
      "\u001b[1;32m<ipython-input-24-ed1604efb530>\u001b[0m in \u001b[0;36m<module>\u001b[1;34m\u001b[0m\n\u001b[0;32m     27\u001b[0m     \u001b[0mprint\u001b[0m\u001b[1;33m(\u001b[0m\u001b[1;34m'doing stuff...'\u001b[0m\u001b[1;33m)\u001b[0m\u001b[1;33m\u001b[0m\u001b[1;33m\u001b[0m\u001b[0m\n\u001b[0;32m     28\u001b[0m     \u001b[0mf\u001b[0m\u001b[1;33m.\u001b[0m\u001b[0mwrite\u001b[0m\u001b[1;33m(\u001b[0m\u001b[1;34m'some todo...'\u001b[0m\u001b[1;33m)\u001b[0m\u001b[1;33m\u001b[0m\u001b[1;33m\u001b[0m\u001b[0m\n\u001b[1;32m---> 29\u001b[1;33m     \u001b[0mf\u001b[0m\u001b[1;33m.\u001b[0m\u001b[0mdo_something\u001b[0m\u001b[1;33m(\u001b[0m\u001b[1;33m)\u001b[0m\u001b[1;33m\u001b[0m\u001b[1;33m\u001b[0m\u001b[0m\n\u001b[0m\u001b[0;32m     30\u001b[0m \u001b[0mprint\u001b[0m\u001b[1;33m(\u001b[0m\u001b[1;34m'continuing...'\u001b[0m\u001b[1;33m)\u001b[0m\u001b[1;33m\u001b[0m\u001b[1;33m\u001b[0m\u001b[0m\n",
      "\u001b[1;31mAttributeError\u001b[0m: '_io.TextIOWrapper' object has no attribute 'do_something'"
     ]
    }
   ],
   "source": [
    "class ManagedFile:\n",
    "    def __init__(self, filename):\n",
    "        print('init', filename)\n",
    "        self.filename = filename\n",
    "        \n",
    "    def __enter__(self):\n",
    "        print('enter')\n",
    "        self.file = open(self.filename, 'w')\n",
    "        return self.file\n",
    "        \n",
    "    def __exit__(self, exc_type, exc_value, exc_traceback):\n",
    "        if self.file:\n",
    "            self.file.close()\n",
    "        print('exc:', exc_type, exc_value)\n",
    "        print('exit')\n",
    "\n",
    "# No exception\n",
    "with ManagedFile('notes.txt') as f:\n",
    "    print('doing stuff...')\n",
    "    f.write('some todo...')\n",
    "print('continuing...')\n",
    "\n",
    "print()\n",
    "\n",
    "# Exception is raised, but the file can still be closed\n",
    "with ManagedFile('notes2.txt') as f:\n",
    "    print('doing stuff...')\n",
    "    f.write('some todo...')\n",
    "    f.do_something()\n",
    "print('continuing...')"
   ]
  },
  {
   "cell_type": "markdown",
   "metadata": {
    "id": "8w8_xWCmLA5o"
   },
   "source": [
    "We can handle the exception in the `__exit__` method and return `True`."
   ]
  },
  {
   "cell_type": "code",
   "execution_count": null,
   "metadata": {
    "id": "RM8AnI1ULA5o",
    "outputId": "9351883a-e46c-422e-9fe1-fec463d9ecf6"
   },
   "outputs": [
    {
     "name": "stdout",
     "output_type": "stream",
     "text": [
      "init notes2.txt\n",
      "enter\n",
      "doing stuff...\n",
      "Exception has been handled\n",
      "exit\n",
      "continuing...\n"
     ]
    }
   ],
   "source": [
    "class ManagedFile:\n",
    "    def __init__(self, filename):\n",
    "        print('init', filename)\n",
    "        self.filename = filename\n",
    "        \n",
    "    def __enter__(self):\n",
    "        print('enter')\n",
    "        self.file = open(self.filename, 'w')\n",
    "        return self.file\n",
    "        \n",
    "    def __exit__(self, exc_type, exc_value, exc_traceback):\n",
    "        if self.file:\n",
    "            self.file.close()\n",
    "        if exc_type is not None:\n",
    "            print('Exception has been handled')\n",
    "        print('exit')\n",
    "        return True\n",
    "\n",
    "\n",
    "with ManagedFile('notes2.txt') as f:\n",
    "    print('doing stuff...')\n",
    "    f.write('some todo...')\n",
    "    f.do_something()\n",
    "print('continuing...')"
   ]
  },
  {
   "cell_type": "markdown",
   "metadata": {
    "id": "Owhm6aO3LA5p"
   },
   "source": [
    "## Implementing a context manager as a generator\n",
    "Instead of writing a class, we can also write a generator function and decorate it with the `contextlib.contextmanager` decorator. Then we can also call the function using a `with` statement. For this approach, the function must `yield` the resource in a `try` statement, and all the content of the `__exit__` method to free up the resource goes now inside the corresponding `finally` statement."
   ]
  },
  {
   "cell_type": "code",
   "execution_count": null,
   "metadata": {
    "collapsed": true,
    "id": "E9bpPWQLLA5r"
   },
   "outputs": [],
   "source": [
    "from contextlib import contextmanager\n",
    "\n",
    "@contextmanager\n",
    "def open_managed_file(filename):\n",
    "    f = open(filename, 'w')\n",
    "    try:\n",
    "        yield f\n",
    "    finally:\n",
    "        f.close()\n",
    "        \n",
    "with open_managed_file('notes.txt') as f:\n",
    "    f.write('some todo...')"
   ]
  },
  {
   "cell_type": "markdown",
   "metadata": {
    "id": "IXEhra1xLA5s"
   },
   "source": [
    "The generator first acquires the resource. It then temporarily suspends its own execution and *yields* the resource so it can be used by the caller. When the caller leaves the `with` context, the generator continues to execute and frees up the resource in the `finally` statement."
   ]
  }
 ],
 "metadata": {
  "colab": {
   "name": "21-Context manager.ipynb",
   "provenance": []
  },
  "kernelspec": {
   "display_name": "Python 3",
   "language": "python",
   "name": "python3"
  },
  "language_info": {
   "codemirror_mode": {
    "name": "ipython",
    "version": 3
   },
   "file_extension": ".py",
   "mimetype": "text/x-python",
   "name": "python",
   "nbconvert_exporter": "python",
   "pygments_lexer": "ipython3",
   "version": "3.8.2"
  },
  "toc": {
   "base_numbering": 1,
   "nav_menu": {},
   "number_sections": false,
   "sideBar": true,
   "skip_h1_title": true,
   "title_cell": "Table of Contents",
   "title_sidebar": "Contents",
   "toc_cell": true,
   "toc_position": {},
   "toc_section_display": true,
   "toc_window_display": false
  }
 },
 "nbformat": 4,
 "nbformat_minor": 1
}
