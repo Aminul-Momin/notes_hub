{
 "cells": [
  {
   "cell_type": "markdown",
   "id": "cbd66307",
   "metadata": {
    "toc": true
   },
   "source": [
    "<h1>Table of Contents<span class=\"tocSkip\"></span></h1>\n",
    "<div class=\"toc\"><ul class=\"toc-item\"><li><span><a href=\"#Object-oriented-Programming-(OOP):\" data-toc-modified-id=\"Object-oriented-Programming-(OOP):-1\">Object oriented Programming (OOP):</a></span><ul class=\"toc-item\"><li><ul class=\"toc-item\"><li><span><a href=\"#OOP\" data-toc-modified-id=\"OOP-1.0.1\">OOP</a></span><ul class=\"toc-item\"><li><span><a href=\"#classmethod(...)-vs-staticmethod(...)\" data-toc-modified-id=\"classmethod(...)-vs-staticmethod(...)-1.0.1.1\"><code>classmethod(...)</code> vs <code>staticmethod(...)</code></a></span></li></ul></li><li><span><a href=\"#Class-Hierarchy-Analysis\" data-toc-modified-id=\"Class-Hierarchy-Analysis-1.0.2\">Class Hierarchy Analysis</a></span></li><li><span><a href=\"#Metaclasses\" data-toc-modified-id=\"Metaclasses-1.0.3\">Metaclasses</a></span></li></ul></li></ul></li><li><span><a href=\"#Python-Builtin-Classes-Hierarchy:\" data-toc-modified-id=\"Python-Builtin-Classes-Hierarchy:-2\">Python Builtin Classes Hierarchy:</a></span></li><li><span><a href=\"#Design-Pattern\" data-toc-modified-id=\"Design-Pattern-3\"><a href=\"https://www.youtube.com/playlist?list=PLC0nd42SBTaNuP4iB4L6SJlMaHE71FG6N\" rel=\"nofollow\" target=\"_blank\">Design Pattern</a></a></span></li><li><span><a href=\"#Publishing-on-PyPI\" data-toc-modified-id=\"Publishing-on-PyPI-4\">Publishing on PyPI</a></span></li></ul></div>"
   ]
  },
  {
   "cell_type": "markdown",
   "id": "c40cf3ba",
   "metadata": {},
   "source": [
    "## Object oriented Programming (OOP):"
   ]
  },
  {
   "cell_type": "code",
   "execution_count": 149,
   "id": "b09197cc",
   "metadata": {},
   "outputs": [],
   "source": [
    "import numbers"
   ]
  },
  {
   "cell_type": "markdown",
   "id": "f354e771",
   "metadata": {
    "heading_collapsed": true
   },
   "source": [
    "#### OOP"
   ]
  },
  {
   "cell_type": "markdown",
   "id": "4d70096a",
   "metadata": {
    "hidden": true
   },
   "source": [
    "- Everything in Python is an object or an instance. Classes, functions, and even simple data types, such as integer and float, are also objects of some class in Python. Each object has a class from which it is instantiated. \n",
    "- To get the class or the type of object, Python provides us with the <font color='red'>type(...)</font> function and <font color='red'> \\_\\_class\\_\\_ </font> property defined on the object itself.\n",
    "- <font color='orange'>The first argument of a method, passed explicitly in method definition, always refer to the instance of the class it's invoked upon; except, when `@classmethod` decorator is applied in which case it refer to the class itself.</font>\n",
    "- When `@staticmethod` decorator is applied to a method, the first argument of the method doesn't refer to the instances or the class. The method act as a regular function; it's kept inside the class in order to be only accessible through the class (Human.my_func(...)) because the operations it performs is logically related to that class sumhow."
   ]
  },
  {
   "cell_type": "code",
   "execution_count": 7,
   "id": "c3683144",
   "metadata": {
    "hidden": true
   },
   "outputs": [],
   "source": [
    "def square(x): return x*x"
   ]
  },
  {
   "cell_type": "code",
   "execution_count": 140,
   "id": "37355e39",
   "metadata": {
    "hidden": true
   },
   "outputs": [],
   "source": [
    "class Human():\n",
    "    living_planet = ''\n",
    "    country = 'USA'\n",
    "    \n",
    "    def __init__(self, name: str, ssn:int, country='UK'):\n",
    "        self.name = name\n",
    "        self.ssn = ssn\n",
    "        country = country\n",
    "    \n",
    "    def set_country(self, country):\n",
    "        self.country = country\n",
    "    \n",
    "    def set_nationality(self, nationality):\n",
    "        '''\n",
    "        1) 'self' is not a key word.\n",
    "        2) using 'cls' instead of 'self' doesn't make any difference since neither of them are key words\n",
    "        '''\n",
    "        self.nationality = nationality\n",
    "    \n",
    "    @classmethod\n",
    "    def set_planet(cls, planet):\n",
    "        '''\n",
    "        1) 'cls' is not a key word\n",
    "        2) using 'self' instead of 'cls' doesn't make any difference since neither of them \n",
    "           are key words as long as `@classmethod` is applied.\n",
    "        '''\n",
    "        cls.living_planet = planet\n",
    "    \n",
    "    def __eq__(self, other):\n",
    "        return self.name == other.name and self.ssn == other.ssn"
   ]
  },
  {
   "cell_type": "code",
   "execution_count": 141,
   "id": "af671d8c",
   "metadata": {
    "hidden": true
   },
   "outputs": [],
   "source": [
    "s = Human('shah', 1000)\n",
    "s.set_planet('Earth')"
   ]
  },
  {
   "cell_type": "code",
   "execution_count": 142,
   "id": "54f3c8e2",
   "metadata": {
    "hidden": true
   },
   "outputs": [
    {
     "data": {
      "text/plain": [
       "('Earth', 'USA')"
      ]
     },
     "execution_count": 142,
     "metadata": {},
     "output_type": "execute_result"
    }
   ],
   "source": [
    "s.living_planet, s.country"
   ]
  },
  {
   "cell_type": "code",
   "execution_count": 143,
   "id": "05fd341e",
   "metadata": {
    "hidden": true
   },
   "outputs": [],
   "source": [
    "h1 = Human('Juan', 1001)\n",
    "h2 = Human('Orfeo', 1002)"
   ]
  },
  {
   "cell_type": "code",
   "execution_count": 144,
   "id": "cabe7b9d",
   "metadata": {
    "hidden": true
   },
   "outputs": [
    {
     "data": {
      "text/plain": [
       "('Earth', 'Earth', 'USA')"
      ]
     },
     "execution_count": 144,
     "metadata": {},
     "output_type": "execute_result"
    }
   ],
   "source": [
    "h1.living_planet, Human.living_planet, h1.country"
   ]
  },
  {
   "cell_type": "markdown",
   "id": "5ab44796",
   "metadata": {
    "heading_collapsed": true,
    "hidden": true
   },
   "source": [
    "##### `classmethod(...)` vs `staticmethod(...)`"
   ]
  },
  {
   "cell_type": "code",
   "execution_count": null,
   "id": "663671f5",
   "metadata": {
    "hidden": true
   },
   "outputs": [],
   "source": [
    "class A(object):\n",
    "    def foo(self, x):\n",
    "        self.given_int = x\n",
    "        print(f\"executing foo({self}, {x})\")\n",
    "\n",
    "    @classmethod\n",
    "    def class_foo(cls, x):\n",
    "        print(f\"executing class_foo({cls}, {x})\")\n",
    "\n",
    "    @staticmethod\n",
    "    def static_foo(x):\n",
    "        print(f\"executing static_foo({x})\")"
   ]
  },
  {
   "cell_type": "code",
   "execution_count": 7,
   "id": "c3504e52",
   "metadata": {
    "hidden": true
   },
   "outputs": [],
   "source": [
    "a = A()"
   ]
  },
  {
   "cell_type": "code",
   "execution_count": 8,
   "id": "92238e86",
   "metadata": {
    "hidden": true
   },
   "outputs": [
    {
     "name": "stdout",
     "output_type": "stream",
     "text": [
      "executing foo(<__main__.A object at 0x10a9fc0a0>, 1)\n"
     ]
    }
   ],
   "source": [
    "a.foo(1) # executing foo(<__main__.A object at 0xb7dbef0c>, 1)"
   ]
  },
  {
   "cell_type": "code",
   "execution_count": 9,
   "id": "7260447b",
   "metadata": {
    "hidden": true
   },
   "outputs": [
    {
     "name": "stdout",
     "output_type": "stream",
     "text": [
      "executing class_foo(<class '__main__.A'>, 1)\n"
     ]
    }
   ],
   "source": [
    "a.class_foo(1) # executing class_foo(<class '__main__.A'>, 1)"
   ]
  },
  {
   "cell_type": "markdown",
   "id": "0907b099",
   "metadata": {
    "hidden": true
   },
   "source": [
    "- With classmethods, the class of the object instance is implicitly passed as the first argument instead of self.\n",
    "- <font color='orange'>If you define something to be a classmethod, it is probably because you intend to call it from the class rather than from a class instance</font>. `A.foo(1)` would have raised a TypeError, but `A.class_foo(1)` works just fine."
   ]
  },
  {
   "cell_type": "code",
   "execution_count": 10,
   "id": "96f7a021",
   "metadata": {
    "hidden": true
   },
   "outputs": [
    {
     "name": "stdout",
     "output_type": "stream",
     "text": [
      "executing class_foo(<class '__main__.A'>, 1)\n"
     ]
    }
   ],
   "source": [
    "A.class_foo(1) # executing class_foo(<class '__main__.A'>, 1)"
   ]
  },
  {
   "cell_type": "markdown",
   "id": "39324029",
   "metadata": {
    "hidden": true
   },
   "source": [
    "- With staticmethods, neither `self` (the object instance) nor `cls` (the class) is implicitly passed as the first argument. They behave like plain functions except that you can call them from an instance or the class:"
   ]
  },
  {
   "cell_type": "code",
   "execution_count": 11,
   "id": "d570809e",
   "metadata": {
    "hidden": true
   },
   "outputs": [
    {
     "name": "stdout",
     "output_type": "stream",
     "text": [
      "executing static_foo(1)\n"
     ]
    }
   ],
   "source": [
    "a.static_foo(1) # executing static_foo(1)"
   ]
  },
  {
   "cell_type": "code",
   "execution_count": 12,
   "id": "ebd4afc4",
   "metadata": {
    "hidden": true
   },
   "outputs": [
    {
     "name": "stdout",
     "output_type": "stream",
     "text": [
      "executing static_foo(hi)\n"
     ]
    }
   ],
   "source": [
    "A.static_foo('hi') # executing static_foo(hi)"
   ]
  },
  {
   "cell_type": "markdown",
   "id": "80557582",
   "metadata": {
    "hidden": true
   },
   "source": [
    "`foo` is just a function, but when you call `a.foo` you don't just get the function, you get a \"partially applied\" version of the function with the object instance a bound as the first argument to the function. `foo` expects 2 arguments, while `a.foo` only expects 1 argument.\n",
    "\n",
    "`a` is bound to `foo`. That is what it meant by the term \"bound\" below:\n",
    "\n"
   ]
  },
  {
   "cell_type": "code",
   "execution_count": 13,
   "id": "6fcd9ef3",
   "metadata": {
    "hidden": true
   },
   "outputs": [
    {
     "name": "stdout",
     "output_type": "stream",
     "text": [
      "<bound method A.foo of <__main__.A object at 0x10a9fc0a0>>\n"
     ]
    }
   ],
   "source": [
    "print(a.foo) # <bound method A.foo of <__main__.A object at 0xb7d52f0c>>"
   ]
  },
  {
   "cell_type": "code",
   "execution_count": 14,
   "id": "17da5c95",
   "metadata": {
    "hidden": true
   },
   "outputs": [
    {
     "name": "stdout",
     "output_type": "stream",
     "text": [
      "<bound method A.class_foo of <class '__main__.A'>>\n"
     ]
    }
   ],
   "source": [
    "print(a.class_foo) # <bound method type.class_foo of <class '__main__.A'>>"
   ]
  },
  {
   "cell_type": "markdown",
   "id": "2b6b7e82",
   "metadata": {
    "hidden": true
   },
   "source": [
    "With a staticmethod, even though it is a method, `a.static_foo` just returns a good 'ole function with no arguments bound. `static_foo` expects 1 argument, and `a.static_foo` expects 1 argument too."
   ]
  },
  {
   "cell_type": "code",
   "execution_count": null,
   "id": "4f771441",
   "metadata": {
    "hidden": true
   },
   "outputs": [],
   "source": [
    "print(a.static_foo) # <function static_foo at 0xb7d479cc>"
   ]
  },
  {
   "cell_type": "markdown",
   "id": "176d1267",
   "metadata": {
    "hidden": true
   },
   "source": [
    "And of course the same thing happens when you call `static_foo` with the class `A` instead."
   ]
  },
  {
   "cell_type": "code",
   "execution_count": 15,
   "id": "b7ee41d4",
   "metadata": {
    "hidden": true
   },
   "outputs": [
    {
     "name": "stdout",
     "output_type": "stream",
     "text": [
      "<function A.static_foo at 0x10a60fe50>\n"
     ]
    }
   ],
   "source": [
    "print(A.static_foo) # <function static_foo at 0xb7d479cc>"
   ]
  },
  {
   "cell_type": "markdown",
   "id": "65830995",
   "metadata": {
    "heading_collapsed": true
   },
   "source": [
    "#### Class Hierarchy Analysis"
   ]
  },
  {
   "cell_type": "markdown",
   "id": "5fc706d6",
   "metadata": {
    "hidden": true
   },
   "source": [
    "- [Data Model](https://docs.python.org/3/reference/datamodel.html)"
   ]
  },
  {
   "cell_type": "code",
   "execution_count": null,
   "id": "7cdad9fd",
   "metadata": {
    "hidden": true
   },
   "outputs": [],
   "source": [
    "integer = 5\n",
    "s = Human('shah', 1000)\n",
    "o = object()"
   ]
  },
  {
   "cell_type": "code",
   "execution_count": 10,
   "id": "089806a7",
   "metadata": {
    "hidden": true
   },
   "outputs": [
    {
     "data": {
      "text/plain": [
       "(int, int, function, function, __main__.Human, __main__.Human, object, object)"
      ]
     },
     "execution_count": 10,
     "metadata": {},
     "output_type": "execute_result"
    }
   ],
   "source": [
    "type(integer), integer.__class__, type(square), square.__class__, type(s), s.__class__"
   ]
  },
  {
   "cell_type": "code",
   "execution_count": 147,
   "id": "9babf8fb",
   "metadata": {
    "hidden": true
   },
   "outputs": [
    {
     "data": {
      "text/plain": [
       "(object, object, type, True, True)"
      ]
     },
     "execution_count": 147,
     "metadata": {},
     "output_type": "execute_result"
    }
   ],
   "source": [
    "type(o), o.__class__, type(object), isinstance(object, type), isinstance(Human, type)"
   ]
  },
  {
   "cell_type": "markdown",
   "id": "0251de72",
   "metadata": {
    "hidden": true
   },
   "source": [
    "The Human class and every other class in Python are objects (instance) of the class <font color='magenta'>type</font>. This type is a class and is different from the <font color='red'>type(...)</font> function that returns the type of object. The type class, from which all the classes are created, is called the **Metaclass** in Python."
   ]
  },
  {
   "cell_type": "code",
   "execution_count": 17,
   "id": "2d35bdfd",
   "metadata": {
    "hidden": true
   },
   "outputs": [
    {
     "data": {
      "text/plain": [
       "(True, True, True, True, True)"
      ]
     },
     "execution_count": 17,
     "metadata": {},
     "output_type": "execute_result"
    }
   ],
   "source": [
    "isinstance(integer, object), isinstance(integer, int), isinstance(int, object), isinstance(s, object), isinstance(type, object)"
   ]
  },
  {
   "cell_type": "code",
   "execution_count": 2,
   "id": "1babb6f1",
   "metadata": {
    "hidden": true
   },
   "outputs": [],
   "source": [
    "# help(object)"
   ]
  },
  {
   "cell_type": "code",
   "execution_count": null,
   "id": "480d96de",
   "metadata": {
    "hidden": true
   },
   "outputs": [],
   "source": []
  },
  {
   "cell_type": "code",
   "execution_count": null,
   "id": "7159dda2",
   "metadata": {
    "hidden": true
   },
   "outputs": [],
   "source": []
  },
  {
   "cell_type": "markdown",
   "id": "cb09e51d",
   "metadata": {
    "heading_collapsed": true
   },
   "source": [
    "#### Metaclasses"
   ]
  },
  {
   "cell_type": "markdown",
   "id": "35e2b1eb",
   "metadata": {
    "hidden": true
   },
   "source": [
    "- [Metaclasses & How Classes Really Work](https://www.youtube.com/watch?v=NAQEj-c2CI8)\n",
    "- [Understanding Object Instantiation and Metaclasses in Python](https://www.honeybadger.io/blog/python-instantiation-metaclass/#:~:text=We%20can%20also%20use%20the,which%20the%20object%20was%20created.&text=The%20above%20code%20creates%20an%20instance%20human_obj%20of%20the%20Human%20class.)\n",
    "- [RealPyhon: Python Metaclasses](https://realpython.com/python-metaclasses/)"
   ]
  },
  {
   "cell_type": "code",
   "execution_count": 18,
   "id": "ff9658f5",
   "metadata": {
    "hidden": true
   },
   "outputs": [],
   "source": [
    "class Test:\n",
    "    pass\n",
    "\n",
    "Test = type('Test', (), {})"
   ]
  },
  {
   "cell_type": "code",
   "execution_count": null,
   "id": "798249ae",
   "metadata": {
    "hidden": true
   },
   "outputs": [],
   "source": []
  },
  {
   "cell_type": "code",
   "execution_count": 19,
   "id": "8d53ef81",
   "metadata": {
    "hidden": true
   },
   "outputs": [],
   "source": [
    "class Foo:\n",
    "    pass\n"
   ]
  },
  {
   "cell_type": "code",
   "execution_count": 20,
   "id": "5b823d3e",
   "metadata": {
    "hidden": true
   },
   "outputs": [],
   "source": [
    "Test = type('Test', (Foo, ), {'x': 5, 'sqrt': math.sqrt})"
   ]
  },
  {
   "cell_type": "code",
   "execution_count": 21,
   "id": "63af9343",
   "metadata": {
    "hidden": true
   },
   "outputs": [
    {
     "data": {
      "text/plain": [
       "2.0"
      ]
     },
     "execution_count": 21,
     "metadata": {},
     "output_type": "execute_result"
    }
   ],
   "source": [
    "test = Test()\n",
    "test.sqrt(4)"
   ]
  },
  {
   "cell_type": "code",
   "execution_count": null,
   "id": "14f5633c",
   "metadata": {
    "hidden": true
   },
   "outputs": [],
   "source": []
  },
  {
   "cell_type": "markdown",
   "id": "d83186d3",
   "metadata": {
    "heading_collapsed": true
   },
   "source": [
    "## Python Builtin Classes Hierarchy:"
   ]
  },
  {
   "cell_type": "markdown",
   "id": "f706d7b2",
   "metadata": {
    "hidden": true
   },
   "source": [
    "```python\n",
    "object\n",
    "    BaseException\n",
    "        Exception\n",
    "            ArithmeticError\n",
    "                FloatingPointError\n",
    "                OverflowError\n",
    "                ZeroDivisionError\n",
    "            AssertionError\n",
    "            AttributeError\n",
    "            BufferError\n",
    "            EOFError\n",
    "            ImportError\n",
    "                ModuleNotFoundError\n",
    "            LookupError\n",
    "                IndexError\n",
    "                KeyError\n",
    "            MemoryError\n",
    "            NameError\n",
    "                UnboundLocalError\n",
    "            OSError\n",
    "                BlockingIOError\n",
    "                ChildProcessError\n",
    "                ConnectionError\n",
    "                    BrokenPipeError\n",
    "                    ConnectionAbortedError\n",
    "                    ConnectionRefusedError\n",
    "                    ConnectionResetError\n",
    "                FileExistsError\n",
    "                FileNotFoundError\n",
    "                InterruptedError\n",
    "                IsADirectoryError\n",
    "                NotADirectoryError\n",
    "                PermissionError\n",
    "                ProcessLookupError\n",
    "                TimeoutError\n",
    "            ReferenceError\n",
    "            RuntimeError\n",
    "                NotImplementedError\n",
    "                RecursionError\n",
    "            StopAsyncIteration\n",
    "            StopIteration\n",
    "            SyntaxError\n",
    "                IndentationError\n",
    "                    TabError\n",
    "            SystemError\n",
    "            TypeError\n",
    "            ValueError\n",
    "                UnicodeError\n",
    "                    UnicodeDecodeError\n",
    "                    UnicodeEncodeError\n",
    "                    UnicodeTranslateError\n",
    "            Warning\n",
    "                BytesWarning\n",
    "                DeprecationWarning\n",
    "                FutureWarning\n",
    "                ImportWarning\n",
    "                PendingDeprecationWarning\n",
    "                ResourceWarning\n",
    "                RuntimeWarning\n",
    "                SyntaxWarning\n",
    "                UnicodeWarning\n",
    "                UserWarning\n",
    "        GeneratorExit\n",
    "        KeyboardInterrupt\n",
    "        SystemExit\n",
    "    bytearray\n",
    "    bytes\n",
    "    classmethod\n",
    "    complex\n",
    "    dict\n",
    "    enumerate\n",
    "    filter\n",
    "    float\n",
    "    frozenset\n",
    "    int\n",
    "        bool\n",
    "    list\n",
    "    map\n",
    "    memoryview\n",
    "    property\n",
    "    range\n",
    "    reversed\n",
    "    set\n",
    "    slice\n",
    "    staticmethod\n",
    "    str\n",
    "    super\n",
    "    tuple\n",
    "    type\n",
    "    zip\n",
    "```"
   ]
  },
  {
   "cell_type": "code",
   "execution_count": null,
   "id": "91b06c0a",
   "metadata": {
    "hidden": true
   },
   "outputs": [],
   "source": []
  },
  {
   "cell_type": "markdown",
   "id": "0f076439",
   "metadata": {
    "heading_collapsed": true
   },
   "source": [
    "## [Design Pattern](https://www.youtube.com/playlist?list=PLC0nd42SBTaNuP4iB4L6SJlMaHE71FG6N)"
   ]
  },
  {
   "cell_type": "code",
   "execution_count": null,
   "id": "c672abb7",
   "metadata": {
    "hidden": true
   },
   "outputs": [],
   "source": []
  },
  {
   "cell_type": "markdown",
   "id": "fe197f5b",
   "metadata": {
    "heading_collapsed": true
   },
   "source": [
    "## Publishing on PyPI"
   ]
  },
  {
   "cell_type": "markdown",
   "id": "72728c48",
   "metadata": {
    "hidden": true
   },
   "source": [
    "- [Packaging Python Projects](https://packaging.python.org/tutorials/packaging-projects/)\n",
    "- [python packaging](https://www.youtube.com/watch?v=bfyIrX4_yL8)\n",
    "\n",
    "- [Introduction to Makefiles](https://www.youtube.com/watch?v=_r7i5X0rXJk)"
   ]
  },
  {
   "cell_type": "markdown",
   "id": "b4293fa9",
   "metadata": {
    "hidden": true
   },
   "source": [
    "- setuptools\n",
    "- distutils"
   ]
  },
  {
   "cell_type": "markdown",
   "id": "5964d880",
   "metadata": {
    "hidden": true
   },
   "source": [
    "- [Building and Distributing Packages with Setuptools](https://setuptools.pypa.io/en/latest/userguide/)\n",
    "    - [entry_point](https://setuptools.pypa.io/en/latest/userguide/entry_point.html)\n",
    " \n",
    "- [Command Line Scripts](https://python-packaging.readthedocs.io/en/latest/command-line-scripts.html)"
   ]
  },
  {
   "cell_type": "code",
   "execution_count": null,
   "id": "a4869f9c",
   "metadata": {
    "hidden": true
   },
   "outputs": [],
   "source": []
  },
  {
   "cell_type": "code",
   "execution_count": 4,
   "id": "21ec6326",
   "metadata": {
    "hidden": true
   },
   "outputs": [],
   "source": [
    "from distutils.core import setup\n",
    "from setuptools import find_packages, setup\n",
    "# from Cython.Build import cythonize"
   ]
  },
  {
   "cell_type": "code",
   "execution_count": null,
   "id": "b09a8142",
   "metadata": {
    "hidden": true
   },
   "outputs": [],
   "source": [
    "pip install PyYAML"
   ]
  },
  {
   "cell_type": "code",
   "execution_count": null,
   "id": "d9bcbef0",
   "metadata": {
    "hidden": true
   },
   "outputs": [],
   "source": []
  },
  {
   "cell_type": "code",
   "execution_count": null,
   "id": "472f66d9",
   "metadata": {
    "hidden": true
   },
   "outputs": [],
   "source": []
  }
 ],
 "metadata": {
  "kernelspec": {
   "display_name": "Python 3 (ipykernel)",
   "language": "python",
   "name": "python3"
  },
  "language_info": {
   "codemirror_mode": {
    "name": "ipython",
    "version": 3
   },
   "file_extension": ".py",
   "mimetype": "text/x-python",
   "name": "python",
   "nbconvert_exporter": "python",
   "pygments_lexer": "ipython3",
   "version": "3.10.9"
  },
  "toc": {
   "base_numbering": 1,
   "nav_menu": {},
   "number_sections": false,
   "sideBar": true,
   "skip_h1_title": true,
   "title_cell": "Table of Contents",
   "title_sidebar": "Contents",
   "toc_cell": true,
   "toc_position": {},
   "toc_section_display": true,
   "toc_window_display": false
  }
 },
 "nbformat": 4,
 "nbformat_minor": 5
}
