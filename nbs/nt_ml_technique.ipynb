{
 "cells": [
  {
   "cell_type": "markdown",
   "metadata": {
    "toc": true
   },
   "source": [
    "<h1>Table of Contents<span class=\"tocSkip\"></span></h1>\n",
    "<div class=\"toc\"><ul class=\"toc-item\"><li><span><a href=\"#Chapter-18---Introduction-to-Scikit-learn\" data-toc-modified-id=\"Chapter-18---Introduction-to-Scikit-learn-1\"><span class=\"toc-item-num\">1&nbsp;&nbsp;</span>Chapter 18 - Introduction to Scikit-learn</a></span><ul class=\"toc-item\"><li><ul class=\"toc-item\"><li><ul class=\"toc-item\"><li><span><a href=\"#Load-Datasets\" data-toc-modified-id=\"Load-Datasets-1.0.0.1\"><span class=\"toc-item-num\">1.0.0.1&nbsp;&nbsp;</span>Load Datasets</a></span></li><li><span><a href=\"#Preprocessing-the-Data\" data-toc-modified-id=\"Preprocessing-the-Data-1.0.0.2\"><span class=\"toc-item-num\">1.0.0.2&nbsp;&nbsp;</span>Preprocessing the Data</a></span></li><li><span><a href=\"#Encoding-Categorical-Variables\" data-toc-modified-id=\"Encoding-Categorical-Variables-1.0.0.3\"><span class=\"toc-item-num\">1.0.0.3&nbsp;&nbsp;</span>Encoding Categorical Variables</a></span></li><li><span><a href=\"#Imput-Missing-Data\" data-toc-modified-id=\"Imput-Missing-Data-1.0.0.4\"><span class=\"toc-item-num\">1.0.0.4&nbsp;&nbsp;</span>Imput Missing Data</a></span></li><li><span><a href=\"#Generating-Higer-Order-Polynomial-Features\" data-toc-modified-id=\"Generating-Higer-Order-Polynomial-Features-1.0.0.5\"><span class=\"toc-item-num\">1.0.0.5&nbsp;&nbsp;</span>Generating Higer Order Polynomial Features</a></span></li></ul></li></ul></li></ul></li><li><span><a href=\"#CH-24---ML-Techniques-by-Ekaba-Bisong\" data-toc-modified-id=\"CH-24---ML-Techniques-by-Ekaba-Bisong-2\"><span class=\"toc-item-num\">2&nbsp;&nbsp;</span>CH 24 - ML Techniques by Ekaba Bisong</a></span><ul class=\"toc-item\"><li><ul class=\"toc-item\"><li><ul class=\"toc-item\"><li><span><a href=\"#Statistical-tests-to-select-the-best--features-using-the-SelectKBest-module\" data-toc-modified-id=\"Statistical-tests-to-select-the-best--features-using-the-SelectKBest-module-2.0.0.1\"><span class=\"toc-item-num\">2.0.0.1&nbsp;&nbsp;</span>Statistical tests to select the best  features using the SelectKBest module</a></span></li><li><span><a href=\"#Recursive-Feature-Elimination-(RFE)\" data-toc-modified-id=\"Recursive-Feature-Elimination-(RFE)-2.0.0.2\"><span class=\"toc-item-num\">2.0.0.2&nbsp;&nbsp;</span>Recursive Feature Elimination (RFE)</a></span></li><li><span><a href=\"#Feature-Importances\" data-toc-modified-id=\"Feature-Importances-2.0.0.3\"><span class=\"toc-item-num\">2.0.0.3&nbsp;&nbsp;</span>Feature Importances</a></span></li><li><span><a href=\"#Resampling-Methods\" data-toc-modified-id=\"Resampling-Methods-2.0.0.4\"><span class=\"toc-item-num\">2.0.0.4&nbsp;&nbsp;</span>Resampling Methods</a></span></li><li><span><a href=\"#Model-evaluation\" data-toc-modified-id=\"Model-evaluation-2.0.0.5\"><span class=\"toc-item-num\">2.0.0.5&nbsp;&nbsp;</span>Model evaluation</a></span></li><li><span><a href=\"#Pipelines:-Streamlining-Machine-Learning-Workflows\" data-toc-modified-id=\"Pipelines:-Streamlining-Machine-Learning-Workflows-2.0.0.6\"><span class=\"toc-item-num\">2.0.0.6&nbsp;&nbsp;</span>Pipelines: Streamlining Machine Learning Workflows</a></span></li><li><span><a href=\"#Model-tuning\" data-toc-modified-id=\"Model-tuning-2.0.0.7\"><span class=\"toc-item-num\">2.0.0.7&nbsp;&nbsp;</span>Model tuning</a></span></li></ul></li></ul></li></ul></li></ul></div>"
   ]
  },
  {
   "cell_type": "code",
   "execution_count": 86,
   "metadata": {},
   "outputs": [],
   "source": [
    "import pandas as pd\n",
    "import numpy as np\n",
    "import matplotlib.pyplot as plt"
   ]
  },
  {
   "cell_type": "code",
   "execution_count": 87,
   "metadata": {
    "colab": {},
    "colab_type": "code",
    "id": "hVPemUph6L4n"
   },
   "outputs": [],
   "source": [
    "from sklearn import datasets\n",
    "from sklearn import datasets as ds"
   ]
  },
  {
   "cell_type": "code",
   "execution_count": 88,
   "metadata": {
    "colab": {},
    "colab_type": "code",
    "id": "hVPemUph6L4n"
   },
   "outputs": [],
   "source": [
    "from sklearn.feature_selection import SelectKBest, SelectFromModel, chi2, RFE"
   ]
  },
  {
   "cell_type": "code",
   "execution_count": 89,
   "metadata": {
    "colab": {},
    "colab_type": "code",
    "id": "Yf-vhn8vHPjT"
   },
   "outputs": [],
   "source": [
    "from sklearn.metrics import mean_squared_error, mean_absolute_error, r2_score,\\\n",
    "                            accuracy_score, log_loss, classification_report"
   ]
  },
  {
   "cell_type": "code",
   "execution_count": 90,
   "metadata": {
    "colab": {},
    "colab_type": "code",
    "id": "okqH3-w8HwR6"
   },
   "outputs": [],
   "source": [
    "from sklearn.model_selection import train_test_split, cross_val_score,\\\n",
    "                                    GridSearchCV, KFold, RandomizedSearchCV, LeaveOneOut"
   ]
  },
  {
   "cell_type": "code",
   "execution_count": 91,
   "metadata": {
    "colab": {},
    "colab_type": "code",
    "id": "qVHvG-yBGFMa"
   },
   "outputs": [],
   "source": [
    "from sklearn.linear_model import LinearRegression, LogisticRegression\n",
    "from sklearn.neighbors import KNeighborsClassifier\n",
    "from sklearn.ensemble import RandomForestRegressor, AdaBoostClassifier,GradientBoostingRegressor\n",
    "from sklearn.svm import SVR, SVC"
   ]
  },
  {
   "cell_type": "code",
   "execution_count": 92,
   "metadata": {
    "colab": {},
    "colab_type": "code",
    "id": "SX0_PRNjNAqY"
   },
   "outputs": [],
   "source": [
    "from sklearn.pipeline import make_pipeline, Pipeline, make_union"
   ]
  },
  {
   "cell_type": "code",
   "execution_count": 93,
   "metadata": {},
   "outputs": [],
   "source": [
    "np.set_printoptions(3)"
   ]
  },
  {
   "cell_type": "markdown",
   "metadata": {
    "colab_type": "text",
    "heading_collapsed": true,
    "id": "C_4E6ZcV-aIz"
   },
   "source": [
    "# Chapter 18 - Introduction to Scikit-learn\n",
    "by Ekaba Bisong"
   ]
  },
  {
   "cell_type": "markdown",
   "metadata": {
    "colab_type": "text",
    "heading_collapsed": true,
    "hidden": true,
    "id": "vnKmSViQzDmO"
   },
   "source": [
    "#### Load Datasets"
   ]
  },
  {
   "cell_type": "code",
   "execution_count": 0,
   "metadata": {
    "colab": {},
    "colab_type": "code",
    "hidden": true,
    "id": "LOSj0O-kyzcY"
   },
   "outputs": [],
   "source": [
    "# load library\n",
    "from sklearn import datasets\n",
    "import numpy as np"
   ]
  },
  {
   "cell_type": "code",
   "execution_count": 0,
   "metadata": {
    "colab": {
     "base_uri": "https://localhost:8080/",
     "height": 34
    },
    "colab_type": "code",
    "hidden": true,
    "id": "Jlhn7IFizE6E",
    "outputId": "40ddeed9-29a4-4261-b64b-42cf0b2d9b10"
   },
   "outputs": [
    {
     "data": {
      "text/plain": [
       "(150, 4)"
      ]
     },
     "execution_count": 2,
     "metadata": {
      "tags": []
     },
     "output_type": "execute_result"
    }
   ],
   "source": [
    "# load iris\n",
    "iris = datasets.load_iris()\n",
    "iris.data.shape"
   ]
  },
  {
   "cell_type": "code",
   "execution_count": 0,
   "metadata": {
    "colab": {
     "base_uri": "https://localhost:8080/",
     "height": 85
    },
    "colab_type": "code",
    "hidden": true,
    "id": "G9Gp3Yi7zLm4",
    "outputId": "320184cb-1ed0-443c-ab00-ed100ae1c827"
   },
   "outputs": [
    {
     "data": {
      "text/plain": [
       "['sepal length (cm)',\n",
       " 'sepal width (cm)',\n",
       " 'petal length (cm)',\n",
       " 'petal width (cm)']"
      ]
     },
     "execution_count": 3,
     "metadata": {
      "tags": []
     },
     "output_type": "execute_result"
    }
   ],
   "source": [
    "iris.feature_names"
   ]
  },
  {
   "cell_type": "code",
   "execution_count": 0,
   "metadata": {
    "colab": {
     "base_uri": "https://localhost:8080/",
     "height": 34
    },
    "colab_type": "code",
    "hidden": true,
    "id": "L_4IyWTwzNLv",
    "outputId": "1aeedb90-7440-404c-94f0-1f32f0ab1b6f"
   },
   "outputs": [
    {
     "data": {
      "text/plain": [
       "(112, 4)"
      ]
     },
     "execution_count": 4,
     "metadata": {
      "tags": []
     },
     "output_type": "execute_result"
    }
   ],
   "source": [
    "# import module\n",
    "from sklearn.model_selection import train_test_split\n",
    "# split in train and test sets\n",
    "X_train, X_test, y_train, y_test = train_test_split(iris.data, iris.target, shuffle=True)\n",
    "X_train.shape\n"
   ]
  },
  {
   "cell_type": "code",
   "execution_count": 0,
   "metadata": {
    "colab": {
     "base_uri": "https://localhost:8080/",
     "height": 34
    },
    "colab_type": "code",
    "hidden": true,
    "id": "coGLBXUKzXq7",
    "outputId": "ff5b9b57-5dc1-475b-aebc-bd39d93f11c4"
   },
   "outputs": [
    {
     "data": {
      "text/plain": [
       "(38, 4)"
      ]
     },
     "execution_count": 5,
     "metadata": {
      "tags": []
     },
     "output_type": "execute_result"
    }
   ],
   "source": [
    "X_test.shape"
   ]
  },
  {
   "cell_type": "code",
   "execution_count": 0,
   "metadata": {
    "colab": {
     "base_uri": "https://localhost:8080/",
     "height": 34
    },
    "colab_type": "code",
    "hidden": true,
    "id": "EhNkOIZTzZEq",
    "outputId": "98621fb1-fd82-4856-fe98-628208edda34"
   },
   "outputs": [
    {
     "data": {
      "text/plain": [
       "(112,)"
      ]
     },
     "execution_count": 6,
     "metadata": {
      "tags": []
     },
     "output_type": "execute_result"
    }
   ],
   "source": [
    "y_train.shape"
   ]
  },
  {
   "cell_type": "code",
   "execution_count": 0,
   "metadata": {
    "colab": {
     "base_uri": "https://localhost:8080/",
     "height": 34
    },
    "colab_type": "code",
    "hidden": true,
    "id": "aZ6srGTszaSr",
    "outputId": "fc48b5c0-ede0-469e-8c43-2b2628ed5b56"
   },
   "outputs": [
    {
     "data": {
      "text/plain": [
       "(38,)"
      ]
     },
     "execution_count": 7,
     "metadata": {
      "tags": []
     },
     "output_type": "execute_result"
    }
   ],
   "source": [
    "y_test.shape"
   ]
  },
  {
   "cell_type": "markdown",
   "metadata": {
    "colab_type": "text",
    "heading_collapsed": true,
    "hidden": true,
    "id": "v4Ih8_R2zdWw"
   },
   "source": [
    "#### Preprocessing the Data"
   ]
  },
  {
   "cell_type": "markdown",
   "metadata": {
    "colab_type": "text",
    "heading_collapsed": true,
    "hidden": true,
    "id": "81JhfElMzh5d"
   },
   "source": [
    "##### Data Rescaling"
   ]
  },
  {
   "cell_type": "code",
   "execution_count": 0,
   "metadata": {
    "colab": {
     "base_uri": "https://localhost:8080/",
     "height": 102
    },
    "colab_type": "code",
    "hidden": true,
    "id": "FQKfMESVzbPk",
    "outputId": "566c6f52-09bc-406c-b6f0-49aa053691ae"
   },
   "outputs": [
    {
     "data": {
      "text/plain": [
       "array([[5.1, 3.5, 1.4, 0.2],\n",
       "       [4.9, 3. , 1.4, 0.2],\n",
       "       [4.7, 3.2, 1.3, 0.2],\n",
       "       [4.6, 3.1, 1.5, 0.2],\n",
       "       [5. , 3.6, 1.4, 0.2]])"
      ]
     },
     "execution_count": 8,
     "metadata": {
      "tags": []
     },
     "output_type": "execute_result"
    }
   ],
   "source": [
    "# import packages\n",
    "from sklearn import datasets\n",
    "from sklearn.preprocessing import MinMaxScaler\n",
    "\n",
    "# load dataset\n",
    "data = datasets.load_iris()\n",
    "# separate features and target\n",
    "X = data.data\n",
    "y = data.target\n",
    "\n",
    "# print first 5 rows of X before rescaling\n",
    "X[0:5,:]"
   ]
  },
  {
   "cell_type": "code",
   "execution_count": 0,
   "metadata": {
    "colab": {
     "base_uri": "https://localhost:8080/",
     "height": 102
    },
    "colab_type": "code",
    "hidden": true,
    "id": "L1fLQjjuzlbX",
    "outputId": "d3635dda-f6a8-4e1d-a813-c3102f6fafaf"
   },
   "outputs": [
    {
     "data": {
      "text/plain": [
       "array([[0.22222222, 0.625     , 0.06779661, 0.04166667],\n",
       "       [0.16666667, 0.41666667, 0.06779661, 0.04166667],\n",
       "       [0.11111111, 0.5       , 0.05084746, 0.04166667],\n",
       "       [0.08333333, 0.45833333, 0.08474576, 0.04166667],\n",
       "       [0.19444444, 0.66666667, 0.06779661, 0.04166667]])"
      ]
     },
     "execution_count": 9,
     "metadata": {
      "tags": []
     },
     "output_type": "execute_result"
    }
   ],
   "source": [
    "# rescale X\n",
    "scaler = MinMaxScaler(feature_range=(0, 1))\n",
    "rescaled_X = scaler.fit_transform(X)\n",
    "\n",
    "# print first 5 rows of X after rescaling\n",
    "rescaled_X[0:5,:]"
   ]
  },
  {
   "cell_type": "markdown",
   "metadata": {
    "colab_type": "text",
    "heading_collapsed": true,
    "hidden": true,
    "id": "7htIKQtmzpne"
   },
   "source": [
    "##### Standardization"
   ]
  },
  {
   "cell_type": "code",
   "execution_count": 117,
   "metadata": {
    "colab": {
     "base_uri": "https://localhost:8080/",
     "height": 102
    },
    "colab_type": "code",
    "hidden": true,
    "id": "O-jJjwWUznWA",
    "outputId": "99eb6947-db7f-4ea0-cb28-e879debbfe68"
   },
   "outputs": [
    {
     "data": {
      "text/plain": [
       "array([[5.1, 3.5, 1.4, 0.2],\n",
       "       [4.9, 3. , 1.4, 0.2],\n",
       "       [4.7, 3.2, 1.3, 0.2],\n",
       "       [4.6, 3.1, 1.5, 0.2],\n",
       "       [5. , 3.6, 1.4, 0.2]])"
      ]
     },
     "execution_count": 117,
     "metadata": {},
     "output_type": "execute_result"
    }
   ],
   "source": [
    "# import packages\n",
    "from sklearn import datasets\n",
    "from sklearn.preprocessing import StandardScaler\n",
    "\n",
    "# load dataset\n",
    "data = datasets.load_iris()\n",
    "# separate features and target\n",
    "X = data.data\n",
    "y = data.target\n",
    "\n",
    "# print first 5 rows of X before standardization\n",
    "X[0:5, :]"
   ]
  },
  {
   "cell_type": "code",
   "execution_count": 118,
   "metadata": {
    "colab": {
     "base_uri": "https://localhost:8080/",
     "height": 102
    },
    "colab_type": "code",
    "hidden": true,
    "id": "CXbmqNpqzr4B",
    "outputId": "2de2f9d8-149e-414f-db62-a94ee7d90b45"
   },
   "outputs": [
    {
     "data": {
      "text/plain": [
       "array([[-0.901,  1.019, -1.34 , -1.315],\n",
       "       [-1.143, -0.132, -1.34 , -1.315],\n",
       "       [-1.385,  0.328, -1.397, -1.315],\n",
       "       [-1.507,  0.098, -1.283, -1.315],\n",
       "       [-1.022,  1.249, -1.34 , -1.315]])"
      ]
     },
     "execution_count": 118,
     "metadata": {},
     "output_type": "execute_result"
    }
   ],
   "source": [
    "# standardize X\n",
    "scaler = StandardScaler().fit(X)\n",
    "standardize_X = scaler.transform(X)\n",
    "\n",
    "# print first 5 rows of X after standardization\n",
    "standardize_X[0:5, :]"
   ]
  },
  {
   "cell_type": "code",
   "execution_count": 119,
   "metadata": {
    "hidden": true
   },
   "outputs": [
    {
     "data": {
      "text/plain": [
       "array([-1.690e-15, -1.843e-15, -1.699e-15, -1.409e-15])"
      ]
     },
     "execution_count": 119,
     "metadata": {},
     "output_type": "execute_result"
    }
   ],
   "source": [
    "standardize_X.mean(axis=0)"
   ]
  },
  {
   "cell_type": "code",
   "execution_count": 121,
   "metadata": {
    "hidden": true
   },
   "outputs": [
    {
     "data": {
      "text/plain": [
       "array([1., 1., 1., 1.])"
      ]
     },
     "execution_count": 121,
     "metadata": {},
     "output_type": "execute_result"
    }
   ],
   "source": [
    "standardize_X.std(axis=0)"
   ]
  },
  {
   "cell_type": "markdown",
   "metadata": {
    "colab_type": "text",
    "heading_collapsed": true,
    "hidden": true,
    "id": "PHEjrqWMzvsF"
   },
   "source": [
    "##### Normalization"
   ]
  },
  {
   "cell_type": "code",
   "execution_count": 122,
   "metadata": {
    "colab": {
     "base_uri": "https://localhost:8080/",
     "height": 102
    },
    "colab_type": "code",
    "hidden": true,
    "id": "rIL2vpbkzubq",
    "outputId": "09ae2903-9bf1-45cb-d2a9-05ff45f34dd5"
   },
   "outputs": [
    {
     "data": {
      "text/plain": [
       "array([[5.1, 3.5, 1.4, 0.2],\n",
       "       [4.9, 3. , 1.4, 0.2],\n",
       "       [4.7, 3.2, 1.3, 0.2],\n",
       "       [4.6, 3.1, 1.5, 0.2],\n",
       "       [5. , 3.6, 1.4, 0.2]])"
      ]
     },
     "execution_count": 122,
     "metadata": {},
     "output_type": "execute_result"
    }
   ],
   "source": [
    "# import packages\n",
    "from sklearn import datasets\n",
    "from sklearn.preprocessing import Normalizer\n",
    "\n",
    "# load dataset\n",
    "data = datasets.load_iris()\n",
    "\n",
    "# separate features and target\n",
    "X = data.data\n",
    "y = data.target\n",
    "\n",
    "# print first 5 rows of X before normalization\n",
    "X[0:5,:]"
   ]
  },
  {
   "cell_type": "markdown",
   "metadata": {
    "hidden": true
   },
   "source": [
    "- Normalize samples individually to unit norm.\n",
    "\n",
    "- Each sample (i.e. each row of the data matrix) with at least one non zero component is rescaled independently of other samples so that its norm (l1, l2 or inf) equals one."
   ]
  },
  {
   "cell_type": "code",
   "execution_count": 123,
   "metadata": {
    "colab": {
     "base_uri": "https://localhost:8080/",
     "height": 102
    },
    "colab_type": "code",
    "hidden": true,
    "id": "BQddaV5yzyBa",
    "outputId": "af7f9fd9-feba-4b5e-eb72-11c6e540d1f4",
    "scrolled": true
   },
   "outputs": [
    {
     "data": {
      "text/plain": [
       "array([[0.804, 0.552, 0.221, 0.032],\n",
       "       [0.828, 0.507, 0.237, 0.034],\n",
       "       [0.805, 0.548, 0.223, 0.034],\n",
       "       [0.8  , 0.539, 0.261, 0.035],\n",
       "       [0.791, 0.569, 0.221, 0.032]])"
      ]
     },
     "execution_count": 123,
     "metadata": {},
     "output_type": "execute_result"
    }
   ],
   "source": [
    "# normalize X\n",
    "scaler = Normalizer().fit(X)\n",
    "normalize_X = scaler.transform(X)\n",
    "\n",
    "# print first 5 rows of X after normalization\n",
    "normalize_X[0:5, :]"
   ]
  },
  {
   "cell_type": "code",
   "execution_count": 130,
   "metadata": {
    "hidden": true
   },
   "outputs": [
    {
     "data": {
      "text/plain": [
       "array([1., 1., 1., 1., 1., 1., 1., 1., 1., 1., 1., 1., 1., 1., 1., 1., 1.,\n",
       "       1., 1., 1., 1., 1., 1., 1., 1., 1., 1., 1., 1., 1., 1., 1., 1., 1.,\n",
       "       1., 1., 1., 1., 1., 1., 1., 1., 1., 1., 1., 1., 1., 1., 1., 1., 1.,\n",
       "       1., 1., 1., 1., 1., 1., 1., 1., 1., 1., 1., 1., 1., 1., 1., 1., 1.,\n",
       "       1., 1., 1., 1., 1., 1., 1., 1., 1., 1., 1., 1., 1., 1., 1., 1., 1.,\n",
       "       1., 1., 1., 1., 1., 1., 1., 1., 1., 1., 1., 1., 1., 1., 1., 1., 1.,\n",
       "       1., 1., 1., 1., 1., 1., 1., 1., 1., 1., 1., 1., 1., 1., 1., 1., 1.,\n",
       "       1., 1., 1., 1., 1., 1., 1., 1., 1., 1., 1., 1., 1., 1., 1., 1., 1.,\n",
       "       1., 1., 1., 1., 1., 1., 1., 1., 1., 1., 1., 1., 1., 1.])"
      ]
     },
     "execution_count": 130,
     "metadata": {},
     "output_type": "execute_result"
    }
   ],
   "source": [
    "np.linalg.norm(normalize_X, axis=1)"
   ]
  },
  {
   "cell_type": "markdown",
   "metadata": {
    "colab_type": "text",
    "heading_collapsed": true,
    "hidden": true,
    "id": "Kpg1YAGnz1jP"
   },
   "source": [
    "##### Binarization"
   ]
  },
  {
   "cell_type": "code",
   "execution_count": 131,
   "metadata": {
    "colab": {
     "base_uri": "https://localhost:8080/",
     "height": 102
    },
    "colab_type": "code",
    "hidden": true,
    "id": "mwcxwYz3zz-M",
    "outputId": "eb89256f-d378-4955-df31-024982127602"
   },
   "outputs": [
    {
     "data": {
      "text/plain": [
       "array([[5.1, 3.5, 1.4, 0.2],\n",
       "       [4.9, 3. , 1.4, 0.2],\n",
       "       [4.7, 3.2, 1.3, 0.2],\n",
       "       [4.6, 3.1, 1.5, 0.2],\n",
       "       [5. , 3.6, 1.4, 0.2]])"
      ]
     },
     "execution_count": 131,
     "metadata": {},
     "output_type": "execute_result"
    }
   ],
   "source": [
    "# import packages\n",
    "from sklearn import datasets\n",
    "from sklearn.preprocessing import Binarizer\n",
    "\n",
    "# load dataset\n",
    "data = datasets.load_iris()\n",
    "# separate features and target\n",
    "X = data.data\n",
    "y = data.target\n",
    "\n",
    "# print first 5 rows of X before binarization\n",
    "X[0:5,:]"
   ]
  },
  {
   "cell_type": "code",
   "execution_count": 132,
   "metadata": {
    "colab": {
     "base_uri": "https://localhost:8080/",
     "height": 102
    },
    "colab_type": "code",
    "hidden": true,
    "id": "3Ef6LCrxz3n9",
    "outputId": "f42e6c94-4e54-4fd8-b01b-a9645babafec"
   },
   "outputs": [
    {
     "data": {
      "text/plain": [
       "array([[1., 1., 0., 0.],\n",
       "       [1., 1., 0., 0.],\n",
       "       [1., 1., 0., 0.],\n",
       "       [1., 1., 0., 0.],\n",
       "       [1., 1., 0., 0.]])"
      ]
     },
     "execution_count": 132,
     "metadata": {},
     "output_type": "execute_result"
    }
   ],
   "source": [
    "# binarize X\n",
    "scaler = Binarizer(threshold = 1.5).fit(X)\n",
    "binarize_X = scaler.transform(X)\n",
    "\n",
    "# print first 5 rows of X after binarization\n",
    "binarize_X[0:5,:]"
   ]
  },
  {
   "cell_type": "markdown",
   "metadata": {
    "colab_type": "text",
    "heading_collapsed": true,
    "hidden": true,
    "id": "jNuFB_J2z7sx"
   },
   "source": [
    "#### Encoding Categorical Variables"
   ]
  },
  {
   "cell_type": "markdown",
   "metadata": {
    "colab_type": "text",
    "heading_collapsed": true,
    "hidden": true,
    "id": "05XA8YNR0FUj"
   },
   "source": [
    "##### LabelEncoder"
   ]
  },
  {
   "cell_type": "code",
   "execution_count": 0,
   "metadata": {
    "colab": {
     "base_uri": "https://localhost:8080/",
     "height": 136
    },
    "colab_type": "code",
    "hidden": true,
    "id": "zdmpofaMz5EW",
    "outputId": "8c61caa5-7a27-4c9d-faa9-7c6f778a4c20"
   },
   "outputs": [
    {
     "data": {
      "text/plain": [
       "array([['5', '8', 'calabar'],\n",
       "       ['9', '3', 'uyo'],\n",
       "       ['8', '6', 'owerri'],\n",
       "       ['0', '5', 'uyo'],\n",
       "       ['2', '3', 'calabar'],\n",
       "       ['0', '8', 'calabar'],\n",
       "       ['1', '8', 'owerri']], dtype='<U21')"
      ]
     },
     "execution_count": 20,
     "metadata": {
      "tags": []
     },
     "output_type": "execute_result"
    }
   ],
   "source": [
    "# import packages\n",
    "from sklearn.preprocessing import LabelEncoder\n",
    "\n",
    "# create dataset\n",
    "data = np.array([[5,8,\"calabar\"],[9,3,\"uyo\"],[8,6,\"owerri\"],\n",
    "                    [0,5,\"uyo\"],[2,3,\"calabar\"],[0,8,\"calabar\"],\n",
    "                    [1,8,\"owerri\"]])\n",
    "data"
   ]
  },
  {
   "cell_type": "code",
   "execution_count": 0,
   "metadata": {
    "colab": {},
    "colab_type": "code",
    "hidden": true,
    "id": "8C46NUPr0ICy"
   },
   "outputs": [],
   "source": [
    "# separate features and target\n",
    "X = data[:, :2]\n",
    "y = data[:, -1]"
   ]
  },
  {
   "cell_type": "code",
   "execution_count": 0,
   "metadata": {
    "colab": {},
    "colab_type": "code",
    "hidden": true,
    "id": "NeJXeCeF0ar5"
   },
   "outputs": [],
   "source": [
    "# encode y\n",
    "encoder = LabelEncoder()\n",
    "encode_y = encoder.fit_transform(y)"
   ]
  },
  {
   "cell_type": "code",
   "execution_count": 0,
   "metadata": {
    "colab": {
     "base_uri": "https://localhost:8080/",
     "height": 136
    },
    "colab_type": "code",
    "hidden": true,
    "id": "IK5HY_7f0hKt",
    "outputId": "46c64b66-9dd5-4c47-bc4d-060966b26647"
   },
   "outputs": [
    {
     "data": {
      "text/plain": [
       "array([['5', '8', '0'],\n",
       "       ['9', '3', '2'],\n",
       "       ['8', '6', '1'],\n",
       "       ['0', '5', '2'],\n",
       "       ['2', '3', '0'],\n",
       "       ['0', '8', '0'],\n",
       "       ['1', '8', '1']], dtype='<U21')"
      ]
     },
     "execution_count": 23,
     "metadata": {
      "tags": []
     },
     "output_type": "execute_result"
    }
   ],
   "source": [
    "# adjust dataset with encoded targets\n",
    "data[:,-1] = encode_y\n",
    "data"
   ]
  },
  {
   "cell_type": "markdown",
   "metadata": {
    "colab_type": "text",
    "heading_collapsed": true,
    "hidden": true,
    "id": "lrA6AtfD0iWL"
   },
   "source": [
    "##### OneHotEncoder"
   ]
  },
  {
   "cell_type": "code",
   "execution_count": 0,
   "metadata": {
    "colab": {
     "base_uri": "https://localhost:8080/",
     "height": 136
    },
    "colab_type": "code",
    "hidden": true,
    "id": "sICfPMT00huj",
    "outputId": "97db9cf0-e99b-4bd7-c301-896d824929d9"
   },
   "outputs": [
    {
     "data": {
      "text/plain": [
       "array([['5', 'efik', '8'],\n",
       "       ['9', 'ibibio', '3'],\n",
       "       ['8', 'igbo', '6'],\n",
       "       ['0', 'ibibio', '5'],\n",
       "       ['2', 'efik', '3'],\n",
       "       ['0', 'efik', '8'],\n",
       "       ['1', 'igbo', '8']], dtype='<U21')"
      ]
     },
     "execution_count": 52,
     "metadata": {
      "tags": []
     },
     "output_type": "execute_result"
    }
   ],
   "source": [
    "# import packages\n",
    "from sklearn.preprocessing import OneHotEncoder\n",
    "\n",
    "# create dataset\n",
    "data = np.array([[5,\"efik\", 8,\"calabar\"],[9,\"ibibio\",3,\"uyo\"],[8,\"igbo\",6,\"owerri\"],\n",
    "                    [0,\"ibibio\",5,\"uyo\"],[2,\"efik\",3,\"calabar\"],[0,\"efik\",8,\"calabar\"],\n",
    "                    [1,\"igbo\",8,\"owerri\"]])\n",
    "\n",
    "# separate features and target\n",
    "X = data[:,:3]\n",
    "y = data[:,-1]\n",
    "\n",
    "# print the feature or design matrix X\n",
    "X"
   ]
  },
  {
   "cell_type": "code",
   "execution_count": 0,
   "metadata": {
    "colab": {
     "base_uri": "https://localhost:8080/",
     "height": 136
    },
    "colab_type": "code",
    "hidden": true,
    "id": "TOxQWeWD0qU-",
    "outputId": "ab105ab3-c4fb-4b1b-988e-55e2d71e7e61"
   },
   "outputs": [
    {
     "data": {
      "text/plain": [
       "matrix([[1., 0., 0.],\n",
       "        [0., 1., 0.],\n",
       "        [0., 0., 1.],\n",
       "        [0., 1., 0.],\n",
       "        [1., 0., 0.],\n",
       "        [1., 0., 0.],\n",
       "        [0., 0., 1.]])"
      ]
     },
     "execution_count": 53,
     "metadata": {
      "tags": []
     },
     "output_type": "execute_result"
    }
   ],
   "source": [
    "# one_hot_encode X\n",
    "one_hot_encoder = OneHotEncoder(handle_unknown='ignore')\n",
    "encode_categorical = X[:, 1].reshape(len(X[:,1]), 1)\n",
    "one_hot_encode_X = one_hot_encoder.fit_transform(encode_categorical)\n",
    "\n",
    "# print one_hot encoded matrix - use todense() to print sparse matrix\n",
    "# or convert to array with toarray()\n",
    "one_hot_encode_X.todense()"
   ]
  },
  {
   "cell_type": "code",
   "execution_count": 0,
   "metadata": {
    "colab": {
     "base_uri": "https://localhost:8080/",
     "height": 136
    },
    "colab_type": "code",
    "hidden": true,
    "id": "TrZK8zXI0tnP",
    "outputId": "414a992e-7193-43b3-ce97-6e9b9315ea2f"
   },
   "outputs": [
    {
     "data": {
      "text/plain": [
       "array([['5', '8', '1.0', '0.0', '0.0'],\n",
       "       ['9', '3', '0.0', '1.0', '0.0'],\n",
       "       ['8', '6', '0.0', '0.0', '1.0'],\n",
       "       ['0', '5', '0.0', '1.0', '0.0'],\n",
       "       ['2', '3', '1.0', '0.0', '0.0'],\n",
       "       ['0', '8', '1.0', '0.0', '0.0'],\n",
       "       ['1', '8', '0.0', '0.0', '1.0']], dtype='<U32')"
      ]
     },
     "execution_count": 54,
     "metadata": {
      "tags": []
     },
     "output_type": "execute_result"
    }
   ],
   "source": [
    "# remove categorical label\n",
    "X = np.delete(X, 1, axis=1)\n",
    "# append encoded matrix\n",
    "X = np.append(X, one_hot_encode_X.toarray(), axis=1)\n",
    "X"
   ]
  },
  {
   "cell_type": "markdown",
   "metadata": {
    "colab_type": "text",
    "heading_collapsed": true,
    "hidden": true,
    "id": "SPJGBp6E1C0o"
   },
   "source": [
    "#### Imput Missing Data"
   ]
  },
  {
   "cell_type": "code",
   "execution_count": 0,
   "metadata": {
    "colab": {
     "base_uri": "https://localhost:8080/",
     "height": 136
    },
    "colab_type": "code",
    "hidden": true,
    "id": "0kSvpH-9077k",
    "outputId": "1f9598d5-76a1-4046-887f-8c98a483ba2a"
   },
   "outputs": [
    {
     "data": {
      "text/plain": [
       "array([[ 5., nan,  8.],\n",
       "       [ 9.,  3.,  5.],\n",
       "       [ 8.,  6.,  4.],\n",
       "       [nan,  5.,  2.],\n",
       "       [ 2.,  3.,  9.],\n",
       "       [nan,  8.,  7.],\n",
       "       [ 1., nan,  5.]])"
      ]
     },
     "execution_count": 36,
     "metadata": {
      "tags": []
     },
     "output_type": "execute_result"
    }
   ],
   "source": [
    "# import packages\n",
    "from sklearn.impute import SimpleImputer\n",
    "\n",
    "# create dataset\n",
    "data = np.array([[5,np.nan,8],[9,3,5],[8,6,4],\n",
    "                 [np.nan,5,2],[2,3,9],[np.nan,8,7],\n",
    "                 [1,np.nan,5]])\n",
    "data"
   ]
  },
  {
   "cell_type": "code",
   "execution_count": 0,
   "metadata": {
    "colab": {
     "base_uri": "https://localhost:8080/",
     "height": 136
    },
    "colab_type": "code",
    "hidden": true,
    "id": "7sLqk6M01FUw",
    "outputId": "e8e13467-1a30-43c9-f1f7-5f6a98c9ba7f"
   },
   "outputs": [
    {
     "data": {
      "text/plain": [
       "array([[5., 5., 8.],\n",
       "       [9., 3., 5.],\n",
       "       [8., 6., 4.],\n",
       "       [5., 5., 2.],\n",
       "       [2., 3., 9.],\n",
       "       [5., 8., 7.],\n",
       "       [1., 5., 5.]])"
      ]
     },
     "execution_count": 39,
     "metadata": {
      "tags": []
     },
     "output_type": "execute_result"
    }
   ],
   "source": [
    "# impute missing values - axix=0: impute along columns\n",
    "imputer = SimpleImputer(missing_values=np.nan, strategy='mean')\n",
    "imputer.fit_transform(data)"
   ]
  },
  {
   "cell_type": "markdown",
   "metadata": {
    "colab_type": "text",
    "heading_collapsed": true,
    "hidden": true,
    "id": "rul2j3JK16XJ"
   },
   "source": [
    "#### Generating Higer Order Polynomial Features"
   ]
  },
  {
   "cell_type": "code",
   "execution_count": 0,
   "metadata": {
    "colab": {
     "base_uri": "https://localhost:8080/",
     "height": 136
    },
    "colab_type": "code",
    "hidden": true,
    "id": "m5Pn7Cp51HiX",
    "outputId": "42809f33-6460-4fae-f6d8-594d057f3d55"
   },
   "outputs": [
    {
     "data": {
      "text/plain": [
       "array([[5, 8],\n",
       "       [9, 3],\n",
       "       [8, 6],\n",
       "       [5, 2],\n",
       "       [3, 9],\n",
       "       [8, 7],\n",
       "       [1, 5]])"
      ]
     },
     "execution_count": 40,
     "metadata": {
      "tags": []
     },
     "output_type": "execute_result"
    }
   ],
   "source": [
    "# import packages\n",
    "from sklearn.preprocessing import PolynomialFeatures\n",
    "\n",
    "# create dataset\n",
    "data = np.array([[5,8],[9,3],[8,6],\n",
    "                 [5,2],[3,9],[8,7],\n",
    "                 [1,5]])\n",
    "data"
   ]
  },
  {
   "cell_type": "code",
   "execution_count": 0,
   "metadata": {
    "colab": {
     "base_uri": "https://localhost:8080/",
     "height": 136
    },
    "colab_type": "code",
    "hidden": true,
    "id": "4VXLE5hj18rZ",
    "outputId": "49c9b1f2-fc2e-4d53-ad84-6e54a2842c3c"
   },
   "outputs": [
    {
     "data": {
      "text/plain": [
       "array([[ 1.,  5.,  8., 25., 40., 64.],\n",
       "       [ 1.,  9.,  3., 81., 27.,  9.],\n",
       "       [ 1.,  8.,  6., 64., 48., 36.],\n",
       "       [ 1.,  5.,  2., 25., 10.,  4.],\n",
       "       [ 1.,  3.,  9.,  9., 27., 81.],\n",
       "       [ 1.,  8.,  7., 64., 56., 49.],\n",
       "       [ 1.,  1.,  5.,  1.,  5., 25.]])"
      ]
     },
     "execution_count": 41,
     "metadata": {
      "tags": []
     },
     "output_type": "execute_result"
    }
   ],
   "source": [
    "# create polynomial features\n",
    "polynomial_features = PolynomialFeatures(2)\n",
    "data = polynomial_features.fit_transform(data)\n",
    "data"
   ]
  },
  {
   "cell_type": "markdown",
   "metadata": {
    "colab_type": "text",
    "heading_collapsed": true,
    "id": "ihczBTrY60KE"
   },
   "source": [
    "# CH 24 - ML Techniques by Ekaba Bisong"
   ]
  },
  {
   "cell_type": "markdown",
   "metadata": {
    "colab_type": "text",
    "heading_collapsed": true,
    "hidden": true,
    "id": "cQijYmY4Fa15"
   },
   "source": [
    "#### Statistical tests to select the best  features using the SelectKBest module"
   ]
  },
  {
   "cell_type": "code",
   "execution_count": 0,
   "metadata": {
    "colab": {},
    "colab_type": "code",
    "hidden": true,
    "id": "KtX0yaDqFfU3"
   },
   "outputs": [],
   "source": [
    "# load dataset\n",
    "data = datasets.load_iris()"
   ]
  },
  {
   "cell_type": "code",
   "execution_count": 0,
   "metadata": {
    "colab": {},
    "colab_type": "code",
    "hidden": true,
    "id": "6LjMKTWrFgjv"
   },
   "outputs": [],
   "source": [
    "# separate features and target\n",
    "X = data.data\n",
    "y = data.target"
   ]
  },
  {
   "cell_type": "code",
   "execution_count": 0,
   "metadata": {
    "colab": {
     "base_uri": "https://localhost:8080/",
     "height": 102
    },
    "colab_type": "code",
    "hidden": true,
    "id": "xJM5SxbUFzQb",
    "outputId": "9d174d6d-845a-4fe1-d80e-3095c74e33a3"
   },
   "outputs": [
    {
     "data": {
      "text/plain": [
       "array([[5.1, 3.5, 1.4, 0.2],\n",
       "       [4.9, 3. , 1.4, 0.2],\n",
       "       [4.7, 3.2, 1.3, 0.2],\n",
       "       [4.6, 3.1, 1.5, 0.2],\n",
       "       [5. , 3.6, 1.4, 0.2]])"
      ]
     },
     "execution_count": 10,
     "metadata": {
      "tags": []
     },
     "output_type": "execute_result"
    }
   ],
   "source": [
    "# display first 5 rows\n",
    "X[0:5,:]"
   ]
  },
  {
   "cell_type": "code",
   "execution_count": 0,
   "metadata": {
    "colab": {},
    "colab_type": "code",
    "hidden": true,
    "id": "8eazIr2PFiQt"
   },
   "outputs": [],
   "source": [
    "# feature engineering. Let's see the best 3 features by setting k = 3\n",
    "kBest_chi = SelectKBest(score_func=chi2, k=3)\n",
    "fit_test = kBest_chi.fit(X, y)"
   ]
  },
  {
   "cell_type": "code",
   "execution_count": 0,
   "metadata": {
    "colab": {
     "base_uri": "https://localhost:8080/",
     "height": 34
    },
    "colab_type": "code",
    "hidden": true,
    "id": "UQLrXj36Fkgp",
    "outputId": "f3dc34a5-dd28-4dd0-90c6-35f594ad8693"
   },
   "outputs": [
    {
     "data": {
      "text/plain": [
       "array([ 10.81782088,   3.7107283 , 116.31261309,  67.0483602 ])"
      ]
     },
     "execution_count": 5,
     "metadata": {
      "tags": []
     },
     "output_type": "execute_result"
    }
   ],
   "source": [
    "# print test scores\n",
    "fit_test.scores_"
   ]
  },
  {
   "cell_type": "code",
   "execution_count": 0,
   "metadata": {
    "colab": {
     "base_uri": "https://localhost:8080/",
     "height": 102
    },
    "colab_type": "code",
    "hidden": true,
    "id": "I-uXHgMWFsvb",
    "outputId": "cfb6d68e-c8a4-4e15-cdf5-1579ae2357e9"
   },
   "outputs": [
    {
     "data": {
      "text/plain": [
       "array([[5.1, 1.4, 0.2],\n",
       "       [4.9, 1.4, 0.2],\n",
       "       [4.7, 1.3, 0.2],\n",
       "       [4.6, 1.5, 0.2],\n",
       "       [5. , 1.4, 0.2]])"
      ]
     },
     "execution_count": 6,
     "metadata": {
      "tags": []
     },
     "output_type": "execute_result"
    }
   ],
   "source": [
    "# we can transform the dataset to subset only the important features.\n",
    "adjusted_features = fit_test.transform(X)\n",
    "adjusted_features[0:5,:]"
   ]
  },
  {
   "cell_type": "markdown",
   "metadata": {
    "colab_type": "text",
    "heading_collapsed": true,
    "hidden": true,
    "id": "DxPLZBS0GF2b"
   },
   "source": [
    "#### Recursive Feature Elimination (RFE)"
   ]
  },
  {
   "cell_type": "code",
   "execution_count": 57,
   "metadata": {
    "colab": {},
    "colab_type": "code",
    "hidden": true,
    "id": "2zFupTQUGKOJ"
   },
   "outputs": [],
   "source": [
    "# load dataset\n",
    "data = datasets.load_boston()"
   ]
  },
  {
   "cell_type": "code",
   "execution_count": 58,
   "metadata": {
    "colab": {},
    "colab_type": "code",
    "hidden": true,
    "id": "20YfGRFPGLnB"
   },
   "outputs": [],
   "source": [
    "# separate features and target\n",
    "X = data.data\n",
    "y = data.target"
   ]
  },
  {
   "cell_type": "code",
   "execution_count": 59,
   "metadata": {
    "colab": {},
    "colab_type": "code",
    "hidden": true,
    "id": "Dvbt6uohGNRp"
   },
   "outputs": [],
   "source": [
    "# feature engineering\n",
    "linear_reg = LinearRegression()\n",
    "rfe = RFE(estimator=linear_reg, n_features_to_select=6)\n",
    "rfe_fit = rfe.fit(X, y)"
   ]
  },
  {
   "cell_type": "code",
   "execution_count": 60,
   "metadata": {
    "colab": {
     "base_uri": "https://localhost:8080/",
     "height": 34
    },
    "colab_type": "code",
    "hidden": true,
    "id": "bI8nm0U7GPFi",
    "outputId": "7933a8c9-ff53-46c9-b9db-14c19c9e5f45"
   },
   "outputs": [
    {
     "data": {
      "text/plain": [
       "array([3, 5, 4, 1, 1, 1, 8, 1, 2, 6, 1, 7, 1])"
      ]
     },
     "execution_count": 60,
     "metadata": {},
     "output_type": "execute_result"
    }
   ],
   "source": [
    "# print the feature ranking\n",
    "rfe_fit.ranking_"
   ]
  },
  {
   "cell_type": "markdown",
   "metadata": {
    "colab_type": "text",
    "heading_collapsed": true,
    "hidden": true,
    "id": "65l6P14GGSkm"
   },
   "source": [
    "#### Feature Importances"
   ]
  },
  {
   "cell_type": "code",
   "execution_count": 0,
   "metadata": {
    "colab": {},
    "colab_type": "code",
    "hidden": true,
    "id": "ESziGOWtGXK8"
   },
   "outputs": [],
   "source": [
    "# load dataset\n",
    "data = datasets.load_iris()"
   ]
  },
  {
   "cell_type": "code",
   "execution_count": 0,
   "metadata": {
    "colab": {},
    "colab_type": "code",
    "hidden": true,
    "id": "rcAPkkbuGYKU"
   },
   "outputs": [],
   "source": [
    "# separate features and target\n",
    "X = data.data\n",
    "y = data.target"
   ]
  },
  {
   "cell_type": "code",
   "execution_count": 0,
   "metadata": {
    "colab": {
     "base_uri": "https://localhost:8080/",
     "height": 34
    },
    "colab_type": "code",
    "hidden": true,
    "id": "0H9ywEgMGmIb",
    "outputId": "c3b911bb-fe84-4594-da67-3ad54e66a513"
   },
   "outputs": [
    {
     "data": {
      "text/plain": [
       "(150, 4)"
      ]
     },
     "execution_count": 25,
     "metadata": {
      "tags": []
     },
     "output_type": "execute_result"
    }
   ],
   "source": [
    "# original data shape\n",
    "X.shape"
   ]
  },
  {
   "cell_type": "code",
   "execution_count": 0,
   "metadata": {
    "colab": {
     "base_uri": "https://localhost:8080/",
     "height": 51
    },
    "colab_type": "code",
    "hidden": true,
    "id": "LDQdobCeGZht",
    "outputId": "994b5925-a1d6-40f1-e828-819d0d1b19bd"
   },
   "outputs": [
    {
     "data": {
      "text/plain": [
       "AdaBoostClassifier(algorithm='SAMME.R', base_estimator=None, learning_rate=1.0,\n",
       "                   n_estimators=50, random_state=None)"
      ]
     },
     "execution_count": 19,
     "metadata": {
      "tags": []
     },
     "output_type": "execute_result"
    }
   ],
   "source": [
    "# feature engineering\n",
    "ada_boost_classifier = AdaBoostClassifier()\n",
    "ada_boost_classifier.fit(X, y)"
   ]
  },
  {
   "cell_type": "code",
   "execution_count": 0,
   "metadata": {
    "colab": {
     "base_uri": "https://localhost:8080/",
     "height": 34
    },
    "colab_type": "code",
    "hidden": true,
    "id": "ntbJGU2cGbH9",
    "outputId": "3f0fe8a5-0b85-4625-e2ae-5bf5e19bf07e"
   },
   "outputs": [
    {
     "data": {
      "text/plain": [
       "array([0. , 0. , 0.5, 0.5])"
      ]
     },
     "execution_count": 20,
     "metadata": {
      "tags": []
     },
     "output_type": "execute_result"
    }
   ],
   "source": [
    "# print the feature importances\n",
    "ada_boost_classifier.feature_importances_"
   ]
  },
  {
   "cell_type": "code",
   "execution_count": 0,
   "metadata": {
    "colab": {},
    "colab_type": "code",
    "hidden": true,
    "id": "hzC6xpvsGfve"
   },
   "outputs": [],
   "source": [
    "# create a subset of data based on the relevant features\n",
    "model = SelectFromModel(ada_boost_classifier, prefit=True)\n",
    "new_data = model.transform(X)"
   ]
  },
  {
   "cell_type": "code",
   "execution_count": 0,
   "metadata": {
    "colab": {
     "base_uri": "https://localhost:8080/",
     "height": 34
    },
    "colab_type": "code",
    "hidden": true,
    "id": "rdI6Z0UIGg_e",
    "outputId": "07c23b9a-7bc3-4e80-fc86-dd154915faac"
   },
   "outputs": [
    {
     "data": {
      "text/plain": [
       "(150, 2)"
      ]
     },
     "execution_count": 23,
     "metadata": {
      "tags": []
     },
     "output_type": "execute_result"
    }
   ],
   "source": [
    "# the irrelevant features have been removed\n",
    "new_data.shape"
   ]
  },
  {
   "cell_type": "markdown",
   "metadata": {
    "colab_type": "text",
    "heading_collapsed": true,
    "hidden": true,
    "id": "7jtGgk7eGrfC"
   },
   "source": [
    "#### Resampling Methods"
   ]
  },
  {
   "cell_type": "markdown",
   "metadata": {
    "colab_type": "text",
    "heading_collapsed": true,
    "hidden": true,
    "id": "wes57SXeGvEA"
   },
   "source": [
    "##### k-Fold cross validation"
   ]
  },
  {
   "cell_type": "code",
   "execution_count": 0,
   "metadata": {
    "colab": {},
    "colab_type": "code",
    "hidden": true,
    "id": "9cN0sDsiG4xV"
   },
   "outputs": [],
   "source": [
    "# load dataset\n",
    "data = datasets.load_iris()"
   ]
  },
  {
   "cell_type": "code",
   "execution_count": 0,
   "metadata": {
    "colab": {},
    "colab_type": "code",
    "hidden": true,
    "id": "ekok66t-G56N"
   },
   "outputs": [],
   "source": [
    "# separate features and target\n",
    "X = data.data\n",
    "y = data.target"
   ]
  },
  {
   "cell_type": "code",
   "execution_count": 0,
   "metadata": {
    "colab": {},
    "colab_type": "code",
    "hidden": true,
    "id": "MhsBDO2AG7Fu"
   },
   "outputs": [],
   "source": [
    "# initialize KFold - with shuffle = True, shuffle the data before splitting\n",
    "kfold = KFold(n_splits=3, shuffle=True)"
   ]
  },
  {
   "cell_type": "code",
   "execution_count": 0,
   "metadata": {
    "colab": {},
    "colab_type": "code",
    "hidden": true,
    "id": "8M82xuhkG8CV"
   },
   "outputs": [],
   "source": [
    "# create the model\n",
    "knn_clf = KNeighborsClassifier(n_neighbors=3)"
   ]
  },
  {
   "cell_type": "code",
   "execution_count": 0,
   "metadata": {
    "colab": {},
    "colab_type": "code",
    "hidden": true,
    "id": "49itHLxVG9Wu"
   },
   "outputs": [],
   "source": [
    "# fit the model using cross validation\n",
    "cv_result = cross_val_score(knn_clf, X, y, cv=kfold)"
   ]
  },
  {
   "cell_type": "code",
   "execution_count": 0,
   "metadata": {
    "colab": {
     "base_uri": "https://localhost:8080/",
     "height": 34
    },
    "colab_type": "code",
    "hidden": true,
    "id": "L_KVkZPDG-Y_",
    "outputId": "0cbffa4c-84ba-4a61-9937-3c63288651ad"
   },
   "outputs": [
    {
     "name": "stdout",
     "output_type": "stream",
     "text": [
      "Accuracy: 95.333% (0.943%)\n"
     ]
    }
   ],
   "source": [
    "# evaluate the model performance using accuracy metric\n",
    "print(\"Accuracy: %.3f%% (%.3f%%)\" % (cv_result.mean()*100.0, cv_result.std()*100.0))"
   ]
  },
  {
   "cell_type": "markdown",
   "metadata": {
    "colab_type": "text",
    "heading_collapsed": true,
    "hidden": true,
    "id": "9y78xFs7HBnR"
   },
   "source": [
    "##### Leave-One-Out cross validation (LOOCV)"
   ]
  },
  {
   "cell_type": "code",
   "execution_count": 0,
   "metadata": {
    "colab": {},
    "colab_type": "code",
    "hidden": true,
    "id": "UXmhRk26HHe4"
   },
   "outputs": [],
   "source": [
    "# load dataset\n",
    "data = datasets.load_iris()"
   ]
  },
  {
   "cell_type": "code",
   "execution_count": 0,
   "metadata": {
    "colab": {},
    "colab_type": "code",
    "hidden": true,
    "id": "bsKJO5w_HIsY"
   },
   "outputs": [],
   "source": [
    "# separate features and target\n",
    "X = data.data\n",
    "y = data.target"
   ]
  },
  {
   "cell_type": "code",
   "execution_count": 0,
   "metadata": {
    "colab": {},
    "colab_type": "code",
    "hidden": true,
    "id": "k8hjJXahHKbB"
   },
   "outputs": [],
   "source": [
    "# initialize LOOCV\n",
    "loocv = LeaveOneOut()"
   ]
  },
  {
   "cell_type": "code",
   "execution_count": 0,
   "metadata": {
    "colab": {},
    "colab_type": "code",
    "hidden": true,
    "id": "oAn8xGpNHLcS"
   },
   "outputs": [],
   "source": [
    "# create the model\n",
    "knn_clf = KNeighborsClassifier(n_neighbors=3)"
   ]
  },
  {
   "cell_type": "code",
   "execution_count": 0,
   "metadata": {
    "colab": {},
    "colab_type": "code",
    "hidden": true,
    "id": "1ECkwSnYHMuR"
   },
   "outputs": [],
   "source": [
    "# fit the model using cross validation\n",
    "cv_result = cross_val_score(knn_clf, X, y, cv=loocv)"
   ]
  },
  {
   "cell_type": "code",
   "execution_count": 0,
   "metadata": {
    "colab": {
     "base_uri": "https://localhost:8080/",
     "height": 34
    },
    "colab_type": "code",
    "hidden": true,
    "id": "fKyXKL_ZHOFh",
    "outputId": "c46b0eae-7817-4bc5-8785-9a3e187c03bd"
   },
   "outputs": [
    {
     "name": "stdout",
     "output_type": "stream",
     "text": [
      "Accuracy: 96.000% (19.596%)\n"
     ]
    }
   ],
   "source": [
    "# evaluate the model performance using accuracy metric\n",
    "print(\"Accuracy: %.3f%% (%.3f%%)\" % (cv_result.mean()*100.0, cv_result.std()*100.0))"
   ]
  },
  {
   "cell_type": "markdown",
   "metadata": {
    "colab_type": "text",
    "heading_collapsed": true,
    "hidden": true,
    "id": "TxSsWX7KHQz0"
   },
   "source": [
    "#### Model evaluation"
   ]
  },
  {
   "cell_type": "markdown",
   "metadata": {
    "colab_type": "text",
    "heading_collapsed": true,
    "hidden": true,
    "id": "yxUWKVbhHTsv"
   },
   "source": [
    "##### Regression evaluation metrics"
   ]
  },
  {
   "cell_type": "code",
   "execution_count": 7,
   "metadata": {
    "colab": {},
    "colab_type": "code",
    "hidden": true,
    "id": "rvjGXP8cHj3G"
   },
   "outputs": [],
   "source": [
    "# load dataset\n",
    "data = datasets.load_boston() # print(data.DESCR)"
   ]
  },
  {
   "cell_type": "code",
   "execution_count": 8,
   "metadata": {
    "colab": {},
    "colab_type": "code",
    "hidden": true,
    "id": "36qh1mp0Hk2m"
   },
   "outputs": [],
   "source": [
    "# separate features and target\n",
    "X = data.data\n",
    "y = data.target"
   ]
  },
  {
   "cell_type": "code",
   "execution_count": 9,
   "metadata": {
    "colab": {},
    "colab_type": "code",
    "hidden": true,
    "id": "sRIwBezZHmrf"
   },
   "outputs": [],
   "source": [
    "# split in train and test sets\n",
    "X_train, X_test, y_train, y_test = train_test_split(X, y, shuffle=True)"
   ]
  },
  {
   "cell_type": "code",
   "execution_count": 10,
   "metadata": {
    "colab": {},
    "colab_type": "code",
    "hidden": true,
    "id": "zzDcUpfEHnwI"
   },
   "outputs": [],
   "source": [
    "# create the model\n",
    "# setting normalize to true normalizes the dataset before fitting the model\n",
    "linear_reg = LinearRegression(normalize = True)"
   ]
  },
  {
   "cell_type": "code",
   "execution_count": 11,
   "metadata": {
    "colab": {
     "base_uri": "https://localhost:8080/",
     "height": 34
    },
    "colab_type": "code",
    "hidden": true,
    "id": "R_EA6O3iHo_X",
    "outputId": "b292e2e9-4be9-4a83-b05b-fbe50177abd2"
   },
   "outputs": [
    {
     "data": {
      "text/plain": [
       "LinearRegression(normalize=True)"
      ]
     },
     "execution_count": 11,
     "metadata": {},
     "output_type": "execute_result"
    }
   ],
   "source": [
    "# fit the model on the training set\n",
    "linear_reg.fit(X_train, y_train)"
   ]
  },
  {
   "cell_type": "code",
   "execution_count": 12,
   "metadata": {
    "colab": {},
    "colab_type": "code",
    "hidden": true,
    "id": "3cRNSJDNHqPa"
   },
   "outputs": [],
   "source": [
    "# make predictions on the test set\n",
    "predictions = linear_reg.predict(X_test)"
   ]
  },
  {
   "cell_type": "code",
   "execution_count": 13,
   "metadata": {
    "colab": {
     "base_uri": "https://localhost:8080/",
     "height": 34
    },
    "colab_type": "code",
    "hidden": true,
    "id": "lYwRltdRHrGo",
    "outputId": "52ed0204-05d0-4abb-8f1d-2d468c4cbc44"
   },
   "outputs": [
    {
     "name": "stdout",
     "output_type": "stream",
     "text": [
      "Mean squared error: 23.81\n"
     ]
    }
   ],
   "source": [
    "# evaluate the model performance using mean square error metric\n",
    "print(\"Mean squared error: %.2f\" % mean_squared_error(y_test, predictions))"
   ]
  },
  {
   "cell_type": "code",
   "execution_count": 14,
   "metadata": {
    "colab": {
     "base_uri": "https://localhost:8080/",
     "height": 34
    },
    "colab_type": "code",
    "hidden": true,
    "id": "Qk2d1jSpHtMx",
    "outputId": "b0c580fc-a722-4830-d81d-b359b5b4be3c"
   },
   "outputs": [
    {
     "name": "stdout",
     "output_type": "stream",
     "text": [
      "Mean absolute error: 3.54\n"
     ]
    }
   ],
   "source": [
    "# evaluate the model performance using mean absolute error metric\n",
    "print(\"Mean absolute error: %.2f\" % mean_absolute_error(y_test, predictions))"
   ]
  },
  {
   "cell_type": "code",
   "execution_count": 15,
   "metadata": {
    "colab": {
     "base_uri": "https://localhost:8080/",
     "height": 34
    },
    "colab_type": "code",
    "hidden": true,
    "id": "XDoAFE9EHu88",
    "outputId": "dfd07d03-986f-41c0-9d4a-de5c196d84ef"
   },
   "outputs": [
    {
     "name": "stdout",
     "output_type": "stream",
     "text": [
      "R-squared score: 0.76\n"
     ]
    }
   ],
   "source": [
    "# evaluate the model performance using r-squared error metric\n",
    "print(\"R-squared score: %.2f\" % r2_score(y_test, predictions))"
   ]
  },
  {
   "cell_type": "markdown",
   "metadata": {
    "colab_type": "text",
    "heading_collapsed": true,
    "hidden": true,
    "id": "misBCbIiHxt4"
   },
   "source": [
    "##### Regression evaluation metrics implemented with cross validation"
   ]
  },
  {
   "cell_type": "code",
   "execution_count": 16,
   "metadata": {
    "colab": {},
    "colab_type": "code",
    "hidden": true,
    "id": "ujcdS1FaIEnJ"
   },
   "outputs": [],
   "source": [
    "# load dataset\n",
    "data = datasets.load_boston()"
   ]
  },
  {
   "cell_type": "code",
   "execution_count": 17,
   "metadata": {
    "colab": {},
    "colab_type": "code",
    "hidden": true,
    "id": "t5IXDZ6UIFgb"
   },
   "outputs": [],
   "source": [
    "# separate features and target\n",
    "X = data.data\n",
    "y = data.target"
   ]
  },
  {
   "cell_type": "code",
   "execution_count": 18,
   "metadata": {
    "colab": {},
    "colab_type": "code",
    "hidden": true,
    "id": "wP9fHfe_IGrK"
   },
   "outputs": [],
   "source": [
    "# initialize KFold - with shuffle = True, shuffle the data before splitting\n",
    "kfold = KFold(n_splits=3, shuffle=True)"
   ]
  },
  {
   "cell_type": "code",
   "execution_count": 19,
   "metadata": {
    "colab": {},
    "colab_type": "code",
    "hidden": true,
    "id": "8Z6VzlXHIIGj"
   },
   "outputs": [],
   "source": [
    "# create the model\n",
    "linear_reg = LinearRegression(normalize = True)"
   ]
  },
  {
   "cell_type": "code",
   "execution_count": 20,
   "metadata": {
    "colab": {},
    "colab_type": "code",
    "hidden": true,
    "id": "avfoaVz8IJC7"
   },
   "outputs": [],
   "source": [
    "# fit the model using cross validation - score with Mean square error (MSE)\n",
    "mse_cv_result = cross_val_score(linear_reg, X, y, cv=kfold, scoring=\"neg_mean_squared_error\")"
   ]
  },
  {
   "cell_type": "code",
   "execution_count": 21,
   "metadata": {
    "colab": {
     "base_uri": "https://localhost:8080/",
     "height": 34
    },
    "colab_type": "code",
    "hidden": true,
    "id": "DhOHMldnIKPr",
    "outputId": "a765936e-7ce6-4a1d-89e0-1665057e7445"
   },
   "outputs": [
    {
     "name": "stdout",
     "output_type": "stream",
     "text": [
      "Negtive Mean squared error: -23.646% (4.658%)\n"
     ]
    }
   ],
   "source": [
    "# print mse cross validation output\n",
    "print(\"Negtive Mean squared error: %.3f%% (%.3f%%)\" % (mse_cv_result.mean(), mse_cv_result.std()))"
   ]
  },
  {
   "cell_type": "code",
   "execution_count": 22,
   "metadata": {
    "colab": {},
    "colab_type": "code",
    "hidden": true,
    "id": "MgdDe3U-ILP8"
   },
   "outputs": [],
   "source": [
    "# fit the model using cross validation - score with Mean absolute error (MAE)\n",
    "mae_cv_result = cross_val_score(linear_reg, X, y, cv=kfold, scoring=\"neg_mean_absolute_error\")"
   ]
  },
  {
   "cell_type": "code",
   "execution_count": 23,
   "metadata": {
    "colab": {
     "base_uri": "https://localhost:8080/",
     "height": 34
    },
    "colab_type": "code",
    "hidden": true,
    "id": "YLpKJTb7INDL",
    "outputId": "91d2d57b-c9d3-4c06-9a7f-9958f4406bf8"
   },
   "outputs": [
    {
     "name": "stdout",
     "output_type": "stream",
     "text": [
      "Negtive Mean absolute error: -3.482% (4.658%)\n"
     ]
    }
   ],
   "source": [
    "# print mse cross validation output\n",
    "print(\"Negtive Mean absolute error: %.3f%% (%.3f%%)\" % (mae_cv_result.mean(), mse_cv_result.std()))"
   ]
  },
  {
   "cell_type": "code",
   "execution_count": 24,
   "metadata": {
    "colab": {},
    "colab_type": "code",
    "hidden": true,
    "id": "vEthi9F1IOCj"
   },
   "outputs": [],
   "source": [
    "# fit the model using cross validation - score with R-squared\n",
    "r2_cv_result = cross_val_score(linear_reg, X, y, cv=kfold, scoring=\"r2\")"
   ]
  },
  {
   "cell_type": "code",
   "execution_count": 25,
   "metadata": {
    "colab": {
     "base_uri": "https://localhost:8080/",
     "height": 34
    },
    "colab_type": "code",
    "hidden": true,
    "id": "5kPfY9VRIPVe",
    "outputId": "aea37341-94c6-4da6-8892-4dcd8d47923a"
   },
   "outputs": [
    {
     "name": "stdout",
     "output_type": "stream",
     "text": [
      "R-squared score: 0.712% (0.034%)\n"
     ]
    }
   ],
   "source": [
    "# print mse cross validation output\n",
    "print(\"R-squared score: %.3f%% (%.3f%%)\" % (r2_cv_result.mean(), r2_cv_result.std()))"
   ]
  },
  {
   "cell_type": "markdown",
   "metadata": {
    "colab_type": "text",
    "heading_collapsed": true,
    "hidden": true,
    "id": "FM-58bD1IRLB"
   },
   "source": [
    "##### Classification evaluation metrics"
   ]
  },
  {
   "cell_type": "code",
   "execution_count": 17,
   "metadata": {
    "colab": {},
    "colab_type": "code",
    "hidden": true,
    "id": "b0QTMt-zLAcY"
   },
   "outputs": [],
   "source": [
    "# load dataset\n",
    "data = datasets.load_iris()"
   ]
  },
  {
   "cell_type": "code",
   "execution_count": 18,
   "metadata": {
    "colab": {},
    "colab_type": "code",
    "hidden": true,
    "id": "vJbM2eZCLB34"
   },
   "outputs": [],
   "source": [
    "# separate features and target\n",
    "X = data.data\n",
    "y = data.target"
   ]
  },
  {
   "cell_type": "code",
   "execution_count": 19,
   "metadata": {
    "colab": {},
    "colab_type": "code",
    "hidden": true,
    "id": "U2o9ul0VLDH1"
   },
   "outputs": [],
   "source": [
    "# split in train and test sets\n",
    "X_train, X_test, y_train, y_test = train_test_split(X, y, shuffle=True)"
   ]
  },
  {
   "cell_type": "code",
   "execution_count": 21,
   "metadata": {
    "colab": {},
    "colab_type": "code",
    "hidden": true,
    "id": "aehxuWgMLEh8"
   },
   "outputs": [
    {
     "ename": "NameError",
     "evalue": "name 'LogisticRegression' is not defined",
     "output_type": "error",
     "traceback": [
      "\u001b[0;31m-------------------------------------------------------\u001b[0m",
      "\u001b[0;31mNameError\u001b[0m             Traceback (most recent call last)",
      "\u001b[0;32m<ipython-input-21-4436615d449d>\u001b[0m in \u001b[0;36m<module>\u001b[0;34m\u001b[0m\n\u001b[1;32m      1\u001b[0m \u001b[0;31m# create the model\u001b[0m\u001b[0;34m\u001b[0m\u001b[0;34m\u001b[0m\u001b[0;34m\u001b[0m\u001b[0m\n\u001b[0;32m----> 2\u001b[0;31m \u001b[0mlogistic_reg\u001b[0m \u001b[0;34m=\u001b[0m \u001b[0mLogisticRegression\u001b[0m\u001b[0;34m(\u001b[0m\u001b[0;34m)\u001b[0m\u001b[0;34m\u001b[0m\u001b[0;34m\u001b[0m\u001b[0m\n\u001b[0m",
      "\u001b[0;31mNameError\u001b[0m: name 'LogisticRegression' is not defined"
     ]
    }
   ],
   "source": [
    "# create the model\n",
    "logistic_reg = LogisticRegression()"
   ]
  },
  {
   "cell_type": "code",
   "execution_count": 31,
   "metadata": {
    "colab": {
     "base_uri": "https://localhost:8080/",
     "height": 190
    },
    "colab_type": "code",
    "hidden": true,
    "id": "ct5fM-weLFl7",
    "outputId": "4646ee59-6b56-4b83-8a55-7e6c822abf83"
   },
   "outputs": [
    {
     "name": "stderr",
     "output_type": "stream",
     "text": [
      "/Users/a.momin/opt/anaconda3/envs/fastai-cpu/lib/python3.6/site-packages/sklearn/linear_model/_logistic.py:764: ConvergenceWarning: lbfgs failed to converge (status=1):\n",
      "STOP: TOTAL NO. of ITERATIONS REACHED LIMIT.\n",
      "\n",
      "Increase the number of iterations (max_iter) or scale the data as shown in:\n",
      "    https://scikit-learn.org/stable/modules/preprocessing.html\n",
      "Please also refer to the documentation for alternative solver options:\n",
      "    https://scikit-learn.org/stable/modules/linear_model.html#logistic-regression\n",
      "  extra_warning_msg=_LOGISTIC_SOLVER_CONVERGENCE_MSG)\n"
     ]
    },
    {
     "data": {
      "text/plain": [
       "LogisticRegression()"
      ]
     },
     "execution_count": 31,
     "metadata": {},
     "output_type": "execute_result"
    }
   ],
   "source": [
    "# fit the model on the training set\n",
    "logistic_reg.fit(X_train, y_train)"
   ]
  },
  {
   "cell_type": "code",
   "execution_count": 32,
   "metadata": {
    "colab": {},
    "colab_type": "code",
    "hidden": true,
    "id": "sFV87FXZLG1d"
   },
   "outputs": [],
   "source": [
    "# make predictions on the test set\n",
    "predictions = logistic_reg.predict(X_test)"
   ]
  },
  {
   "cell_type": "code",
   "execution_count": 46,
   "metadata": {
    "colab": {
     "base_uri": "https://localhost:8080/",
     "height": 34
    },
    "colab_type": "code",
    "hidden": true,
    "id": "_OWD_o7XLIWk",
    "outputId": "58bf284f-6947-4114-9ad5-279b15869be5"
   },
   "outputs": [
    {
     "name": "stdout",
     "output_type": "stream",
     "text": [
      "Accuracy score: 0.95\n"
     ]
    }
   ],
   "source": [
    "# evaluate the model performance using accuracy\n",
    "print(\"Accuracy score: %.2f\" % accuracy_score(y_test, predictions))"
   ]
  },
  {
   "cell_type": "code",
   "execution_count": 34,
   "metadata": {
    "colab": {},
    "colab_type": "code",
    "hidden": true,
    "id": "HEAnOMGxLJcV"
   },
   "outputs": [],
   "source": [
    "# evaluate the model performance using log loss\n",
    "\n",
    "### output the probabilities of assigning an observation to a class\n",
    "predictions_probabilities = logistic_reg.predict_proba(X_test)"
   ]
  },
  {
   "cell_type": "code",
   "execution_count": 35,
   "metadata": {
    "colab": {
     "base_uri": "https://localhost:8080/",
     "height": 34
    },
    "colab_type": "code",
    "hidden": true,
    "id": "QaMGKcHLLMdG",
    "outputId": "2c3a18e4-5a33-4f6d-e4af-77d4cacec7c9"
   },
   "outputs": [
    {
     "name": "stdout",
     "output_type": "stream",
     "text": [
      "Log-Loss likelihood: 0.20\n"
     ]
    }
   ],
   "source": [
    "print(\"Log-Loss likelihood: %.2f\" % log_loss(y_test, predictions_probabilities))"
   ]
  },
  {
   "cell_type": "code",
   "execution_count": 36,
   "metadata": {
    "colab": {
     "base_uri": "https://localhost:8080/",
     "height": 204
    },
    "colab_type": "code",
    "hidden": true,
    "id": "xQxu_g78LNuW",
    "outputId": "78cc61ef-b8ab-4fbb-db37-a986dc602f84"
   },
   "outputs": [
    {
     "name": "stdout",
     "output_type": "stream",
     "text": [
      "Classification report: \n",
      "               precision    recall  f1-score   support\n",
      "\n",
      "      setosa       1.00      1.00      1.00         9\n",
      "  versicolor       1.00      0.87      0.93        15\n",
      "   virginica       0.88      1.00      0.93        14\n",
      "\n",
      "    accuracy                           0.95        38\n",
      "   macro avg       0.96      0.96      0.95        38\n",
      "weighted avg       0.95      0.95      0.95        38\n",
      "\n"
     ]
    }
   ],
   "source": [
    "# evaluate the model performance using classification report\n",
    "print(\"Classification report: \\n\", classification_report(y_test, predictions, target_names=data.target_names))"
   ]
  },
  {
   "cell_type": "markdown",
   "metadata": {
    "colab_type": "text",
    "heading_collapsed": true,
    "hidden": true,
    "id": "NFVtlrUVLPi2"
   },
   "source": [
    "##### Classification evaluation metrics implemented with cross validation"
   ]
  },
  {
   "cell_type": "code",
   "execution_count": 47,
   "metadata": {
    "colab": {},
    "colab_type": "code",
    "hidden": true,
    "id": "cwTmx3hjLOt_"
   },
   "outputs": [],
   "source": [
    "from sklearn.linear_model import LogisticRegression\n",
    "from sklearn.model_selection import cross_val_score, KFold"
   ]
  },
  {
   "cell_type": "code",
   "execution_count": 48,
   "metadata": {
    "colab": {},
    "colab_type": "code",
    "hidden": true,
    "id": "5CkU6vJsLc2Z"
   },
   "outputs": [],
   "source": [
    "# load dataset\n",
    "data = datasets.load_iris()"
   ]
  },
  {
   "cell_type": "code",
   "execution_count": 49,
   "metadata": {
    "colab": {},
    "colab_type": "code",
    "hidden": true,
    "id": "h6P3bfc_LhBr"
   },
   "outputs": [],
   "source": [
    "# separate features and target\n",
    "X = data.data\n",
    "y = data.target"
   ]
  },
  {
   "cell_type": "code",
   "execution_count": 50,
   "metadata": {
    "colab": {},
    "colab_type": "code",
    "hidden": true,
    "id": "sl7vSBm5LiR0"
   },
   "outputs": [],
   "source": [
    "# initialize KFold - with shuffle = True, shuffle the data before splitting\n",
    "kfold = KFold(n_splits=3, shuffle=True)"
   ]
  },
  {
   "cell_type": "code",
   "execution_count": 51,
   "metadata": {
    "colab": {},
    "colab_type": "code",
    "hidden": true,
    "id": "ptflGvB_LjNr"
   },
   "outputs": [],
   "source": [
    "# create the model\n",
    "logistic_reg = LogisticRegression()"
   ]
  },
  {
   "cell_type": "code",
   "execution_count": 52,
   "metadata": {
    "colab": {
     "base_uri": "https://localhost:8080/",
     "height": 241
    },
    "colab_type": "code",
    "hidden": true,
    "id": "wSJ2kmn6LkID",
    "outputId": "10f75a32-f16c-4ca9-b5d0-fe7912bf4dd7"
   },
   "outputs": [
    {
     "name": "stderr",
     "output_type": "stream",
     "text": [
      "/Users/a.momin/opt/anaconda3/envs/fastai-cpu/lib/python3.6/site-packages/sklearn/linear_model/_logistic.py:764: ConvergenceWarning: lbfgs failed to converge (status=1):\n",
      "STOP: TOTAL NO. of ITERATIONS REACHED LIMIT.\n",
      "\n",
      "Increase the number of iterations (max_iter) or scale the data as shown in:\n",
      "    https://scikit-learn.org/stable/modules/preprocessing.html\n",
      "Please also refer to the documentation for alternative solver options:\n",
      "    https://scikit-learn.org/stable/modules/linear_model.html#logistic-regression\n",
      "  extra_warning_msg=_LOGISTIC_SOLVER_CONVERGENCE_MSG)\n"
     ]
    }
   ],
   "source": [
    "# fit the model using cross validation - score with accuracy\n",
    "accuracy_cv_result = cross_val_score(logistic_reg, X, y, cv=kfold, scoring=\"accuracy\")"
   ]
  },
  {
   "cell_type": "code",
   "execution_count": 53,
   "metadata": {
    "colab": {
     "base_uri": "https://localhost:8080/",
     "height": 34
    },
    "colab_type": "code",
    "hidden": true,
    "id": "r6hso7xELlSk",
    "outputId": "d29cb6e5-a978-4645-82dd-d22f6a14c4a7"
   },
   "outputs": [
    {
     "name": "stdout",
     "output_type": "stream",
     "text": [
      "Accuracy: 0.967% (0.025%)\n"
     ]
    }
   ],
   "source": [
    "# print accuracy cross validation output\n",
    "print(\"Accuracy: %.3f%% (%.3f%%)\" % (accuracy_cv_result.mean(), accuracy_cv_result.std()))"
   ]
  },
  {
   "cell_type": "code",
   "execution_count": 54,
   "metadata": {
    "colab": {
     "base_uri": "https://localhost:8080/",
     "height": 241
    },
    "colab_type": "code",
    "hidden": true,
    "id": "Z2QJbKdoLnt-",
    "outputId": "04ac0193-a66b-4f79-ddec-60e2e52db141"
   },
   "outputs": [
    {
     "name": "stderr",
     "output_type": "stream",
     "text": [
      "/Users/a.momin/opt/anaconda3/envs/fastai-cpu/lib/python3.6/site-packages/sklearn/linear_model/_logistic.py:764: ConvergenceWarning: lbfgs failed to converge (status=1):\n",
      "STOP: TOTAL NO. of ITERATIONS REACHED LIMIT.\n",
      "\n",
      "Increase the number of iterations (max_iter) or scale the data as shown in:\n",
      "    https://scikit-learn.org/stable/modules/preprocessing.html\n",
      "Please also refer to the documentation for alternative solver options:\n",
      "    https://scikit-learn.org/stable/modules/linear_model.html#logistic-regression\n",
      "  extra_warning_msg=_LOGISTIC_SOLVER_CONVERGENCE_MSG)\n"
     ]
    }
   ],
   "source": [
    "# fit the model using cross validation - score with Log-Loss\n",
    "logloss_cv_result = cross_val_score(logistic_reg, X, y, cv=kfold, scoring=\"neg_log_loss\")"
   ]
  },
  {
   "cell_type": "code",
   "execution_count": 55,
   "metadata": {
    "colab": {
     "base_uri": "https://localhost:8080/",
     "height": 34
    },
    "colab_type": "code",
    "hidden": true,
    "id": "a6qX9WmnLpxw",
    "outputId": "91c9143c-c405-44f1-8b3f-17828fe72880"
   },
   "outputs": [
    {
     "name": "stdout",
     "output_type": "stream",
     "text": [
      "Log-Loss likelihood: -0.148% (0.005%)\n"
     ]
    }
   ],
   "source": [
    "# print mse cross validation output\n",
    "print(\"Log-Loss likelihood: %.3f%% (%.3f%%)\" % (logloss_cv_result.mean(), logloss_cv_result.std()))"
   ]
  },
  {
   "cell_type": "markdown",
   "metadata": {
    "colab_type": "text",
    "heading_collapsed": true,
    "hidden": true,
    "id": "UUxf7OzWMfFn"
   },
   "source": [
    "#### Pipelines: Streamlining Machine Learning Workflows"
   ]
  },
  {
   "cell_type": "code",
   "execution_count": 0,
   "metadata": {
    "colab": {},
    "colab_type": "code",
    "hidden": true,
    "id": "EiCsf9WdMnHM"
   },
   "outputs": [],
   "source": [
    "# load dataset\n",
    "data = datasets.load_iris()"
   ]
  },
  {
   "cell_type": "code",
   "execution_count": 0,
   "metadata": {
    "colab": {},
    "colab_type": "code",
    "hidden": true,
    "id": "Yj27aSC9Mp1K"
   },
   "outputs": [],
   "source": [
    "# separate features and target\n",
    "X = data.data\n",
    "y = data.target"
   ]
  },
  {
   "cell_type": "code",
   "execution_count": 0,
   "metadata": {
    "colab": {},
    "colab_type": "code",
    "hidden": true,
    "id": "bca1OeSnMq-B"
   },
   "outputs": [],
   "source": [
    "# create the pipeline\n",
    "estimators = [\n",
    "    ('standardize' , StandardScaler()),\n",
    "    ('svc', SVC())\n",
    "]"
   ]
  },
  {
   "cell_type": "code",
   "execution_count": 0,
   "metadata": {
    "colab": {},
    "colab_type": "code",
    "hidden": true,
    "id": "QlAHwMzXMsOy"
   },
   "outputs": [],
   "source": [
    "# build the pipeline model\n",
    "pipe = Pipeline(estimators)"
   ]
  },
  {
   "cell_type": "code",
   "execution_count": 0,
   "metadata": {
    "colab": {},
    "colab_type": "code",
    "hidden": true,
    "id": "pTl_dDxWM-zw"
   },
   "outputs": [],
   "source": [
    "# run the pipeline\n",
    "kfold = KFold(n_splits=3, shuffle=True)\n",
    "cv_result = cross_val_score(pipe, X, y, cv=kfold)"
   ]
  },
  {
   "cell_type": "code",
   "execution_count": 0,
   "metadata": {
    "colab": {
     "base_uri": "https://localhost:8080/",
     "height": 34
    },
    "colab_type": "code",
    "hidden": true,
    "id": "b1pT4q6pNAAw",
    "outputId": "fe341394-a0bc-45a3-fe54-03f66ac4c2f0"
   },
   "outputs": [
    {
     "name": "stdout",
     "output_type": "stream",
     "text": [
      "Accuracy: 94.667% (0.943%)\n"
     ]
    }
   ],
   "source": [
    "# evaluate the model performance\n",
    "print(\"Accuracy: %.3f%% (%.3f%%)\" % (cv_result.mean()*100.0, cv_result.std()*100.0))"
   ]
  },
  {
   "cell_type": "markdown",
   "metadata": {
    "colab_type": "text",
    "heading_collapsed": true,
    "hidden": true,
    "id": "KshIODcPNEbn"
   },
   "source": [
    "##### Pipelines using make_pipeline"
   ]
  },
  {
   "cell_type": "code",
   "execution_count": 0,
   "metadata": {
    "colab": {},
    "colab_type": "code",
    "hidden": true,
    "id": "h-v0WuVjOF45"
   },
   "outputs": [],
   "source": [
    "# load dataset\n",
    "data = datasets.load_boston()"
   ]
  },
  {
   "cell_type": "code",
   "execution_count": 0,
   "metadata": {
    "colab": {},
    "colab_type": "code",
    "hidden": true,
    "id": "_r5KHfrrOHf5"
   },
   "outputs": [],
   "source": [
    "# separate features and target\n",
    "X = data.data\n",
    "y = data.target"
   ]
  },
  {
   "cell_type": "code",
   "execution_count": 0,
   "metadata": {
    "colab": {},
    "colab_type": "code",
    "hidden": true,
    "id": "hE9JsSbkOIu6"
   },
   "outputs": [],
   "source": [
    "# build the pipeline model\n",
    "pipe = make_pipeline(\n",
    "    PCA(n_components=9),\n",
    "    RandomForestRegressor()\n",
    ")"
   ]
  },
  {
   "cell_type": "code",
   "execution_count": 0,
   "metadata": {
    "colab": {
     "base_uri": "https://localhost:8080/",
     "height": 173
    },
    "colab_type": "code",
    "hidden": true,
    "id": "a2cOV5L9OJ76",
    "outputId": "7658e321-a22c-4f84-aa3c-ca86e6d13306"
   },
   "outputs": [
    {
     "name": "stderr",
     "output_type": "stream",
     "text": [
      "/usr/local/lib/python3.6/dist-packages/sklearn/ensemble/forest.py:245: FutureWarning: The default value of n_estimators will change from 10 in version 0.20 to 100 in 0.22.\n",
      "  \"10 in version 0.20 to 100 in 0.22.\", FutureWarning)\n",
      "/usr/local/lib/python3.6/dist-packages/sklearn/ensemble/forest.py:245: FutureWarning: The default value of n_estimators will change from 10 in version 0.20 to 100 in 0.22.\n",
      "  \"10 in version 0.20 to 100 in 0.22.\", FutureWarning)\n",
      "/usr/local/lib/python3.6/dist-packages/sklearn/ensemble/forest.py:245: FutureWarning: The default value of n_estimators will change from 10 in version 0.20 to 100 in 0.22.\n",
      "  \"10 in version 0.20 to 100 in 0.22.\", FutureWarning)\n",
      "/usr/local/lib/python3.6/dist-packages/sklearn/ensemble/forest.py:245: FutureWarning: The default value of n_estimators will change from 10 in version 0.20 to 100 in 0.22.\n",
      "  \"10 in version 0.20 to 100 in 0.22.\", FutureWarning)\n"
     ]
    }
   ],
   "source": [
    "# run the pipeline\n",
    "kfold = KFold(n_splits=4, shuffle=True)\n",
    "cv_result = cross_val_score(pipe, X, y, cv=kfold)"
   ]
  },
  {
   "cell_type": "code",
   "execution_count": 0,
   "metadata": {
    "colab": {
     "base_uri": "https://localhost:8080/",
     "height": 34
    },
    "colab_type": "code",
    "hidden": true,
    "id": "Xe52maI5OLI6",
    "outputId": "d6ceb756-ca00-4b7f-9c10-ae6637dca2be"
   },
   "outputs": [
    {
     "name": "stdout",
     "output_type": "stream",
     "text": [
      "Accuracy: 71.706% (2.767%)\n"
     ]
    }
   ],
   "source": [
    "# evaluate the model performance\n",
    "print(\"Accuracy: %.3f%% (%.3f%%)\" % (cv_result.mean()*100.0, cv_result.std()*100.0))"
   ]
  },
  {
   "cell_type": "markdown",
   "metadata": {
    "colab_type": "text",
    "heading_collapsed": true,
    "hidden": true,
    "id": "xStEp3jhOODT"
   },
   "source": [
    "##### Pipelines using FeatureUnion"
   ]
  },
  {
   "cell_type": "code",
   "execution_count": 0,
   "metadata": {
    "colab": {},
    "colab_type": "code",
    "hidden": true,
    "id": "V7Q9AVBFOTB1"
   },
   "outputs": [],
   "source": [
    "# load dataset\n",
    "data = datasets.load_boston()"
   ]
  },
  {
   "cell_type": "code",
   "execution_count": 0,
   "metadata": {
    "colab": {},
    "colab_type": "code",
    "hidden": true,
    "id": "zwv-sclkOUDG"
   },
   "outputs": [],
   "source": [
    "# separate features and target\n",
    "X = data.data\n",
    "y = data.target"
   ]
  },
  {
   "cell_type": "code",
   "execution_count": 0,
   "metadata": {
    "colab": {},
    "colab_type": "code",
    "hidden": true,
    "id": "eUD_DaQLOVJt"
   },
   "outputs": [],
   "source": [
    "# construct pipeline for feature engineering - make_union similar to make_pipeline\n",
    "feature_engr = make_union(\n",
    "    RFE(estimator=RandomForestRegressor(n_estimators=100), n_features_to_select=6),\n",
    "    PCA(n_components=9)\n",
    ")"
   ]
  },
  {
   "cell_type": "code",
   "execution_count": 0,
   "metadata": {
    "colab": {},
    "colab_type": "code",
    "hidden": true,
    "id": "LscsAaLVOWON"
   },
   "outputs": [],
   "source": [
    "# build the pipeline model\n",
    "pipe = make_pipeline(\n",
    "    feature_engr,\n",
    "    GradientBoostingRegressor(n_estimators=100)\n",
    ")"
   ]
  },
  {
   "cell_type": "code",
   "execution_count": 0,
   "metadata": {
    "colab": {},
    "colab_type": "code",
    "hidden": true,
    "id": "j7RcwAQrOXfG"
   },
   "outputs": [],
   "source": [
    "# run the pipeline\n",
    "kfold = KFold(n_splits=4, shuffle=True)\n",
    "cv_result = cross_val_score(pipe, X, y, cv=kfold)"
   ]
  },
  {
   "cell_type": "code",
   "execution_count": 0,
   "metadata": {
    "colab": {
     "base_uri": "https://localhost:8080/",
     "height": 34
    },
    "colab_type": "code",
    "hidden": true,
    "id": "vs3D5iFMOY0W",
    "outputId": "6ca51a49-fe4a-4b61-f156-89c029403002"
   },
   "outputs": [
    {
     "name": "stdout",
     "output_type": "stream",
     "text": [
      "Accuracy: 88.088% (3.096%)\n"
     ]
    }
   ],
   "source": [
    "# evaluate the model performance\n",
    "print(\"Accuracy: %.3f%% (%.3f%%)\" % (cv_result.mean()*100.0, cv_result.std()*100.0))"
   ]
  },
  {
   "cell_type": "markdown",
   "metadata": {
    "colab_type": "text",
    "heading_collapsed": true,
    "hidden": true,
    "id": "n--7183HOw4j"
   },
   "source": [
    "#### Model tuning"
   ]
  },
  {
   "cell_type": "markdown",
   "metadata": {
    "colab_type": "text",
    "heading_collapsed": true,
    "hidden": true,
    "id": "9Xn6391AOxwN"
   },
   "source": [
    "##### Grid Search"
   ]
  },
  {
   "cell_type": "code",
   "execution_count": 46,
   "metadata": {
    "colab": {},
    "colab_type": "code",
    "hidden": true,
    "id": "tEzt6et9V99j"
   },
   "outputs": [],
   "source": [
    "boston_houses = ds.load_boston()\n",
    "# print(boston_houses['DESCR'])"
   ]
  },
  {
   "cell_type": "code",
   "execution_count": 35,
   "metadata": {
    "hidden": true
   },
   "outputs": [
    {
     "data": {
      "text/html": [
       "<div>\n",
       "<style scoped>\n",
       "    .dataframe tbody tr th:only-of-type {\n",
       "        vertical-align: middle;\n",
       "    }\n",
       "\n",
       "    .dataframe tbody tr th {\n",
       "        vertical-align: top;\n",
       "    }\n",
       "\n",
       "    .dataframe thead th {\n",
       "        text-align: right;\n",
       "    }\n",
       "</style>\n",
       "<table border=\"1\" class=\"dataframe\">\n",
       "  <thead>\n",
       "    <tr style=\"text-align: right;\">\n",
       "      <th></th>\n",
       "      <th>CRIM</th>\n",
       "      <th>ZN</th>\n",
       "      <th>INDUS</th>\n",
       "      <th>CHAS</th>\n",
       "      <th>NOX</th>\n",
       "      <th>RM</th>\n",
       "      <th>AGE</th>\n",
       "      <th>DIS</th>\n",
       "      <th>RAD</th>\n",
       "      <th>TAX</th>\n",
       "      <th>PTRATIO</th>\n",
       "      <th>B</th>\n",
       "      <th>LSTAT</th>\n",
       "      <th>MedianValue</th>\n",
       "    </tr>\n",
       "  </thead>\n",
       "  <tbody>\n",
       "    <tr>\n",
       "      <th>0</th>\n",
       "      <td>0.00632</td>\n",
       "      <td>18.0</td>\n",
       "      <td>2.31</td>\n",
       "      <td>0.0</td>\n",
       "      <td>0.538</td>\n",
       "      <td>6.575</td>\n",
       "      <td>65.2</td>\n",
       "      <td>4.0900</td>\n",
       "      <td>1.0</td>\n",
       "      <td>296.0</td>\n",
       "      <td>15.3</td>\n",
       "      <td>396.90</td>\n",
       "      <td>4.98</td>\n",
       "      <td>24000.0</td>\n",
       "    </tr>\n",
       "    <tr>\n",
       "      <th>1</th>\n",
       "      <td>0.02731</td>\n",
       "      <td>0.0</td>\n",
       "      <td>7.07</td>\n",
       "      <td>0.0</td>\n",
       "      <td>0.469</td>\n",
       "      <td>6.421</td>\n",
       "      <td>78.9</td>\n",
       "      <td>4.9671</td>\n",
       "      <td>2.0</td>\n",
       "      <td>242.0</td>\n",
       "      <td>17.8</td>\n",
       "      <td>396.90</td>\n",
       "      <td>9.14</td>\n",
       "      <td>21600.0</td>\n",
       "    </tr>\n",
       "    <tr>\n",
       "      <th>2</th>\n",
       "      <td>0.02729</td>\n",
       "      <td>0.0</td>\n",
       "      <td>7.07</td>\n",
       "      <td>0.0</td>\n",
       "      <td>0.469</td>\n",
       "      <td>7.185</td>\n",
       "      <td>61.1</td>\n",
       "      <td>4.9671</td>\n",
       "      <td>2.0</td>\n",
       "      <td>242.0</td>\n",
       "      <td>17.8</td>\n",
       "      <td>392.83</td>\n",
       "      <td>4.03</td>\n",
       "      <td>34700.0</td>\n",
       "    </tr>\n",
       "    <tr>\n",
       "      <th>3</th>\n",
       "      <td>0.03237</td>\n",
       "      <td>0.0</td>\n",
       "      <td>2.18</td>\n",
       "      <td>0.0</td>\n",
       "      <td>0.458</td>\n",
       "      <td>6.998</td>\n",
       "      <td>45.8</td>\n",
       "      <td>6.0622</td>\n",
       "      <td>3.0</td>\n",
       "      <td>222.0</td>\n",
       "      <td>18.7</td>\n",
       "      <td>394.63</td>\n",
       "      <td>2.94</td>\n",
       "      <td>33400.0</td>\n",
       "    </tr>\n",
       "    <tr>\n",
       "      <th>4</th>\n",
       "      <td>0.06905</td>\n",
       "      <td>0.0</td>\n",
       "      <td>2.18</td>\n",
       "      <td>0.0</td>\n",
       "      <td>0.458</td>\n",
       "      <td>7.147</td>\n",
       "      <td>54.2</td>\n",
       "      <td>6.0622</td>\n",
       "      <td>3.0</td>\n",
       "      <td>222.0</td>\n",
       "      <td>18.7</td>\n",
       "      <td>396.90</td>\n",
       "      <td>5.33</td>\n",
       "      <td>36200.0</td>\n",
       "    </tr>\n",
       "    <tr>\n",
       "      <th>...</th>\n",
       "      <td>...</td>\n",
       "      <td>...</td>\n",
       "      <td>...</td>\n",
       "      <td>...</td>\n",
       "      <td>...</td>\n",
       "      <td>...</td>\n",
       "      <td>...</td>\n",
       "      <td>...</td>\n",
       "      <td>...</td>\n",
       "      <td>...</td>\n",
       "      <td>...</td>\n",
       "      <td>...</td>\n",
       "      <td>...</td>\n",
       "      <td>...</td>\n",
       "    </tr>\n",
       "    <tr>\n",
       "      <th>501</th>\n",
       "      <td>0.06263</td>\n",
       "      <td>0.0</td>\n",
       "      <td>11.93</td>\n",
       "      <td>0.0</td>\n",
       "      <td>0.573</td>\n",
       "      <td>6.593</td>\n",
       "      <td>69.1</td>\n",
       "      <td>2.4786</td>\n",
       "      <td>1.0</td>\n",
       "      <td>273.0</td>\n",
       "      <td>21.0</td>\n",
       "      <td>391.99</td>\n",
       "      <td>9.67</td>\n",
       "      <td>22400.0</td>\n",
       "    </tr>\n",
       "    <tr>\n",
       "      <th>502</th>\n",
       "      <td>0.04527</td>\n",
       "      <td>0.0</td>\n",
       "      <td>11.93</td>\n",
       "      <td>0.0</td>\n",
       "      <td>0.573</td>\n",
       "      <td>6.120</td>\n",
       "      <td>76.7</td>\n",
       "      <td>2.2875</td>\n",
       "      <td>1.0</td>\n",
       "      <td>273.0</td>\n",
       "      <td>21.0</td>\n",
       "      <td>396.90</td>\n",
       "      <td>9.08</td>\n",
       "      <td>20600.0</td>\n",
       "    </tr>\n",
       "    <tr>\n",
       "      <th>503</th>\n",
       "      <td>0.06076</td>\n",
       "      <td>0.0</td>\n",
       "      <td>11.93</td>\n",
       "      <td>0.0</td>\n",
       "      <td>0.573</td>\n",
       "      <td>6.976</td>\n",
       "      <td>91.0</td>\n",
       "      <td>2.1675</td>\n",
       "      <td>1.0</td>\n",
       "      <td>273.0</td>\n",
       "      <td>21.0</td>\n",
       "      <td>396.90</td>\n",
       "      <td>5.64</td>\n",
       "      <td>23900.0</td>\n",
       "    </tr>\n",
       "    <tr>\n",
       "      <th>504</th>\n",
       "      <td>0.10959</td>\n",
       "      <td>0.0</td>\n",
       "      <td>11.93</td>\n",
       "      <td>0.0</td>\n",
       "      <td>0.573</td>\n",
       "      <td>6.794</td>\n",
       "      <td>89.3</td>\n",
       "      <td>2.3889</td>\n",
       "      <td>1.0</td>\n",
       "      <td>273.0</td>\n",
       "      <td>21.0</td>\n",
       "      <td>393.45</td>\n",
       "      <td>6.48</td>\n",
       "      <td>22000.0</td>\n",
       "    </tr>\n",
       "    <tr>\n",
       "      <th>505</th>\n",
       "      <td>0.04741</td>\n",
       "      <td>0.0</td>\n",
       "      <td>11.93</td>\n",
       "      <td>0.0</td>\n",
       "      <td>0.573</td>\n",
       "      <td>6.030</td>\n",
       "      <td>80.8</td>\n",
       "      <td>2.5050</td>\n",
       "      <td>1.0</td>\n",
       "      <td>273.0</td>\n",
       "      <td>21.0</td>\n",
       "      <td>396.90</td>\n",
       "      <td>7.88</td>\n",
       "      <td>11900.0</td>\n",
       "    </tr>\n",
       "  </tbody>\n",
       "</table>\n",
       "<p>506 rows × 14 columns</p>\n",
       "</div>"
      ],
      "text/plain": [
       "        CRIM    ZN  INDUS  CHAS    NOX     RM   AGE     DIS  RAD    TAX  \\\n",
       "0    0.00632  18.0   2.31   0.0  0.538  6.575  65.2  4.0900  1.0  296.0   \n",
       "1    0.02731   0.0   7.07   0.0  0.469  6.421  78.9  4.9671  2.0  242.0   \n",
       "2    0.02729   0.0   7.07   0.0  0.469  7.185  61.1  4.9671  2.0  242.0   \n",
       "3    0.03237   0.0   2.18   0.0  0.458  6.998  45.8  6.0622  3.0  222.0   \n",
       "4    0.06905   0.0   2.18   0.0  0.458  7.147  54.2  6.0622  3.0  222.0   \n",
       "..       ...   ...    ...   ...    ...    ...   ...     ...  ...    ...   \n",
       "501  0.06263   0.0  11.93   0.0  0.573  6.593  69.1  2.4786  1.0  273.0   \n",
       "502  0.04527   0.0  11.93   0.0  0.573  6.120  76.7  2.2875  1.0  273.0   \n",
       "503  0.06076   0.0  11.93   0.0  0.573  6.976  91.0  2.1675  1.0  273.0   \n",
       "504  0.10959   0.0  11.93   0.0  0.573  6.794  89.3  2.3889  1.0  273.0   \n",
       "505  0.04741   0.0  11.93   0.0  0.573  6.030  80.8  2.5050  1.0  273.0   \n",
       "\n",
       "     PTRATIO       B  LSTAT  MedianValue  \n",
       "0       15.3  396.90   4.98      24000.0  \n",
       "1       17.8  396.90   9.14      21600.0  \n",
       "2       17.8  392.83   4.03      34700.0  \n",
       "3       18.7  394.63   2.94      33400.0  \n",
       "4       18.7  396.90   5.33      36200.0  \n",
       "..       ...     ...    ...          ...  \n",
       "501     21.0  391.99   9.67      22400.0  \n",
       "502     21.0  396.90   9.08      20600.0  \n",
       "503     21.0  396.90   5.64      23900.0  \n",
       "504     21.0  393.45   6.48      22000.0  \n",
       "505     21.0  396.90   7.88      11900.0  \n",
       "\n",
       "[506 rows x 14 columns]"
      ]
     },
     "execution_count": 35,
     "metadata": {},
     "output_type": "execute_result"
    }
   ],
   "source": [
    "df = pd.DataFrame(boston_houses['data'], columns=boston_houses['feature_names'])\n",
    "df['MedianValue'] = boston_houses['target']*1000\n",
    "df"
   ]
  },
  {
   "cell_type": "code",
   "execution_count": 14,
   "metadata": {
    "colab": {},
    "colab_type": "code",
    "hidden": true,
    "id": "Ft4t7_KNV_ub"
   },
   "outputs": [],
   "source": [
    "# separate features and target\n",
    "X = boston_houses.data\n",
    "y = boston_houses.target"
   ]
  },
  {
   "cell_type": "code",
   "execution_count": 47,
   "metadata": {
    "colab": {},
    "colab_type": "code",
    "hidden": true,
    "id": "jFw73OYWWB87"
   },
   "outputs": [],
   "source": [
    "# construct grid search parameters in a dictionary\n",
    "parameters = {\n",
    "    'n_estimators': [2, 4, 6, 8, 10, 12, 14, 16],\n",
    "    'max_depth': [2, 4, 6, 8],\n",
    "    'min_samples_leaf': [1,2,3,4,5]\n",
    "    }"
   ]
  },
  {
   "cell_type": "code",
   "execution_count": 17,
   "metadata": {
    "colab": {},
    "colab_type": "code",
    "hidden": true,
    "id": "9fIPE9IRWDR0"
   },
   "outputs": [],
   "source": [
    "# create the model\n",
    "rf = RandomForestRegressor()"
   ]
  },
  {
   "cell_type": "code",
   "execution_count": 18,
   "metadata": {
    "colab": {},
    "colab_type": "code",
    "hidden": true,
    "id": "ICJuyFcXWEqX"
   },
   "outputs": [],
   "source": [
    "# run the grid search\n",
    "grid_search = GridSearchCV(estimator=rf, param_grid=parameters)"
   ]
  },
  {
   "cell_type": "code",
   "execution_count": 19,
   "metadata": {
    "colab": {
     "base_uri": "https://localhost:8080/",
     "height": 428
    },
    "colab_type": "code",
    "hidden": true,
    "id": "Rs5oB8fCWF2d",
    "outputId": "42b990a2-813e-4725-8b50-f98b740020a7"
   },
   "outputs": [
    {
     "data": {
      "text/plain": [
       "GridSearchCV(estimator=RandomForestRegressor(),\n",
       "             param_grid={'max_depth': [2, 4, 6, 8],\n",
       "                         'min_samples_leaf': [1, 2, 3, 4, 5],\n",
       "                         'n_estimators': [2, 4, 6, 8, 10, 12, 14, 16]})"
      ]
     },
     "execution_count": 19,
     "metadata": {},
     "output_type": "execute_result"
    }
   ],
   "source": [
    "# fit the model\n",
    "grid_search.fit(X,y)"
   ]
  },
  {
   "cell_type": "code",
   "execution_count": 20,
   "metadata": {
    "colab": {
     "base_uri": "https://localhost:8080/",
     "height": 34
    },
    "colab_type": "code",
    "hidden": true,
    "id": "wCbe6sUWWHLd",
    "outputId": "8e76328a-4c35-4b9d-a928-8e3f12b9838a"
   },
   "outputs": [
    {
     "name": "stdout",
     "output_type": "stream",
     "text": [
      "Best Accuracy: 63.311%\n"
     ]
    }
   ],
   "source": [
    "# evaluate the model performance\n",
    "print(\"Best Accuracy: %.3f%%\" %  (grid_search.best_score_*100.0))"
   ]
  },
  {
   "cell_type": "code",
   "execution_count": 0,
   "metadata": {
    "colab": {
     "base_uri": "https://localhost:8080/",
     "height": 68
    },
    "colab_type": "code",
    "hidden": true,
    "id": "Yz2T9T-GWJve",
    "outputId": "6530ff10-be6e-418b-e3dc-5144a4b927e5"
   },
   "outputs": [
    {
     "name": "stdout",
     "output_type": "stream",
     "text": [
      "Best n_estimators: 2 \n",
      "Best max_depth: 8 \n",
      "Best min_samples_leaf: 2 \n"
     ]
    }
   ],
   "source": [
    "# best set of hyper-parameter values\n",
    "print(\"Best n_estimators: %d \\nBest max_depth: %d \\nBest min_samples_leaf: %d \" %  \\\n",
    "            (grid_search.best_estimator_.n_estimators, \\\n",
    "            grid_search.best_estimator_.max_depth, \\\n",
    "            grid_search.best_estimator_.min_samples_leaf))"
   ]
  },
  {
   "cell_type": "markdown",
   "metadata": {
    "colab_type": "text",
    "heading_collapsed": true,
    "hidden": true,
    "id": "l5bC5IFAWPOH"
   },
   "source": [
    "##### Randomized Search"
   ]
  },
  {
   "cell_type": "code",
   "execution_count": 38,
   "metadata": {
    "colab": {},
    "colab_type": "code",
    "hidden": true,
    "id": "ItZxVqmhXKFu"
   },
   "outputs": [],
   "source": [
    "# load dataset\n",
    "data = datasets.load_boston()"
   ]
  },
  {
   "cell_type": "code",
   "execution_count": 39,
   "metadata": {
    "colab": {},
    "colab_type": "code",
    "hidden": true,
    "id": "TPOqxkfOXLQj"
   },
   "outputs": [],
   "source": [
    "# separate features and target\n",
    "X = data.data\n",
    "y = data.target"
   ]
  },
  {
   "cell_type": "code",
   "execution_count": 40,
   "metadata": {
    "colab": {},
    "colab_type": "code",
    "hidden": true,
    "id": "n7hVlmTVXM8M"
   },
   "outputs": [],
   "source": [
    "# construct grid search parameters in a dictionary\n",
    "parameters = {\n",
    "    'n_estimators': [2, 4, 6, 8, 10, 12, 14, 16],\n",
    "    'max_depth': [2, 4, 6, 8],\n",
    "    'min_samples_leaf': [1,2,3,4,5]\n",
    "}"
   ]
  },
  {
   "cell_type": "code",
   "execution_count": 41,
   "metadata": {
    "colab": {},
    "colab_type": "code",
    "hidden": true,
    "id": "oy_7IUu4XOMb"
   },
   "outputs": [],
   "source": [
    "# create the model\n",
    "rf_model = RandomForestRegressor()"
   ]
  },
  {
   "cell_type": "code",
   "execution_count": 42,
   "metadata": {
    "colab": {},
    "colab_type": "code",
    "hidden": true,
    "id": "JXtFLUesXPNk"
   },
   "outputs": [],
   "source": [
    "# run the grid search\n",
    "randomized_search = RandomizedSearchCV(estimator=rf_model, param_distributions=parameters, n_iter=10)"
   ]
  },
  {
   "cell_type": "code",
   "execution_count": 43,
   "metadata": {
    "colab": {
     "base_uri": "https://localhost:8080/",
     "height": 479
    },
    "colab_type": "code",
    "hidden": true,
    "id": "dkCLGQw0XQLt",
    "outputId": "7aa9fe19-1a6d-4c26-ffa0-1ce86c7422fa"
   },
   "outputs": [
    {
     "data": {
      "text/plain": [
       "RandomizedSearchCV(estimator=RandomForestRegressor(),\n",
       "                   param_distributions={'max_depth': [2, 4, 6, 8],\n",
       "                                        'min_samples_leaf': [1, 2, 3, 4, 5],\n",
       "                                        'n_estimators': [2, 4, 6, 8, 10, 12, 14,\n",
       "                                                         16]})"
      ]
     },
     "execution_count": 43,
     "metadata": {},
     "output_type": "execute_result"
    }
   ],
   "source": [
    "# fit the model\n",
    "randomized_search.fit(X,y)"
   ]
  },
  {
   "cell_type": "code",
   "execution_count": 44,
   "metadata": {
    "colab": {
     "base_uri": "https://localhost:8080/",
     "height": 34
    },
    "colab_type": "code",
    "hidden": true,
    "id": "BYnVi7umXRcm",
    "outputId": "8346c3b3-9ac4-4a06-f256-fada490c1be5"
   },
   "outputs": [
    {
     "name": "stdout",
     "output_type": "stream",
     "text": [
      "Best Accuracy: 57.369%\n"
     ]
    }
   ],
   "source": [
    "# evaluate the model performance\n",
    "print(\"Best Accuracy: %.3f%%\" %  (randomized_search.best_score_*100.0))"
   ]
  },
  {
   "cell_type": "code",
   "execution_count": 45,
   "metadata": {
    "colab": {
     "base_uri": "https://localhost:8080/",
     "height": 68
    },
    "colab_type": "code",
    "hidden": true,
    "id": "uEI07_W7XTZm",
    "outputId": "f2b0232f-213f-4b13-a6e8-e186eb5252bf"
   },
   "outputs": [
    {
     "name": "stdout",
     "output_type": "stream",
     "text": [
      "Best n_estimators: 8 \n",
      "Best max_depth: 4 \n",
      "Best min_samples_leaf: 3 \n"
     ]
    }
   ],
   "source": [
    "# best set of hyper-parameter values\n",
    "print(\"Best n_estimators: %d \\nBest max_depth: %d \\nBest min_samples_leaf: %d \" %  \\\n",
    "            (randomized_search.best_estimator_.n_estimators, \\\n",
    "            randomized_search.best_estimator_.max_depth, \\\n",
    "            randomized_search.best_estimator_.min_samples_leaf))"
   ]
  },
  {
   "cell_type": "code",
   "execution_count": null,
   "metadata": {
    "hidden": true
   },
   "outputs": [],
   "source": []
  }
 ],
 "metadata": {
  "colab": {
   "collapsed_sections": [
    "cQijYmY4Fa15",
    "DxPLZBS0GF2b",
    "65l6P14GGSkm",
    "7jtGgk7eGrfC",
    "wes57SXeGvEA",
    "9y78xFs7HBnR",
    "TxSsWX7KHQz0",
    "yxUWKVbhHTsv",
    "misBCbIiHxt4",
    "FM-58bD1IRLB",
    "NFVtlrUVLPi2",
    "UUxf7OzWMfFn",
    "KshIODcPNEbn",
    "xStEp3jhOODT",
    "n--7183HOw4j",
    "9Xn6391AOxwN",
    "l5bC5IFAWPOH"
   ],
   "name": "more_supervised_machine_learning_techniques.ipynb",
   "provenance": [],
   "version": "0.3.2"
  },
  "kernelspec": {
   "display_name": "Python 3 (ipykernel)",
   "language": "python",
   "name": "python3"
  },
  "language_info": {
   "codemirror_mode": {
    "name": "ipython",
    "version": 3
   },
   "file_extension": ".py",
   "mimetype": "text/x-python",
   "name": "python",
   "nbconvert_exporter": "python",
   "pygments_lexer": "ipython3",
   "version": "3.10.9"
  },
  "toc": {
   "base_numbering": 1,
   "nav_menu": {},
   "number_sections": true,
   "sideBar": true,
   "skip_h1_title": false,
   "title_cell": "Table of Contents",
   "title_sidebar": "Contents",
   "toc_cell": true,
   "toc_position": {},
   "toc_section_display": true,
   "toc_window_display": false
  }
 },
 "nbformat": 4,
 "nbformat_minor": 1
}
