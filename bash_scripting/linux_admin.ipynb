{
 "cells": [
  {
   "cell_type": "markdown",
   "id": "4c5b7fa7",
   "metadata": {
    "toc": true
   },
   "source": [
    "<h1>Table of Contents<span class=\"tocSkip\"></span></h1>\n",
    "<div class=\"toc\"><ul class=\"toc-item\"><li><span><a href=\"#Rough\" data-toc-modified-id=\"Rough-1\">Rough</a></span></li><li><span><a href=\"#Linux-Crash-Course---Formatting-&amp;-Mounting-Storage-Volumes\" data-toc-modified-id=\"Linux-Crash-Course---Formatting-&amp;-Mounting-Storage-Volumes-2\"><a href=\"https://www.youtube.com/watch?v=2Z6ouBYfZr8\" rel=\"nofollow\" target=\"_blank\">Linux Crash Course - Formatting &amp; Mounting Storage Volumes</a></a></span></li></ul></div>"
   ]
  },
  {
   "cell_type": "markdown",
   "id": "61673ca3",
   "metadata": {},
   "source": [
    "### Rough"
   ]
  },
  {
   "cell_type": "code",
   "execution_count": null,
   "id": "cae65a1d",
   "metadata": {},
   "outputs": [],
   "source": []
  },
  {
   "cell_type": "code",
   "execution_count": 26,
   "id": "a1a089fb",
   "metadata": {},
   "outputs": [
    {
     "name": "stdout",
     "output_type": "stream",
     "text": [
      "Hydrogen Helium Lithium Beryllium \n"
     ]
    }
   ],
   "source": [
    "VAR=\"\"\n",
    "for ELEMENT in 'Hydrogen' 'Helium' 'Lithium' 'Beryllium'; do\n",
    "  VAR+=\"${ELEMENT} \"\n",
    "done\n",
    "\n",
    "echo \"$VAR\"\n"
   ]
  },
  {
   "cell_type": "code",
   "execution_count": 29,
   "id": "93b0b429",
   "metadata": {},
   "outputs": [
    {
     "name": "stdout",
     "output_type": "stream",
     "text": [
      "I like to use testing sometimes\n"
     ]
    }
   ],
   "source": [
    "var1=\"testing\"\n",
    "echo \"\"I like to use \"${var1}\" sometimes\"\""
   ]
  },
  {
   "cell_type": "code",
   "execution_count": 32,
   "id": "aa71e786",
   "metadata": {},
   "outputs": [
    {
     "name": "stdout",
     "output_type": "stream",
     "text": [
      "CONTAINER ID   IMAGE     COMMAND   CREATED   STATUS    PORTS     NAMES\n"
     ]
    }
   ],
   "source": [
    "docker ps"
   ]
  },
  {
   "cell_type": "code",
   "execution_count": 35,
   "id": "73c3ee5b",
   "metadata": {},
   "outputs": [
    {
     "name": "stdout",
     "output_type": "stream",
     "text": [
      "my Shell vari: SHELL=/bin/bash\n"
     ]
    }
   ],
   "source": [
    "echo \"my Shell vari: `env | grep SHELL`\""
   ]
  },
  {
   "cell_type": "code",
   "execution_count": 36,
   "id": "47a43f01",
   "metadata": {},
   "outputs": [],
   "source": [
    "IN=\"bla@some.com;john@home.com\"\n",
    "mails=$(echo $IN | tr \";\" \"\\n\")"
   ]
  },
  {
   "cell_type": "code",
   "execution_count": 37,
   "id": "b2214581",
   "metadata": {},
   "outputs": [
    {
     "name": "stdout",
     "output_type": "stream",
     "text": [
      "bla@some.com john@home.com\n"
     ]
    }
   ],
   "source": [
    "echo $mails"
   ]
  },
  {
   "cell_type": "code",
   "execution_count": 39,
   "id": "631588c9",
   "metadata": {},
   "outputs": [
    {
     "name": "stdout",
     "output_type": "stream",
     "text": [
      "bla@some.com john@home.com[0]\n"
     ]
    }
   ],
   "source": [
    "echo $mails[0]"
   ]
  },
  {
   "cell_type": "code",
   "execution_count": 45,
   "id": "2f95fb5a",
   "metadata": {},
   "outputs": [
    {
     "name": "stdout",
     "output_type": "stream",
     "text": [
      "R-STRING\n",
      "ST\n"
     ]
    }
   ],
   "source": [
    "string=YOUR-STRING\n",
    "echo ${string:3}\n",
    "echo ${string:5:2}"
   ]
  },
  {
   "cell_type": "code",
   "execution_count": null,
   "id": "dc753949",
   "metadata": {},
   "outputs": [],
   "source": []
  },
  {
   "cell_type": "code",
   "execution_count": null,
   "id": "926ebaea",
   "metadata": {},
   "outputs": [],
   "source": []
  },
  {
   "cell_type": "code",
   "execution_count": null,
   "id": "2b9099d0",
   "metadata": {},
   "outputs": [],
   "source": []
  },
  {
   "cell_type": "markdown",
   "id": "f964b7aa",
   "metadata": {},
   "source": [
    "### [Linux Crash Course - Formatting & Mounting Storage Volumes](https://www.youtube.com/watch?v=2Z6ouBYfZr8)"
   ]
  },
  {
   "cell_type": "markdown",
   "id": "5db1b653",
   "metadata": {},
   "source": [
    "<b style=\"color:red\">EXTRA CARE NEEDED</b>\n",
    "\n",
    "<b style=\"color:red\">DO NOT EXECUTE ANY COMMAND WITHOUT KNOWING WHAT ID DOES EXACTLY</b>"
   ]
  },
  {
   "cell_type": "code",
   "execution_count": 2,
   "id": "e6a7e8d6",
   "metadata": {},
   "outputs": [
    {
     "name": "stdout",
     "output_type": "stream",
     "text": [
      "bash: lsblk: command not found\n"
     ]
    },
    {
     "ename": "",
     "evalue": "127",
     "output_type": "error",
     "traceback": []
    }
   ],
   "source": [
    "lsblk"
   ]
  },
  {
   "cell_type": "code",
   "execution_count": 3,
   "id": "10ce6014",
   "metadata": {},
   "outputs": [
    {
     "name": "stdout",
     "output_type": "stream",
     "text": [
      "Password:\r\n"
     ]
    }
   ],
   "source": [
    "# sudo fdisk -f"
   ]
  },
  {
   "cell_type": "code",
   "execution_count": 4,
   "id": "76a2861e",
   "metadata": {},
   "outputs": [
    {
     "name": "stdout",
     "output_type": "stream",
     "text": [
      "/dev/disk1s5 on / (apfs, local, read-only, journaled)\n",
      "devfs on /dev (devfs, local, nobrowse)\n",
      "/dev/disk1s1 on /System/Volumes/Data (apfs, local, journaled, nobrowse)\n",
      "/dev/disk1s4 on /private/var/vm (apfs, local, journaled, nobrowse)\n",
      "map auto_home on /System/Volumes/Data/home (autofs, automounted, nobrowse)\n",
      "drivefs on /Volumes/GoogleDrive (dfsfuse_DFS, local, nodev, nosuid, synchronous, mounted by a.momin)\n"
     ]
    }
   ],
   "source": [
    "mount"
   ]
  },
  {
   "cell_type": "markdown",
   "id": "3bb5c645",
   "metadata": {},
   "source": [
    "- [Mount Command in Linux](https://linuxopsys.com/topics/mount-command-in-linux)\n",
    "-[How To Mount and Unmount Drives on Linux](https://devconnected.com/how-to-mount-and-unmount-drives-on-linux/)"
   ]
  },
  {
   "cell_type": "code",
   "execution_count": null,
   "id": "d509ad81",
   "metadata": {},
   "outputs": [],
   "source": [
    "# umount vol_name      ## unmount the given volume"
   ]
  },
  {
   "cell_type": "code",
   "execution_count": null,
   "id": "4e5647a6",
   "metadata": {},
   "outputs": [],
   "source": []
  },
  {
   "cell_type": "code",
   "execution_count": null,
   "id": "291b996c",
   "metadata": {},
   "outputs": [],
   "source": [
    "# sudo apt-get/yum/dnf instal fuse-exfat exfat-utils"
   ]
  },
  {
   "cell_type": "code",
   "execution_count": null,
   "id": "4a39d3e0",
   "metadata": {},
   "outputs": [],
   "source": [
    "# sudo mkfs.exfat /path/vol"
   ]
  },
  {
   "cell_type": "code",
   "execution_count": 5,
   "id": "085c815b",
   "metadata": {},
   "outputs": [
    {
     "name": "stdout",
     "output_type": "stream",
     "text": [
      "Filesystem      Size   Used  Avail Capacity     iused      ifree %iused  Mounted on\n",
      "/dev/disk1s5   113Gi   10Gi   12Gi    47%      487458 1182355022    0%   /\n",
      "devfs          228Ki  228Ki    0Bi   100%         790          0  100%   /dev\n",
      "/dev/disk1s1   113Gi   86Gi   12Gi    88%     1530726 1181311754    0%   /System/Volumes/Data\n",
      "/dev/disk1s4   113Gi  3.0Gi   12Gi    21%           4 1182842476    0%   /private/var/vm\n",
      "map auto_home    0Bi    0Bi    0Bi   100%           0          0  100%   /System/Volumes/Data/home\n",
      "drivefs        113Gi  101Gi   11Gi    90% 18446744069414586209 4294967295 977052122320687744%   /Volumes/GoogleDrive\n"
     ]
    }
   ],
   "source": [
    "df -h"
   ]
  },
  {
   "cell_type": "code",
   "execution_count": 6,
   "id": "a12e58c6",
   "metadata": {},
   "outputs": [
    {
     "name": "stdout",
     "output_type": "stream",
     "text": [
      "Darwin\n"
     ]
    }
   ],
   "source": [
    "uname"
   ]
  }
 ],
 "metadata": {
  "kernelspec": {
   "display_name": "Bash",
   "language": "bash",
   "name": "bash"
  },
  "language_info": {
   "codemirror_mode": "shell",
   "file_extension": ".sh",
   "mimetype": "text/x-sh",
   "name": "bash"
  },
  "toc": {
   "base_numbering": 1,
   "nav_menu": {},
   "number_sections": false,
   "sideBar": true,
   "skip_h1_title": true,
   "title_cell": "Table of Contents",
   "title_sidebar": "Contents",
   "toc_cell": true,
   "toc_position": {},
   "toc_section_display": true,
   "toc_window_display": false
  }
 },
 "nbformat": 4,
 "nbformat_minor": 5
}
